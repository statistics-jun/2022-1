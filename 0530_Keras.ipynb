{
  "cells": [
    {
      "cell_type": "markdown",
      "metadata": {
        "id": "view-in-github",
        "colab_type": "text"
      },
      "source": [
        "<a href=\"https://colab.research.google.com/github/statistics-jun/2022-1-ESAA/blob/main/0530_Keras.ipynb\" target=\"_parent\"><img src=\"https://colab.research.google.com/assets/colab-badge.svg\" alt=\"Open In Colab\"/></a>"
      ]
    },
    {
      "cell_type": "markdown",
      "metadata": {
        "id": "jYysdyb-CaWM"
      },
      "source": [
        "# 기본 분류: 의류 이미지 분류"
      ]
    },
    {
      "cell_type": "markdown",
      "metadata": {
        "id": "FbVhjPpzn6BM"
      },
      "source": [
        "운동화나 셔츠 같은 옷 이미지를 분류하는 신경망 모델을 훈련\n",
        "\n",
        "* 텐서플로 모델을 만들고 훈련할 수 있는 고수준 API인 tf.keras를 사용"
      ]
    },
    {
      "cell_type": "code",
      "execution_count": 1,
      "metadata": {
        "execution": {
          "iopub.execute_input": "2021-10-09T00:37:03.209413Z",
          "iopub.status.busy": "2021-10-09T00:37:03.208893Z",
          "iopub.status.idle": "2021-10-09T00:37:04.729931Z",
          "shell.execute_reply": "2021-10-09T00:37:04.730297Z"
        },
        "id": "dzLKpmZICaWN",
        "colab": {
          "base_uri": "https://localhost:8080/"
        },
        "outputId": "9d4940f7-6529-4614-bb74-c28cb5f83db4"
      },
      "outputs": [
        {
          "output_type": "stream",
          "name": "stdout",
          "text": [
            "2.8.0\n"
          ]
        }
      ],
      "source": [
        "# TensorFlow and tf.keras\n",
        "import tensorflow as tf\n",
        "\n",
        "# Helper libraries\n",
        "import numpy as np\n",
        "import matplotlib.pyplot as plt\n",
        "\n",
        "print(tf.__version__)"
      ]
    },
    {
      "cell_type": "markdown",
      "metadata": {
        "id": "yR0EdgrLCaWR"
      },
      "source": [
        "## 패션 MNIST 데이터셋 임포트하기"
      ]
    },
    {
      "cell_type": "markdown",
      "metadata": {
        "id": "DLdCchMdCaWQ"
      },
      "source": [
        "* 10개의 범주(category)와 70,000개의 흑백 이미지로 구성된 패션 MNIST 데이터셋을 사용\n",
        "  - 이미지는 해상도(28x28 픽셀)가 낮은 개별 옷 품목\n"
      ]
    },
    {
      "cell_type": "markdown",
      "source": [
        "* 60,000개의 이미지를 사용하여 네트워크를 훈련하고 10,000개의 이미지를 사용하여 네트워크에서 이미지 분류를 학습한 정도를 평가"
      ],
      "metadata": {
        "id": "QfZelodxOkI3"
      }
    },
    {
      "cell_type": "markdown",
      "source": [
        "TensorFlow에서 직접 Fashion MNIST 데이터를 가져오고 로드"
      ],
      "metadata": {
        "id": "No064VdWO8Je"
      }
    },
    {
      "cell_type": "code",
      "execution_count": 2,
      "metadata": {
        "execution": {
          "iopub.execute_input": "2021-10-09T00:37:04.734895Z",
          "iopub.status.busy": "2021-10-09T00:37:04.734362Z",
          "iopub.status.idle": "2021-10-09T00:37:05.637249Z",
          "shell.execute_reply": "2021-10-09T00:37:05.636740Z"
        },
        "id": "7MqDQO0KCaWS",
        "colab": {
          "base_uri": "https://localhost:8080/"
        },
        "outputId": "b7179da9-ed34-48d0-e5f4-e4ec13773aeb"
      },
      "outputs": [
        {
          "output_type": "stream",
          "name": "stdout",
          "text": [
            "Downloading data from https://storage.googleapis.com/tensorflow/tf-keras-datasets/train-labels-idx1-ubyte.gz\n",
            "32768/29515 [=================================] - 0s 0us/step\n",
            "40960/29515 [=========================================] - 0s 0us/step\n",
            "Downloading data from https://storage.googleapis.com/tensorflow/tf-keras-datasets/train-images-idx3-ubyte.gz\n",
            "26427392/26421880 [==============================] - 0s 0us/step\n",
            "26435584/26421880 [==============================] - 0s 0us/step\n",
            "Downloading data from https://storage.googleapis.com/tensorflow/tf-keras-datasets/t10k-labels-idx1-ubyte.gz\n",
            "16384/5148 [===============================================================================================] - 0s 0us/step\n",
            "Downloading data from https://storage.googleapis.com/tensorflow/tf-keras-datasets/t10k-images-idx3-ubyte.gz\n",
            "4423680/4422102 [==============================] - 0s 0us/step\n",
            "4431872/4422102 [==============================] - 0s 0us/step\n"
          ]
        }
      ],
      "source": [
        "fashion_mnist = tf.keras.datasets.fashion_mnist\n",
        "\n",
        "(train_images, train_labels), (test_images, test_labels) = fashion_mnist.load_data()"
      ]
    },
    {
      "cell_type": "markdown",
      "metadata": {
        "id": "t9FDsUlxCaWW"
      },
      "source": [
        "> load_data() 함수를 호출하면 네 개의 넘파이(NumPy) 배열이 반환:\n",
        "  - `train_images`와 `train_labels` 배열은 모델 학습에 사용되는 *훈련 세트*\n",
        "  - `test_images`와 `test_labels` 배열은 모델 테스트에 사용되는 *테스트 세트*\n",
        "\n",
        "* 이미지는 28x28 크기의 넘파이 배열\n",
        "  - 픽셀 값은 0과 255 사이\n",
        "* *레이블*(label)은 0에서 9까지의 정수 배열\n",
        "  - 각 이미지는 하나의 레이블에 매핑\n",
        "  - 이미지에 있는 옷의 *클래스*(class):\n",
        "\n",
        "<table>\n",
        "  <tr>\n",
        "    <th>레이블</th>\n",
        "    <th>클래스</th>\n",
        "  </tr>\n",
        "  <tr>\n",
        "    <td>0</td>\n",
        "    <td>T-shirt/top</td>\n",
        "  </tr>\n",
        "  <tr>\n",
        "    <td>1</td>\n",
        "    <td>Trouser</td>\n",
        "  </tr>\n",
        "    <tr>\n",
        "    <td>2</td>\n",
        "    <td>Pullover</td>\n",
        "  </tr>\n",
        "    <tr>\n",
        "    <td>3</td>\n",
        "    <td>Dress</td>\n",
        "  </tr>\n",
        "    <tr>\n",
        "    <td>4</td>\n",
        "    <td>Coat</td>\n",
        "  </tr>\n",
        "    <tr>\n",
        "    <td>5</td>\n",
        "    <td>Sandal</td>\n",
        "  </tr>\n",
        "    <tr>\n",
        "    <td>6</td>\n",
        "    <td>Shirt</td>\n",
        "  </tr>\n",
        "    <tr>\n",
        "    <td>7</td>\n",
        "    <td>Sneaker</td>\n",
        "  </tr>\n",
        "    <tr>\n",
        "    <td>8</td>\n",
        "    <td>Bag</td>\n",
        "  </tr>\n",
        "    <tr>\n",
        "    <td>9</td>\n",
        "    <td>Ankle boot</td>\n",
        "  </tr>\n",
        "</table>"
      ]
    },
    {
      "cell_type": "markdown",
      "source": [
        "클래스 이름을 별도의 변수를 만들어 저장\n",
        "  - 데이터셋에 클래스 이름이 들어있지 않기 때문\n",
        "\n",
        "    -> 나중에 이미지를 출력할 때 사용"
      ],
      "metadata": {
        "id": "Ln_gJrCIP1WM"
      }
    },
    {
      "cell_type": "code",
      "execution_count": 3,
      "metadata": {
        "execution": {
          "iopub.execute_input": "2021-10-09T00:37:05.641741Z",
          "iopub.status.busy": "2021-10-09T00:37:05.641192Z",
          "iopub.status.idle": "2021-10-09T00:37:05.643058Z",
          "shell.execute_reply": "2021-10-09T00:37:05.642671Z"
        },
        "id": "IjnLH5S2CaWx"
      },
      "outputs": [],
      "source": [
        "class_names = ['T-shirt/top', 'Trouser', 'Pullover', 'Dress', 'Coat',\n",
        "               'Sandal', 'Shirt', 'Sneaker', 'Bag', 'Ankle boot']"
      ]
    },
    {
      "cell_type": "markdown",
      "metadata": {
        "id": "Brm0b_KACaWX"
      },
      "source": [
        "## 데이터 탐색\n",
        "\n",
        "데이터셋 구조 확인"
      ]
    },
    {
      "cell_type": "code",
      "execution_count": 4,
      "metadata": {
        "execution": {
          "iopub.execute_input": "2021-10-09T00:37:05.648800Z",
          "iopub.status.busy": "2021-10-09T00:37:05.648200Z",
          "iopub.status.idle": "2021-10-09T00:37:05.650659Z",
          "shell.execute_reply": "2021-10-09T00:37:05.651008Z"
        },
        "id": "zW5k_xz1CaWX",
        "colab": {
          "base_uri": "https://localhost:8080/"
        },
        "outputId": "022d4c46-091f-483b-b4de-77c4dbe4df51"
      },
      "outputs": [
        {
          "output_type": "execute_result",
          "data": {
            "text/plain": [
              "(60000, 28, 28)"
            ]
          },
          "metadata": {},
          "execution_count": 4
        }
      ],
      "source": [
        "train_images.shape"
      ]
    },
    {
      "cell_type": "markdown",
      "source": [
        "> 훈련 세트 : 60,000개의 이미지\n",
        "  - 각 이미지는 28x28 픽셀로 표현"
      ],
      "metadata": {
        "id": "UyholCh1QaT6"
      }
    },
    {
      "cell_type": "code",
      "execution_count": 5,
      "metadata": {
        "execution": {
          "iopub.execute_input": "2021-10-09T00:37:05.655028Z",
          "iopub.status.busy": "2021-10-09T00:37:05.654469Z",
          "iopub.status.idle": "2021-10-09T00:37:05.656993Z",
          "shell.execute_reply": "2021-10-09T00:37:05.657313Z"
        },
        "id": "TRFYHB2mCaWb",
        "colab": {
          "base_uri": "https://localhost:8080/"
        },
        "outputId": "366ffd71-a068-4287-8d75-205fcaa27eaa"
      },
      "outputs": [
        {
          "output_type": "execute_result",
          "data": {
            "text/plain": [
              "60000"
            ]
          },
          "metadata": {},
          "execution_count": 5
        }
      ],
      "source": [
        "len(train_labels)"
      ]
    },
    {
      "cell_type": "markdown",
      "metadata": {
        "id": "cIAcvQqMCaWf"
      },
      "source": [
        "> 훈련 세트 : 60,000개의 레이블"
      ]
    },
    {
      "cell_type": "code",
      "execution_count": 6,
      "metadata": {
        "execution": {
          "iopub.execute_input": "2021-10-09T00:37:05.661703Z",
          "iopub.status.busy": "2021-10-09T00:37:05.661122Z",
          "iopub.status.idle": "2021-10-09T00:37:05.664363Z",
          "shell.execute_reply": "2021-10-09T00:37:05.663970Z"
        },
        "id": "XKnCTHz4CaWg",
        "colab": {
          "base_uri": "https://localhost:8080/"
        },
        "outputId": "635142bd-ecbf-4d7a-a28c-3ddbaf7e618c"
      },
      "outputs": [
        {
          "output_type": "execute_result",
          "data": {
            "text/plain": [
              "array([9, 0, 0, ..., 3, 0, 5], dtype=uint8)"
            ]
          },
          "metadata": {},
          "execution_count": 6
        }
      ],
      "source": [
        "train_labels"
      ]
    },
    {
      "cell_type": "markdown",
      "metadata": {
        "id": "YSlYxFuRCaWk"
      },
      "source": [
        "> 각 레이블은 0과 9사이의 정수"
      ]
    },
    {
      "cell_type": "code",
      "execution_count": 7,
      "metadata": {
        "execution": {
          "iopub.execute_input": "2021-10-09T00:37:05.668323Z",
          "iopub.status.busy": "2021-10-09T00:37:05.667776Z",
          "iopub.status.idle": "2021-10-09T00:37:05.670735Z",
          "shell.execute_reply": "2021-10-09T00:37:05.671052Z"
        },
        "id": "2KFnYlcwCaWl",
        "colab": {
          "base_uri": "https://localhost:8080/"
        },
        "outputId": "5f8db1a7-ce90-4c94-badf-28d2cfb7b671"
      },
      "outputs": [
        {
          "output_type": "execute_result",
          "data": {
            "text/plain": [
              "(10000, 28, 28)"
            ]
          },
          "metadata": {},
          "execution_count": 7
        }
      ],
      "source": [
        "test_images.shape"
      ]
    },
    {
      "cell_type": "markdown",
      "metadata": {
        "id": "TMPI88iZpO2T"
      },
      "source": [
        "> 테스트 세트 : 10,000개의 이미지\n",
        "  - 이 이미지도 28x28 픽셀로 표현"
      ]
    },
    {
      "cell_type": "code",
      "execution_count": 8,
      "metadata": {
        "execution": {
          "iopub.execute_input": "2021-10-09T00:37:05.675035Z",
          "iopub.status.busy": "2021-10-09T00:37:05.674468Z",
          "iopub.status.idle": "2021-10-09T00:37:05.677824Z",
          "shell.execute_reply": "2021-10-09T00:37:05.677397Z"
        },
        "id": "iJmPr5-ACaWn",
        "colab": {
          "base_uri": "https://localhost:8080/"
        },
        "outputId": "dbe614c6-310f-40a8-d913-d4b9ddeeb95d"
      },
      "outputs": [
        {
          "output_type": "execute_result",
          "data": {
            "text/plain": [
              "10000"
            ]
          },
          "metadata": {},
          "execution_count": 8
        }
      ],
      "source": [
        "len(test_labels)"
      ]
    },
    {
      "cell_type": "markdown",
      "metadata": {
        "id": "rd0A0Iu0CaWq"
      },
      "source": [
        "> 테스트 세트 : 10,000개의 이미지에 대한 레이블"
      ]
    },
    {
      "cell_type": "markdown",
      "metadata": {
        "id": "ES6uQoLKCaWr"
      },
      "source": [
        "## 데이터 전처리"
      ]
    },
    {
      "cell_type": "markdown",
      "source": [
        "훈련 세트에 있는 첫 번째 이미지 확인\n",
        "  - 픽셀 값의 범위 : 0~255 사이"
      ],
      "metadata": {
        "id": "qcajzZzaRBQ9"
      }
    },
    {
      "cell_type": "code",
      "execution_count": 9,
      "metadata": {
        "execution": {
          "iopub.execute_input": "2021-10-09T00:37:05.720032Z",
          "iopub.status.busy": "2021-10-09T00:37:05.693493Z",
          "iopub.status.idle": "2021-10-09T00:37:05.850523Z",
          "shell.execute_reply": "2021-10-09T00:37:05.850130Z"
        },
        "id": "m4VEw8Ud9Quh",
        "colab": {
          "base_uri": "https://localhost:8080/",
          "height": 265
        },
        "outputId": "8962a3d7-9e8b-4cee-aeac-9ba4f58cbb32"
      },
      "outputs": [
        {
          "output_type": "display_data",
          "data": {
            "text/plain": [
              "<Figure size 432x288 with 2 Axes>"
            ],
            "image/png": "[encoded data removed]"
          },
          "metadata": {
            "needs_background": "light"
          }
        }
      ],
      "source": [
        "plt.figure()\n",
        "plt.imshow(train_images[0])\n",
        "plt.colorbar()\n",
        "plt.grid(False)\n",
        "plt.show()"
      ]
    },
    {
      "cell_type": "markdown",
      "metadata": {
        "id": "Wz7l27Lz9S1P"
      },
      "source": [
        "신경망 모델에 주입하기 전에 이 값의 범위를 0~1 사이로 조정\n",
        "  - 255로 나누어야 함\n",
        "  - *훈련 세트*와 *테스트 세트*를 동일한 방식으로 전처리하는 것이 중요"
      ]
    },
    {
      "cell_type": "code",
      "execution_count": 10,
      "metadata": {
        "execution": {
          "iopub.execute_input": "2021-10-09T00:37:05.854160Z",
          "iopub.status.busy": "2021-10-09T00:37:05.853630Z",
          "iopub.status.idle": "2021-10-09T00:37:05.998526Z",
          "shell.execute_reply": "2021-10-09T00:37:05.998008Z"
        },
        "id": "bW5WzIPlCaWv"
      },
      "outputs": [],
      "source": [
        "train_images = train_images / 255.0\n",
        "\n",
        "test_images = test_images / 255.0"
      ]
    },
    {
      "cell_type": "markdown",
      "metadata": {
        "id": "Ee638AlnCaWz"
      },
      "source": [
        "훈련 세트에서 처음 25개 이미지와 그 아래 클래스 이름을 출력"
      ]
    },
    {
      "cell_type": "code",
      "execution_count": 11,
      "metadata": {
        "execution": {
          "iopub.execute_input": "2021-10-09T00:37:06.077668Z",
          "iopub.status.busy": "2021-10-09T00:37:06.051526Z",
          "iopub.status.idle": "2021-10-09T00:37:06.852985Z",
          "shell.execute_reply": "2021-10-09T00:37:06.852546Z"
        },
        "id": "oZTImqg_CaW1",
        "colab": {
          "base_uri": "https://localhost:8080/",
          "height": 589
        },
        "outputId": "50394532-3e1e-48d3-fb98-1dd8101e00bc"
      },
      "outputs": [
        {
          "output_type": "display_data",
          "data": {
            "text/plain": [
              "<Figure size 720x720 with 25 Axes>"
            ],
            "image/png": "[encoded data removed]"
          },
          "metadata": {}
        }
      ],
      "source": [
        "plt.figure(figsize=(10,10))\n",
        "for i in range(25):\n",
        "    plt.subplot(5,5,i+1)\n",
        "    plt.xticks([])\n",
        "    plt.yticks([])\n",
        "    plt.grid(False)\n",
        "    plt.imshow(train_images[i], cmap=plt.cm.binary)\n",
        "    plt.xlabel(class_names[train_labels[i]])\n",
        "plt.show()"
      ]
    },
    {
      "cell_type": "markdown",
      "metadata": {
        "id": "59veuiEZCaW4"
      },
      "source": [
        "## 모델 구성\n",
        "\n",
        "신경망 모델을 만들려면 모델의 층을 구성한 다음 모델을 컴파일"
      ]
    },
    {
      "cell_type": "markdown",
      "metadata": {
        "id": "Gxg1XGm0eOBy"
      },
      "source": [
        "### 층 설정\n",
        "\n",
        "* 레이어 : 신경망의 기본 빌딩 블록\n",
        "  - 레이어에 공급된 데이터로부터 표현을 추출 -> 표현은 당면한 문제에 의미가 있어야 함\n",
        "\n",
        "* 대부분 딥러닝은 간단한 층을 연결하여 구성 : `tf.keras.layers.Dense`와 같은 층들의 가중치(parameter)는 훈련하는 동안 학습"
      ]
    },
    {
      "cell_type": "code",
      "execution_count": 12,
      "metadata": {
        "execution": {
          "iopub.execute_input": "2021-10-09T00:37:06.858821Z",
          "iopub.status.busy": "2021-10-09T00:37:06.857327Z",
          "iopub.status.idle": "2021-10-09T00:37:08.396243Z",
          "shell.execute_reply": "2021-10-09T00:37:08.396719Z"
        },
        "id": "9ODch-OFCaW4"
      },
      "outputs": [],
      "source": [
        "model = tf.keras.Sequential([\n",
        "    tf.keras.layers.Flatten(input_shape=(28, 28)),\n",
        "    tf.keras.layers.Dense(128, activation='relu'),\n",
        "    tf.keras.layers.Dense(10)\n",
        "])"
      ]
    },
    {
      "cell_type": "markdown",
      "metadata": {
        "id": "gut8A_7rCaW6"
      },
      "source": [
        "> 첫 번째 층 `tf.keras.layers.Flatten` : 2차원 배열(28 x 28 픽셀)의 이미지 포맷을 28 * 28 = 784 픽셀의 1차원 배열로 변환\n",
        "  - 이 층은 이미지에 있는 픽셀의 행을 펼쳐서 일렬로 늘림\n",
        "  - 이 층에는 학습되는 가중치가 없고 데이터를 변환하기만 함\n",
        ">\n",
        "> 픽셀을 펼친 후에는 두 개의 `tf.keras.layers.Dense` 층이 연속되어 연결\n",
        "  - 이 층을 밀집 연결(densely-connected) 또는 완전 연결(fully-connected) 층이라고 부름\n",
        "    - 첫 번째 `Dense` 층 : 128개의 노드(또는 뉴런)\n",
        "    - 두 번째 (마지막) 층 : 10개의 노드의 *소프트맥스*(softmax) 층\n",
        "      - 이 층은 10개의 확률을 반환하고 반환된 값의 전체 합은 1\n",
        "      - 각 노드는 현재 이미지가 10개 클래스 중 하나에 속할 확률을 출력\n",
        "\n",
        "### 모델 컴파일\n",
        "\n",
        "모델의 컴파일 단계에서 몇 가지 설정 추가\n",
        "\n",
        "- 손실 함수 : 훈련 중 모델이 얼마나 정확한지 측정, 모델을 올바른 방향으로 \"조정\"하려면 이 함수를 최소화해야 함\n",
        "- 옵티마이저 : 모델이 인식하는 데이터와 해당 손실 함수를 기반으로 모델이 업데이트되는 방식\n",
        "- 메트릭 : 훈련 및 테스트 단계를 모니터링하는 데 사용\n",
        "  - 다음 예에서는 올바르게 분류된 이미지의 비율인 *정확도*를 사용"
      ]
    },
    {
      "cell_type": "code",
      "execution_count": 13,
      "metadata": {
        "execution": {
          "iopub.execute_input": "2021-10-09T00:37:08.405187Z",
          "iopub.status.busy": "2021-10-09T00:37:08.404649Z",
          "iopub.status.idle": "2021-10-09T00:37:08.412602Z",
          "shell.execute_reply": "2021-10-09T00:37:08.412174Z"
        },
        "id": "Lhan11blCaW7"
      },
      "outputs": [],
      "source": [
        "model.compile(optimizer='adam',\n",
        "              loss=tf.keras.losses.SparseCategoricalCrossentropy(from_logits=True),\n",
        "              metrics=['accuracy'])"
      ]
    },
    {
      "cell_type": "markdown",
      "metadata": {
        "id": "qKF6uW-BCaW-"
      },
      "source": [
        "## 모델 훈련\n",
        "\n",
        "신경망 모델을 훈련하려면 다음 단계가 필요\n",
        "\n",
        "1. 훈련 데이터를 모델에 주입\n",
        "  - 이 예에서는 `train_images`와 `train_labels` 배열\n",
        "2. 모델이 이미지와 레이블을 매핑하는 방법을 학습\n",
        "3. 테스트 세트에 대한 모델의 예측을 생성\n",
        "  - 이 예에서는 `test_images` 배열 -> 이 예측이 `test_labels` 배열의 레이블과 맞는지 확인\n",
        "4. 예측이 `test_labels` 배열의 레이블과 일치하는지 확인\n"
      ]
    },
    {
      "cell_type": "markdown",
      "metadata": {
        "id": "Z4P4zIV7E28Z"
      },
      "source": [
        "### 모델 피드\n",
        "\n",
        "훈련을 시작하려면 `model.fit` 메서드를 호출"
      ]
    },
    {
      "cell_type": "code",
      "execution_count": 14,
      "metadata": {
        "execution": {
          "iopub.execute_input": "2021-10-09T00:37:08.416634Z",
          "iopub.status.busy": "2021-10-09T00:37:08.416057Z",
          "iopub.status.idle": "2021-10-09T00:37:35.643885Z",
          "shell.execute_reply": "2021-10-09T00:37:35.644240Z"
        },
        "id": "xvwvpA64CaW_",
        "colab": {
          "base_uri": "https://localhost:8080/"
        },
        "outputId": "ebe0b57f-25a8-472e-b4e9-1171f03981aa"
      },
      "outputs": [
        {
          "output_type": "stream",
          "name": "stdout",
          "text": [
            "Epoch 1/10\n",
            "1875/1875 [==============================] - 6s 3ms/step - loss: 0.4955 - accuracy: 0.8260\n",
            "Epoch 2/10\n",
            "1875/1875 [==============================] - 5s 3ms/step - loss: 0.3727 - accuracy: 0.8651\n",
            "Epoch 3/10\n",
            "1875/1875 [==============================] - 6s 3ms/step - loss: 0.3355 - accuracy: 0.8774\n",
            "Epoch 4/10\n",
            "1875/1875 [==============================] - 6s 3ms/step - loss: 0.3113 - accuracy: 0.8859\n",
            "Epoch 5/10\n",
            "1875/1875 [==============================] - 5s 3ms/step - loss: 0.2961 - accuracy: 0.8919\n",
            "Epoch 6/10\n",
            "1875/1875 [==============================] - 6s 3ms/step - loss: 0.2802 - accuracy: 0.8954\n",
            "Epoch 7/10\n",
            "1875/1875 [==============================] - 6s 3ms/step - loss: 0.2670 - accuracy: 0.8992\n",
            "Epoch 8/10\n",
            "1875/1875 [==============================] - 5s 3ms/step - loss: 0.2587 - accuracy: 0.9042\n",
            "Epoch 9/10\n",
            "1875/1875 [==============================] - 6s 3ms/step - loss: 0.2462 - accuracy: 0.9092\n",
            "Epoch 10/10\n",
            "1875/1875 [==============================] - 5s 3ms/step - loss: 0.2392 - accuracy: 0.9102\n"
          ]
        },
        {
          "output_type": "execute_result",
          "data": {
            "text/plain": [
              "<keras.callbacks.History at 0x7f4781f4c390>"
            ]
          },
          "metadata": {},
          "execution_count": 14
        }
      ],
      "source": [
        "model.fit(train_images, train_labels, epochs=10)"
      ]
    },
    {
      "cell_type": "markdown",
      "metadata": {
        "id": "W3ZVOhugCaXA"
      },
      "source": [
        "> 모델이 훈련되면서 손실과 정확도 지표가 출력\n",
        ">\n",
        "> 이 모델은 훈련 세트에서 약 0.91(91%) 정도의 정확도를 달성"
      ]
    },
    {
      "cell_type": "markdown",
      "metadata": {
        "id": "wCpr6DGyE28h"
      },
      "source": [
        "### 정확도 평가\n",
        "\n",
        "모델이 테스트 데이터세트에서 작동하는 방식을 비교"
      ]
    },
    {
      "cell_type": "code",
      "execution_count": 15,
      "metadata": {
        "execution": {
          "iopub.execute_input": "2021-10-09T00:37:35.648923Z",
          "iopub.status.busy": "2021-10-09T00:37:35.648296Z",
          "iopub.status.idle": "2021-10-09T00:37:36.162471Z",
          "shell.execute_reply": "2021-10-09T00:37:36.162831Z"
        },
        "id": "VflXLEeECaXC",
        "colab": {
          "base_uri": "https://localhost:8080/"
        },
        "outputId": "c09a829c-433e-4d88-c0d1-c57acaac5734"
      },
      "outputs": [
        {
          "output_type": "stream",
          "name": "stdout",
          "text": [
            "313/313 - 1s - loss: 0.3334 - accuracy: 0.8833 - 624ms/epoch - 2ms/step\n",
            "\n",
            "Test accuracy: 0.8833000063896179\n"
          ]
        }
      ],
      "source": [
        "test_loss, test_acc = model.evaluate(test_images,  test_labels, verbose=2)\n",
        "\n",
        "print('\\nTest accuracy:', test_acc)"
      ]
    },
    {
      "cell_type": "markdown",
      "metadata": {
        "id": "yWfgsmVXCaXG"
      },
      "source": [
        "> 테스트 세트의 정확도가 훈련 세트의 정확도보다 조금 낮음\n",
        "  - 훈련 세트의 정확도와 테스트 세트의 정확도 사이의 차이는 과대적합(overfitting) 때문\n",
        "    - 과대적합 : 머신러닝 모델이 훈련 데이터보다 새로운 데이터에서 성능이 낮아지는 현상"
      ]
    },
    {
      "cell_type": "markdown",
      "metadata": {
        "id": "v-PyD1SYE28q"
      },
      "source": [
        "### 예측하기\n",
        "\n",
        "훈련된 모델을 사용하여 일부 이미지에 대한 예측을 수행\n",
        "  - 모델의 선형 출력, 로짓. 소프트맥스 레이어를 연결하여 로짓을 해석하기 쉬운 확률로 변환"
      ]
    },
    {
      "cell_type": "code",
      "execution_count": 16,
      "metadata": {
        "execution": {
          "iopub.execute_input": "2021-10-09T00:37:36.167730Z",
          "iopub.status.busy": "2021-10-09T00:37:36.167212Z",
          "iopub.status.idle": "2021-10-09T00:37:36.180366Z",
          "shell.execute_reply": "2021-10-09T00:37:36.179971Z"
        },
        "id": "DnfNA0CrQLSD"
      },
      "outputs": [],
      "source": [
        "probability_model = tf.keras.Sequential([model, \n",
        "                                         tf.keras.layers.Softmax()])"
      ]
    },
    {
      "cell_type": "code",
      "execution_count": 17,
      "metadata": {
        "execution": {
          "iopub.execute_input": "2021-10-09T00:37:36.183891Z",
          "iopub.status.busy": "2021-10-09T00:37:36.183346Z",
          "iopub.status.idle": "2021-10-09T00:37:36.517176Z",
          "shell.execute_reply": "2021-10-09T00:37:36.517584Z"
        },
        "id": "Gl91RPhdCaXI"
      },
      "outputs": [],
      "source": [
        "predictions = probability_model.predict(test_images)"
      ]
    },
    {
      "cell_type": "markdown",
      "metadata": {
        "id": "x9Kk1voUCaXJ"
      },
      "source": [
        "테스트 세트에 있는 각 이미지의 레이블을 예측"
      ]
    },
    {
      "cell_type": "code",
      "execution_count": 18,
      "metadata": {
        "execution": {
          "iopub.execute_input": "2021-10-09T00:37:36.522707Z",
          "iopub.status.busy": "2021-10-09T00:37:36.521976Z",
          "iopub.status.idle": "2021-10-09T00:37:36.524636Z",
          "shell.execute_reply": "2021-10-09T00:37:36.524984Z"
        },
        "id": "3DmJEUinCaXK",
        "colab": {
          "base_uri": "https://localhost:8080/"
        },
        "outputId": "84448e07-8e02-4d96-ed03-08443bc60960"
      },
      "outputs": [
        {
          "output_type": "execute_result",
          "data": {
            "text/plain": [
              "array([1.3454675e-08, 8.9586685e-11, 3.1677869e-10, 1.3828218e-10,\n",
              "       3.1993011e-10, 6.2556722e-04, 2.4310257e-08, 1.2692926e-02,\n",
              "       3.3338534e-07, 9.8668110e-01], dtype=float32)"
            ]
          },
          "metadata": {},
          "execution_count": 18
        }
      ],
      "source": [
        "predictions[0] # 첫 번째 예측 확인"
      ]
    },
    {
      "cell_type": "markdown",
      "metadata": {
        "id": "-hw1hgeSCaXN"
      },
      "source": [
        "> 이 예측은 10개의 숫자 배열\n",
        ">\n",
        "> 이 값은 10개의 옷 품목에 상응하는 모델의 신뢰도(confidence)를 나타냄"
      ]
    },
    {
      "cell_type": "markdown",
      "source": [
        "첫 번째 예측에서 가장 높은 신뢰도를 가진 레이블 확인"
      ],
      "metadata": {
        "id": "vmnEyTyaVgck"
      }
    },
    {
      "cell_type": "code",
      "execution_count": 19,
      "metadata": {
        "execution": {
          "iopub.execute_input": "2021-10-09T00:37:36.529353Z",
          "iopub.status.busy": "2021-10-09T00:37:36.528635Z",
          "iopub.status.idle": "2021-10-09T00:37:36.531474Z",
          "shell.execute_reply": "2021-10-09T00:37:36.530989Z"
        },
        "id": "qsqenuPnCaXO",
        "colab": {
          "base_uri": "https://localhost:8080/"
        },
        "outputId": "cf33d0a0-1dd1-42b4-a65c-929363c612d9"
      },
      "outputs": [
        {
          "output_type": "execute_result",
          "data": {
            "text/plain": [
              "9"
            ]
          },
          "metadata": {},
          "execution_count": 19
        }
      ],
      "source": [
        "np.argmax(predictions[0])"
      ]
    },
    {
      "cell_type": "markdown",
      "metadata": {
        "id": "E51yS7iCCaXO"
      },
      "source": [
        "> 모델은 이 이미지가 앵클 부츠(`class_name[9]`)라고 가장 확신"
      ]
    },
    {
      "cell_type": "markdown",
      "source": [
        "테스트 레이블 확인"
      ],
      "metadata": {
        "id": "QyThPWuRWFvO"
      }
    },
    {
      "cell_type": "code",
      "execution_count": 20,
      "metadata": {
        "execution": {
          "iopub.execute_input": "2021-10-09T00:37:36.535822Z",
          "iopub.status.busy": "2021-10-09T00:37:36.535087Z",
          "iopub.status.idle": "2021-10-09T00:37:36.537594Z",
          "shell.execute_reply": "2021-10-09T00:37:36.537953Z"
        },
        "id": "Sd7Pgsu6CaXP",
        "colab": {
          "base_uri": "https://localhost:8080/"
        },
        "outputId": "09b76ec4-ae56-4914-fa3d-bfb33705725d"
      },
      "outputs": [
        {
          "output_type": "execute_result",
          "data": {
            "text/plain": [
              "9"
            ]
          },
          "metadata": {},
          "execution_count": 20
        }
      ],
      "source": [
        "test_labels[0]"
      ]
    },
    {
      "cell_type": "markdown",
      "metadata": {
        "id": "ygh2yYC972ne"
      },
      "source": [
        "10개 클래스에 대한 예측을 모두 그래프로 표현"
      ]
    },
    {
      "cell_type": "code",
      "execution_count": 21,
      "metadata": {
        "execution": {
          "iopub.execute_input": "2021-10-09T00:37:36.544429Z",
          "iopub.status.busy": "2021-10-09T00:37:36.543805Z",
          "iopub.status.idle": "2021-10-09T00:37:36.546023Z",
          "shell.execute_reply": "2021-10-09T00:37:36.545602Z"
        },
        "id": "DvYmmrpIy6Y1"
      },
      "outputs": [],
      "source": [
        "def plot_image(i, predictions_array, true_label, img):\n",
        "  true_label, img = true_label[i], img[i]\n",
        "  plt.grid(False)\n",
        "  plt.xticks([])\n",
        "  plt.yticks([])\n",
        "\n",
        "  plt.imshow(img, cmap=plt.cm.binary)\n",
        "\n",
        "  predicted_label = np.argmax(predictions_array)\n",
        "  if predicted_label == true_label:\n",
        "    color = 'blue'\n",
        "  else:\n",
        "    color = 'red'\n",
        "\n",
        "  plt.xlabel(\"{} {:2.0f}% ({})\".format(class_names[predicted_label],\n",
        "                                100*np.max(predictions_array),\n",
        "                                class_names[true_label]),\n",
        "                                color=color)\n",
        "\n",
        "def plot_value_array(i, predictions_array, true_label):\n",
        "  true_label = true_label[i]\n",
        "  plt.grid(False)\n",
        "  plt.xticks(range(10))\n",
        "  plt.yticks([])\n",
        "  thisplot = plt.bar(range(10), predictions_array, color=\"#777777\")\n",
        "  plt.ylim([0, 1])\n",
        "  predicted_label = np.argmax(predictions_array)\n",
        "\n",
        "  thisplot[predicted_label].set_color('red')\n",
        "  thisplot[true_label].set_color('blue')"
      ]
    },
    {
      "cell_type": "markdown",
      "metadata": {
        "id": "Zh9yABaME29S"
      },
      "source": [
        "### 예측 확인\n",
        "\n",
        "훈련된 모델을 사용하여 일부 이미지에 대한 예측을 수행"
      ]
    },
    {
      "cell_type": "markdown",
      "metadata": {
        "id": "d4Ov9OFDMmOD"
      },
      "source": [
        "0번째 원소의 이미지, 예측, 신뢰도 점수 배열을 확인"
      ]
    },
    {
      "cell_type": "code",
      "execution_count": 22,
      "metadata": {
        "execution": {
          "iopub.execute_input": "2021-10-09T00:37:36.566345Z",
          "iopub.status.busy": "2021-10-09T00:37:36.565751Z",
          "iopub.status.idle": "2021-10-09T00:37:36.658377Z",
          "shell.execute_reply": "2021-10-09T00:37:36.657973Z"
        },
        "id": "HV5jw-5HwSmO",
        "colab": {
          "base_uri": "https://localhost:8080/",
          "height": 211
        },
        "outputId": "5044b6c2-8359-4add-f4b4-3c4dc6cc968c"
      },
      "outputs": [
        {
          "output_type": "display_data",
          "data": {
            "text/plain": [
              "<Figure size 432x216 with 2 Axes>"
            ],
            "image/png": "[encoded data removed]"
          },
          "metadata": {
            "needs_background": "light"
          }
        }
      ],
      "source": [
        "i = 0\n",
        "plt.figure(figsize=(6,3))\n",
        "plt.subplot(1,2,1)\n",
        "plot_image(i, predictions[i], test_labels, test_images)\n",
        "plt.subplot(1,2,2)\n",
        "plot_value_array(i, predictions[i],  test_labels)\n",
        "plt.show()"
      ]
    },
    {
      "cell_type": "markdown",
      "metadata": {
        "id": "7l2X0yp0WkFw"
      },
      "source": [
        "12번째 원소의 이미지, 예측, 신뢰도 점수 배열을 확인"
      ]
    },
    {
      "cell_type": "code",
      "execution_count": 23,
      "metadata": {
        "execution": {
          "iopub.execute_input": "2021-10-09T00:37:36.678220Z",
          "iopub.status.busy": "2021-10-09T00:37:36.673370Z",
          "iopub.status.idle": "2021-10-09T00:37:36.768534Z",
          "shell.execute_reply": "2021-10-09T00:37:36.768941Z"
        },
        "id": "Ko-uzOufSCSe",
        "colab": {
          "base_uri": "https://localhost:8080/",
          "height": 211
        },
        "outputId": "7c7055cb-a638-428a-e74c-96b286e6b7ea"
      },
      "outputs": [
        {
          "output_type": "display_data",
          "data": {
            "text/plain": [
              "<Figure size 432x216 with 2 Axes>"
            ],
            "image/png": "[encoded data removed]"
          },
          "metadata": {
            "needs_background": "light"
          }
        }
      ],
      "source": [
        "i = 12\n",
        "plt.figure(figsize=(6,3))\n",
        "plt.subplot(1,2,1)\n",
        "plot_image(i, predictions[i], test_labels, test_images)\n",
        "plt.subplot(1,2,2)\n",
        "plot_value_array(i, predictions[i],  test_labels)\n",
        "plt.show()"
      ]
    },
    {
      "cell_type": "markdown",
      "metadata": {
        "id": "kgdvGD52CaXR"
      },
      "source": [
        "몇 개의 이미지의 예측을 출력\n",
        "  - 올바르게 예측된 레이블은 파란색, 잘못 예측된 레이블은 빨간색\n",
        "  - 숫자는 예측 레이블의 신뢰도 퍼센트(100점 만점)\n",
        "  - 신뢰도 점수가 높을 때도 잘못 예측할 수 있음"
      ]
    },
    {
      "cell_type": "code",
      "execution_count": 24,
      "metadata": {
        "execution": {
          "iopub.execute_input": "2021-10-09T00:37:36.818460Z",
          "iopub.status.busy": "2021-10-09T00:37:36.803865Z",
          "iopub.status.idle": "2021-10-09T00:37:38.507593Z",
          "shell.execute_reply": "2021-10-09T00:37:38.507977Z"
        },
        "id": "hQlnbqaw2Qu_",
        "colab": {
          "base_uri": "https://localhost:8080/",
          "height": 628
        },
        "outputId": "8a544cd0-02c0-4ecf-fc19-d39158740ccf"
      },
      "outputs": [
        {
          "output_type": "display_data",
          "data": {
            "text/plain": [
              "<Figure size 864x720 with 30 Axes>"
            ],
            "image/png": "[encoded data removed]"
          },
          "metadata": {
            "needs_background": "light"
          }
        }
      ],
      "source": [
        "# Plot the first X test images, their predicted labels, and the true labels.\n",
        "# Color correct predictions in blue and incorrect predictions in red.\n",
        "num_rows = 5\n",
        "num_cols = 3\n",
        "num_images = num_rows*num_cols\n",
        "plt.figure(figsize=(2*2*num_cols, 2*num_rows))\n",
        "for i in range(num_images):\n",
        "  plt.subplot(num_rows, 2*num_cols, 2*i+1)\n",
        "  plot_image(i, predictions[i], test_labels, test_images)\n",
        "  plt.subplot(num_rows, 2*num_cols, 2*i+2)\n",
        "  plot_value_array(i, predictions[i], test_labels)\n",
        "plt.tight_layout()\n",
        "plt.show()"
      ]
    },
    {
      "cell_type": "markdown",
      "metadata": {
        "id": "R32zteKHCaXT"
      },
      "source": [
        "## 훈련된 모델 사용하기\n",
        "\n",
        "훈련된 모델을 사용하여 한 이미지에 대한 예측 생성"
      ]
    },
    {
      "cell_type": "code",
      "execution_count": 25,
      "metadata": {
        "execution": {
          "iopub.execute_input": "2021-10-09T00:37:38.512157Z",
          "iopub.status.busy": "2021-10-09T00:37:38.511582Z",
          "iopub.status.idle": "2021-10-09T00:37:38.513998Z",
          "shell.execute_reply": "2021-10-09T00:37:38.513554Z"
        },
        "id": "yRJ7JU7JCaXT",
        "colab": {
          "base_uri": "https://localhost:8080/"
        },
        "outputId": "a4e96db5-6234-4309-c21c-2e1d7871434d"
      },
      "outputs": [
        {
          "output_type": "stream",
          "name": "stdout",
          "text": [
            "(28, 28)\n"
          ]
        }
      ],
      "source": [
        "# Grab an image from the test dataset.\n",
        "img = test_images[1]\n",
        "\n",
        "print(img.shape)"
      ]
    },
    {
      "cell_type": "markdown",
      "metadata": {
        "id": "vz3bVp21CaXV"
      },
      "source": [
        "* `tf.keras` 모델은 한 번에 샘플의 묶음 또는 배치(batch)로 예측을 만드는데 최적화\n",
        "  \n",
        "  -> 하나의 이미지를 사용할 때에도 2차원 배열로 만들어야 함"
      ]
    },
    {
      "cell_type": "code",
      "execution_count": 26,
      "metadata": {
        "execution": {
          "iopub.execute_input": "2021-10-09T00:37:38.517877Z",
          "iopub.status.busy": "2021-10-09T00:37:38.517310Z",
          "iopub.status.idle": "2021-10-09T00:37:38.519150Z",
          "shell.execute_reply": "2021-10-09T00:37:38.519501Z"
        },
        "id": "lDFh5yF_CaXW",
        "colab": {
          "base_uri": "https://localhost:8080/"
        },
        "outputId": "eec14767-539a-4bbf-cce0-3ca42c46d7c2"
      },
      "outputs": [
        {
          "output_type": "stream",
          "name": "stdout",
          "text": [
            "(1, 28, 28)\n"
          ]
        }
      ],
      "source": [
        "# Add the image to a batch where it's the only member.\n",
        "img = (np.expand_dims(img,0))\n",
        "\n",
        "print(img.shape)"
      ]
    },
    {
      "cell_type": "markdown",
      "metadata": {
        "id": "EQ5wLTkcCaXY"
      },
      "source": [
        "이미지의 예측 생성"
      ]
    },
    {
      "cell_type": "code",
      "execution_count": 27,
      "metadata": {
        "execution": {
          "iopub.execute_input": "2021-10-09T00:37:38.523771Z",
          "iopub.status.busy": "2021-10-09T00:37:38.523232Z",
          "iopub.status.idle": "2021-10-09T00:37:38.556846Z",
          "shell.execute_reply": "2021-10-09T00:37:38.556341Z"
        },
        "id": "o_rzNSdrCaXY",
        "colab": {
          "base_uri": "https://localhost:8080/"
        },
        "outputId": "c4f0e1a4-b899-4a6e-f312-49870a85ecc4"
      },
      "outputs": [
        {
          "output_type": "stream",
          "name": "stdout",
          "text": [
            "[[1.8049257e-05 1.8911585e-12 9.9926800e-01 1.3303039e-09 2.6308803e-04\n",
            "  1.4001417e-10 4.5092645e-04 4.6139780e-16 8.9712273e-09 5.6707681e-12]]\n"
          ]
        }
      ],
      "source": [
        "predictions_single = probability_model.predict(img)\n",
        "\n",
        "print(predictions_single)"
      ]
    },
    {
      "cell_type": "code",
      "execution_count": 28,
      "metadata": {
        "execution": {
          "iopub.execute_input": "2021-10-09T00:37:38.597375Z",
          "iopub.status.busy": "2021-10-09T00:37:38.596804Z",
          "iopub.status.idle": "2021-10-09T00:37:38.650107Z",
          "shell.execute_reply": "2021-10-09T00:37:38.649667Z"
        },
        "id": "6Ai-cpLjO-3A",
        "colab": {
          "base_uri": "https://localhost:8080/",
          "height": 300
        },
        "outputId": "646fa5c1-c7b3-49ad-b45a-ca00dbd4bc7d"
      },
      "outputs": [
        {
          "output_type": "display_data",
          "data": {
            "text/plain": [
              "<Figure size 432x288 with 1 Axes>"
            ],
            "image/png": "[encoded data removed]"
          },
          "metadata": {
            "needs_background": "light"
          }
        }
      ],
      "source": [
        "plot_value_array(1, predictions_single[0], test_labels)\n",
        "_ = plt.xticks(range(10), class_names, rotation=45)\n",
        "plt.show()"
      ]
    },
    {
      "cell_type": "markdown",
      "metadata": {
        "id": "cU1Y2OAMCaXb"
      },
      "source": [
        "* `tf.keras.Model.predict`는 데이터 배치의 각 이미지에 대해 하나의 목록을 반환\n",
        "  - 배치에서 (유일한) 이미지에 대한 예측을 가져옴"
      ]
    },
    {
      "cell_type": "code",
      "execution_count": 29,
      "metadata": {
        "execution": {
          "iopub.execute_input": "2021-10-09T00:37:38.654503Z",
          "iopub.status.busy": "2021-10-09T00:37:38.653890Z",
          "iopub.status.idle": "2021-10-09T00:37:38.656449Z",
          "shell.execute_reply": "2021-10-09T00:37:38.656801Z"
        },
        "id": "2tRmdq_8CaXb",
        "colab": {
          "base_uri": "https://localhost:8080/"
        },
        "outputId": "ee63a4c0-58aa-46ad-c09c-0c2d4f2271cc"
      },
      "outputs": [
        {
          "output_type": "execute_result",
          "data": {
            "text/plain": [
              "2"
            ]
          },
          "metadata": {},
          "execution_count": 29
        }
      ],
      "source": [
        "np.argmax(predictions_single[0])"
      ]
    },
    {
      "cell_type": "markdown",
      "metadata": {
        "id": "YFc2HbEVCaXd"
      },
      "source": [
        "> 예상과 같이 모델이 레이블을 예측"
      ]
    }
  ],
  "metadata": {
    "colab": {
      "collapsed_sections": [],
      "name": "0530_Keras.ipynb",
      "provenance": [],
      "include_colab_link": true
    },
    "kernelspec": {
      "display_name": "Python 3",
      "name": "python3"
    },
    "language_info": {
      "codemirror_mode": {
        "name": "ipython",
        "version": 3
      },
      "file_extension": ".py",
      "mimetype": "text/x-python",
      "name": "python",
      "nbconvert_exporter": "python",
      "pygments_lexer": "ipython3",
      "version": "3.7.5"
    }
  },
  "nbformat": 4,
  "nbformat_minor": 0
}