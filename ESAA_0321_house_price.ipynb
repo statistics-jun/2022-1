{
  "nbformat": 4,
  "nbformat_minor": 0,
  "metadata": {
    "colab": {
      "name": "ESAA_0321_house_price.ipynb",
      "provenance": [],
      "collapsed_sections": [],
      "mount_file_id": "1iiWzpEM3OZQs7imvlsDiJ8FfhHdsN2I7",
      "authorship_tag": "ABX9TyPQv0sqXQ3FwNgY5jKB0nFM",
      "include_colab_link": true
    },
    "kernelspec": {
      "name": "python3",
      "display_name": "Python 3"
    },
    "language_info": {
      "name": "python"
    }
  },
  "cells": [
    {
      "cell_type": "markdown",
      "metadata": {
        "id": "view-in-github",
        "colab_type": "text"
      },
      "source": [
        "<a href=\"https://colab.research.google.com/github/statistics-jun/2022-1-ESAA/blob/main/ESAA_0321_house_price.ipynb\" target=\"_parent\"><img src=\"https://colab.research.google.com/assets/colab-badge.svg\" alt=\"Open In Colab\"/></a>"
      ]
    },
    {
      "cell_type": "markdown",
      "source": [
        "# 2022-1 ESAA 5기 김혜준 실습 필사 - 0321(월) 3주차 과제\n",
        "## Stacked Regressions : Top 4% on LeaderBoard\n",
        "House Prices - Advanced Regression Techniques"
      ],
      "metadata": {
        "id": "kylFe1EK8I5B"
      }
    },
    {
      "cell_type": "markdown",
      "source": [
        "### Stacked Regressions to predict House Prices"
      ],
      "metadata": {
        "id": "eg6CJfTHehWy"
      }
    },
    {
      "cell_type": "code",
      "source": [
        "# import some necessary libraries\n",
        "\n",
        "import numpy as np # linear algebra\n",
        "import pandas as pd # data processing, CSV file I/O (e.g. pd.read_csv)\n",
        "%matplotlib inline\n",
        "import matplotlib.pyplot as plt # Matlab-style plotting\n",
        "import seaborn as sns\n",
        "color = sns.color_palette()\n",
        "sns.set_style('darkgrid')\n",
        "import warnings\n",
        "def ignore_warn(*args, **kwargs):\n",
        "  pass\n",
        "warnings.warn = ignore_warn # ignore annoying warning (from sklearn and seaborn)\n",
        "\n",
        "from scipy import stats\n",
        "from scipy.stats import norm, skew # for some statistics\n",
        "\n",
        "pd.set_option('display.float_format', lambda x: '{:.3f}'.format(x)) # Limiting floats output to 3 decimal points\n",
        "\n",
        "from subprocess import check_output\n",
        "print(check_output([\"ls\", \"/content/drive/MyDrive/ESAA/2022-1/과제/실습 필사/0321(월) 3주차 과제\"]).decode(\"utf8\")) # check the files available in the directory"
      ],
      "metadata": {
        "colab": {
          "base_uri": "https://localhost:8080/"
        },
        "id": "Dmv-k1Vnedr_",
        "outputId": "d2877293-fa79-4e48-828b-ea289f005fa2"
      },
      "execution_count": 1,
      "outputs": [
        {
          "output_type": "stream",
          "name": "stdout",
          "text": [
            "data_description.txt\n",
            "ESAA_0321_house_price.ipynb\n",
            "sample_submission.csv\n",
            "test.csv\n",
            "train.csv\n",
            "\n"
          ]
        }
      ]
    },
    {
      "cell_type": "code",
      "source": [
        "# Now let's import and put the train and test datasets in pandas dataframe\n",
        "train = pd.read_csv('/content/drive/MyDrive/ESAA/2022-1/과제/실습 필사/0321(월) 3주차 과제/train.csv')\n",
        "test = pd.read_csv('/content/drive/MyDrive/ESAA/2022-1/과제/실습 필사/0321(월) 3주차 과제/test.csv')"
      ],
      "metadata": {
        "id": "Wg-54k5rgQBv"
      },
      "execution_count": 2,
      "outputs": []
    },
    {
      "cell_type": "code",
      "source": [
        "## display the first five rows of the train dataset\n",
        "train.head(5)"
      ],
      "metadata": {
        "colab": {
          "base_uri": "https://localhost:8080/",
          "height": 299
        },
        "id": "tn5KYEtTisOW",
        "outputId": "8df86e1d-ceda-4ef9-872e-d926784af5e5"
      },
      "execution_count": 3,
      "outputs": [
        {
          "output_type": "execute_result",
          "data": {
            "text/plain": [
              "   Id  MSSubClass MSZoning  LotFrontage  LotArea Street Alley LotShape  \\\n",
              "0   1          60       RL       65.000     8450   Pave   NaN      Reg   \n",
              "1   2          20       RL       80.000     9600   Pave   NaN      Reg   \n",
              "2   3          60       RL       68.000    11250   Pave   NaN      IR1   \n",
              "3   4          70       RL       60.000     9550   Pave   NaN      IR1   \n",
              "4   5          60       RL       84.000    14260   Pave   NaN      IR1   \n",
              "\n",
              "  LandContour Utilities  ... PoolArea PoolQC Fence MiscFeature MiscVal MoSold  \\\n",
              "0         Lvl    AllPub  ...        0    NaN   NaN         NaN       0      2   \n",
              "1         Lvl    AllPub  ...        0    NaN   NaN         NaN       0      5   \n",
              "2         Lvl    AllPub  ...        0    NaN   NaN         NaN       0      9   \n",
              "3         Lvl    AllPub  ...        0    NaN   NaN         NaN       0      2   \n",
              "4         Lvl    AllPub  ...        0    NaN   NaN         NaN       0     12   \n",
              "\n",
              "  YrSold  SaleType  SaleCondition  SalePrice  \n",
              "0   2008        WD         Normal     208500  \n",
              "1   2007        WD         Normal     181500  \n",
              "2   2008        WD         Normal     223500  \n",
              "3   2006        WD        Abnorml     140000  \n",
              "4   2008        WD         Normal     250000  \n",
              "\n",
              "[5 rows x 81 columns]"
            ],
            "text/html": [
              "\n",
              "  <div id=\"df-0a5a3ca6-cf0a-4b9e-a253-1ad9f18b2f31\">\n",
              "    <div class=\"colab-df-container\">\n",
              "      <div>\n",
              "<style scoped>\n",
              "    .dataframe tbody tr th:only-of-type {\n",
              "        vertical-align: middle;\n",
              "    }\n",
              "\n",
              "    .dataframe tbody tr th {\n",
              "        vertical-align: top;\n",
              "    }\n",
              "\n",
              "    .dataframe thead th {\n",
              "        text-align: right;\n",
              "    }\n",
              "</style>\n",
              "<table border=\"1\" class=\"dataframe\">\n",
              "  <thead>\n",
              "    <tr style=\"text-align: right;\">\n",
              "      <th></th>\n",
              "      <th>Id</th>\n",
              "      <th>MSSubClass</th>\n",
              "      <th>MSZoning</th>\n",
              "      <th>LotFrontage</th>\n",
              "      <th>LotArea</th>\n",
              "      <th>Street</th>\n",
              "      <th>Alley</th>\n",
              "      <th>LotShape</th>\n",
              "      <th>LandContour</th>\n",
              "      <th>Utilities</th>\n",
              "      <th>...</th>\n",
              "      <th>PoolArea</th>\n",
              "      <th>PoolQC</th>\n",
              "      <th>Fence</th>\n",
              "      <th>MiscFeature</th>\n",
              "      <th>MiscVal</th>\n",
              "      <th>MoSold</th>\n",
              "      <th>YrSold</th>\n",
              "      <th>SaleType</th>\n",
              "      <th>SaleCondition</th>\n",
              "      <th>SalePrice</th>\n",
              "    </tr>\n",
              "  </thead>\n",
              "  <tbody>\n",
              "    <tr>\n",
              "      <th>0</th>\n",
              "      <td>1</td>\n",
              "      <td>60</td>\n",
              "      <td>RL</td>\n",
              "      <td>65.000</td>\n",
              "      <td>8450</td>\n",
              "      <td>Pave</td>\n",
              "      <td>NaN</td>\n",
              "      <td>Reg</td>\n",
              "      <td>Lvl</td>\n",
              "      <td>AllPub</td>\n",
              "      <td>...</td>\n",
              "      <td>0</td>\n",
              "      <td>NaN</td>\n",
              "      <td>NaN</td>\n",
              "      <td>NaN</td>\n",
              "      <td>0</td>\n",
              "      <td>2</td>\n",
              "      <td>2008</td>\n",
              "      <td>WD</td>\n",
              "      <td>Normal</td>\n",
              "      <td>208500</td>\n",
              "    </tr>\n",
              "    <tr>\n",
              "      <th>1</th>\n",
              "      <td>2</td>\n",
              "      <td>20</td>\n",
              "      <td>RL</td>\n",
              "      <td>80.000</td>\n",
              "      <td>9600</td>\n",
              "      <td>Pave</td>\n",
              "      <td>NaN</td>\n",
              "      <td>Reg</td>\n",
              "      <td>Lvl</td>\n",
              "      <td>AllPub</td>\n",
              "      <td>...</td>\n",
              "      <td>0</td>\n",
              "      <td>NaN</td>\n",
              "      <td>NaN</td>\n",
              "      <td>NaN</td>\n",
              "      <td>0</td>\n",
              "      <td>5</td>\n",
              "      <td>2007</td>\n",
              "      <td>WD</td>\n",
              "      <td>Normal</td>\n",
              "      <td>181500</td>\n",
              "    </tr>\n",
              "    <tr>\n",
              "      <th>2</th>\n",
              "      <td>3</td>\n",
              "      <td>60</td>\n",
              "      <td>RL</td>\n",
              "      <td>68.000</td>\n",
              "      <td>11250</td>\n",
              "      <td>Pave</td>\n",
              "      <td>NaN</td>\n",
              "      <td>IR1</td>\n",
              "      <td>Lvl</td>\n",
              "      <td>AllPub</td>\n",
              "      <td>...</td>\n",
              "      <td>0</td>\n",
              "      <td>NaN</td>\n",
              "      <td>NaN</td>\n",
              "      <td>NaN</td>\n",
              "      <td>0</td>\n",
              "      <td>9</td>\n",
              "      <td>2008</td>\n",
              "      <td>WD</td>\n",
              "      <td>Normal</td>\n",
              "      <td>223500</td>\n",
              "    </tr>\n",
              "    <tr>\n",
              "      <th>3</th>\n",
              "      <td>4</td>\n",
              "      <td>70</td>\n",
              "      <td>RL</td>\n",
              "      <td>60.000</td>\n",
              "      <td>9550</td>\n",
              "      <td>Pave</td>\n",
              "      <td>NaN</td>\n",
              "      <td>IR1</td>\n",
              "      <td>Lvl</td>\n",
              "      <td>AllPub</td>\n",
              "      <td>...</td>\n",
              "      <td>0</td>\n",
              "      <td>NaN</td>\n",
              "      <td>NaN</td>\n",
              "      <td>NaN</td>\n",
              "      <td>0</td>\n",
              "      <td>2</td>\n",
              "      <td>2006</td>\n",
              "      <td>WD</td>\n",
              "      <td>Abnorml</td>\n",
              "      <td>140000</td>\n",
              "    </tr>\n",
              "    <tr>\n",
              "      <th>4</th>\n",
              "      <td>5</td>\n",
              "      <td>60</td>\n",
              "      <td>RL</td>\n",
              "      <td>84.000</td>\n",
              "      <td>14260</td>\n",
              "      <td>Pave</td>\n",
              "      <td>NaN</td>\n",
              "      <td>IR1</td>\n",
              "      <td>Lvl</td>\n",
              "      <td>AllPub</td>\n",
              "      <td>...</td>\n",
              "      <td>0</td>\n",
              "      <td>NaN</td>\n",
              "      <td>NaN</td>\n",
              "      <td>NaN</td>\n",
              "      <td>0</td>\n",
              "      <td>12</td>\n",
              "      <td>2008</td>\n",
              "      <td>WD</td>\n",
              "      <td>Normal</td>\n",
              "      <td>250000</td>\n",
              "    </tr>\n",
              "  </tbody>\n",
              "</table>\n",
              "<p>5 rows × 81 columns</p>\n",
              "</div>\n",
              "      <button class=\"colab-df-convert\" onclick=\"convertToInteractive('df-0a5a3ca6-cf0a-4b9e-a253-1ad9f18b2f31')\"\n",
              "              title=\"Convert this dataframe to an interactive table.\"\n",
              "              style=\"display:none;\">\n",
              "        \n",
              "  <svg xmlns=\"http://www.w3.org/2000/svg\" height=\"24px\"viewBox=\"0 0 24 24\"\n",
              "       width=\"24px\">\n",
              "    <path d=\"M0 0h24v24H0V0z\" fill=\"none\"/>\n",
              "    <path d=\"M18.56 5.44l.94 2.06.94-2.06 2.06-.94-2.06-.94-.94-2.06-.94 2.06-2.06.94zm-11 1L8.5 8.5l.94-2.06 2.06-.94-2.06-.94L8.5 2.5l-.94 2.06-2.06.94zm10 10l.94 2.06.94-2.06 2.06-.94-2.06-.94-.94-2.06-.94 2.06-2.06.94z\"/><path d=\"M17.41 7.96l-1.37-1.37c-.4-.4-.92-.59-1.43-.59-.52 0-1.04.2-1.43.59L10.3 9.45l-7.72 7.72c-.78.78-.78 2.05 0 2.83L4 21.41c.39.39.9.59 1.41.59.51 0 1.02-.2 1.41-.59l7.78-7.78 2.81-2.81c.8-.78.8-2.07 0-2.86zM5.41 20L4 18.59l7.72-7.72 1.47 1.35L5.41 20z\"/>\n",
              "  </svg>\n",
              "      </button>\n",
              "      \n",
              "  <style>\n",
              "    .colab-df-container {\n",
              "      display:flex;\n",
              "      flex-wrap:wrap;\n",
              "      gap: 12px;\n",
              "    }\n",
              "\n",
              "    .colab-df-convert {\n",
              "      background-color: #E8F0FE;\n",
              "      border: none;\n",
              "      border-radius: 50%;\n",
              "      cursor: pointer;\n",
              "      display: none;\n",
              "      fill: #1967D2;\n",
              "      height: 32px;\n",
              "      padding: 0 0 0 0;\n",
              "      width: 32px;\n",
              "    }\n",
              "\n",
              "    .colab-df-convert:hover {\n",
              "      background-color: #E2EBFA;\n",
              "      box-shadow: 0px 1px 2px rgba(60, 64, 67, 0.3), 0px 1px 3px 1px rgba(60, 64, 67, 0.15);\n",
              "      fill: #174EA6;\n",
              "    }\n",
              "\n",
              "    [theme=dark] .colab-df-convert {\n",
              "      background-color: #3B4455;\n",
              "      fill: #D2E3FC;\n",
              "    }\n",
              "\n",
              "    [theme=dark] .colab-df-convert:hover {\n",
              "      background-color: #434B5C;\n",
              "      box-shadow: 0px 1px 3px 1px rgba(0, 0, 0, 0.15);\n",
              "      filter: drop-shadow(0px 1px 2px rgba(0, 0, 0, 0.3));\n",
              "      fill: #FFFFFF;\n",
              "    }\n",
              "  </style>\n",
              "\n",
              "      <script>\n",
              "        const buttonEl =\n",
              "          document.querySelector('#df-0a5a3ca6-cf0a-4b9e-a253-1ad9f18b2f31 button.colab-df-convert');\n",
              "        buttonEl.style.display =\n",
              "          google.colab.kernel.accessAllowed ? 'block' : 'none';\n",
              "\n",
              "        async function convertToInteractive(key) {\n",
              "          const element = document.querySelector('#df-0a5a3ca6-cf0a-4b9e-a253-1ad9f18b2f31');\n",
              "          const dataTable =\n",
              "            await google.colab.kernel.invokeFunction('convertToInteractive',\n",
              "                                                     [key], {});\n",
              "          if (!dataTable) return;\n",
              "\n",
              "          const docLinkHtml = 'Like what you see? Visit the ' +\n",
              "            '<a target=\"_blank\" href=https://colab.research.google.com/notebooks/data_table.ipynb>data table notebook</a>'\n",
              "            + ' to learn more about interactive tables.';\n",
              "          element.innerHTML = '';\n",
              "          dataTable['output_type'] = 'display_data';\n",
              "          await google.colab.output.renderOutput(dataTable, element);\n",
              "          const docLink = document.createElement('div');\n",
              "          docLink.innerHTML = docLinkHtml;\n",
              "          element.appendChild(docLink);\n",
              "        }\n",
              "      </script>\n",
              "    </div>\n",
              "  </div>\n",
              "  "
            ]
          },
          "metadata": {},
          "execution_count": 3
        }
      ]
    },
    {
      "cell_type": "code",
      "source": [
        "## display the first five rows of the test dataset\n",
        "test.head(5)"
      ],
      "metadata": {
        "colab": {
          "base_uri": "https://localhost:8080/",
          "height": 299
        },
        "id": "Sx3IJXkjiylR",
        "outputId": "40836be0-2611-42d3-8a1e-964fbb76daf7"
      },
      "execution_count": 4,
      "outputs": [
        {
          "output_type": "execute_result",
          "data": {
            "text/plain": [
              "     Id  MSSubClass MSZoning  LotFrontage  LotArea Street Alley LotShape  \\\n",
              "0  1461          20       RH       80.000    11622   Pave   NaN      Reg   \n",
              "1  1462          20       RL       81.000    14267   Pave   NaN      IR1   \n",
              "2  1463          60       RL       74.000    13830   Pave   NaN      IR1   \n",
              "3  1464          60       RL       78.000     9978   Pave   NaN      IR1   \n",
              "4  1465         120       RL       43.000     5005   Pave   NaN      IR1   \n",
              "\n",
              "  LandContour Utilities  ... ScreenPorch PoolArea PoolQC  Fence MiscFeature  \\\n",
              "0         Lvl    AllPub  ...         120        0    NaN  MnPrv         NaN   \n",
              "1         Lvl    AllPub  ...           0        0    NaN    NaN        Gar2   \n",
              "2         Lvl    AllPub  ...           0        0    NaN  MnPrv         NaN   \n",
              "3         Lvl    AllPub  ...           0        0    NaN    NaN         NaN   \n",
              "4         HLS    AllPub  ...         144        0    NaN    NaN         NaN   \n",
              "\n",
              "  MiscVal MoSold  YrSold  SaleType  SaleCondition  \n",
              "0       0      6    2010        WD         Normal  \n",
              "1   12500      6    2010        WD         Normal  \n",
              "2       0      3    2010        WD         Normal  \n",
              "3       0      6    2010        WD         Normal  \n",
              "4       0      1    2010        WD         Normal  \n",
              "\n",
              "[5 rows x 80 columns]"
            ],
            "text/html": [
              "\n",
              "  <div id=\"df-94f91173-0d17-43c8-b4bb-e669b0d228fb\">\n",
              "    <div class=\"colab-df-container\">\n",
              "      <div>\n",
              "<style scoped>\n",
              "    .dataframe tbody tr th:only-of-type {\n",
              "        vertical-align: middle;\n",
              "    }\n",
              "\n",
              "    .dataframe tbody tr th {\n",
              "        vertical-align: top;\n",
              "    }\n",
              "\n",
              "    .dataframe thead th {\n",
              "        text-align: right;\n",
              "    }\n",
              "</style>\n",
              "<table border=\"1\" class=\"dataframe\">\n",
              "  <thead>\n",
              "    <tr style=\"text-align: right;\">\n",
              "      <th></th>\n",
              "      <th>Id</th>\n",
              "      <th>MSSubClass</th>\n",
              "      <th>MSZoning</th>\n",
              "      <th>LotFrontage</th>\n",
              "      <th>LotArea</th>\n",
              "      <th>Street</th>\n",
              "      <th>Alley</th>\n",
              "      <th>LotShape</th>\n",
              "      <th>LandContour</th>\n",
              "      <th>Utilities</th>\n",
              "      <th>...</th>\n",
              "      <th>ScreenPorch</th>\n",
              "      <th>PoolArea</th>\n",
              "      <th>PoolQC</th>\n",
              "      <th>Fence</th>\n",
              "      <th>MiscFeature</th>\n",
              "      <th>MiscVal</th>\n",
              "      <th>MoSold</th>\n",
              "      <th>YrSold</th>\n",
              "      <th>SaleType</th>\n",
              "      <th>SaleCondition</th>\n",
              "    </tr>\n",
              "  </thead>\n",
              "  <tbody>\n",
              "    <tr>\n",
              "      <th>0</th>\n",
              "      <td>1461</td>\n",
              "      <td>20</td>\n",
              "      <td>RH</td>\n",
              "      <td>80.000</td>\n",
              "      <td>11622</td>\n",
              "      <td>Pave</td>\n",
              "      <td>NaN</td>\n",
              "      <td>Reg</td>\n",
              "      <td>Lvl</td>\n",
              "      <td>AllPub</td>\n",
              "      <td>...</td>\n",
              "      <td>120</td>\n",
              "      <td>0</td>\n",
              "      <td>NaN</td>\n",
              "      <td>MnPrv</td>\n",
              "      <td>NaN</td>\n",
              "      <td>0</td>\n",
              "      <td>6</td>\n",
              "      <td>2010</td>\n",
              "      <td>WD</td>\n",
              "      <td>Normal</td>\n",
              "    </tr>\n",
              "    <tr>\n",
              "      <th>1</th>\n",
              "      <td>1462</td>\n",
              "      <td>20</td>\n",
              "      <td>RL</td>\n",
              "      <td>81.000</td>\n",
              "      <td>14267</td>\n",
              "      <td>Pave</td>\n",
              "      <td>NaN</td>\n",
              "      <td>IR1</td>\n",
              "      <td>Lvl</td>\n",
              "      <td>AllPub</td>\n",
              "      <td>...</td>\n",
              "      <td>0</td>\n",
              "      <td>0</td>\n",
              "      <td>NaN</td>\n",
              "      <td>NaN</td>\n",
              "      <td>Gar2</td>\n",
              "      <td>12500</td>\n",
              "      <td>6</td>\n",
              "      <td>2010</td>\n",
              "      <td>WD</td>\n",
              "      <td>Normal</td>\n",
              "    </tr>\n",
              "    <tr>\n",
              "      <th>2</th>\n",
              "      <td>1463</td>\n",
              "      <td>60</td>\n",
              "      <td>RL</td>\n",
              "      <td>74.000</td>\n",
              "      <td>13830</td>\n",
              "      <td>Pave</td>\n",
              "      <td>NaN</td>\n",
              "      <td>IR1</td>\n",
              "      <td>Lvl</td>\n",
              "      <td>AllPub</td>\n",
              "      <td>...</td>\n",
              "      <td>0</td>\n",
              "      <td>0</td>\n",
              "      <td>NaN</td>\n",
              "      <td>MnPrv</td>\n",
              "      <td>NaN</td>\n",
              "      <td>0</td>\n",
              "      <td>3</td>\n",
              "      <td>2010</td>\n",
              "      <td>WD</td>\n",
              "      <td>Normal</td>\n",
              "    </tr>\n",
              "    <tr>\n",
              "      <th>3</th>\n",
              "      <td>1464</td>\n",
              "      <td>60</td>\n",
              "      <td>RL</td>\n",
              "      <td>78.000</td>\n",
              "      <td>9978</td>\n",
              "      <td>Pave</td>\n",
              "      <td>NaN</td>\n",
              "      <td>IR1</td>\n",
              "      <td>Lvl</td>\n",
              "      <td>AllPub</td>\n",
              "      <td>...</td>\n",
              "      <td>0</td>\n",
              "      <td>0</td>\n",
              "      <td>NaN</td>\n",
              "      <td>NaN</td>\n",
              "      <td>NaN</td>\n",
              "      <td>0</td>\n",
              "      <td>6</td>\n",
              "      <td>2010</td>\n",
              "      <td>WD</td>\n",
              "      <td>Normal</td>\n",
              "    </tr>\n",
              "    <tr>\n",
              "      <th>4</th>\n",
              "      <td>1465</td>\n",
              "      <td>120</td>\n",
              "      <td>RL</td>\n",
              "      <td>43.000</td>\n",
              "      <td>5005</td>\n",
              "      <td>Pave</td>\n",
              "      <td>NaN</td>\n",
              "      <td>IR1</td>\n",
              "      <td>HLS</td>\n",
              "      <td>AllPub</td>\n",
              "      <td>...</td>\n",
              "      <td>144</td>\n",
              "      <td>0</td>\n",
              "      <td>NaN</td>\n",
              "      <td>NaN</td>\n",
              "      <td>NaN</td>\n",
              "      <td>0</td>\n",
              "      <td>1</td>\n",
              "      <td>2010</td>\n",
              "      <td>WD</td>\n",
              "      <td>Normal</td>\n",
              "    </tr>\n",
              "  </tbody>\n",
              "</table>\n",
              "<p>5 rows × 80 columns</p>\n",
              "</div>\n",
              "      <button class=\"colab-df-convert\" onclick=\"convertToInteractive('df-94f91173-0d17-43c8-b4bb-e669b0d228fb')\"\n",
              "              title=\"Convert this dataframe to an interactive table.\"\n",
              "              style=\"display:none;\">\n",
              "        \n",
              "  <svg xmlns=\"http://www.w3.org/2000/svg\" height=\"24px\"viewBox=\"0 0 24 24\"\n",
              "       width=\"24px\">\n",
              "    <path d=\"M0 0h24v24H0V0z\" fill=\"none\"/>\n",
              "    <path d=\"M18.56 5.44l.94 2.06.94-2.06 2.06-.94-2.06-.94-.94-2.06-.94 2.06-2.06.94zm-11 1L8.5 8.5l.94-2.06 2.06-.94-2.06-.94L8.5 2.5l-.94 2.06-2.06.94zm10 10l.94 2.06.94-2.06 2.06-.94-2.06-.94-.94-2.06-.94 2.06-2.06.94z\"/><path d=\"M17.41 7.96l-1.37-1.37c-.4-.4-.92-.59-1.43-.59-.52 0-1.04.2-1.43.59L10.3 9.45l-7.72 7.72c-.78.78-.78 2.05 0 2.83L4 21.41c.39.39.9.59 1.41.59.51 0 1.02-.2 1.41-.59l7.78-7.78 2.81-2.81c.8-.78.8-2.07 0-2.86zM5.41 20L4 18.59l7.72-7.72 1.47 1.35L5.41 20z\"/>\n",
              "  </svg>\n",
              "      </button>\n",
              "      \n",
              "  <style>\n",
              "    .colab-df-container {\n",
              "      display:flex;\n",
              "      flex-wrap:wrap;\n",
              "      gap: 12px;\n",
              "    }\n",
              "\n",
              "    .colab-df-convert {\n",
              "      background-color: #E8F0FE;\n",
              "      border: none;\n",
              "      border-radius: 50%;\n",
              "      cursor: pointer;\n",
              "      display: none;\n",
              "      fill: #1967D2;\n",
              "      height: 32px;\n",
              "      padding: 0 0 0 0;\n",
              "      width: 32px;\n",
              "    }\n",
              "\n",
              "    .colab-df-convert:hover {\n",
              "      background-color: #E2EBFA;\n",
              "      box-shadow: 0px 1px 2px rgba(60, 64, 67, 0.3), 0px 1px 3px 1px rgba(60, 64, 67, 0.15);\n",
              "      fill: #174EA6;\n",
              "    }\n",
              "\n",
              "    [theme=dark] .colab-df-convert {\n",
              "      background-color: #3B4455;\n",
              "      fill: #D2E3FC;\n",
              "    }\n",
              "\n",
              "    [theme=dark] .colab-df-convert:hover {\n",
              "      background-color: #434B5C;\n",
              "      box-shadow: 0px 1px 3px 1px rgba(0, 0, 0, 0.15);\n",
              "      filter: drop-shadow(0px 1px 2px rgba(0, 0, 0, 0.3));\n",
              "      fill: #FFFFFF;\n",
              "    }\n",
              "  </style>\n",
              "\n",
              "      <script>\n",
              "        const buttonEl =\n",
              "          document.querySelector('#df-94f91173-0d17-43c8-b4bb-e669b0d228fb button.colab-df-convert');\n",
              "        buttonEl.style.display =\n",
              "          google.colab.kernel.accessAllowed ? 'block' : 'none';\n",
              "\n",
              "        async function convertToInteractive(key) {\n",
              "          const element = document.querySelector('#df-94f91173-0d17-43c8-b4bb-e669b0d228fb');\n",
              "          const dataTable =\n",
              "            await google.colab.kernel.invokeFunction('convertToInteractive',\n",
              "                                                     [key], {});\n",
              "          if (!dataTable) return;\n",
              "\n",
              "          const docLinkHtml = 'Like what you see? Visit the ' +\n",
              "            '<a target=\"_blank\" href=https://colab.research.google.com/notebooks/data_table.ipynb>data table notebook</a>'\n",
              "            + ' to learn more about interactive tables.';\n",
              "          element.innerHTML = '';\n",
              "          dataTable['output_type'] = 'display_data';\n",
              "          await google.colab.output.renderOutput(dataTable, element);\n",
              "          const docLink = document.createElement('div');\n",
              "          docLink.innerHTML = docLinkHtml;\n",
              "          element.appendChild(docLink);\n",
              "        }\n",
              "      </script>\n",
              "    </div>\n",
              "  </div>\n",
              "  "
            ]
          },
          "metadata": {},
          "execution_count": 4
        }
      ]
    },
    {
      "cell_type": "code",
      "source": [
        "# check the numbers of samples and features\n",
        "print(\"The train data size before dropping Id feature is : {}\".format(train.shape))\n",
        "print(\"The test data size before dropping Id feature is : {}\".format(test.shape))\n",
        "\n",
        "# Save the 'Id' column\n",
        "train_ID = train['Id']\n",
        "test_ID = test['Id']\n",
        "\n",
        "# Now drop the 'Id' column since it's unnecessary for the prediction process\n",
        "train.drop(\"Id\", axis = 1, inplace = True)\n",
        "test.drop(\"Id\", axis = 1, inplace = True)\n",
        "\n",
        "# check again the data size after dropping the 'Id' variable\n",
        "print(\"\\nThe train data size after dropping Id feature is : {}\".format(train.shape))\n",
        "print(\"The test data size after dropping Id feature is : {}\".format(test.shape))"
      ],
      "metadata": {
        "colab": {
          "base_uri": "https://localhost:8080/"
        },
        "id": "Amgklnf1i3fq",
        "outputId": "d43711d9-e79a-4635-d0b4-5db965961bc7"
      },
      "execution_count": 5,
      "outputs": [
        {
          "output_type": "stream",
          "name": "stdout",
          "text": [
            "The train data size before dropping Id feature is : (1460, 81)\n",
            "The test data size before dropping Id feature is : (1459, 80)\n",
            "\n",
            "The train data size after dropping Id feature is : (1460, 80)\n",
            "The test data size after dropping Id feature is : (1459, 79)\n"
          ]
        }
      ]
    },
    {
      "cell_type": "markdown",
      "source": [
        "### Data Processing\n",
        "#### Outliers\n",
        "* 훈련 데이터에 outlier 존재"
      ],
      "metadata": {
        "id": "ZkUBdh5gjt3J"
      }
    },
    {
      "cell_type": "code",
      "source": [
        "# 그래프 그려 outlier 확인\n",
        "fig, ax = plt.subplots()\n",
        "ax.scatter(x = train['GrLivArea'], y = train['SalePrice'])\n",
        "plt.ylabel('SalePrice', fontsize=13)\n",
        "plt.xlabel('GrLivArea', fontsize=13)\n",
        "plt.show()"
      ],
      "metadata": {
        "colab": {
          "base_uri": "https://localhost:8080/",
          "height": 282
        },
        "id": "YgQpvq9qj4wC",
        "outputId": "72b84b68-b816-44d9-95d5-952add3ec177"
      },
      "execution_count": 6,
      "outputs": [
        {
          "output_type": "display_data",
          "data": {
            "text/plain": [
              "<Figure size 432x288 with 1 Axes>"
            ],
            "image/png": "[encoded data removed]"
          },
          "metadata": {
            "needs_background": "light"
          }
        }
      ]
    },
    {
      "cell_type": "markdown",
      "source": [
        "* 오른쪽 아래 2개의 outlier 존재 : 매우 큰 GrLivArea, 낮은 가격"
      ],
      "metadata": {
        "id": "bV_GX1-Okc6u"
      }
    },
    {
      "cell_type": "code",
      "source": [
        "# Deleting outliers\n",
        "train = train.drop(train[(train['GrLivArea']>4000) & (train['SalePrice']<300000)].index)\n",
        "\n",
        "# Check the graphic again\n",
        "fig, ax = plt.subplots()\n",
        "ax.scatter(x = train['GrLivArea'], y = train['SalePrice'])\n",
        "plt.ylabel('SalePrice', fontsize=13)\n",
        "plt.xlabel('GrLivArea', fontsize=13)\n",
        "plt.show()"
      ],
      "metadata": {
        "colab": {
          "base_uri": "https://localhost:8080/",
          "height": 282
        },
        "id": "8ZP3OJAwkPb4",
        "outputId": "2fc48bfb-605b-4191-ea60-440639004ef2"
      },
      "execution_count": 7,
      "outputs": [
        {
          "output_type": "display_data",
          "data": {
            "text/plain": [
              "<Figure size 432x288 with 1 Axes>"
            ],
            "image/png": "[encoded data removed]"
          },
          "metadata": {
            "needs_background": "light"
          }
        }
      ]
    },
    {
      "cell_type": "markdown",
      "source": [
        "* 테스트 데이터에 outlier가 있는 경우, 훈련 데이터의 모든 outlier를 제거하는 것은 좋지 않음"
      ],
      "metadata": {
        "id": "dt-RE-zdlDig"
      }
    },
    {
      "cell_type": "markdown",
      "source": [
        "#### Target Variable\n",
        "* SalePrice"
      ],
      "metadata": {
        "id": "wH3iKeX-lpvz"
      }
    },
    {
      "cell_type": "code",
      "source": [
        "# SalePrice 변수 분석\n",
        "sns.distplot(train['SalePrice'], fit = norm)\n",
        "\n",
        "# Get the fitted parameters used by function\n",
        "(mu, sigma) = norm.fit(train['SalePrice'])\n",
        "print('\\n mu = {:.2f} and sigma = {:.2f}\\n'.format(mu, sigma))\n",
        "\n",
        "# Now plot the distribution\n",
        "plt.legend(['Normal dist. ($\\mu=$ {:.2f} and 4\\sigma=$ {:.2f} )'.format(mu, sigma)], loc='best')\n",
        "plt.ylabel('Frequency')\n",
        "plt.title('SalePrice distribution')\n",
        "\n",
        "# Get also the QQ-plot\n",
        "fig = plt.figure()\n",
        "res = stats.probplot(train['SalePrice'], plot=plt)\n",
        "plt.show()"
      ],
      "metadata": {
        "colab": {
          "base_uri": "https://localhost:8080/",
          "height": 628
        },
        "id": "-3YHY_20l2_W",
        "outputId": "00a4e2fa-c42a-4477-af24-ce99e82567ab"
      },
      "execution_count": 8,
      "outputs": [
        {
          "output_type": "stream",
          "name": "stdout",
          "text": [
            "\n",
            " mu = 180932.92 and sigma = 79467.79\n",
            "\n"
          ]
        },
        {
          "output_type": "display_data",
          "data": {
            "text/plain": [
              "<Figure size 432x288 with 1 Axes>"
            ],
            "image/png": "[encoded data removed]"
          },
          "metadata": {
            "needs_background": "light"
          }
        },
        {
          "output_type": "display_data",
          "data": {
            "text/plain": [
              "<Figure size 432x288 with 1 Axes>"
            ],
            "image/png": "[encoded data removed]"
          },
          "metadata": {
            "needs_background": "light"
          }
        }
      ]
    },
    {
      "cell_type": "markdown",
      "source": [
        "* 타겟 변수는 right skewed\n",
        "  -> 정규 분포가 되도록 tranfromation 필요"
      ],
      "metadata": {
        "id": "E0wMpx0Tm_Zw"
      }
    },
    {
      "cell_type": "markdown",
      "source": [
        "##### Log-transformation of the target variable"
      ],
      "metadata": {
        "id": "WO6Q9Vx-nMql"
      }
    },
    {
      "cell_type": "code",
      "source": [
        "# We use the numpy function log1p which applies log(1+x) to all elements of the column\n",
        "train['SalePrice'] = np.log1p(train['SalePrice'])\n",
        "\n",
        "# Check the new distribution\n",
        "sns.distplot(train['SalePrice'], fit = norm);\n",
        "\n",
        "# Get the fitted parameters used by the function\n",
        "(mu, sigma) = norm.fit(train['SalePrice'])\n",
        "print('\\n mu = {:.2f} and sigma = {:.2f}\\n'.format(mu, sigma))\n",
        "\n",
        "# Now plot the distribution\n",
        "plt.legend(['Normal dist. ($\\mu=$ {:.2f} and 4\\sigma=$ {:.2f} )'.format(mu, sigma)], loc='best')\n",
        "plt.ylabel('Frequency')\n",
        "plt.title('SalePrice distribution')\n",
        "\n",
        "# Get also the QQ-plot\n",
        "fig = plt.figure()\n",
        "res = stats.probplot(train['SalePrice'], plot=plt)\n",
        "plt.show()"
      ],
      "metadata": {
        "colab": {
          "base_uri": "https://localhost:8080/",
          "height": 628
        },
        "id": "Yc85furmm1R-",
        "outputId": "a85e9a2b-9f1e-467b-9abb-a776444702bf"
      },
      "execution_count": 9,
      "outputs": [
        {
          "output_type": "stream",
          "name": "stdout",
          "text": [
            "\n",
            " mu = 12.02 and sigma = 0.40\n",
            "\n"
          ]
        },
        {
          "output_type": "display_data",
          "data": {
            "text/plain": [
              "<Figure size 432x288 with 1 Axes>"
            ],
            "image/png": "[encoded data removed]"
          },
          "metadata": {
            "needs_background": "light"
          }
        },
        {
          "output_type": "display_data",
          "data": {
            "text/plain": [
              "<Figure size 432x288 with 1 Axes>"
            ],
            "image/png": "[encoded data removed]"
          },
          "metadata": {
            "needs_background": "light"
          }
        }
      ]
    },
    {
      "cell_type": "markdown",
      "source": [
        "* 왜곡이 수정되어 데이터가 정규 분포로 나타남"
      ],
      "metadata": {
        "id": "pb5MuyKQn_Oc"
      }
    },
    {
      "cell_type": "markdown",
      "source": [
        "### Features engineering"
      ],
      "metadata": {
        "id": "cv-ehJopoKKK"
      }
    },
    {
      "cell_type": "code",
      "source": [
        "# 같은 DataFrame에 train, test data 병합\n",
        "ntrain = train.shape[0]\n",
        "ntest = test.shape[0]\n",
        "y_train = train.SalePrice.values\n",
        "all_data = pd.concat((train, test)).reset_index(drop=True)\n",
        "all_data.drop(['SalePrice'], axis = 1, inplace = True)\n",
        "print(\"all_data size is : {}\".format(all_data.shape))"
      ],
      "metadata": {
        "colab": {
          "base_uri": "https://localhost:8080/"
        },
        "id": "ke37hLoSn82f",
        "outputId": "5b0b338e-6d7e-48ab-a0ce-d859b38e40b9"
      },
      "execution_count": 10,
      "outputs": [
        {
          "output_type": "stream",
          "name": "stdout",
          "text": [
            "all_data size is : (2917, 79)\n"
          ]
        }
      ]
    },
    {
      "cell_type": "markdown",
      "source": [
        "#### Missing Data"
      ],
      "metadata": {
        "id": "N9RcSaeuowaQ"
      }
    },
    {
      "cell_type": "code",
      "source": [
        "# 결측치 비율 계산\n",
        "all_data_na = (all_data.isnull().sum() / len(all_data)) * 100\n",
        "all_data_na = all_data_na.drop(all_data_na[all_data_na == 0].index).sort_values(ascending=False)[:30]\n",
        "missing_data = pd.DataFrame({'Missing Ratio' :all_data_na})\n",
        "missing_data.head(20)"
      ],
      "metadata": {
        "colab": {
          "base_uri": "https://localhost:8080/",
          "height": 676
        },
        "id": "Vnmb21ngou9E",
        "outputId": "8aa8095f-4d29-4d8b-90da-6f99718faa5d"
      },
      "execution_count": 11,
      "outputs": [
        {
          "output_type": "execute_result",
          "data": {
            "text/plain": [
              "              Missing Ratio\n",
              "PoolQC               99.691\n",
              "MiscFeature          96.400\n",
              "Alley                93.212\n",
              "Fence                80.425\n",
              "FireplaceQu          48.680\n",
              "LotFrontage          16.661\n",
              "GarageFinish          5.451\n",
              "GarageQual            5.451\n",
              "GarageCond            5.451\n",
              "GarageYrBlt           5.451\n",
              "GarageType            5.382\n",
              "BsmtExposure          2.811\n",
              "BsmtCond              2.811\n",
              "BsmtQual              2.777\n",
              "BsmtFinType2          2.743\n",
              "BsmtFinType1          2.708\n",
              "MasVnrType            0.823\n",
              "MasVnrArea            0.788\n",
              "MSZoning              0.137\n",
              "BsmtFullBath          0.069"
            ],
            "text/html": [
              "\n",
              "  <div id=\"df-1431fda0-0789-4250-82c9-96fcafa3e778\">\n",
              "    <div class=\"colab-df-container\">\n",
              "      <div>\n",
              "<style scoped>\n",
              "    .dataframe tbody tr th:only-of-type {\n",
              "        vertical-align: middle;\n",
              "    }\n",
              "\n",
              "    .dataframe tbody tr th {\n",
              "        vertical-align: top;\n",
              "    }\n",
              "\n",
              "    .dataframe thead th {\n",
              "        text-align: right;\n",
              "    }\n",
              "</style>\n",
              "<table border=\"1\" class=\"dataframe\">\n",
              "  <thead>\n",
              "    <tr style=\"text-align: right;\">\n",
              "      <th></th>\n",
              "      <th>Missing Ratio</th>\n",
              "    </tr>\n",
              "  </thead>\n",
              "  <tbody>\n",
              "    <tr>\n",
              "      <th>PoolQC</th>\n",
              "      <td>99.691</td>\n",
              "    </tr>\n",
              "    <tr>\n",
              "      <th>MiscFeature</th>\n",
              "      <td>96.400</td>\n",
              "    </tr>\n",
              "    <tr>\n",
              "      <th>Alley</th>\n",
              "      <td>93.212</td>\n",
              "    </tr>\n",
              "    <tr>\n",
              "      <th>Fence</th>\n",
              "      <td>80.425</td>\n",
              "    </tr>\n",
              "    <tr>\n",
              "      <th>FireplaceQu</th>\n",
              "      <td>48.680</td>\n",
              "    </tr>\n",
              "    <tr>\n",
              "      <th>LotFrontage</th>\n",
              "      <td>16.661</td>\n",
              "    </tr>\n",
              "    <tr>\n",
              "      <th>GarageFinish</th>\n",
              "      <td>5.451</td>\n",
              "    </tr>\n",
              "    <tr>\n",
              "      <th>GarageQual</th>\n",
              "      <td>5.451</td>\n",
              "    </tr>\n",
              "    <tr>\n",
              "      <th>GarageCond</th>\n",
              "      <td>5.451</td>\n",
              "    </tr>\n",
              "    <tr>\n",
              "      <th>GarageYrBlt</th>\n",
              "      <td>5.451</td>\n",
              "    </tr>\n",
              "    <tr>\n",
              "      <th>GarageType</th>\n",
              "      <td>5.382</td>\n",
              "    </tr>\n",
              "    <tr>\n",
              "      <th>BsmtExposure</th>\n",
              "      <td>2.811</td>\n",
              "    </tr>\n",
              "    <tr>\n",
              "      <th>BsmtCond</th>\n",
              "      <td>2.811</td>\n",
              "    </tr>\n",
              "    <tr>\n",
              "      <th>BsmtQual</th>\n",
              "      <td>2.777</td>\n",
              "    </tr>\n",
              "    <tr>\n",
              "      <th>BsmtFinType2</th>\n",
              "      <td>2.743</td>\n",
              "    </tr>\n",
              "    <tr>\n",
              "      <th>BsmtFinType1</th>\n",
              "      <td>2.708</td>\n",
              "    </tr>\n",
              "    <tr>\n",
              "      <th>MasVnrType</th>\n",
              "      <td>0.823</td>\n",
              "    </tr>\n",
              "    <tr>\n",
              "      <th>MasVnrArea</th>\n",
              "      <td>0.788</td>\n",
              "    </tr>\n",
              "    <tr>\n",
              "      <th>MSZoning</th>\n",
              "      <td>0.137</td>\n",
              "    </tr>\n",
              "    <tr>\n",
              "      <th>BsmtFullBath</th>\n",
              "      <td>0.069</td>\n",
              "    </tr>\n",
              "  </tbody>\n",
              "</table>\n",
              "</div>\n",
              "      <button class=\"colab-df-convert\" onclick=\"convertToInteractive('df-1431fda0-0789-4250-82c9-96fcafa3e778')\"\n",
              "              title=\"Convert this dataframe to an interactive table.\"\n",
              "              style=\"display:none;\">\n",
              "        \n",
              "  <svg xmlns=\"http://www.w3.org/2000/svg\" height=\"24px\"viewBox=\"0 0 24 24\"\n",
              "       width=\"24px\">\n",
              "    <path d=\"M0 0h24v24H0V0z\" fill=\"none\"/>\n",
              "    <path d=\"M18.56 5.44l.94 2.06.94-2.06 2.06-.94-2.06-.94-.94-2.06-.94 2.06-2.06.94zm-11 1L8.5 8.5l.94-2.06 2.06-.94-2.06-.94L8.5 2.5l-.94 2.06-2.06.94zm10 10l.94 2.06.94-2.06 2.06-.94-2.06-.94-.94-2.06-.94 2.06-2.06.94z\"/><path d=\"M17.41 7.96l-1.37-1.37c-.4-.4-.92-.59-1.43-.59-.52 0-1.04.2-1.43.59L10.3 9.45l-7.72 7.72c-.78.78-.78 2.05 0 2.83L4 21.41c.39.39.9.59 1.41.59.51 0 1.02-.2 1.41-.59l7.78-7.78 2.81-2.81c.8-.78.8-2.07 0-2.86zM5.41 20L4 18.59l7.72-7.72 1.47 1.35L5.41 20z\"/>\n",
              "  </svg>\n",
              "      </button>\n",
              "      \n",
              "  <style>\n",
              "    .colab-df-container {\n",
              "      display:flex;\n",
              "      flex-wrap:wrap;\n",
              "      gap: 12px;\n",
              "    }\n",
              "\n",
              "    .colab-df-convert {\n",
              "      background-color: #E8F0FE;\n",
              "      border: none;\n",
              "      border-radius: 50%;\n",
              "      cursor: pointer;\n",
              "      display: none;\n",
              "      fill: #1967D2;\n",
              "      height: 32px;\n",
              "      padding: 0 0 0 0;\n",
              "      width: 32px;\n",
              "    }\n",
              "\n",
              "    .colab-df-convert:hover {\n",
              "      background-color: #E2EBFA;\n",
              "      box-shadow: 0px 1px 2px rgba(60, 64, 67, 0.3), 0px 1px 3px 1px rgba(60, 64, 67, 0.15);\n",
              "      fill: #174EA6;\n",
              "    }\n",
              "\n",
              "    [theme=dark] .colab-df-convert {\n",
              "      background-color: #3B4455;\n",
              "      fill: #D2E3FC;\n",
              "    }\n",
              "\n",
              "    [theme=dark] .colab-df-convert:hover {\n",
              "      background-color: #434B5C;\n",
              "      box-shadow: 0px 1px 3px 1px rgba(0, 0, 0, 0.15);\n",
              "      filter: drop-shadow(0px 1px 2px rgba(0, 0, 0, 0.3));\n",
              "      fill: #FFFFFF;\n",
              "    }\n",
              "  </style>\n",
              "\n",
              "      <script>\n",
              "        const buttonEl =\n",
              "          document.querySelector('#df-1431fda0-0789-4250-82c9-96fcafa3e778 button.colab-df-convert');\n",
              "        buttonEl.style.display =\n",
              "          google.colab.kernel.accessAllowed ? 'block' : 'none';\n",
              "\n",
              "        async function convertToInteractive(key) {\n",
              "          const element = document.querySelector('#df-1431fda0-0789-4250-82c9-96fcafa3e778');\n",
              "          const dataTable =\n",
              "            await google.colab.kernel.invokeFunction('convertToInteractive',\n",
              "                                                     [key], {});\n",
              "          if (!dataTable) return;\n",
              "\n",
              "          const docLinkHtml = 'Like what you see? Visit the ' +\n",
              "            '<a target=\"_blank\" href=https://colab.research.google.com/notebooks/data_table.ipynb>data table notebook</a>'\n",
              "            + ' to learn more about interactive tables.';\n",
              "          element.innerHTML = '';\n",
              "          dataTable['output_type'] = 'display_data';\n",
              "          await google.colab.output.renderOutput(dataTable, element);\n",
              "          const docLink = document.createElement('div');\n",
              "          docLink.innerHTML = docLinkHtml;\n",
              "          element.appendChild(docLink);\n",
              "        }\n",
              "      </script>\n",
              "    </div>\n",
              "  </div>\n",
              "  "
            ]
          },
          "metadata": {},
          "execution_count": 11
        }
      ]
    },
    {
      "cell_type": "code",
      "source": [
        "# 결측치 확률 그래프 그리기\n",
        "f, ax = plt.subplots(figsize=(15, 12))\n",
        "plt.xticks(rotation = '90')\n",
        "sns.barplot(x = all_data_na.index, y = all_data_na)\n",
        "plt.xlabel('Features', fontsize=15)\n",
        "plt.ylabel('Percent of missing values', fontsize=15)\n",
        "plt.title('Percent missing data by feature', fontsize=15)"
      ],
      "metadata": {
        "colab": {
          "base_uri": "https://localhost:8080/",
          "height": 817
        },
        "id": "KfOUEY1YpWRB",
        "outputId": "0e406e72-25f4-4448-a7e3-cb9013563e6e"
      },
      "execution_count": 12,
      "outputs": [
        {
          "output_type": "execute_result",
          "data": {
            "text/plain": [
              "Text(0.5, 1.0, 'Percent missing data by feature')"
            ]
          },
          "metadata": {},
          "execution_count": 12
        },
        {
          "output_type": "display_data",
          "data": {
            "text/plain": [
              "<Figure size 1080x864 with 1 Axes>"
            ],
            "image/png": "[encoded data removed]"
          },
          "metadata": {
            "needs_background": "light"
          }
        }
      ]
    },
    {
      "cell_type": "markdown",
      "source": [
        "##### Data Correlation"
      ],
      "metadata": {
        "id": "3RA2HPfGp5i8"
      }
    },
    {
      "cell_type": "code",
      "source": [
        "# Correlation map to see how features are correlated with SalePrice\n",
        "corrmat = train.corr()\n",
        "plt.subplots(figsize=(12,9))\n",
        "sns.heatmap(corrmat, vmax=0.9, square=True)"
      ],
      "metadata": {
        "colab": {
          "base_uri": "https://localhost:8080/",
          "height": 621
        },
        "id": "AcVeqxUvp2P3",
        "outputId": "ff67ee2b-eab1-483b-a195-dd69fd59ea94"
      },
      "execution_count": 13,
      "outputs": [
        {
          "output_type": "execute_result",
          "data": {
            "text/plain": [
              "<matplotlib.axes._subplots.AxesSubplot at 0x7f90975f7890>"
            ]
          },
          "metadata": {},
          "execution_count": 13
        },
        {
          "output_type": "display_data",
          "data": {
            "text/plain": [
              "<Figure size 864x648 with 2 Axes>"
            ],
            "image/png": "[encoded data removed]"
          },
          "metadata": {
            "needs_background": "light"
          }
        }
      ]
    },
    {
      "cell_type": "markdown",
      "source": [
        "#### Imputing missing values\n",
        "결측치가 있는 feature들을 순차적으로 진행하며 보간\n",
        "* **PoolQC** : NA = \"No Pool\"\n",
        "  \n",
        "  => 큰 결측값 비율(+99%) & 대부분의 집에는 풀이 없음\n",
        "  \n",
        "  => 의미 有"
      ],
      "metadata": {
        "id": "1ua3j9OYqOhI"
      }
    },
    {
      "cell_type": "code",
      "source": [
        "# PoolQC\n",
        "all_data[\"PoolQC\"] = all_data[\"PoolQC\"].fillna(\"None\")"
      ],
      "metadata": {
        "id": "yX_8K4sXqMpW"
      },
      "execution_count": 14,
      "outputs": []
    },
    {
      "cell_type": "markdown",
      "source": [
        "* **MiscFeature** : NA = \"no misc feature\""
      ],
      "metadata": {
        "id": "FkzgYX5rrPg8"
      }
    },
    {
      "cell_type": "code",
      "source": [
        "# MiscFeature\n",
        "all_data[\"MiscFeature\"] = all_data[\"MiscFeature\"].fillna(\"None\")"
      ],
      "metadata": {
        "id": "qjU5LJtErNAt"
      },
      "execution_count": 15,
      "outputs": []
    },
    {
      "cell_type": "markdown",
      "source": [
        "* **Alley** : NA = \"no alley access\""
      ],
      "metadata": {
        "id": "T9hDG4mHrP5V"
      }
    },
    {
      "cell_type": "code",
      "source": [
        "# Alley\n",
        "all_data[\"Alley\"] = all_data[\"Alley\"].fillna(\"None\")"
      ],
      "metadata": {
        "id": "1pcbv9-_rQX5"
      },
      "execution_count": 16,
      "outputs": []
    },
    {
      "cell_type": "markdown",
      "source": [
        "* **Fence** : NA = \"no fence\""
      ],
      "metadata": {
        "id": "VnmZ1v16rQ8b"
      }
    },
    {
      "cell_type": "code",
      "source": [
        "# Fence\n",
        "all_data[\"Fence\"] = all_data[\"Fence\"].fillna(\"None\")"
      ],
      "metadata": {
        "id": "A7yCuqcWrRTr"
      },
      "execution_count": 17,
      "outputs": []
    },
    {
      "cell_type": "markdown",
      "source": [
        "* **FireplaceQu** : NA = \"no fireplace\""
      ],
      "metadata": {
        "id": "nIqJ9kdxsF4z"
      }
    },
    {
      "cell_type": "code",
      "source": [
        "# FireplaceQu\n",
        "all_data[\"FireplaceQu\"] = all_data[\"FireplaceQu\"].fillna(\"None\")"
      ],
      "metadata": {
        "id": "yhl4mkDasCOV"
      },
      "execution_count": 18,
      "outputs": []
    },
    {
      "cell_type": "markdown",
      "source": [
        "* **LotFrontage** : 집에 연결된 거리의 면적은 이웃의 다른 집과 비슷할 가능성이 높음 -> 결측치에 이웃의 LotFrontage median 값을 채움 "
      ],
      "metadata": {
        "id": "JgHOHqFRsVyg"
      }
    },
    {
      "cell_type": "code",
      "source": [
        "# Group by neighborhood and fill in missing value b median LotFrontage of all the neighborhood\n",
        "all_data[\"LotFrontage\"] = all_data.groupby(\"Neighborhood\")[\"LotFrontage\"].transform(lambda x: x.fillna(x.median()))"
      ],
      "metadata": {
        "id": "uVzqnGIVs_Z0"
      },
      "execution_count": 19,
      "outputs": []
    },
    {
      "cell_type": "markdown",
      "source": [
        "* **GarageType, GarageFinish, GarageQual, and GarageCond** : 결측치를 None으로 대체"
      ],
      "metadata": {
        "id": "24LG8jBNteDE"
      }
    },
    {
      "cell_type": "code",
      "source": [
        "# GarageType, GarageFinish, GarageQual, and GarageCond \n",
        "for col in ('GarageType', 'GarageFinish', 'GarageQual', 'GarageCond'):\n",
        "  all_data[col] = all_data[col].fillna('None')"
      ],
      "metadata": {
        "id": "MAHGcRwFtV8I"
      },
      "execution_count": 20,
      "outputs": []
    },
    {
      "cell_type": "markdown",
      "source": [
        "* **GarageYrBlt, GarageArea, and GarageCars** : 결측치를 0으로 대체 (왜냐하면 No garage = no cars in such garage)"
      ],
      "metadata": {
        "id": "WeQ_CKvNt-RL"
      }
    },
    {
      "cell_type": "code",
      "source": [
        "# GarageYrBlt, GarageArea, and GarageCars\n",
        "for col in ('GarageYrBlt', 'GarageArea', 'GarageCars'):\n",
        "  all_data[col] = all_data[col].fillna(0)"
      ],
      "metadata": {
        "id": "2Kqq2SlIt8G7"
      },
      "execution_count": 21,
      "outputs": []
    },
    {
      "cell_type": "markdown",
      "source": [
        "* **BsmtFinSF1, BsmtFinSF2, BsmtUnfSF, TotalBsmtSF, BsmtFullBath, and BsmtHalfBath** : basement가 없으면 결측치가 0일 가능성이 높음 "
      ],
      "metadata": {
        "id": "24AL0IKkuavc"
      }
    },
    {
      "cell_type": "code",
      "source": [
        "# BsmtFinSF1, BsmtFinSF2, BsmtUnfSF, TotalBsmtSF, BsmtFullBath, and BsmtHalfBath\n",
        "for col in ('BsmtFinSF1', 'BsmtFinSF2', 'BsmtUnfSF', 'TotalBsmtSF', 'BsmtFullBath', 'BsmtHalfBath'):\n",
        "  all_data[col] = all_data[col].fillna(0)"
      ],
      "metadata": {
        "id": "M5yXpcp6uaMl"
      },
      "execution_count": 22,
      "outputs": []
    },
    {
      "cell_type": "markdown",
      "source": [
        "*  **BsmtQual, BsmtCond, BsmtExposure, BsmtFinType1, and BsmtFinType2**(지하실과 연관된 범주형 변수) : NaN = \"no basement\""
      ],
      "metadata": {
        "id": "xQeE6dEAvY3C"
      }
    },
    {
      "cell_type": "code",
      "source": [
        "# BsmtQual, BsmtCond, BsmtExposure, BsmtFinType1, and BsmtFinType2\n",
        "for col in ('BsmtQual', 'BsmtCond', 'BsmtExposure', 'BsmtFinType1', 'BsmtFinType2'):\n",
        "  all_data[col] = all_data[col].fillna('None')"
      ],
      "metadata": {
        "id": "12CUfiqXvYd-"
      },
      "execution_count": 23,
      "outputs": []
    },
    {
      "cell_type": "markdown",
      "source": [
        "* **MasVnrArea and MasVnrType** : NA = \"no masonry veneer\"\n",
        "\n",
        "  -> Area 결측치에는 0, Type 결측치에는 None"
      ],
      "metadata": {
        "id": "rFjwQV_bwC9M"
      }
    },
    {
      "cell_type": "code",
      "source": [
        "# MasVnrArea and MasVnrType\n",
        "all_data[\"MasVnrType\"] = all_data[\"MasVnrType\"].fillna(\"None\")\n",
        "all_data[\"MasVnrArea\"] = all_data[\"MasVnrArea\"].fillna(0)"
      ],
      "metadata": {
        "id": "Aw59kEInwAn3"
      },
      "execution_count": 24,
      "outputs": []
    },
    {
      "cell_type": "markdown",
      "source": [
        "* **MSZoning (The general zoning classification)** : 결측치를 가장 흔한 값 'RL'로 대체"
      ],
      "metadata": {
        "id": "-NeIJ-8QwvA4"
      }
    },
    {
      "cell_type": "code",
      "source": [
        "# MSZoning\n",
        "all_data['MSZoning'] = all_data['MSZoning'].fillna(all_data['MSZoning'].mode()[0])"
      ],
      "metadata": {
        "id": "HEv-8Vk9w6jj"
      },
      "execution_count": 25,
      "outputs": []
    },
    {
      "cell_type": "markdown",
      "source": [
        "* **Utilities** : \"NoSeWa\"와 2개의 NA를 제외한 모든 레코드가 \"AllPub\"\n",
        "\n",
        "  - \"NoSeWa\"가 있는 집이 훈련 데이터 세트에 존재\n",
        "\n",
        "  -> 예측 모델링에 도움 되지 않음\n",
        "\n",
        "  => 특성 제거"
      ],
      "metadata": {
        "id": "hAQ3Fpz2xPXI"
      }
    },
    {
      "cell_type": "code",
      "source": [
        "# Utilities\n",
        "all_data = all_data.drop(['Utilities'], axis=1)"
      ],
      "metadata": {
        "id": "y1IyrcXJxv0p"
      },
      "execution_count": 26,
      "outputs": []
    },
    {
      "cell_type": "markdown",
      "source": [
        "* **Functional** : NA = \"typical\""
      ],
      "metadata": {
        "id": "Ttf4eiAox3tl"
      }
    },
    {
      "cell_type": "code",
      "source": [
        "# Functional\n",
        "all_data[\"Functional\"] = all_data[\"Functional\"].fillna(\"Typ\")"
      ],
      "metadata": {
        "id": "cDkWrZwmx2Rd"
      },
      "execution_count": 27,
      "outputs": []
    },
    {
      "cell_type": "markdown",
      "source": [
        "* **Electrical** : 하나의 NA 값 존재\n",
        "\n",
        "  -> 대부분은 'SBrkr'이므로 결측치를 'SBrkr'로 대체"
      ],
      "metadata": {
        "id": "vMhbbap3yEVY"
      }
    },
    {
      "cell_type": "code",
      "source": [
        "# Electrical\n",
        "all_data['Electrical'] = all_data['Electrical'].fillna(all_data['Electrical'].mode()[0])"
      ],
      "metadata": {
        "id": "eANwEOVNyD67"
      },
      "execution_count": 28,
      "outputs": []
    },
    {
      "cell_type": "markdown",
      "source": [
        "* **KitchenQual** : 하나의 NA 값 존재\n",
        "\n",
        "  -> 최빈값 'TA'로 결측치 대체"
      ],
      "metadata": {
        "id": "PrU_lNmnyhcM"
      }
    },
    {
      "cell_type": "code",
      "source": [
        "# KitchenQual\n",
        "all_data['KitchenQual'] = all_data['KitchenQual'].fillna(all_data['KitchenQual'].mode()[0])"
      ],
      "metadata": {
        "id": "0P8q-ssayfLx"
      },
      "execution_count": 29,
      "outputs": []
    },
    {
      "cell_type": "markdown",
      "source": [
        "* **Exterior1st and Exterior2nd** : 두 변수 모두 하나의 결측치 존재\n",
        "\n",
        "  -> 가장 흔한 string으로 대체"
      ],
      "metadata": {
        "id": "jP-3uwpZy11o"
      }
    },
    {
      "cell_type": "code",
      "source": [
        "# Exterior1st and Exterior2nd\n",
        "all_data['Exterior1st'] = all_data['Exterior1st'].fillna(all_data['Exterior1st'].mode()[0])\n",
        "all_data['Exterior2nd'] = all_data['Exterior2nd'].fillna(all_data['Exterior2nd'].mode()[0])"
      ],
      "metadata": {
        "id": "qc5sBCzkzFNn"
      },
      "execution_count": 30,
      "outputs": []
    },
    {
      "cell_type": "markdown",
      "source": [
        "* **SaleType** : 결측치를 최빈값 \"WD\"로 대체"
      ],
      "metadata": {
        "id": "EUf5sEb_zUVF"
      }
    },
    {
      "cell_type": "code",
      "source": [
        "# SaleType\n",
        "all_data['SaleType'] = all_data['SaleType'].fillna(all_data['SaleType'].mode()[0])"
      ],
      "metadata": {
        "id": "2Qpkw3p4zR--"
      },
      "execution_count": 31,
      "outputs": []
    },
    {
      "cell_type": "markdown",
      "source": [
        "* **MSSubClass** : NA = \"No building class\"\n",
        "\n",
        "  -> 결측치를 None으로 대체"
      ],
      "metadata": {
        "id": "dJ_EyHU2zj0k"
      }
    },
    {
      "cell_type": "code",
      "source": [
        "# MSSubClass\n",
        "all_data['MSSubClass'] = all_data['MSSubClass'].fillna(\"None\")"
      ],
      "metadata": {
        "id": "ABIiWd7hziTx"
      },
      "execution_count": 32,
      "outputs": []
    },
    {
      "cell_type": "code",
      "source": [
        "# Check remaining missing values if any\n",
        "all_data_na = (all_data.isnull().sum() / len(all_data)) * 100\n",
        "all_data_na = all_data_na.drop(all_data_na[all_data_na == 0].index).sort_values(ascending=False)\n",
        "missing_data = pd.DataFrame({'Missing Ratio' :all_data_na})\n",
        "missing_data.head() "
      ],
      "metadata": {
        "colab": {
          "base_uri": "https://localhost:8080/",
          "height": 50
        },
        "id": "HtO_ZWJ5zhiV",
        "outputId": "a6d47f48-d560-43b0-fb9c-87012e2746f0"
      },
      "execution_count": 33,
      "outputs": [
        {
          "output_type": "execute_result",
          "data": {
            "text/plain": [
              "Empty DataFrame\n",
              "Columns: [Missing Ratio]\n",
              "Index: []"
            ],
            "text/html": [
              "\n",
              "  <div id=\"df-7db78c84-7020-4b1b-bf37-fafca4150e9c\">\n",
              "    <div class=\"colab-df-container\">\n",
              "      <div>\n",
              "<style scoped>\n",
              "    .dataframe tbody tr th:only-of-type {\n",
              "        vertical-align: middle;\n",
              "    }\n",
              "\n",
              "    .dataframe tbody tr th {\n",
              "        vertical-align: top;\n",
              "    }\n",
              "\n",
              "    .dataframe thead th {\n",
              "        text-align: right;\n",
              "    }\n",
              "</style>\n",
              "<table border=\"1\" class=\"dataframe\">\n",
              "  <thead>\n",
              "    <tr style=\"text-align: right;\">\n",
              "      <th></th>\n",
              "      <th>Missing Ratio</th>\n",
              "    </tr>\n",
              "  </thead>\n",
              "  <tbody>\n",
              "  </tbody>\n",
              "</table>\n",
              "</div>\n",
              "      <button class=\"colab-df-convert\" onclick=\"convertToInteractive('df-7db78c84-7020-4b1b-bf37-fafca4150e9c')\"\n",
              "              title=\"Convert this dataframe to an interactive table.\"\n",
              "              style=\"display:none;\">\n",
              "        \n",
              "  <svg xmlns=\"http://www.w3.org/2000/svg\" height=\"24px\"viewBox=\"0 0 24 24\"\n",
              "       width=\"24px\">\n",
              "    <path d=\"M0 0h24v24H0V0z\" fill=\"none\"/>\n",
              "    <path d=\"M18.56 5.44l.94 2.06.94-2.06 2.06-.94-2.06-.94-.94-2.06-.94 2.06-2.06.94zm-11 1L8.5 8.5l.94-2.06 2.06-.94-2.06-.94L8.5 2.5l-.94 2.06-2.06.94zm10 10l.94 2.06.94-2.06 2.06-.94-2.06-.94-.94-2.06-.94 2.06-2.06.94z\"/><path d=\"M17.41 7.96l-1.37-1.37c-.4-.4-.92-.59-1.43-.59-.52 0-1.04.2-1.43.59L10.3 9.45l-7.72 7.72c-.78.78-.78 2.05 0 2.83L4 21.41c.39.39.9.59 1.41.59.51 0 1.02-.2 1.41-.59l7.78-7.78 2.81-2.81c.8-.78.8-2.07 0-2.86zM5.41 20L4 18.59l7.72-7.72 1.47 1.35L5.41 20z\"/>\n",
              "  </svg>\n",
              "      </button>\n",
              "      \n",
              "  <style>\n",
              "    .colab-df-container {\n",
              "      display:flex;\n",
              "      flex-wrap:wrap;\n",
              "      gap: 12px;\n",
              "    }\n",
              "\n",
              "    .colab-df-convert {\n",
              "      background-color: #E8F0FE;\n",
              "      border: none;\n",
              "      border-radius: 50%;\n",
              "      cursor: pointer;\n",
              "      display: none;\n",
              "      fill: #1967D2;\n",
              "      height: 32px;\n",
              "      padding: 0 0 0 0;\n",
              "      width: 32px;\n",
              "    }\n",
              "\n",
              "    .colab-df-convert:hover {\n",
              "      background-color: #E2EBFA;\n",
              "      box-shadow: 0px 1px 2px rgba(60, 64, 67, 0.3), 0px 1px 3px 1px rgba(60, 64, 67, 0.15);\n",
              "      fill: #174EA6;\n",
              "    }\n",
              "\n",
              "    [theme=dark] .colab-df-convert {\n",
              "      background-color: #3B4455;\n",
              "      fill: #D2E3FC;\n",
              "    }\n",
              "\n",
              "    [theme=dark] .colab-df-convert:hover {\n",
              "      background-color: #434B5C;\n",
              "      box-shadow: 0px 1px 3px 1px rgba(0, 0, 0, 0.15);\n",
              "      filter: drop-shadow(0px 1px 2px rgba(0, 0, 0, 0.3));\n",
              "      fill: #FFFFFF;\n",
              "    }\n",
              "  </style>\n",
              "\n",
              "      <script>\n",
              "        const buttonEl =\n",
              "          document.querySelector('#df-7db78c84-7020-4b1b-bf37-fafca4150e9c button.colab-df-convert');\n",
              "        buttonEl.style.display =\n",
              "          google.colab.kernel.accessAllowed ? 'block' : 'none';\n",
              "\n",
              "        async function convertToInteractive(key) {\n",
              "          const element = document.querySelector('#df-7db78c84-7020-4b1b-bf37-fafca4150e9c');\n",
              "          const dataTable =\n",
              "            await google.colab.kernel.invokeFunction('convertToInteractive',\n",
              "                                                     [key], {});\n",
              "          if (!dataTable) return;\n",
              "\n",
              "          const docLinkHtml = 'Like what you see? Visit the ' +\n",
              "            '<a target=\"_blank\" href=https://colab.research.google.com/notebooks/data_table.ipynb>data table notebook</a>'\n",
              "            + ' to learn more about interactive tables.';\n",
              "          element.innerHTML = '';\n",
              "          dataTable['output_type'] = 'display_data';\n",
              "          await google.colab.output.renderOutput(dataTable, element);\n",
              "          const docLink = document.createElement('div');\n",
              "          docLink.innerHTML = docLinkHtml;\n",
              "          element.appendChild(docLink);\n",
              "        }\n",
              "      </script>\n",
              "    </div>\n",
              "  </div>\n",
              "  "
            ]
          },
          "metadata": {},
          "execution_count": 33
        }
      ]
    },
    {
      "cell_type": "markdown",
      "source": [
        "* 모든 결측치 제거 완료"
      ],
      "metadata": {
        "id": "x7QlWLjr0H4x"
      }
    },
    {
      "cell_type": "markdown",
      "source": [
        "#### More features engineering\n",
        "##### Transforming some numerical variables that are really categorical"
      ],
      "metadata": {
        "id": "vyR8vhx_0KkG"
      }
    },
    {
      "cell_type": "code",
      "source": [
        "# MSSubClass = The building class\n",
        "all_data['MSSubClass'] = all_data['MSSubClass'].apply(str)\n",
        "\n",
        "# Changing OverallCond into a categorical variable\n",
        "all_data['OverallCond'] = all_data['OverallCond'].astype(str)\n",
        "\n",
        "# Year and month sold are transformed into categorical features\n",
        "all_data['YrSold'] = all_data['YrSold'].astype(str)\n",
        "all_data['MoSold'] = all_data['MoSold'].astype(str)"
      ],
      "metadata": {
        "id": "pTWG-mhf0lF7"
      },
      "execution_count": 34,
      "outputs": []
    },
    {
      "cell_type": "markdown",
      "source": [
        "##### Label Encoding some categorical variables that may contain information in their ordering set"
      ],
      "metadata": {
        "id": "iMIbw8ND1VMM"
      }
    },
    {
      "cell_type": "code",
      "source": [
        "# Label Encoding\n",
        "from sklearn.preprocessing import LabelEncoder\n",
        "cols = ('FireplaceQu', 'BsmtQual', 'BsmtCond', 'GarageQual', 'GarageCond',\n",
        "        'ExterQual', 'ExterCond', 'HeatingQC', 'PoolQC', 'KitchenQual', 'BsmtFinType1',\n",
        "        'BsmtFinType2', 'Functional', 'Fence', 'BsmtExposure', 'GarageFinish', 'LandSlope',\n",
        "        'LotShape', 'PavedDrive', 'Street', 'Alley', 'CentralAir', 'MSSubClass', 'OverallCond',\n",
        "        'YrSold', 'MoSold')\n",
        "# process columns, apply LabelEncoder to categorical features\n",
        "for c in cols:\n",
        "  lbl = LabelEncoder()\n",
        "  lbl.fit(list(all_data[c].values))\n",
        "  all_data[c] = lbl.transform(list(all_data[c].values))\n",
        "\n",
        "# shape\n",
        "print('Shape all_data: {}'.format(all_data.shape))"
      ],
      "metadata": {
        "colab": {
          "base_uri": "https://localhost:8080/"
        },
        "id": "VnQ6rlVM1Txj",
        "outputId": "2c1d3374-4a96-472d-f3ef-575a80324d57"
      },
      "execution_count": 35,
      "outputs": [
        {
          "output_type": "stream",
          "name": "stdout",
          "text": [
            "Shape all_data: (2917, 78)\n"
          ]
        }
      ]
    },
    {
      "cell_type": "markdown",
      "source": [
        "##### Adding one more important feature\n",
        "* 면적 관련 feature들은 집값 결정에 매우 중요\n",
        "  \n",
        "  => 총 면적 feature 추가 (the total area of basement, first, and second floor areas of each house)"
      ],
      "metadata": {
        "id": "ooakuf-l26ui"
      }
    },
    {
      "cell_type": "code",
      "source": [
        "# Adding total sqfootage feature\n",
        "all_data['TotalSF'] = all_data['TotalBsmtSF'] + all_data['1stFlrSF'] + all_data['2ndFlrSF']"
      ],
      "metadata": {
        "id": "7F0sLFNI25Ns"
      },
      "execution_count": 36,
      "outputs": []
    },
    {
      "cell_type": "markdown",
      "source": [
        "##### Skewed features"
      ],
      "metadata": {
        "id": "cTIt2NsM3yLc"
      }
    },
    {
      "cell_type": "code",
      "source": [
        "numeric_feats = all_data.dtypes[all_data.dtypes != \"object\"].index\n",
        "\n",
        "# Check the skew of all numerical features\n",
        "skewed_feats = all_data[numeric_feats].apply(lambda x: skew(x.dropna())).sort_values(ascending=False)\n",
        "print(\"\\nSkew in numerical features: \\n\")\n",
        "skewness = pd.DataFrame({'Skew' :skewed_feats})\n",
        "skewness.head(10)"
      ],
      "metadata": {
        "id": "M_TYmJDc3xP3",
        "colab": {
          "base_uri": "https://localhost:8080/",
          "height": 418
        },
        "outputId": "2c4ac92a-5a45-4ddd-82fc-9d70cab2c0d7"
      },
      "execution_count": 37,
      "outputs": [
        {
          "output_type": "stream",
          "name": "stdout",
          "text": [
            "\n",
            "Skew in numerical features: \n",
            "\n"
          ]
        },
        {
          "output_type": "execute_result",
          "data": {
            "text/plain": [
              "                Skew\n",
              "MiscVal       21.940\n",
              "PoolArea      17.689\n",
              "LotArea       13.109\n",
              "LowQualFinSF  12.085\n",
              "3SsnPorch     11.372\n",
              "LandSlope      4.973\n",
              "KitchenAbvGr   4.301\n",
              "BsmtFinSF2     4.145\n",
              "EnclosedPorch  4.002\n",
              "ScreenPorch    3.945"
            ],
            "text/html": [
              "\n",
              "  <div id=\"df-ec9e27e8-ef32-4c12-9b8d-64b09a7e7ef5\">\n",
              "    <div class=\"colab-df-container\">\n",
              "      <div>\n",
              "<style scoped>\n",
              "    .dataframe tbody tr th:only-of-type {\n",
              "        vertical-align: middle;\n",
              "    }\n",
              "\n",
              "    .dataframe tbody tr th {\n",
              "        vertical-align: top;\n",
              "    }\n",
              "\n",
              "    .dataframe thead th {\n",
              "        text-align: right;\n",
              "    }\n",
              "</style>\n",
              "<table border=\"1\" class=\"dataframe\">\n",
              "  <thead>\n",
              "    <tr style=\"text-align: right;\">\n",
              "      <th></th>\n",
              "      <th>Skew</th>\n",
              "    </tr>\n",
              "  </thead>\n",
              "  <tbody>\n",
              "    <tr>\n",
              "      <th>MiscVal</th>\n",
              "      <td>21.940</td>\n",
              "    </tr>\n",
              "    <tr>\n",
              "      <th>PoolArea</th>\n",
              "      <td>17.689</td>\n",
              "    </tr>\n",
              "    <tr>\n",
              "      <th>LotArea</th>\n",
              "      <td>13.109</td>\n",
              "    </tr>\n",
              "    <tr>\n",
              "      <th>LowQualFinSF</th>\n",
              "      <td>12.085</td>\n",
              "    </tr>\n",
              "    <tr>\n",
              "      <th>3SsnPorch</th>\n",
              "      <td>11.372</td>\n",
              "    </tr>\n",
              "    <tr>\n",
              "      <th>LandSlope</th>\n",
              "      <td>4.973</td>\n",
              "    </tr>\n",
              "    <tr>\n",
              "      <th>KitchenAbvGr</th>\n",
              "      <td>4.301</td>\n",
              "    </tr>\n",
              "    <tr>\n",
              "      <th>BsmtFinSF2</th>\n",
              "      <td>4.145</td>\n",
              "    </tr>\n",
              "    <tr>\n",
              "      <th>EnclosedPorch</th>\n",
              "      <td>4.002</td>\n",
              "    </tr>\n",
              "    <tr>\n",
              "      <th>ScreenPorch</th>\n",
              "      <td>3.945</td>\n",
              "    </tr>\n",
              "  </tbody>\n",
              "</table>\n",
              "</div>\n",
              "      <button class=\"colab-df-convert\" onclick=\"convertToInteractive('df-ec9e27e8-ef32-4c12-9b8d-64b09a7e7ef5')\"\n",
              "              title=\"Convert this dataframe to an interactive table.\"\n",
              "              style=\"display:none;\">\n",
              "        \n",
              "  <svg xmlns=\"http://www.w3.org/2000/svg\" height=\"24px\"viewBox=\"0 0 24 24\"\n",
              "       width=\"24px\">\n",
              "    <path d=\"M0 0h24v24H0V0z\" fill=\"none\"/>\n",
              "    <path d=\"M18.56 5.44l.94 2.06.94-2.06 2.06-.94-2.06-.94-.94-2.06-.94 2.06-2.06.94zm-11 1L8.5 8.5l.94-2.06 2.06-.94-2.06-.94L8.5 2.5l-.94 2.06-2.06.94zm10 10l.94 2.06.94-2.06 2.06-.94-2.06-.94-.94-2.06-.94 2.06-2.06.94z\"/><path d=\"M17.41 7.96l-1.37-1.37c-.4-.4-.92-.59-1.43-.59-.52 0-1.04.2-1.43.59L10.3 9.45l-7.72 7.72c-.78.78-.78 2.05 0 2.83L4 21.41c.39.39.9.59 1.41.59.51 0 1.02-.2 1.41-.59l7.78-7.78 2.81-2.81c.8-.78.8-2.07 0-2.86zM5.41 20L4 18.59l7.72-7.72 1.47 1.35L5.41 20z\"/>\n",
              "  </svg>\n",
              "      </button>\n",
              "      \n",
              "  <style>\n",
              "    .colab-df-container {\n",
              "      display:flex;\n",
              "      flex-wrap:wrap;\n",
              "      gap: 12px;\n",
              "    }\n",
              "\n",
              "    .colab-df-convert {\n",
              "      background-color: #E8F0FE;\n",
              "      border: none;\n",
              "      border-radius: 50%;\n",
              "      cursor: pointer;\n",
              "      display: none;\n",
              "      fill: #1967D2;\n",
              "      height: 32px;\n",
              "      padding: 0 0 0 0;\n",
              "      width: 32px;\n",
              "    }\n",
              "\n",
              "    .colab-df-convert:hover {\n",
              "      background-color: #E2EBFA;\n",
              "      box-shadow: 0px 1px 2px rgba(60, 64, 67, 0.3), 0px 1px 3px 1px rgba(60, 64, 67, 0.15);\n",
              "      fill: #174EA6;\n",
              "    }\n",
              "\n",
              "    [theme=dark] .colab-df-convert {\n",
              "      background-color: #3B4455;\n",
              "      fill: #D2E3FC;\n",
              "    }\n",
              "\n",
              "    [theme=dark] .colab-df-convert:hover {\n",
              "      background-color: #434B5C;\n",
              "      box-shadow: 0px 1px 3px 1px rgba(0, 0, 0, 0.15);\n",
              "      filter: drop-shadow(0px 1px 2px rgba(0, 0, 0, 0.3));\n",
              "      fill: #FFFFFF;\n",
              "    }\n",
              "  </style>\n",
              "\n",
              "      <script>\n",
              "        const buttonEl =\n",
              "          document.querySelector('#df-ec9e27e8-ef32-4c12-9b8d-64b09a7e7ef5 button.colab-df-convert');\n",
              "        buttonEl.style.display =\n",
              "          google.colab.kernel.accessAllowed ? 'block' : 'none';\n",
              "\n",
              "        async function convertToInteractive(key) {\n",
              "          const element = document.querySelector('#df-ec9e27e8-ef32-4c12-9b8d-64b09a7e7ef5');\n",
              "          const dataTable =\n",
              "            await google.colab.kernel.invokeFunction('convertToInteractive',\n",
              "                                                     [key], {});\n",
              "          if (!dataTable) return;\n",
              "\n",
              "          const docLinkHtml = 'Like what you see? Visit the ' +\n",
              "            '<a target=\"_blank\" href=https://colab.research.google.com/notebooks/data_table.ipynb>data table notebook</a>'\n",
              "            + ' to learn more about interactive tables.';\n",
              "          element.innerHTML = '';\n",
              "          dataTable['output_type'] = 'display_data';\n",
              "          await google.colab.output.renderOutput(dataTable, element);\n",
              "          const docLink = document.createElement('div');\n",
              "          docLink.innerHTML = docLinkHtml;\n",
              "          element.appendChild(docLink);\n",
              "        }\n",
              "      </script>\n",
              "    </div>\n",
              "  </div>\n",
              "  "
            ]
          },
          "metadata": {},
          "execution_count": 37
        }
      ]
    },
    {
      "cell_type": "markdown",
      "source": [
        "##### Box Cox Transformation of (highly) skewed features\n",
        "* scipy의 boxcox1p 함수를 사용하여 $1 + x$의 Box-Cox Transformation 계산\n",
        "* $\\lambda = 0$ 설정 : target variable에 사용한 log1p와 동일"
      ],
      "metadata": {
        "id": "nN1Z3KPJ4hNZ"
      }
    },
    {
      "cell_type": "code",
      "source": [
        "# Box-Cox Transformation\n",
        "skewness = skewness[abs(skewness) > 0.75]\n",
        "print(\"There are {} skewed numerical features to Box Cox transform\".format(skewness.shape[0]))\n",
        "\n",
        "from scipy.special import boxcox1p\n",
        "skewed_features = skewness.index\n",
        "lam = 0.15\n",
        "for feat in skewed_features:\n",
        "  # all_data[feat] += 1\n",
        "  all_data[feat] = boxcox1p(all_data[feat], lam)\n",
        "\n",
        "# all_data[skewed_features] = np.log1p(all_data[skewed_features])"
      ],
      "metadata": {
        "id": "kamUcq7T4ewb",
        "colab": {
          "base_uri": "https://localhost:8080/"
        },
        "outputId": "16ae794d-1802-40d8-8d55-c4386134c65d"
      },
      "execution_count": 38,
      "outputs": [
        {
          "output_type": "stream",
          "name": "stdout",
          "text": [
            "There are 59 skewed numerical features to Box Cox transform\n"
          ]
        }
      ]
    },
    {
      "cell_type": "markdown",
      "source": [
        "##### Getting dummy categorical features"
      ],
      "metadata": {
        "id": "yRvY3_oS6n50"
      }
    },
    {
      "cell_type": "code",
      "source": [
        "# dummy categorical feature\n",
        "all_data = pd.get_dummies(all_data)\n",
        "print(all_data.shape)"
      ],
      "metadata": {
        "colab": {
          "base_uri": "https://localhost:8080/"
        },
        "id": "Gw06y7L_6jD6",
        "outputId": "c3841820-bedc-4fd1-b46d-0b525df683a2"
      },
      "execution_count": 39,
      "outputs": [
        {
          "output_type": "stream",
          "name": "stdout",
          "text": [
            "(2917, 220)\n"
          ]
        }
      ]
    },
    {
      "cell_type": "code",
      "source": [
        "# 새로운 train/test set 가져오기\n",
        "train = all_data[:ntrain]\n",
        "test = all_data[ntrain:]"
      ],
      "metadata": {
        "id": "8EHthsxf61t1"
      },
      "execution_count": 40,
      "outputs": []
    },
    {
      "cell_type": "markdown",
      "source": [
        "### Modeling"
      ],
      "metadata": {
        "id": "mHllJdTm6_OW"
      }
    },
    {
      "cell_type": "code",
      "source": [
        "# 라이브러리 임포트\n",
        "from sklearn.linear_model import ElasticNet, Lasso, BayesianRidge, LassoLarsIC\n",
        "from sklearn.ensemble import RandomForestRegressor, GradientBoostingRegressor\n",
        "from sklearn.kernel_ridge import KernelRidge\n",
        "from sklearn.pipeline import make_pipeline\n",
        "from sklearn.preprocessing import RobustScaler\n",
        "from sklearn.base import BaseEstimator, TransformerMixin, RegressorMixin, clone\n",
        "from sklearn.model_selection import KFold, cross_val_score, train_test_split\n",
        "from sklearn.metrics import mean_squared_error\n",
        "import xgboost as xgb\n",
        "import lightgbm as lgb"
      ],
      "metadata": {
        "id": "HbBCncod7M2e"
      },
      "execution_count": 44,
      "outputs": []
    },
    {
      "cell_type": "markdown",
      "source": [
        "##### Define a cross validation strategy\n",
        "* sklearn의 cross_val_score 함수 사용\n",
        "  - shuffle 속성 없음 -> 교차 검증 수행 전에 데이터셋을 shuffle하기 위한 코드 추가 필요"
      ],
      "metadata": {
        "id": "S811ZFBB8JJq"
      }
    },
    {
      "cell_type": "code",
      "source": [
        "# Validation fuction\n",
        "n_folds = 5\n",
        "\n",
        "def rmsle_cv(model):\n",
        "  kf = KFold(n_folds, shuffle=True, random_state=42).get_n_splits(train.values)\n",
        "  rmse = np.sqrt(-cross_val_score(model, train.values, y_train, scoring=\"neg_mean_squared_error\", cv = kf))\n",
        "  return(rmse)"
      ],
      "metadata": {
        "id": "XG3eHuzq7_AC"
      },
      "execution_count": 45,
      "outputs": []
    },
    {
      "cell_type": "markdown",
      "source": [
        "#### Base models\n",
        "* **LASSO Regression**\n",
        "  - outlier에 매우 민감\n",
        "  \n",
        "    -> sklearn의 Robustscaler() 메서드 사용 "
      ],
      "metadata": {
        "id": "rTX97Bv49Ndt"
      }
    },
    {
      "cell_type": "code",
      "source": [
        "# LASSO Regression\n",
        "lasso = make_pipeline(RobustScaler(), Lasso(alpha = 0.0005, random_state=1))"
      ],
      "metadata": {
        "id": "mgbQt52v9oaS"
      },
      "execution_count": 46,
      "outputs": []
    },
    {
      "cell_type": "markdown",
      "source": [
        "* **Elastic Net Regression** : sklearn의 Robustscaler() 메서드 사용"
      ],
      "metadata": {
        "id": "2KwD6zXn92v9"
      }
    },
    {
      "cell_type": "code",
      "source": [
        "# Elastic Net Regression\n",
        "ENet = make_pipeline(RobustScaler(), ElasticNet(alpha = 0.0005, l1_ratio = .9, random_state=3))"
      ],
      "metadata": {
        "id": "mcsW6h_q9zdL"
      },
      "execution_count": 47,
      "outputs": []
    },
    {
      "cell_type": "markdown",
      "source": [
        "* **Kernel Ridge Regression**"
      ],
      "metadata": {
        "id": "htPlj7TK-PP1"
      }
    },
    {
      "cell_type": "code",
      "source": [
        "# Kernel Ridge Regression\n",
        "KRR = KernelRidge(alpha = 0.6, kernel = 'polynomial', degree = 2, coef0 = 2.5)"
      ],
      "metadata": {
        "id": "O1OVda7X-RSd"
      },
      "execution_count": 48,
      "outputs": []
    },
    {
      "cell_type": "markdown",
      "source": [
        "* **Gradient Boosting Regression** : outlier에 견고하도록 해주는 huber loss 사용"
      ],
      "metadata": {
        "id": "_Pl9k-NT-ecE"
      }
    },
    {
      "cell_type": "code",
      "source": [
        "# Gradient Boosting Regression\n",
        "GBoost = GradientBoostingRegressor(n_estimators=3000, learning_rate=0.05,\n",
        "                                   max_depth=4, max_features='sqrt',\n",
        "                                   min_samples_leaf=15, min_samples_split=10,\n",
        "                                   loss='huber', random_state=5)"
      ],
      "metadata": {
        "id": "D9Ns4iE5-Z_o"
      },
      "execution_count": 49,
      "outputs": []
    },
    {
      "cell_type": "markdown",
      "source": [
        "* **XGBoost**"
      ],
      "metadata": {
        "id": "gyFCPi4Y-fC2"
      }
    },
    {
      "cell_type": "code",
      "source": [
        "# XGBoost\n",
        "model_xgb = xgb.XGBRegressor(colsample_bytree=0.4603, gamma=0.0468,\n",
        "                             learning_rate=0.05, max_depth=3,\n",
        "                             min_child_weight=1.7817, n_estimators=2200,\n",
        "                             reg_alpha=0.4640, reg_lambda=0.8571,\n",
        "                             subsample=0.5213, silent=1,\n",
        "                             random_state=7, nthread = -1)"
      ],
      "metadata": {
        "id": "R_zbdAcV-72o"
      },
      "execution_count": 50,
      "outputs": []
    },
    {
      "cell_type": "markdown",
      "source": [
        "* **LightGBM**"
      ],
      "metadata": {
        "id": "f79PInGC_dJy"
      }
    },
    {
      "cell_type": "code",
      "source": [
        "# LightGBM\n",
        "model_lgb = lgb.LGBMRegressor(objective='regression', num_leaves=5,\n",
        "                              learning_rate=0.05, n_estimators=720,\n",
        "                              max_bin = 55, bagging_fraction = 0.8,\n",
        "                              bagging_freq = 5, feature_fraction = 0.2319,\n",
        "                              feature_fraction_seed = 9, bagging_seed = 9,\n",
        "                              min_data_in_leaf = 6, min_sum_hessian_in_leaf = 11)"
      ],
      "metadata": {
        "id": "upHBacHc_cTo"
      },
      "execution_count": 51,
      "outputs": []
    },
    {
      "cell_type": "markdown",
      "source": [
        "#### Base models scores\n",
        "* 교차 검증 rmsle error로 평가"
      ],
      "metadata": {
        "id": "Go-LLBbRABJi"
      }
    },
    {
      "cell_type": "code",
      "source": [
        "# LASSO Regression\n",
        "score = rmsle_cv(lasso)\n",
        "print(\"\\nLasso score: {:.4f} ({:.4f})\\n\".format(score.mean(), score.std()))"
      ],
      "metadata": {
        "colab": {
          "base_uri": "https://localhost:8080/"
        },
        "id": "ve2CQmYA__mm",
        "outputId": "79adcade-e8f6-4e87-9386-9516b58de16c"
      },
      "execution_count": 53,
      "outputs": [
        {
          "output_type": "stream",
          "name": "stdout",
          "text": [
            "\n",
            "Lasso score: 0.1115 (0.0074)\n",
            "\n"
          ]
        }
      ]
    },
    {
      "cell_type": "code",
      "source": [
        "# Elastic Net Regression\n",
        "score = rmsle_cv(ENet)\n",
        "print(\"\\nElasticNet score: {:.4f} ({:.4f})\\n\".format(score.mean(), score.std()))"
      ],
      "metadata": {
        "colab": {
          "base_uri": "https://localhost:8080/"
        },
        "id": "Hmf_0T3ZAPGe",
        "outputId": "7b9e9f64-7fbf-455f-ccc5-e0a9f665c7ca"
      },
      "execution_count": 54,
      "outputs": [
        {
          "output_type": "stream",
          "name": "stdout",
          "text": [
            "\n",
            "ElasticNet score: 0.1116 (0.0074)\n",
            "\n"
          ]
        }
      ]
    },
    {
      "cell_type": "code",
      "source": [
        "# Kernel Ridge Regression\n",
        "score = rmsle_cv(KRR)\n",
        "print(\"\\nKernel Ridge score: {:.4f} ({:.4f})\\n\".format(score.mean(), score.std()))"
      ],
      "metadata": {
        "colab": {
          "base_uri": "https://localhost:8080/"
        },
        "id": "iWr13_5MAQTL",
        "outputId": "116baf94-3762-458a-fd86-6afd387e1d80"
      },
      "execution_count": 55,
      "outputs": [
        {
          "output_type": "stream",
          "name": "stdout",
          "text": [
            "\n",
            "Kernel Ridge score: 0.1153 (0.0075)\n",
            "\n"
          ]
        }
      ]
    },
    {
      "cell_type": "code",
      "source": [
        "# Gradient Boosting Regression\n",
        "score = rmsle_cv(GBoost)\n",
        "print(\"\\nGradient Boosting score: {:.4f} ({:.4f})\\n\".format(score.mean(), score.std()))"
      ],
      "metadata": {
        "colab": {
          "base_uri": "https://localhost:8080/"
        },
        "id": "Ehox4UULAQpO",
        "outputId": "450e8c06-0033-4bd1-cf0c-aa32c60edfa2"
      },
      "execution_count": 56,
      "outputs": [
        {
          "output_type": "stream",
          "name": "stdout",
          "text": [
            "\n",
            "Gradient Boosting score: 0.1167 (0.0083)\n",
            "\n"
          ]
        }
      ]
    },
    {
      "cell_type": "code",
      "source": [
        "# XGBoost\n",
        "score = rmsle_cv(model_xgb)\n",
        "print(\"\\nXgboost score: {:.4f} ({:.4f})\\n\".format(score.mean(), score.std()))"
      ],
      "metadata": {
        "colab": {
          "base_uri": "https://localhost:8080/"
        },
        "id": "_0pQGWWcAQ4Y",
        "outputId": "4f1da7e5-4f57-439d-92ca-f10ba1d9b987"
      },
      "execution_count": 57,
      "outputs": [
        {
          "output_type": "stream",
          "name": "stdout",
          "text": [
            "\n",
            "Xgboost score: 0.1150 (0.0066)\n",
            "\n"
          ]
        }
      ]
    },
    {
      "cell_type": "code",
      "source": [
        "# LightGBM\n",
        "score = rmsle_cv(model_lgb)\n",
        "print(\"\\nLGBM score: {:.4f} ({:.4f})\\n\".format(score.mean(), score.std()))"
      ],
      "metadata": {
        "colab": {
          "base_uri": "https://localhost:8080/"
        },
        "id": "rvl3ExTdAVqc",
        "outputId": "7db5bee3-50e0-4f5b-8b15-e996f2f223c8"
      },
      "execution_count": 58,
      "outputs": [
        {
          "output_type": "stream",
          "name": "stdout",
          "text": [
            "\n",
            "LGBM score: 0.1176 (0.0062)\n",
            "\n"
          ]
        }
      ]
    },
    {
      "cell_type": "markdown",
      "source": [
        "### Stacking models\n",
        "#### Simplest Stacking approach : Averaging base models\n",
        "* 사이킷런을 모델로 확장하고, encapsulation과 코드 재사용(상속)을 활용하기 위해 새로운 class 생성"
      ],
      "metadata": {
        "id": "KeOX9MTfBDZe"
      }
    },
    {
      "cell_type": "markdown",
      "source": [
        "##### Averaged base models class"
      ],
      "metadata": {
        "id": "uTzpKJmnCHKI"
      }
    },
    {
      "cell_type": "code",
      "source": [
        "# Averaged base models class\n",
        "class AveragingModels(BaseEstimator, RegressorMixin, TransformerMixin):\n",
        "    def __init__(self, models):\n",
        "        self.models = models\n",
        "        \n",
        "    # we define clones of the original models to fit the data in\n",
        "    def fit(self, X, y):\n",
        "        self.models_ = [clone(x) for x in self.models]\n",
        "        \n",
        "        # Train cloned base models\n",
        "        for model in self.models_:\n",
        "            model.fit(X, y)\n",
        "\n",
        "        return self\n",
        "    \n",
        "    #Now we do the predictions for cloned models and average them\n",
        "    def predict(self, X):\n",
        "        predictions = np.column_stack([\n",
        "            model.predict(X) for model in self.models_\n",
        "        ])\n",
        "        return np.mean(predictions, axis=1)"
      ],
      "metadata": {
        "id": "sCFPXBEPDzUe"
      },
      "execution_count": 61,
      "outputs": []
    },
    {
      "cell_type": "markdown",
      "source": [
        "##### Averaged base models score\n",
        "* 네 개의 모델 (ENet, GBoost, KRR and lasso)의 평균 계산"
      ],
      "metadata": {
        "id": "h2N3lhthDJXo"
      }
    },
    {
      "cell_type": "code",
      "source": [
        "# Averaged base models score\n",
        "averaged_models = AveragingModels(models = (ENet, GBoost, KRR, lasso))\n",
        "\n",
        "score = rmsle_cv(averaged_models)\n",
        "print(\" Averaged base models score: {:.4f} ({:.4f})\\n\".format(score.mean(), score.std()))"
      ],
      "metadata": {
        "colab": {
          "base_uri": "https://localhost:8080/"
        },
        "id": "U3aVavH7DK2B",
        "outputId": "d6391fbf-9b5b-44c7-c20e-563e902c304c"
      },
      "execution_count": 62,
      "outputs": [
        {
          "output_type": "stream",
          "name": "stdout",
          "text": [
            " Averaged base models score: 0.1087 (0.0077)\n",
            "\n"
          ]
        }
      ]
    },
    {
      "cell_type": "markdown",
      "source": [
        "#### Less simple stacking : Adding a Meta-model\n",
        "* averaged base model에 meta-model을 추가 \n",
        "\n",
        "  -> base model의 out-of-folds prediction을 사용하여 meta-model 훈련\n",
        "\n",
        "* 훈련 절차\n",
        "\n",
        "1. total training set를 두 개의 disjoint set으로 분리 (train &  .holdout )\n",
        "2. 첫 번째 파트에서 여러 base model 학습(train)\n",
        "3. 두 번째 파트에서 이러한 base model 테스트(holdout).\n",
        "4. 3)의 예측(out-of-folds predictions)을 input, correct responses (target variable)을 output으로 사용하여 meta-model 훈련\n",
        "\n",
        "  - 처음 세 단계는 반복적으로 수행\n",
        "  - 전체 데이터가 out-of-folds prediction을 얻는 데 사용\n",
        "    \n",
        "    -> 네 번째 단계에서 meta-model을 훈련하기 위한 새로운 feature로 사용\n",
        "\n",
        "  - Prediction : test data에 대한 모든 base model의 예측을 평균화하고 meta-feature로 사용\n",
        "  - Final Prediction : meta-model로 수행\n",
        "\n",
        "  ![image.png](data:image/png;base64,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)"
      ],
      "metadata": {
        "id": "xJQWdgBREES6"
      }
    },
    {
      "cell_type": "markdown",
      "source": [
        "##### Stacking averaged Models Class"
      ],
      "metadata": {
        "id": "mYpQhH3BHd4D"
      }
    },
    {
      "cell_type": "code",
      "source": [
        "# Stacking averaged Models Class\n",
        "class StackingAveragedModels(BaseEstimator, RegressorMixin, TransformerMixin):\n",
        "    def __init__(self, base_models, meta_model, n_folds=5):\n",
        "        self.base_models = base_models\n",
        "        self.meta_model = meta_model\n",
        "        self.n_folds = n_folds\n",
        "   \n",
        "    # We again fit the data on clones of the original models\n",
        "    def fit(self, X, y):\n",
        "        self.base_models_ = [list() for x in self.base_models]\n",
        "        self.meta_model_ = clone(self.meta_model)\n",
        "        kfold = KFold(n_splits=self.n_folds, shuffle=True, random_state=156)\n",
        "        \n",
        "        # Train cloned base models then create out-of-fold predictions\n",
        "        # that are needed to train the cloned meta-model\n",
        "        out_of_fold_predictions = np.zeros((X.shape[0], len(self.base_models)))\n",
        "        for i, model in enumerate(self.base_models):\n",
        "            for train_index, holdout_index in kfold.split(X, y):\n",
        "                instance = clone(model)\n",
        "                self.base_models_[i].append(instance)\n",
        "                instance.fit(X[train_index], y[train_index])\n",
        "                y_pred = instance.predict(X[holdout_index])\n",
        "                out_of_fold_predictions[holdout_index, i] = y_pred\n",
        "                \n",
        "        # Now train the cloned  meta-model using the out-of-fold predictions as new feature\n",
        "        self.meta_model_.fit(out_of_fold_predictions, y)\n",
        "        return self\n",
        "   \n",
        "    #Do the predictions of all base models on the test data and use the averaged predictions as \n",
        "    #meta-features for the final prediction which is done by the meta-model\n",
        "    def predict(self, X):\n",
        "        meta_features = np.column_stack([\n",
        "            np.column_stack([model.predict(X) for model in base_models]).mean(axis=1)\n",
        "            for base_models in self.base_models_ ])\n",
        "        return self.meta_model_.predict(meta_features)"
      ],
      "metadata": {
        "id": "HX75nAV4HR0d"
      },
      "execution_count": 63,
      "outputs": []
    },
    {
      "cell_type": "markdown",
      "source": [
        "##### Stacking Averaged models Score\n",
        "* 두 접근법을 비교하기 위해 동일한 수의 모델 사용\n",
        "  - ENet, KRR, GBoost 모델 평균\n",
        "\n",
        "    -> meta-model로 lasso를 사용"
      ],
      "metadata": {
        "id": "o7jgQGgzHm7G"
      }
    },
    {
      "cell_type": "code",
      "source": [
        "# Stacking Averaged models Score\n",
        "stacked_averaged_models = StackingAveragedModels(base_models = (ENet, GBoost, KRR),\n",
        "                                                 meta_model = lasso)\n",
        "\n",
        "score = rmsle_cv(stacked_averaged_models)\n",
        "print(\"Stacking Averaged models score: {:.4f} ({:.4f})\".format(score.mean(), score.std()))"
      ],
      "metadata": {
        "colab": {
          "base_uri": "https://localhost:8080/"
        },
        "id": "slQRq-jzHrJI",
        "outputId": "b76fd032-e8db-4011-b074-01d30a81622e"
      },
      "execution_count": 64,
      "outputs": [
        {
          "output_type": "stream",
          "name": "stdout",
          "text": [
            "Stacking Averaged models score: 0.1081 (0.0073)\n"
          ]
        }
      ]
    },
    {
      "cell_type": "markdown",
      "source": [
        "### Ensembling StackedRegressor, XGBoost and LightGBM\n",
        "* StackedRegressor, XGBoost, LightGBM"
      ],
      "metadata": {
        "id": "TFaU2lqYHvIW"
      }
    },
    {
      "cell_type": "code",
      "source": [
        "# rmsle evaluation function\n",
        "def rmsle(y, y_pred):\n",
        "    return np.sqrt(mean_squared_error(y, y_pred))"
      ],
      "metadata": {
        "id": "EjfqU5JhHyTV"
      },
      "execution_count": 65,
      "outputs": []
    },
    {
      "cell_type": "markdown",
      "source": [
        "#### Final Training and Prediction\n",
        "##### **StackedRegressor**"
      ],
      "metadata": {
        "id": "2DuED2nyH3GD"
      }
    },
    {
      "cell_type": "code",
      "source": [
        "# StackedRegressor\n",
        "stacked_averaged_models.fit(train.values, y_train)\n",
        "stacked_train_pred = stacked_averaged_models.predict(train.values)\n",
        "stacked_pred = np.expm1(stacked_averaged_models.predict(test.values))\n",
        "print(rmsle(y_train, stacked_train_pred))"
      ],
      "metadata": {
        "colab": {
          "base_uri": "https://localhost:8080/"
        },
        "id": "1J9iKmh7H8oP",
        "outputId": "de1cb0b9-b794-4949-df35-a0adebe89601"
      },
      "execution_count": 66,
      "outputs": [
        {
          "output_type": "stream",
          "name": "stdout",
          "text": [
            "0.07839506096664638\n"
          ]
        }
      ]
    },
    {
      "cell_type": "markdown",
      "source": [
        "##### **XGBoost**"
      ],
      "metadata": {
        "id": "N9Namz05IBb8"
      }
    },
    {
      "cell_type": "code",
      "source": [
        "# XGBoost\n",
        "model_xgb.fit(train, y_train)\n",
        "xgb_train_pred = model_xgb.predict(train)\n",
        "xgb_pred = np.expm1(model_xgb.predict(test))\n",
        "print(rmsle(y_train, xgb_train_pred))"
      ],
      "metadata": {
        "colab": {
          "base_uri": "https://localhost:8080/"
        },
        "id": "8PMlw4mJIEH5",
        "outputId": "d343eede-d108-4509-8c5a-6db29b76d960"
      },
      "execution_count": 67,
      "outputs": [
        {
          "output_type": "stream",
          "name": "stdout",
          "text": [
            "0.0788580427618937\n"
          ]
        }
      ]
    },
    {
      "cell_type": "markdown",
      "source": [
        "##### **LightGBM**"
      ],
      "metadata": {
        "id": "DWtx9eV5IITC"
      }
    },
    {
      "cell_type": "code",
      "source": [
        "# LightGBM\n",
        "model_lgb.fit(train, y_train)\n",
        "lgb_train_pred = model_lgb.predict(train)\n",
        "lgb_pred = np.expm1(model_lgb.predict(test.values))\n",
        "print(rmsle(y_train, lgb_train_pred))"
      ],
      "metadata": {
        "colab": {
          "base_uri": "https://localhost:8080/"
        },
        "id": "WysxjU8tILOX",
        "outputId": "6ef5d874-026b-4486-89d0-d342dfa09992"
      },
      "execution_count": 68,
      "outputs": [
        {
          "output_type": "stream",
          "name": "stdout",
          "text": [
            "0.07294132053731643\n"
          ]
        }
      ]
    },
    {
      "cell_type": "code",
      "source": [
        "'''RMSE on the entire Train data when averaging'''\n",
        "\n",
        "print('RMSLE score on train data:')\n",
        "print(rmsle(y_train,stacked_train_pred*0.70 +\n",
        "               xgb_train_pred*0.15 + lgb_train_pred*0.15 ))"
      ],
      "metadata": {
        "colab": {
          "base_uri": "https://localhost:8080/"
        },
        "id": "VLdPIc2_IPE0",
        "outputId": "0dae94be-d581-413f-bbc7-0a26ac48e317"
      },
      "execution_count": 69,
      "outputs": [
        {
          "output_type": "stream",
          "name": "stdout",
          "text": [
            "RMSLE score on train data:\n",
            "0.07566957841091904\n"
          ]
        }
      ]
    },
    {
      "cell_type": "markdown",
      "source": [
        "##### **Ensemble prediction**"
      ],
      "metadata": {
        "id": "MsjGKQM9IRxp"
      }
    },
    {
      "cell_type": "code",
      "source": [
        "# Ensemble prediction\n",
        "ensemble = stacked_pred*0.70 + xgb_pred*0.15 + lgb_pred*0.15"
      ],
      "metadata": {
        "id": "wNFxVPFmIW8m"
      },
      "execution_count": 70,
      "outputs": []
    },
    {
      "cell_type": "markdown",
      "source": [
        "##### **Submission**"
      ],
      "metadata": {
        "id": "xslpVLRFIbjM"
      }
    },
    {
      "cell_type": "code",
      "source": [
        "# Submission\n",
        "sub = pd.DataFrame()\n",
        "sub['Id'] = test_ID\n",
        "sub['SalePrice'] = ensemble\n",
        "sub.to_csv('submission.csv',index=False)"
      ],
      "metadata": {
        "id": "b8t2lA-sIdab"
      },
      "execution_count": 71,
      "outputs": []
    }
  ]
}