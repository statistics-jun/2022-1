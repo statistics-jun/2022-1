{
  "cells": [
    {
      "cell_type": "markdown",
      "metadata": {
        "id": "view-in-github",
        "colab_type": "text"
      },
      "source": [
        "<a href=\"https://colab.research.google.com/github/statistics-jun/2022-1-ESAA/blob/main/ESAA_Week1_Classification.ipynb\" target=\"_parent\"><img src=\"https://colab.research.google.com/assets/colab-badge.svg\" alt=\"Open In Colab\"/></a>"
      ]
    },
    {
      "cell_type": "markdown",
      "metadata": {
        "id": "BZSEI7G1Qj3n"
      },
      "source": [
        "# 2022-1 ESAA 5기 김혜준 개념 필사 - 0311(금) 1주차 과제\n",
        " \n",
        "## <핸즈온 머신러닝>\n",
        "## Chapter 3 분류"
      ]
    },
    {
      "cell_type": "markdown",
      "metadata": {
        "id": "TQPXVfIkVCHm"
      },
      "source": [
        "### 3.1 MNIST\n",
        "* MNIST : 손으로 쓴 70,000개의 작은 숫자 이미지를 모은 데이터셋\n",
        " - 각 이미지는 어떤 숫자를 나타내는지 레이블 되어 있음\n",
        "\n"
      ]
    },
    {
      "cell_type": "code",
      "execution_count": null,
      "metadata": {
        "colab": {
          "base_uri": "https://localhost:8080/"
        },
        "id": "_7H4KmvbTB2P",
        "outputId": "290f4b74-6fca-4f72-aaa0-cc47ed2836bb"
      },
      "outputs": [
        {
          "output_type": "execute_result",
          "data": {
            "text/plain": [
              "dict_keys(['data', 'target', 'frame', 'categories', 'feature_names', 'target_names', 'DESCR', 'details', 'url'])"
            ]
          },
          "metadata": {},
          "execution_count": 1
        }
      ],
      "source": [
        "# MNIST 데이터셋을 내려받는 코드\n",
        "from sklearn.datasets import fetch_openml\n",
        "mnist = fetch_openml('mnist_784', version=1, as_frame=False) # 아래 과정에서 일어나는 오류 해결 위해 as_frame=False를 이용하여 MNIST 데이터셋을 numpy.ndarray 형태로 불러옴\n",
        "mnist.keys()"
      ]
    },
    {
      "cell_type": "markdown",
      "metadata": {
        "id": "zokbhqVLVB0h"
      },
      "source": [
        "* 사이킷런 데이터셋의 일반적인 딕셔너리 구조\n",
        " \n",
        " - 데이터 셋을 설명하는 DESCR 키\n",
        " - 샘플이 하나의 행, 특성이 하나의 열로 구성된 배열을 가진 data 키\n",
        " - 레이블 배열을 담은 target 키\n",
        "\n"
      ]
    },
    {
      "cell_type": "code",
      "execution_count": null,
      "metadata": {
        "id": "y3rlvA9_UPP8"
      },
      "outputs": [],
      "source": [
        "X, y = mnist[\"data\"], mnist[\"target\"]"
      ]
    },
    {
      "cell_type": "code",
      "execution_count": null,
      "metadata": {
        "colab": {
          "base_uri": "https://localhost:8080/"
        },
        "id": "Zi7Rcv1VY5RA",
        "outputId": "af53edea-e36c-45b6-e3ec-a4b3d6ff4a62"
      },
      "outputs": [
        {
          "output_type": "execute_result",
          "data": {
            "text/plain": [
              "(70000, 784)"
            ]
          },
          "metadata": {},
          "execution_count": 3
        }
      ],
      "source": [
        "X.shape"
      ]
    },
    {
      "cell_type": "code",
      "execution_count": null,
      "metadata": {
        "colab": {
          "base_uri": "https://localhost:8080/"
        },
        "id": "PtEr2v7RT42l",
        "outputId": "29df55fb-c784-4c72-f4ca-4a67db4e8262"
      },
      "outputs": [
        {
          "output_type": "execute_result",
          "data": {
            "text/plain": [
              "(70000,)"
            ]
          },
          "metadata": {},
          "execution_count": 4
        }
      ],
      "source": [
        "y.shape"
      ]
    },
    {
      "cell_type": "markdown",
      "metadata": {
        "id": "u9cTOzIsZWK9"
      },
      "source": [
        "* 70000개의 이미지, 각 이미지에는 784개의 특성\n",
        "  - 이미지가 28 * 28 픽셀이기 때문\n",
        "  - 각 특성은 0(흰색)부터 255(검은색)까지의 픽셀 강도\n",
        "\n"
      ]
    },
    {
      "cell_type": "code",
      "execution_count": null,
      "metadata": {
        "colab": {
          "base_uri": "https://localhost:8080/",
          "height": 248
        },
        "id": "yo4YMZaJUf1V",
        "outputId": "2922a60a-e679-450f-c900-4995ca5d3224"
      },
      "outputs": [
        {
          "output_type": "display_data",
          "data": {
            "text/plain": [
              "<Figure size 432x288 with 1 Axes>"
            ],
            "image/png": "[encoded data removed]"
          },
          "metadata": {
            "needs_background": "light"
          }
        }
      ],
      "source": [
        "# 데이터셋에서 이미지 확인\n",
        "import matplotlib as mpl\n",
        "import matplotlib.pyplot as plt\n",
        "\n",
        "# some_digit = X[0]\n",
        "# 오류 발생 (KeyError)\n",
        "# 원인 : fetch_openml 0.24.0 버전부터 as_frame argument의 default 옵션이 False(numpy.ndarray를 반환)에서 auto(pandas.DataFrame을 반환)로 변경되었기 때문\n",
        "# 해결 방법 #1 : to_numpy()를 사용해 pandas.DataFrame인 X를 numpy.ndarray로 바꾸기\n",
        "# 해결 방법 #2 : fetch_openml의 as_frame argument를 False로 설정히여 mnist 데이터셋 불러오기\n",
        "# 출처 : https://stackoverflow.com/questions/65506131/why-does-using-x0-in-mnist-classifier-code-give-me-an-error \n",
        "some_digit = X[0] # 샘플의 특성 벡터 추출\n",
        "some_digit_image = some_digit.reshape(28, 28) # 28 * 28 배열로 크기 변환\n",
        "\n",
        "plt.imshow(some_digit_image, cmap=\"binary\")\n",
        "plt.axis(\"off\")\n",
        "plt.show()"
      ]
    },
    {
      "cell_type": "code",
      "execution_count": null,
      "metadata": {
        "colab": {
          "base_uri": "https://localhost:8080/",
          "height": 35
        },
        "id": "hy4xhrcjkydU",
        "outputId": "947afa26-3afb-459c-b7aa-4bd6bfdc2e02"
      },
      "outputs": [
        {
          "output_type": "execute_result",
          "data": {
            "text/plain": [
              "'5'"
            ],
            "application/vnd.google.colaboratory.intrinsic+json": {
              "type": "string"
            }
          },
          "metadata": {},
          "execution_count": 6
        }
      ],
      "source": [
        "# 실제 레이블 확인\n",
        "y[0]"
      ]
    },
    {
      "cell_type": "code",
      "execution_count": null,
      "metadata": {
        "id": "oulOg5JJk2T9"
      },
      "outputs": [],
      "source": [
        "# 문자열 레이블 y를 정수로 변환\n",
        "import numpy as np # 넘파이 호출\n",
        "y = y.astype(np.uint8)"
      ]
    },
    {
      "cell_type": "code",
      "execution_count": null,
      "metadata": {
        "id": "X-iKqozTlnhY"
      },
      "outputs": [],
      "source": [
        "# 훈련(앞쪽 60,000개 이미지) / 테스트(뒤쪽 10,000개 이미지) 세트 분리\n",
        "X_train, X_test, y_train, y_test = X[:60000], X[60000:], y[:60000], y[60000:]"
      ]
    },
    {
      "cell_type": "markdown",
      "metadata": {
        "id": "aigEYbtanIqf"
      },
      "source": [
        "### 3.2 이진 분류기 훈련\n",
        "* 이진 분류기 예시 : 숫자 5만 식별하는 '5-감지기'\n",
        "  - '5'와 '5 아님' 두 개의 클래스를 구분"
      ]
    },
    {
      "cell_type": "code",
      "execution_count": null,
      "metadata": {
        "id": "V56hhrqClnbw"
      },
      "outputs": [],
      "source": [
        "# 분류 작업을 위한 타깃 벡터 생성\n",
        "y_train_5 = (y_train == 5) # 5는 True고, 다른 숫자는 모두 False\n",
        "y_test_5 = (y_test == 5)"
      ]
    },
    {
      "cell_type": "markdown",
      "metadata": {
        "id": "yxYaIdvtpuz_"
      },
      "source": [
        "* 확률적 경사 하강법(Stochastic Gradient Descent, SGD) 분류기 : 사이킷런의 SGDClassifer 클래스로 구현\n",
        "  - 장점 : 매우 큰 데이터셋을 효율적으로 처리 (한 번에 하나씩 훈련 샘플을 독립적으로 처리하기 때문) -> 온라인 학습에 적합\n",
        "  -  훈련하는 데 무작위성 사용 -> 결과 재현을 위해서는 random_state 매개변수 지정 필요"
      ]
    },
    {
      "cell_type": "code",
      "execution_count": null,
      "metadata": {
        "colab": {
          "base_uri": "https://localhost:8080/"
        },
        "id": "spm5iqE3nZFB",
        "outputId": "81175583-2120-4c91-c67d-5a4b14abea7d"
      },
      "outputs": [
        {
          "output_type": "execute_result",
          "data": {
            "text/plain": [
              "SGDClassifier(random_state=42)"
            ]
          },
          "metadata": {},
          "execution_count": 10
        }
      ],
      "source": [
        "# SGDClassifier 모델 생성 및 훈련\n",
        "from sklearn.linear_model import SGDClassifier\n",
        "\n",
        "sgd_clf = SGDClassifier(random_state=42)\n",
        "sgd_clf.fit(X_train, y_train_5)"
      ]
    },
    {
      "cell_type": "code",
      "execution_count": null,
      "metadata": {
        "colab": {
          "base_uri": "https://localhost:8080/"
        },
        "id": "9aqqkybJq-Mr",
        "outputId": "a70a4ba3-c468-41d8-acb3-ed0533319089"
      },
      "outputs": [
        {
          "output_type": "execute_result",
          "data": {
            "text/plain": [
              "array([ True])"
            ]
          },
          "metadata": {},
          "execution_count": 11
        }
      ],
      "source": [
        "# SGDClassifier 모델을 사용해 숫자 5 이미지 감지\n",
        "sgd_clf.predict([some_digit]) # 이미지가 5를 나타낸다고 추측 (True)"
      ]
    },
    {
      "cell_type": "markdown",
      "metadata": {
        "id": "aZsN3Ra8szAg"
      },
      "source": [
        "### 3.3 성능 측정\n",
        "#### 3.3.1 교차 검증을 사용한 정확도 측정\n",
        "- StratifiedKFold : 클래스별 비율이 유지되도록 폴드를 만들기 위해 계측적 샘플링 수행"
      ]
    },
    {
      "cell_type": "code",
      "execution_count": null,
      "metadata": {
        "colab": {
          "base_uri": "https://localhost:8080/"
        },
        "id": "TsWnMAPWq8rX",
        "outputId": "15938d76-6a92-44ec-e059-17e5b0cf45db"
      },
      "outputs": [
        {
          "output_type": "stream",
          "name": "stdout",
          "text": [
            "0.9669\n",
            "0.91625\n",
            "0.96785\n"
          ]
        }
      ],
      "source": [
        "# 교차 검증 구현\n",
        "# 사이킷런이 제공하는 기능보다 교차 검증 과정을 더 많이 제어해야 할 필요가 있는 경우\n",
        "# 사이킷런의 cross_val_score() 함수와 거의 같은 작업을 수행하고 동일한 결과를 출력\n",
        "from sklearn.model_selection import StratifiedKFold\n",
        "from sklearn.base import clone\n",
        "\n",
        "skfolds = StratifiedKFold(n_splits=3, random_state=42, shuffle=True) # random_state 옵션 사용하기 위해 shuffle=True 옵션 추가\n",
        "\n",
        "for train_index, test_index in skfolds.split(X_train, y_train_5):\n",
        "  clone_clf = clone(sgd_clf) # 매 반복에서 분류기 객체를 복제\n",
        "  X_train_folds = X_train[train_index]\n",
        "  y_train_folds = y_train_5[train_index]\n",
        "  X_test_fold = X_train[test_index]\n",
        "  y_test_fold = y_train_5[test_index]\n",
        "\n",
        "  clone_clf.fit(X_train_folds, y_train_folds) # 훈련 폴드로 훈련\n",
        "  y_pred = clone_clf.predict(X_test_fold) # 테스트 폴드로 예측\n",
        "  n_correct = sum(y_pred == y_test_fold) # 올바른 예측의 수 계산\n",
        "  print(n_correct / len(y_pred)) # 정확한 예측 비율 출력"
      ]
    },
    {
      "cell_type": "code",
      "execution_count": null,
      "metadata": {
        "colab": {
          "base_uri": "https://localhost:8080/"
        },
        "id": "0NILWeurubX0",
        "outputId": "c7dfccce-fef3-4565-daff-b4846cac01a6"
      },
      "outputs": [
        {
          "output_type": "execute_result",
          "data": {
            "text/plain": [
              "array([0.95035, 0.96035, 0.9604 ])"
            ]
          },
          "metadata": {},
          "execution_count": 13
        }
      ],
      "source": [
        "# cross_val_score() 함수로 SGDClassifier 모델 평가\n",
        "from sklearn.model_selection import cross_val_score\n",
        "cross_val_score(sgd_clf, X_train, y_train_5, cv=3, scoring=\"accuracy\") # 폴드가 3개인 k-겹 교차 검증을 사용\n",
        "                                                                       # 모든 교차 검증 폴드에 대해 정확도(정확한 예측의 비율) 95% 이상"
      ]
    },
    {
      "cell_type": "markdown",
      "metadata": {
        "id": "f6TNIwaT2xXP"
      },
      "source": [
        "* k-겹 교차 검증 : 훈련 세트를 k개의 폴드로 나누고, 각 폴드에 대해 예측을 만들고 평가하기 위해 나머지 폴드로 훈련시킨 모델 사용"
      ]
    },
    {
      "cell_type": "code",
      "execution_count": null,
      "metadata": {
        "id": "LvMxfpzP3tq6"
      },
      "outputs": [],
      "source": [
        "# 모든 이미지를 '5 아님' 클래스로 분류하는 더미 분류기 생성\n",
        "from sklearn.base import BaseEstimator\n",
        "\n",
        "class Never5Classifier(BaseEstimator):\n",
        "  def fit(self, X, y=None):\n",
        "    return self\n",
        "  def predict(self, X):\n",
        "    return np.zeros((len(X), 1), dtype=bool)"
      ]
    },
    {
      "cell_type": "code",
      "execution_count": null,
      "metadata": {
        "colab": {
          "base_uri": "https://localhost:8080/"
        },
        "id": "yqPTg3zt36o1",
        "outputId": "0c09e5f0-b9fa-4482-927a-2e82e0859071"
      },
      "outputs": [
        {
          "output_type": "execute_result",
          "data": {
            "text/plain": [
              "array([0.91125, 0.90855, 0.90915])"
            ]
          },
          "metadata": {},
          "execution_count": 15
        }
      ],
      "source": [
        "# 더미 분류기 모델 정확도 계산\n",
        "never_5_clf = Never5Classifier()\n",
        "cross_val_score(never_5_clf, X_train, y_train_5, cv=3, scoring=\"accuracy\") # 정확도 90% 이상 (이미지의 10% 정도만 숫자 '5'이기 때문)"
      ]
    },
    {
      "cell_type": "markdown",
      "metadata": {
        "id": "a85HY5cK5EOE"
      },
      "source": [
        "* 이와 같이 어떤 클래스가 다른 것보다 월등히 많은 불균형한 데이터셋\n",
        "\n",
        "  => 정확도를 분류기의 성능 측정 지표로 선호하지 않음"
      ]
    },
    {
      "cell_type": "markdown",
      "metadata": {
        "id": "ZOLLSN8i7AQD"
      },
      "source": [
        "#### 3.3.2 오차 행렬\n",
        "- 실제 타깃과 비교할 수 있도록 먼저 예측값을 생성\n",
        "\n",
        "  -> cross_val_predict() 함수 사용\n",
        "  - k-겹 교차 검증 수행\n",
        "  - 각 테스트 폴드에서 얻은 예측 반환\n",
        "  - 평가 점수 반환하지 않음"
      ]
    },
    {
      "cell_type": "code",
      "execution_count": null,
      "metadata": {
        "id": "XXwFvrJ85Ynn"
      },
      "outputs": [],
      "source": [
        "# cross_val_predict() 함수로 훈련 세트의 모든 샘플에 대해 깨끗한 예측 얻음\n",
        "from sklearn.model_selection import cross_val_predict\n",
        "\n",
        "y_train_pred = cross_val_predict(sgd_clf, X_train, y_train_5, cv=3)"
      ]
    },
    {
      "cell_type": "markdown",
      "metadata": {
        "id": "hUQ3RLRS925s"
      },
      "source": [
        "- confusion_matrix() 함수 : 타깃 클래스, 예측 클래스를 넣고 호출 -> 오차 행렬 생성"
      ]
    },
    {
      "cell_type": "code",
      "execution_count": null,
      "metadata": {
        "colab": {
          "base_uri": "https://localhost:8080/"
        },
        "id": "GWIhfl3c4nqV",
        "outputId": "d2471923-937a-49f4-cc68-c2c3e6de3d71"
      },
      "outputs": [
        {
          "output_type": "execute_result",
          "data": {
            "text/plain": [
              "array([[53892,   687],\n",
              "       [ 1891,  3530]])"
            ]
          },
          "metadata": {},
          "execution_count": 17
        }
      ],
      "source": [
        "# 오차 행렬 생성\n",
        "from sklearn.metrics import confusion_matrix\n",
        "confusion_matrix(y_train_5, y_train_pred) # 타깃 클래스 : y_train_5, 예측 클래스 : y_train_pred"
      ]
    },
    {
      "cell_type": "markdown",
      "metadata": {
        "id": "QDTO_khf_F3n"
      },
      "source": [
        "- 오차 행렬\n",
        "  - 행 : 실제 클래스\n",
        "  - 열 : 예측한 클래스\n",
        "- 해석\n",
        "  - 첫 번째 행 : 음성 클래스 (negative class) - '5 아님' 이미지\n",
        "    - 첫 번째 열 : 진짜 음성 (true negative) - 53892개를 '5 아님'으로 정확하게 분류\n",
        "    - 두 번째 열 : 거짓 양성 (false positive) - 687개를 '5'라고 잘못 분류\n",
        "  - 두 번째 행 : 양성 클래스 (positive class) - '5' 이미지\n",
        "    - 첫 번째 열 : 거짓 음성 (false negative) - 1891개를 '5 아님'으로 잘못 분류\n",
        "    - 두 번째 열 : 진짜 양성 (true positive) - 3530개를 '5'라고 정확히 분류\n",
        "- 완벽한 분류기 -> 진짜 양성, 진짜 음성만 존재 -> 오차 행렬의 주대각선(왼쪽 위에서 오른쪽 아래)만 0이 아님\n",
        "  "
      ]
    },
    {
      "cell_type": "code",
      "execution_count": null,
      "metadata": {
        "colab": {
          "base_uri": "https://localhost:8080/"
        },
        "id": "c459_pylBLCj",
        "outputId": "c33b6a3e-ae8b-4bea-a314-11e2dbf448c0"
      },
      "outputs": [
        {
          "output_type": "execute_result",
          "data": {
            "text/plain": [
              "array([[54579,     0],\n",
              "       [    0,  5421]])"
            ]
          },
          "metadata": {},
          "execution_count": 18
        }
      ],
      "source": [
        "y_train_perfect_predictions = y_train_5 # 완벽한 분류기일 경우\n",
        "confusion_matrix(y_train_5, y_train_perfect_predictions)"
      ]
    },
    {
      "cell_type": "markdown",
      "metadata": {
        "id": "a4kdShE6BnCF"
      },
      "source": [
        "* 정밀도 (precision) : 양성 예측의 정확도\n",
        "  \n",
        "  정밀도 = $\\frac{TP}{TP + FP}$\n",
        "\n",
        "    TP : 진짜 양성의 수\n",
        "    \n",
        "    FP : 거짓 양성의 수\n",
        "\n",
        "* 재현율 (recall) = 민감도 (sensitivity) = 진짜 양성 비율 (true positive rate, TPR) : 분류기가 정확하게 감지한 양성 샘플의 비율\n",
        "\n",
        "  재현율 = $\\frac{TP}{TP + FN}$\n",
        "\n",
        "  FN : 거짓 음성의 수"
      ]
    },
    {
      "cell_type": "markdown",
      "metadata": {
        "id": "i62TnMCcDtZb"
      },
      "source": [
        "#### 3.3.3 정밀도와 재현율"
      ]
    },
    {
      "cell_type": "code",
      "execution_count": null,
      "metadata": {
        "colab": {
          "base_uri": "https://localhost:8080/"
        },
        "id": "Tt8YTRtlDyss",
        "outputId": "5c05b85f-4302-499e-93b7-c2f5089cb229"
      },
      "outputs": [
        {
          "output_type": "execute_result",
          "data": {
            "text/plain": [
              "0.8370879772350012"
            ]
          },
          "metadata": {},
          "execution_count": 19
        }
      ],
      "source": [
        "# 정밀도\n",
        "from sklearn.metrics import precision_score, recall_score\n",
        "precision_score(y_train_5, y_train_pred) # == 3530 / (3530 + 687)\n",
        "# 5로 판별된 이미지 중 83.7%만 정확"
      ]
    },
    {
      "cell_type": "code",
      "execution_count": null,
      "metadata": {
        "colab": {
          "base_uri": "https://localhost:8080/"
        },
        "id": "Z9N6Kq0dEI8E",
        "outputId": "087c5927-ea2e-4137-ae76-e9c6410fee8c"
      },
      "outputs": [
        {
          "output_type": "execute_result",
          "data": {
            "text/plain": [
              "0.6511713705958311"
            ]
          },
          "metadata": {},
          "execution_count": 20
        }
      ],
      "source": [
        "# 재현율\n",
        "recall_score(y_train_5, y_train_pred) # == 3530 / (3530 + 1891)\n",
        "# 전체 숫자 5에서 65%만 감지"
      ]
    },
    {
      "cell_type": "markdown",
      "metadata": {
        "id": "XBHFrKSbFdYp"
      },
      "source": [
        "* F1 점수 (F1 score) : 정밀도와 재현율의 조화 평균\n",
        "\n",
        " F1 점수 = $\\frac{TP}{TP + \\frac{FN + FP}{2}}$\n",
        "  \n",
        "  - 정밀도와 재현율이 비슷한 분류기에서 F1 점수가 높음"
      ]
    },
    {
      "cell_type": "code",
      "execution_count": null,
      "metadata": {
        "colab": {
          "base_uri": "https://localhost:8080/"
        },
        "id": "Eg_HwAwyFaZz",
        "outputId": "dd0883fc-fb07-46fc-ab22-cc0d8054458e"
      },
      "outputs": [
        {
          "output_type": "execute_result",
          "data": {
            "text/plain": [
              "0.7325171197343846"
            ]
          },
          "metadata": {},
          "execution_count": 21
        }
      ],
      "source": [
        "# F1 점수\n",
        "from sklearn.metrics import f1_score\n",
        "f1_score(y_train_5, y_train_pred)"
      ]
    },
    {
      "cell_type": "markdown",
      "metadata": {
        "id": "8vQr-0lqHvth"
      },
      "source": [
        "#### 3.3.4 정밀도/재현율 트레이드오프\n",
        "- 정밀도 ↑ -> 재현율 ↓\n",
        "- 정밀도 ↓ -> 재현율 ↑\n",
        "\n",
        "- SGDClassifier : 결정 함수를 사용하여 각 샘플의 점수 계산\n",
        "  - 샘플 점수 > 결정 임곗값 => 양성 클래스\n",
        "  - 샘플 점수 < 결정 임곗값 => 음성 클래스\n",
        "  -  decision_function() 메서드 : 예측에 사용한 각 샘플의 점수 확인"
      ]
    },
    {
      "cell_type": "code",
      "execution_count": null,
      "metadata": {
        "colab": {
          "base_uri": "https://localhost:8080/"
        },
        "id": "7-h_UzfRGekq",
        "outputId": "d2ef2c45-645c-4366-9a30-abc696df99ed"
      },
      "outputs": [
        {
          "output_type": "execute_result",
          "data": {
            "text/plain": [
              "array([2164.22030239])"
            ]
          },
          "metadata": {},
          "execution_count": 22
        }
      ],
      "source": [
        "# predict() 대신 decision_function() 이용하여 샘플 점수 확인\n",
        "y_scores = sgd_clf.decision_function([some_digit])\n",
        "y_scores"
      ]
    },
    {
      "cell_type": "code",
      "execution_count": null,
      "metadata": {
        "colab": {
          "base_uri": "https://localhost:8080/"
        },
        "id": "vx8kTIJFKxMi",
        "outputId": "336a17f5-507e-42c8-86f9-f0962de7e5d3"
      },
      "outputs": [
        {
          "output_type": "execute_result",
          "data": {
            "text/plain": [
              "array([ True])"
            ]
          },
          "metadata": {},
          "execution_count": 23
        }
      ],
      "source": [
        "# 샘플 점수 기반으로 원하는 임계값을 정해 예측 생성\n",
        "threshold = 0\n",
        "y_some_digit_pred = (y_scores > threshold)\n",
        "y_some_digit_pred # predict()와 같은 결과인 True 반환"
      ]
    },
    {
      "cell_type": "code",
      "execution_count": null,
      "metadata": {
        "colab": {
          "base_uri": "https://localhost:8080/"
        },
        "id": "nSPHB3qsK74o",
        "outputId": "82b4dffa-073b-43fd-9de0-e8993606def2"
      },
      "outputs": [
        {
          "output_type": "execute_result",
          "data": {
            "text/plain": [
              "array([False])"
            ]
          },
          "metadata": {},
          "execution_count": 24
        }
      ],
      "source": [
        "# 임곗값을 높이면 재현율은 감소\n",
        "threshold = 8000\n",
        "y_some_digit_pred = (y_scores > threshold)\n",
        "y_some_digit_pred"
      ]
    },
    {
      "cell_type": "markdown",
      "metadata": {
        "id": "M9JENfxZRYuz"
      },
      "source": [
        "* 적절한 임곗값 결정 방법\n",
        "  - cross_val_predict() 함수를 사용해 훈련 세트에 있는 모든 샘플의 점수 계산\n",
        "    - 이때, 예측 결과가 아니라 결정 점수를 반환받도록 지정\n",
        "  - 재현율에 대한 정밀도 곡선\n",
        "    - 정밀도가 급격하게 줄어들기 시작하는 하강점 직전을 정밀도/재현율 트레이드오프로 선택하는 것이 좋음"
      ]
    },
    {
      "cell_type": "code",
      "execution_count": null,
      "metadata": {
        "id": "5-fJzfB0Ls9r"
      },
      "outputs": [],
      "source": [
        "# 적절한 임곗값 결정\n",
        "# cross_val_predict() 함수를 사용해 훈련 세트에 있는 모든 샘플의 점수 계산\n",
        "# 이때, 예측 결과가 아니라 결정 점수를 반환받도록 지정\n",
        "y_scores = cross_val_predict(sgd_clf, X_train, y_train_5, cv=3,\n",
        "                             method=\"decision_function\")"
      ]
    },
    {
      "cell_type": "code",
      "execution_count": null,
      "metadata": {
        "id": "WqcWA_XCMaj9"
      },
      "outputs": [],
      "source": [
        "# precision_recall_curve() 함수를 사용해 가능한 모든 임곗값에 대해 정밀도와 재현율 계산\n",
        "from sklearn.metrics import precision_recall_curve\n",
        "\n",
        "precisions, recalls, thresholds = precision_recall_curve(y_train_5, y_scores)"
      ]
    },
    {
      "cell_type": "code",
      "execution_count": null,
      "metadata": {
        "colab": {
          "base_uri": "https://localhost:8080/",
          "height": 288
        },
        "id": "b3EecAzcMlsF",
        "outputId": "a5c06c0f-1451-4a3b-fc50-079d5f31aaec"
      },
      "outputs": [
        {
          "output_type": "display_data",
          "data": {
            "text/plain": [
              "<Figure size 432x288 with 1 Axes>"
            ],
            "image/png": "[encoded data removed]"
          },
          "metadata": {
            "needs_background": "light"
          }
        }
      ],
      "source": [
        "# 맷플롯립을 이용해 임곗값의 함수로 정밀도와 재현율 그리기\n",
        "def plot_precision_recall_vs_threshold(precisions, recalls, thresholds):\n",
        "  plt.plot(thresholds, precisions[:-1], \"b--\", label=\"Precision\")\n",
        "  plt.plot(thresholds, recalls[:-1], \"g-\", label=\"Recall\")\n",
        "  # 임곗값을 표시하고 범례, 축 이름, 그리드를 추가합니다.\n",
        "  plt.legend(loc=\"center right\", fontsize=16)\n",
        "  plt.xlabel(\"Threshold\", fontsize=16)\n",
        "  plt.grid(True)\n",
        "  plt.axis([-50000, 50000, 0, 1])   \n",
        "\n",
        "plot_precision_recall_vs_threshold(precisions, recalls, thresholds)\n",
        "plt.show()"
      ]
    },
    {
      "cell_type": "code",
      "execution_count": null,
      "metadata": {
        "colab": {
          "base_uri": "https://localhost:8080/"
        },
        "id": "NMXsy7g_SqQB",
        "outputId": "48aeffca-84fb-48dc-afd8-61ab35626fb0"
      },
      "outputs": [
        {
          "output_type": "execute_result",
          "data": {
            "text/plain": [
              "3370.0194991439557"
            ]
          },
          "metadata": {},
          "execution_count": 28
        }
      ],
      "source": [
        "# 최소한 90% 정밀도가 되는 가장 낮은 임곗값 계산\n",
        "# np.argmax()는 최댓값의 첫 번째 인덱스를 반환 -> 여기서는 첫 번째 True 값을 의미\n",
        "threshold_90_decision = thresholds[np.argmax(precisions >= 0.90)]\n",
        "threshold_90_decision"
      ]
    },
    {
      "cell_type": "code",
      "execution_count": null,
      "metadata": {
        "id": "k5f8A00OTaPj"
      },
      "outputs": [],
      "source": [
        "# predict() 대신 아래 코드를 실행하여 훈련 세트에 대한 예측 생성\n",
        "y_train_pred_90 = (y_scores >= threshold_90_decision)"
      ]
    },
    {
      "cell_type": "code",
      "execution_count": null,
      "metadata": {
        "colab": {
          "base_uri": "https://localhost:8080/"
        },
        "id": "pjHqnYW5Tvhp",
        "outputId": "69561807-6d69-47cf-d102-0b357038aefa"
      },
      "outputs": [
        {
          "output_type": "execute_result",
          "data": {
            "text/plain": [
              "0.9000345901072293"
            ]
          },
          "metadata": {},
          "execution_count": 30
        }
      ],
      "source": [
        "# 예측에 대한 정밀도 확인\n",
        "precision_score(y_train_5, y_train_pred_90)"
      ]
    },
    {
      "cell_type": "code",
      "execution_count": null,
      "metadata": {
        "colab": {
          "base_uri": "https://localhost:8080/"
        },
        "id": "ARstF-PuT5tm",
        "outputId": "0882b6dd-80a5-442d-80af-66e9a75a3f3e"
      },
      "outputs": [
        {
          "output_type": "execute_result",
          "data": {
            "text/plain": [
              "0.4799852425751706"
            ]
          },
          "metadata": {},
          "execution_count": 31
        }
      ],
      "source": [
        "# 예측에 대한 재현율 확인\n",
        "recall_score(y_train_5, y_train_pred_90)"
      ]
    },
    {
      "cell_type": "markdown",
      "metadata": {
        "id": "GLP09-xrURmz"
      },
      "source": [
        "* 재현율이 너무 낮다면 높은 정밀도의 분류기는 전혀 유용하지 않다는 것을 유의"
      ]
    },
    {
      "cell_type": "markdown",
      "metadata": {
        "id": "GTVBFrymUVr9"
      },
      "source": [
        "#### 3.3.5 ROC 곡선\n",
        "* 수신기 조작 특성 (receiver operating characteristic, ROC) 곡선 : 거짓 양성 비율 (false positive rate, FPR)에 대한 진짜 양성 비율 (true positive rate, TPR, 재현율)의 곡선\n",
        " - 이진 분류에서 널리 사용\n",
        " - 정밀도/재현율 곡선과 유사\n",
        " - FPR : 양성으로 잘못 분류된 음성 샘플의 비율\n",
        "    - FPR = 1 - 진짜 음성 비율 (true negative rate, TNR, 특이도)\n",
        "  - TNR: 음성으로 정확하게 분류한 음성 샘플의 비율\n",
        "\n",
        "  => 민감도 (재현율)에 대한 1-특이도 그래프\n",
        "* ROC 곡선 그리는 방법\n",
        "  - roc_vurve() 함수로 여러 임곗값에서 TPR과 FPR 계산\n",
        "  - 맷플롯립으로 TPR에 대한 FPR 곡선 그리기\n"
      ]
    },
    {
      "cell_type": "code",
      "execution_count": null,
      "metadata": {
        "id": "IojxObqvUgPz"
      },
      "outputs": [],
      "source": [
        "# ROC 곡선 그리기\n",
        "# 여러 임곗값에서 TPR과 FPR 계산\n",
        "from sklearn.metrics import roc_curve\n",
        "\n",
        "fpr, tpr, thresholds = roc_curve(y_train_5, y_scores)"
      ]
    },
    {
      "cell_type": "code",
      "execution_count": null,
      "metadata": {
        "colab": {
          "base_uri": "https://localhost:8080/",
          "height": 288
        },
        "id": "FtidYuVUYA7a",
        "outputId": "813af400-279e-4896-85fe-033f4573193d"
      },
      "outputs": [
        {
          "output_type": "display_data",
          "data": {
            "text/plain": [
              "<Figure size 432x288 with 1 Axes>"
            ],
            "image/png": "[encoded data removed]"
          },
          "metadata": {
            "needs_background": "light"
          }
        }
      ],
      "source": [
        "# TPR에 대한 FPR 곡선 그리기\n",
        "def plot_roc_curve(fpr, tpr, label=None):\n",
        "  plt.plot(fpr, tpr, linewidth=2, label=label)\n",
        "  plt.plot([0,1], [0,1], 'k--') # 대각 점선\n",
        "  # 축 이름, 그리드 추가\n",
        "  plt.axis([0, 1, 0, 1])\n",
        "  plt.xlabel('False Positive Rate (Fall-Out)', fontsize=16)\n",
        "  plt.ylabel('True Positive Rate (Recall)', fontsize=16)\n",
        "  plt.grid(True)\n",
        "\n",
        "plot_roc_curve(fpr, tpr)\n",
        "plt.show()"
      ]
    },
    {
      "cell_type": "markdown",
      "metadata": {
        "id": "X40rar4HZWZf"
      },
      "source": [
        "* ROC 곡선 해석\n",
        "  - 재현율(TPR)이 높을수록 분류기가 만드는 거짓 양성(FPR)이 늘어남\n",
        "  - 점선은 완전한 랜덤 분류기의 ROC 곡선 의미\n",
        "  - 좋은 분류기는 이 점선에서 최대한 멀리 떨어져 있어야 함 (왼쪽 위 모서리)"
      ]
    },
    {
      "cell_type": "markdown",
      "metadata": {
        "id": "NTMcrCXyZtVg"
      },
      "source": [
        "* 곡선 아래의 면적(area under the curve, AUC)\n",
        "  - 완벽한 분류기 : ROC의 AUC가 1\n",
        "  - 완전한 랜덤 분류기 : ROC의 AUC가 0.5"
      ]
    },
    {
      "cell_type": "code",
      "execution_count": null,
      "metadata": {
        "colab": {
          "base_uri": "https://localhost:8080/"
        },
        "id": "348YckxzamaE",
        "outputId": "7942c78e-f615-45da-92f6-e7fa70e15c7a"
      },
      "outputs": [
        {
          "output_type": "execute_result",
          "data": {
            "text/plain": [
              "0.9604938554008616"
            ]
          },
          "metadata": {},
          "execution_count": 34
        }
      ],
      "source": [
        "# ROC의 AUC 계산\n",
        "from sklearn.metrics import roc_auc_score\n",
        "roc_auc_score(y_train_5, y_scores)"
      ]
    },
    {
      "cell_type": "markdown",
      "metadata": {
        "id": "aVuDPCRpbgB6"
      },
      "source": [
        "* RandomRorestClassifier를 훈련시켜 SGDClassifier의 ROC 곡선과 ROC AUC 점수를 비교\n",
        "  - 훈련 세트 샘플에 대한 점수\n",
        "    : decision_fuction() 대신 predict_proba() 이용\n",
        "    - predict_proba() : 샘플이 행, 클래스가 열이고 샘플이 주어진 클래스에 속할 확률을 담은 배열을 반환"
      ]
    },
    {
      "cell_type": "code",
      "execution_count": null,
      "metadata": {
        "id": "8p3zvXAdauIr"
      },
      "outputs": [],
      "source": [
        "# RandomRorestClassifier를 훈련시켰을 때 샘플에 대한 점수 계산\n",
        "from sklearn.ensemble import RandomForestClassifier\n",
        "\n",
        "forest_clf = RandomForestClassifier(random_state=42)\n",
        "y_probas_forest = cross_val_predict(forest_clf, X_train, y_train_5, cv=3, method=\"predict_proba\")"
      ]
    },
    {
      "cell_type": "code",
      "execution_count": null,
      "metadata": {
        "id": "h8nwPvvedJET"
      },
      "outputs": [],
      "source": [
        "y_scores_forest = y_probas_forest[:, 1] # 양성 클래스에 대한 확률을 점수로 사용합니다.\n",
        "fpr_forest, tpr_forest, thresholds_forest = roc_curve(y_train_5, y_scores_forest)"
      ]
    },
    {
      "cell_type": "code",
      "execution_count": null,
      "metadata": {
        "colab": {
          "base_uri": "https://localhost:8080/",
          "height": 288
        },
        "id": "pAizXQVmdkvt",
        "outputId": "75c62672-ecee-48d4-8f41-d4eba0432af2"
      },
      "outputs": [
        {
          "output_type": "display_data",
          "data": {
            "text/plain": [
              "<Figure size 432x288 with 1 Axes>"
            ],
            "image/png": "[encoded data removed]"
          },
          "metadata": {
            "needs_background": "light"
          }
        }
      ],
      "source": [
        "# ROC 곡선 비교\n",
        "plt.plot(fpr, tpr, \"b:\", label=\"SGD\")\n",
        "plot_roc_curve(fpr_forest, tpr_forest, \"Random Forest\")\n",
        "plt.legend(loc=\"lower right\")\n",
        "plt.show()"
      ]
    },
    {
      "cell_type": "markdown",
      "metadata": {
        "id": "-ayHD52Md-Cc"
      },
      "source": [
        "* ROC 곡선 비교\n",
        "\n",
        "  랜덤 포레스트 분류기가 SGD 분류기보다 훨씬 좋음\n",
        "  \n",
        "    -> 랜덤 포레스트의 ROC 곡선이 왼쪽 위 모서리에 더 가까워 AUC 값이 크기 때문"
      ]
    },
    {
      "cell_type": "code",
      "execution_count": null,
      "metadata": {
        "colab": {
          "base_uri": "https://localhost:8080/"
        },
        "id": "o1oVQHJzeXcI",
        "outputId": "9542ccf4-85e7-47e3-97ab-acee6e21a521"
      },
      "outputs": [
        {
          "output_type": "execute_result",
          "data": {
            "text/plain": [
              "0.9983436731328145"
            ]
          },
          "metadata": {},
          "execution_count": 38
        }
      ],
      "source": [
        "# ROC AUC 값 확인\n",
        "roc_auc_score(y_train_5, y_scores_forest)"
      ]
    },
    {
      "cell_type": "markdown",
      "metadata": {
        "id": "6u_4BF8Ue6dv"
      },
      "source": [
        "### 3.4 다중 분류\n",
        "* 다중 분류기 (다항 분류기) : 둘 이상의 클래스를 구별\n",
        "  - 여러 개의 클래스를 직접 처리 - SGD 분류기, 랜덤 포레스트 분류기, 나이브 베이즈 분류기\n",
        "  - 이진 분류만 가능한 경우 - 로지스틱 회귀, 서포트 벡터 머신 분류기\n",
        "    \n",
        "    -> 이진 분류기를 여러 개 사용해 다중 클래스를 분류 \n",
        "      \n",
        "      - 특정 숫자 하나만 구분하는 숫자별 이진 분류기 10개를 훈련 -> 각 분류기의 결정 점수 중에서 가장 높은 것을 클래스로 선택\n",
        "    \n",
        "      => OvR(one-versus-the-rest) 전략 = OvA(one-versus-all) -> 대부분의 이진 분류 알고리즘이 선호\n",
        "\n",
        "      - 각 숫자의 조합마다 이진 분류기를 훈련 -> 모든 분류기를 통과시켜서 가장 많이 양성으로 분류된 클래스를 선택\n",
        "      \n",
        "        클래스 N개 -> 분류기 N * (N-1) / 2개\n",
        "        \n",
        "        => OvO(one-versus-one) 전략 : 각 분류기의 훈련에 전체 훈련 세트 중 구별할 두 클래스에 해당하는 샘플만 필요한 것이 장점 -> 훈련 세트의 크기에 민감한 서포트 벡터 머신이 선호\n",
        "  - 사이킷런이 알고리즘에 따라 자동으로 OvR 또는 OvO 실행"
      ]
    },
    {
      "cell_type": "code",
      "execution_count": null,
      "metadata": {
        "colab": {
          "base_uri": "https://localhost:8080/"
        },
        "id": "Adaq3XIIeo7e",
        "outputId": "bcde35cd-8557-4c5a-afa5-035fb81db5c4"
      },
      "outputs": [
        {
          "output_type": "execute_result",
          "data": {
            "text/plain": [
              "array([5], dtype=uint8)"
            ]
          },
          "metadata": {},
          "execution_count": 39
        }
      ],
      "source": [
        "# 서포트 벡터 머신 분류기 테스트\n",
        "from sklearn.svm import SVC\n",
        "svm_clf = SVC()\n",
        "svm_clf.fit(X_train, y_train) # y_train_5가 아니고 y_train을 사용합니다.\n",
        "svm_clf.predict([some_digit]) # OvO 전략 사용"
      ]
    },
    {
      "cell_type": "code",
      "execution_count": null,
      "metadata": {
        "colab": {
          "base_uri": "https://localhost:8080/"
        },
        "id": "aPKYJ5pwkOJa",
        "outputId": "84523290-4f70-4444-cbf6-ecfd4f2b7143"
      },
      "outputs": [
        {
          "output_type": "execute_result",
          "data": {
            "text/plain": [
              "array([[ 1.72501977,  2.72809088,  7.2510018 ,  8.3076379 , -0.31087254,\n",
              "         9.3132482 ,  1.70975103,  2.76765202,  6.23049537,  4.84771048]])"
            ]
          },
          "metadata": {},
          "execution_count": 40
        }
      ],
      "source": [
        "some_digit_scores = svm_clf.decision_function([some_digit]) # 샘플 당 10개의 점수 반환\n",
        "some_digit_scores # 가장 높은 점수가 클래스 5에 해당하는 값"
      ]
    },
    {
      "cell_type": "code",
      "execution_count": null,
      "metadata": {
        "colab": {
          "base_uri": "https://localhost:8080/"
        },
        "id": "4h2QDzFkuOtv",
        "outputId": "a5c9626c-5bc6-4138-c451-2531fa8fc8cf"
      },
      "outputs": [
        {
          "output_type": "execute_result",
          "data": {
            "text/plain": [
              "5"
            ]
          },
          "metadata": {},
          "execution_count": 41
        }
      ],
      "source": [
        "np.argmax(some_digit_scores)"
      ]
    },
    {
      "cell_type": "code",
      "execution_count": null,
      "metadata": {
        "colab": {
          "base_uri": "https://localhost:8080/"
        },
        "id": "xseTzN5mu2wc",
        "outputId": "45168b38-bd2b-4f2e-86cc-0c9974b5ee2f"
      },
      "outputs": [
        {
          "output_type": "execute_result",
          "data": {
            "text/plain": [
              "array([0, 1, 2, 3, 4, 5, 6, 7, 8, 9], dtype=uint8)"
            ]
          },
          "metadata": {},
          "execution_count": 42
        }
      ],
      "source": [
        "svm_clf.classes_ # classes_ 속성 : 타깃 클래스의 리스트를 값으로 정렬하여 저장"
      ]
    },
    {
      "cell_type": "code",
      "execution_count": null,
      "metadata": {
        "colab": {
          "base_uri": "https://localhost:8080/"
        },
        "id": "dNmMl0Inu5cp",
        "outputId": "803761fd-597c-488a-dbad-5a46fbedd869"
      },
      "outputs": [
        {
          "output_type": "execute_result",
          "data": {
            "text/plain": [
              "5"
            ]
          },
          "metadata": {},
          "execution_count": 43
        }
      ],
      "source": [
        "svm_clf.classes_[5]"
      ]
    },
    {
      "cell_type": "markdown",
      "metadata": {
        "id": "Ap--pFmzvuKl"
      },
      "source": [
        "* 사이킷런에서 OvO나 OvR을 사용하도록 강제\n",
        "  - OneVsOneClassifier\n",
        "  - OneVsRestClassifier"
      ]
    },
    {
      "cell_type": "code",
      "execution_count": null,
      "metadata": {
        "colab": {
          "base_uri": "https://localhost:8080/"
        },
        "id": "wseZ1QUOu8lv",
        "outputId": "8d0700c1-8c69-436b-f994-6c2a0ccd7410"
      },
      "outputs": [
        {
          "output_type": "execute_result",
          "data": {
            "text/plain": [
              "array([5], dtype=uint8)"
            ]
          },
          "metadata": {},
          "execution_count": 44
        }
      ],
      "source": [
        "# SVC 기반으로 OvR 전략 사용하는 다중 분류기 생성\n",
        "from sklearn.multiclass import OneVsRestClassifier\n",
        "ovr_clf = OneVsRestClassifier(SVC())\n",
        "ovr_clf.fit(X_train, y_train)\n",
        "ovr_clf.predict([some_digit])"
      ]
    },
    {
      "cell_type": "code",
      "execution_count": null,
      "metadata": {
        "id": "HuQ30fBpwTWs",
        "colab": {
          "base_uri": "https://localhost:8080/"
        },
        "outputId": "3c657fba-cbad-4f69-d0c9-1b31f9e69319"
      },
      "outputs": [
        {
          "output_type": "execute_result",
          "data": {
            "text/plain": [
              "10"
            ]
          },
          "metadata": {},
          "execution_count": 45
        }
      ],
      "source": [
        "len(ovr_clf.estimators_)"
      ]
    },
    {
      "cell_type": "code",
      "execution_count": null,
      "metadata": {
        "id": "RUu870_mwW5v",
        "colab": {
          "base_uri": "https://localhost:8080/"
        },
        "outputId": "54de12f8-f6c8-4fd4-99c8-d7ef17a90df8"
      },
      "outputs": [
        {
          "output_type": "execute_result",
          "data": {
            "text/plain": [
              "array([3], dtype=uint8)"
            ]
          },
          "metadata": {},
          "execution_count": 46
        }
      ],
      "source": [
        "# SGDClassifier 훈련\n",
        "sgd_clf.fit(X_train, y_train)\n",
        "sgd_clf.predict([some_digit])"
      ]
    },
    {
      "cell_type": "code",
      "execution_count": null,
      "metadata": {
        "id": "CcpmzJ86w3CT",
        "colab": {
          "base_uri": "https://localhost:8080/"
        },
        "outputId": "218f0f30-5c70-4911-a649-6b976536a3a9"
      },
      "outputs": [
        {
          "output_type": "execute_result",
          "data": {
            "text/plain": [
              "array([[-31893.03095419, -34419.69069632,  -9530.63950739,\n",
              "          1823.73154031, -22320.14822878,  -1385.80478895,\n",
              "        -26188.91070951, -16147.51323997,  -4604.35491274,\n",
              "        -12050.767298  ]])"
            ]
          },
          "metadata": {},
          "execution_count": 47
        }
      ],
      "source": [
        "# SGD 분류기가 부여한 점수 확인\n",
        "sgd_clf.decision_function([some_digit]) # 클래스마다 하나의 값을 반환\n",
        "# 분류기가 예측 결과에 강한 확신"
      ]
    },
    {
      "cell_type": "code",
      "execution_count": null,
      "metadata": {
        "id": "x89JFvLyw-IL",
        "colab": {
          "base_uri": "https://localhost:8080/"
        },
        "outputId": "d2bdd4bc-4141-41a8-8ae1-9c57fa2bf5ba"
      },
      "outputs": [
        {
          "output_type": "execute_result",
          "data": {
            "text/plain": [
              "array([0.87365, 0.85835, 0.8689 ])"
            ]
          },
          "metadata": {},
          "execution_count": 48
        }
      ],
      "source": [
        "# SGDClassifier 정확도 평가\n",
        "cross_val_score(sgd_clf, X_train, y_train, cv=3, scoring=\"accuracy\")"
      ]
    },
    {
      "cell_type": "code",
      "execution_count": null,
      "metadata": {
        "id": "RGpnvXeQxwp2",
        "colab": {
          "base_uri": "https://localhost:8080/"
        },
        "outputId": "dd8050e7-76ac-490f-ed82-73de8b95ea86"
      },
      "outputs": [
        {
          "output_type": "execute_result",
          "data": {
            "text/plain": [
              "array([0.8983, 0.891 , 0.9018])"
            ]
          },
          "metadata": {},
          "execution_count": 49
        }
      ],
      "source": [
        "# 입력 스케일 조정하여 정확도 향상\n",
        "from sklearn.preprocessing import StandardScaler\n",
        "sclaer = StandardScaler()\n",
        "X_train_scaled = sclaer.fit_transform(X_train.astype(np.float64))\n",
        "cross_val_score(sgd_clf, X_train_scaled, y_train, cv=3, scoring=\"accuracy\")"
      ]
    },
    {
      "cell_type": "markdown",
      "metadata": {
        "id": "gZy2N1XnyXPu"
      },
      "source": [
        "### 3.5 에러 분석"
      ]
    },
    {
      "cell_type": "markdown",
      "metadata": {
        "id": "uGZC_hWd4Kfs"
      },
      "source": [
        "* 오차 행렬"
      ]
    },
    {
      "cell_type": "code",
      "execution_count": null,
      "metadata": {
        "id": "OpF5XXYkyRmn",
        "colab": {
          "base_uri": "https://localhost:8080/"
        },
        "outputId": "baabe275-7904-4cbb-b33d-b29dbc6ebc96"
      },
      "outputs": [
        {
          "output_type": "execute_result",
          "data": {
            "text/plain": [
              "array([[5577,    0,   22,    5,    8,   43,   36,    6,  225,    1],\n",
              "       [   0, 6400,   37,   24,    4,   44,    4,    7,  212,   10],\n",
              "       [  27,   27, 5220,   92,   73,   27,   67,   36,  378,   11],\n",
              "       [  22,   17,  117, 5227,    2,  203,   27,   40,  403,   73],\n",
              "       [  12,   14,   41,    9, 5182,   12,   34,   27,  347,  164],\n",
              "       [  27,   15,   30,  168,   53, 4444,   75,   14,  535,   60],\n",
              "       [  30,   15,   42,    3,   44,   97, 5552,    3,  131,    1],\n",
              "       [  21,   10,   51,   30,   49,   12,    3, 5684,  195,  210],\n",
              "       [  17,   63,   48,   86,    3,  126,   25,   10, 5429,   44],\n",
              "       [  25,   18,   30,   64,  118,   36,    1,  179,  371, 5107]])"
            ]
          },
          "metadata": {},
          "execution_count": 50
        }
      ],
      "source": [
        "# 오차 행렬\n",
        "y_train_pred = cross_val_predict(sgd_clf, X_train_scaled, y_train, cv=3) # 예측 생성\n",
        "conf_mx = confusion_matrix(y_train, y_train_pred)\n",
        "conf_mx # 대부분의 이미지가 주대각선에 위치 -> 올바르게 분류"
      ]
    },
    {
      "cell_type": "code",
      "execution_count": null,
      "metadata": {
        "id": "pEnR_R2szhkt",
        "colab": {
          "base_uri": "https://localhost:8080/",
          "height": 275
        },
        "outputId": "1ca34c37-d8b1-41fa-8c55-efe586abbe33"
      },
      "outputs": [
        {
          "output_type": "display_data",
          "data": {
            "text/plain": [
              "<Figure size 288x288 with 1 Axes>"
            ],
            "image/png": "[encoded data removed]"
          },
          "metadata": {
            "needs_background": "light"
          }
        }
      ],
      "source": [
        "# 오차 행렬을 이미지로 표현\n",
        "plt.matshow(conf_mx, cmap=plt.cm.gray)\n",
        "plt.show()"
      ]
    },
    {
      "cell_type": "markdown",
      "metadata": {
        "id": "AY88J6mc0rSU"
      },
      "source": [
        "* 오차 행렬 이미지 해석 \n",
        "  - 배열에서 가장 큰 값은 흰색, 가장 작은 값은 검은색으로 정규화\n",
        "  - 숫자 5는 다른 숫자보다 조금 더 어두움\n",
        "    - 원인 1 : 데이터셋에 숫자 5의 이미지가 적음\n",
        "    - 원인 2 : 분류기가 숫자 5를 다른 숫자만큼 잘 분류하지 못함"
      ]
    },
    {
      "cell_type": "code",
      "execution_count": null,
      "metadata": {
        "id": "nprUqve8zuLD"
      },
      "outputs": [],
      "source": [
        "# 에러 비율 비교\n",
        "row_sums = conf_mx.sum(axis=1, keepdims=True)\n",
        "norm_conf_mx = conf_mx / row_sums"
      ]
    },
    {
      "cell_type": "code",
      "execution_count": null,
      "metadata": {
        "id": "C2ispzOv2Lan",
        "colab": {
          "base_uri": "https://localhost:8080/",
          "height": 275
        },
        "outputId": "c073d906-f058-4d77-a801-2875e7d79aef"
      },
      "outputs": [
        {
          "output_type": "display_data",
          "data": {
            "text/plain": [
              "<Figure size 288x288 with 1 Axes>"
            ],
            "image/png": "[encoded data removed]"
          },
          "metadata": {
            "needs_background": "light"
          }
        }
      ],
      "source": [
        "# 그래프 그리기\n",
        "np.fill_diagonal(norm_conf_mx, 0) # 주대각선 0으로 채움\n",
        "plt.matshow(norm_conf_mx, cmap=plt.cm.gray)\n",
        "plt.show()"
      ]
    },
    {
      "cell_type": "markdown",
      "metadata": {
        "id": "xaQaoWRH29wl"
      },
      "source": [
        "* 그래프 해석\n",
        "  - 행 : 실제 클래스\n",
        "    \n",
        "    열 : 예측한 클래스\n",
        "  - 클래스 8의 열이 밝음 -> 많은 이미지가 8로 잘못 분류\n",
        "    \n",
        "    클래스 8의 행은 괜찮음 -> 실제 8이 적절히 8로 분류\n",
        "  \n",
        "    => 오차 행렬이 반드시 대칭인 것은 아님\n",
        "  - 3과 5가 많이 혼동됨\n",
        "\n",
        "* 성능 향상 방안\n",
        "  - 8로 잘못 분류되는 것을 줄이도록 개선\n",
        "  - 분류기에 도움 될 만한 특성 찾기\n",
        "    예) 동심원의 수를 세는 알고리즘\n",
        "  - 패턴이 드러나도록 이미지 전처리"
      ]
    },
    {
      "cell_type": "code",
      "execution_count": null,
      "metadata": {
        "id": "cqk6SfTd6WB7"
      },
      "outputs": [],
      "source": [
        "# plot_digits() 정의 - 깃허브 주피터 노트북 참고\n",
        "# 숫자 그림을 위한 추가 함수\n",
        "def plot_digits(instances, images_per_row=10, **options):\n",
        "    size = 28\n",
        "    images_per_row = min(len(instances), images_per_row)\n",
        "    # n_rows = ceil(len(instances) / images_per_row) 와 동일합니다:\n",
        "    n_rows = (len(instances) - 1) // images_per_row + 1\n",
        "\n",
        "    # 필요하면 그리드 끝을 채우기 위해 빈 이미지를 추가합니다:\n",
        "    n_empty = n_rows * images_per_row - len(instances)\n",
        "    padded_instances = np.concatenate([instances, np.zeros((n_empty, size * size))], axis=0)\n",
        "\n",
        "    # 배열의 크기를 바꾸어 28×28 이미지를 담은 그리드로 구성합니다:\n",
        "    image_grid = padded_instances.reshape((n_rows, images_per_row, size, size))\n",
        "\n",
        "    # 축 0(이미지 그리드의 수직축)과 2(이미지의 수직축)를 합치고 축 1과 3(두 수평축)을 합칩니다. \n",
        "    # 먼저 transpose()를 사용해 결합하려는 축을 옆으로 이동한 다음 합칩니다:\n",
        "    big_image = image_grid.transpose(0, 2, 1, 3).reshape(n_rows * size,\n",
        "                                                         images_per_row * size)\n",
        "    # 하나의 큰 이미지를 얻었으므로 출력하면 됩니다:\n",
        "    plt.imshow(big_image, cmap = mpl.cm.binary, **options)\n",
        "    plt.axis(\"off\")"
      ]
    },
    {
      "cell_type": "code",
      "execution_count": null,
      "metadata": {
        "id": "ga5fvGV52o0J",
        "colab": {
          "base_uri": "https://localhost:8080/",
          "height": 466
        },
        "outputId": "f3de9faa-31d1-47db-87ed-5f46e70fcf1a"
      },
      "outputs": [
        {
          "output_type": "display_data",
          "data": {
            "text/plain": [
              "<Figure size 576x576 with 4 Axes>"
            ],
            "image/png": "[encoded data removed]"
          },
          "metadata": {
            "needs_background": "light"
          }
        }
      ],
      "source": [
        "# 3과 5의 샘플 그리기\n",
        "cl_a, cl_b = 3, 5\n",
        "X_aa = X_train[(y_train == cl_a) & (y_train_pred == cl_a)]\n",
        "X_ab = X_train[(y_train == cl_a) & (y_train_pred == cl_b)]\n",
        "X_ba = X_train[(y_train == cl_b) & (y_train_pred == cl_a)]\n",
        "X_bb = X_train[(y_train == cl_b) & (y_train_pred == cl_b)]\n",
        "\n",
        "plt.figure(figsize=(8,8))\n",
        "plt.subplot(221); plot_digits(X_aa[:25], images_per_row=5)\n",
        "plt.subplot(222); plot_digits(X_ab[:25], images_per_row=5)\n",
        "plt.subplot(223); plot_digits(X_ba[:25], images_per_row=5)\n",
        "plt.subplot(224); plot_digits(X_bb[:25], images_per_row=5)\n",
        "plt.show()"
      ]
    },
    {
      "cell_type": "markdown",
      "metadata": {
        "id": "5jP1Mj0X7Rqk"
      },
      "source": [
        "* 왼쪽의 5 * 5 블록 두 개 : 3으로 분류된 이미지\n",
        "* 오른쪽의 5 * 5 블록 두 개 : 5로 분류된 이미지\n",
        "* 오류 원인 : 선형 모델인 SGDClassifier를 사용했기 때문\n",
        "  - 선형 분류기는 클래스마다 픽셀에 가중치 할당 -> 새로운 이미지에 대해 단순히 픽셀 강도의 가중치 합을 클래스의 점수로 계산\n",
        "  \n",
        "    => 3과 5는 몇 개의 픽셀만 다르기 때문에 모델이 쉽게 혼동\n",
        "* 개선 방안 : 이미지를 중앙에 위치시키고 회전되어 있지 않도록 전처리 (분류기가 이미지의 위치나 회전 방향에 매우 민감하기 때문)"
      ]
    },
    {
      "cell_type": "markdown",
      "metadata": {
        "id": "X8_QlCei8jOd"
      },
      "source": [
        "### 3.6 다중 레이블 분류\n",
        "* 다중 레이블 분류 시스템 : 여러 개의 이진 꼬리표(tag)를 출력하는 분류 시스템"
      ]
    },
    {
      "cell_type": "code",
      "execution_count": null,
      "metadata": {
        "id": "vd-nAnsF8ixB",
        "colab": {
          "base_uri": "https://localhost:8080/"
        },
        "outputId": "10610d7d-cd7b-495a-df0e-b00ebe97cbf3"
      },
      "outputs": [
        {
          "output_type": "execute_result",
          "data": {
            "text/plain": [
              "KNeighborsClassifier()"
            ]
          },
          "metadata": {},
          "execution_count": 58
        }
      ],
      "source": [
        "# 각 숫자 이미지에 두 개의 타깃 레이블이 담긴 배열 생성\n",
        "from sklearn.neighbors import KNeighborsClassifier\n",
        "\n",
        "y_train_large = (y_train >= 7)\n",
        "y_train_odd = (y_train % 2 == 1)\n",
        "y_multilabel = np.c_[y_train_large, y_train_odd]\n",
        "\n",
        "knn_clf = KNeighborsClassifier() # 다중 레이블 분류 지원\n",
        "knn_clf.fit(X_train, y_multilabel)"
      ]
    },
    {
      "cell_type": "code",
      "execution_count": null,
      "metadata": {
        "id": "WATQgsuX65BZ",
        "colab": {
          "base_uri": "https://localhost:8080/"
        },
        "outputId": "3e26cacf-7ee7-4500-eaef-3a36f6e4e532"
      },
      "outputs": [
        {
          "output_type": "execute_result",
          "data": {
            "text/plain": [
              "array([[False,  True]])"
            ]
          },
          "metadata": {},
          "execution_count": 59
        }
      ],
      "source": [
        "knn_clf.predict([some_digit]) # 레이블 두 개 출력 -> 올바르게 분류"
      ]
    },
    {
      "cell_type": "code",
      "execution_count": null,
      "metadata": {
        "id": "4l-Nuz3U-G8_",
        "colab": {
          "base_uri": "https://localhost:8080/"
        },
        "outputId": "a9424f53-f523-40bc-a458-3fdd5e0da539"
      },
      "outputs": [
        {
          "output_type": "execute_result",
          "data": {
            "text/plain": [
              "0.976410265560605"
            ]
          },
          "metadata": {},
          "execution_count": 60
        }
      ],
      "source": [
        "# 다중 레이블 분류기 평가\n",
        "# 모든 레이블에 대한 F1 점수 평균 계산 -> 모든 레이블의 가중치 동일 가정\n",
        "y_train_knn_pred = cross_val_predict(knn_clf, X_train, y_multilabel, cv=3)\n",
        "f1_score(y_multilabel, y_train_knn_pred, average=\"macro\")"
      ]
    },
    {
      "cell_type": "markdown",
      "metadata": {
        "id": "JhUNy0kr_JZG"
      },
      "source": [
        "* 레이블에 클래스의 지지도(support, 타깃 레이블에 속한 샘플 수)를 가중치로 주려면 `average=\"weighted\"`로 설정"
      ]
    },
    {
      "cell_type": "markdown",
      "metadata": {
        "id": "KvEDPoXH_sTq"
      },
      "source": [
        "### 3.7 다중 출력 분류\n",
        "* 다중 출력 클래스 분류 (다중 출력 분류) : 다중 레이블 분류에서 한 레이블이 다중 클래스가 될 수 있도록 일반화 -> 값을 두 개 이상 가질 수 있음\n",
        "* 이미지에서 잡음을 제거하는 시스템\n",
        "  - 입력 : 잡음이 많은 숫자 이미지\n",
        "  - 출력 : 깨끗한 숫자 이미지의 픽셀 강도를 담은 배열"
      ]
    },
    {
      "cell_type": "code",
      "execution_count": null,
      "metadata": {
        "id": "8JxZVR1qAdMP"
      },
      "outputs": [],
      "source": [
        "# MNIST 이미지에서 추출한 훈련 / 테스트 세트 픽셀 강도에 잡음 추가\n",
        "# 타깃 이미지는 원본 이미지\n",
        "noise = np.random.randint(0, 100, (len(X_train), 784))\n",
        "X_train_mod = X_train + noise\n",
        "noise = np.random.randint(0, 100, (len(X_test), 784))\n",
        "X_test_mod = X_test + noise\n",
        "y_train_mod = X_train\n",
        "y_test_mod = X_test"
      ]
    },
    {
      "cell_type": "code",
      "source": [
        "# plot_digit() 함수 정의\n",
        "def plot_digit(data):\n",
        "    image = data.reshape(28, 28)\n",
        "    plt.imshow(image, cmap = mpl.cm.binary,\n",
        "               interpolation=\"nearest\")\n",
        "    plt.axis(\"off\")"
      ],
      "metadata": {
        "id": "ivhwLSSJWXNL"
      },
      "execution_count": null,
      "outputs": []
    },
    {
      "cell_type": "code",
      "execution_count": null,
      "metadata": {
        "id": "I71pn6pnCtGV",
        "colab": {
          "base_uri": "https://localhost:8080/",
          "height": 183
        },
        "outputId": "1cf0906a-9d82-4ed4-ae66-6e8082f1c293"
      },
      "outputs": [
        {
          "output_type": "display_data",
          "data": {
            "text/plain": [
              "<Figure size 432x288 with 2 Axes>"
            ],
            "image/png": "[encoded data removed]"
          },
          "metadata": {
            "needs_background": "light"
          }
        }
      ],
      "source": [
        "# 테스트 세트에서 이미지 선택\n",
        "some_index = 0\n",
        "plt.subplot(121); plot_digit(X_test_mod[some_index]) # 잡음이 섞인 입력 이미지\n",
        "plt.subplot(122); plot_digit(y_test_mod[some_index]) # 깨끗한 타깃 이미지\n",
        "plt.show()"
      ]
    },
    {
      "cell_type": "code",
      "execution_count": null,
      "metadata": {
        "id": "eeleJ9rGCH42",
        "colab": {
          "base_uri": "https://localhost:8080/",
          "height": 248
        },
        "outputId": "c8b08b4c-2f9f-4e1a-8347-5924f9232193"
      },
      "outputs": [
        {
          "output_type": "display_data",
          "data": {
            "text/plain": [
              "<Figure size 432x288 with 1 Axes>"
            ],
            "image/png": "[encoded data removed]"
          },
          "metadata": {
            "needs_background": "light"
          }
        }
      ],
      "source": [
        "# 분류기를 훈련시켜 이미지를 깨끗하게 만들기\n",
        "knn_clf.fit(X_train_mod, y_train_mod)\n",
        "clean_digit = knn_clf.predict([X_test_mod[some_index]])\n",
        "plot_digit(clean_digit)"
      ]
    }
  ],
  "metadata": {
    "colab": {
      "collapsed_sections": [],
      "name": "ESAA_Week1_Classification.ipynb",
      "provenance": [],
      "authorship_tag": "ABX9TyNSo7su+qco6QrA4q02StvQ",
      "include_colab_link": true
    },
    "kernelspec": {
      "display_name": "Python 3",
      "name": "python3"
    },
    "language_info": {
      "name": "python"
    }
  },
  "nbformat": 4,
  "nbformat_minor": 0
}