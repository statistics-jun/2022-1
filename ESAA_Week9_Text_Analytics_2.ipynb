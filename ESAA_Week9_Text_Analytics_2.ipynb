{
  "nbformat": 4,
  "nbformat_minor": 0,
  "metadata": {
    "colab": {
      "name": "ESAA_Week9_Text_Analytics_2.ipynb",
      "provenance": [],
      "collapsed_sections": [],
      "mount_file_id": "1wHTUyKyXILOh9kBi_iYDp9dO_x3KiSG0",
      "authorship_tag": "ABX9TyM/iVIPePrEUd+ER89B3EWK",
      "include_colab_link": true
    },
    "kernelspec": {
      "name": "python3",
      "display_name": "Python 3"
    },
    "language_info": {
      "name": "python"
    }
  },
  "cells": [
    {
      "cell_type": "markdown",
      "metadata": {
        "id": "view-in-github",
        "colab_type": "text"
      },
      "source": [
        "<a href=\"https://colab.research.google.com/github/statistics-jun/2022-1-ESAA/blob/main/ESAA_Week9_Text_Analytics_2.ipynb\" target=\"_parent\"><img src=\"https://colab.research.google.com/assets/colab-badge.svg\" alt=\"Open In Colab\"/></a>"
      ]
    },
    {
      "cell_type": "markdown",
      "source": [
        "# 2022-1 ESAA 5기 김혜준 개념 필사 - 0506(금) 9주차 과제\n",
        " \n",
        "## <파이썬 머신러닝 완벽 가이드>\n",
        "## Chapter 8 텍스트 분석"
      ],
      "metadata": {
        "id": "7eNoQt50yi4m"
      }
    },
    {
      "cell_type": "markdown",
      "source": [
        "### 06 토픽 모델링(Topic Modeling) - 20 뉴스그룹\n",
        "* 토픽 모델링 : 문서 집합에 숨어 있는 주제를 찾아내는 것\n",
        "* 머신러닝 기반 토픽 모델 : 숨겨진 주제를 효과적으로 표현할 수 있는 중심 단어를 함축적으로 추출\n",
        "  - 자주 사용되는 기법: LSA(Latent Semantic Analysis), LDA(Latent Dirichlet Allocation)\n",
        "* LDA : 사이킷런 `LatentDirichletAllocation` 클래스\n",
        "  - Count 기반의 벡터화만 사용\n",
        "  - n_components 파라미터 : 토픽 개수 조정\n",
        "  - `LatentDirichletAllocation.fit(데이터 세트)`\n",
        "    - `components_` 속성값 : 개별 토픽별로 각 word 피처가 얼마나 많이 그 토픽에 할당됐는지에 대한 수치\n",
        "      - 높은 값일수록 해당 word 피처는 그 토픽의 중심 word"
      ],
      "metadata": {
        "id": "Z0x3xoWXKvdx"
      }
    },
    {
      "cell_type": "code",
      "source": [
        "from sklearn.datasets import fetch_20newsgroups\n",
        "from sklearn.feature_extraction.text import CountVectorizer\n",
        "from sklearn.decomposition import LatentDirichletAllocation\n",
        "\n",
        "# 모토사이클, 야구, 그래픽스, 윈도우즈, 중동, 기독교, 전자공학, 의학 8개 주제를 추출\n",
        "cats = ['rec.motorcycles', 'rec.sport.baseball', 'comp.graphics', 'comp.windows.x',\n",
        "        'talk.politics.mideast', 'soc.religion.christian', 'sci.electronics', 'sci.med' ]\n",
        "\n",
        "# 위에서 cats 변수로 기재된 카테고리만 추출. fetch_20newsgroups()의 categories에 cats 입력\n",
        "news_df = fetch_20newsgroups(subset='all', remove=('headers', 'footers', 'quotes'),\n",
        "                             categories=cats, random_state=0)\n",
        "\n",
        "# LDA는 Count 기반의 벡터화만 적용합니다.\n",
        "count_vect = CountVectorizer(max_df=0.95, max_features=1000, min_df=2, stop_words='english',\n",
        "                             ngram_range=(1, 2))\n",
        "feat_vect = count_vect.fit_transform(news_df.data)\n",
        "print('CountVectorizer Shape:', feat_vect.shape)"
      ],
      "metadata": {
        "colab": {
          "base_uri": "https://localhost:8080/"
        },
        "id": "U0XF4k32Namn",
        "outputId": "8be3144d-837b-4663-8390-12c91f217269"
      },
      "execution_count": 18,
      "outputs": [
        {
          "output_type": "stream",
          "name": "stdout",
          "text": [
            "CountVectorizer Shape: (7862, 1000)\n"
          ]
        }
      ]
    },
    {
      "cell_type": "markdown",
      "source": [
        "* 7862개의 문서가 1000개의 피처로 구성된 행렬 데이터"
      ],
      "metadata": {
        "id": "D8Lv4xLmVibZ"
      }
    },
    {
      "cell_type": "code",
      "source": [
        "lda = LatentDirichletAllocation(n_components=8, random_state=0)\n",
        "lda.fit(feat_vect)"
      ],
      "metadata": {
        "colab": {
          "base_uri": "https://localhost:8080/"
        },
        "id": "yQ9QbQXuPUr9",
        "outputId": "92a0c912-ee76-4f20-8fc7-23353b32ad2e"
      },
      "execution_count": 19,
      "outputs": [
        {
          "output_type": "execute_result",
          "data": {
            "text/plain": [
              "LatentDirichletAllocation(n_components=8, random_state=0)"
            ]
          },
          "metadata": {},
          "execution_count": 19
        }
      ]
    },
    {
      "cell_type": "code",
      "source": [
        "print(lda.components_.shape)\n",
        "lda.components_"
      ],
      "metadata": {
        "colab": {
          "base_uri": "https://localhost:8080/"
        },
        "id": "hPxlWtprPlli",
        "outputId": "84de628b-3302-4277-802b-713432fe170e"
      },
      "execution_count": 20,
      "outputs": [
        {
          "output_type": "stream",
          "name": "stdout",
          "text": [
            "(8, 1000)\n"
          ]
        },
        {
          "output_type": "execute_result",
          "data": {
            "text/plain": [
              "array([[3.60992018e+01, 1.35626798e+02, 2.15751867e+01, ...,\n",
              "        3.02911688e+01, 8.66830093e+01, 6.79285199e+01],\n",
              "       [1.25199920e-01, 1.44401815e+01, 1.25045596e-01, ...,\n",
              "        1.81506995e+02, 1.25097844e-01, 9.39593286e+01],\n",
              "       [3.34762663e+02, 1.25176265e-01, 1.46743299e+02, ...,\n",
              "        1.25105772e-01, 3.63689741e+01, 1.25025218e-01],\n",
              "       ...,\n",
              "       [3.60204965e+01, 2.08640688e+01, 4.29606813e+00, ...,\n",
              "        1.45056650e+01, 8.33854413e+00, 1.55690009e+01],\n",
              "       [1.25128711e-01, 1.25247756e-01, 1.25005143e-01, ...,\n",
              "        9.17278769e+01, 1.25177668e-01, 3.74575887e+01],\n",
              "       [5.49258690e+01, 4.47009532e+00, 9.88524814e+00, ...,\n",
              "        4.87048440e+01, 1.25034678e-01, 1.25074632e-01]])"
            ]
          },
          "metadata": {},
          "execution_count": 20
        }
      ]
    },
    {
      "cell_type": "markdown",
      "source": [
        "* 8개의 토픽별로 1000개의 word 피처가 해당 토필별로 연관도 값 가짐"
      ],
      "metadata": {
        "id": "XYMh9SXDVr7I"
      }
    },
    {
      "cell_type": "code",
      "source": [
        "# 각 토픽별로 연관도가 높은 순으로 Word 나열하는 함수 display_topics() 정의\n",
        "def display_topics(model, feature_names, no_top_words):\n",
        "  for topic_index, topic in enumerate(model.components_):\n",
        "    print('Topic #', topic_index)\n",
        "\n",
        "    # components_ array에서 가장 값이 큰 순으로 정렬했을 때, 그 값의 array 인덱스를 반환\n",
        "    topic_word_indexes = topic.argsort()[::-1]\n",
        "    top_indexes = topic_word_indexes[:no_top_words]\n",
        "\n",
        "    # top_indexes 대상인 인덱스별로 feature_names에 해당하는 word feature 추출 후 join으로 concat\n",
        "    feature_concat = ' '.join([feature_names[i] for i in top_indexes])\n",
        "    print(feature_concat)\n",
        "\n",
        "# CountVectorizer 객체 내의 전체 word의 명칭을 get_features_names()를 통해 추출\n",
        "feature_names = count_vect.get_feature_names()\n",
        "\n",
        "# 토픽별 가장 연관도가 높은 word를 15개만 추출\n",
        "display_topics(lda, feature_names, 15)"
      ],
      "metadata": {
        "colab": {
          "base_uri": "https://localhost:8080/"
        },
        "id": "rV2duICZQZw_",
        "outputId": "46d8cb8a-c5b0-42a3-e45e-2fe5d635923a"
      },
      "execution_count": 21,
      "outputs": [
        {
          "output_type": "stream",
          "name": "stdout",
          "text": [
            "Topic # 0\n",
            "year 10 game medical health team 12 20 disease cancer 1993 games years patients good\n",
            "Topic # 1\n",
            "don just like know people said think time ve didn right going say ll way\n",
            "Topic # 2\n",
            "image file jpeg program gif images output format files color entry 00 use bit 03\n",
            "Topic # 3\n",
            "like know don think use does just good time book read information people used post\n",
            "Topic # 4\n",
            "armenian israel armenians jews turkish people israeli jewish government war dos dos turkey arab armenia 000\n",
            "Topic # 5\n",
            "edu com available graphics ftp data pub motif mail widget software mit information version sun\n",
            "Topic # 6\n",
            "god people jesus church believe christ does christian say think christians bible faith sin life\n",
            "Topic # 7\n",
            "use dos thanks windows using window does display help like problem server need know run\n"
          ]
        },
        {
          "output_type": "stream",
          "name": "stderr",
          "text": [
            "/usr/local/lib/python3.7/dist-packages/sklearn/utils/deprecation.py:87: FutureWarning: Function get_feature_names is deprecated; get_feature_names is deprecated in 1.0 and will be removed in 1.2. Please use get_feature_names_out instead.\n",
            "  warnings.warn(msg, category=FutureWarning)\n"
          ]
        }
      ]
    },
    {
      "cell_type": "markdown",
      "source": [
        "* Topic #0 : 의학\n",
        "* Topic #1 : 일반적인 단어\n",
        "* Topic #2 : 컴퓨터 그래픽스\n",
        "* Topic #3 : 일반적인 단어\n",
        "* Topic #4 : 중동 분쟁\n",
        "* Topic #5 : 컴퓨터 그래픽스\n",
        "* Topic #6 : 기독교\n",
        "* Topic #7 : 윈도우 운영체제\n",
        "\n",
        "\n",
        "* 특히 모토사이클, 야구 주제의 경우 명확한 주제어가 추출되지 않음"
      ],
      "metadata": {
        "id": "e3ztITFCTTke"
      }
    },
    {
      "cell_type": "markdown",
      "source": [
        "### 08 문서 유사도\n",
        "#### 문서 유사도 측정 방법 - 코사인 유사도\n",
        "* 코사인 유사도 : 벡터와 벡터 간의 유사도를 비교할 때 백터의 크기보다는 벡터의 상호 방향성이 얼마나 유사한지에 기반\n",
        "  \n",
        "  -> 두 벡터 사이의 사잇각을 구해서 얼마나 유사한지 수치로 적용\n",
        "\n",
        "  ![image.png](data:image/png;base64,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)\n"
      ],
      "metadata": {
        "id": "2sEzh5-9WysQ"
      }
    },
    {
      "cell_type": "markdown",
      "source": [
        "#### 두 벡터 사잇각\n",
        "![image.png](data:image/png;base64,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)"
      ],
      "metadata": {
        "id": "4ax_8DGjX9EZ"
      }
    },
    {
      "cell_type": "markdown",
      "source": [
        "* 두 벡터 A와 B의 내적 값 \n",
        "\n",
        "![image.png](data:image/png;base64,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)"
      ],
      "metadata": {
        "id": "I06wj-KYYZKQ"
      }
    },
    {
      "cell_type": "markdown",
      "source": [
        "* 유사도 \n",
        "  \n",
        "  = $cos \\theta$\n",
        "\n",
        "  = 두 벡터의 내적을 총 벡터 크기의 합으로 나눈 것\n",
        "  \n",
        "  = 내적 결과를 총 벡터 크기로 정규화(L2 norm)한 것\n",
        "\n",
        "  ![image.png](data:image/png;base64,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)"
      ],
      "metadata": {
        "id": "HIC9vFwkYoKs"
      }
    },
    {
      "cell_type": "markdown",
      "source": [
        "* 코사인 유사도가 문서 유사도 비교에 가장 많이 사용되는 이유\n",
        "  - 문서를 피처 벡터화 변환하면 차원이 매우 많은 희소 행렬이 됨\n",
        "    \n",
        "    -> 희소 행렬 기반에서 문서와 문서 벡터간의 크기에 기반한 유사도 지표(예 : 유클리드 거리 기반 지표)는 정확도가 떨어짐\n",
        "  \n",
        "  - 문서가 매우 긴 경우 단어의 빈도수도 더 많음\n",
        "   \n",
        "   -> 빈도수에만 기반해서는 공정한 비교 불가"
      ],
      "metadata": {
        "id": "RtZz2DbDZgpF"
      }
    },
    {
      "cell_type": "code",
      "source": [
        "# 두 개의 넘파이 배열에 대한 코사인 유사도를 구하는 cos_similarity() 함수 정의\n",
        "import numpy as np\n",
        "\n",
        "def cos_similarity(v1, v2):\n",
        "  dot_product = np.dot(v1, v2)\n",
        "  l2_norm = (np.sqrt(sum(np.square(v1))) * np.sqrt(sum(np.square(v2))))\n",
        "  similarity = dot_product / l2_norm\n",
        "\n",
        "  return similarity"
      ],
      "metadata": {
        "id": "W8VdfhYwYnsL"
      },
      "execution_count": 22,
      "outputs": []
    },
    {
      "cell_type": "code",
      "source": [
        "from sklearn.feature_extraction.text import TfidfVectorizer\n",
        "\n",
        "doc_list = ['if you take the blue pill, the story ends',\n",
        "            'if you take the red pill, you stay in Wonderland',\n",
        "            'if you take the red pill, I show you how deep the rabbit hole goes']\n",
        "\n",
        "tfidf_vect_simple = TfidfVectorizer()\n",
        "feature_vect_simple = tfidf_vect_simple.fit_transform(doc_list)\n",
        "print(feature_vect_simple.shape)"
      ],
      "metadata": {
        "colab": {
          "base_uri": "https://localhost:8080/"
        },
        "id": "i3krCoTOWRXz",
        "outputId": "6657f2fa-14be-431d-b8e7-9b3e93d46b75"
      },
      "execution_count": 23,
      "outputs": [
        {
          "output_type": "stream",
          "name": "stdout",
          "text": [
            "(3, 18)\n"
          ]
        }
      ]
    },
    {
      "cell_type": "code",
      "source": [
        "# TfidfVectorizer로 transdorm()한 결과는 희소 행렬이므로 밀집 행렬로 변환\n",
        "feature_vect_dense = feature_vect_simple.todense()\n",
        "\n",
        "# 첫 번째 문장과 두 번째 문장의 피처 벡터 추출\n",
        "vect1 = np.array(feature_vect_dense[0]).reshape(-1, )\n",
        "vect2 = np.array(feature_vect_dense[1]).reshape(-1, )\n",
        "\n",
        "# 첫 번째 문장과 두 번째 문장의 피처 벡터로 두 개 문장의 코사인 유사도 추출\n",
        "similarity_simple = cos_similarity(vect1, vect2)\n",
        "print('문장 1, 문장 2 Cosine 유사도: {0:.3f}'.format(similarity_simple))"
      ],
      "metadata": {
        "colab": {
          "base_uri": "https://localhost:8080/"
        },
        "id": "qXbur_mzRiGi",
        "outputId": "4944b4ad-2195-4ed2-c378-a292173b08c6"
      },
      "execution_count": 24,
      "outputs": [
        {
          "output_type": "stream",
          "name": "stdout",
          "text": [
            "문장 1, 문장 2 Cosine 유사도: 0.402\n"
          ]
        }
      ]
    },
    {
      "cell_type": "code",
      "source": [
        "vect1 = np.array(feature_vect_dense[0]).reshape(-1, )\n",
        "vect3 = np.array(feature_vect_dense[2]).reshape(-1, )\n",
        "similarity_simple = cos_similarity(vect1, vect3)\n",
        "print('문장 1, 문장 3 Cosine 유사도: {0:.3f}'.format(similarity_simple))\n",
        "\n",
        "vect2 = np.array(feature_vect_dense[1]).reshape(-1, )\n",
        "vect3 = np.array(feature_vect_dense[2]).reshape(-1, )\n",
        "similarity_simple = cos_similarity(vect2, vect3)\n",
        "print('문장 2, 문장 3 Cosine 유사도: {0:.3f}'.format(similarity_simple))"
      ],
      "metadata": {
        "colab": {
          "base_uri": "https://localhost:8080/"
        },
        "id": "zEXQNgKUcGHo",
        "outputId": "24ed4688-6498-430b-fe28-d06b95ef8532"
      },
      "execution_count": 25,
      "outputs": [
        {
          "output_type": "stream",
          "name": "stdout",
          "text": [
            "문장 1, 문장 3 Cosine 유사도: 0.404\n",
            "문장 2, 문장 3 Cosine 유사도: 0.456\n"
          ]
        }
      ]
    },
    {
      "cell_type": "markdown",
      "source": [
        "* `sklearn.metrics.pairwise.cosine_similarity` : 코사인 유사도 측정\n",
        "  - 입력 파라미터\n",
        "    \n",
        "    1. 비교 기준이 되는 문서의 피처 행렬\n",
        "    2. 비교되는 문서의 피처 행렬\n",
        "    - 희소 행렬, 밀집 행렬 / 행렬 또는 배열 모두 가능\n",
        "   \n",
        "      -> 별도의 변환 작업 필요 없음\n",
        "  - 쌍으로 코사인 유사도 값 제공 가능"
      ],
      "metadata": {
        "id": "HUjUAluccprT"
      }
    },
    {
      "cell_type": "code",
      "source": [
        "from sklearn.metrics.pairwise import cosine_similarity\n",
        "\n",
        "similarity_simple_pair = cosine_similarity(feature_vect_simple[0], feature_vect_simple)\n",
        "print(similarity_simple_pair)"
      ],
      "metadata": {
        "colab": {
          "base_uri": "https://localhost:8080/"
        },
        "id": "YcMxpZCDdRqd",
        "outputId": "16583dee-820c-4699-89fb-615098b5d2d9"
      },
      "execution_count": 26,
      "outputs": [
        {
          "output_type": "stream",
          "name": "stdout",
          "text": [
            "[[1.         0.40207758 0.40425045]]\n"
          ]
        }
      ]
    },
    {
      "cell_type": "markdown",
      "source": [
        "* 첫 번째 유사도 값 = 1 : 첫 번째 문서 자신에 대한 유사도\n",
        "* 두 번째 유사도 값 = 0.40207758 : 첫 번째 문서와 두 번째 문서의 유사도\n",
        "* 세 번째 유사도 값 = 0.40425045 : 첫 번째 문서와 세 번째 문서의 유사도"
      ],
      "metadata": {
        "id": "Ctk_lqewdtHK"
      }
    },
    {
      "cell_type": "code",
      "source": [
        "from sklearn.metrics.pairwise import cosine_similarity\n",
        "# 비교 대상에서 feature_vect[1:]을 이용해 비교 기준 문서 제외\n",
        "similarity_simple_pair = cosine_similarity(feature_vect_simple[0], feature_vect_simple[1:])\n",
        "print(similarity_simple_pair)"
      ],
      "metadata": {
        "colab": {
          "base_uri": "https://localhost:8080/"
        },
        "id": "VzsjJyoGdd32",
        "outputId": "cac17aa5-d04d-4d93-979d-debd2ed30e45"
      },
      "execution_count": 27,
      "outputs": [
        {
          "output_type": "stream",
          "name": "stdout",
          "text": [
            "[[0.40207758 0.40425045]]\n"
          ]
        }
      ]
    },
    {
      "cell_type": "code",
      "source": [
        "# 모든 개별 문서에 쌍으로 코사인 유사도 값 계산\n",
        "similarity_simple_pair = cosine_similarity(feature_vect_simple, feature_vect_simple)\n",
        "print(similarity_simple_pair)\n",
        "print('shape:', similarity_simple_pair.shape)"
      ],
      "metadata": {
        "colab": {
          "base_uri": "https://localhost:8080/"
        },
        "id": "feMuA1y-eMl8",
        "outputId": "f697828a-508f-402e-fc84-7fe047f29b2e"
      },
      "execution_count": 28,
      "outputs": [
        {
          "output_type": "stream",
          "name": "stdout",
          "text": [
            "[[1.         0.40207758 0.40425045]\n",
            " [0.40207758 1.         0.45647296]\n",
            " [0.40425045 0.45647296 1.        ]]\n",
            "shape: (3, 3)\n"
          ]
        }
      ]
    },
    {
      "cell_type": "markdown",
      "source": [
        "* 반환 값 : (3, 3) 형태의 ndarray\n",
        "  - 첫 번째 로우 : 1번 문서와 2, 3번 문서의 코사인 유사도\n",
        "  - 두 번째 로우 : 2번 문서와 1, 3번 문서의 코사인 유사도\n",
        "  - 세 번째 로우 : 3번 문서와 1, 2번 문서의 코사인 유사도"
      ],
      "metadata": {
        "id": "5Dk0Z_mue2d8"
      }
    },
    {
      "cell_type": "markdown",
      "source": [
        "#### Opinion Review 데이터 세트를 이용한 문서 유사도 측정"
      ],
      "metadata": {
        "id": "pdg6TCDEf1Wt"
      }
    },
    {
      "cell_type": "code",
      "source": [
        "from nltk.stem import WordNetLemmatizer\n",
        "import nltk\n",
        "import string\n",
        "\n",
        "remove_punct_dict = dict((ord(punct), None) for punct in string.punctuation)\n",
        "lemmar = WordNetLemmatizer()\n",
        "\n",
        "def LemTokens(tokens):\n",
        "    return [lemmar.lemmatize(token) for token in tokens]\n",
        "\n",
        "def LemNormalize(text):\n",
        "    return LemTokens(nltk.word_tokenize(text.lower().translate(remove_punct_dict)))"
      ],
      "metadata": {
        "id": "zFpN4wxe_MfU"
      },
      "execution_count": 24,
      "outputs": []
    },
    {
      "cell_type": "code",
      "source": [
        "nltk.download('punkt')\n",
        "nltk.download('wordnet')"
      ],
      "metadata": {
        "colab": {
          "base_uri": "https://localhost:8080/"
        },
        "id": "g0ye_zMXBDvB",
        "outputId": "07679c01-243e-45fb-8de8-4404bb06e26b"
      },
      "execution_count": 25,
      "outputs": [
        {
          "output_type": "stream",
          "name": "stdout",
          "text": [
            "[nltk_data] Downloading package punkt to /root/nltk_data...\n",
            "[nltk_data]   Package punkt is already up-to-date!\n",
            "[nltk_data] Downloading package wordnet to /root/nltk_data...\n",
            "[nltk_data]   Package wordnet is already up-to-date!\n"
          ]
        },
        {
          "output_type": "execute_result",
          "data": {
            "text/plain": [
              "True"
            ]
          },
          "metadata": {},
          "execution_count": 25
        }
      ]
    },
    {
      "cell_type": "code",
      "source": [
        "import pandas as pd\n",
        "import glob, os\n",
        "from sklearn.feature_extraction.text import TfidfVectorizer\n",
        "from sklearn.cluster import KMeans\n",
        "  \n",
        "path = r'/content/drive/MyDrive/topics'                     \n",
        "all_files = glob.glob(os.path.join(path, \"*.data\"))    \n",
        "filename_list = []\n",
        "opinion_text = []\n",
        "\n",
        "for file_ in all_files:\n",
        "    df = pd.read_table(file_, index_col=None, header=0, encoding='latin1')\n",
        "    filename_ = file_.split('\\\\')[-1]\n",
        "    filename = filename_.split('.')[0]\n",
        "    filename_list.append(filename)\n",
        "    opinion_text.append(df.to_string())\n",
        "\n",
        "document_df = pd.DataFrame({'filename':filename_list, 'opinion_text':opinion_text})\n",
        "tfidf_vect = TfidfVectorizer(tokenizer=LemNormalize, stop_words='english',\n",
        "                             ngram_range=(1, 2), min_df=0.05, max_df=0.85)\n",
        "feature_vect = tfidf_vect.fit_transform(document_df['opinion_text'])\n",
        "\n",
        "km_cluster = KMeans(n_clusters=3, max_iter=10000, random_state=0)\n",
        "km_cluster.fit(feature_vect)\n",
        "cluster_label = km_cluster.labels_\n",
        "cluster_centers = km_cluster.cluster_centers_\n",
        "document_df['cluster_label'] = cluster_label"
      ],
      "metadata": {
        "colab": {
          "base_uri": "https://localhost:8080/"
        },
        "id": "pnaZH4KQ-hLd",
        "outputId": "3734d249-0dd5-4dc3-ef5c-99aefba05963"
      },
      "execution_count": 26,
      "outputs": [
        {
          "output_type": "stream",
          "name": "stderr",
          "text": [
            "/usr/local/lib/python3.7/dist-packages/sklearn/feature_extraction/text.py:401: UserWarning: Your stop_words may be inconsistent with your preprocessing. Tokenizing the stop words generated tokens ['ha', 'le', 'u', 'wa'] not in stop_words.\n",
            "  % sorted(inconsistent)\n"
          ]
        }
      ]
    },
    {
      "cell_type": "markdown",
      "source": [
        "* 전자제품, 호텔, 자동차를 주제로 군집화"
      ],
      "metadata": {
        "id": "0T12NJWbBigW"
      }
    },
    {
      "cell_type": "code",
      "source": [
        "from sklearn.metrics.pairwise import cosine_similarity\n",
        "\n",
        "# cluster_label = 1인 데이터는 호텔로 군집화된 데이터임. DataFrame에서 해당 인덱스를 추출\n",
        "hotel_indexes = document_df[document_df['cluster_label']==1].index\n",
        "print('호텔로 군집화 된 문서들의 DataFrame Index:', hotel_indexes)\n",
        "\n",
        "# 호텔로 군집화된 데이터 중 첫 번째 문서를 추출해 파일명 표시\n",
        "comparison_docname = document_df.iloc[hotel_indexes[0]]['filename']\n",
        "print('##### 비교 기준 문서명 ', comparison_docname, ' 와 타 문서 유사도######')\n",
        "\n",
        "'''document_df에서 추출한 Index 객체를 feature_vect로 입력해 호텔 군집화된 feature_vect 추출\n",
        "이를 이용해 호텔로 군집화된 문서 중 첫 번째 문서와 다른 문서 간의 코사인 유사도 측정'''\n",
        "similarity_pair = cosine_similarity(feature_vect[hotel_indexes[0]], feature_vect[hotel_indexes])\n",
        "print(similarity_pair)"
      ],
      "metadata": {
        "colab": {
          "base_uri": "https://localhost:8080/"
        },
        "id": "9CjE6jMABdns",
        "outputId": "f817647e-6206-4026-9bc6-a039ec71f802"
      },
      "execution_count": 27,
      "outputs": [
        {
          "output_type": "stream",
          "name": "stdout",
          "text": [
            "호텔로 군집화 된 문서들의 DataFrame Index: Int64Index([0, 13, 20, 24, 27, 31, 32, 33, 40, 43], dtype='int64')\n",
            "##### 비교 기준 문서명  /content/drive/MyDrive/topics/transmission_toyota_camry_2007  와 타 문서 유사도######\n",
            "[[1.         0.03767558 0.11012824 0.07848359 0.06738807 0.03937962\n",
            "  0.03617786 0.08217817 0.07459289 0.06229873]]\n"
          ]
        }
      ]
    },
    {
      "cell_type": "code",
      "source": [
        "from pyparsing.core import condition_as_parse_action\n",
        "import seaborn as sns\n",
        "import numpy as np\n",
        "import matplotlib.pyplot as plt\n",
        "%matplotlib inline\n",
        "\n",
        "# 첫 번째 문서와 타 문서 간 유사도가 큰 순으로 정렬한 인덱스를 추출하되 자기 자신은 제외\n",
        "sorted_index = similarity_pair.argsort()[:, ::-1]\n",
        "sorted_index = sorted_index[:, 1:]\n",
        "\n",
        "# 유사도가 큰 순으로 hotel_indexes를 추출해 재정렬\n",
        "# cosine_similarity()는 쌍 형태의 ndarray를 반환하므로 이를 판다스 인덱스로 이용하기 위해 reshape(-1)로 차원 변경\n",
        "hotel_sorted_indexes = hotel_indexes[sorted_index.reshape(-1)]\n",
        "\n",
        "# 유사도가 큰 순으로 유사도 값을 재정렬하되 자기 자신은 제외\n",
        "hotel_1_sim_value = np.sort(similarity_pair.reshape(-1))[::-1]\n",
        "hotel_1_sim_value = hotel_1_sim_value[1:]\n",
        "\n",
        "# 유사도가 큰 순으로 정렬된 인덱스와 유사도 값을 이용해 파일명과 유사도 값을 막대 그래프로 시각화\n",
        "hotel_1_sim_df = pd.DataFrame()\n",
        "hotel_1_sim_df['filename'] = document_df.iloc[hotel_sorted_indexes]['filename']\n",
        "hotel_1_sim_df['similarity'] = hotel_1_sim_value\n",
        "\n",
        "sns.barplot(x='similarity', y='filename', data=hotel_1_sim_df)\n",
        "plt.title(comparison_docname)"
      ],
      "metadata": {
        "colab": {
          "base_uri": "https://localhost:8080/",
          "height": 313
        },
        "id": "C7kRE1veGES9",
        "outputId": "f823d9c6-f776-4d9d-846a-f7e566311b16"
      },
      "execution_count": 28,
      "outputs": [
        {
          "output_type": "execute_result",
          "data": {
            "text/plain": [
              "Text(0.5, 1.0, '/content/drive/MyDrive/topics/transmission_toyota_camry_2007')"
            ]
          },
          "metadata": {},
          "execution_count": 28
        },
        {
          "output_type": "display_data",
          "data": {
            "text/plain": [
              "<Figure size 432x288 with 1 Axes>"
            ],
            "image/png": "[encoded data removed]"
          },
          "metadata": {
            "needs_background": "light"
          }
        }
      ]
    },
    {
      "cell_type": "markdown",
      "source": [
        "* 첫 번째 문서인 transmission_toyota_camry_2007과 가장 비슷한 문서는 quality_toyota_camry_2007"
      ],
      "metadata": {
        "id": "N9SsqQQsIu8X"
      }
    },
    {
      "cell_type": "markdown",
      "source": [
        "### 09 한글 텍스트 처리 - 네이버 영화 평점 감성 분석\n",
        "#### 한글 NLP 처리의 어려움\n",
        "1. 띄어쓰기 : 잘못하면 의미 왜곡되어 전달될 가능성 有\n",
        "2. 다양한 조사 : 주어나 목적어를 위해 추가되는 조사는 워낙 경우의 수가 많아 어근 추출(Stemming/Lemmatization) 등의 전처리 시 제거하기 까다로움"
      ],
      "metadata": {
        "id": "7GjJRlpLJUO3"
      }
    },
    {
      "cell_type": "markdown",
      "source": [
        "#### KoNLPy 소개\n",
        "* 형태소 : 단어로서 의미를 가지는 최소 단위\n",
        "* 형태소 분석(Morphological analysis) : 말뭉치를 형태소 어근 단위로 쪼개고 각 형태소에 품사 태깅(POS tagging)을 부착하는 작업\n",
        "* KoNLPy : 파이썬의 대표적인 한글 형태소 패키지\n",
        "  - 5개의 형태소 분석 모듈 사용 가능\n",
        "    - 꼬꼬마(Kkma)\n",
        "    - 한나눔(Hannanum)\n",
        "    - Komoran\n",
        "    - 은전한닢 프로젝트(Mecab)\n",
        "    - Twitter"
      ],
      "metadata": {
        "id": "PjObRkBwKunF"
      }
    },
    {
      "cell_type": "markdown",
      "source": [
        "#### 데이터 로딩"
      ],
      "metadata": {
        "id": "nVvA930zMoRs"
      }
    },
    {
      "cell_type": "code",
      "source": [
        "import pandas as pd\n",
        "\n",
        "train_df = pd.read_csv('/content/drive/MyDrive/ESAA/2022-1/과제/개념 필사/0506(금) 9주차 과제_텍스트 분석(2)/ratings_train.txt', sep='\\t')\n",
        "train_df.head(3)"
      ],
      "metadata": {
        "colab": {
          "base_uri": "https://localhost:8080/",
          "height": 143
        },
        "id": "SxhqkM4MHtQE",
        "outputId": "eed2f2f0-be01-4331-fc5a-bfe380578309"
      },
      "execution_count": 29,
      "outputs": [
        {
          "output_type": "execute_result",
          "data": {
            "text/plain": [
              "         id                           document  label\n",
              "0   9976970                아 더빙.. 진짜 짜증나네요 목소리      0\n",
              "1   3819312  흠...포스터보고 초딩영화줄....오버연기조차 가볍지 않구나      1\n",
              "2  10265843                  너무재밓었다그래서보는것을추천한다      0"
            ],
            "text/html": [
              "\n",
              "  <div id=\"df-24a26dda-d0a0-4297-9b71-1f77a84f9613\">\n",
              "    <div class=\"colab-df-container\">\n",
              "      <div>\n",
              "<style scoped>\n",
              "    .dataframe tbody tr th:only-of-type {\n",
              "        vertical-align: middle;\n",
              "    }\n",
              "\n",
              "    .dataframe tbody tr th {\n",
              "        vertical-align: top;\n",
              "    }\n",
              "\n",
              "    .dataframe thead th {\n",
              "        text-align: right;\n",
              "    }\n",
              "</style>\n",
              "<table border=\"1\" class=\"dataframe\">\n",
              "  <thead>\n",
              "    <tr style=\"text-align: right;\">\n",
              "      <th></th>\n",
              "      <th>id</th>\n",
              "      <th>document</th>\n",
              "      <th>label</th>\n",
              "    </tr>\n",
              "  </thead>\n",
              "  <tbody>\n",
              "    <tr>\n",
              "      <th>0</th>\n",
              "      <td>9976970</td>\n",
              "      <td>아 더빙.. 진짜 짜증나네요 목소리</td>\n",
              "      <td>0</td>\n",
              "    </tr>\n",
              "    <tr>\n",
              "      <th>1</th>\n",
              "      <td>3819312</td>\n",
              "      <td>흠...포스터보고 초딩영화줄....오버연기조차 가볍지 않구나</td>\n",
              "      <td>1</td>\n",
              "    </tr>\n",
              "    <tr>\n",
              "      <th>2</th>\n",
              "      <td>10265843</td>\n",
              "      <td>너무재밓었다그래서보는것을추천한다</td>\n",
              "      <td>0</td>\n",
              "    </tr>\n",
              "  </tbody>\n",
              "</table>\n",
              "</div>\n",
              "      <button class=\"colab-df-convert\" onclick=\"convertToInteractive('df-24a26dda-d0a0-4297-9b71-1f77a84f9613')\"\n",
              "              title=\"Convert this dataframe to an interactive table.\"\n",
              "              style=\"display:none;\">\n",
              "        \n",
              "  <svg xmlns=\"http://www.w3.org/2000/svg\" height=\"24px\"viewBox=\"0 0 24 24\"\n",
              "       width=\"24px\">\n",
              "    <path d=\"M0 0h24v24H0V0z\" fill=\"none\"/>\n",
              "    <path d=\"M18.56 5.44l.94 2.06.94-2.06 2.06-.94-2.06-.94-.94-2.06-.94 2.06-2.06.94zm-11 1L8.5 8.5l.94-2.06 2.06-.94-2.06-.94L8.5 2.5l-.94 2.06-2.06.94zm10 10l.94 2.06.94-2.06 2.06-.94-2.06-.94-.94-2.06-.94 2.06-2.06.94z\"/><path d=\"M17.41 7.96l-1.37-1.37c-.4-.4-.92-.59-1.43-.59-.52 0-1.04.2-1.43.59L10.3 9.45l-7.72 7.72c-.78.78-.78 2.05 0 2.83L4 21.41c.39.39.9.59 1.41.59.51 0 1.02-.2 1.41-.59l7.78-7.78 2.81-2.81c.8-.78.8-2.07 0-2.86zM5.41 20L4 18.59l7.72-7.72 1.47 1.35L5.41 20z\"/>\n",
              "  </svg>\n",
              "      </button>\n",
              "      \n",
              "  <style>\n",
              "    .colab-df-container {\n",
              "      display:flex;\n",
              "      flex-wrap:wrap;\n",
              "      gap: 12px;\n",
              "    }\n",
              "\n",
              "    .colab-df-convert {\n",
              "      background-color: #E8F0FE;\n",
              "      border: none;\n",
              "      border-radius: 50%;\n",
              "      cursor: pointer;\n",
              "      display: none;\n",
              "      fill: #1967D2;\n",
              "      height: 32px;\n",
              "      padding: 0 0 0 0;\n",
              "      width: 32px;\n",
              "    }\n",
              "\n",
              "    .colab-df-convert:hover {\n",
              "      background-color: #E2EBFA;\n",
              "      box-shadow: 0px 1px 2px rgba(60, 64, 67, 0.3), 0px 1px 3px 1px rgba(60, 64, 67, 0.15);\n",
              "      fill: #174EA6;\n",
              "    }\n",
              "\n",
              "    [theme=dark] .colab-df-convert {\n",
              "      background-color: #3B4455;\n",
              "      fill: #D2E3FC;\n",
              "    }\n",
              "\n",
              "    [theme=dark] .colab-df-convert:hover {\n",
              "      background-color: #434B5C;\n",
              "      box-shadow: 0px 1px 3px 1px rgba(0, 0, 0, 0.15);\n",
              "      filter: drop-shadow(0px 1px 2px rgba(0, 0, 0, 0.3));\n",
              "      fill: #FFFFFF;\n",
              "    }\n",
              "  </style>\n",
              "\n",
              "      <script>\n",
              "        const buttonEl =\n",
              "          document.querySelector('#df-24a26dda-d0a0-4297-9b71-1f77a84f9613 button.colab-df-convert');\n",
              "        buttonEl.style.display =\n",
              "          google.colab.kernel.accessAllowed ? 'block' : 'none';\n",
              "\n",
              "        async function convertToInteractive(key) {\n",
              "          const element = document.querySelector('#df-24a26dda-d0a0-4297-9b71-1f77a84f9613');\n",
              "          const dataTable =\n",
              "            await google.colab.kernel.invokeFunction('convertToInteractive',\n",
              "                                                     [key], {});\n",
              "          if (!dataTable) return;\n",
              "\n",
              "          const docLinkHtml = 'Like what you see? Visit the ' +\n",
              "            '<a target=\"_blank\" href=https://colab.research.google.com/notebooks/data_table.ipynb>data table notebook</a>'\n",
              "            + ' to learn more about interactive tables.';\n",
              "          element.innerHTML = '';\n",
              "          dataTable['output_type'] = 'display_data';\n",
              "          await google.colab.output.renderOutput(dataTable, element);\n",
              "          const docLink = document.createElement('div');\n",
              "          docLink.innerHTML = docLinkHtml;\n",
              "          element.appendChild(docLink);\n",
              "        }\n",
              "      </script>\n",
              "    </div>\n",
              "  </div>\n",
              "  "
            ]
          },
          "metadata": {},
          "execution_count": 29
        }
      ]
    },
    {
      "cell_type": "code",
      "source": [
        "train_df['label'].value_counts()"
      ],
      "metadata": {
        "colab": {
          "base_uri": "https://localhost:8080/"
        },
        "id": "m_2S9ebGOdFs",
        "outputId": "f90838d1-2b8a-4f0a-812c-23ba9ee7d1d8"
      },
      "execution_count": 30,
      "outputs": [
        {
          "output_type": "execute_result",
          "data": {
            "text/plain": [
              "0    75173\n",
              "1    74827\n",
              "Name: label, dtype: int64"
            ]
          },
          "metadata": {},
          "execution_count": 30
        }
      ]
    },
    {
      "cell_type": "markdown",
      "source": [
        "* 0: 부정 감성, 1: 긍정 감성\n",
        "* 0과 1의 비율은 균등한 분포"
      ],
      "metadata": {
        "id": "QNWcpddVOldD"
      }
    },
    {
      "cell_type": "code",
      "source": [
        "import re\n",
        "\n",
        "train_df = train_df.fillna(' ') # 리뷰 텍스트를 가지는 'document' 칼럼에 존재하는 Null을 공백으로 변환\n",
        "# 정규 표현식을 이용해 숫자를 공백으로 변경(정규 표현식으로 \\d는 숫자를 의미함)\n",
        "train_df['document'] = train_df['document'].apply(lambda x : re.sub(r\"\\d+\", \" \", x))\n",
        "\n",
        "# 테스트 데이터 세트를 로딩하고 동일하게 Null 및 숫자를 공백으로 변환\n",
        "test_df = pd.read_csv('/content/drive/MyDrive/ESAA/2022-1/과제/개념 필사/0506(금) 9주차 과제_텍스트 분석(2)/ratings_test.txt', sep='\\t')\n",
        "test_df = test_df.fillna(' ')\n",
        "test_df['document'] = test_df['document'].apply(lambda x : re.sub(r\"\\d+\", \" \", x))\n",
        "\n",
        "# id 칼럼 삭제 수행\n",
        "train_df.drop('id', axis=1, inplace=True)\n",
        "test_df.drop('id', axis=1, inplace=True)"
      ],
      "metadata": {
        "id": "4gotSzawOk3J"
      },
      "execution_count": 33,
      "outputs": []
    },
    {
      "cell_type": "code",
      "source": [
        "%%bash\n",
        "apt-get update\n",
        "apt-get install g++ openjdk-8-jdk python-dev python3-dev\n",
        "pip3 install JPype1\n",
        "pip3 install konlpy"
      ],
      "metadata": {
        "colab": {
          "base_uri": "https://localhost:8080/"
        },
        "id": "UwpJHX5GRmO3",
        "outputId": "2d1b952f-a74e-488f-dcb4-8bc88caf6bf4"
      },
      "execution_count": 35,
      "outputs": [
        {
          "output_type": "stream",
          "name": "stdout",
          "text": [
            "Get:1 https://cloud.r-project.org/bin/linux/ubuntu bionic-cran40/ InRelease [3,626 B]\n",
            "Hit:2 https://developer.download.nvidia.com/compute/cuda/repos/ubuntu1804/x86_64  InRelease\n",
            "Ign:3 https://developer.download.nvidia.com/compute/machine-learning/repos/ubuntu1804/x86_64  InRelease\n",
            "Hit:4 https://developer.download.nvidia.com/compute/machine-learning/repos/ubuntu1804/x86_64  Release\n",
            "Get:5 http://security.ubuntu.com/ubuntu bionic-security InRelease [88.7 kB]\n",
            "Hit:6 http://archive.ubuntu.com/ubuntu bionic InRelease\n",
            "Get:7 http://ppa.launchpad.net/c2d4u.team/c2d4u4.0+/ubuntu bionic InRelease [15.9 kB]\n",
            "Get:8 http://archive.ubuntu.com/ubuntu bionic-updates InRelease [88.7 kB]\n",
            "Hit:9 http://ppa.launchpad.net/cran/libgit2/ubuntu bionic InRelease\n",
            "Get:10 http://archive.ubuntu.com/ubuntu bionic-backports InRelease [74.6 kB]\n",
            "Hit:11 http://ppa.launchpad.net/deadsnakes/ppa/ubuntu bionic InRelease\n",
            "Hit:12 http://ppa.launchpad.net/graphics-drivers/ppa/ubuntu bionic InRelease\n",
            "Get:14 http://security.ubuntu.com/ubuntu bionic-security/main amd64 Packages [2,734 kB]\n",
            "Get:15 http://security.ubuntu.com/ubuntu bionic-security/universe amd64 Packages [1,498 kB]\n",
            "Get:16 http://ppa.launchpad.net/c2d4u.team/c2d4u4.0+/ubuntu bionic/main Sources [1,954 kB]\n",
            "Get:17 http://archive.ubuntu.com/ubuntu bionic-updates/main amd64 Packages [3,168 kB]\n",
            "Get:18 http://ppa.launchpad.net/c2d4u.team/c2d4u4.0+/ubuntu bionic/main amd64 Packages [1,002 kB]\n",
            "Get:19 http://archive.ubuntu.com/ubuntu bionic-updates/universe amd64 Packages [2,272 kB]\n",
            "Fetched 12.9 MB in 5s (2,586 kB/s)\n",
            "Reading package lists...\n",
            "Reading package lists...\n",
            "Building dependency tree...\n",
            "Reading state information...\n",
            "python-dev is already the newest version (2.7.15~rc1-1).\n",
            "g++ is already the newest version (4:7.4.0-1ubuntu2.3).\n",
            "g++ set to manually installed.\n",
            "python3-dev is already the newest version (3.6.7-1~18.04).\n",
            "python3-dev set to manually installed.\n",
            "The following packages were automatically installed and are no longer required:\n",
            "  libnvidia-common-460 nsight-compute-2020.2.0\n",
            "Use 'apt autoremove' to remove them.\n",
            "The following additional packages will be installed:\n",
            "  fonts-dejavu-core fonts-dejavu-extra libatk-wrapper-java\n",
            "  libatk-wrapper-java-jni libgail-common libgail18 libgtk2.0-0 libgtk2.0-bin\n",
            "  libgtk2.0-common libxxf86dga1 openjdk-8-jdk-headless openjdk-8-jre\n",
            "  openjdk-8-jre-headless x11-utils\n",
            "Suggested packages:\n",
            "  gvfs openjdk-8-demo openjdk-8-source visualvm icedtea-8-plugin libnss-mdns\n",
            "  fonts-ipafont-gothic fonts-ipafont-mincho fonts-wqy-microhei\n",
            "  fonts-wqy-zenhei fonts-indic mesa-utils\n",
            "The following NEW packages will be installed:\n",
            "  fonts-dejavu-core fonts-dejavu-extra libatk-wrapper-java\n",
            "  libatk-wrapper-java-jni libgail-common libgail18 libgtk2.0-0 libgtk2.0-bin\n",
            "  libgtk2.0-common libxxf86dga1 openjdk-8-jdk openjdk-8-jdk-headless\n",
            "  openjdk-8-jre openjdk-8-jre-headless x11-utils\n",
            "0 upgraded, 15 newly installed, 0 to remove and 50 not upgraded.\n",
            "Need to get 43.5 MB of archives.\n",
            "After this operation, 163 MB of additional disk space will be used.\n",
            "Get:1 http://archive.ubuntu.com/ubuntu bionic/main amd64 libxxf86dga1 amd64 2:1.1.4-1 [13.7 kB]\n",
            "Get:2 http://archive.ubuntu.com/ubuntu bionic/main amd64 fonts-dejavu-core all 2.37-1 [1,041 kB]\n",
            "Get:3 http://archive.ubuntu.com/ubuntu bionic/main amd64 fonts-dejavu-extra all 2.37-1 [1,953 kB]\n",
            "Get:4 http://archive.ubuntu.com/ubuntu bionic/main amd64 x11-utils amd64 7.7+3build1 [196 kB]\n",
            "Get:5 http://archive.ubuntu.com/ubuntu bionic/main amd64 libatk-wrapper-java all 0.33.3-20ubuntu0.1 [34.7 kB]\n",
            "Get:6 http://archive.ubuntu.com/ubuntu bionic/main amd64 libatk-wrapper-java-jni amd64 0.33.3-20ubuntu0.1 [28.3 kB]\n",
            "Get:7 http://archive.ubuntu.com/ubuntu bionic/main amd64 libgtk2.0-common all 2.24.32-1ubuntu1 [125 kB]\n",
            "Get:8 http://archive.ubuntu.com/ubuntu bionic/main amd64 libgtk2.0-0 amd64 2.24.32-1ubuntu1 [1,769 kB]\n",
            "Get:9 http://archive.ubuntu.com/ubuntu bionic/main amd64 libgail18 amd64 2.24.32-1ubuntu1 [14.2 kB]\n",
            "Get:10 http://archive.ubuntu.com/ubuntu bionic/main amd64 libgail-common amd64 2.24.32-1ubuntu1 [112 kB]\n",
            "Get:11 http://archive.ubuntu.com/ubuntu bionic/main amd64 libgtk2.0-bin amd64 2.24.32-1ubuntu1 [7,536 B]\n",
            "Get:12 http://archive.ubuntu.com/ubuntu bionic-updates/universe amd64 openjdk-8-jre-headless amd64 8u312-b07-0ubuntu1~18.04 [28.2 MB]\n",
            "Get:13 http://archive.ubuntu.com/ubuntu bionic-updates/universe amd64 openjdk-8-jre amd64 8u312-b07-0ubuntu1~18.04 [69.6 kB]\n",
            "Get:14 http://archive.ubuntu.com/ubuntu bionic-updates/universe amd64 openjdk-8-jdk-headless amd64 8u312-b07-0ubuntu1~18.04 [8,298 kB]\n",
            "Get:15 http://archive.ubuntu.com/ubuntu bionic-updates/universe amd64 openjdk-8-jdk amd64 8u312-b07-0ubuntu1~18.04 [1,625 kB]\n",
            "Fetched 43.5 MB in 3s (17.2 MB/s)\n",
            "Selecting previously unselected package libxxf86dga1:amd64.\r\n",
            "(Reading database ... \r(Reading database ... 5%\r(Reading database ... 10%\r(Reading database ... 15%\r(Reading database ... 20%\r(Reading database ... 25%\r(Reading database ... 30%\r(Reading database ... 35%\r(Reading database ... 40%\r(Reading database ... 45%\r(Reading database ... 50%\r(Reading database ... 55%\r(Reading database ... 60%\r(Reading database ... 65%\r(Reading database ... 70%\r(Reading database ... 75%\r(Reading database ... 80%\r(Reading database ... 85%\r(Reading database ... 90%\r(Reading database ... 95%\r(Reading database ... 100%\r(Reading database ... 155203 files and directories currently installed.)\r\n",
            "Preparing to unpack .../00-libxxf86dga1_2%3a1.1.4-1_amd64.deb ...\r\n",
            "Unpacking libxxf86dga1:amd64 (2:1.1.4-1) ...\r\n",
            "Selecting previously unselected package fonts-dejavu-core.\r\n",
            "Preparing to unpack .../01-fonts-dejavu-core_2.37-1_all.deb ...\r\n",
            "Unpacking fonts-dejavu-core (2.37-1) ...\r\n",
            "Selecting previously unselected package fonts-dejavu-extra.\r\n",
            "Preparing to unpack .../02-fonts-dejavu-extra_2.37-1_all.deb ...\r\n",
            "Unpacking fonts-dejavu-extra (2.37-1) ...\r\n",
            "Selecting previously unselected package x11-utils.\r\n",
            "Preparing to unpack .../03-x11-utils_7.7+3build1_amd64.deb ...\r\n",
            "Unpacking x11-utils (7.7+3build1) ...\r\n",
            "Selecting previously unselected package libatk-wrapper-java.\r\n",
            "Preparing to unpack .../04-libatk-wrapper-java_0.33.3-20ubuntu0.1_all.deb ...\r\n",
            "Unpacking libatk-wrapper-java (0.33.3-20ubuntu0.1) ...\r\n",
            "Selecting previously unselected package libatk-wrapper-java-jni:amd64.\r\n",
            "Preparing to unpack .../05-libatk-wrapper-java-jni_0.33.3-20ubuntu0.1_amd64.deb ...\r\n",
            "Unpacking libatk-wrapper-java-jni:amd64 (0.33.3-20ubuntu0.1) ...\r\n",
            "Selecting previously unselected package libgtk2.0-common.\r\n",
            "Preparing to unpack .../06-libgtk2.0-common_2.24.32-1ubuntu1_all.deb ...\r\n",
            "Unpacking libgtk2.0-common (2.24.32-1ubuntu1) ...\r\n",
            "Selecting previously unselected package libgtk2.0-0:amd64.\r\n",
            "Preparing to unpack .../07-libgtk2.0-0_2.24.32-1ubuntu1_amd64.deb ...\r\n",
            "Unpacking libgtk2.0-0:amd64 (2.24.32-1ubuntu1) ...\r\n",
            "Selecting previously unselected package libgail18:amd64.\r\n",
            "Preparing to unpack .../08-libgail18_2.24.32-1ubuntu1_amd64.deb ...\r\n",
            "Unpacking libgail18:amd64 (2.24.32-1ubuntu1) ...\r\n",
            "Selecting previously unselected package libgail-common:amd64.\r\n",
            "Preparing to unpack .../09-libgail-common_2.24.32-1ubuntu1_amd64.deb ...\r\n",
            "Unpacking libgail-common:amd64 (2.24.32-1ubuntu1) ...\r\n",
            "Selecting previously unselected package libgtk2.0-bin.\r\n",
            "Preparing to unpack .../10-libgtk2.0-bin_2.24.32-1ubuntu1_amd64.deb ...\r\n",
            "Unpacking libgtk2.0-bin (2.24.32-1ubuntu1) ...\r\n",
            "Selecting previously unselected package openjdk-8-jre-headless:amd64.\r\n",
            "Preparing to unpack .../11-openjdk-8-jre-headless_8u312-b07-0ubuntu1~18.04_amd64.deb ...\r\n",
            "Unpacking openjdk-8-jre-headless:amd64 (8u312-b07-0ubuntu1~18.04) ...\r\n",
            "Selecting previously unselected package openjdk-8-jre:amd64.\r\n",
            "Preparing to unpack .../12-openjdk-8-jre_8u312-b07-0ubuntu1~18.04_amd64.deb ...\r\n",
            "Unpacking openjdk-8-jre:amd64 (8u312-b07-0ubuntu1~18.04) ...\r\n",
            "Selecting previously unselected package openjdk-8-jdk-headless:amd64.\r\n",
            "Preparing to unpack .../13-openjdk-8-jdk-headless_8u312-b07-0ubuntu1~18.04_amd64.deb ...\r\n",
            "Unpacking openjdk-8-jdk-headless:amd64 (8u312-b07-0ubuntu1~18.04) ...\r\n",
            "Selecting previously unselected package openjdk-8-jdk:amd64.\r\n",
            "Preparing to unpack .../14-openjdk-8-jdk_8u312-b07-0ubuntu1~18.04_amd64.deb ...\r\n",
            "Unpacking openjdk-8-jdk:amd64 (8u312-b07-0ubuntu1~18.04) ...\r\n",
            "Setting up libgtk2.0-common (2.24.32-1ubuntu1) ...\r\n",
            "Setting up fonts-dejavu-core (2.37-1) ...\r\n",
            "Setting up libxxf86dga1:amd64 (2:1.1.4-1) ...\r\n",
            "Setting up fonts-dejavu-extra (2.37-1) ...\r\n",
            "Setting up openjdk-8-jre-headless:amd64 (8u312-b07-0ubuntu1~18.04) ...\r\n",
            "update-alternatives: using /usr/lib/jvm/java-8-openjdk-amd64/jre/bin/orbd to provide /usr/bin/orbd (orbd) in auto mode\r\n",
            "update-alternatives: using /usr/lib/jvm/java-8-openjdk-amd64/jre/bin/servertool to provide /usr/bin/servertool (servertool) in auto mode\r\n",
            "update-alternatives: using /usr/lib/jvm/java-8-openjdk-amd64/jre/bin/tnameserv to provide /usr/bin/tnameserv (tnameserv) in auto mode\r\n",
            "Setting up libgtk2.0-0:amd64 (2.24.32-1ubuntu1) ...\r\n",
            "Setting up libgail18:amd64 (2.24.32-1ubuntu1) ...\r\n",
            "Setting up openjdk-8-jdk-headless:amd64 (8u312-b07-0ubuntu1~18.04) ...\r\n",
            "update-alternatives: using /usr/lib/jvm/java-8-openjdk-amd64/bin/idlj to provide /usr/bin/idlj (idlj) in auto mode\r\n",
            "update-alternatives: using /usr/lib/jvm/java-8-openjdk-amd64/bin/wsimport to provide /usr/bin/wsimport (wsimport) in auto mode\r\n",
            "update-alternatives: using /usr/lib/jvm/java-8-openjdk-amd64/bin/jsadebugd to provide /usr/bin/jsadebugd (jsadebugd) in auto mode\r\n",
            "update-alternatives: using /usr/lib/jvm/java-8-openjdk-amd64/bin/native2ascii to provide /usr/bin/native2ascii (native2ascii) in auto mode\r\n",
            "update-alternatives: using /usr/lib/jvm/java-8-openjdk-amd64/bin/javah to provide /usr/bin/javah (javah) in auto mode\r\n",
            "update-alternatives: using /usr/lib/jvm/java-8-openjdk-amd64/bin/hsdb to provide /usr/bin/hsdb (hsdb) in auto mode\r\n",
            "update-alternatives: using /usr/lib/jvm/java-8-openjdk-amd64/bin/clhsdb to provide /usr/bin/clhsdb (clhsdb) in auto mode\r\n",
            "update-alternatives: using /usr/lib/jvm/java-8-openjdk-amd64/bin/xjc to provide /usr/bin/xjc (xjc) in auto mode\r\n",
            "update-alternatives: using /usr/lib/jvm/java-8-openjdk-amd64/bin/schemagen to provide /usr/bin/schemagen (schemagen) in auto mode\r\n",
            "update-alternatives: using /usr/lib/jvm/java-8-openjdk-amd64/bin/extcheck to provide /usr/bin/extcheck (extcheck) in auto mode\r\n",
            "update-alternatives: using /usr/lib/jvm/java-8-openjdk-amd64/bin/jhat to provide /usr/bin/jhat (jhat) in auto mode\r\n",
            "update-alternatives: using /usr/lib/jvm/java-8-openjdk-amd64/bin/wsgen to provide /usr/bin/wsgen (wsgen) in auto mode\r\n",
            "Setting up x11-utils (7.7+3build1) ...\r\n",
            "Setting up libgail-common:amd64 (2.24.32-1ubuntu1) ...\r\n",
            "Setting up libatk-wrapper-java (0.33.3-20ubuntu0.1) ...\r\n",
            "Setting up libgtk2.0-bin (2.24.32-1ubuntu1) ...\r\n",
            "Setting up libatk-wrapper-java-jni:amd64 (0.33.3-20ubuntu0.1) ...\r\n",
            "Setting up openjdk-8-jre:amd64 (8u312-b07-0ubuntu1~18.04) ...\r\n",
            "update-alternatives: using /usr/lib/jvm/java-8-openjdk-amd64/jre/bin/policytool to provide /usr/bin/policytool (policytool) in auto mode\r\n",
            "Setting up openjdk-8-jdk:amd64 (8u312-b07-0ubuntu1~18.04) ...\r\n",
            "update-alternatives: using /usr/lib/jvm/java-8-openjdk-amd64/bin/appletviewer to provide /usr/bin/appletviewer (appletviewer) in auto mode\r\n",
            "update-alternatives: using /usr/lib/jvm/java-8-openjdk-amd64/bin/jconsole to provide /usr/bin/jconsole (jconsole) in auto mode\r\n",
            "Processing triggers for man-db (2.8.3-2ubuntu0.1) ...\r\n",
            "Processing triggers for hicolor-icon-theme (0.17-2) ...\r\n",
            "Processing triggers for fontconfig (2.12.6-0ubuntu2) ...\r\n",
            "Processing triggers for mime-support (3.60ubuntu1) ...\r\n",
            "Processing triggers for libc-bin (2.27-3ubuntu1.3) ...\r\n",
            "/sbin/ldconfig.real: /usr/local/lib/python3.7/dist-packages/ideep4py/lib/libmkldnn.so.0 is not a symbolic link\r\n",
            "\r\n",
            "Collecting JPype1\n",
            "  Downloading JPype1-1.3.0-cp37-cp37m-manylinux_2_5_x86_64.manylinux1_x86_64.whl (448 kB)\n",
            "Requirement already satisfied: typing-extensions in /usr/local/lib/python3.7/dist-packages (from JPype1) (4.2.0)\n",
            "Installing collected packages: JPype1\n",
            "Successfully installed JPype1-1.3.0\n",
            "Collecting konlpy\n",
            "  Downloading konlpy-0.6.0-py2.py3-none-any.whl (19.4 MB)\n",
            "Requirement already satisfied: numpy>=1.6 in /usr/local/lib/python3.7/dist-packages (from konlpy) (1.21.6)\n",
            "Requirement already satisfied: JPype1>=0.7.0 in /usr/local/lib/python3.7/dist-packages (from konlpy) (1.3.0)\n",
            "Requirement already satisfied: lxml>=4.1.0 in /usr/local/lib/python3.7/dist-packages (from konlpy) (4.2.6)\n",
            "Requirement already satisfied: typing-extensions in /usr/local/lib/python3.7/dist-packages (from JPype1>=0.7.0->konlpy) (4.2.0)\n",
            "Installing collected packages: konlpy\n",
            "Successfully installed konlpy-0.6.0\n"
          ]
        }
      ]
    },
    {
      "cell_type": "code",
      "source": [
        "%env JAVA_HOME \"/usr/lib/jvm/java-8-openjdk-amd64\""
      ],
      "metadata": {
        "colab": {
          "base_uri": "https://localhost:8080/"
        },
        "id": "P-NiT3hKR0lb",
        "outputId": "aedb08eb-96ab-480d-bb11-539ecf5b97ea"
      },
      "execution_count": 36,
      "outputs": [
        {
          "output_type": "stream",
          "name": "stdout",
          "text": [
            "env: JAVA_HOME=\"/usr/lib/jvm/java-8-openjdk-amd64\"\n"
          ]
        }
      ]
    },
    {
      "cell_type": "code",
      "source": [
        "%%bash\n",
        "bash <(curl -s https://raw.githubusercontent.com/konlpy/konlpy/master/scripts/mecab.sh)\n",
        "pip3 install /tmp/mecab-python-0.996"
      ],
      "metadata": {
        "colab": {
          "base_uri": "https://localhost:8080/"
        },
        "id": "Lii2bUgHR2T3",
        "outputId": "89caeace-f6bc-41bf-94d5-2ff03ae69f27"
      },
      "execution_count": 37,
      "outputs": [
        {
          "output_type": "stream",
          "name": "stdout",
          "text": [
            "Installing automake (A dependency for mecab-ko)\n",
            "Hit:1 https://cloud.r-project.org/bin/linux/ubuntu bionic-cran40/ InRelease\n",
            "Hit:2 https://developer.download.nvidia.com/compute/cuda/repos/ubuntu1804/x86_64  InRelease\n",
            "Hit:3 http://archive.ubuntu.com/ubuntu bionic InRelease\n",
            "Ign:4 https://developer.download.nvidia.com/compute/machine-learning/repos/ubuntu1804/x86_64  InRelease\n",
            "Hit:5 https://developer.download.nvidia.com/compute/machine-learning/repos/ubuntu1804/x86_64  Release\n",
            "Hit:6 http://archive.ubuntu.com/ubuntu bionic-updates InRelease\n",
            "Hit:7 http://archive.ubuntu.com/ubuntu bionic-backports InRelease\n",
            "Hit:8 http://ppa.launchpad.net/c2d4u.team/c2d4u4.0+/ubuntu bionic InRelease\n",
            "Hit:9 http://security.ubuntu.com/ubuntu bionic-security InRelease\n",
            "Hit:10 http://ppa.launchpad.net/cran/libgit2/ubuntu bionic InRelease\n",
            "Hit:12 http://ppa.launchpad.net/deadsnakes/ppa/ubuntu bionic InRelease\n",
            "Hit:13 http://ppa.launchpad.net/graphics-drivers/ppa/ubuntu bionic InRelease\n",
            "Reading package lists...\n",
            "Reading package lists...\n",
            "Building dependency tree...\n",
            "Reading state information...\n",
            "The following packages were automatically installed and are no longer required:\n",
            "  libnvidia-common-460 nsight-compute-2020.2.0\n",
            "Use 'sudo apt autoremove' to remove them.\n",
            "The following additional packages will be installed:\n",
            "  autoconf autotools-dev libsigsegv2 m4\n",
            "Suggested packages:\n",
            "  autoconf-archive gnu-standards autoconf-doc libtool gettext m4-doc\n",
            "The following NEW packages will be installed:\n",
            "  autoconf automake autotools-dev libsigsegv2 m4\n",
            "0 upgraded, 5 newly installed, 0 to remove and 50 not upgraded.\n",
            "Need to get 1,082 kB of archives.\n",
            "After this operation, 3,994 kB of additional disk space will be used.\n",
            "Get:1 http://archive.ubuntu.com/ubuntu bionic/main amd64 libsigsegv2 amd64 2.12-1 [14.7 kB]\n",
            "Get:2 http://archive.ubuntu.com/ubuntu bionic/main amd64 m4 amd64 1.4.18-1 [197 kB]\n",
            "Get:3 http://archive.ubuntu.com/ubuntu bionic/main amd64 autoconf all 2.69-11 [322 kB]\n",
            "Get:4 http://archive.ubuntu.com/ubuntu bionic/main amd64 autotools-dev all 20180224.1 [39.6 kB]\n",
            "Get:5 http://archive.ubuntu.com/ubuntu bionic/main amd64 automake all 1:1.15.1-3ubuntu2 [509 kB]\n",
            "Fetched 1,082 kB in 0s (2,763 kB/s)\n",
            "Selecting previously unselected package libsigsegv2:amd64.\r\n",
            "(Reading database ... \r(Reading database ... 5%\r(Reading database ... 10%\r(Reading database ... 15%\r(Reading database ... 20%\r(Reading database ... 25%\r(Reading database ... 30%\r(Reading database ... 35%\r(Reading database ... 40%\r(Reading database ... 45%\r(Reading database ... 50%\r(Reading database ... 55%\r(Reading database ... 60%\r(Reading database ... 65%\r(Reading database ... 70%\r(Reading database ... 75%\r(Reading database ... 80%\r(Reading database ... 85%\r(Reading database ... 90%\r(Reading database ... 95%\r(Reading database ... 100%\r(Reading database ... 155779 files and directories currently installed.)\r\n",
            "Preparing to unpack .../libsigsegv2_2.12-1_amd64.deb ...\r\n",
            "Unpacking libsigsegv2:amd64 (2.12-1) ...\r\n",
            "Selecting previously unselected package m4.\r\n",
            "Preparing to unpack .../archives/m4_1.4.18-1_amd64.deb ...\r\n",
            "Unpacking m4 (1.4.18-1) ...\r\n",
            "Selecting previously unselected package autoconf.\r\n",
            "Preparing to unpack .../autoconf_2.69-11_all.deb ...\r\n",
            "Unpacking autoconf (2.69-11) ...\r\n",
            "Selecting previously unselected package autotools-dev.\r\n",
            "Preparing to unpack .../autotools-dev_20180224.1_all.deb ...\r\n",
            "Unpacking autotools-dev (20180224.1) ...\r\n",
            "Selecting previously unselected package automake.\r\n",
            "Preparing to unpack .../automake_1%3a1.15.1-3ubuntu2_all.deb ...\r\n",
            "Unpacking automake (1:1.15.1-3ubuntu2) ...\r\n",
            "Setting up libsigsegv2:amd64 (2.12-1) ...\r\n",
            "Setting up m4 (1.4.18-1) ...\r\n",
            "Setting up autotools-dev (20180224.1) ...\r\n",
            "Setting up autoconf (2.69-11) ...\r\n",
            "Setting up automake (1:1.15.1-3ubuntu2) ...\r\n",
            "update-alternatives: using /usr/bin/automake-1.15 to provide /usr/bin/automake (automake) in auto mode\r\n",
            "Processing triggers for libc-bin (2.27-3ubuntu1.3) ...\r\n",
            "/sbin/ldconfig.real: /usr/local/lib/python3.7/dist-packages/ideep4py/lib/libmkldnn.so.0 is not a symbolic link\r\n",
            "\r\n",
            "Processing triggers for man-db (2.8.3-2ubuntu0.1) ...\r\n",
            "Install mecab-ko\n",
            "mecab-0.996-ko-0.9.2/\n",
            "mecab-0.996-ko-0.9.2/example/\n",
            "mecab-0.996-ko-0.9.2/example/example.cpp\n",
            "mecab-0.996-ko-0.9.2/example/example_lattice.cpp\n",
            "mecab-0.996-ko-0.9.2/example/example_lattice.c\n",
            "mecab-0.996-ko-0.9.2/example/example.c\n",
            "mecab-0.996-ko-0.9.2/example/thread_test.cpp\n",
            "mecab-0.996-ko-0.9.2/mecab-config.in\n",
            "mecab-0.996-ko-0.9.2/man/\n",
            "mecab-0.996-ko-0.9.2/man/Makefile.am\n",
            "mecab-0.996-ko-0.9.2/man/mecab.1\n",
            "mecab-0.996-ko-0.9.2/man/Makefile.in\n",
            "mecab-0.996-ko-0.9.2/mecab.iss.in\n",
            "mecab-0.996-ko-0.9.2/config.guess\n",
            "mecab-0.996-ko-0.9.2/README\n",
            "mecab-0.996-ko-0.9.2/COPYING\n",
            "mecab-0.996-ko-0.9.2/CHANGES.md\n",
            "mecab-0.996-ko-0.9.2/README.md\n",
            "mecab-0.996-ko-0.9.2/INSTALL\n",
            "mecab-0.996-ko-0.9.2/config.sub\n",
            "mecab-0.996-ko-0.9.2/configure.in\n",
            "mecab-0.996-ko-0.9.2/swig/\n",
            "mecab-0.996-ko-0.9.2/swig/Makefile\n",
            "mecab-0.996-ko-0.9.2/swig/version.h.in\n",
            "mecab-0.996-ko-0.9.2/swig/version.h\n",
            "mecab-0.996-ko-0.9.2/swig/MeCab.i\n",
            "mecab-0.996-ko-0.9.2/aclocal.m4\n",
            "mecab-0.996-ko-0.9.2/LGPL\n",
            "mecab-0.996-ko-0.9.2/Makefile.am\n",
            "mecab-0.996-ko-0.9.2/configure\n",
            "mecab-0.996-ko-0.9.2/tests/\n",
            "mecab-0.996-ko-0.9.2/tests/autolink/\n",
            "mecab-0.996-ko-0.9.2/tests/autolink/unk.def\n",
            "mecab-0.996-ko-0.9.2/tests/autolink/dicrc\n",
            "mecab-0.996-ko-0.9.2/tests/autolink/dic.csv\n",
            "mecab-0.996-ko-0.9.2/tests/autolink/test\n",
            "mecab-0.996-ko-0.9.2/tests/autolink/char.def\n",
            "mecab-0.996-ko-0.9.2/tests/autolink/matrix.def\n",
            "mecab-0.996-ko-0.9.2/tests/autolink/test.gld\n",
            "mecab-0.996-ko-0.9.2/tests/t9/\n",
            "mecab-0.996-ko-0.9.2/tests/t9/unk.def\n",
            "mecab-0.996-ko-0.9.2/tests/t9/ipadic.pl\n",
            "mecab-0.996-ko-0.9.2/tests/t9/dicrc\n",
            "mecab-0.996-ko-0.9.2/tests/t9/dic.csv\n",
            "mecab-0.996-ko-0.9.2/tests/t9/test\n",
            "mecab-0.996-ko-0.9.2/tests/t9/char.def\n",
            "mecab-0.996-ko-0.9.2/tests/t9/matrix.def\n",
            "mecab-0.996-ko-0.9.2/tests/t9/mkdic.pl\n",
            "mecab-0.996-ko-0.9.2/tests/t9/test.gld\n",
            "mecab-0.996-ko-0.9.2/tests/cost-train/\n",
            "mecab-0.996-ko-0.9.2/tests/cost-train/ipa.train\n",
            "mecab-0.996-ko-0.9.2/tests/cost-train/ipa.test\n",
            "mecab-0.996-ko-0.9.2/tests/cost-train/seed/\n",
            "mecab-0.996-ko-0.9.2/tests/cost-train/seed/rewrite.def\n",
            "mecab-0.996-ko-0.9.2/tests/cost-train/seed/feature.def\n",
            "mecab-0.996-ko-0.9.2/tests/cost-train/seed/unk.def\n",
            "mecab-0.996-ko-0.9.2/tests/cost-train/seed/dicrc\n",
            "mecab-0.996-ko-0.9.2/tests/cost-train/seed/dic.csv\n",
            "mecab-0.996-ko-0.9.2/tests/cost-train/seed/char.def\n",
            "mecab-0.996-ko-0.9.2/tests/cost-train/seed/matrix.def\n",
            "mecab-0.996-ko-0.9.2/tests/run-eval.sh\n",
            "mecab-0.996-ko-0.9.2/tests/run-cost-train.sh\n",
            "mecab-0.996-ko-0.9.2/tests/Makefile.am\n",
            "mecab-0.996-ko-0.9.2/tests/katakana/\n",
            "mecab-0.996-ko-0.9.2/tests/katakana/unk.def\n",
            "mecab-0.996-ko-0.9.2/tests/katakana/dicrc\n",
            "mecab-0.996-ko-0.9.2/tests/katakana/dic.csv\n",
            "mecab-0.996-ko-0.9.2/tests/katakana/test\n",
            "mecab-0.996-ko-0.9.2/tests/katakana/char.def\n",
            "mecab-0.996-ko-0.9.2/tests/katakana/matrix.def\n",
            "mecab-0.996-ko-0.9.2/tests/katakana/test.gld\n",
            "mecab-0.996-ko-0.9.2/tests/eval/\n",
            "mecab-0.996-ko-0.9.2/tests/eval/answer\n",
            "mecab-0.996-ko-0.9.2/tests/eval/system\n",
            "mecab-0.996-ko-0.9.2/tests/eval/test.gld\n",
            "mecab-0.996-ko-0.9.2/tests/shiin/\n",
            "mecab-0.996-ko-0.9.2/tests/shiin/unk.def\n",
            "mecab-0.996-ko-0.9.2/tests/shiin/dicrc\n",
            "mecab-0.996-ko-0.9.2/tests/shiin/dic.csv\n",
            "mecab-0.996-ko-0.9.2/tests/shiin/test\n",
            "mecab-0.996-ko-0.9.2/tests/shiin/char.def\n",
            "mecab-0.996-ko-0.9.2/tests/shiin/matrix.def\n",
            "mecab-0.996-ko-0.9.2/tests/shiin/mkdic.pl\n",
            "mecab-0.996-ko-0.9.2/tests/shiin/test.gld\n",
            "mecab-0.996-ko-0.9.2/tests/latin/\n",
            "mecab-0.996-ko-0.9.2/tests/latin/unk.def\n",
            "mecab-0.996-ko-0.9.2/tests/latin/dicrc\n",
            "mecab-0.996-ko-0.9.2/tests/latin/dic.csv\n",
            "mecab-0.996-ko-0.9.2/tests/latin/test\n",
            "mecab-0.996-ko-0.9.2/tests/latin/char.def\n",
            "mecab-0.996-ko-0.9.2/tests/latin/matrix.def\n",
            "mecab-0.996-ko-0.9.2/tests/latin/test.gld\n",
            "mecab-0.996-ko-0.9.2/tests/chartype/\n",
            "mecab-0.996-ko-0.9.2/tests/chartype/unk.def\n",
            "mecab-0.996-ko-0.9.2/tests/chartype/dicrc\n",
            "mecab-0.996-ko-0.9.2/tests/chartype/dic.csv\n",
            "mecab-0.996-ko-0.9.2/tests/chartype/test\n",
            "mecab-0.996-ko-0.9.2/tests/chartype/char.def\n",
            "mecab-0.996-ko-0.9.2/tests/chartype/matrix.def\n",
            "mecab-0.996-ko-0.9.2/tests/chartype/test.gld\n",
            "mecab-0.996-ko-0.9.2/tests/run-dics.sh\n",
            "mecab-0.996-ko-0.9.2/tests/ngram/\n",
            "mecab-0.996-ko-0.9.2/tests/ngram/unk.def\n",
            "mecab-0.996-ko-0.9.2/tests/ngram/dicrc\n",
            "mecab-0.996-ko-0.9.2/tests/ngram/dic.csv\n",
            "mecab-0.996-ko-0.9.2/tests/ngram/test\n",
            "mecab-0.996-ko-0.9.2/tests/ngram/char.def\n",
            "mecab-0.996-ko-0.9.2/tests/ngram/matrix.def\n",
            "mecab-0.996-ko-0.9.2/tests/ngram/test.gld\n",
            "mecab-0.996-ko-0.9.2/tests/Makefile.in\n",
            "mecab-0.996-ko-0.9.2/ltmain.sh\n",
            "mecab-0.996-ko-0.9.2/config.rpath\n",
            "mecab-0.996-ko-0.9.2/config.h.in\n",
            "mecab-0.996-ko-0.9.2/mecabrc.in\n",
            "mecab-0.996-ko-0.9.2/GPL\n",
            "mecab-0.996-ko-0.9.2/Makefile.train\n",
            "mecab-0.996-ko-0.9.2/ChangeLog\n",
            "mecab-0.996-ko-0.9.2/install-sh\n",
            "mecab-0.996-ko-0.9.2/AUTHORS\n",
            "mecab-0.996-ko-0.9.2/doc/\n",
            "mecab-0.996-ko-0.9.2/doc/bindings.html\n",
            "mecab-0.996-ko-0.9.2/doc/posid.html\n",
            "mecab-0.996-ko-0.9.2/doc/unk.html\n",
            "mecab-0.996-ko-0.9.2/doc/learn.html\n",
            "mecab-0.996-ko-0.9.2/doc/format.html\n",
            "mecab-0.996-ko-0.9.2/doc/libmecab.html\n",
            "mecab-0.996-ko-0.9.2/doc/mecab.css\n",
            "mecab-0.996-ko-0.9.2/doc/feature.html\n",
            "mecab-0.996-ko-0.9.2/doc/Makefile.am\n",
            "mecab-0.996-ko-0.9.2/doc/soft.html\n",
            "mecab-0.996-ko-0.9.2/doc/en/\n",
            "mecab-0.996-ko-0.9.2/doc/en/bindings.html\n",
            "mecab-0.996-ko-0.9.2/doc/dic-detail.html\n",
            "mecab-0.996-ko-0.9.2/doc/flow.png\n",
            "mecab-0.996-ko-0.9.2/doc/mecab.html\n",
            "mecab-0.996-ko-0.9.2/doc/index.html\n",
            "mecab-0.996-ko-0.9.2/doc/result.png\n",
            "mecab-0.996-ko-0.9.2/doc/doxygen/\n",
            "mecab-0.996-ko-0.9.2/doc/doxygen/tab_a.png\n",
            "mecab-0.996-ko-0.9.2/doc/doxygen/globals_eval.html\n",
            "mecab-0.996-ko-0.9.2/doc/doxygen/classMeCab_1_1Tagger-members.html\n",
            "mecab-0.996-ko-0.9.2/doc/doxygen/functions_vars.html\n",
            "mecab-0.996-ko-0.9.2/doc/doxygen/doxygen.css\n",
            "mecab-0.996-ko-0.9.2/doc/doxygen/tab_r.gif\n",
            "mecab-0.996-ko-0.9.2/doc/doxygen/classMeCab_1_1Lattice.html\n",
            "mecab-0.996-ko-0.9.2/doc/doxygen/functions.html\n",
            "mecab-0.996-ko-0.9.2/doc/doxygen/classMeCab_1_1Tagger.html\n",
            "mecab-0.996-ko-0.9.2/doc/doxygen/mecab_8h_source.html\n",
            "mecab-0.996-ko-0.9.2/doc/doxygen/tabs.css\n",
            "mecab-0.996-ko-0.9.2/doc/doxygen/nav_f.png\n",
            "mecab-0.996-ko-0.9.2/doc/doxygen/tab_b.png\n",
            "mecab-0.996-ko-0.9.2/doc/doxygen/globals.html\n",
            "mecab-0.996-ko-0.9.2/doc/doxygen/nav_h.png\n",
            "mecab-0.996-ko-0.9.2/doc/doxygen/tab_h.png\n",
            "mecab-0.996-ko-0.9.2/doc/doxygen/classMeCab_1_1Model.html\n",
            "mecab-0.996-ko-0.9.2/doc/doxygen/globals_func.html\n",
            "mecab-0.996-ko-0.9.2/doc/doxygen/closed.png\n",
            "mecab-0.996-ko-0.9.2/doc/doxygen/tab_l.gif\n",
            "mecab-0.996-ko-0.9.2/doc/doxygen/structmecab__path__t-members.html\n",
            "mecab-0.996-ko-0.9.2/doc/doxygen/functions_func.html\n",
            "mecab-0.996-ko-0.9.2/doc/doxygen/globals_type.html\n",
            "mecab-0.996-ko-0.9.2/doc/doxygen/classMeCab_1_1Lattice-members.html\n",
            "mecab-0.996-ko-0.9.2/doc/doxygen/structmecab__node__t.html\n",
            "mecab-0.996-ko-0.9.2/doc/doxygen/namespacemembers_func.html\n",
            "mecab-0.996-ko-0.9.2/doc/doxygen/tab_s.png\n",
            "mecab-0.996-ko-0.9.2/doc/doxygen/structmecab__dictionary__info__t-members.html\n",
            "mecab-0.996-ko-0.9.2/doc/doxygen/namespacemembers_type.html\n",
            "mecab-0.996-ko-0.9.2/doc/doxygen/classMeCab_1_1Model-members.html\n",
            "mecab-0.996-ko-0.9.2/doc/doxygen/structmecab__dictionary__info__t.html\n",
            "mecab-0.996-ko-0.9.2/doc/doxygen/namespaces.html\n",
            "mecab-0.996-ko-0.9.2/doc/doxygen/namespacemembers.html\n",
            "mecab-0.996-ko-0.9.2/doc/doxygen/namespaceMeCab.html\n",
            "mecab-0.996-ko-0.9.2/doc/doxygen/structmecab__path__t.html\n",
            "mecab-0.996-ko-0.9.2/doc/doxygen/files.html\n",
            "mecab-0.996-ko-0.9.2/doc/doxygen/structmecab__node__t-members.html\n",
            "mecab-0.996-ko-0.9.2/doc/doxygen/index.html\n",
            "mecab-0.996-ko-0.9.2/doc/doxygen/annotated.html\n",
            "mecab-0.996-ko-0.9.2/doc/doxygen/globals_defs.html\n",
            "mecab-0.996-ko-0.9.2/doc/doxygen/classes.html\n",
            "mecab-0.996-ko-0.9.2/doc/doxygen/mecab_8h-source.html\n",
            "mecab-0.996-ko-0.9.2/doc/doxygen/doxygen.png\n",
            "mecab-0.996-ko-0.9.2/doc/doxygen/tab_b.gif\n",
            "mecab-0.996-ko-0.9.2/doc/doxygen/bc_s.png\n",
            "mecab-0.996-ko-0.9.2/doc/doxygen/open.png\n",
            "mecab-0.996-ko-0.9.2/doc/doxygen/mecab_8h.html\n",
            "mecab-0.996-ko-0.9.2/doc/dic.html\n",
            "mecab-0.996-ko-0.9.2/doc/partial.html\n",
            "mecab-0.996-ko-0.9.2/doc/feature.png\n",
            "mecab-0.996-ko-0.9.2/doc/Makefile.in\n",
            "mecab-0.996-ko-0.9.2/missing\n",
            "mecab-0.996-ko-0.9.2/BSD\n",
            "mecab-0.996-ko-0.9.2/NEWS\n",
            "mecab-0.996-ko-0.9.2/mkinstalldirs\n",
            "mecab-0.996-ko-0.9.2/src/\n",
            "mecab-0.996-ko-0.9.2/src/dictionary.h\n",
            "mecab-0.996-ko-0.9.2/src/writer.h\n",
            "mecab-0.996-ko-0.9.2/src/utils.h\n",
            "mecab-0.996-ko-0.9.2/src/string_buffer.cpp\n",
            "mecab-0.996-ko-0.9.2/src/tokenizer.cpp\n",
            "mecab-0.996-ko-0.9.2/src/make.bat\n",
            "mecab-0.996-ko-0.9.2/src/mecab.h\n",
            "mecab-0.996-ko-0.9.2/src/freelist.h\n",
            "mecab-0.996-ko-0.9.2/src/string_buffer.h\n",
            "mecab-0.996-ko-0.9.2/src/learner_tagger.h\n",
            "mecab-0.996-ko-0.9.2/src/dictionary_compiler.cpp\n",
            "mecab-0.996-ko-0.9.2/src/eval.cpp\n",
            "mecab-0.996-ko-0.9.2/src/mecab-system-eval.cpp\n",
            "mecab-0.996-ko-0.9.2/src/darts.h\n",
            "mecab-0.996-ko-0.9.2/src/param.h\n",
            "mecab-0.996-ko-0.9.2/src/char_property.h\n",
            "mecab-0.996-ko-0.9.2/src/learner_node.h\n",
            "mecab-0.996-ko-0.9.2/src/mecab-dict-gen.cpp\n",
            "mecab-0.996-ko-0.9.2/src/mecab-dict-index.cpp\n",
            "mecab-0.996-ko-0.9.2/src/winmain.h\n",
            "mecab-0.996-ko-0.9.2/src/thread.h\n",
            "mecab-0.996-ko-0.9.2/src/context_id.cpp\n",
            "mecab-0.996-ko-0.9.2/src/Makefile.am\n",
            "mecab-0.996-ko-0.9.2/src/connector.h\n",
            "mecab-0.996-ko-0.9.2/src/common.h\n",
            "mecab-0.996-ko-0.9.2/src/dictionary_rewriter.cpp\n",
            "mecab-0.996-ko-0.9.2/src/Makefile.msvc.in\n",
            "mecab-0.996-ko-0.9.2/src/dictionary_rewriter.h\n",
            "mecab-0.996-ko-0.9.2/src/feature_index.h\n",
            "mecab-0.996-ko-0.9.2/src/iconv_utils.cpp\n",
            "mecab-0.996-ko-0.9.2/src/char_property.cpp\n",
            "mecab-0.996-ko-0.9.2/src/mecab-test-gen.cpp\n",
            "mecab-0.996-ko-0.9.2/src/tagger.cpp\n",
            "mecab-0.996-ko-0.9.2/src/mecab-cost-train.cpp\n",
            "mecab-0.996-ko-0.9.2/src/learner.cpp\n",
            "mecab-0.996-ko-0.9.2/src/dictionary.cpp\n",
            "mecab-0.996-ko-0.9.2/src/lbfgs.cpp\n",
            "mecab-0.996-ko-0.9.2/src/ucs.h\n",
            "mecab-0.996-ko-0.9.2/src/writer.cpp\n",
            "mecab-0.996-ko-0.9.2/src/learner_tagger.cpp\n",
            "mecab-0.996-ko-0.9.2/src/lbfgs.h\n",
            "mecab-0.996-ko-0.9.2/src/libmecab.cpp\n",
            "mecab-0.996-ko-0.9.2/src/tokenizer.h\n",
            "mecab-0.996-ko-0.9.2/src/mecab.cpp\n",
            "mecab-0.996-ko-0.9.2/src/utils.cpp\n",
            "mecab-0.996-ko-0.9.2/src/dictionary_generator.cpp\n",
            "mecab-0.996-ko-0.9.2/src/param.cpp\n",
            "mecab-0.996-ko-0.9.2/src/context_id.h\n",
            "mecab-0.996-ko-0.9.2/src/mmap.h\n",
            "mecab-0.996-ko-0.9.2/src/viterbi.h\n",
            "mecab-0.996-ko-0.9.2/src/viterbi.cpp\n",
            "mecab-0.996-ko-0.9.2/src/stream_wrapper.h\n",
            "mecab-0.996-ko-0.9.2/src/feature_index.cpp\n",
            "mecab-0.996-ko-0.9.2/src/nbest_generator.h\n",
            "mecab-0.996-ko-0.9.2/src/ucstable.h\n",
            "mecab-0.996-ko-0.9.2/src/nbest_generator.cpp\n",
            "mecab-0.996-ko-0.9.2/src/iconv_utils.h\n",
            "mecab-0.996-ko-0.9.2/src/connector.cpp\n",
            "mecab-0.996-ko-0.9.2/src/Makefile.in\n",
            "mecab-0.996-ko-0.9.2/src/scoped_ptr.h\n",
            "mecab-0.996-ko-0.9.2/Makefile.in\n",
            "checking for a BSD-compatible install... /usr/bin/install -c\n",
            "checking whether build environment is sane... yes\n",
            "checking for a thread-safe mkdir -p... /bin/mkdir -p\n",
            "checking for gawk... no\n",
            "checking for mawk... mawk\n",
            "checking whether make sets $(MAKE)... yes\n",
            "checking for gcc... gcc\n",
            "checking whether the C compiler works... yes\n",
            "checking for C compiler default output file name... a.out\n",
            "checking for suffix of executables... \n",
            "checking whether we are cross compiling... no\n",
            "checking for suffix of object files... o\n",
            "checking whether we are using the GNU C compiler... yes\n",
            "checking whether gcc accepts -g... yes\n",
            "checking for gcc option to accept ISO C89... none needed\n",
            "checking for style of include used by make... GNU\n",
            "checking dependency style of gcc... none\n",
            "checking for g++... g++\n",
            "checking whether we are using the GNU C++ compiler... yes\n",
            "checking whether g++ accepts -g... yes\n",
            "checking dependency style of g++... none\n",
            "checking how to run the C preprocessor... gcc -E\n",
            "checking for grep that handles long lines and -e... /bin/grep\n",
            "checking for egrep... /bin/grep -E\n",
            "checking whether gcc needs -traditional... no\n",
            "checking whether make sets $(MAKE)... (cached) yes\n",
            "checking build system type... x86_64-unknown-linux-gnu\n",
            "checking host system type... x86_64-unknown-linux-gnu\n",
            "checking how to print strings... printf\n",
            "checking for a sed that does not truncate output... /bin/sed\n",
            "checking for fgrep... /bin/grep -F\n",
            "checking for ld used by gcc... /usr/bin/ld\n",
            "checking if the linker (/usr/bin/ld) is GNU ld... yes\n",
            "checking for BSD- or MS-compatible name lister (nm)... /usr/bin/nm -B\n",
            "checking the name lister (/usr/bin/nm -B) interface... BSD nm\n",
            "checking whether ln -s works... yes\n",
            "checking the maximum length of command line arguments... 1572864\n",
            "checking whether the shell understands some XSI constructs... yes\n",
            "checking whether the shell understands \"+=\"... yes\n",
            "checking how to convert x86_64-unknown-linux-gnu file names to x86_64-unknown-linux-gnu format... func_convert_file_noop\n",
            "checking how to convert x86_64-unknown-linux-gnu file names to toolchain format... func_convert_file_noop\n",
            "checking for /usr/bin/ld option to reload object files... -r\n",
            "checking for objdump... objdump\n",
            "checking how to recognize dependent libraries... pass_all\n",
            "checking for dlltool... dlltool\n",
            "checking how to associate runtime and link libraries... printf %s\\n\n",
            "checking for ar... ar\n",
            "checking for archiver @FILE support... @\n",
            "checking for strip... strip\n",
            "checking for ranlib... ranlib\n",
            "checking command to parse /usr/bin/nm -B output from gcc object... ok\n",
            "checking for sysroot... no\n",
            "checking for mt... no\n",
            "checking if : is a manifest tool... no\n",
            "checking for ANSI C header files... yes\n",
            "checking for sys/types.h... yes\n",
            "checking for sys/stat.h... yes\n",
            "checking for stdlib.h... yes\n",
            "checking for string.h... yes\n",
            "checking for memory.h... yes\n",
            "checking for strings.h... yes\n",
            "checking for inttypes.h... yes\n",
            "checking for stdint.h... yes\n",
            "checking for unistd.h... yes\n",
            "checking for dlfcn.h... yes\n",
            "checking for objdir... .libs\n",
            "checking if gcc supports -fno-rtti -fno-exceptions... no\n",
            "checking for gcc option to produce PIC... -fPIC -DPIC\n",
            "checking if gcc PIC flag -fPIC -DPIC works... yes\n",
            "checking if gcc static flag -static works... yes\n",
            "checking if gcc supports -c -o file.o... yes\n",
            "checking if gcc supports -c -o file.o... (cached) yes\n",
            "checking whether the gcc linker (/usr/bin/ld) supports shared libraries... yes\n",
            "checking whether -lc should be explicitly linked in... no\n",
            "checking dynamic linker characteristics... GNU/Linux ld.so\n",
            "checking how to hardcode library paths into programs... immediate\n",
            "checking whether stripping libraries is possible... yes\n",
            "checking if libtool supports shared libraries... yes\n",
            "checking whether to build shared libraries... yes\n",
            "checking whether to build static libraries... yes\n",
            "checking how to run the C++ preprocessor... g++ -E\n",
            "checking for ld used by g++... /usr/bin/ld\n",
            "checking if the linker (/usr/bin/ld) is GNU ld... yes\n",
            "checking whether the g++ linker (/usr/bin/ld) supports shared libraries... yes\n",
            "checking for g++ option to produce PIC... -fPIC -DPIC\n",
            "checking if g++ PIC flag -fPIC -DPIC works... yes\n",
            "checking if g++ static flag -static works... yes\n",
            "checking if g++ supports -c -o file.o... yes\n",
            "checking if g++ supports -c -o file.o... (cached) yes\n",
            "checking whether the g++ linker (/usr/bin/ld) supports shared libraries... yes\n",
            "checking dynamic linker characteristics... (cached) GNU/Linux ld.so\n",
            "checking how to hardcode library paths into programs... immediate\n",
            "checking for library containing strerror... none required\n",
            "checking whether byte ordering is bigendian... no\n",
            "checking for ld used by GCC... /usr/bin/ld\n",
            "checking if the linker (/usr/bin/ld) is GNU ld... yes\n",
            "checking for shared library run path origin... done\n",
            "checking for iconv... yes\n",
            "checking for working iconv... yes\n",
            "checking for iconv declaration... \n",
            "         extern size_t iconv (iconv_t cd, char * *inbuf, size_t *inbytesleft, char * *outbuf, size_t *outbytesleft);\n",
            "checking for ANSI C header files... (cached) yes\n",
            "checking for an ANSI C-conforming const... yes\n",
            "checking whether byte ordering is bigendian... (cached) no\n",
            "checking for string.h... (cached) yes\n",
            "checking for stdlib.h... (cached) yes\n",
            "checking for unistd.h... (cached) yes\n",
            "checking fcntl.h usability... yes\n",
            "checking fcntl.h presence... yes\n",
            "checking for fcntl.h... yes\n",
            "checking for stdint.h... (cached) yes\n",
            "checking for sys/stat.h... (cached) yes\n",
            "checking sys/mman.h usability... yes\n",
            "checking sys/mman.h presence... yes\n",
            "checking for sys/mman.h... yes\n",
            "checking sys/times.h usability... yes\n",
            "checking sys/times.h presence... yes\n",
            "checking for sys/times.h... yes\n",
            "checking for sys/types.h... (cached) yes\n",
            "checking dirent.h usability... yes\n",
            "checking dirent.h presence... yes\n",
            "checking for dirent.h... yes\n",
            "checking ctype.h usability... yes\n",
            "checking ctype.h presence... yes\n",
            "checking for ctype.h... yes\n",
            "checking for sys/types.h... (cached) yes\n",
            "checking io.h usability... no\n",
            "checking io.h presence... no\n",
            "checking for io.h... no\n",
            "checking windows.h usability... no\n",
            "checking windows.h presence... no\n",
            "checking for windows.h... no\n",
            "checking pthread.h usability... yes\n",
            "checking pthread.h presence... yes\n",
            "checking for pthread.h... yes\n",
            "checking for off_t... yes\n",
            "checking for size_t... yes\n",
            "checking size of char... 1\n",
            "checking size of short... 2\n",
            "checking size of int... 4\n",
            "checking size of long... 8\n",
            "checking size of long long... 8\n",
            "checking size of size_t... 8\n",
            "checking for size_t... (cached) yes\n",
            "checking for unsigned long long int... yes\n",
            "checking for stdlib.h... (cached) yes\n",
            "checking for unistd.h... (cached) yes\n",
            "checking for sys/param.h... yes\n",
            "checking for getpagesize... yes\n",
            "checking for working mmap... yes\n",
            "checking for main in -lstdc++... yes\n",
            "checking for pthread_create in -lpthread... yes\n",
            "checking for pthread_join in -lpthread... yes\n",
            "checking for getenv... yes\n",
            "checking for opendir... yes\n",
            "checking whether make is GNU Make... yes\n",
            "checking if g++ supports stl <vector> (required)... yes\n",
            "checking if g++ supports stl <list> (required)... yes\n",
            "checking if g++ supports stl <map> (required)... yes\n",
            "checking if g++ supports stl <set> (required)... yes\n",
            "checking if g++ supports stl <queue> (required)... yes\n",
            "checking if g++ supports stl <functional> (required)... yes\n",
            "checking if g++ supports stl <algorithm> (required)... yes\n",
            "checking if g++ supports stl <string> (required)... yes\n",
            "checking if g++ supports stl <iostream> (required)... yes\n",
            "checking if g++ supports stl <sstream> (required)... yes\n",
            "checking if g++ supports stl <fstream> (required)... yes\n",
            "checking if g++ supports template <class T> (required)... yes\n",
            "checking if g++ supports const_cast<> (required)... yes\n",
            "checking if g++ supports static_cast<> (required)... yes\n",
            "checking if g++ supports reinterpret_cast<> (required)... yes\n",
            "checking if g++ supports namespaces (required) ... yes\n",
            "checking if g++ supports __thread (optional)... yes\n",
            "checking if g++ supports template <class T> (required)... yes\n",
            "checking if g++ supports GCC native atomic operations (optional)... yes\n",
            "checking if g++ supports OSX native atomic operations (optional)... no\n",
            "checking if g++ environment provides all required features... yes\n",
            "configure: creating ./config.status\n",
            "config.status: creating Makefile\n",
            "config.status: creating src/Makefile\n",
            "config.status: creating src/Makefile.msvc\n",
            "config.status: creating man/Makefile\n",
            "config.status: creating doc/Makefile\n",
            "config.status: creating tests/Makefile\n",
            "config.status: creating swig/version.h\n",
            "config.status: creating mecab.iss\n",
            "config.status: creating mecab-config\n",
            "config.status: creating mecabrc\n",
            "config.status: creating config.h\n",
            "config.status: executing depfiles commands\n",
            "config.status: executing libtool commands\n",
            "config.status: executing default commands\n",
            "make  all-recursive\n",
            "make[1]: Entering directory '/tmp/mecab-0.996-ko-0.9.2'\n",
            "Making all in src\n",
            "make[2]: Entering directory '/tmp/mecab-0.996-ko-0.9.2/src'\n",
            "/bin/bash ../libtool --tag=CXX   --mode=compile g++ -DHAVE_CONFIG_H -I. -I.. -DDIC_VERSION=102   -DMECAB_DEFAULT_RC=\"\\\"/usr/local/etc/mecabrc\\\"\"    -O3 -Wall  -c -o viterbi.lo viterbi.cpp\n",
            "libtool: compile:  g++ -DHAVE_CONFIG_H -I. -I.. -DDIC_VERSION=102 -DMECAB_DEFAULT_RC=\\\"/usr/local/etc/mecabrc\\\" -O3 -Wall -c viterbi.cpp  -fPIC -DPIC -o .libs/viterbi.o\n",
            "libtool: compile:  g++ -DHAVE_CONFIG_H -I. -I.. -DDIC_VERSION=102 -DMECAB_DEFAULT_RC=\\\"/usr/local/etc/mecabrc\\\" -O3 -Wall -c viterbi.cpp -o viterbi.o >/dev/null 2>&1\n",
            "/bin/bash ../libtool --tag=CXX   --mode=compile g++ -DHAVE_CONFIG_H -I. -I.. -DDIC_VERSION=102   -DMECAB_DEFAULT_RC=\"\\\"/usr/local/etc/mecabrc\\\"\"    -O3 -Wall  -c -o tagger.lo tagger.cpp\n",
            "libtool: compile:  g++ -DHAVE_CONFIG_H -I. -I.. -DDIC_VERSION=102 -DMECAB_DEFAULT_RC=\\\"/usr/local/etc/mecabrc\\\" -O3 -Wall -c tagger.cpp  -fPIC -DPIC -o .libs/tagger.o\n",
            "libtool: compile:  g++ -DHAVE_CONFIG_H -I. -I.. -DDIC_VERSION=102 -DMECAB_DEFAULT_RC=\\\"/usr/local/etc/mecabrc\\\" -O3 -Wall -c tagger.cpp -o tagger.o >/dev/null 2>&1\n",
            "/bin/bash ../libtool --tag=CXX   --mode=compile g++ -DHAVE_CONFIG_H -I. -I.. -DDIC_VERSION=102   -DMECAB_DEFAULT_RC=\"\\\"/usr/local/etc/mecabrc\\\"\"    -O3 -Wall  -c -o utils.lo utils.cpp\n",
            "libtool: compile:  g++ -DHAVE_CONFIG_H -I. -I.. -DDIC_VERSION=102 -DMECAB_DEFAULT_RC=\\\"/usr/local/etc/mecabrc\\\" -O3 -Wall -c utils.cpp  -fPIC -DPIC -o .libs/utils.o\n",
            "libtool: compile:  g++ -DHAVE_CONFIG_H -I. -I.. -DDIC_VERSION=102 -DMECAB_DEFAULT_RC=\\\"/usr/local/etc/mecabrc\\\" -O3 -Wall -c utils.cpp -o utils.o >/dev/null 2>&1\n",
            "/bin/bash ../libtool --tag=CXX   --mode=compile g++ -DHAVE_CONFIG_H -I. -I.. -DDIC_VERSION=102   -DMECAB_DEFAULT_RC=\"\\\"/usr/local/etc/mecabrc\\\"\"    -O3 -Wall  -c -o eval.lo eval.cpp\n",
            "libtool: compile:  g++ -DHAVE_CONFIG_H -I. -I.. -DDIC_VERSION=102 -DMECAB_DEFAULT_RC=\\\"/usr/local/etc/mecabrc\\\" -O3 -Wall -c eval.cpp  -fPIC -DPIC -o .libs/eval.o\n",
            "libtool: compile:  g++ -DHAVE_CONFIG_H -I. -I.. -DDIC_VERSION=102 -DMECAB_DEFAULT_RC=\\\"/usr/local/etc/mecabrc\\\" -O3 -Wall -c eval.cpp -o eval.o >/dev/null 2>&1\n",
            "/bin/bash ../libtool --tag=CXX   --mode=compile g++ -DHAVE_CONFIG_H -I. -I.. -DDIC_VERSION=102   -DMECAB_DEFAULT_RC=\"\\\"/usr/local/etc/mecabrc\\\"\"    -O3 -Wall  -c -o iconv_utils.lo iconv_utils.cpp\n",
            "libtool: compile:  g++ -DHAVE_CONFIG_H -I. -I.. -DDIC_VERSION=102 -DMECAB_DEFAULT_RC=\\\"/usr/local/etc/mecabrc\\\" -O3 -Wall -c iconv_utils.cpp  -fPIC -DPIC -o .libs/iconv_utils.o\n",
            "libtool: compile:  g++ -DHAVE_CONFIG_H -I. -I.. -DDIC_VERSION=102 -DMECAB_DEFAULT_RC=\\\"/usr/local/etc/mecabrc\\\" -O3 -Wall -c iconv_utils.cpp -o iconv_utils.o >/dev/null 2>&1\n",
            "/bin/bash ../libtool --tag=CXX   --mode=compile g++ -DHAVE_CONFIG_H -I. -I.. -DDIC_VERSION=102   -DMECAB_DEFAULT_RC=\"\\\"/usr/local/etc/mecabrc\\\"\"    -O3 -Wall  -c -o dictionary_rewriter.lo dictionary_rewriter.cpp\n",
            "libtool: compile:  g++ -DHAVE_CONFIG_H -I. -I.. -DDIC_VERSION=102 -DMECAB_DEFAULT_RC=\\\"/usr/local/etc/mecabrc\\\" -O3 -Wall -c dictionary_rewriter.cpp  -fPIC -DPIC -o .libs/dictionary_rewriter.o\n",
            "libtool: compile:  g++ -DHAVE_CONFIG_H -I. -I.. -DDIC_VERSION=102 -DMECAB_DEFAULT_RC=\\\"/usr/local/etc/mecabrc\\\" -O3 -Wall -c dictionary_rewriter.cpp -o dictionary_rewriter.o >/dev/null 2>&1\n",
            "/bin/bash ../libtool --tag=CXX   --mode=compile g++ -DHAVE_CONFIG_H -I. -I.. -DDIC_VERSION=102   -DMECAB_DEFAULT_RC=\"\\\"/usr/local/etc/mecabrc\\\"\"    -O3 -Wall  -c -o dictionary_generator.lo dictionary_generator.cpp\n",
            "libtool: compile:  g++ -DHAVE_CONFIG_H -I. -I.. -DDIC_VERSION=102 -DMECAB_DEFAULT_RC=\\\"/usr/local/etc/mecabrc\\\" -O3 -Wall -c dictionary_generator.cpp  -fPIC -DPIC -o .libs/dictionary_generator.o\n",
            "libtool: compile:  g++ -DHAVE_CONFIG_H -I. -I.. -DDIC_VERSION=102 -DMECAB_DEFAULT_RC=\\\"/usr/local/etc/mecabrc\\\" -O3 -Wall -c dictionary_generator.cpp -o dictionary_generator.o >/dev/null 2>&1\n",
            "/bin/bash ../libtool --tag=CXX   --mode=compile g++ -DHAVE_CONFIG_H -I. -I.. -DDIC_VERSION=102   -DMECAB_DEFAULT_RC=\"\\\"/usr/local/etc/mecabrc\\\"\"    -O3 -Wall  -c -o dictionary_compiler.lo dictionary_compiler.cpp\n",
            "libtool: compile:  g++ -DHAVE_CONFIG_H -I. -I.. -DDIC_VERSION=102 -DMECAB_DEFAULT_RC=\\\"/usr/local/etc/mecabrc\\\" -O3 -Wall -c dictionary_compiler.cpp  -fPIC -DPIC -o .libs/dictionary_compiler.o\n",
            "libtool: compile:  g++ -DHAVE_CONFIG_H -I. -I.. -DDIC_VERSION=102 -DMECAB_DEFAULT_RC=\\\"/usr/local/etc/mecabrc\\\" -O3 -Wall -c dictionary_compiler.cpp -o dictionary_compiler.o >/dev/null 2>&1\n",
            "/bin/bash ../libtool --tag=CXX   --mode=compile g++ -DHAVE_CONFIG_H -I. -I.. -DDIC_VERSION=102   -DMECAB_DEFAULT_RC=\"\\\"/usr/local/etc/mecabrc\\\"\"    -O3 -Wall  -c -o context_id.lo context_id.cpp\n",
            "libtool: compile:  g++ -DHAVE_CONFIG_H -I. -I.. -DDIC_VERSION=102 -DMECAB_DEFAULT_RC=\\\"/usr/local/etc/mecabrc\\\" -O3 -Wall -c context_id.cpp  -fPIC -DPIC -o .libs/context_id.o\n",
            "libtool: compile:  g++ -DHAVE_CONFIG_H -I. -I.. -DDIC_VERSION=102 -DMECAB_DEFAULT_RC=\\\"/usr/local/etc/mecabrc\\\" -O3 -Wall -c context_id.cpp -o context_id.o >/dev/null 2>&1\n",
            "/bin/bash ../libtool --tag=CXX   --mode=compile g++ -DHAVE_CONFIG_H -I. -I.. -DDIC_VERSION=102   -DMECAB_DEFAULT_RC=\"\\\"/usr/local/etc/mecabrc\\\"\"    -O3 -Wall  -c -o connector.lo connector.cpp\n",
            "libtool: compile:  g++ -DHAVE_CONFIG_H -I. -I.. -DDIC_VERSION=102 -DMECAB_DEFAULT_RC=\\\"/usr/local/etc/mecabrc\\\" -O3 -Wall -c connector.cpp  -fPIC -DPIC -o .libs/connector.o\n",
            "libtool: compile:  g++ -DHAVE_CONFIG_H -I. -I.. -DDIC_VERSION=102 -DMECAB_DEFAULT_RC=\\\"/usr/local/etc/mecabrc\\\" -O3 -Wall -c connector.cpp -o connector.o >/dev/null 2>&1\n",
            "/bin/bash ../libtool --tag=CXX   --mode=compile g++ -DHAVE_CONFIG_H -I. -I.. -DDIC_VERSION=102   -DMECAB_DEFAULT_RC=\"\\\"/usr/local/etc/mecabrc\\\"\"    -O3 -Wall  -c -o nbest_generator.lo nbest_generator.cpp\n",
            "libtool: compile:  g++ -DHAVE_CONFIG_H -I. -I.. -DDIC_VERSION=102 -DMECAB_DEFAULT_RC=\\\"/usr/local/etc/mecabrc\\\" -O3 -Wall -c nbest_generator.cpp  -fPIC -DPIC -o .libs/nbest_generator.o\n",
            "libtool: compile:  g++ -DHAVE_CONFIG_H -I. -I.. -DDIC_VERSION=102 -DMECAB_DEFAULT_RC=\\\"/usr/local/etc/mecabrc\\\" -O3 -Wall -c nbest_generator.cpp -o nbest_generator.o >/dev/null 2>&1\n",
            "/bin/bash ../libtool --tag=CXX   --mode=compile g++ -DHAVE_CONFIG_H -I. -I.. -DDIC_VERSION=102   -DMECAB_DEFAULT_RC=\"\\\"/usr/local/etc/mecabrc\\\"\"    -O3 -Wall  -c -o writer.lo writer.cpp\n",
            "libtool: compile:  g++ -DHAVE_CONFIG_H -I. -I.. -DDIC_VERSION=102 -DMECAB_DEFAULT_RC=\\\"/usr/local/etc/mecabrc\\\" -O3 -Wall -c writer.cpp  -fPIC -DPIC -o .libs/writer.o\n",
            "libtool: compile:  g++ -DHAVE_CONFIG_H -I. -I.. -DDIC_VERSION=102 -DMECAB_DEFAULT_RC=\\\"/usr/local/etc/mecabrc\\\" -O3 -Wall -c writer.cpp -o writer.o >/dev/null 2>&1\n",
            "/bin/bash ../libtool --tag=CXX   --mode=compile g++ -DHAVE_CONFIG_H -I. -I.. -DDIC_VERSION=102   -DMECAB_DEFAULT_RC=\"\\\"/usr/local/etc/mecabrc\\\"\"    -O3 -Wall  -c -o string_buffer.lo string_buffer.cpp\n",
            "libtool: compile:  g++ -DHAVE_CONFIG_H -I. -I.. -DDIC_VERSION=102 -DMECAB_DEFAULT_RC=\\\"/usr/local/etc/mecabrc\\\" -O3 -Wall -c string_buffer.cpp  -fPIC -DPIC -o .libs/string_buffer.o\n",
            "libtool: compile:  g++ -DHAVE_CONFIG_H -I. -I.. -DDIC_VERSION=102 -DMECAB_DEFAULT_RC=\\\"/usr/local/etc/mecabrc\\\" -O3 -Wall -c string_buffer.cpp -o string_buffer.o >/dev/null 2>&1\n",
            "/bin/bash ../libtool --tag=CXX   --mode=compile g++ -DHAVE_CONFIG_H -I. -I.. -DDIC_VERSION=102   -DMECAB_DEFAULT_RC=\"\\\"/usr/local/etc/mecabrc\\\"\"    -O3 -Wall  -c -o param.lo param.cpp\n",
            "libtool: compile:  g++ -DHAVE_CONFIG_H -I. -I.. -DDIC_VERSION=102 -DMECAB_DEFAULT_RC=\\\"/usr/local/etc/mecabrc\\\" -O3 -Wall -c param.cpp  -fPIC -DPIC -o .libs/param.o\n",
            "libtool: compile:  g++ -DHAVE_CONFIG_H -I. -I.. -DDIC_VERSION=102 -DMECAB_DEFAULT_RC=\\\"/usr/local/etc/mecabrc\\\" -O3 -Wall -c param.cpp -o param.o >/dev/null 2>&1\n",
            "/bin/bash ../libtool --tag=CXX   --mode=compile g++ -DHAVE_CONFIG_H -I. -I.. -DDIC_VERSION=102   -DMECAB_DEFAULT_RC=\"\\\"/usr/local/etc/mecabrc\\\"\"    -O3 -Wall  -c -o tokenizer.lo tokenizer.cpp\n",
            "libtool: compile:  g++ -DHAVE_CONFIG_H -I. -I.. -DDIC_VERSION=102 -DMECAB_DEFAULT_RC=\\\"/usr/local/etc/mecabrc\\\" -O3 -Wall -c tokenizer.cpp  -fPIC -DPIC -o .libs/tokenizer.o\n",
            "libtool: compile:  g++ -DHAVE_CONFIG_H -I. -I.. -DDIC_VERSION=102 -DMECAB_DEFAULT_RC=\\\"/usr/local/etc/mecabrc\\\" -O3 -Wall -c tokenizer.cpp -o tokenizer.o >/dev/null 2>&1\n",
            "/bin/bash ../libtool --tag=CXX   --mode=compile g++ -DHAVE_CONFIG_H -I. -I.. -DDIC_VERSION=102   -DMECAB_DEFAULT_RC=\"\\\"/usr/local/etc/mecabrc\\\"\"    -O3 -Wall  -c -o char_property.lo char_property.cpp\n",
            "libtool: compile:  g++ -DHAVE_CONFIG_H -I. -I.. -DDIC_VERSION=102 -DMECAB_DEFAULT_RC=\\\"/usr/local/etc/mecabrc\\\" -O3 -Wall -c char_property.cpp  -fPIC -DPIC -o .libs/char_property.o\n",
            "libtool: compile:  g++ -DHAVE_CONFIG_H -I. -I.. -DDIC_VERSION=102 -DMECAB_DEFAULT_RC=\\\"/usr/local/etc/mecabrc\\\" -O3 -Wall -c char_property.cpp -o char_property.o >/dev/null 2>&1\n",
            "/bin/bash ../libtool --tag=CXX   --mode=compile g++ -DHAVE_CONFIG_H -I. -I.. -DDIC_VERSION=102   -DMECAB_DEFAULT_RC=\"\\\"/usr/local/etc/mecabrc\\\"\"    -O3 -Wall  -c -o dictionary.lo dictionary.cpp\n",
            "libtool: compile:  g++ -DHAVE_CONFIG_H -I. -I.. -DDIC_VERSION=102 -DMECAB_DEFAULT_RC=\\\"/usr/local/etc/mecabrc\\\" -O3 -Wall -c dictionary.cpp  -fPIC -DPIC -o .libs/dictionary.o\n",
            "libtool: compile:  g++ -DHAVE_CONFIG_H -I. -I.. -DDIC_VERSION=102 -DMECAB_DEFAULT_RC=\\\"/usr/local/etc/mecabrc\\\" -O3 -Wall -c dictionary.cpp -o dictionary.o >/dev/null 2>&1\n",
            "/bin/bash ../libtool --tag=CXX   --mode=compile g++ -DHAVE_CONFIG_H -I. -I.. -DDIC_VERSION=102   -DMECAB_DEFAULT_RC=\"\\\"/usr/local/etc/mecabrc\\\"\"    -O3 -Wall  -c -o feature_index.lo feature_index.cpp\n",
            "libtool: compile:  g++ -DHAVE_CONFIG_H -I. -I.. -DDIC_VERSION=102 -DMECAB_DEFAULT_RC=\\\"/usr/local/etc/mecabrc\\\" -O3 -Wall -c feature_index.cpp  -fPIC -DPIC -o .libs/feature_index.o\n",
            "libtool: compile:  g++ -DHAVE_CONFIG_H -I. -I.. -DDIC_VERSION=102 -DMECAB_DEFAULT_RC=\\\"/usr/local/etc/mecabrc\\\" -O3 -Wall -c feature_index.cpp -o feature_index.o >/dev/null 2>&1\n",
            "/bin/bash ../libtool --tag=CXX   --mode=compile g++ -DHAVE_CONFIG_H -I. -I.. -DDIC_VERSION=102   -DMECAB_DEFAULT_RC=\"\\\"/usr/local/etc/mecabrc\\\"\"    -O3 -Wall  -c -o lbfgs.lo lbfgs.cpp\n",
            "libtool: compile:  g++ -DHAVE_CONFIG_H -I. -I.. -DDIC_VERSION=102 -DMECAB_DEFAULT_RC=\\\"/usr/local/etc/mecabrc\\\" -O3 -Wall -c lbfgs.cpp  -fPIC -DPIC -o .libs/lbfgs.o\n",
            "libtool: compile:  g++ -DHAVE_CONFIG_H -I. -I.. -DDIC_VERSION=102 -DMECAB_DEFAULT_RC=\\\"/usr/local/etc/mecabrc\\\" -O3 -Wall -c lbfgs.cpp -o lbfgs.o >/dev/null 2>&1\n",
            "/bin/bash ../libtool --tag=CXX   --mode=compile g++ -DHAVE_CONFIG_H -I. -I.. -DDIC_VERSION=102   -DMECAB_DEFAULT_RC=\"\\\"/usr/local/etc/mecabrc\\\"\"    -O3 -Wall  -c -o learner_tagger.lo learner_tagger.cpp\n",
            "libtool: compile:  g++ -DHAVE_CONFIG_H -I. -I.. -DDIC_VERSION=102 -DMECAB_DEFAULT_RC=\\\"/usr/local/etc/mecabrc\\\" -O3 -Wall -c learner_tagger.cpp  -fPIC -DPIC -o .libs/learner_tagger.o\n",
            "libtool: compile:  g++ -DHAVE_CONFIG_H -I. -I.. -DDIC_VERSION=102 -DMECAB_DEFAULT_RC=\\\"/usr/local/etc/mecabrc\\\" -O3 -Wall -c learner_tagger.cpp -o learner_tagger.o >/dev/null 2>&1\n",
            "/bin/bash ../libtool --tag=CXX   --mode=compile g++ -DHAVE_CONFIG_H -I. -I.. -DDIC_VERSION=102   -DMECAB_DEFAULT_RC=\"\\\"/usr/local/etc/mecabrc\\\"\"    -O3 -Wall  -c -o learner.lo learner.cpp\n",
            "libtool: compile:  g++ -DHAVE_CONFIG_H -I. -I.. -DDIC_VERSION=102 -DMECAB_DEFAULT_RC=\\\"/usr/local/etc/mecabrc\\\" -O3 -Wall -c learner.cpp  -fPIC -DPIC -o .libs/learner.o\n",
            "libtool: compile:  g++ -DHAVE_CONFIG_H -I. -I.. -DDIC_VERSION=102 -DMECAB_DEFAULT_RC=\\\"/usr/local/etc/mecabrc\\\" -O3 -Wall -c learner.cpp -o learner.o >/dev/null 2>&1\n",
            "/bin/bash ../libtool --tag=CXX   --mode=compile g++ -DHAVE_CONFIG_H -I. -I.. -DDIC_VERSION=102   -DMECAB_DEFAULT_RC=\"\\\"/usr/local/etc/mecabrc\\\"\"    -O3 -Wall  -c -o libmecab.lo libmecab.cpp\n",
            "libtool: compile:  g++ -DHAVE_CONFIG_H -I. -I.. -DDIC_VERSION=102 -DMECAB_DEFAULT_RC=\\\"/usr/local/etc/mecabrc\\\" -O3 -Wall -c libmecab.cpp  -fPIC -DPIC -o .libs/libmecab.o\n",
            "libtool: compile:  g++ -DHAVE_CONFIG_H -I. -I.. -DDIC_VERSION=102 -DMECAB_DEFAULT_RC=\\\"/usr/local/etc/mecabrc\\\" -O3 -Wall -c libmecab.cpp -o libmecab.o >/dev/null 2>&1\n",
            "/bin/bash ../libtool --tag=CXX   --mode=link g++  -O3 -Wall  -no-undefined -version-info 2:0:0  -o libmecab.la -rpath /usr/local/lib viterbi.lo tagger.lo utils.lo eval.lo iconv_utils.lo dictionary_rewriter.lo dictionary_generator.lo dictionary_compiler.lo context_id.lo connector.lo nbest_generator.lo writer.lo string_buffer.lo param.lo tokenizer.lo char_property.lo dictionary.lo feature_index.lo lbfgs.lo learner_tagger.lo learner.lo libmecab.lo  -lpthread -lpthread  -lstdc++ \n",
            "libtool: link: g++  -fPIC -DPIC -shared -nostdlib /usr/lib/gcc/x86_64-linux-gnu/7/../../../x86_64-linux-gnu/crti.o /usr/lib/gcc/x86_64-linux-gnu/7/crtbeginS.o  .libs/viterbi.o .libs/tagger.o .libs/utils.o .libs/eval.o .libs/iconv_utils.o .libs/dictionary_rewriter.o .libs/dictionary_generator.o .libs/dictionary_compiler.o .libs/context_id.o .libs/connector.o .libs/nbest_generator.o .libs/writer.o .libs/string_buffer.o .libs/param.o .libs/tokenizer.o .libs/char_property.o .libs/dictionary.o .libs/feature_index.o .libs/lbfgs.o .libs/learner_tagger.o .libs/learner.o .libs/libmecab.o   -lpthread -L/usr/lib/gcc/x86_64-linux-gnu/7 -L/usr/lib/gcc/x86_64-linux-gnu/7/../../../x86_64-linux-gnu -L/usr/lib/gcc/x86_64-linux-gnu/7/../../../../lib -L/lib/x86_64-linux-gnu -L/lib/../lib -L/usr/lib/x86_64-linux-gnu -L/usr/lib/../lib -L/usr/local/cuda/lib64/stubs -L/usr/lib/gcc/x86_64-linux-gnu/7/../../.. -lstdc++ -lm -lc -lgcc_s /usr/lib/gcc/x86_64-linux-gnu/7/crtendS.o /usr/lib/gcc/x86_64-linux-gnu/7/../../../x86_64-linux-gnu/crtn.o  -O3   -Wl,-soname -Wl,libmecab.so.2 -o .libs/libmecab.so.2.0.0\n",
            "libtool: link: (cd \".libs\" && rm -f \"libmecab.so.2\" && ln -s \"libmecab.so.2.0.0\" \"libmecab.so.2\")\n",
            "libtool: link: (cd \".libs\" && rm -f \"libmecab.so\" && ln -s \"libmecab.so.2.0.0\" \"libmecab.so\")\n",
            "libtool: link: ar cru .libs/libmecab.a  viterbi.o tagger.o utils.o eval.o iconv_utils.o dictionary_rewriter.o dictionary_generator.o dictionary_compiler.o context_id.o connector.o nbest_generator.o writer.o string_buffer.o param.o tokenizer.o char_property.o dictionary.o feature_index.o lbfgs.o learner_tagger.o learner.o libmecab.o\n",
            "libtool: link: ranlib .libs/libmecab.a\n",
            "libtool: link: ( cd \".libs\" && rm -f \"libmecab.la\" && ln -s \"../libmecab.la\" \"libmecab.la\" )\n",
            "g++ -DHAVE_CONFIG_H -I. -I.. -DDIC_VERSION=102   -DMECAB_DEFAULT_RC=\"\\\"/usr/local/etc/mecabrc\\\"\"    -O3 -Wall  -c -o mecab.o mecab.cpp\n",
            "/bin/bash ../libtool --tag=CXX   --mode=link g++  -O3 -Wall    -o mecab mecab.o libmecab.la -lpthread -lpthread  -lstdc++ \n",
            "libtool: link: g++ -O3 -Wall -o .libs/mecab mecab.o  ./.libs/libmecab.so -lpthread -lstdc++\n",
            "g++ -DHAVE_CONFIG_H -I. -I.. -DDIC_VERSION=102   -DMECAB_DEFAULT_RC=\"\\\"/usr/local/etc/mecabrc\\\"\"    -O3 -Wall  -c -o mecab-dict-index.o mecab-dict-index.cpp\n",
            "/bin/bash ../libtool --tag=CXX   --mode=link g++  -O3 -Wall    -o mecab-dict-index mecab-dict-index.o libmecab.la -lpthread -lpthread  -lstdc++ \n",
            "libtool: link: g++ -O3 -Wall -o .libs/mecab-dict-index mecab-dict-index.o  ./.libs/libmecab.so -lpthread -lstdc++\n",
            "g++ -DHAVE_CONFIG_H -I. -I.. -DDIC_VERSION=102   -DMECAB_DEFAULT_RC=\"\\\"/usr/local/etc/mecabrc\\\"\"    -O3 -Wall  -c -o mecab-dict-gen.o mecab-dict-gen.cpp\n",
            "/bin/bash ../libtool --tag=CXX   --mode=link g++  -O3 -Wall    -o mecab-dict-gen mecab-dict-gen.o libmecab.la -lpthread -lpthread  -lstdc++ \n",
            "libtool: link: g++ -O3 -Wall -o .libs/mecab-dict-gen mecab-dict-gen.o  ./.libs/libmecab.so -lpthread -lstdc++\n",
            "g++ -DHAVE_CONFIG_H -I. -I.. -DDIC_VERSION=102   -DMECAB_DEFAULT_RC=\"\\\"/usr/local/etc/mecabrc\\\"\"    -O3 -Wall  -c -o mecab-cost-train.o mecab-cost-train.cpp\n",
            "/bin/bash ../libtool --tag=CXX   --mode=link g++  -O3 -Wall    -o mecab-cost-train mecab-cost-train.o libmecab.la -lpthread -lpthread  -lstdc++ \n",
            "libtool: link: g++ -O3 -Wall -o .libs/mecab-cost-train mecab-cost-train.o  ./.libs/libmecab.so -lpthread -lstdc++\n",
            "g++ -DHAVE_CONFIG_H -I. -I.. -DDIC_VERSION=102   -DMECAB_DEFAULT_RC=\"\\\"/usr/local/etc/mecabrc\\\"\"    -O3 -Wall  -c -o mecab-system-eval.o mecab-system-eval.cpp\n",
            "/bin/bash ../libtool --tag=CXX   --mode=link g++  -O3 -Wall    -o mecab-system-eval mecab-system-eval.o libmecab.la -lpthread -lpthread  -lstdc++ \n",
            "libtool: link: g++ -O3 -Wall -o .libs/mecab-system-eval mecab-system-eval.o  ./.libs/libmecab.so -lpthread -lstdc++\n",
            "g++ -DHAVE_CONFIG_H -I. -I.. -DDIC_VERSION=102   -DMECAB_DEFAULT_RC=\"\\\"/usr/local/etc/mecabrc\\\"\"    -O3 -Wall  -c -o mecab-test-gen.o mecab-test-gen.cpp\n",
            "/bin/bash ../libtool --tag=CXX   --mode=link g++  -O3 -Wall    -o mecab-test-gen mecab-test-gen.o libmecab.la -lpthread -lpthread  -lstdc++ \n",
            "libtool: link: g++ -O3 -Wall -o .libs/mecab-test-gen mecab-test-gen.o  ./.libs/libmecab.so -lpthread -lstdc++\n",
            "make[2]: Leaving directory '/tmp/mecab-0.996-ko-0.9.2/src'\n",
            "Making all in man\n",
            "make[2]: Entering directory '/tmp/mecab-0.996-ko-0.9.2/man'\n",
            "make[2]: Nothing to be done for 'all'.\n",
            "make[2]: Leaving directory '/tmp/mecab-0.996-ko-0.9.2/man'\n",
            "Making all in doc\n",
            "make[2]: Entering directory '/tmp/mecab-0.996-ko-0.9.2/doc'\n",
            "make[2]: Nothing to be done for 'all'.\n",
            "make[2]: Leaving directory '/tmp/mecab-0.996-ko-0.9.2/doc'\n",
            "Making all in tests\n",
            "make[2]: Entering directory '/tmp/mecab-0.996-ko-0.9.2/tests'\n",
            "make[2]: Nothing to be done for 'all'.\n",
            "make[2]: Leaving directory '/tmp/mecab-0.996-ko-0.9.2/tests'\n",
            "make[2]: Entering directory '/tmp/mecab-0.996-ko-0.9.2'\n",
            "make[2]: Leaving directory '/tmp/mecab-0.996-ko-0.9.2'\n",
            "make[1]: Leaving directory '/tmp/mecab-0.996-ko-0.9.2'\n",
            "Making check in src\n",
            "make[1]: Entering directory '/tmp/mecab-0.996-ko-0.9.2/src'\n",
            "make[1]: Nothing to be done for 'check'.\n",
            "make[1]: Leaving directory '/tmp/mecab-0.996-ko-0.9.2/src'\n",
            "Making check in man\n",
            "make[1]: Entering directory '/tmp/mecab-0.996-ko-0.9.2/man'\n",
            "make[1]: Nothing to be done for 'check'.\n",
            "make[1]: Leaving directory '/tmp/mecab-0.996-ko-0.9.2/man'\n",
            "Making check in doc\n",
            "make[1]: Entering directory '/tmp/mecab-0.996-ko-0.9.2/doc'\n",
            "make[1]: Nothing to be done for 'check'.\n",
            "make[1]: Leaving directory '/tmp/mecab-0.996-ko-0.9.2/doc'\n",
            "Making check in tests\n",
            "make[1]: Entering directory '/tmp/mecab-0.996-ko-0.9.2/tests'\n",
            "make  check-TESTS\n",
            "make[2]: Entering directory '/tmp/mecab-0.996-ko-0.9.2/tests'\n",
            "reading ./unk.def ... 2\n",
            "emitting double-array:  50% |#####################                      | \remitting double-array: 100% |###########################################| \n",
            "./model.def is not found. skipped.\n",
            "reading ./dic.csv ... 177\n",
            "emitting double-array:   1% |                                           | \remitting double-array:   3% |#                                          | \remitting double-array:   5% |##                                         | \remitting double-array:   7% |###                                        | \remitting double-array:   9% |###                                        | \remitting double-array:  11% |####                                       | \remitting double-array:  12% |#####                                      | \remitting double-array:  14% |######                                     | \remitting double-array:  16% |#######                                    | \remitting double-array:  18% |#######                                    | \remitting double-array:  20% |########                                   | \remitting double-array:  22% |#########                                  | \remitting double-array:  24% |##########                                 | \remitting double-array:  25% |###########                                | \remitting double-array:  27% |###########                                | \remitting double-array:  29% |############                               | \remitting double-array:  31% |#############                              | \remitting double-array:  33% |##############                             | \remitting double-array:  35% |###############                            | \remitting double-array:  37% |###############                            | \remitting double-array:  38% |################                           | \remitting double-array:  40% |#################                          | \remitting double-array:  42% |##################                         | \remitting double-array:  44% |###################                        | \remitting double-array:  46% |###################                        | \remitting double-array:  48% |####################                       | \remitting double-array:  50% |#####################                      | \remitting double-array:  51% |######################                     | \remitting double-array:  53% |#######################                    | \remitting double-array:  55% |#######################                    | \remitting double-array:  57% |########################                   | \remitting double-array:  59% |#########################                  | \remitting double-array:  61% |##########################                 | \remitting double-array:  62% |###########################                | \remitting double-array:  64% |###########################                | \remitting double-array:  66% |############################               | \remitting double-array:  68% |#############################              | \remitting double-array:  70% |##############################             | \remitting double-array:  72% |###############################            | \remitting double-array:  74% |###############################            | \remitting double-array:  75% |################################           | \remitting double-array:  77% |#################################          | \remitting double-array:  79% |##################################         | \remitting double-array:  81% |###################################        | \remitting double-array:  83% |###################################        | \remitting double-array:  85% |####################################       | \remitting double-array:  87% |#####################################      | \remitting double-array:  88% |######################################     | \remitting double-array:  90% |#######################################    | \remitting double-array:  92% |#######################################    | \remitting double-array:  94% |########################################   | \remitting double-array:  96% |#########################################  | \remitting double-array:  98% |########################################## | \remitting double-array: 100% |###########################################| \n",
            "reading ./matrix.def ... 178x178\n",
            "emitting matrix      :   0% |                                           | \remitting matrix      :   1% |                                           | \remitting matrix      :   2% |                                           | \remitting matrix      :   3% |#                                          | \remitting matrix      :   4% |#                                          | \remitting matrix      :   5% |##                                         | \remitting matrix      :   6% |##                                         | \remitting matrix      :   7% |###                                        | \remitting matrix      :   8% |###                                        | \remitting matrix      :   9% |####                                       | \remitting matrix      :  10% |####                                       | \remitting matrix      :  11% |####                                       | \remitting matrix      :  12% |#####                                      | \remitting matrix      :  13% |#####                                      | \remitting matrix      :  14% |######                                     | \remitting matrix      :  15% |######                                     | \remitting matrix      :  16% |#######                                    | \remitting matrix      :  17% |#######                                    | \remitting matrix      :  18% |#######                                    | \remitting matrix      :  19% |########                                   | \remitting matrix      :  20% |########                                   | \remitting matrix      :  21% |#########                                  | \remitting matrix      :  22% |#########                                  | \remitting matrix      :  23% |#########                                  | \remitting matrix      :  24% |##########                                 | \remitting matrix      :  25% |##########                                 | \remitting matrix      :  26% |###########                                | \remitting matrix      :  27% |###########                                | \remitting matrix      :  28% |############                               | \remitting matrix      :  29% |############                               | \remitting matrix      :  30% |#############                              | \remitting matrix      :  31% |#############                              | \remitting matrix      :  32% |#############                              | \remitting matrix      :  33% |##############                             | \remitting matrix      :  34% |##############                             | \remitting matrix      :  35% |###############                            | \remitting matrix      :  36% |###############                            | \remitting matrix      :  37% |###############                            | \remitting matrix      :  38% |################                           | \remitting matrix      :  39% |################                           | \remitting matrix      :  40% |#################                          | \remitting matrix      :  41% |#################                          | \remitting matrix      :  42% |##################                         | \remitting matrix      :  43% |##################                         | \remitting matrix      :  44% |###################                        | \remitting matrix      :  45% |###################                        | \remitting matrix      :  46% |###################                        | \remitting matrix      :  47% |####################                       | \remitting matrix      :  48% |####################                       | \remitting matrix      :  49% |#####################                      | \remitting matrix      :  50% |#####################                      | \remitting matrix      :  51% |#####################                      | \remitting matrix      :  52% |######################                     | \remitting matrix      :  53% |######################                     | \remitting matrix      :  54% |#######################                    | \remitting matrix      :  55% |#######################                    | \remitting matrix      :  56% |########################                   | \remitting matrix      :  57% |########################                   | \remitting matrix      :  58% |#########################                  | \remitting matrix      :  59% |#########################                  | \remitting matrix      :  60% |#########################                  | \remitting matrix      :  61% |##########################                 | \remitting matrix      :  62% |##########################                 | \remitting matrix      :  63% |###########################                | \remitting matrix      :  64% |###########################                | \remitting matrix      :  65% |############################               | \remitting matrix      :  66% |############################               | \remitting matrix      :  67% |############################               | \remitting matrix      :  68% |#############################              | \remitting matrix      :  69% |#############################              | \remitting matrix      :  70% |##############################             | \remitting matrix      :  71% |##############################             | \remitting matrix      :  72% |###############################            | \remitting matrix      :  73% |###############################            | \remitting matrix      :  74% |###############################            | \remitting matrix      :  75% |################################           | \remitting matrix      :  76% |################################           | \remitting matrix      :  77% |#################################          | \remitting matrix      :  78% |#################################          | \remitting matrix      :  79% |##################################         | \remitting matrix      :  80% |##################################         | \remitting matrix      :  81% |###################################        | \remitting matrix      :  82% |###################################        | \remitting matrix      :  83% |###################################        | \remitting matrix      :  84% |####################################       | \remitting matrix      :  85% |####################################       | \remitting matrix      :  86% |#####################################      | \remitting matrix      :  87% |#####################################      | \remitting matrix      :  88% |#####################################      | \remitting matrix      :  89% |######################################     | \remitting matrix      :  90% |######################################     | \remitting matrix      :  91% |#######################################    | \remitting matrix      :  92% |#######################################    | \remitting matrix      :  93% |########################################   | \remitting matrix      :  94% |########################################   | \remitting matrix      :  95% |#########################################  | \remitting matrix      :  96% |#########################################  | \remitting matrix      :  97% |#########################################  | \remitting matrix      :  98% |########################################## | \remitting matrix      :  99% |########################################## | \remitting matrix      : 100% |###########################################| \n",
            "\n",
            "done!\n",
            "reading ./unk.def ... 2\n",
            "emitting double-array:  50% |#####################                      | \remitting double-array: 100% |###########################################| \n",
            "./model.def is not found. skipped.\n",
            "reading ./dic.csv ... 83\n",
            "emitting double-array:  10% |####                                       | \remitting double-array:  20% |########                                   | \remitting double-array:  30% |############                               | \remitting double-array:  40% |#################                          | \remitting double-array:  50% |#####################                      | \remitting double-array:  60% |#########################                  | \remitting double-array:  70% |##############################             | \remitting double-array:  80% |##################################         | \remitting double-array:  90% |######################################     | \remitting double-array: 100% |###########################################| \n",
            "reading ./matrix.def ... 84x84\n",
            "emitting matrix      :   1% |                                           | \remitting matrix      :   2% |#                                          | \remitting matrix      :   3% |#                                          | \remitting matrix      :   4% |##                                         | \remitting matrix      :   5% |##                                         | \remitting matrix      :   7% |###                                        | \remitting matrix      :   8% |###                                        | \remitting matrix      :   9% |####                                       | \remitting matrix      :  10% |####                                       | \remitting matrix      :  11% |#####                                      | \remitting matrix      :  13% |#####                                      | \remitting matrix      :  14% |######                                     | \remitting matrix      :  15% |######                                     | \remitting matrix      :  16% |#######                                    | \remitting matrix      :  17% |#######                                    | \remitting matrix      :  19% |########                                   | \remitting matrix      :  20% |########                                   | \remitting matrix      :  21% |#########                                  | \remitting matrix      :  22% |#########                                  | \remitting matrix      :  23% |##########                                 | \remitting matrix      :  25% |##########                                 | \remitting matrix      :  26% |###########                                | \remitting matrix      :  27% |###########                                | \remitting matrix      :  28% |############                               | \remitting matrix      :  29% |############                               | \remitting matrix      :  30% |#############                              | \remitting matrix      :  32% |#############                              | \remitting matrix      :  33% |##############                             | \remitting matrix      :  34% |##############                             | \remitting matrix      :  35% |###############                            | \remitting matrix      :  36% |###############                            | \remitting matrix      :  38% |################                           | \remitting matrix      :  39% |################                           | \remitting matrix      :  40% |#################                          | \remitting matrix      :  41% |#################                          | \remitting matrix      :  42% |##################                         | \remitting matrix      :  44% |##################                         | \remitting matrix      :  45% |###################                        | \remitting matrix      :  46% |###################                        | \remitting matrix      :  47% |####################                       | \remitting matrix      :  48% |####################                       | \remitting matrix      :  50% |#####################                      | \remitting matrix      :  51% |######################                     | \remitting matrix      :  52% |######################                     | \remitting matrix      :  53% |#######################                    | \remitting matrix      :  54% |#######################                    | \remitting matrix      :  55% |########################                   | \remitting matrix      :  57% |########################                   | \remitting matrix      :  58% |#########################                  | \remitting matrix      :  59% |#########################                  | \remitting matrix      :  60% |##########################                 | \remitting matrix      :  61% |##########################                 | \remitting matrix      :  63% |###########################                | \remitting matrix      :  64% |###########################                | \remitting matrix      :  65% |############################               | \remitting matrix      :  66% |############################               | \remitting matrix      :  67% |#############################              | \remitting matrix      :  69% |#############################              | \remitting matrix      :  70% |##############################             | \remitting matrix      :  71% |##############################             | \remitting matrix      :  72% |###############################            | \remitting matrix      :  73% |###############################            | \remitting matrix      :  75% |################################           | \remitting matrix      :  76% |################################           | \remitting matrix      :  77% |#################################          | \remitting matrix      :  78% |#################################          | \remitting matrix      :  79% |##################################         | \remitting matrix      :  80% |##################################         | \remitting matrix      :  82% |###################################        | \remitting matrix      :  83% |###################################        | \remitting matrix      :  84% |####################################       | \remitting matrix      :  85% |####################################       | \remitting matrix      :  86% |#####################################      | \remitting matrix      :  88% |#####################################      | \remitting matrix      :  89% |######################################     | \remitting matrix      :  90% |######################################     | \remitting matrix      :  91% |#######################################    | \remitting matrix      :  92% |#######################################    | \remitting matrix      :  94% |########################################   | \remitting matrix      :  95% |########################################   | \remitting matrix      :  96% |#########################################  | \remitting matrix      :  97% |#########################################  | \remitting matrix      :  98% |########################################## | \remitting matrix      : 100% |###########################################| \n",
            "\n",
            "done!\n",
            "reading ./unk.def ... 2\n",
            "emitting double-array:  50% |#####################                      | \remitting double-array: 100% |###########################################| \n",
            "./model.def is not found. skipped.\n",
            "reading ./dic.csv ... 450\n",
            "emitting double-array:   0% |                                           | \remitting double-array:   1% |                                           | \remitting double-array:   2% |                                           | \remitting double-array:   3% |#                                          | \remitting double-array:   4% |#                                          | \remitting double-array:   5% |##                                         | \remitting double-array:   6% |##                                         | \remitting double-array:   7% |###                                        | \remitting double-array:   8% |###                                        | \remitting double-array:   9% |###                                        | \remitting double-array:  10% |####                                       | \remitting double-array:  11% |####                                       | \remitting double-array:  12% |#####                                      | \remitting double-array:  13% |#####                                      | \remitting double-array:  14% |######                                     | \remitting double-array:  15% |######                                     | \remitting double-array:  16% |######                                     | \remitting double-array:  17% |#######                                    | \remitting double-array:  18% |#######                                    | \remitting double-array:  19% |########                                   | \remitting double-array:  20% |########                                   | \remitting double-array:  21% |#########                                  | \remitting double-array:  22% |#########                                  | \remitting double-array:  23% |#########                                  | \remitting double-array:  24% |##########                                 | \remitting double-array:  25% |##########                                 | \remitting double-array:  26% |###########                                | \remitting double-array:  27% |###########                                | \remitting double-array:  28% |############                               | \remitting double-array:  29% |############                               | \remitting double-array:  30% |############                               | \remitting double-array:  31% |#############                              | \remitting double-array:  32% |#############                              | \remitting double-array:  33% |##############                             | \remitting double-array:  34% |##############                             | \remitting double-array:  35% |###############                            | \remitting double-array:  36% |###############                            | \remitting double-array:  37% |###############                            | \remitting double-array:  38% |################                           | \remitting double-array:  39% |################                           | \remitting double-array:  40% |#################                          | \remitting double-array:  41% |#################                          | \remitting double-array:  42% |##################                         | \remitting double-array:  43% |##################                         | \remitting double-array:  44% |##################                         | \remitting double-array:  45% |###################                        | \remitting double-array:  46% |###################                        | \remitting double-array:  47% |####################                       | \remitting double-array:  48% |####################                       | \remitting double-array:  49% |#####################                      | \remitting double-array:  50% |#####################                      | \remitting double-array:  51% |#####################                      | \remitting double-array:  52% |######################                     | \remitting double-array:  53% |######################                     | \remitting double-array:  54% |#######################                    | \remitting double-array:  55% |#######################                    | \remitting double-array:  56% |########################                   | \remitting double-array:  57% |########################                   | \remitting double-array:  58% |#########################                  | \remitting double-array:  59% |#########################                  | \remitting double-array:  60% |#########################                  | \remitting double-array:  61% |##########################                 | \remitting double-array:  62% |##########################                 | \remitting double-array:  63% |###########################                | \remitting double-array:  64% |###########################                | \remitting double-array:  65% |###########################                | \remitting double-array:  66% |############################               | \remitting double-array:  67% |############################               | \remitting double-array:  68% |#############################              | \remitting double-array:  69% |#############################              | \remitting double-array:  70% |##############################             | \remitting double-array:  71% |##############################             | \remitting double-array:  72% |##############################             | \remitting double-array:  73% |###############################            | \remitting double-array:  74% |###############################            | \remitting double-array:  75% |################################           | \remitting double-array:  76% |################################           | \remitting double-array:  77% |#################################          | \remitting double-array:  78% |#################################          | \remitting double-array:  79% |##################################         | \remitting double-array:  80% |##################################         | \remitting double-array:  81% |##################################         | \remitting double-array:  82% |###################################        | \remitting double-array:  83% |###################################        | \remitting double-array:  84% |####################################       | \remitting double-array:  85% |####################################       | \remitting double-array:  86% |#####################################      | \remitting double-array:  87% |#####################################      | \remitting double-array:  88% |#####################################      | \remitting double-array:  89% |######################################     | \remitting double-array:  90% |######################################     | \remitting double-array:  91% |#######################################    | \remitting double-array:  92% |#######################################    | \remitting double-array:  93% |########################################   | \remitting double-array:  94% |########################################   | \remitting double-array:  95% |########################################   | \remitting double-array:  96% |#########################################  | \remitting double-array:  97% |#########################################  | \remitting double-array:  98% |########################################## | \remitting double-array:  99% |########################################## | \remitting double-array: 100% |###########################################| \n",
            "reading ./matrix.def ... 1x1\n",
            "\n",
            "done!\n",
            "reading ./unk.def ... 2\n",
            "emitting double-array:  50% |#####################                      | \remitting double-array: 100% |###########################################| \n",
            "./model.def is not found. skipped.\n",
            "reading ./dic.csv ... 162\n",
            "emitting double-array:   1% |                                           | \remitting double-array:   2% |#                                          | \remitting double-array:   3% |#                                          | \remitting double-array:   4% |##                                         | \remitting double-array:   6% |##                                         | \remitting double-array:   7% |###                                        | \remitting double-array:   8% |###                                        | \remitting double-array:   9% |####                                       | \remitting double-array:  11% |####                                       | \remitting double-array:  12% |#####                                      | \remitting double-array:  13% |#####                                      | \remitting double-array:  14% |######                                     | \remitting double-array:  16% |######                                     | \remitting double-array:  17% |#######                                    | \remitting double-array:  18% |#######                                    | \remitting double-array:  19% |########                                   | \remitting double-array:  20% |#########                                  | \remitting double-array:  22% |#########                                  | \remitting double-array:  23% |##########                                 | \remitting double-array:  24% |##########                                 | \remitting double-array:  25% |###########                                | \remitting double-array:  27% |###########                                | \remitting double-array:  28% |############                               | \remitting double-array:  29% |############                               | \remitting double-array:  30% |#############                              | \remitting double-array:  32% |#############                              | \remitting double-array:  33% |##############                             | \remitting double-array:  34% |##############                             | \remitting double-array:  35% |###############                            | \remitting double-array:  37% |###############                            | \remitting double-array:  38% |################                           | \remitting double-array:  39% |################                           | \remitting double-array:  40% |#################                          | \remitting double-array:  41% |##################                         | \remitting double-array:  43% |##################                         | \remitting double-array:  44% |###################                        | \remitting double-array:  45% |###################                        | \remitting double-array:  46% |####################                       | \remitting double-array:  48% |####################                       | \remitting double-array:  49% |#####################                      | \remitting double-array:  50% |#####################                      | \remitting double-array:  51% |######################                     | \remitting double-array:  53% |######################                     | \remitting double-array:  54% |#######################                    | \remitting double-array:  55% |#######################                    | \remitting double-array:  56% |########################                   | \remitting double-array:  58% |########################                   | \remitting double-array:  59% |#########################                  | \remitting double-array:  60% |##########################                 | \remitting double-array:  61% |##########################                 | \remitting double-array:  62% |###########################                | \remitting double-array:  64% |###########################                | \remitting double-array:  65% |############################               | \remitting double-array:  66% |############################               | \remitting double-array:  67% |#############################              | \remitting double-array:  69% |#############################              | \remitting double-array:  70% |##############################             | \remitting double-array:  71% |##############################             | \remitting double-array:  72% |###############################            | \remitting double-array:  74% |###############################            | \remitting double-array:  75% |################################           | \remitting double-array:  76% |################################           | \remitting double-array:  77% |#################################          | \remitting double-array:  79% |#################################          | \remitting double-array:  80% |##################################         | \remitting double-array:  81% |###################################        | \remitting double-array:  82% |###################################        | \remitting double-array:  83% |####################################       | \remitting double-array:  85% |####################################       | \remitting double-array:  86% |#####################################      | \remitting double-array:  87% |#####################################      | \remitting double-array:  88% |######################################     | \remitting double-array:  90% |######################################     | \remitting double-array:  91% |#######################################    | \remitting double-array:  92% |#######################################    | \remitting double-array:  93% |########################################   | \remitting double-array:  95% |########################################   | \remitting double-array:  96% |#########################################  | \remitting double-array:  97% |#########################################  | \remitting double-array:  98% |########################################## | \remitting double-array: 100% |###########################################| \n",
            "reading ./matrix.def ... 3x3\n",
            "emitting matrix      :  33% |##############                             | \remitting matrix      :  66% |############################               | \remitting matrix      : 100% |###########################################| \n",
            "\n",
            "done!\n",
            "reading ./unk.def ... 2\n",
            "emitting double-array:  50% |#####################                      | \remitting double-array: 100% |###########################################| \n",
            "./model.def is not found. skipped.\n",
            "reading ./dic.csv ... 4\n",
            "emitting double-array:  25% |##########                                 | \remitting double-array:  50% |#####################                      | \remitting double-array:  75% |################################           | \remitting double-array: 100% |###########################################| \n",
            "reading ./matrix.def ... 1x1\n",
            "\n",
            "done!\n",
            "reading ./unk.def ... 11\n",
            "emitting double-array:   9% |###                                        | \remitting double-array:  18% |#######                                    | \remitting double-array:  27% |###########                                | \remitting double-array:  36% |###############                            | \remitting double-array:  45% |###################                        | \remitting double-array:  54% |#######################                    | \remitting double-array:  63% |###########################                | \remitting double-array:  72% |###############################            | \remitting double-array:  81% |###################################        | \remitting double-array:  90% |#######################################    | \remitting double-array: 100% |###########################################| \n",
            "./model.def is not found. skipped.\n",
            "reading ./dic.csv ... 1\n",
            "reading ./matrix.def ... 1x1\n",
            "\n",
            "done!\n",
            "reading ./unk.def ... 2\n",
            "emitting double-array:  50% |#####################                      | \remitting double-array: 100% |###########################################| \n",
            "./model.def is not found. skipped.\n",
            "reading ./dic.csv ... 1\n",
            "reading ./matrix.def ... 1x1\n",
            "\n",
            "done!\n",
            "PASS: run-dics.sh\n",
            "PASS: run-eval.sh\n",
            "reading seed/unk.def ... 40\n",
            "emitting double-array:   9% |###                                        | \remitting double-array:  18% |#######                                    | \remitting double-array:  27% |###########                                | \remitting double-array:  36% |###############                            | \remitting double-array:  45% |###################                        | \remitting double-array:  54% |#######################                    | \remitting double-array:  63% |###########################                | \remitting double-array:  72% |###############################            | \remitting double-array:  81% |###################################        | \remitting double-array:  90% |#######################################    | \remitting double-array: 100% |###########################################| \n",
            "seed/model.def is not found. skipped.\n",
            "reading seed/dic.csv ... 4335\n",
            "emitting double-array:   0% |                                           | \remitting double-array:   1% |                                           | \remitting double-array:   2% |                                           | \remitting double-array:   3% |#                                          | \remitting double-array:   4% |#                                          | \remitting double-array:   5% |##                                         | \remitting double-array:   6% |##                                         | \remitting double-array:   7% |###                                        | \remitting double-array:   8% |###                                        | \remitting double-array:   9% |###                                        | \remitting double-array:  10% |####                                       | \remitting double-array:  11% |####                                       | \remitting double-array:  12% |#####                                      | \remitting double-array:  13% |#####                                      | \remitting double-array:  14% |######                                     | \remitting double-array:  15% |######                                     | \remitting double-array:  16% |######                                     | \remitting double-array:  17% |#######                                    | \remitting double-array:  18% |#######                                    | \remitting double-array:  19% |########                                   | \remitting double-array:  20% |########                                   | \remitting double-array:  21% |#########                                  | \remitting double-array:  22% |#########                                  | \remitting double-array:  23% |#########                                  | \remitting double-array:  24% |##########                                 | \remitting double-array:  25% |##########                                 | \remitting double-array:  26% |###########                                | \remitting double-array:  27% |###########                                | \remitting double-array:  28% |############                               | \remitting double-array:  29% |############                               | \remitting double-array:  30% |############                               | \remitting double-array:  31% |#############                              | \remitting double-array:  32% |#############                              | \remitting double-array:  33% |##############                             | \remitting double-array:  34% |##############                             | \remitting double-array:  35% |###############                            | \remitting double-array:  36% |###############                            | \remitting double-array:  37% |###############                            | \remitting double-array:  38% |################                           | \remitting double-array:  39% |################                           | \remitting double-array:  40% |#################                          | \remitting double-array:  41% |#################                          | \remitting double-array:  42% |##################                         | \remitting double-array:  43% |##################                         | \remitting double-array:  44% |##################                         | \remitting double-array:  45% |###################                        | \remitting double-array:  46% |###################                        | \remitting double-array:  47% |####################                       | \remitting double-array:  48% |####################                       | \remitting double-array:  49% |#####################                      | \remitting double-array:  50% |#####################                      | \remitting double-array:  51% |#####################                      | \remitting double-array:  52% |######################                     | \remitting double-array:  53% |######################                     | \remitting double-array:  54% |#######################                    | \remitting double-array:  55% |#######################                    | \remitting double-array:  56% |########################                   | \remitting double-array:  57% |########################                   | \remitting double-array:  58% |########################                   | \remitting double-array:  59% |#########################                  | \remitting double-array:  60% |#########################                  | \remitting double-array:  61% |##########################                 | \remitting double-array:  62% |##########################                 | \remitting double-array:  63% |###########################                | \remitting double-array:  64% |###########################                | \remitting double-array:  65% |###########################                | \remitting double-array:  66% |############################               | \remitting double-array:  67% |############################               | \remitting double-array:  68% |#############################              | \remitting double-array:  69% |#############################              | \remitting double-array:  70% |##############################             | \remitting double-array:  71% |##############################             | \remitting double-array:  72% |##############################             | \remitting double-array:  73% |###############################            | \remitting double-array:  74% |###############################            | \remitting double-array:  75% |################################           | \remitting double-array:  76% |################################           | \remitting double-array:  77% |#################################          | \remitting double-array:  78% |#################################          | \remitting double-array:  79% |#################################          | \remitting double-array:  80% |##################################         | \remitting double-array:  81% |##################################         | \remitting double-array:  82% |###################################        | \remitting double-array:  83% |###################################        | \remitting double-array:  84% |####################################       | \remitting double-array:  85% |####################################       | \remitting double-array:  86% |#####################################      | \remitting double-array:  87% |#####################################      | \remitting double-array:  88% |#####################################      | \remitting double-array:  89% |######################################     | \remitting double-array:  90% |######################################     | \remitting double-array:  91% |#######################################    | \remitting double-array:  92% |#######################################    | \remitting double-array:  93% |########################################   | \remitting double-array:  94% |########################################   | \remitting double-array:  95% |########################################   | \remitting double-array:  96% |#########################################  | \remitting double-array:  97% |#########################################  | \remitting double-array:  98% |########################################## | \remitting double-array:  99% |########################################## | \remitting double-array: 100% |###########################################| \n",
            "reading seed/matrix.def ... 1x1\n",
            "\n",
            "done!\n",
            "reading corpus ...\n",
            "Number of sentences: 34\n",
            "Number of features:  64108\n",
            "eta:                 0.00005\n",
            "freq:                1\n",
            "eval-size:           6\n",
            "unk-eval-size:       4\n",
            "threads:             1\n",
            "charset:             EUC-JP\n",
            "C(sigma^2):          1.00000\n",
            "\n",
            "iter=0 err=1.00000 F=0.35771 target=2406.28355 diff=1.00000\n",
            "iter=1 err=0.97059 F=0.65652 target=1484.25231 diff=0.38318\n",
            "iter=2 err=0.91176 F=0.79331 target=863.32765 diff=0.41834\n",
            "iter=3 err=0.85294 F=0.89213 target=596.72480 diff=0.30881\n",
            "iter=4 err=0.61765 F=0.95467 target=336.30744 diff=0.43641\n",
            "iter=5 err=0.50000 F=0.96702 target=246.53039 diff=0.26695\n",
            "iter=6 err=0.35294 F=0.95472 target=188.93963 diff=0.23361\n",
            "iter=7 err=0.20588 F=0.99106 target=168.62665 diff=0.10751\n",
            "iter=8 err=0.05882 F=0.99777 target=158.64865 diff=0.05917\n",
            "iter=9 err=0.08824 F=0.99665 target=154.14530 diff=0.02839\n",
            "iter=10 err=0.08824 F=0.99665 target=151.94257 diff=0.01429\n",
            "iter=11 err=0.02941 F=0.99888 target=147.20825 diff=0.03116\n",
            "iter=12 err=0.00000 F=1.00000 target=147.34956 diff=0.00096\n",
            "iter=13 err=0.02941 F=0.99888 target=146.32592 diff=0.00695\n",
            "iter=14 err=0.00000 F=1.00000 target=145.77299 diff=0.00378\n",
            "iter=15 err=0.02941 F=0.99888 target=145.24641 diff=0.00361\n",
            "iter=16 err=0.00000 F=1.00000 target=144.96490 diff=0.00194\n",
            "iter=17 err=0.02941 F=0.99888 target=144.90246 diff=0.00043\n",
            "iter=18 err=0.00000 F=1.00000 target=144.75959 diff=0.00099\n",
            "iter=19 err=0.00000 F=1.00000 target=144.71727 diff=0.00029\n",
            "iter=20 err=0.00000 F=1.00000 target=144.66337 diff=0.00037\n",
            "iter=21 err=0.00000 F=1.00000 target=144.61349 diff=0.00034\n",
            "iter=22 err=0.00000 F=1.00000 target=144.62987 diff=0.00011\n",
            "iter=23 err=0.00000 F=1.00000 target=144.60060 diff=0.00020\n",
            "iter=24 err=0.00000 F=1.00000 target=144.59125 diff=0.00006\n",
            "iter=25 err=0.00000 F=1.00000 target=144.58619 diff=0.00004\n",
            "iter=26 err=0.00000 F=1.00000 target=144.58219 diff=0.00003\n",
            "iter=27 err=0.00000 F=1.00000 target=144.58059 diff=0.00001\n",
            "\n",
            "Done! writing model file ... \n",
            "model-ipadic.c1.0.f1.model is not a binary model. reopen it as text mode...\n",
            "reading seed/unk.def ... 40\n",
            "reading seed/dic.csv ... 4335\n",
            "emitting model-ipadic.c1.0.f1.dic/left-id.def/ model-ipadic.c1.0.f1.dic/right-id.def\n",
            "emitting model-ipadic.c1.0.f1.dic/unk.def ... 40\n",
            "emitting model-ipadic.c1.0.f1.dic/dic.csv ... 4335\n",
            "emitting matrix      :   1% |                                           | \remitting matrix      :   2% |                                           | \remitting matrix      :   3% |#                                          | \remitting matrix      :   4% |#                                          | \remitting matrix      :   5% |##                                         | \remitting matrix      :   6% |##                                         | \remitting matrix      :   7% |###                                        | \remitting matrix      :   8% |###                                        | \remitting matrix      :   9% |###                                        | \remitting matrix      :  10% |####                                       | \remitting matrix      :  11% |####                                       | \remitting matrix      :  12% |#####                                      | \remitting matrix      :  13% |#####                                      | \remitting matrix      :  14% |######                                     | \remitting matrix      :  15% |######                                     | \remitting matrix      :  16% |######                                     | \remitting matrix      :  17% |#######                                    | \remitting matrix      :  18% |#######                                    | \remitting matrix      :  19% |########                                   | \remitting matrix      :  20% |########                                   | \remitting matrix      :  21% |#########                                  | \remitting matrix      :  22% |#########                                  | \remitting matrix      :  23% |#########                                  | \remitting matrix      :  24% |##########                                 | \remitting matrix      :  25% |##########                                 | \remitting matrix      :  26% |###########                                | \remitting matrix      :  27% |###########                                | \remitting matrix      :  28% |############                               | \remitting matrix      :  29% |############                               | \remitting matrix      :  30% |############                               | \remitting matrix      :  31% |#############                              | \remitting matrix      :  32% |#############                              | \remitting matrix      :  33% |##############                             | \remitting matrix      :  34% |##############                             | \remitting matrix      :  35% |###############                            | \remitting matrix      :  36% |###############                            | \remitting matrix      :  37% |################                           | \remitting matrix      :  38% |################                           | \remitting matrix      :  39% |################                           | \remitting matrix      :  40% |#################                          | \remitting matrix      :  41% |#################                          | \remitting matrix      :  42% |##################                         | \remitting matrix      :  43% |##################                         | \remitting matrix      :  44% |###################                        | \remitting matrix      :  45% |###################                        | \remitting matrix      :  46% |###################                        | \remitting matrix      :  47% |####################                       | \remitting matrix      :  48% |####################                       | \remitting matrix      :  49% |#####################                      | \remitting matrix      :  50% |#####################                      | \remitting matrix      :  51% |#####################                      | \remitting matrix      :  52% |######################                     | \remitting matrix      :  53% |######################                     | \remitting matrix      :  54% |#######################                    | \remitting matrix      :  55% |#######################                    | \remitting matrix      :  56% |########################                   | \remitting matrix      :  57% |########################                   | \remitting matrix      :  58% |########################                   | \remitting matrix      :  59% |#########################                  | \remitting matrix      :  60% |#########################                  | \remitting matrix      :  61% |##########################                 | \remitting matrix      :  62% |##########################                 | \remitting matrix      :  63% |###########################                | \remitting matrix      :  64% |###########################                | \remitting matrix      :  65% |###########################                | \remitting matrix      :  66% |############################               | \remitting matrix      :  67% |############################               | \remitting matrix      :  68% |#############################              | \remitting matrix      :  69% |#############################              | \remitting matrix      :  70% |##############################             | \remitting matrix      :  71% |##############################             | \remitting matrix      :  72% |###############################            | \remitting matrix      :  73% |###############################            | \remitting matrix      :  74% |###############################            | \remitting matrix      :  75% |################################           | \remitting matrix      :  76% |################################           | \remitting matrix      :  77% |#################################          | \remitting matrix      :  78% |#################################          | \remitting matrix      :  79% |##################################         | \remitting matrix      :  80% |##################################         | \remitting matrix      :  81% |##################################         | \remitting matrix      :  82% |###################################        | \remitting matrix      :  83% |###################################        | \remitting matrix      :  84% |####################################       | \remitting matrix      :  85% |####################################       | \remitting matrix      :  86% |#####################################      | \remitting matrix      :  87% |#####################################      | \remitting matrix      :  88% |#####################################      | \remitting matrix      :  89% |######################################     | \remitting matrix      :  90% |######################################     | \remitting matrix      :  91% |#######################################    | \remitting matrix      :  92% |#######################################    | \remitting matrix      :  93% |########################################   | \remitting matrix      :  94% |########################################   | \remitting matrix      :  95% |########################################   | \remitting matrix      :  96% |#########################################  | \remitting matrix      :  97% |#########################################  | \remitting matrix      :  98% |########################################## | \remitting matrix      :  99% |########################################## | \remitting matrix      : 100% |###########################################| \n",
            "copying seed/char.def to model-ipadic.c1.0.f1.dic/char.def\n",
            "copying seed/rewrite.def to model-ipadic.c1.0.f1.dic/rewrite.def\n",
            "copying seed/dicrc to model-ipadic.c1.0.f1.dic/dicrc\n",
            "copying seed/feature.def to model-ipadic.c1.0.f1.dic/feature.def\n",
            "copying model-ipadic.c1.0.f1.model to model-ipadic.c1.0.f1.dic/model.def\n",
            "\n",
            "done!\n",
            "reading model-ipadic.c1.0.f1.dic/unk.def ... 40\n",
            "emitting double-array:   9% |###                                        | \remitting double-array:  18% |#######                                    | \remitting double-array:  27% |###########                                | \remitting double-array:  36% |###############                            | \remitting double-array:  45% |###################                        | \remitting double-array:  54% |#######################                    | \remitting double-array:  63% |###########################                | \remitting double-array:  72% |###############################            | \remitting double-array:  81% |###################################        | \remitting double-array:  90% |#######################################    | \remitting double-array: 100% |###########################################| \n",
            "reading model-ipadic.c1.0.f1.dic/dic.csv ... 4335\n",
            "emitting double-array:   0% |                                           | \remitting double-array:   1% |                                           | \remitting double-array:   2% |                                           | \remitting double-array:   3% |#                                          | \remitting double-array:   4% |#                                          | \remitting double-array:   5% |##                                         | \remitting double-array:   6% |##                                         | \remitting double-array:   7% |###                                        | \remitting double-array:   8% |###                                        | \remitting double-array:   9% |###                                        | \remitting double-array:  10% |####                                       | \remitting double-array:  11% |####                                       | \remitting double-array:  12% |#####                                      | \remitting double-array:  13% |#####                                      | \remitting double-array:  14% |######                                     | \remitting double-array:  15% |######                                     | \remitting double-array:  16% |######                                     | \remitting double-array:  17% |#######                                    | \remitting double-array:  18% |#######                                    | \remitting double-array:  19% |########                                   | \remitting double-array:  20% |########                                   | \remitting double-array:  21% |#########                                  | \remitting double-array:  22% |#########                                  | \remitting double-array:  23% |#########                                  | \remitting double-array:  24% |##########                                 | \remitting double-array:  25% |##########                                 | \remitting double-array:  26% |###########                                | \remitting double-array:  27% |###########                                | \remitting double-array:  28% |############                               | \remitting double-array:  29% |############                               | \remitting double-array:  30% |############                               | \remitting double-array:  31% |#############                              | \remitting double-array:  32% |#############                              | \remitting double-array:  33% |##############                             | \remitting double-array:  34% |##############                             | \remitting double-array:  35% |###############                            | \remitting double-array:  36% |###############                            | \remitting double-array:  37% |###############                            | \remitting double-array:  38% |################                           | \remitting double-array:  39% |################                           | \remitting double-array:  40% |#################                          | \remitting double-array:  41% |#################                          | \remitting double-array:  42% |##################                         | \remitting double-array:  43% |##################                         | \remitting double-array:  44% |##################                         | \remitting double-array:  45% |###################                        | \remitting double-array:  46% |###################                        | \remitting double-array:  47% |####################                       | \remitting double-array:  48% |####################                       | \remitting double-array:  49% |#####################                      | \remitting double-array:  50% |#####################                      | \remitting double-array:  51% |#####################                      | \remitting double-array:  52% |######################                     | \remitting double-array:  53% |######################                     | \remitting double-array:  54% |#######################                    | \remitting double-array:  55% |#######################                    | \remitting double-array:  56% |########################                   | \remitting double-array:  57% |########################                   | \remitting double-array:  58% |########################                   | \remitting double-array:  59% |#########################                  | \remitting double-array:  60% |#########################                  | \remitting double-array:  61% |##########################                 | \remitting double-array:  62% |##########################                 | \remitting double-array:  63% |###########################                | \remitting double-array:  64% |###########################                | \remitting double-array:  65% |###########################                | \remitting double-array:  66% |############################               | \remitting double-array:  67% |############################               | \remitting double-array:  68% |#############################              | \remitting double-array:  69% |#############################              | \remitting double-array:  70% |##############################             | \remitting double-array:  71% |##############################             | \remitting double-array:  72% |##############################             | \remitting double-array:  73% |###############################            | \remitting double-array:  74% |###############################            | \remitting double-array:  75% |################################           | \remitting double-array:  76% |################################           | \remitting double-array:  77% |#################################          | \remitting double-array:  78% |#################################          | \remitting double-array:  79% |#################################          | \remitting double-array:  80% |##################################         | \remitting double-array:  81% |##################################         | \remitting double-array:  82% |###################################        | \remitting double-array:  83% |###################################        | \remitting double-array:  84% |####################################       | \remitting double-array:  85% |####################################       | \remitting double-array:  86% |#####################################      | \remitting double-array:  87% |#####################################      | \remitting double-array:  88% |#####################################      | \remitting double-array:  89% |######################################     | \remitting double-array:  90% |######################################     | \remitting double-array:  91% |#######################################    | \remitting double-array:  92% |#######################################    | \remitting double-array:  93% |########################################   | \remitting double-array:  94% |########################################   | \remitting double-array:  95% |########################################   | \remitting double-array:  96% |#########################################  | \remitting double-array:  97% |#########################################  | \remitting double-array:  98% |########################################## | \remitting double-array:  99% |########################################## | \remitting double-array: 100% |###########################################| \n",
            "reading model-ipadic.c1.0.f1.dic/matrix.def ... 346x346\n",
            "emitting matrix      :   0% |                                           | \remitting matrix      :   1% |                                           | \remitting matrix      :   2% |                                           | \remitting matrix      :   3% |#                                          | \remitting matrix      :   4% |#                                          | \remitting matrix      :   5% |##                                         | \remitting matrix      :   6% |##                                         | \remitting matrix      :   7% |###                                        | \remitting matrix      :   8% |###                                        | \remitting matrix      :   9% |###                                        | \remitting matrix      :  10% |####                                       | \remitting matrix      :  11% |####                                       | \remitting matrix      :  12% |#####                                      | \remitting matrix      :  13% |#####                                      | \remitting matrix      :  14% |######                                     | \remitting matrix      :  15% |######                                     | \remitting matrix      :  16% |######                                     | \remitting matrix      :  17% |#######                                    | \remitting matrix      :  18% |#######                                    | \remitting matrix      :  19% |########                                   | \remitting matrix      :  20% |########                                   | \remitting matrix      :  21% |#########                                  | \remitting matrix      :  22% |#########                                  | \remitting matrix      :  23% |#########                                  | \remitting matrix      :  24% |##########                                 | \remitting matrix      :  25% |##########                                 | \remitting matrix      :  26% |###########                                | \remitting matrix      :  27% |###########                                | \remitting matrix      :  28% |############                               | \remitting matrix      :  29% |############                               | \remitting matrix      :  30% |############                               | \remitting matrix      :  31% |#############                              | \remitting matrix      :  32% |#############                              | \remitting matrix      :  33% |##############                             | \remitting matrix      :  34% |##############                             | \remitting matrix      :  35% |###############                            | \remitting matrix      :  36% |###############                            | \remitting matrix      :  37% |################                           | \remitting matrix      :  38% |################                           | \remitting matrix      :  39% |################                           | \remitting matrix      :  40% |#################                          | \remitting matrix      :  41% |#################                          | \remitting matrix      :  42% |##################                         | \remitting matrix      :  43% |##################                         | \remitting matrix      :  44% |###################                        | \remitting matrix      :  45% |###################                        | \remitting matrix      :  46% |###################                        | \remitting matrix      :  47% |####################                       | \remitting matrix      :  48% |####################                       | \remitting matrix      :  49% |#####################                      | \remitting matrix      :  50% |#####################                      | \remitting matrix      :  51% |#####################                      | \remitting matrix      :  52% |######################                     | \remitting matrix      :  53% |######################                     | \remitting matrix      :  54% |#######################                    | \remitting matrix      :  55% |#######################                    | \remitting matrix      :  56% |########################                   | \remitting matrix      :  57% |########################                   | \remitting matrix      :  58% |########################                   | \remitting matrix      :  59% |#########################                  | \remitting matrix      :  60% |#########################                  | \remitting matrix      :  61% |##########################                 | \remitting matrix      :  62% |##########################                 | \remitting matrix      :  63% |###########################                | \remitting matrix      :  64% |###########################                | \remitting matrix      :  65% |###########################                | \remitting matrix      :  66% |############################               | \remitting matrix      :  67% |############################               | \remitting matrix      :  68% |#############################              | \remitting matrix      :  69% |#############################              | \remitting matrix      :  70% |##############################             | \remitting matrix      :  71% |##############################             | \remitting matrix      :  72% |###############################            | \remitting matrix      :  73% |###############################            | \remitting matrix      :  74% |###############################            | \remitting matrix      :  75% |################################           | \remitting matrix      :  76% |################################           | \remitting matrix      :  77% |#################################          | \remitting matrix      :  78% |#################################          | \remitting matrix      :  79% |##################################         | \remitting matrix      :  80% |##################################         | \remitting matrix      :  81% |##################################         | \remitting matrix      :  82% |###################################        | \remitting matrix      :  83% |###################################        | \remitting matrix      :  84% |####################################       | \remitting matrix      :  85% |####################################       | \remitting matrix      :  86% |#####################################      | \remitting matrix      :  87% |#####################################      | \remitting matrix      :  88% |#####################################      | \remitting matrix      :  89% |######################################     | \remitting matrix      :  90% |######################################     | \remitting matrix      :  91% |#######################################    | \remitting matrix      :  92% |#######################################    | \remitting matrix      :  93% |########################################   | \remitting matrix      :  94% |########################################   | \remitting matrix      :  95% |########################################   | \remitting matrix      :  96% |#########################################  | \remitting matrix      :  97% |#########################################  | \remitting matrix      :  98% |########################################## | \remitting matrix      :  99% |########################################## | \remitting matrix      : 100% |###########################################| \n",
            "\n",
            "done!\n",
            "              precision          recall         F\n",
            "LEVEL 0:    12.8959(57/442) 11.8998(57/479) 12.3779\n",
            "LEVEL 1:    12.2172(54/442) 11.2735(54/479) 11.7264\n",
            "LEVEL 2:    11.7647(52/442) 10.8559(52/479) 11.2921\n",
            "LEVEL 4:    11.7647(52/442) 10.8559(52/479) 11.2921\n",
            "PASS: run-cost-train.sh\n",
            "==================\n",
            "All 3 tests passed\n",
            "==================\n",
            "make[2]: Leaving directory '/tmp/mecab-0.996-ko-0.9.2/tests'\n",
            "make[1]: Leaving directory '/tmp/mecab-0.996-ko-0.9.2/tests'\n",
            "make[1]: Entering directory '/tmp/mecab-0.996-ko-0.9.2'\n",
            "make[1]: Leaving directory '/tmp/mecab-0.996-ko-0.9.2'\n",
            "Making install in src\n",
            "make[1]: Entering directory '/tmp/mecab-0.996-ko-0.9.2/src'\n",
            "make[2]: Entering directory '/tmp/mecab-0.996-ko-0.9.2/src'\n",
            "test -z \"/usr/local/lib\" || /bin/mkdir -p \"/usr/local/lib\"\n",
            " /bin/bash ../libtool   --mode=install /usr/bin/install -c   libmecab.la '/usr/local/lib'\n",
            "libtool: install: /usr/bin/install -c .libs/libmecab.so.2.0.0 /usr/local/lib/libmecab.so.2.0.0\n",
            "libtool: install: (cd /usr/local/lib && { ln -s -f libmecab.so.2.0.0 libmecab.so.2 || { rm -f libmecab.so.2 && ln -s libmecab.so.2.0.0 libmecab.so.2; }; })\n",
            "libtool: install: (cd /usr/local/lib && { ln -s -f libmecab.so.2.0.0 libmecab.so || { rm -f libmecab.so && ln -s libmecab.so.2.0.0 libmecab.so; }; })\n",
            "libtool: install: /usr/bin/install -c .libs/libmecab.lai /usr/local/lib/libmecab.la\n",
            "libtool: install: /usr/bin/install -c .libs/libmecab.a /usr/local/lib/libmecab.a\n",
            "libtool: install: chmod 644 /usr/local/lib/libmecab.a\n",
            "libtool: install: ranlib /usr/local/lib/libmecab.a\n",
            "libtool: finish: PATH=\"/usr/local/sbin:/usr/local/bin:/usr/sbin:/usr/bin:/sbin:/bin:/snap/bin:/sbin\" ldconfig -n /usr/local/lib\n",
            "----------------------------------------------------------------------\n",
            "Libraries have been installed in:\n",
            "   /usr/local/lib\n",
            "\n",
            "If you ever happen to want to link against installed libraries\n",
            "in a given directory, LIBDIR, you must either use libtool, and\n",
            "specify the full pathname of the library, or use the `-LLIBDIR'\n",
            "flag during linking and do at least one of the following:\n",
            "   - add LIBDIR to the `LD_LIBRARY_PATH' environment variable\n",
            "     during execution\n",
            "   - add LIBDIR to the `LD_RUN_PATH' environment variable\n",
            "     during linking\n",
            "   - use the `-Wl,-rpath -Wl,LIBDIR' linker flag\n",
            "   - have your system administrator add LIBDIR to `/etc/ld.so.conf'\n",
            "\n",
            "See any operating system documentation about shared libraries for\n",
            "more information, such as the ld(1) and ld.so(8) manual pages.\n",
            "----------------------------------------------------------------------\n",
            "test -z \"/usr/local/bin\" || /bin/mkdir -p \"/usr/local/bin\"\n",
            "  /bin/bash ../libtool   --mode=install /usr/bin/install -c mecab '/usr/local/bin'\n",
            "libtool: install: /usr/bin/install -c .libs/mecab /usr/local/bin/mecab\n",
            "test -z \"/usr/local/libexec/mecab\" || /bin/mkdir -p \"/usr/local/libexec/mecab\"\n",
            "  /bin/bash ../libtool   --mode=install /usr/bin/install -c mecab-dict-index mecab-dict-gen mecab-cost-train mecab-system-eval mecab-test-gen '/usr/local/libexec/mecab'\n",
            "libtool: install: /usr/bin/install -c .libs/mecab-dict-index /usr/local/libexec/mecab/mecab-dict-index\n",
            "libtool: install: /usr/bin/install -c .libs/mecab-dict-gen /usr/local/libexec/mecab/mecab-dict-gen\n",
            "libtool: install: /usr/bin/install -c .libs/mecab-cost-train /usr/local/libexec/mecab/mecab-cost-train\n",
            "libtool: install: /usr/bin/install -c .libs/mecab-system-eval /usr/local/libexec/mecab/mecab-system-eval\n",
            "libtool: install: /usr/bin/install -c .libs/mecab-test-gen /usr/local/libexec/mecab/mecab-test-gen\n",
            "test -z \"/usr/local/include\" || /bin/mkdir -p \"/usr/local/include\"\n",
            " /usr/bin/install -c -m 644 mecab.h '/usr/local/include'\n",
            "make[2]: Leaving directory '/tmp/mecab-0.996-ko-0.9.2/src'\n",
            "make[1]: Leaving directory '/tmp/mecab-0.996-ko-0.9.2/src'\n",
            "Making install in man\n",
            "make[1]: Entering directory '/tmp/mecab-0.996-ko-0.9.2/man'\n",
            "make[2]: Entering directory '/tmp/mecab-0.996-ko-0.9.2/man'\n",
            "make[2]: Nothing to be done for 'install-exec-am'.\n",
            "test -z \"/usr/local/share/man/man1\" || /bin/mkdir -p \"/usr/local/share/man/man1\"\n",
            " /usr/bin/install -c -m 644 mecab.1 '/usr/local/share/man/man1'\n",
            "make[2]: Leaving directory '/tmp/mecab-0.996-ko-0.9.2/man'\n",
            "make[1]: Leaving directory '/tmp/mecab-0.996-ko-0.9.2/man'\n",
            "Making install in doc\n",
            "make[1]: Entering directory '/tmp/mecab-0.996-ko-0.9.2/doc'\n",
            "make[2]: Entering directory '/tmp/mecab-0.996-ko-0.9.2/doc'\n",
            "make[2]: Nothing to be done for 'install-exec-am'.\n",
            "make[2]: Nothing to be done for 'install-data-am'.\n",
            "make[2]: Leaving directory '/tmp/mecab-0.996-ko-0.9.2/doc'\n",
            "make[1]: Leaving directory '/tmp/mecab-0.996-ko-0.9.2/doc'\n",
            "Making install in tests\n",
            "make[1]: Entering directory '/tmp/mecab-0.996-ko-0.9.2/tests'\n",
            "make[2]: Entering directory '/tmp/mecab-0.996-ko-0.9.2/tests'\n",
            "make[2]: Nothing to be done for 'install-exec-am'.\n",
            "make[2]: Nothing to be done for 'install-data-am'.\n",
            "make[2]: Leaving directory '/tmp/mecab-0.996-ko-0.9.2/tests'\n",
            "make[1]: Leaving directory '/tmp/mecab-0.996-ko-0.9.2/tests'\n",
            "make[1]: Entering directory '/tmp/mecab-0.996-ko-0.9.2'\n",
            "make[2]: Entering directory '/tmp/mecab-0.996-ko-0.9.2'\n",
            "test -z \"/usr/local/bin\" || /bin/mkdir -p \"/usr/local/bin\"\n",
            " /usr/bin/install -c mecab-config '/usr/local/bin'\n",
            "test -z \"/usr/local/etc\" || /bin/mkdir -p \"/usr/local/etc\"\n",
            " /usr/bin/install -c -m 644 mecabrc '/usr/local/etc'\n",
            "make[2]: Leaving directory '/tmp/mecab-0.996-ko-0.9.2'\n",
            "make[1]: Leaving directory '/tmp/mecab-0.996-ko-0.9.2'\n",
            "Install mecab-ko-dic\n",
            "Install mecab-ko-dic\n",
            "mecab-ko-dic-2.1.1-20180720/\n",
            "mecab-ko-dic-2.1.1-20180720/configure\n",
            "mecab-ko-dic-2.1.1-20180720/COPYING\n",
            "mecab-ko-dic-2.1.1-20180720/autogen.sh\n",
            "mecab-ko-dic-2.1.1-20180720/Place-station.csv\n",
            "mecab-ko-dic-2.1.1-20180720/NNG.csv\n",
            "mecab-ko-dic-2.1.1-20180720/README\n",
            "mecab-ko-dic-2.1.1-20180720/EF.csv\n",
            "mecab-ko-dic-2.1.1-20180720/MAG.csv\n",
            "mecab-ko-dic-2.1.1-20180720/Preanalysis.csv\n",
            "mecab-ko-dic-2.1.1-20180720/NNB.csv\n",
            "mecab-ko-dic-2.1.1-20180720/Person-actor.csv\n",
            "mecab-ko-dic-2.1.1-20180720/VV.csv\n",
            "mecab-ko-dic-2.1.1-20180720/Makefile.in\n",
            "mecab-ko-dic-2.1.1-20180720/matrix.def\n",
            "mecab-ko-dic-2.1.1-20180720/EC.csv\n",
            "mecab-ko-dic-2.1.1-20180720/NNBC.csv\n",
            "mecab-ko-dic-2.1.1-20180720/clean\n",
            "mecab-ko-dic-2.1.1-20180720/ChangeLog\n",
            "mecab-ko-dic-2.1.1-20180720/J.csv\n",
            "mecab-ko-dic-2.1.1-20180720/.keep\n",
            "mecab-ko-dic-2.1.1-20180720/feature.def\n",
            "mecab-ko-dic-2.1.1-20180720/Foreign.csv\n",
            "mecab-ko-dic-2.1.1-20180720/XPN.csv\n",
            "mecab-ko-dic-2.1.1-20180720/EP.csv\n",
            "mecab-ko-dic-2.1.1-20180720/NR.csv\n",
            "mecab-ko-dic-2.1.1-20180720/left-id.def\n",
            "mecab-ko-dic-2.1.1-20180720/Place.csv\n",
            "mecab-ko-dic-2.1.1-20180720/Symbol.csv\n",
            "mecab-ko-dic-2.1.1-20180720/dicrc\n",
            "mecab-ko-dic-2.1.1-20180720/NP.csv\n",
            "mecab-ko-dic-2.1.1-20180720/ETM.csv\n",
            "mecab-ko-dic-2.1.1-20180720/IC.csv\n",
            "mecab-ko-dic-2.1.1-20180720/Place-address.csv\n",
            "mecab-ko-dic-2.1.1-20180720/Group.csv\n",
            "mecab-ko-dic-2.1.1-20180720/model.def\n",
            "mecab-ko-dic-2.1.1-20180720/XSN.csv\n",
            "mecab-ko-dic-2.1.1-20180720/INSTALL\n",
            "mecab-ko-dic-2.1.1-20180720/rewrite.def\n",
            "mecab-ko-dic-2.1.1-20180720/Inflect.csv\n",
            "mecab-ko-dic-2.1.1-20180720/configure.ac\n",
            "mecab-ko-dic-2.1.1-20180720/NNP.csv\n",
            "mecab-ko-dic-2.1.1-20180720/CoinedWord.csv\n",
            "mecab-ko-dic-2.1.1-20180720/XSV.csv\n",
            "mecab-ko-dic-2.1.1-20180720/pos-id.def\n",
            "mecab-ko-dic-2.1.1-20180720/Makefile.am\n",
            "mecab-ko-dic-2.1.1-20180720/unk.def\n",
            "mecab-ko-dic-2.1.1-20180720/missing\n",
            "mecab-ko-dic-2.1.1-20180720/VCP.csv\n",
            "mecab-ko-dic-2.1.1-20180720/install-sh\n",
            "mecab-ko-dic-2.1.1-20180720/Hanja.csv\n",
            "mecab-ko-dic-2.1.1-20180720/MAJ.csv\n",
            "mecab-ko-dic-2.1.1-20180720/XSA.csv\n",
            "mecab-ko-dic-2.1.1-20180720/Wikipedia.csv\n",
            "mecab-ko-dic-2.1.1-20180720/tools/\n",
            "mecab-ko-dic-2.1.1-20180720/tools/add-userdic.sh\n",
            "mecab-ko-dic-2.1.1-20180720/tools/mecab-bestn.sh\n",
            "mecab-ko-dic-2.1.1-20180720/tools/convert_for_using_store.sh\n",
            "mecab-ko-dic-2.1.1-20180720/user-dic/\n",
            "mecab-ko-dic-2.1.1-20180720/user-dic/nnp.csv\n",
            "mecab-ko-dic-2.1.1-20180720/user-dic/place.csv\n",
            "mecab-ko-dic-2.1.1-20180720/user-dic/person.csv\n",
            "mecab-ko-dic-2.1.1-20180720/user-dic/README.md\n",
            "mecab-ko-dic-2.1.1-20180720/NorthKorea.csv\n",
            "mecab-ko-dic-2.1.1-20180720/VX.csv\n",
            "mecab-ko-dic-2.1.1-20180720/right-id.def\n",
            "mecab-ko-dic-2.1.1-20180720/VA.csv\n",
            "mecab-ko-dic-2.1.1-20180720/char.def\n",
            "mecab-ko-dic-2.1.1-20180720/NEWS\n",
            "mecab-ko-dic-2.1.1-20180720/MM.csv\n",
            "mecab-ko-dic-2.1.1-20180720/ETN.csv\n",
            "mecab-ko-dic-2.1.1-20180720/AUTHORS\n",
            "mecab-ko-dic-2.1.1-20180720/Person.csv\n",
            "mecab-ko-dic-2.1.1-20180720/XR.csv\n",
            "mecab-ko-dic-2.1.1-20180720/VCN.csv\n",
            "Looking in current directory for macros.\n",
            "checking for a BSD-compatible install... /usr/bin/install -c\n",
            "checking whether build environment is sane... yes\n",
            "checking for a thread-safe mkdir -p... /bin/mkdir -p\n",
            "checking for gawk... no\n",
            "checking for mawk... mawk\n",
            "checking whether make sets $(MAKE)... yes\n",
            "checking whether make supports nested variables... yes\n",
            "checking for mecab-config... /usr/local/bin/mecab-config\n",
            "checking that generated files are newer than configure... done\n",
            "configure: creating ./config.status\n",
            "config.status: creating Makefile\n",
            "/usr/local/lib\n",
            "/usr/local/libexec/mecab/mecab-dict-index -d . -o . -f UTF-8 -t UTF-8\n",
            "reading ./unk.def ... 13\n",
            "emitting double-array:   7% |###                                        | \remitting double-array:  15% |######                                     | \remitting double-array:  23% |#########                                  | \remitting double-array:  30% |#############                              | \remitting double-array:  38% |################                           | \remitting double-array:  46% |###################                        | \remitting double-array:  53% |#######################                    | \remitting double-array:  61% |##########################                 | \remitting double-array:  69% |#############################              | \remitting double-array:  76% |#################################          | \remitting double-array:  84% |####################################       | \remitting double-array:  92% |#######################################    | \remitting double-array: 100% |###########################################| \n",
            "reading ./ETM.csv ... 133\n",
            "reading ./NNBC.csv ... 677\n",
            "reading ./VA.csv ... 2360\n",
            "reading ./VX.csv ... 125\n",
            "reading ./Place-station.csv ... 1145\n",
            "reading ./XPN.csv ... 83\n",
            "reading ./NNB.csv ... 140\n",
            "reading ./Foreign.csv ... 11690\n",
            "reading ./VV.csv ... 7331\n",
            "reading ./Person-actor.csv ... 99230\n",
            "reading ./XR.csv ... 3637\n",
            "reading ./MM.csv ... 453\n",
            "reading ./CoinedWord.csv ... 148\n",
            "reading ./J.csv ... 416\n",
            "reading ./NorthKorea.csv ... 3\n",
            "reading ./VCN.csv ... 7\n",
            "reading ./XSN.csv ... 124\n",
            "reading ./MAJ.csv ... 240\n",
            "reading ./IC.csv ... 1305\n",
            "reading ./Place.csv ... 30303\n",
            "reading ./Wikipedia.csv ... 36762\n",
            "reading ./Hanja.csv ... 125750\n",
            "reading ./Group.csv ... 3176\n",
            "reading ./NNP.csv ... 2371\n",
            "reading ./EF.csv ... 1820\n",
            "reading ./EC.csv ... 2547\n",
            "reading ./VCP.csv ... 9\n",
            "reading ./NNG.csv ... 208524\n",
            "reading ./NP.csv ... 342\n",
            "reading ./ETN.csv ... 14\n",
            "reading ./Person.csv ... 196459\n",
            "reading ./XSA.csv ... 19\n",
            "reading ./XSV.csv ... 23\n",
            "reading ./Preanalysis.csv ... 5\n",
            "reading ./NR.csv ... 482\n",
            "reading ./EP.csv ... 51\n",
            "reading ./Inflect.csv ... 44820\n",
            "reading ./Place-address.csv ... 19301\n",
            "reading ./MAG.csv ... 14242\n",
            "reading ./Symbol.csv ... 16\n",
            "emitting double-array:   0% |                                           | \remitting double-array:   1% |                                           | \remitting double-array:   2% |                                           | \remitting double-array:   3% |#                                          | \remitting double-array:   4% |#                                          | \remitting double-array:   5% |##                                         | \remitting double-array:   6% |##                                         | \remitting double-array:   7% |###                                        | \remitting double-array:   8% |###                                        | \remitting double-array:   9% |###                                        | \remitting double-array:  10% |####                                       | \remitting double-array:  11% |####                                       | \remitting double-array:  12% |#####                                      | \remitting double-array:  13% |#####                                      | \remitting double-array:  14% |######                                     | \remitting double-array:  15% |######                                     | \remitting double-array:  16% |######                                     | \remitting double-array:  17% |#######                                    | \remitting double-array:  18% |#######                                    | \remitting double-array:  19% |########                                   | \remitting double-array:  20% |########                                   | \remitting double-array:  21% |#########                                  | \remitting double-array:  22% |#########                                  | \remitting double-array:  23% |#########                                  | \remitting double-array:  24% |##########                                 | \remitting double-array:  25% |##########                                 | \remitting double-array:  26% |###########                                | \remitting double-array:  27% |###########                                | \remitting double-array:  28% |############                               | \remitting double-array:  29% |############                               | \remitting double-array:  30% |############                               | \remitting double-array:  31% |#############                              | \remitting double-array:  32% |#############                              | \remitting double-array:  33% |##############                             | \remitting double-array:  34% |##############                             | \remitting double-array:  35% |###############                            | \remitting double-array:  36% |###############                            | \remitting double-array:  37% |###############                            | \remitting double-array:  38% |################                           | \remitting double-array:  39% |################                           | \remitting double-array:  40% |#################                          | \remitting double-array:  41% |#################                          | \remitting double-array:  42% |##################                         | \remitting double-array:  43% |##################                         | \remitting double-array:  44% |##################                         | \remitting double-array:  45% |###################                        | \remitting double-array:  46% |###################                        | \remitting double-array:  47% |####################                       | \remitting double-array:  48% |####################                       | \remitting double-array:  49% |#####################                      | \remitting double-array:  50% |#####################                      | \remitting double-array:  51% |#####################                      | \remitting double-array:  52% |######################                     | \remitting double-array:  53% |######################                     | \remitting double-array:  54% |#######################                    | \remitting double-array:  55% |#######################                    | \remitting double-array:  56% |########################                   | \remitting double-array:  57% |########################                   | \remitting double-array:  58% |########################                   | \remitting double-array:  59% |#########################                  | \remitting double-array:  60% |#########################                  | \remitting double-array:  61% |##########################                 | \remitting double-array:  62% |##########################                 | \remitting double-array:  63% |###########################                | \remitting double-array:  64% |###########################                | \remitting double-array:  65% |###########################                | \remitting double-array:  66% |############################               | \remitting double-array:  67% |############################               | \remitting double-array:  68% |#############################              | \remitting double-array:  69% |#############################              | \remitting double-array:  70% |##############################             | \remitting double-array:  71% |##############################             | \remitting double-array:  72% |##############################             | \remitting double-array:  73% |###############################            | \remitting double-array:  74% |###############################            | \remitting double-array:  75% |################################           | \remitting double-array:  76% |################################           | \remitting double-array:  77% |#################################          | \remitting double-array:  78% |#################################          | \remitting double-array:  79% |#################################          | \remitting double-array:  80% |##################################         | \remitting double-array:  81% |##################################         | \remitting double-array:  82% |###################################        | \remitting double-array:  83% |###################################        | \remitting double-array:  84% |####################################       | \remitting double-array:  85% |####################################       | \remitting double-array:  86% |####################################       | \remitting double-array:  87% |#####################################      | \remitting double-array:  88% |#####################################      | \remitting double-array:  89% |######################################     | \remitting double-array:  90% |######################################     | \remitting double-array:  91% |#######################################    | \remitting double-array:  92% |#######################################    | \remitting double-array:  93% |#######################################    | \remitting double-array:  94% |########################################   | \remitting double-array:  95% |########################################   | \remitting double-array:  96% |#########################################  | \remitting double-array:  97% |#########################################  | \remitting double-array:  98% |########################################## | \remitting double-array:  99% |########################################## | \remitting double-array: 100% |###########################################| \n",
            "reading ./matrix.def ... 3822x2693\n",
            "emitting matrix      :   0% |                                           | \remitting matrix      :   1% |                                           | \remitting matrix      :   2% |                                           | \remitting matrix      :   3% |#                                          | \remitting matrix      :   4% |#                                          | \remitting matrix      :   5% |##                                         | \remitting matrix      :   6% |##                                         | \remitting matrix      :   7% |###                                        | \remitting matrix      :   8% |###                                        | \remitting matrix      :   9% |###                                        | \remitting matrix      :  10% |####                                       | \remitting matrix      :  11% |####                                       | \remitting matrix      :  12% |#####                                      | \remitting matrix      :  13% |#####                                      | \remitting matrix      :  14% |######                                     | \remitting matrix      :  15% |######                                     | \remitting matrix      :  16% |######                                     | \remitting matrix      :  17% |#######                                    | \remitting matrix      :  18% |#######                                    | \remitting matrix      :  19% |########                                   | \remitting matrix      :  20% |########                                   | \remitting matrix      :  21% |#########                                  | \remitting matrix      :  22% |#########                                  | \remitting matrix      :  23% |#########                                  | \remitting matrix      :  24% |##########                                 | \remitting matrix      :  25% |##########                                 | \remitting matrix      :  26% |###########                                | \remitting matrix      :  27% |###########                                | \remitting matrix      :  28% |############                               | \remitting matrix      :  29% |############                               | \remitting matrix      :  30% |############                               | \remitting matrix      :  31% |#############                              | \remitting matrix      :  32% |#############                              | \remitting matrix      :  33% |##############                             | \remitting matrix      :  34% |##############                             | \remitting matrix      :  35% |###############                            | \remitting matrix      :  36% |###############                            | \remitting matrix      :  37% |###############                            | \remitting matrix      :  38% |################                           | \remitting matrix      :  39% |################                           | \remitting matrix      :  40% |#################                          | \remitting matrix      :  41% |#################                          | \remitting matrix      :  42% |##################                         | \remitting matrix      :  43% |##################                         | \remitting matrix      :  44% |##################                         | \remitting matrix      :  45% |###################                        | \remitting matrix      :  46% |###################                        | \remitting matrix      :  47% |####################                       | \remitting matrix      :  48% |####################                       | \remitting matrix      :  49% |#####################                      | \remitting matrix      :  50% |#####################                      | \remitting matrix      :  51% |#####################                      | \remitting matrix      :  52% |######################                     | \remitting matrix      :  53% |######################                     | \remitting matrix      :  54% |#######################                    | \remitting matrix      :  55% |#######################                    | \remitting matrix      :  56% |########################                   | \remitting matrix      :  57% |########################                   | \remitting matrix      :  58% |########################                   | \remitting matrix      :  59% |#########################                  | \remitting matrix      :  60% |#########################                  | \remitting matrix      :  61% |##########################                 | \remitting matrix      :  62% |##########################                 | \remitting matrix      :  63% |###########################                | \remitting matrix      :  64% |###########################                | \remitting matrix      :  65% |###########################                | \remitting matrix      :  66% |############################               | \remitting matrix      :  67% |############################               | \remitting matrix      :  68% |#############################              | \remitting matrix      :  69% |#############################              | \remitting matrix      :  70% |##############################             | \remitting matrix      :  71% |##############################             | \remitting matrix      :  72% |##############################             | \remitting matrix      :  73% |###############################            | \remitting matrix      :  74% |###############################            | \remitting matrix      :  75% |################################           | \remitting matrix      :  76% |################################           | \remitting matrix      :  77% |#################################          | \remitting matrix      :  78% |#################################          | \remitting matrix      :  79% |#################################          | \remitting matrix      :  80% |##################################         | \remitting matrix      :  81% |##################################         | \remitting matrix      :  82% |###################################        | \remitting matrix      :  83% |###################################        | \remitting matrix      :  84% |####################################       | \remitting matrix      :  85% |####################################       | \remitting matrix      :  86% |####################################       | \remitting matrix      :  87% |#####################################      | \remitting matrix      :  88% |#####################################      | \remitting matrix      :  89% |######################################     | \remitting matrix      :  90% |######################################     | \remitting matrix      :  91% |#######################################    | \remitting matrix      :  92% |#######################################    | \remitting matrix      :  93% |#######################################    | \remitting matrix      :  94% |########################################   | \remitting matrix      :  95% |########################################   | \remitting matrix      :  96% |#########################################  | \remitting matrix      :  97% |#########################################  | \remitting matrix      :  98% |########################################## | \remitting matrix      :  99% |########################################## | \remitting matrix      : 100% |###########################################| \n",
            "\n",
            "done!\n",
            "echo To enable dictionary, rewrite /usr/local/etc/mecabrc as \\\"dicdir = /usr/local/lib/mecab/dic/mecab-ko-dic\\\"\n",
            "To enable dictionary, rewrite /usr/local/etc/mecabrc as \"dicdir = /usr/local/lib/mecab/dic/mecab-ko-dic\"\n",
            "make[1]: Entering directory '/tmp/mecab-ko-dic-2.1.1-20180720'\n",
            "make[1]: Nothing to be done for 'install-exec-am'.\n",
            " /bin/mkdir -p '/usr/local/lib/mecab/dic/mecab-ko-dic'\n",
            " /usr/bin/install -c -m 644 model.bin matrix.bin char.bin sys.dic unk.dic left-id.def right-id.def rewrite.def pos-id.def dicrc '/usr/local/lib/mecab/dic/mecab-ko-dic'\n",
            "make[1]: Leaving directory '/tmp/mecab-ko-dic-2.1.1-20180720'\n",
            "Install mecab-python\n",
            "/tmp /tmp/mecab-ko-dic-2.1.1-20180720\n",
            "/tmp/mecab-ko-dic-2.1.1-20180720\n",
            "Processing /tmp/mecab-python-0.996\n",
            "Building wheels for collected packages: mecab-python\n",
            "  Building wheel for mecab-python (setup.py): started\n",
            "  Building wheel for mecab-python (setup.py): finished with status 'done'\n",
            "  Created wheel for mecab-python: filename=mecab_python-0.996_ko_0.9.2-cp37-cp37m-linux_x86_64.whl size=141797 sha256=a998e79f7e067cdeaaf02798b1aa38f506d2be81d7b69523dd7c384532b0f191\n",
            "  Stored in directory: /root/.cache/pip/wheels/40/7b/9f/2922869bef86c3354ae7034f7a3647c573ee1997c2dad0290a\n",
            "Failed to build mecab-python\n",
            "Installing collected packages: mecab-python\n",
            "    Running setup.py install for mecab-python: started\n",
            "    Running setup.py install for mecab-python: finished with status 'done'\n",
            "Successfully installed mecab-python-0.996-ko-0.9.2\n",
            "Done.\n",
            "Processing /tmp/mecab-python-0.996\n",
            "Building wheels for collected packages: mecab-python\n",
            "  Building wheel for mecab-python (setup.py): started\n",
            "  Building wheel for mecab-python (setup.py): finished with status 'done'\n",
            "  Created wheel for mecab-python: filename=mecab_python-0.996_ko_0.9.2-cp37-cp37m-linux_x86_64.whl size=141801 sha256=11517b455536f51956b54bc09e4b7d70b9a04bb415140c7bf90021681d1e9ec3\n",
            "  Stored in directory: /root/.cache/pip/wheels/40/7b/9f/2922869bef86c3354ae7034f7a3647c573ee1997c2dad0290a\n",
            "Failed to build mecab-python\n",
            "Installing collected packages: mecab-python\n",
            "  Attempting uninstall: mecab-python\n",
            "    Found existing installation: mecab-python 0.996-ko-0.9.2\n",
            "    Uninstalling mecab-python-0.996-ko-0.9.2:\n",
            "      Successfully uninstalled mecab-python-0.996-ko-0.9.2\n",
            "    Running setup.py install for mecab-python: started\n",
            "    Running setup.py install for mecab-python: finished with status 'done'\n",
            "Successfully installed mecab-python-0.996-ko-0.9.2\n"
          ]
        },
        {
          "output_type": "stream",
          "name": "stderr",
          "text": [
            "debconf: unable to initialize frontend: Dialog\n",
            "debconf: (No usable dialog-like program is installed, so the dialog based frontend cannot be used. at /usr/share/perl5/Debconf/FrontEnd/Dialog.pm line 76, <> line 5.)\n",
            "debconf: falling back to frontend: Readline\n",
            "debconf: unable to initialize frontend: Readline\n",
            "debconf: (This frontend requires a controlling tty.)\n",
            "debconf: falling back to frontend: Teletype\n",
            "dpkg-preconfigure: unable to re-open stdin: \n",
            "  % Total    % Received % Xferd  Average Speed   Time    Time     Time  Current\n",
            "                                 Dload  Upload   Total   Spent    Left  Speed\n",
            "\r  0     0    0     0    0     0      0      0 --:--:-- --:--:-- --:--:--     0\r  0     0    0     0    0     0      0      0 --:--:-- --:--:-- --:--:--     0\n",
            "\r  7 1381k    7  108k    0     0   210k      0  0:00:06 --:--:--  0:00:06  210k\r100 1381k  100 1381k    0     0  2303k      0 --:--:-- --:--:-- --:--:-- 14.8M\n",
            "./configure: line 7378: /usr/bin/file: No such file or directory\n",
            "In file included from viterbi.cpp:14:0:\n",
            "param.h:30:13: warning: 'Target {anonymous}::lexical_cast(Source) [with Target = std::__cxx11::basic_string<char>; Source = std::__cxx11::basic_string<char>]' defined but not used [-Wunused-function]\n",
            " std::string lexical_cast<std::string, std::string>(std::string arg) {\n",
            "             ^~~~~~~~~~~~~~~~~~~~~~~~~~~~~~~~~~~~~~\n",
            "learner_tagger.cpp:25:7: warning: 'char* MeCab::{anonymous}::mystrdup(const string&)' defined but not used [-Wunused-function]\n",
            " char *mystrdup(const std::string &str) {\n",
            "       ^~~~~~~~\n",
            "ar: `u' modifier ignored since `D' is the default (see `U')\n",
            "./pos-id.def is not found. minimum setting is used\n",
            "./pos-id.def is not found. minimum setting is used\n",
            "./pos-id.def is not found. minimum setting is used\n",
            "./pos-id.def is not found. minimum setting is used\n",
            "./pos-id.def is not found. minimum setting is used\n",
            "./pos-id.def is not found. minimum setting is used\n",
            "./pos-id.def is not found. minimum setting is used\n",
            "./pos-id.def is not found. minimum setting is used\n",
            "./pos-id.def is not found. minimum setting is used\n",
            "./pos-id.def is not found. minimum setting is used\n",
            "./pos-id.def is not found. minimum setting is used\n",
            "./pos-id.def is not found. minimum setting is used\n",
            "./pos-id.def is not found. minimum setting is used\n",
            "./pos-id.def is not found. minimum setting is used\n",
            "seed/pos-id.def is not found. minimum setting is used\n",
            "seed/pos-id.def is not found. minimum setting is used\n",
            "model-ipadic.c1.0.f1.dic/pos-id.def is not found. minimum setting is used\n",
            "model-ipadic.c1.0.f1.dic/pos-id.def is not found. minimum setting is used\n",
            "  % Total    % Received % Xferd  Average Speed   Time    Time     Time  Current\n",
            "                                 Dload  Upload   Total   Spent    Left  Speed\n",
            "\r  0     0    0     0    0     0      0      0 --:--:-- --:--:-- --:--:--     0\r  0     0    0     0    0     0      0      0 --:--:-- --:--:-- --:--:--     0\n",
            "\r  0     0    0     0    0     0      0      0 --:--:-- --:--:-- --:--:--     0\r100 47.4M  100 47.4M    0     0  39.1M      0  0:00:01  0:00:01 --:--:-- 64.2M\n",
            "configure.ac:2: warning: AM_INIT_AUTOMAKE: two- and three-arguments forms are deprecated.  For more info, see:\n",
            "configure.ac:2: http://www.gnu.org/software/automake/manual/automake.html#Modernize-AM_005fINIT_005fAUTOMAKE-invocation\n",
            "/tmp/mecab-ko-dic-2.1.1-20180720/missing: Unknown `--is-lightweight' option\n",
            "Try `/tmp/mecab-ko-dic-2.1.1-20180720/missing --help' for more information\n",
            "configure: WARNING: 'missing' script is too old or missing\n",
            "/sbin/ldconfig.real: /usr/local/lib/python3.7/dist-packages/ideep4py/lib/libmkldnn.so.0 is not a symbolic link\n",
            "\n",
            "Cloning into 'mecab-python-0.996'...\n",
            "  DEPRECATION: A future pip version will change local packages to be built in-place without first copying to a temporary directory. We recommend you use --use-feature=in-tree-build to test your packages with this new behavior before it becomes the default.\n",
            "   pip 21.3 will remove support for this functionality. You can find discussion regarding this at https://github.com/pypa/pip/issues/7555.\n",
            "  WARNING: Built wheel for mecab-python is invalid: Metadata 1.2 mandates PEP 440 version, but '0.996-ko-0.9.2' is not\n",
            "  DEPRECATION: mecab-python was installed using the legacy 'setup.py install' method, because a wheel could not be built for it. A possible replacement is to fix the wheel build issue reported above. You can find discussion regarding this at https://github.com/pypa/pip/issues/8368.\n",
            "  DEPRECATION: A future pip version will change local packages to be built in-place without first copying to a temporary directory. We recommend you use --use-feature=in-tree-build to test your packages with this new behavior before it becomes the default.\n",
            "   pip 21.3 will remove support for this functionality. You can find discussion regarding this at https://github.com/pypa/pip/issues/7555.\n",
            "  WARNING: Built wheel for mecab-python is invalid: Metadata 1.2 mandates PEP 440 version, but '0.996-ko-0.9.2' is not\n",
            "  DEPRECATION: mecab-python was installed using the legacy 'setup.py install' method, because a wheel could not be built for it. A possible replacement is to fix the wheel build issue reported above. You can find discussion regarding this at https://github.com/pypa/pip/issues/8368.\n"
          ]
        }
      ]
    },
    {
      "cell_type": "code",
      "source": [
        "import konlpy"
      ],
      "metadata": {
        "id": "aW9FOjhzR4B6"
      },
      "execution_count": 38,
      "outputs": []
    },
    {
      "cell_type": "code",
      "source": [
        "from konlpy.tag import Twitter\n",
        "\n",
        "twitter = Twitter() # SNS 분석에 적합한 Twitter 클래스 이용\n",
        "\n",
        "# 문장을 형태소 단어 형태로 반환하는 tw_tokenizer 함수 정의\n",
        "#-> 사이킷런 TfidfVectorizer 클래스의 tokenizer로 사용\n",
        "def tw_tokenizer(text):\n",
        "  # 입력 인자로 들어온 텍스트를 형태소 단어로 토큰화해 리스트 형태로 반환\n",
        "  tokens_ko = twitter.morphs(text)\n",
        "  return tokens_ko"
      ],
      "metadata": {
        "colab": {
          "base_uri": "https://localhost:8080/"
        },
        "id": "KOyjbuiLQ7lK",
        "outputId": "a2e8003f-fb55-4ff1-8ef3-3c6c76989760"
      },
      "execution_count": 39,
      "outputs": [
        {
          "output_type": "stream",
          "name": "stderr",
          "text": [
            "/usr/local/lib/python3.7/dist-packages/konlpy/tag/_okt.py:17: UserWarning: \"Twitter\" has changed to \"Okt\" since KoNLPy v0.4.5.\n",
            "  warn('\"Twitter\" has changed to \"Okt\" since KoNLPy v0.4.5.')\n"
          ]
        }
      ]
    },
    {
      "cell_type": "code",
      "source": [
        "from sklearn.feature_extraction.text import TfidfVectorizer\n",
        "from sklearn.linear_model import LogisticRegression\n",
        "from sklearn.model_selection import GridSearchCV\n",
        "\n",
        "# TF-IDF 피처 모델 생성\n",
        "# Twitter 객체의 morphs() 객체를 이용한 tokenizer를 사용. ngram_range는 (1, 2)\n",
        "tfidf_vect = TfidfVectorizer(tokenizer=tw_tokenizer, ngram_range=(1, 2), min_df=3, max_df=0.9)\n",
        "tfidf_vect.fit(train_df['document'])\n",
        "tfidf_matrix_train = tfidf_vect.transform(train_df['document'])"
      ],
      "metadata": {
        "colab": {
          "base_uri": "https://localhost:8080/"
        },
        "id": "VFr1b1QbR716",
        "outputId": "8730eb21-69b2-4be1-a006-6275d2daf1e2"
      },
      "execution_count": 41,
      "outputs": [
        {
          "output_type": "stream",
          "name": "stderr",
          "text": [
            "/usr/local/lib/python3.7/dist-packages/sklearn/feature_extraction/text.py:517: UserWarning: The parameter 'token_pattern' will not be used since 'tokenizer' is not None'\n",
            "  \"The parameter 'token_pattern' will not be used\"\n"
          ]
        }
      ]
    },
    {
      "cell_type": "code",
      "source": [
        "# 로지스틱 회귀를 이용해 감성 분석 분류 수행\n",
        "lg_clf = LogisticRegression(random_state=0)\n",
        "\n",
        "# 파라미터 C 최적화를 위해 GridSearchCV를 이용\n",
        "params = {'C': [1, 3.5, 4.5, 5.5, 10]}\n",
        "grid_cv = GridSearchCV(lg_clf, param_grid=params, cv=3, scoring='accuracy', verbose=1)\n",
        "grid_cv.fit(tfidf_matrix_train, train_df['label'])\n",
        "print(grid_cv.best_params_, round(grid_cv.best_score_, 4))"
      ],
      "metadata": {
        "colab": {
          "base_uri": "https://localhost:8080/"
        },
        "id": "sUUdLBPNS-c-",
        "outputId": "5674c8a7-07f4-48e2-d610-771b3ae34507"
      },
      "execution_count": 42,
      "outputs": [
        {
          "output_type": "stream",
          "name": "stdout",
          "text": [
            "Fitting 3 folds for each of 5 candidates, totalling 15 fits\n"
          ]
        },
        {
          "output_type": "stream",
          "name": "stderr",
          "text": [
            "/usr/local/lib/python3.7/dist-packages/sklearn/linear_model/_logistic.py:818: ConvergenceWarning: lbfgs failed to converge (status=1):\n",
            "STOP: TOTAL NO. of ITERATIONS REACHED LIMIT.\n",
            "\n",
            "Increase the number of iterations (max_iter) or scale the data as shown in:\n",
            "    https://scikit-learn.org/stable/modules/preprocessing.html\n",
            "Please also refer to the documentation for alternative solver options:\n",
            "    https://scikit-learn.org/stable/modules/linear_model.html#logistic-regression\n",
            "  extra_warning_msg=_LOGISTIC_SOLVER_CONVERGENCE_MSG,\n",
            "/usr/local/lib/python3.7/dist-packages/sklearn/linear_model/_logistic.py:818: ConvergenceWarning: lbfgs failed to converge (status=1):\n",
            "STOP: TOTAL NO. of ITERATIONS REACHED LIMIT.\n",
            "\n",
            "Increase the number of iterations (max_iter) or scale the data as shown in:\n",
            "    https://scikit-learn.org/stable/modules/preprocessing.html\n",
            "Please also refer to the documentation for alternative solver options:\n",
            "    https://scikit-learn.org/stable/modules/linear_model.html#logistic-regression\n",
            "  extra_warning_msg=_LOGISTIC_SOLVER_CONVERGENCE_MSG,\n",
            "/usr/local/lib/python3.7/dist-packages/sklearn/linear_model/_logistic.py:818: ConvergenceWarning: lbfgs failed to converge (status=1):\n",
            "STOP: TOTAL NO. of ITERATIONS REACHED LIMIT.\n",
            "\n",
            "Increase the number of iterations (max_iter) or scale the data as shown in:\n",
            "    https://scikit-learn.org/stable/modules/preprocessing.html\n",
            "Please also refer to the documentation for alternative solver options:\n",
            "    https://scikit-learn.org/stable/modules/linear_model.html#logistic-regression\n",
            "  extra_warning_msg=_LOGISTIC_SOLVER_CONVERGENCE_MSG,\n",
            "/usr/local/lib/python3.7/dist-packages/sklearn/linear_model/_logistic.py:818: ConvergenceWarning: lbfgs failed to converge (status=1):\n",
            "STOP: TOTAL NO. of ITERATIONS REACHED LIMIT.\n",
            "\n",
            "Increase the number of iterations (max_iter) or scale the data as shown in:\n",
            "    https://scikit-learn.org/stable/modules/preprocessing.html\n",
            "Please also refer to the documentation for alternative solver options:\n",
            "    https://scikit-learn.org/stable/modules/linear_model.html#logistic-regression\n",
            "  extra_warning_msg=_LOGISTIC_SOLVER_CONVERGENCE_MSG,\n",
            "/usr/local/lib/python3.7/dist-packages/sklearn/linear_model/_logistic.py:818: ConvergenceWarning: lbfgs failed to converge (status=1):\n",
            "STOP: TOTAL NO. of ITERATIONS REACHED LIMIT.\n",
            "\n",
            "Increase the number of iterations (max_iter) or scale the data as shown in:\n",
            "    https://scikit-learn.org/stable/modules/preprocessing.html\n",
            "Please also refer to the documentation for alternative solver options:\n",
            "    https://scikit-learn.org/stable/modules/linear_model.html#logistic-regression\n",
            "  extra_warning_msg=_LOGISTIC_SOLVER_CONVERGENCE_MSG,\n",
            "/usr/local/lib/python3.7/dist-packages/sklearn/linear_model/_logistic.py:818: ConvergenceWarning: lbfgs failed to converge (status=1):\n",
            "STOP: TOTAL NO. of ITERATIONS REACHED LIMIT.\n",
            "\n",
            "Increase the number of iterations (max_iter) or scale the data as shown in:\n",
            "    https://scikit-learn.org/stable/modules/preprocessing.html\n",
            "Please also refer to the documentation for alternative solver options:\n",
            "    https://scikit-learn.org/stable/modules/linear_model.html#logistic-regression\n",
            "  extra_warning_msg=_LOGISTIC_SOLVER_CONVERGENCE_MSG,\n",
            "/usr/local/lib/python3.7/dist-packages/sklearn/linear_model/_logistic.py:818: ConvergenceWarning: lbfgs failed to converge (status=1):\n",
            "STOP: TOTAL NO. of ITERATIONS REACHED LIMIT.\n",
            "\n",
            "Increase the number of iterations (max_iter) or scale the data as shown in:\n",
            "    https://scikit-learn.org/stable/modules/preprocessing.html\n",
            "Please also refer to the documentation for alternative solver options:\n",
            "    https://scikit-learn.org/stable/modules/linear_model.html#logistic-regression\n",
            "  extra_warning_msg=_LOGISTIC_SOLVER_CONVERGENCE_MSG,\n",
            "/usr/local/lib/python3.7/dist-packages/sklearn/linear_model/_logistic.py:818: ConvergenceWarning: lbfgs failed to converge (status=1):\n",
            "STOP: TOTAL NO. of ITERATIONS REACHED LIMIT.\n",
            "\n",
            "Increase the number of iterations (max_iter) or scale the data as shown in:\n",
            "    https://scikit-learn.org/stable/modules/preprocessing.html\n",
            "Please also refer to the documentation for alternative solver options:\n",
            "    https://scikit-learn.org/stable/modules/linear_model.html#logistic-regression\n",
            "  extra_warning_msg=_LOGISTIC_SOLVER_CONVERGENCE_MSG,\n",
            "/usr/local/lib/python3.7/dist-packages/sklearn/linear_model/_logistic.py:818: ConvergenceWarning: lbfgs failed to converge (status=1):\n",
            "STOP: TOTAL NO. of ITERATIONS REACHED LIMIT.\n",
            "\n",
            "Increase the number of iterations (max_iter) or scale the data as shown in:\n",
            "    https://scikit-learn.org/stable/modules/preprocessing.html\n",
            "Please also refer to the documentation for alternative solver options:\n",
            "    https://scikit-learn.org/stable/modules/linear_model.html#logistic-regression\n",
            "  extra_warning_msg=_LOGISTIC_SOLVER_CONVERGENCE_MSG,\n",
            "/usr/local/lib/python3.7/dist-packages/sklearn/linear_model/_logistic.py:818: ConvergenceWarning: lbfgs failed to converge (status=1):\n",
            "STOP: TOTAL NO. of ITERATIONS REACHED LIMIT.\n",
            "\n",
            "Increase the number of iterations (max_iter) or scale the data as shown in:\n",
            "    https://scikit-learn.org/stable/modules/preprocessing.html\n",
            "Please also refer to the documentation for alternative solver options:\n",
            "    https://scikit-learn.org/stable/modules/linear_model.html#logistic-regression\n",
            "  extra_warning_msg=_LOGISTIC_SOLVER_CONVERGENCE_MSG,\n",
            "/usr/local/lib/python3.7/dist-packages/sklearn/linear_model/_logistic.py:818: ConvergenceWarning: lbfgs failed to converge (status=1):\n",
            "STOP: TOTAL NO. of ITERATIONS REACHED LIMIT.\n",
            "\n",
            "Increase the number of iterations (max_iter) or scale the data as shown in:\n",
            "    https://scikit-learn.org/stable/modules/preprocessing.html\n",
            "Please also refer to the documentation for alternative solver options:\n",
            "    https://scikit-learn.org/stable/modules/linear_model.html#logistic-regression\n",
            "  extra_warning_msg=_LOGISTIC_SOLVER_CONVERGENCE_MSG,\n",
            "/usr/local/lib/python3.7/dist-packages/sklearn/linear_model/_logistic.py:818: ConvergenceWarning: lbfgs failed to converge (status=1):\n",
            "STOP: TOTAL NO. of ITERATIONS REACHED LIMIT.\n",
            "\n",
            "Increase the number of iterations (max_iter) or scale the data as shown in:\n",
            "    https://scikit-learn.org/stable/modules/preprocessing.html\n",
            "Please also refer to the documentation for alternative solver options:\n",
            "    https://scikit-learn.org/stable/modules/linear_model.html#logistic-regression\n",
            "  extra_warning_msg=_LOGISTIC_SOLVER_CONVERGENCE_MSG,\n"
          ]
        },
        {
          "output_type": "stream",
          "name": "stdout",
          "text": [
            "{'C': 3.5} 0.8593\n"
          ]
        },
        {
          "output_type": "stream",
          "name": "stderr",
          "text": [
            "/usr/local/lib/python3.7/dist-packages/sklearn/linear_model/_logistic.py:818: ConvergenceWarning: lbfgs failed to converge (status=1):\n",
            "STOP: TOTAL NO. of ITERATIONS REACHED LIMIT.\n",
            "\n",
            "Increase the number of iterations (max_iter) or scale the data as shown in:\n",
            "    https://scikit-learn.org/stable/modules/preprocessing.html\n",
            "Please also refer to the documentation for alternative solver options:\n",
            "    https://scikit-learn.org/stable/modules/linear_model.html#logistic-regression\n",
            "  extra_warning_msg=_LOGISTIC_SOLVER_CONVERGENCE_MSG,\n"
          ]
        }
      ]
    },
    {
      "cell_type": "markdown",
      "source": [
        "* C가 3.5일 때 최고 정확도 0.8593"
      ],
      "metadata": {
        "id": "YgM699VqUZxU"
      }
    },
    {
      "cell_type": "code",
      "source": [
        "# 테스트 세트를 이용해 최종 감성 분석 예측 수행\n",
        "from sklearn.metrics import accuracy_score\n",
        "\n",
        "# 학습 데이터를 적용한 TfidfVectorizer를 이용해 테스트 데이터를 TF-IDF 값으로 피처 변환함\n",
        "# 학습 시 설정된 TfidfVectorizer의 피처 개수와 테스트 데이터를 TfidfVectorizer로 변환할 피처 개수를 같게 하기 위함\n",
        "tfidf_matrix_test = tfidf_vect.transform(test_df['document'])\n",
        "\n",
        "# classifer는 GridSearchCV에서 최적 파라미터로 학습된 classifier를 그대로 이용\n",
        "best_estimator = grid_cv.best_estimator_\n",
        "preds = best_estimator.predict(tfidf_matrix_test)\n",
        "\n",
        "print('Logistic Regression 정확도: ', accuracy_score(test_df['label'], preds))"
      ],
      "metadata": {
        "colab": {
          "base_uri": "https://localhost:8080/"
        },
        "id": "ej7aR6AaUUac",
        "outputId": "8cb29660-9c4d-43bb-9334-15c6e6610024"
      },
      "execution_count": 43,
      "outputs": [
        {
          "output_type": "stream",
          "name": "stdout",
          "text": [
            "Logistic Regression 정확도:  0.86186\n"
          ]
        }
      ]
    },
    {
      "cell_type": "markdown",
      "source": [
        "* Logistic Regression 정확도: 0.86186"
      ],
      "metadata": {
        "id": "T9OcTHkqWIye"
      }
    }
  ]
}