{
  "nbformat": 4,
  "nbformat_minor": 0,
  "metadata": {
    "colab": {
      "name": "ESAA_Week6_Text_Analytics_1.ipynb",
      "provenance": [],
      "collapsed_sections": [],
      "authorship_tag": "ABX9TyOqJk3OTHIzHGfeaGmG8m+z",
      "include_colab_link": true
    },
    "kernelspec": {
      "name": "python3",
      "display_name": "Python 3"
    },
    "language_info": {
      "name": "python"
    }
  },
  "cells": [
    {
      "cell_type": "markdown",
      "metadata": {
        "id": "view-in-github",
        "colab_type": "text"
      },
      "source": [
        "<a href=\"https://colab.research.google.com/github/statistics-jun/2022-1-ESAA/blob/main/ESAA_Week6_Text_Analytics_1.ipynb\" target=\"_parent\"><img src=\"https://colab.research.google.com/assets/colab-badge.svg\" alt=\"Open In Colab\"/></a>"
      ]
    },
    {
      "cell_type": "markdown",
      "source": [
        "# 2022-1 ESAA 5기 김혜준 개념 필사 - 0415(금) 6주차 과제\n",
        " \n",
        "## <파이썬 머신러닝 완벽 가이드>\n",
        "## Chapter 8 텍스트 분석"
      ],
      "metadata": {
        "id": "7eNoQt50yi4m"
      }
    },
    {
      "cell_type": "markdown",
      "source": [
        "* NLP : 머신이 인간의 언어를 이해하고 해석하는 데 더 중점을 두고 발전\n",
        "  - 텍스트 분석을 향상하게 하는 기반 기술\n",
        "* 텍스트 분석(텍스트 마이닝) : 비정형 텍스트에서 의미 있는 정보를 추출하는 것에 좀 더 중점을 두고 발전\n",
        "  - 머신러닝, 언어 이해, 통계 등을 활용해 모델을 수립하고 정보를 추출해 비즈니스 인텔리전스나 예측 분석 등의 분석 작업을 주로 수행\n",
        "    - 텍스트 분류 : 문서가 특정 분류 또는 카테고리에 속하는 것을 예측하는 기법 - 지도학습 적용\n",
        "    - 감성 분석 : 텍스트에서 나타나는 감정/판단/믿음/의견/기분 등의 주관적인 요소를 분석하는 기법, Text Analytics에서 가장 활발하게 사용되고 있는 분야 - 지도학습, 비지도학습 적용\n",
        "    - 텍스트 요약 : 텍스트 내에서 중요한 주제나 중심 사상을 추출하는 기법\n",
        "    - 텍스트 군집화와 유사도 측정 : 비슷한 유형의 문서에 대해 군집화를 수행하는 기법, 문서들간의 유사도를 측정해 비슷한 문서끼리 모을 수 있는 방법"
      ],
      "metadata": {
        "id": "5H811rawyw8Q"
      }
    },
    {
      "cell_type": "markdown",
      "source": [
        "### 01 텍스트 분석 이해\n",
        "* 피처 벡터화(피처 추출) : 텍스트를 word(또는 word의 일부분) 기반의 다수의 피처로 추출하고 이 피처에 단어 빈도수와 같은 숫자 값을 부여하여 텍스트를 단어의 조합인 벡터값으로 표현하여 변환하는 것\n",
        "  - BOW(Bag of Words), Word2Vec"
      ],
      "metadata": {
        "id": "k7tvbmYwBF4f"
      }
    },
    {
      "cell_type": "markdown",
      "source": [
        "#### 텍스트 분석 수행 프로세스\n",
        "1. 텍스트 사전 준비작업(텍스트 전처리) : 텍스트를 피처로 만들기 전에 미리 클렌징, 대/소문자 변경, 특수문자 삭제 등의 클렌징 작업, 단어(Word) 등의 토큰화 작업, 의미 없는 단어 제거 작업, 어근 추출 등의 텍스트 정규화 작업 수행\n",
        "2. 피터 벡터화/추출 : 사전 준비 작업으로 가공된 텍스트에서 피처를 추출하고 벡터 값 할당\n",
        "  - BOW(Bag of Words) : Count 기반, TF-IDF 기반\n",
        "  - Word2Vec\n",
        "3. ML 모델 수립 및 학습/예측/평가 : 피처 벡터화된 데이터 세트에 ML 모델을 적용해 학습/예측 및 평가 수행"
      ],
      "metadata": {
        "id": "0c9OoRnHCIHF"
      }
    },
    {
      "cell_type": "markdown",
      "source": [
        "#### 파이썬 기반의 NLP, 텍스트 분석 패키지\n",
        "* NLTK : 파이썬의 가장 대표적인 NLP 패키지, 방대한 데이터 세트와 서브 모듈을 가지고 있으며 NLP의 거의 모든 영역 커버, 수행 속도 때문에 실제 대량의 데이터기반에서는 제대로 활용되지 못함\n",
        "* Gensim : 토픽 모델링 분야에서 가장 두각을 나타내는 패키지, Word2Vec 구현 등의 신기능 제공, SpaCy와 함께 가장 많이 사용되는 NLP 패키지\n",
        "*SpaCy : 뛰어난 수행 성능으로 최근 가장 주목받는 NLP 패키지"
      ],
      "metadata": {
        "id": "p2_N6Y-pDSG2"
      }
    },
    {
      "cell_type": "markdown",
      "source": [
        "### 02 텍스트 사전 준비 작업(텍스트 전처리) - 텍스트 정규화\n",
        "* 텍스트 정규화 : 텍스트를 머신러닝 알고리즘이나 NLP 애플리케이션에 입력 데이터로 사용하기 위해 클렌징, 정제, 토큰화, 어근화 등의 다양한 텍스트 데이터의 사전 작업을 수행하는 것\n",
        "  - 클렌징\n",
        "  - 토큰화\n",
        "  - 필터링/스톱 워드 제거/철자 수정\n",
        "  - Stemming\n",
        "  - Lemmatization"
      ],
      "metadata": {
        "id": "uu-vZjdFEut7"
      }
    },
    {
      "cell_type": "markdown",
      "source": [
        "#### 클렌징\n",
        "텍스트에서 분석에 방해가 되는 불필요한 문자, 기호 등을 사전에 제거하는 작업"
      ],
      "metadata": {
        "id": "KTPWXGU6FeR0"
      }
    },
    {
      "cell_type": "markdown",
      "source": [
        "#### 텍스트 토큰화\n",
        "##### 문장 토큰화\n",
        "* 문장의 마침표(.), 개행문자(\\n) 등 문장의 마지막을 뜻하는 기호에 따라 분리\n",
        "* 정규 표현식에 따른 문장 토큰화도 가능\n",
        "* 각 문장이 가지는 시맨틱적인 의미가 중요한 요소로 사용될 때 사용\n",
        "* NTLK의 sent_tokenize() : 각각의 문장으로 구성된 list 객체 반환\n"
      ],
      "metadata": {
        "id": "hrxJ7XuoFzc1"
      }
    },
    {
      "cell_type": "code",
      "source": [
        "# 3개의 문장으로 이루어진 텍스트 문서를 문장으로 각각 분리하는 예제\n",
        "from nltk import sent_tokenize\n",
        "import nltk\n",
        "nltk.download('punkt') # 마침표, 개행 문자 등의 데이터 세트 다운로드\n",
        "\n",
        "text_sample = 'The Matrix is everywhere its all around us, here even in this room. \\\n",
        "               You can see it out your window or on your television. \\\n",
        "               You feel it when you go to work, or go to church or pay your taxes.'\n",
        "sentences = sent_tokenize(text=text_sample)\n",
        "print(type(sentences), len(sentences))\n",
        "print(sentences)"
      ],
      "metadata": {
        "colab": {
          "base_uri": "https://localhost:8080/"
        },
        "id": "S68D40HkDRuT",
        "outputId": "4fec3c32-57ac-49d6-86a9-185e89506c72"
      },
      "execution_count": 3,
      "outputs": [
        {
          "output_type": "stream",
          "name": "stdout",
          "text": [
            "[nltk_data] Downloading package punkt to /root/nltk_data...\n",
            "[nltk_data]   Package punkt is already up-to-date!\n",
            "<class 'list'> 3\n",
            "['The Matrix is everywhere its all around us, here even in this room.', 'You can see it out your window or on your television.', 'You feel it when you go to work, or go to church or pay your taxes.']\n"
          ]
        }
      ]
    },
    {
      "cell_type": "markdown",
      "source": [
        "##### 단어 토큰화\n",
        "* 공백, 콤마(,), 마침표(.), 개행문자 등으로 단어 분리\n",
        "* 정규 표현식을 이용해 다양한 유형으로 토큰화 수행 가능\n",
        "* Bag of Word와 같이 단어의 순서가 중요하지 않은 경우 문장 토큰화를 사용하지 않고 단어 토큰화만 사용해도 충분\n",
        "* NTLK의 word_tokenize() : 각각의 단어로 구성된 list 객체 반환\n",
        "* n-gram : 연속된 n개의 단어를 하나의 토큰화 단위로 분리 -> 단어 토큰화로 인해 문맥적인 의미가 무시되는 문제 해결\n"
      ],
      "metadata": {
        "id": "HXubUWRyGyIf"
      }
    },
    {
      "cell_type": "code",
      "execution_count": 4,
      "metadata": {
        "colab": {
          "base_uri": "https://localhost:8080/"
        },
        "id": "AOXgQu6ryh3i",
        "outputId": "7e7fb468-691a-4f98-f8ec-4083135d4147"
      },
      "outputs": [
        {
          "output_type": "stream",
          "name": "stdout",
          "text": [
            "<class 'list'> 15\n",
            "['The', 'Matrix', 'is', 'everywhere', 'its', 'all', 'around', 'us', ',', 'here', 'even', 'in', 'this', 'room', '.']\n"
          ]
        }
      ],
      "source": [
        "from nltk import word_tokenize\n",
        "\n",
        "sentence = \"The Matrix is everywhere its all around us, here even in this room.\"\n",
        "words = word_tokenize(sentence)\n",
        "print(type(words), len(words))\n",
        "print(words)"
      ]
    },
    {
      "cell_type": "code",
      "source": [
        "from nltk import word_tokenize, sent_tokenize\n",
        "\n",
        "# 여러 개의 문장으로 된 입력 데이터를 문장별로 단어 토큰화하게 만드는 함수 생성\n",
        "def tokenize_text(text):\n",
        "\n",
        "  # 문장별로 분리 토큰\n",
        "  sentences = sent_tokenize(text)\n",
        "  # 분리된 문장별 단어 토큰화\n",
        "  word_tokens = [word_tokenize(sentence) for sentence in sentences]\n",
        "  return word_tokens\n",
        "\n",
        "# 여러 문장에 대해 문장별 단어 토큰화 수행\n",
        "word_tokens = tokenize_text(text_sample)\n",
        "print(type(word_tokens), len(word_tokens))\n",
        "print(word_tokens)"
      ],
      "metadata": {
        "colab": {
          "base_uri": "https://localhost:8080/"
        },
        "id": "MA4MzNK9JfhA",
        "outputId": "14fd651e-db61-4c5e-ca9c-2f10a572fb23"
      },
      "execution_count": 5,
      "outputs": [
        {
          "output_type": "stream",
          "name": "stdout",
          "text": [
            "<class 'list'> 3\n",
            "[['The', 'Matrix', 'is', 'everywhere', 'its', 'all', 'around', 'us', ',', 'here', 'even', 'in', 'this', 'room', '.'], ['You', 'can', 'see', 'it', 'out', 'your', 'window', 'or', 'on', 'your', 'television', '.'], ['You', 'feel', 'it', 'when', 'you', 'go', 'to', 'work', ',', 'or', 'go', 'to', 'church', 'or', 'pay', 'your', 'taxes', '.']]\n"
          ]
        }
      ]
    },
    {
      "cell_type": "markdown",
      "source": [
        "#### 스톱 워드 제거\n",
        "* 스톱 워드 : 분석에 큰 의미가 없는 단어\n",
        "  - 문장을 구성하는 필수 문법 요소지만 문맥적으로 큰 의미가 없는 단어\n",
        "  \n",
        "    예) is, the, a, will"
      ],
      "metadata": {
        "id": "mkkLi_eDLNWv"
      }
    },
    {
      "cell_type": "code",
      "source": [
        "import nltk\n",
        "nltk.download('stopwords')"
      ],
      "metadata": {
        "colab": {
          "base_uri": "https://localhost:8080/"
        },
        "id": "0L-cLYNdMJ8h",
        "outputId": "72735f3b-78c0-40eb-ab18-bd444ba0e115"
      },
      "execution_count": 6,
      "outputs": [
        {
          "output_type": "stream",
          "name": "stdout",
          "text": [
            "[nltk_data] Downloading package stopwords to /root/nltk_data...\n",
            "[nltk_data]   Unzipping corpora/stopwords.zip.\n"
          ]
        },
        {
          "output_type": "execute_result",
          "data": {
            "text/plain": [
              "True"
            ]
          },
          "metadata": {},
          "execution_count": 6
        }
      ]
    },
    {
      "cell_type": "code",
      "source": [
        "print('영어 stop words 개수:', len(nltk.corpus.stopwords.words('english')))\n",
        "print(nltk.corpus.stopwords.words('english')[:20])"
      ],
      "metadata": {
        "colab": {
          "base_uri": "https://localhost:8080/"
        },
        "id": "qMRawQTpMPFG",
        "outputId": "22548de5-66ac-4fbe-de11-d9585707958e"
      },
      "execution_count": 7,
      "outputs": [
        {
          "output_type": "stream",
          "name": "stdout",
          "text": [
            "영어 stop words 개수: 179\n",
            "['i', 'me', 'my', 'myself', 'we', 'our', 'ours', 'ourselves', 'you', \"you're\", \"you've\", \"you'll\", \"you'd\", 'your', 'yours', 'yourself', 'yourselves', 'he', 'him', 'his']\n"
          ]
        }
      ]
    },
    {
      "cell_type": "code",
      "source": [
        "# word_tokens 리스트에서 stopwords를 필터링으로 제거해 분석을 위한 의미 있는 단어만 추출\n",
        "import nltk\n",
        "\n",
        "stopwords = nltk.corpus.stopwords.words('english')\n",
        "all_tokens = []\n",
        "# 위 예제에서 3개의 문장별로 얻은 word_tokens list에 대해 스톱 워드를 제거하는 반복문\n",
        "for sentence in word_tokens:\n",
        "  filtered_words = []\n",
        "  # 개별 문장별로 토큰화된 문장 list에 대해 스톱 워드를 제거하는 반복문\n",
        "  for word in sentence:\n",
        "    # 소문자로 모두 변환합니다.\n",
        "    word = word.lower()\n",
        "    # 토큰화된 개별 단어가 스톱 워드의 단어에 포함되지 않으면 word_tokens에 추가\n",
        "    if word not in stopwords:\n",
        "      filtered_words.append(word)\n",
        "  all_tokens.append(filtered_words)\n",
        "\n",
        "print(all_tokens)"
      ],
      "metadata": {
        "colab": {
          "base_uri": "https://localhost:8080/"
        },
        "id": "QGqB9bbfMlnX",
        "outputId": "f2c9333f-2d19-463c-ae36-d242acf8e53b"
      },
      "execution_count": 8,
      "outputs": [
        {
          "output_type": "stream",
          "name": "stdout",
          "text": [
            "[['matrix', 'everywhere', 'around', 'us', ',', 'even', 'room', '.'], ['see', 'window', 'television', '.'], ['feel', 'go', 'work', ',', 'go', 'church', 'pay', 'taxes', '.']]\n"
          ]
        }
      ]
    },
    {
      "cell_type": "markdown",
      "source": [
        "#### Stemming과 Lemmatization\n",
        "* 문법적 또는 의미적으로 변화하는 단어의 원형을 찾는 것\n",
        "*  Lemmatization이 Stemming보다 정교하며 의미론적인 기반에서 단어의 원형을 찾음\n",
        "  * Stemming : 원형 단어로 변환 시 일반적인 방법을 적용하거나 더 단순화된 방법을 적용해 원래 단어에서 일부 철자가 훼손된 어근 단어를 추출하는 경향이 있음\n",
        "    - NLTK의 Porter, Lancaster, Snowball Stemmer : 필요한 Stemmer 객체 생성한 뒤 이 객체의 stem('단어') 호출\n",
        "  * Lemmatization : 품사와 같은 문법적인 요소와 더 의미적인 부분을 감안해 정확한 철자로 된 어근 단어를 찾음\n",
        "    - NLTK의 WordNetLemmatizer : WordNetLemmatizer 객체.lemmatize('단어', '품사') 호출\n",
        "      - 품사 : 동사 'v', 형용사 'a'\n",
        "\n",
        "  -> Lemmatization이 Stemming보다 변환에 더 오랜 시간을 필요로 함\n"
      ],
      "metadata": {
        "id": "5ymJMW0_NhuR"
      }
    },
    {
      "cell_type": "code",
      "source": [
        "from nltk.stem import LancasterStemmer\n",
        "stemmer = LancasterStemmer()\n",
        "\n",
        "print(stemmer.stem('working'),stemmer.stem('works'),stemmer.stem('worked'))\n",
        "print(stemmer.stem('amusing'),stemmer.stem('amuses'),stemmer.stem('amused'))\n",
        "print(stemmer.stem('happier'),stemmer.stem('happiest'))\n",
        "print(stemmer.stem('fancier'),stemmer.stem('fanciest'))"
      ],
      "metadata": {
        "colab": {
          "base_uri": "https://localhost:8080/"
        },
        "id": "P_s7j-yvNfLd",
        "outputId": "cc22f270-da6e-490a-da3d-8c5b3a935eea"
      },
      "execution_count": 9,
      "outputs": [
        {
          "output_type": "stream",
          "name": "stdout",
          "text": [
            "work work work\n",
            "amus amus amus\n",
            "happy happiest\n",
            "fant fanciest\n"
          ]
        }
      ]
    },
    {
      "cell_type": "code",
      "source": [
        "from nltk.stem import WordNetLemmatizer\n",
        "import nltk\n",
        "nltk.download('wordnet')\n",
        "\n",
        "lemma = WordNetLemmatizer()\n",
        "print(lemma.lemmatize('amusing','v'),lemma.lemmatize('amuses','v'),lemma.lemmatize('amused','v'))\n",
        "print(lemma.lemmatize('happier','a'),lemma.lemmatize('happiest','a'))\n",
        "print(lemma.lemmatize('fancier','a'),lemma.lemmatize('fanciest','a'))"
      ],
      "metadata": {
        "colab": {
          "base_uri": "https://localhost:8080/"
        },
        "id": "NWPu2seWQEV0",
        "outputId": "5109114b-f15f-41c1-ab98-b5236aaa990f"
      },
      "execution_count": 10,
      "outputs": [
        {
          "output_type": "stream",
          "name": "stdout",
          "text": [
            "[nltk_data] Downloading package wordnet to /root/nltk_data...\n",
            "[nltk_data]   Unzipping corpora/wordnet.zip.\n",
            "amuse amuse amuse\n",
            "happy happy\n",
            "fancy fancy\n"
          ]
        }
      ]
    },
    {
      "cell_type": "markdown",
      "source": [
        "### 03 Bag of Words - BOW\n",
        "* Bag of Words : 문서가 가지는 모든 단어(Words)를 문맥이나 순서를 무시하고 일괄적으로 단어에 대해 빈도 값을 부여해 피처 값을 추출하는 모델\n",
        "  - 장점 : 쉽고 빠른 구축\n",
        "  - 단점\n",
        "    - 문맥 의미 반영 부족\n",
        "    - 희소 행렬 문제(희소성, 희소 행렬) : BOW로 피처 벡터화를 진행하면 희소 행렬 형태의 데이터 세트가 만들어지기 쉬움 \n",
        "    \n",
        "      -> ML 알고리즘의 수행 시간과 예측 성능 개선 위한 특별한 기법 적용 필요\n",
        "     \n",
        "     cf) 희소 행렬 : 대규모의 칼럼으로 구성된 행렬에서 대부분의 값이 0으로 채워지는 행렬\n",
        "     \n",
        "     <-> 밀집 행렬\n"
      ],
      "metadata": {
        "id": "O3L_0Nq6RSIM"
      }
    },
    {
      "cell_type": "markdown",
      "source": [
        "#### BOW 피처 벡터화\n",
        "모든 문서에서 모든 단어를 칼럼 형태로 나열하고 각 문서에서 해당 단어의 횟수나 정규화된 빈도를 값으로 부여하는 데이터 세트 모델로 변경\n",
        "\n",
        "* 방식\n",
        "  - 카운트 기반의 벡터화 : 각 문서에서 해당 단어가 나타나는 횟수(Count)를 부여\n",
        "    - 카운트 값이 높을수록 중요한 단어로 인식\n",
        "    - 문서의 특징을 나타내기보다는 언어의 특성상 문장에서 자주 사용될 수밖에 없는 단어까지 높은 값을 부여하는 문제 발생\n",
        "  - TF-IDF 기반의 벡터화 : 개별 문서에서 자주 나타나는 단어에 높은 가중치를 주되, 모든 문서에서 전반적으로 자주 나타나는 단어에 대해서는 패널티를 주는 방식으로 값을 부여\n",
        "    - 문서마다 텍스트의 길이가 길고 문서의 개수가 많은 경우 더 좋은 예측 성능 보장"
      ],
      "metadata": {
        "id": "FwjjFuhcTs-c"
      }
    },
    {
      "cell_type": "markdown",
      "source": [
        "#### 사이킷런의 Count 및 TF-IDF 벡터화 구현: CountVectorizer, TfidfVectorizer\n",
        "* CountVectorizer : 카운트 기반의 벡터화를 구현한 클래스\n",
        "  - 피처 벡터화뿐만 아니라 소문자 일괄 변환, 토큰화, 스톱 워드 필터링 등의 텍스트 전처리도 함꼐 수행\n",
        "  - 입력 파라미터\n",
        "    - max_df : 전체 문서에 걸쳐서 너무 높은 빈도수를 가지는 단어 피처를 제외\n",
        "    - min_df : 전체 문서에 걸쳐서 너무 낮은 빈도수를 가지는 단어 피처를 제외\n",
        "    - max_features : 추출하는 피처의 개수를 제한하며 정수로 값을 지정\n",
        "    - stop_words : 특정 언어의 스톱워드로 지정단 단어는 추출에서 제외\n",
        "    - n_gram_range : BOW 모델의 단어 순서를 어느 정도 보강하기 위한 n_gram 범위를 설정, 튜플 형태로 (범위 최솟값, 범위 최댓값)을 지정\n",
        "    - analyzer : 피처 추출을 수행한 단위를 지정\n",
        "    - token_pattern : 토큰화를 수행하는 정규 표현식 패턴을 지정\n",
        "    - tokenizer : 토큰화를 별도의 커스텀 함수로 이용시 적용\n",
        "  - fit(), transform()을 통해 피처 벡터화된 객체 반환\n",
        "  ![image.png](data:image/png;base64,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)\n",
        "\n",
        "* TfidfVectorizer : TF-IDF 기반의 벡터화를 구현한 클래스\n"
      ],
      "metadata": {
        "id": "6qhRGDkNYKkA"
      }
    },
    {
      "cell_type": "markdown",
      "source": [
        "#### BOW 벡터화를 위한 희소 행렬\n",
        "* 희소 행렬은 너무 많은 불필요한 0 값이 메모리 공간에 할당되어 메모리 공간이 많이 필요하며 행렬의 크기가 커서 연산 시에도 데이터 액세스를 위한 시간이 많이 소모\n",
        "* 희소 행렬이 물리적으로 적은 메모리 공간을 차지하도록 변환하는 방법\n",
        "  - COO 형식\n",
        "  - CSR 형식\n",
        "  \n",
        "  -> 큰 희소 행렬을 저장하고 계산을 수행하는 능력이 더 뛰어나기 때문에 CSR 형식을 많이 사용\n",
        "\n",
        "* 사이킷런의 CountVectorizer나 TfidfVectorizer 클래스로 변환된 피처 벡터화 행렬은 모두 사이파이의 CSR 형태의 희소 행렬"
      ],
      "metadata": {
        "id": "ZTatS1lUdIB2"
      }
    },
    {
      "cell_type": "markdown",
      "source": [
        "#### 희소 행렬 - COO 형식\n",
        "* 0이 아닌 데이터만 별도의 데이터 배열에 저장하고, 그 데이터가 가리키는 행과 열의 위치를 별도의 배열로 저장하는 방식\n",
        "* Scipy sparse 패키지의 coo_matrix 클래스 이용"
      ],
      "metadata": {
        "id": "Lf7iwuBCehFR"
      }
    },
    {
      "cell_type": "code",
      "source": [
        "import numpy as np\n",
        "\n",
        "dense = np.array( [ [ 3, 0, 1 ], [0, 2, 0 ] ] )"
      ],
      "metadata": {
        "id": "2taJlKnlRyTw"
      },
      "execution_count": 11,
      "outputs": []
    },
    {
      "cell_type": "code",
      "source": [
        "from scipy import sparse\n",
        "\n",
        "# 0이 아닌 데이터 추출\n",
        "data = np.array([3, 1, 2])\n",
        "\n",
        "# 행 위치와 열 위치를 각각 배열로 생성\n",
        "row_pos = np.array([0, 0, 1])\n",
        "col_pos = np.array([0, 2, 1])\n",
        "\n",
        "# sparse 패키지의 coo_matrix를 이용해 COO 형식으로 희소 행렬 생성\n",
        "sparse_coo = sparse.coo_matrix((data, (row_pos, col_pos)))"
      ],
      "metadata": {
        "id": "_w5PfYeOfVo1"
      },
      "execution_count": 14,
      "outputs": []
    },
    {
      "cell_type": "code",
      "source": [
        "# 밀집 형태의 행렬로 출력\n",
        "sparse_coo.toarray()"
      ],
      "metadata": {
        "colab": {
          "base_uri": "https://localhost:8080/"
        },
        "id": "V1uEOkC-gb10",
        "outputId": "0739243f-2d44-48ba-d08e-281dff03ee2a"
      },
      "execution_count": 15,
      "outputs": [
        {
          "output_type": "execute_result",
          "data": {
            "text/plain": [
              "array([[3, 0, 1],\n",
              "       [0, 2, 0]])"
            ]
          },
          "metadata": {},
          "execution_count": 15
        }
      ]
    },
    {
      "cell_type": "markdown",
      "source": [
        "#### 희소 행렬 - CSR 형식\n",
        "* 행 위치 배열 내에 있는 고유한 값의 시작 위치만 다시 별도의 위치 배열로 가지는 변환 방식\n",
        "\n",
        "  -> COO 형식이 행과 열의 위치를 나타내기 위해서 반복적인 위치 데이터를 사용해야 하는 문제점을 해결\n",
        "* Scipy sparse 패키지의 csr_matrix 클래스 이용"
      ],
      "metadata": {
        "id": "lzWNAunngi-9"
      }
    },
    {
      "cell_type": "code",
      "source": [
        "from scipy import sparse\n",
        "\n",
        "dense2 = np.array([[0,0,1,0,0,5],\n",
        "                   [1,4,0,3,2,5],\n",
        "                   [0,6,0,3,0,0],\n",
        "                   [2,0,0,0,0,0],\n",
        "                   [0,0,0,7,0,8],\n",
        "                   [1,0,0,0,0,0]])\n",
        "\n",
        "# 0 이 아닌 데이터 추출\n",
        "data2 = np.array([1, 5, 1, 4, 3, 2, 5, 6, 3, 2, 7, 8, 1])\n",
        "\n",
        "# 행 위치와 열 위치를 각각 배열로 생성\n",
        "row_pos = np.array([0, 0, 1, 1, 1, 1, 1, 2, 2, 3, 4, 4, 5])\n",
        "col_pos = np.array([2, 5, 0, 1, 3, 4, 5, 1, 3, 0, 3, 5, 0])\n",
        "\n",
        "# COO 형식으로 변환 \n",
        "sparse_coo = sparse.coo_matrix((data2, (row_pos, col_pos)))\n",
        "\n",
        "# 행 위치 배열의 고유한 값의 시작 위치 인덱스를 배열로 생성\n",
        "row_pos_ind = np.array([0, 2, 7, 9, 10, 12, 13])\n",
        "\n",
        "# CSR 형식으로 변환 \n",
        "sparse_csr = sparse.csr_matrix((data2, col_pos, row_pos_ind))\n",
        "\n",
        "print('COO 변환된 데이터가 제대로 되었는지 다시 Dense로 출력 확인')\n",
        "print(sparse_coo.toarray())\n",
        "print('CSR 변환된 데이터가 제대로 되었는지 다시 Dense로 출력 확인')\n",
        "print(sparse_csr.toarray())"
      ],
      "metadata": {
        "colab": {
          "base_uri": "https://localhost:8080/"
        },
        "id": "RlCOKfc0gfQg",
        "outputId": "aadb90a4-2df1-48dd-ad64-a4367875486f"
      },
      "execution_count": 16,
      "outputs": [
        {
          "output_type": "stream",
          "name": "stdout",
          "text": [
            "COO 변환된 데이터가 제대로 되었는지 다시 Dense로 출력 확인\n",
            "[[0 0 1 0 0 5]\n",
            " [1 4 0 3 2 5]\n",
            " [0 6 0 3 0 0]\n",
            " [2 0 0 0 0 0]\n",
            " [0 0 0 7 0 8]\n",
            " [1 0 0 0 0 0]]\n",
            "CSR 변환된 데이터가 제대로 되었는지 다시 Dense로 출력 확인\n",
            "[[0 0 1 0 0 5]\n",
            " [1 4 0 3 2 5]\n",
            " [0 6 0 3 0 0]\n",
            " [2 0 0 0 0 0]\n",
            " [0 0 0 7 0 8]\n",
            " [1 0 0 0 0 0]]\n"
          ]
        }
      ]
    },
    {
      "cell_type": "markdown",
      "source": [
        "* 실제 사용 시에는 밀집 행렬을 생성 파라미터로 입력하면 COO나 CSR 희소 생렬로 생성"
      ],
      "metadata": {
        "id": "10-_0yvvirba"
      }
    },
    {
      "cell_type": "code",
      "source": [
        "dense3 = np.array([[0,0,1,0,0,5],\n",
        "                   [1,4,0,3,2,5],\n",
        "                   [0,6,0,3,0,0],\n",
        "                   [2,0,0,0,0,0],\n",
        "                   [0,0,0,7,0,8],\n",
        "                   [1,0,0,0,0,0]])\n",
        "\n",
        "coo = sparse.coo_matrix(dense3)\n",
        "csr = sparse.csr_matrix(dense3)"
      ],
      "metadata": {
        "id": "Vz03mEU5iw0g"
      },
      "execution_count": 17,
      "outputs": []
    },
    {
      "cell_type": "markdown",
      "source": [
        "### 05 감성 분석\n",
        "#### 감성 분석 소개\n",
        "* 문서의 주관적인 감성/의견/감정/의견/기분 등을 파악하기 위한 방법\n",
        "* 소셜 미디아, 여론조사, 온라인 리뷰, 피드백 등 다양한 분야에서 활용\n",
        "* 문서 내 텍스트가 나타내는 여러 가지 주관적인 단어와 문맥을 기반으로 감성 수치를 계산하는 방법 이용\n",
        "  - 감성 지수\n",
        "    - 긍정 감성 지수\n",
        "    - 부정 감성 지수\n",
        "    \n",
        "    -> 이들 지수를 합산해 긍정 감성 또는 부정 감성 결정\n",
        "\n",
        "* 머신러닝 관점에서 감성 분석의 방식\n",
        "  - 지도학습 : 학습 데이터와 타깃 데이터 레이블 값을 기반으로 감성 분석 학습을 수행 -> 다른 데이터의 감성 분석 예측, 일반적인 텍스트 기반의 분류와 거의 동일\n",
        "  - 비지도학습 : 감성 어휘 사전 'Lexicon' 이용\n",
        "  \n",
        "   - Lexicon : 감성 분석을 위한 용어와 문맥에 대한 다양한 정보를 가지고 있으며, 이를 이용해 문서의 긍정적, 부정적 감성 여부를 판단\n"
      ],
      "metadata": {
        "id": "8OuRtyzjjlI4"
      }
    },
    {
      "cell_type": "markdown",
      "source": [
        "#### 지도학습 기반 감성 분석 실습 - IMDB 영화평\n"
      ],
      "metadata": {
        "id": "8GFkHUrxlbm4"
      }
    },
    {
      "cell_type": "code",
      "source": [
        "from google.colab import drive\n",
        "drive.mount('/content/drive')"
      ],
      "metadata": {
        "colab": {
          "base_uri": "https://localhost:8080/"
        },
        "id": "UWjSO0ekoeoL",
        "outputId": "07ecf33a-d2ab-4b19-9a42-7aede3fc36e7"
      },
      "execution_count": 20,
      "outputs": [
        {
          "output_type": "stream",
          "name": "stdout",
          "text": [
            "Mounted at /content/drive\n"
          ]
        }
      ]
    },
    {
      "cell_type": "code",
      "source": [
        "import pandas as pd\n",
        "\n",
        "review_df = pd.read_csv('/content/drive/MyDrive/ESAA/2022-1/과제/개념 필사/0415(금) 6주차 과제_텍스트 분석(1)/labeledTrainData.tsv', header=0, sep=\"\\t\", quoting=3) # 칼럼이 탭(\\t)으로 분리\n",
        "review_df.head(3)"
      ],
      "metadata": {
        "colab": {
          "base_uri": "https://localhost:8080/",
          "height": 143
        },
        "id": "Ih2QEbqYovz1",
        "outputId": "cbc3c061-f86d-42cc-c004-76c8fff774ce"
      },
      "execution_count": 21,
      "outputs": [
        {
          "output_type": "execute_result",
          "data": {
            "text/plain": [
              "         id  sentiment                                             review\n",
              "0  \"5814_8\"          1  \"With all this stuff going down at the moment ...\n",
              "1  \"2381_9\"          1  \"\\\"The Classic War of the Worlds\\\" by Timothy ...\n",
              "2  \"7759_3\"          0  \"The film starts with a manager (Nicholas Bell..."
            ],
            "text/html": [
              "\n",
              "  <div id=\"df-de98186e-88ed-4f88-8b77-77a462eadf90\">\n",
              "    <div class=\"colab-df-container\">\n",
              "      <div>\n",
              "<style scoped>\n",
              "    .dataframe tbody tr th:only-of-type {\n",
              "        vertical-align: middle;\n",
              "    }\n",
              "\n",
              "    .dataframe tbody tr th {\n",
              "        vertical-align: top;\n",
              "    }\n",
              "\n",
              "    .dataframe thead th {\n",
              "        text-align: right;\n",
              "    }\n",
              "</style>\n",
              "<table border=\"1\" class=\"dataframe\">\n",
              "  <thead>\n",
              "    <tr style=\"text-align: right;\">\n",
              "      <th></th>\n",
              "      <th>id</th>\n",
              "      <th>sentiment</th>\n",
              "      <th>review</th>\n",
              "    </tr>\n",
              "  </thead>\n",
              "  <tbody>\n",
              "    <tr>\n",
              "      <th>0</th>\n",
              "      <td>\"5814_8\"</td>\n",
              "      <td>1</td>\n",
              "      <td>\"With all this stuff going down at the moment ...</td>\n",
              "    </tr>\n",
              "    <tr>\n",
              "      <th>1</th>\n",
              "      <td>\"2381_9\"</td>\n",
              "      <td>1</td>\n",
              "      <td>\"\\\"The Classic War of the Worlds\\\" by Timothy ...</td>\n",
              "    </tr>\n",
              "    <tr>\n",
              "      <th>2</th>\n",
              "      <td>\"7759_3\"</td>\n",
              "      <td>0</td>\n",
              "      <td>\"The film starts with a manager (Nicholas Bell...</td>\n",
              "    </tr>\n",
              "  </tbody>\n",
              "</table>\n",
              "</div>\n",
              "      <button class=\"colab-df-convert\" onclick=\"convertToInteractive('df-de98186e-88ed-4f88-8b77-77a462eadf90')\"\n",
              "              title=\"Convert this dataframe to an interactive table.\"\n",
              "              style=\"display:none;\">\n",
              "        \n",
              "  <svg xmlns=\"http://www.w3.org/2000/svg\" height=\"24px\"viewBox=\"0 0 24 24\"\n",
              "       width=\"24px\">\n",
              "    <path d=\"M0 0h24v24H0V0z\" fill=\"none\"/>\n",
              "    <path d=\"M18.56 5.44l.94 2.06.94-2.06 2.06-.94-2.06-.94-.94-2.06-.94 2.06-2.06.94zm-11 1L8.5 8.5l.94-2.06 2.06-.94-2.06-.94L8.5 2.5l-.94 2.06-2.06.94zm10 10l.94 2.06.94-2.06 2.06-.94-2.06-.94-.94-2.06-.94 2.06-2.06.94z\"/><path d=\"M17.41 7.96l-1.37-1.37c-.4-.4-.92-.59-1.43-.59-.52 0-1.04.2-1.43.59L10.3 9.45l-7.72 7.72c-.78.78-.78 2.05 0 2.83L4 21.41c.39.39.9.59 1.41.59.51 0 1.02-.2 1.41-.59l7.78-7.78 2.81-2.81c.8-.78.8-2.07 0-2.86zM5.41 20L4 18.59l7.72-7.72 1.47 1.35L5.41 20z\"/>\n",
              "  </svg>\n",
              "      </button>\n",
              "      \n",
              "  <style>\n",
              "    .colab-df-container {\n",
              "      display:flex;\n",
              "      flex-wrap:wrap;\n",
              "      gap: 12px;\n",
              "    }\n",
              "\n",
              "    .colab-df-convert {\n",
              "      background-color: #E8F0FE;\n",
              "      border: none;\n",
              "      border-radius: 50%;\n",
              "      cursor: pointer;\n",
              "      display: none;\n",
              "      fill: #1967D2;\n",
              "      height: 32px;\n",
              "      padding: 0 0 0 0;\n",
              "      width: 32px;\n",
              "    }\n",
              "\n",
              "    .colab-df-convert:hover {\n",
              "      background-color: #E2EBFA;\n",
              "      box-shadow: 0px 1px 2px rgba(60, 64, 67, 0.3), 0px 1px 3px 1px rgba(60, 64, 67, 0.15);\n",
              "      fill: #174EA6;\n",
              "    }\n",
              "\n",
              "    [theme=dark] .colab-df-convert {\n",
              "      background-color: #3B4455;\n",
              "      fill: #D2E3FC;\n",
              "    }\n",
              "\n",
              "    [theme=dark] .colab-df-convert:hover {\n",
              "      background-color: #434B5C;\n",
              "      box-shadow: 0px 1px 3px 1px rgba(0, 0, 0, 0.15);\n",
              "      filter: drop-shadow(0px 1px 2px rgba(0, 0, 0, 0.3));\n",
              "      fill: #FFFFFF;\n",
              "    }\n",
              "  </style>\n",
              "\n",
              "      <script>\n",
              "        const buttonEl =\n",
              "          document.querySelector('#df-de98186e-88ed-4f88-8b77-77a462eadf90 button.colab-df-convert');\n",
              "        buttonEl.style.display =\n",
              "          google.colab.kernel.accessAllowed ? 'block' : 'none';\n",
              "\n",
              "        async function convertToInteractive(key) {\n",
              "          const element = document.querySelector('#df-de98186e-88ed-4f88-8b77-77a462eadf90');\n",
              "          const dataTable =\n",
              "            await google.colab.kernel.invokeFunction('convertToInteractive',\n",
              "                                                     [key], {});\n",
              "          if (!dataTable) return;\n",
              "\n",
              "          const docLinkHtml = 'Like what you see? Visit the ' +\n",
              "            '<a target=\"_blank\" href=https://colab.research.google.com/notebooks/data_table.ipynb>data table notebook</a>'\n",
              "            + ' to learn more about interactive tables.';\n",
              "          element.innerHTML = '';\n",
              "          dataTable['output_type'] = 'display_data';\n",
              "          await google.colab.output.renderOutput(dataTable, element);\n",
              "          const docLink = document.createElement('div');\n",
              "          docLink.innerHTML = docLinkHtml;\n",
              "          element.appendChild(docLink);\n",
              "        }\n",
              "      </script>\n",
              "    </div>\n",
              "  </div>\n",
              "  "
            ]
          },
          "metadata": {},
          "execution_count": 21
        }
      ]
    },
    {
      "cell_type": "markdown",
      "source": [
        "* id : 각 데이터의 id\n",
        "* sentiment : 영화평(review)의 Sentiment 결과 값(Target Label). 1은 긍정적 평가, 0은 부정적 평가를 의미\n",
        "* review : 영화평의 텍스트"
      ],
      "metadata": {
        "id": "IxR_TOD2qgc2"
      }
    },
    {
      "cell_type": "code",
      "source": [
        "print(review_df['review'][0])"
      ],
      "metadata": {
        "colab": {
          "base_uri": "https://localhost:8080/"
        },
        "id": "TmNPEaDVpHPy",
        "outputId": "c2528e7f-8061-4d8c-fe6f-b27db4e6c81c"
      },
      "execution_count": 22,
      "outputs": [
        {
          "output_type": "stream",
          "name": "stdout",
          "text": [
            "\"With all this stuff going down at the moment with MJ i've started listening to his music, watching the odd documentary here and there, watched The Wiz and watched Moonwalker again. Maybe i just want to get a certain insight into this guy who i thought was really cool in the eighties just to maybe make up my mind whether he is guilty or innocent. Moonwalker is part biography, part feature film which i remember going to see at the cinema when it was originally released. Some of it has subtle messages about MJ's feeling towards the press and also the obvious message of drugs are bad m'kay.<br /><br />Visually impressive but of course this is all about Michael Jackson so unless you remotely like MJ in anyway then you are going to hate this and find it boring. Some may call MJ an egotist for consenting to the making of this movie BUT MJ and most of his fans would say that he made it for the fans which if true is really nice of him.<br /><br />The actual feature film bit when it finally starts is only on for 20 minutes or so excluding the Smooth Criminal sequence and Joe Pesci is convincing as a psychopathic all powerful drug lord. Why he wants MJ dead so bad is beyond me. Because MJ overheard his plans? Nah, Joe Pesci's character ranted that he wanted people to know it is he who is supplying drugs etc so i dunno, maybe he just hates MJ's music.<br /><br />Lots of cool things in this like MJ turning into a car and a robot and the whole Speed Demon sequence. Also, the director must have had the patience of a saint when it came to filming the kiddy Bad sequence as usually directors hate working with one kid let alone a whole bunch of them performing a complex dance scene.<br /><br />Bottom line, this movie is for people who like MJ on one level or another (which i think is most people). If not, then stay away. It does try and give off a wholesome message and ironically MJ's bestest buddy in this movie is a girl! Michael Jackson is truly one of the most talented people ever to grace this planet but is he guilty? Well, with all the attention i've gave this subject....hmmm well i don't know because people can be different behind closed doors, i know this for a fact. He is either an extremely nice but stupid guy or one of the most sickest liars. I hope he is not the latter.\"\n"
          ]
        }
      ]
    },
    {
      "cell_type": "markdown",
      "source": [
        "* review 칼럼의 텍스트\n",
        "  - HTML 형식에서 추출해 `<br />` 태그가 존재\n",
        "  \n",
        "    -> replace를 str에 적용해 `<br />` 태그를 공백으로 모두 바꿈\n",
        "  - 영어가 아닌 숫자/특수문자 존재\n",
        "\n",
        "    -> 정규 표현식 [^a-zA-Z] 이용 : 영어 대/소문자가 아닌 모든 문자 찾음\n",
        "    \n",
        "    -> re.sub(\"[^a-zA-Z]\", \" \", x)을 통해 영어 대/소문자가 아닌 모든 문자를 공란으로 변경"
      ],
      "metadata": {
        "id": "PWwzZ7YKq2zs"
      }
    },
    {
      "cell_type": "code",
      "source": [
        "import re # 정규 표현식 지원\n",
        "\n",
        "# <br> html 태그는 replace 함수로 공백으로 변환\n",
        "review_df['review'] = review_df['review'].str.replace('<br />', ' ')\n",
        "\n",
        "# 파이썬의 정규 표현식 모듈인 re를 이용해 영어 문자열이 아닌 문자는 모두 공백으로 변환 \n",
        "review_df['review'] = review_df['review'].apply( lambda x : re.sub(\"[^a-zA-Z]\", \" \", x) )"
      ],
      "metadata": {
        "id": "f4czyWAvphbH"
      },
      "execution_count": 23,
      "outputs": []
    },
    {
      "cell_type": "code",
      "source": [
        "from sklearn.model_selection import train_test_split\n",
        "\n",
        "class_df = review_df['sentiment'] # 결정 값 데이터 세트\n",
        "feature_df = review_df.drop(['id', 'sentiment'], axis=1, inplace=False) # 피처 데이터 세트\n",
        "\n",
        "X_train, X_test, y_train, y_test = train_test_split(feature_df, class_df, test_size=0.3, random_state=156)\n",
        "\n",
        "X_train.shape, X_test.shape"
      ],
      "metadata": {
        "colab": {
          "base_uri": "https://localhost:8080/"
        },
        "id": "IQ00ireVp4gO",
        "outputId": "2e6eeec0-3af0-470f-e7dd-2b5c70b5dc63"
      },
      "execution_count": 24,
      "outputs": [
        {
          "output_type": "execute_result",
          "data": {
            "text/plain": [
              "((17500, 1), (7500, 1))"
            ]
          },
          "metadata": {},
          "execution_count": 24
        }
      ]
    },
    {
      "cell_type": "code",
      "source": [
        "# 감상평 텍스트를 피처 벡터화한 후 ML 분류 알고리즘을 적용해 예측 성능 측정 - CountVectorizer\n",
        "from sklearn.feature_extraction.text import CountVectorizer, TfidfVectorizer\n",
        "from sklearn.pipeline import Pipeline # 두 가지 작업 한꺼번에 수행\n",
        "from sklearn.linear_model import LogisticRegression\n",
        "from sklearn.metrics import accuracy_score, roc_auc_score # 이진 분류임을 고려해 테스트 데이터 세트의 정확도와 ROC-AUC 모두 측정\n",
        "\n",
        "# 스톱 워드는 English, filtering, ngram은 (1,2)로 설정해 CountVectorization 수행\n",
        "# LogisticRegression의 C는 10으로 설정\n",
        "pipeline = Pipeline([\n",
        "    ('cnt_vect', CountVectorizer(stop_words='english', ngram_range=(1,2) )),\n",
        "    ('lr_clf', LogisticRegression(C=10))])\n",
        "\n",
        "# Pipeline 객체를 이용해 fit(), predict()로 학습/예측 수행. predict_proba()는 roc_auc 때문에 수행  \n",
        "pipeline.fit(X_train['review'], y_train)\n",
        "pred = pipeline.predict(X_test['review'])\n",
        "pred_probs = pipeline.predict_proba(X_test['review'])[:,1]\n",
        "\n",
        "print('예측 정확도는 {0:.4f}, ROC-AUC는 {1:.4f}'.format(accuracy_score(y_test ,pred),\n",
        "                                                        roc_auc_score(y_test, pred_probs)))"
      ],
      "metadata": {
        "colab": {
          "base_uri": "https://localhost:8080/"
        },
        "id": "nH5s8I4ss65_",
        "outputId": "73d27ea3-6a51-4f38-e0ca-1961344d7e76"
      },
      "execution_count": 25,
      "outputs": [
        {
          "output_type": "stream",
          "name": "stderr",
          "text": [
            "/usr/local/lib/python3.7/dist-packages/sklearn/linear_model/_logistic.py:818: ConvergenceWarning: lbfgs failed to converge (status=1):\n",
            "STOP: TOTAL NO. of ITERATIONS REACHED LIMIT.\n",
            "\n",
            "Increase the number of iterations (max_iter) or scale the data as shown in:\n",
            "    https://scikit-learn.org/stable/modules/preprocessing.html\n",
            "Please also refer to the documentation for alternative solver options:\n",
            "    https://scikit-learn.org/stable/modules/linear_model.html#logistic-regression\n",
            "  extra_warning_msg=_LOGISTIC_SOLVER_CONVERGENCE_MSG,\n"
          ]
        },
        {
          "output_type": "stream",
          "name": "stdout",
          "text": [
            "예측 정확도는 0.8860, ROC-AUC는 0.9503\n"
          ]
        }
      ]
    },
    {
      "cell_type": "code",
      "source": [
        "# 감상평 텍스트를 피처 벡터화한 후 ML 분류 알고리즘을 적용해 예측 성능 측정 - TfidfVectorizer\n",
        "# 스톱 워드는 English, filtering, ngram은 (1,2)로 설정해 TF-IDF 벡터화 수행\n",
        "# LogisticRegression의 C는 10으로 설정\n",
        "pipeline = Pipeline([\n",
        "    ('tfidf_vect', TfidfVectorizer(stop_words='english', ngram_range=(1,2) )),\n",
        "    ('lr_clf', LogisticRegression(C=10))])\n",
        "\n",
        "pipeline.fit(X_train['review'], y_train)\n",
        "pred = pipeline.predict(X_test['review'])\n",
        "pred_probs = pipeline.predict_proba(X_test['review'])[:,1]\n",
        "\n",
        "print('예측 정확도는 {0:.4f}, ROC-AUC는 {1:.4f}'.format(accuracy_score(y_test ,pred),\n",
        "                                                        roc_auc_score(y_test, pred_probs)))"
      ],
      "metadata": {
        "colab": {
          "base_uri": "https://localhost:8080/"
        },
        "id": "6HzYjgM3t08B",
        "outputId": "7e666a03-806a-4e43-e9a2-a66000d40ce5"
      },
      "execution_count": 26,
      "outputs": [
        {
          "output_type": "stream",
          "name": "stdout",
          "text": [
            "예측 정확도는 0.8936, ROC-AUC는 0.9598\n"
          ]
        }
      ]
    },
    {
      "cell_type": "markdown",
      "source": [
        "* TF-IDF 기반 피처 벡터화의 예측 성능이 조금 더 나아짐"
      ],
      "metadata": {
        "id": "95VweQpOucF0"
      }
    },
    {
      "cell_type": "markdown",
      "source": [
        "#### 비지도학습 기반 감성 분석 소개\n",
        "* Lexicon 기반\n",
        "  - 결정된 레이블 값을 가지고 있지 않을 때 유용하게 사용\n",
        "* Lexicon : 주로 감성만을 분석하기 위해 지원하는 감성 어휘 사전(감성 사전)\n",
        "  - 감성 지수 : 감성 사전이 갖는 긍정 감성 또는 부정 감성의 정도를 의미하는 수치, 단어의 위치나 주변 단어, 문맥, POS(Part of Speech) 등을 참고해 결정\n",
        "  - NLTK 패키지 내 Lexicon 모듈 포함\n",
        "* NLP 패키지의 WordNet : 방대한 영어 어휘 사전\n",
        "  - 시맨틱 분석 제공 : 다양한 상황에서 같은 어휘라도 다르게 사용되는 어휘의 시맨틱 정보 제공\n",
        "\n",
        "    cf) 시맨틱 : 문맥상 의미\n",
        "  \n",
        "    -> 각각의 품사로 구성된 개별 단어를 Synset(Sets of cognitive synonyms) 개념을 이용해 표현\n",
        "\n",
        "      - Synset : 단어가 가지는 문맥, 시맨틱 정보를 제공하는 WordNet의 핵심 개념\n",
        "* NLTK의 감성 사전은 예측 성능이 그리 좋지 못하다는 단점 존재 -> 실제 업무는 다른 감성 사전을 적용하는 것이 일반적\n",
        "* 대표적인 감성 사전\n",
        "  - SentiWordNet : NLTK 패키지의 WordNet과 유사하게 감성 단어 전용의 WordNet을 구현, 예측 정확도가 그리 높지 않아 잘 사용하지 않음,  WordNet의 Synset 개념을 감성 분석에 적용\n",
        "    \n",
        "    -> Synset별로 3가지 감성 점수(긍정 감성 지수, 부정 감성 지수, 객관성 지수) 할당\n",
        "    \n",
        "    -> 문장별로 단어들의 긍정 감성 지수와 부정 감성 지수를 합산하여 최종 감성 지수 계산\n",
        "    \n",
        "    -> 감성이 긍정인지 부정인지 결정\n",
        "  - VADER : 주로 소셜 미디어의 텍스트에 대한 감성 분석을 제공하기 위한 패키지, 뛰어난 감성 분석 결과 제공, 비교적 빠른 수행 시간 보장 -> 대용량 텍스트 데이터에 잘 사용\n",
        "  - Pattern : 예측 성능 측면에서 가장 주목받는 패키지, 파이썬 2.X 버전에서만 동작\n",
        "\n",
        "    \n"
      ],
      "metadata": {
        "id": "ngiUoPBUujzZ"
      }
    },
    {
      "cell_type": "markdown",
      "source": [
        "#### SentiWordNet을 이용한 감성 분석\n",
        "##### WordNet Synset과 SentiWordNet SentiSynset 클래스의 이해"
      ],
      "metadata": {
        "id": "AB68PnRI0AJi"
      }
    },
    {
      "cell_type": "code",
      "source": [
        "import nltk\n",
        "nltk.download('all')"
      ],
      "metadata": {
        "colab": {
          "base_uri": "https://localhost:8080/"
        },
        "id": "wL_HtyzszjJO",
        "outputId": "0bcff592-a714-4fc5-c13d-7bb884b37aba"
      },
      "execution_count": 27,
      "outputs": [
        {
          "output_type": "stream",
          "name": "stdout",
          "text": [
            "[nltk_data] Downloading collection 'all'\n",
            "[nltk_data]    | \n",
            "[nltk_data]    | Downloading package abc to /root/nltk_data...\n",
            "[nltk_data]    |   Unzipping corpora/abc.zip.\n",
            "[nltk_data]    | Downloading package alpino to /root/nltk_data...\n",
            "[nltk_data]    |   Unzipping corpora/alpino.zip.\n",
            "[nltk_data]    | Downloading package averaged_perceptron_tagger to\n",
            "[nltk_data]    |     /root/nltk_data...\n",
            "[nltk_data]    |   Unzipping taggers/averaged_perceptron_tagger.zip.\n",
            "[nltk_data]    | Downloading package averaged_perceptron_tagger_ru to\n",
            "[nltk_data]    |     /root/nltk_data...\n",
            "[nltk_data]    |   Unzipping\n",
            "[nltk_data]    |       taggers/averaged_perceptron_tagger_ru.zip.\n",
            "[nltk_data]    | Downloading package basque_grammars to\n",
            "[nltk_data]    |     /root/nltk_data...\n",
            "[nltk_data]    |   Unzipping grammars/basque_grammars.zip.\n",
            "[nltk_data]    | Downloading package biocreative_ppi to\n",
            "[nltk_data]    |     /root/nltk_data...\n",
            "[nltk_data]    |   Unzipping corpora/biocreative_ppi.zip.\n",
            "[nltk_data]    | Downloading package bllip_wsj_no_aux to\n",
            "[nltk_data]    |     /root/nltk_data...\n",
            "[nltk_data]    |   Unzipping models/bllip_wsj_no_aux.zip.\n",
            "[nltk_data]    | Downloading package book_grammars to\n",
            "[nltk_data]    |     /root/nltk_data...\n",
            "[nltk_data]    |   Unzipping grammars/book_grammars.zip.\n",
            "[nltk_data]    | Downloading package brown to /root/nltk_data...\n",
            "[nltk_data]    |   Unzipping corpora/brown.zip.\n",
            "[nltk_data]    | Downloading package brown_tei to /root/nltk_data...\n",
            "[nltk_data]    |   Unzipping corpora/brown_tei.zip.\n",
            "[nltk_data]    | Downloading package cess_cat to /root/nltk_data...\n",
            "[nltk_data]    |   Unzipping corpora/cess_cat.zip.\n",
            "[nltk_data]    | Downloading package cess_esp to /root/nltk_data...\n",
            "[nltk_data]    |   Unzipping corpora/cess_esp.zip.\n",
            "[nltk_data]    | Downloading package chat80 to /root/nltk_data...\n",
            "[nltk_data]    |   Unzipping corpora/chat80.zip.\n",
            "[nltk_data]    | Downloading package city_database to\n",
            "[nltk_data]    |     /root/nltk_data...\n",
            "[nltk_data]    |   Unzipping corpora/city_database.zip.\n",
            "[nltk_data]    | Downloading package cmudict to /root/nltk_data...\n",
            "[nltk_data]    |   Unzipping corpora/cmudict.zip.\n",
            "[nltk_data]    | Downloading package comparative_sentences to\n",
            "[nltk_data]    |     /root/nltk_data...\n",
            "[nltk_data]    |   Unzipping corpora/comparative_sentences.zip.\n",
            "[nltk_data]    | Downloading package comtrans to /root/nltk_data...\n",
            "[nltk_data]    | Downloading package conll2000 to /root/nltk_data...\n",
            "[nltk_data]    |   Unzipping corpora/conll2000.zip.\n",
            "[nltk_data]    | Downloading package conll2002 to /root/nltk_data...\n",
            "[nltk_data]    |   Unzipping corpora/conll2002.zip.\n",
            "[nltk_data]    | Downloading package conll2007 to /root/nltk_data...\n",
            "[nltk_data]    | Downloading package crubadan to /root/nltk_data...\n",
            "[nltk_data]    |   Unzipping corpora/crubadan.zip.\n",
            "[nltk_data]    | Downloading package dependency_treebank to\n",
            "[nltk_data]    |     /root/nltk_data...\n",
            "[nltk_data]    |   Unzipping corpora/dependency_treebank.zip.\n",
            "[nltk_data]    | Downloading package dolch to /root/nltk_data...\n",
            "[nltk_data]    |   Unzipping corpora/dolch.zip.\n",
            "[nltk_data]    | Downloading package europarl_raw to\n",
            "[nltk_data]    |     /root/nltk_data...\n",
            "[nltk_data]    |   Unzipping corpora/europarl_raw.zip.\n",
            "[nltk_data]    | Downloading package extended_omw to\n",
            "[nltk_data]    |     /root/nltk_data...\n",
            "[nltk_data]    |   Unzipping corpora/extended_omw.zip.\n",
            "[nltk_data]    | Downloading package floresta to /root/nltk_data...\n",
            "[nltk_data]    |   Unzipping corpora/floresta.zip.\n",
            "[nltk_data]    | Downloading package framenet_v15 to\n",
            "[nltk_data]    |     /root/nltk_data...\n",
            "[nltk_data]    |   Unzipping corpora/framenet_v15.zip.\n",
            "[nltk_data]    | Downloading package framenet_v17 to\n",
            "[nltk_data]    |     /root/nltk_data...\n",
            "[nltk_data]    |   Unzipping corpora/framenet_v17.zip.\n",
            "[nltk_data]    | Downloading package gazetteers to /root/nltk_data...\n",
            "[nltk_data]    |   Unzipping corpora/gazetteers.zip.\n",
            "[nltk_data]    | Downloading package genesis to /root/nltk_data...\n",
            "[nltk_data]    |   Unzipping corpora/genesis.zip.\n",
            "[nltk_data]    | Downloading package gutenberg to /root/nltk_data...\n",
            "[nltk_data]    |   Unzipping corpora/gutenberg.zip.\n",
            "[nltk_data]    | Downloading package ieer to /root/nltk_data...\n",
            "[nltk_data]    |   Unzipping corpora/ieer.zip.\n",
            "[nltk_data]    | Downloading package inaugural to /root/nltk_data...\n",
            "[nltk_data]    |   Unzipping corpora/inaugural.zip.\n",
            "[nltk_data]    | Downloading package indian to /root/nltk_data...\n",
            "[nltk_data]    |   Unzipping corpora/indian.zip.\n",
            "[nltk_data]    | Downloading package jeita to /root/nltk_data...\n",
            "[nltk_data]    | Downloading package kimmo to /root/nltk_data...\n",
            "[nltk_data]    |   Unzipping corpora/kimmo.zip.\n",
            "[nltk_data]    | Downloading package knbc to /root/nltk_data...\n",
            "[nltk_data]    | Downloading package large_grammars to\n",
            "[nltk_data]    |     /root/nltk_data...\n",
            "[nltk_data]    |   Unzipping grammars/large_grammars.zip.\n",
            "[nltk_data]    | Downloading package lin_thesaurus to\n",
            "[nltk_data]    |     /root/nltk_data...\n",
            "[nltk_data]    |   Unzipping corpora/lin_thesaurus.zip.\n",
            "[nltk_data]    | Downloading package mac_morpho to /root/nltk_data...\n",
            "[nltk_data]    |   Unzipping corpora/mac_morpho.zip.\n",
            "[nltk_data]    | Downloading package machado to /root/nltk_data...\n",
            "[nltk_data]    | Downloading package masc_tagged to /root/nltk_data...\n",
            "[nltk_data]    | Downloading package maxent_ne_chunker to\n",
            "[nltk_data]    |     /root/nltk_data...\n",
            "[nltk_data]    |   Unzipping chunkers/maxent_ne_chunker.zip.\n",
            "[nltk_data]    | Downloading package maxent_treebank_pos_tagger to\n",
            "[nltk_data]    |     /root/nltk_data...\n",
            "[nltk_data]    |   Unzipping taggers/maxent_treebank_pos_tagger.zip.\n",
            "[nltk_data]    | Downloading package moses_sample to\n",
            "[nltk_data]    |     /root/nltk_data...\n",
            "[nltk_data]    |   Unzipping models/moses_sample.zip.\n",
            "[nltk_data]    | Downloading package movie_reviews to\n",
            "[nltk_data]    |     /root/nltk_data...\n",
            "[nltk_data]    |   Unzipping corpora/movie_reviews.zip.\n",
            "[nltk_data]    | Downloading package mte_teip5 to /root/nltk_data...\n",
            "[nltk_data]    |   Unzipping corpora/mte_teip5.zip.\n",
            "[nltk_data]    | Downloading package mwa_ppdb to /root/nltk_data...\n",
            "[nltk_data]    |   Unzipping misc/mwa_ppdb.zip.\n",
            "[nltk_data]    | Downloading package names to /root/nltk_data...\n",
            "[nltk_data]    |   Unzipping corpora/names.zip.\n",
            "[nltk_data]    | Downloading package nombank.1.0 to /root/nltk_data...\n",
            "[nltk_data]    | Downloading package nonbreaking_prefixes to\n",
            "[nltk_data]    |     /root/nltk_data...\n",
            "[nltk_data]    |   Unzipping corpora/nonbreaking_prefixes.zip.\n",
            "[nltk_data]    | Downloading package nps_chat to /root/nltk_data...\n",
            "[nltk_data]    |   Unzipping corpora/nps_chat.zip.\n",
            "[nltk_data]    | Downloading package omw to /root/nltk_data...\n",
            "[nltk_data]    |   Unzipping corpora/omw.zip.\n",
            "[nltk_data]    | Downloading package omw-1.4 to /root/nltk_data...\n",
            "[nltk_data]    |   Unzipping corpora/omw-1.4.zip.\n",
            "[nltk_data]    | Downloading package opinion_lexicon to\n",
            "[nltk_data]    |     /root/nltk_data...\n",
            "[nltk_data]    |   Unzipping corpora/opinion_lexicon.zip.\n",
            "[nltk_data]    | Downloading package panlex_swadesh to\n",
            "[nltk_data]    |     /root/nltk_data...\n",
            "[nltk_data]    | Downloading package paradigms to /root/nltk_data...\n",
            "[nltk_data]    |   Unzipping corpora/paradigms.zip.\n",
            "[nltk_data]    | Downloading package pe08 to /root/nltk_data...\n",
            "[nltk_data]    |   Unzipping corpora/pe08.zip.\n",
            "[nltk_data]    | Downloading package perluniprops to\n",
            "[nltk_data]    |     /root/nltk_data...\n",
            "[nltk_data]    |   Unzipping misc/perluniprops.zip.\n",
            "[nltk_data]    | Downloading package pil to /root/nltk_data...\n",
            "[nltk_data]    |   Unzipping corpora/pil.zip.\n",
            "[nltk_data]    | Downloading package pl196x to /root/nltk_data...\n",
            "[nltk_data]    |   Unzipping corpora/pl196x.zip.\n",
            "[nltk_data]    | Downloading package porter_test to /root/nltk_data...\n",
            "[nltk_data]    |   Unzipping stemmers/porter_test.zip.\n",
            "[nltk_data]    | Downloading package ppattach to /root/nltk_data...\n",
            "[nltk_data]    |   Unzipping corpora/ppattach.zip.\n",
            "[nltk_data]    | Downloading package problem_reports to\n",
            "[nltk_data]    |     /root/nltk_data...\n",
            "[nltk_data]    |   Unzipping corpora/problem_reports.zip.\n",
            "[nltk_data]    | Downloading package product_reviews_1 to\n",
            "[nltk_data]    |     /root/nltk_data...\n",
            "[nltk_data]    |   Unzipping corpora/product_reviews_1.zip.\n",
            "[nltk_data]    | Downloading package product_reviews_2 to\n",
            "[nltk_data]    |     /root/nltk_data...\n",
            "[nltk_data]    |   Unzipping corpora/product_reviews_2.zip.\n",
            "[nltk_data]    | Downloading package propbank to /root/nltk_data...\n",
            "[nltk_data]    | Downloading package pros_cons to /root/nltk_data...\n",
            "[nltk_data]    |   Unzipping corpora/pros_cons.zip.\n",
            "[nltk_data]    | Downloading package ptb to /root/nltk_data...\n",
            "[nltk_data]    |   Unzipping corpora/ptb.zip.\n",
            "[nltk_data]    | Downloading package punkt to /root/nltk_data...\n",
            "[nltk_data]    |   Package punkt is already up-to-date!\n",
            "[nltk_data]    | Downloading package qc to /root/nltk_data...\n",
            "[nltk_data]    |   Unzipping corpora/qc.zip.\n",
            "[nltk_data]    | Downloading package reuters to /root/nltk_data...\n",
            "[nltk_data]    | Downloading package rslp to /root/nltk_data...\n",
            "[nltk_data]    |   Unzipping stemmers/rslp.zip.\n",
            "[nltk_data]    | Downloading package rte to /root/nltk_data...\n",
            "[nltk_data]    |   Unzipping corpora/rte.zip.\n",
            "[nltk_data]    | Downloading package sample_grammars to\n",
            "[nltk_data]    |     /root/nltk_data...\n",
            "[nltk_data]    |   Unzipping grammars/sample_grammars.zip.\n",
            "[nltk_data]    | Downloading package semcor to /root/nltk_data...\n",
            "[nltk_data]    | Downloading package senseval to /root/nltk_data...\n",
            "[nltk_data]    |   Unzipping corpora/senseval.zip.\n",
            "[nltk_data]    | Downloading package sentence_polarity to\n",
            "[nltk_data]    |     /root/nltk_data...\n",
            "[nltk_data]    |   Unzipping corpora/sentence_polarity.zip.\n",
            "[nltk_data]    | Downloading package sentiwordnet to\n",
            "[nltk_data]    |     /root/nltk_data...\n",
            "[nltk_data]    |   Unzipping corpora/sentiwordnet.zip.\n",
            "[nltk_data]    | Downloading package shakespeare to /root/nltk_data...\n",
            "[nltk_data]    |   Unzipping corpora/shakespeare.zip.\n",
            "[nltk_data]    | Downloading package sinica_treebank to\n",
            "[nltk_data]    |     /root/nltk_data...\n",
            "[nltk_data]    |   Unzipping corpora/sinica_treebank.zip.\n",
            "[nltk_data]    | Downloading package smultron to /root/nltk_data...\n",
            "[nltk_data]    |   Unzipping corpora/smultron.zip.\n",
            "[nltk_data]    | Downloading package snowball_data to\n",
            "[nltk_data]    |     /root/nltk_data...\n",
            "[nltk_data]    | Downloading package spanish_grammars to\n",
            "[nltk_data]    |     /root/nltk_data...\n",
            "[nltk_data]    |   Unzipping grammars/spanish_grammars.zip.\n",
            "[nltk_data]    | Downloading package state_union to /root/nltk_data...\n",
            "[nltk_data]    |   Unzipping corpora/state_union.zip.\n",
            "[nltk_data]    | Downloading package stopwords to /root/nltk_data...\n",
            "[nltk_data]    |   Package stopwords is already up-to-date!\n",
            "[nltk_data]    | Downloading package subjectivity to\n",
            "[nltk_data]    |     /root/nltk_data...\n",
            "[nltk_data]    |   Unzipping corpora/subjectivity.zip.\n",
            "[nltk_data]    | Downloading package swadesh to /root/nltk_data...\n",
            "[nltk_data]    |   Unzipping corpora/swadesh.zip.\n",
            "[nltk_data]    | Downloading package switchboard to /root/nltk_data...\n",
            "[nltk_data]    |   Unzipping corpora/switchboard.zip.\n",
            "[nltk_data]    | Downloading package tagsets to /root/nltk_data...\n",
            "[nltk_data]    |   Unzipping help/tagsets.zip.\n",
            "[nltk_data]    | Downloading package timit to /root/nltk_data...\n",
            "[nltk_data]    |   Unzipping corpora/timit.zip.\n",
            "[nltk_data]    | Downloading package toolbox to /root/nltk_data...\n",
            "[nltk_data]    |   Unzipping corpora/toolbox.zip.\n",
            "[nltk_data]    | Downloading package treebank to /root/nltk_data...\n",
            "[nltk_data]    |   Unzipping corpora/treebank.zip.\n",
            "[nltk_data]    | Downloading package twitter_samples to\n",
            "[nltk_data]    |     /root/nltk_data...\n",
            "[nltk_data]    |   Unzipping corpora/twitter_samples.zip.\n",
            "[nltk_data]    | Downloading package udhr to /root/nltk_data...\n",
            "[nltk_data]    |   Unzipping corpora/udhr.zip.\n",
            "[nltk_data]    | Downloading package udhr2 to /root/nltk_data...\n",
            "[nltk_data]    |   Unzipping corpora/udhr2.zip.\n",
            "[nltk_data]    | Downloading package unicode_samples to\n",
            "[nltk_data]    |     /root/nltk_data...\n",
            "[nltk_data]    |   Unzipping corpora/unicode_samples.zip.\n",
            "[nltk_data]    | Downloading package universal_tagset to\n",
            "[nltk_data]    |     /root/nltk_data...\n",
            "[nltk_data]    |   Unzipping taggers/universal_tagset.zip.\n",
            "[nltk_data]    | Downloading package universal_treebanks_v20 to\n",
            "[nltk_data]    |     /root/nltk_data...\n",
            "[nltk_data]    | Downloading package vader_lexicon to\n",
            "[nltk_data]    |     /root/nltk_data...\n",
            "[nltk_data]    | Downloading package verbnet to /root/nltk_data...\n",
            "[nltk_data]    |   Unzipping corpora/verbnet.zip.\n",
            "[nltk_data]    | Downloading package verbnet3 to /root/nltk_data...\n",
            "[nltk_data]    |   Unzipping corpora/verbnet3.zip.\n",
            "[nltk_data]    | Downloading package webtext to /root/nltk_data...\n",
            "[nltk_data]    |   Unzipping corpora/webtext.zip.\n",
            "[nltk_data]    | Downloading package wmt15_eval to /root/nltk_data...\n",
            "[nltk_data]    |   Unzipping models/wmt15_eval.zip.\n",
            "[nltk_data]    | Downloading package word2vec_sample to\n",
            "[nltk_data]    |     /root/nltk_data...\n",
            "[nltk_data]    |   Unzipping models/word2vec_sample.zip.\n",
            "[nltk_data]    | Downloading package wordnet to /root/nltk_data...\n",
            "[nltk_data]    |   Package wordnet is already up-to-date!\n",
            "[nltk_data]    | Downloading package wordnet2021 to /root/nltk_data...\n",
            "[nltk_data]    |   Unzipping corpora/wordnet2021.zip.\n",
            "[nltk_data]    | Downloading package wordnet31 to /root/nltk_data...\n",
            "[nltk_data]    |   Unzipping corpora/wordnet31.zip.\n",
            "[nltk_data]    | Downloading package wordnet_ic to /root/nltk_data...\n",
            "[nltk_data]    |   Unzipping corpora/wordnet_ic.zip.\n",
            "[nltk_data]    | Downloading package words to /root/nltk_data...\n",
            "[nltk_data]    |   Unzipping corpora/words.zip.\n",
            "[nltk_data]    | Downloading package ycoe to /root/nltk_data...\n",
            "[nltk_data]    |   Unzipping corpora/ycoe.zip.\n",
            "[nltk_data]    | \n",
            "[nltk_data]  Done downloading collection all\n"
          ]
        },
        {
          "output_type": "execute_result",
          "data": {
            "text/plain": [
              "True"
            ]
          },
          "metadata": {},
          "execution_count": 27
        }
      ]
    },
    {
      "cell_type": "markdown",
      "source": [
        "* WordNet의 synsets() : 파라미터로 지정된 단어에 대해 WordNet에 등재된 모든 Synset 객체를 반환 - 여러 개의 SynSet 객체를 가지는 리스트 반환"
      ],
      "metadata": {
        "id": "xue_KbjN0qBi"
      }
    },
    {
      "cell_type": "code",
      "source": [
        "from nltk.corpus import wordnet as wn\n",
        "\n",
        "term = 'present'\n",
        "\n",
        "# 'present'라는 단어로 wordnet의 synsets 생성\n",
        "synsets = wn.synsets(term)\n",
        "print('synsets() 반환 type :', type(synsets))\n",
        "print('synsets() 반환 값 개수:', len(synsets))\n",
        "print('synsets() 반환 값 :', synsets)"
      ],
      "metadata": {
        "colab": {
          "base_uri": "https://localhost:8080/"
        },
        "id": "49xvSR1vy9Ug",
        "outputId": "e16e9e56-d1b9-49c3-9a8c-d3fef3f28d79"
      },
      "execution_count": 28,
      "outputs": [
        {
          "output_type": "stream",
          "name": "stdout",
          "text": [
            "synsets() 반환 type : <class 'list'>\n",
            "synsets() 반환 값 개수: 18\n",
            "synsets() 반환 값 : [Synset('present.n.01'), Synset('present.n.02'), Synset('present.n.03'), Synset('show.v.01'), Synset('present.v.02'), Synset('stage.v.01'), Synset('present.v.04'), Synset('present.v.05'), Synset('award.v.01'), Synset('give.v.08'), Synset('deliver.v.01'), Synset('introduce.v.01'), Synset('portray.v.04'), Synset('confront.v.03'), Synset('present.v.12'), Synset('salute.v.06'), Synset('present.a.01'), Synset('present.a.02')]\n"
          ]
        }
      ]
    },
    {
      "cell_type": "markdown",
      "source": [
        "* POS 태그 : Synset 객체의 파라미터 \n",
        "  \n",
        "  예) present.n.01\n",
        "    - present : 의미\n",
        "    - n : 명사 품사\n",
        "    - 01 : present가 명사로서 가지는 여러 의미를 구분하는 인덱스"
      ],
      "metadata": {
        "id": "x0QcgebD1Y89"
      }
    },
    {
      "cell_type": "markdown",
      "source": [
        "* synset : 하나의 단어가 가질 수 있는 여러 가지 시맨틱 정보를 개별 클래스로 나타낸 것\n",
        "* synset 객체의 속성\n",
        "  - POS(Part of Speech, 품사) : synset 객체.lexname()\n",
        "  - 정의 : synset 객체.definition()\n",
        "  - 부명제 : synset 객체.lemma_names()"
      ],
      "metadata": {
        "id": "5GOuPOaC2Wif"
      }
    },
    {
      "cell_type": "code",
      "source": [
        "for synset in synsets :\n",
        "    print('##### Synset name : ', synset.name(),'#####')\n",
        "    print('POS :', synset.lexname())\n",
        "    print('Definition:', synset.definition())\n",
        "    print('Lemmas:', synset.lemma_names())"
      ],
      "metadata": {
        "colab": {
          "base_uri": "https://localhost:8080/"
        },
        "id": "nyA8Nhx41WuN",
        "outputId": "e41015f8-c72f-4db7-f02a-62c100001878"
      },
      "execution_count": 29,
      "outputs": [
        {
          "output_type": "stream",
          "name": "stdout",
          "text": [
            "##### Synset name :  present.n.01 #####\n",
            "POS : noun.time\n",
            "Definition: the period of time that is happening now; any continuous stretch of time including the moment of speech\n",
            "Lemmas: ['present', 'nowadays']\n",
            "##### Synset name :  present.n.02 #####\n",
            "POS : noun.possession\n",
            "Definition: something presented as a gift\n",
            "Lemmas: ['present']\n",
            "##### Synset name :  present.n.03 #####\n",
            "POS : noun.communication\n",
            "Definition: a verb tense that expresses actions or states at the time of speaking\n",
            "Lemmas: ['present', 'present_tense']\n",
            "##### Synset name :  show.v.01 #####\n",
            "POS : verb.perception\n",
            "Definition: give an exhibition of to an interested audience\n",
            "Lemmas: ['show', 'demo', 'exhibit', 'present', 'demonstrate']\n",
            "##### Synset name :  present.v.02 #####\n",
            "POS : verb.communication\n",
            "Definition: bring forward and present to the mind\n",
            "Lemmas: ['present', 'represent', 'lay_out']\n",
            "##### Synset name :  stage.v.01 #####\n",
            "POS : verb.creation\n",
            "Definition: perform (a play), especially on a stage\n",
            "Lemmas: ['stage', 'present', 'represent']\n",
            "##### Synset name :  present.v.04 #####\n",
            "POS : verb.possession\n",
            "Definition: hand over formally\n",
            "Lemmas: ['present', 'submit']\n",
            "##### Synset name :  present.v.05 #####\n",
            "POS : verb.stative\n",
            "Definition: introduce\n",
            "Lemmas: ['present', 'pose']\n",
            "##### Synset name :  award.v.01 #####\n",
            "POS : verb.possession\n",
            "Definition: give, especially as an honor or reward\n",
            "Lemmas: ['award', 'present']\n",
            "##### Synset name :  give.v.08 #####\n",
            "POS : verb.possession\n",
            "Definition: give as a present; make a gift of\n",
            "Lemmas: ['give', 'gift', 'present']\n",
            "##### Synset name :  deliver.v.01 #####\n",
            "POS : verb.communication\n",
            "Definition: deliver (a speech, oration, or idea)\n",
            "Lemmas: ['deliver', 'present']\n",
            "##### Synset name :  introduce.v.01 #####\n",
            "POS : verb.communication\n",
            "Definition: cause to come to know personally\n",
            "Lemmas: ['introduce', 'present', 'acquaint']\n",
            "##### Synset name :  portray.v.04 #####\n",
            "POS : verb.creation\n",
            "Definition: represent abstractly, for example in a painting, drawing, or sculpture\n",
            "Lemmas: ['portray', 'present']\n",
            "##### Synset name :  confront.v.03 #####\n",
            "POS : verb.communication\n",
            "Definition: present somebody with something, usually to accuse or criticize\n",
            "Lemmas: ['confront', 'face', 'present']\n",
            "##### Synset name :  present.v.12 #####\n",
            "POS : verb.communication\n",
            "Definition: formally present a debutante, a representative of a country, etc.\n",
            "Lemmas: ['present']\n",
            "##### Synset name :  salute.v.06 #####\n",
            "POS : verb.communication\n",
            "Definition: recognize with a gesture prescribed by a military regulation; assume a prescribed position\n",
            "Lemmas: ['salute', 'present']\n",
            "##### Synset name :  present.a.01 #####\n",
            "POS : adj.all\n",
            "Definition: temporal sense; intermediate between past and future; now existing or happening or in consideration\n",
            "Lemmas: ['present']\n",
            "##### Synset name :  present.a.02 #####\n",
            "POS : adj.all\n",
            "Definition: being or existing in a specified place\n",
            "Lemmas: ['present']\n"
          ]
        }
      ]
    },
    {
      "cell_type": "markdown",
      "source": [
        "* synset 객체는 단어 간의 유사도를 나타내기 위해 path_similarity() 메서드 제공"
      ],
      "metadata": {
        "id": "4ZvOtViV3jHY"
      }
    },
    {
      "cell_type": "code",
      "source": [
        "# path_similarity()를 이용해 단어의 상호 유사도 살펴보기\n",
        "# synset 객체를 단어별로 생성합니다. \n",
        "tree = wn.synset('tree.n.01')\n",
        "lion = wn.synset('lion.n.01')\n",
        "tiger = wn.synset('tiger.n.02')\n",
        "cat = wn.synset('cat.n.01')\n",
        "dog = wn.synset('dog.n.01')\n",
        "\n",
        "entities = [tree, lion, tiger, cat, dog]\n",
        "similarities = []\n",
        "entity_names = [entity.name().split('.')[0] for entity in entities]\n",
        "\n",
        "# 단어별 synset을 반복하면서 다른 단어들의 synset과 유사도를 측정합니다. \n",
        "for entity in entities:\n",
        "    similarity = [round(entity.path_similarity(compared_entity), 2)\n",
        "                  for compared_entity in entities ]\n",
        "    similarities.append(similarity)\n",
        "    \n",
        "# 개별 단어별 synset과 다른 단어의 synset과의 유사도를 DataFrame 형태로 저장합니다.  \n",
        "similarity_df = pd.DataFrame(similarities, columns=entity_names, index=entity_names)\n",
        "similarity_df"
      ],
      "metadata": {
        "colab": {
          "base_uri": "https://localhost:8080/",
          "height": 206
        },
        "id": "lHCnUNkG1XDG",
        "outputId": "d4293d20-95c5-47e8-a0b7-ad9014717f6c"
      },
      "execution_count": 30,
      "outputs": [
        {
          "output_type": "execute_result",
          "data": {
            "text/plain": [
              "       tree  lion  tiger   cat   dog\n",
              "tree   1.00  0.07   0.07  0.08  0.12\n",
              "lion   0.07  1.00   0.33  0.25  0.17\n",
              "tiger  0.07  0.33   1.00  0.25  0.17\n",
              "cat    0.08  0.25   0.25  1.00  0.20\n",
              "dog    0.12  0.17   0.17  0.20  1.00"
            ],
            "text/html": [
              "\n",
              "  <div id=\"df-a436cad7-0ee2-4e87-8913-54a36744b10f\">\n",
              "    <div class=\"colab-df-container\">\n",
              "      <div>\n",
              "<style scoped>\n",
              "    .dataframe tbody tr th:only-of-type {\n",
              "        vertical-align: middle;\n",
              "    }\n",
              "\n",
              "    .dataframe tbody tr th {\n",
              "        vertical-align: top;\n",
              "    }\n",
              "\n",
              "    .dataframe thead th {\n",
              "        text-align: right;\n",
              "    }\n",
              "</style>\n",
              "<table border=\"1\" class=\"dataframe\">\n",
              "  <thead>\n",
              "    <tr style=\"text-align: right;\">\n",
              "      <th></th>\n",
              "      <th>tree</th>\n",
              "      <th>lion</th>\n",
              "      <th>tiger</th>\n",
              "      <th>cat</th>\n",
              "      <th>dog</th>\n",
              "    </tr>\n",
              "  </thead>\n",
              "  <tbody>\n",
              "    <tr>\n",
              "      <th>tree</th>\n",
              "      <td>1.00</td>\n",
              "      <td>0.07</td>\n",
              "      <td>0.07</td>\n",
              "      <td>0.08</td>\n",
              "      <td>0.12</td>\n",
              "    </tr>\n",
              "    <tr>\n",
              "      <th>lion</th>\n",
              "      <td>0.07</td>\n",
              "      <td>1.00</td>\n",
              "      <td>0.33</td>\n",
              "      <td>0.25</td>\n",
              "      <td>0.17</td>\n",
              "    </tr>\n",
              "    <tr>\n",
              "      <th>tiger</th>\n",
              "      <td>0.07</td>\n",
              "      <td>0.33</td>\n",
              "      <td>1.00</td>\n",
              "      <td>0.25</td>\n",
              "      <td>0.17</td>\n",
              "    </tr>\n",
              "    <tr>\n",
              "      <th>cat</th>\n",
              "      <td>0.08</td>\n",
              "      <td>0.25</td>\n",
              "      <td>0.25</td>\n",
              "      <td>1.00</td>\n",
              "      <td>0.20</td>\n",
              "    </tr>\n",
              "    <tr>\n",
              "      <th>dog</th>\n",
              "      <td>0.12</td>\n",
              "      <td>0.17</td>\n",
              "      <td>0.17</td>\n",
              "      <td>0.20</td>\n",
              "      <td>1.00</td>\n",
              "    </tr>\n",
              "  </tbody>\n",
              "</table>\n",
              "</div>\n",
              "      <button class=\"colab-df-convert\" onclick=\"convertToInteractive('df-a436cad7-0ee2-4e87-8913-54a36744b10f')\"\n",
              "              title=\"Convert this dataframe to an interactive table.\"\n",
              "              style=\"display:none;\">\n",
              "        \n",
              "  <svg xmlns=\"http://www.w3.org/2000/svg\" height=\"24px\"viewBox=\"0 0 24 24\"\n",
              "       width=\"24px\">\n",
              "    <path d=\"M0 0h24v24H0V0z\" fill=\"none\"/>\n",
              "    <path d=\"M18.56 5.44l.94 2.06.94-2.06 2.06-.94-2.06-.94-.94-2.06-.94 2.06-2.06.94zm-11 1L8.5 8.5l.94-2.06 2.06-.94-2.06-.94L8.5 2.5l-.94 2.06-2.06.94zm10 10l.94 2.06.94-2.06 2.06-.94-2.06-.94-.94-2.06-.94 2.06-2.06.94z\"/><path d=\"M17.41 7.96l-1.37-1.37c-.4-.4-.92-.59-1.43-.59-.52 0-1.04.2-1.43.59L10.3 9.45l-7.72 7.72c-.78.78-.78 2.05 0 2.83L4 21.41c.39.39.9.59 1.41.59.51 0 1.02-.2 1.41-.59l7.78-7.78 2.81-2.81c.8-.78.8-2.07 0-2.86zM5.41 20L4 18.59l7.72-7.72 1.47 1.35L5.41 20z\"/>\n",
              "  </svg>\n",
              "      </button>\n",
              "      \n",
              "  <style>\n",
              "    .colab-df-container {\n",
              "      display:flex;\n",
              "      flex-wrap:wrap;\n",
              "      gap: 12px;\n",
              "    }\n",
              "\n",
              "    .colab-df-convert {\n",
              "      background-color: #E8F0FE;\n",
              "      border: none;\n",
              "      border-radius: 50%;\n",
              "      cursor: pointer;\n",
              "      display: none;\n",
              "      fill: #1967D2;\n",
              "      height: 32px;\n",
              "      padding: 0 0 0 0;\n",
              "      width: 32px;\n",
              "    }\n",
              "\n",
              "    .colab-df-convert:hover {\n",
              "      background-color: #E2EBFA;\n",
              "      box-shadow: 0px 1px 2px rgba(60, 64, 67, 0.3), 0px 1px 3px 1px rgba(60, 64, 67, 0.15);\n",
              "      fill: #174EA6;\n",
              "    }\n",
              "\n",
              "    [theme=dark] .colab-df-convert {\n",
              "      background-color: #3B4455;\n",
              "      fill: #D2E3FC;\n",
              "    }\n",
              "\n",
              "    [theme=dark] .colab-df-convert:hover {\n",
              "      background-color: #434B5C;\n",
              "      box-shadow: 0px 1px 3px 1px rgba(0, 0, 0, 0.15);\n",
              "      filter: drop-shadow(0px 1px 2px rgba(0, 0, 0, 0.3));\n",
              "      fill: #FFFFFF;\n",
              "    }\n",
              "  </style>\n",
              "\n",
              "      <script>\n",
              "        const buttonEl =\n",
              "          document.querySelector('#df-a436cad7-0ee2-4e87-8913-54a36744b10f button.colab-df-convert');\n",
              "        buttonEl.style.display =\n",
              "          google.colab.kernel.accessAllowed ? 'block' : 'none';\n",
              "\n",
              "        async function convertToInteractive(key) {\n",
              "          const element = document.querySelector('#df-a436cad7-0ee2-4e87-8913-54a36744b10f');\n",
              "          const dataTable =\n",
              "            await google.colab.kernel.invokeFunction('convertToInteractive',\n",
              "                                                     [key], {});\n",
              "          if (!dataTable) return;\n",
              "\n",
              "          const docLinkHtml = 'Like what you see? Visit the ' +\n",
              "            '<a target=\"_blank\" href=https://colab.research.google.com/notebooks/data_table.ipynb>data table notebook</a>'\n",
              "            + ' to learn more about interactive tables.';\n",
              "          element.innerHTML = '';\n",
              "          dataTable['output_type'] = 'display_data';\n",
              "          await google.colab.output.renderOutput(dataTable, element);\n",
              "          const docLink = document.createElement('div');\n",
              "          docLink.innerHTML = docLinkHtml;\n",
              "          element.appendChild(docLink);\n",
              "        }\n",
              "      </script>\n",
              "    </div>\n",
              "  </div>\n",
              "  "
            ]
          },
          "metadata": {},
          "execution_count": 30
        }
      ]
    },
    {
      "cell_type": "markdown",
      "source": [
        "* lion은 tree와의 유사도가 0.07로 가장 작고, tiger와는 유사도가 0.33으로 가장 큼"
      ],
      "metadata": {
        "id": "lPflF8ne4YAk"
      }
    },
    {
      "cell_type": "markdown",
      "source": [
        "* SentiWordNet의 Senti_Synset 클래스 : WordNet의 Synset과 유사\n",
        "* SentiWordNet 모듈의 senti_synsets() : Senti_Synset 클래스를 리스트 형태로 반환, synsets()와 유사"
      ],
      "metadata": {
        "id": "LGSqZAfS4tpF"
      }
    },
    {
      "cell_type": "code",
      "source": [
        "import nltk\n",
        "from nltk.corpus import sentiwordnet as swn\n",
        "\n",
        "senti_synsets = list(swn.senti_synsets('slow'))\n",
        "print('senti_synsets() 반환 type :', type(senti_synsets))\n",
        "print('senti_synsets() 반환 값 개수:', len(senti_synsets))\n",
        "print('senti_synsets() 반환 값 :', senti_synsets)"
      ],
      "metadata": {
        "colab": {
          "base_uri": "https://localhost:8080/"
        },
        "id": "Zagb0V2C5OqH",
        "outputId": "41bc576c-d838-42b3-af6e-0f02c9112123"
      },
      "execution_count": 31,
      "outputs": [
        {
          "output_type": "stream",
          "name": "stdout",
          "text": [
            "senti_synsets() 반환 type : <class 'list'>\n",
            "senti_synsets() 반환 값 개수: 11\n",
            "senti_synsets() 반환 값 : [SentiSynset('decelerate.v.01'), SentiSynset('slow.v.02'), SentiSynset('slow.v.03'), SentiSynset('slow.a.01'), SentiSynset('slow.a.02'), SentiSynset('dense.s.04'), SentiSynset('slow.a.04'), SentiSynset('boring.s.01'), SentiSynset('dull.s.08'), SentiSynset('slowly.r.01'), SentiSynset('behind.r.03')]\n"
          ]
        }
      ]
    },
    {
      "cell_type": "markdown",
      "source": [
        "* SentiSynset 객체\n",
        "  - 감성 지수\n",
        "    - 긍정 감성 지수 : pos_score()\n",
        "    - 부정 감성 지수 : neg_score()\n",
        "  - 객관성 지수 : obj_score()\n",
        "* 전혀 감성적이지 않은 단어라면 객관성 지수 = 1, 감성 지수 = 0"
      ],
      "metadata": {
        "id": "IiC-VEnx5OBx"
      }
    },
    {
      "cell_type": "code",
      "source": [
        "import nltk\n",
        "from nltk.corpus import sentiwordnet as swn\n",
        "\n",
        "father = swn.senti_synset('father.n.01')\n",
        "print('father 긍정감성 지수: ', father.pos_score())\n",
        "print('father 부정감성 지수: ', father.neg_score())\n",
        "print('father 객관성 지수: ', father.obj_score())\n",
        "print('\\n')\n",
        "fabulous = swn.senti_synset('fabulous.a.01')\n",
        "print('fabulous 긍정감성 지수: ', fabulous.pos_score())\n",
        "print('fabulous 부정감성 지수: ', fabulous.neg_score())"
      ],
      "metadata": {
        "colab": {
          "base_uri": "https://localhost:8080/"
        },
        "id": "ovLppzCw54fV",
        "outputId": "ec825554-de13-4c35-a87a-dd9b0d6803ac"
      },
      "execution_count": 32,
      "outputs": [
        {
          "output_type": "stream",
          "name": "stdout",
          "text": [
            "father 긍정감성 지수:  0.0\n",
            "father 부정감성 지수:  0.0\n",
            "father 객관성 지수:  1.0\n",
            "\n",
            "\n",
            "fabulous 긍정감성 지수:  0.875\n",
            "fabulous 부정감성 지수:  0.125\n"
          ]
        }
      ]
    },
    {
      "cell_type": "markdown",
      "source": [
        "* father : 객관성 지수 = 1, 긍정/ 부정 감성 지수 = 0\n",
        "\n",
        "  => 객관적인 단어\n",
        "* fabulous : 긍정 감성 지수 = 0.875, 부정 감성 지수 = 0.125"
      ],
      "metadata": {
        "id": "pksVG7Oz54Lw"
      }
    },
    {
      "cell_type": "markdown",
      "source": [
        "##### SentiWordNet을 이용한 영화 감상평 감성 분석\n",
        "<SentiWordNet을 이용해 감성 분석을 수행하는 개략적인 순서>\n",
        "\n",
        "1. 문서를 문장 단위로 분해\n",
        "2. 다시 문장을 단어 단위로 토큰화하고 품사 태깅\n",
        "3. 품사 태깅된 단어 기반으로 synset 객체와 senti_synset 객체를 생성\n",
        "4. Senti_synset에서 긍정 감성/부정 감성 지수를 구하고 이를 모두 합산해 특정 임계치 값 이상일 때 긍정 감성으로, 그렇지 않을 때는 부정 감성으로 결정 "
      ],
      "metadata": {
        "id": "Pq0z6NIQ6fU9"
      }
    },
    {
      "cell_type": "code",
      "source": [
        "# 품사 태깅을 수행하는 내부 함수\n",
        "from nltk.corpus import wordnet as wn\n",
        "\n",
        "# 간단한 NTLK PennTreebank Tag를 기반으로 WordNet기반의 품사 Tag로 변환\n",
        "def penn_to_wn(tag):\n",
        "    if tag.startswith('J'):\n",
        "        return wn.ADJ\n",
        "    elif tag.startswith('N'):\n",
        "        return wn.NOUN\n",
        "    elif tag.startswith('R'):\n",
        "        return wn.ADV\n",
        "    elif tag.startswith('V'):\n",
        "        return wn.VERB\n",
        "    return "
      ],
      "metadata": {
        "id": "yk7HwQtN7WXm"
      },
      "execution_count": 33,
      "outputs": []
    },
    {
      "cell_type": "code",
      "source": [
        "# 문서를 문장->단어 토큰->품사 태깅 후에 SentiSynset 클래스를 생성하고 Polarity Score를 합산하는 함수\n",
        "from nltk.stem import WordNetLemmatizer\n",
        "from nltk.corpus import sentiwordnet as swn\n",
        "from nltk import sent_tokenize, word_tokenize, pos_tag\n",
        "\n",
        "def swn_polarity(text):\n",
        "    # 감성 지수 초기화 \n",
        "    sentiment = 0.0\n",
        "    tokens_count = 0\n",
        "    \n",
        "    lemmatizer = WordNetLemmatizer()\n",
        "    raw_sentences = sent_tokenize(text)\n",
        "    # 분해된 문장별로 단어 토큰 -> 품사 태깅 후에 SentiSynset 생성 -> 감성 지수 합산 \n",
        "    for raw_sentence in raw_sentences:\n",
        "        # NTLK 기반의 품사 태깅 문장 추출  \n",
        "        tagged_sentence = pos_tag(word_tokenize(raw_sentence))\n",
        "        for word, tag in tagged_sentence:\n",
        "            \n",
        "            # WordNet 기반 품사 태깅과 어근 추출\n",
        "            wn_tag = penn_to_wn(tag)\n",
        "            if wn_tag not in (wn.NOUN , wn.ADJ, wn.ADV):\n",
        "                continue                   \n",
        "            lemma = lemmatizer.lemmatize(word, pos=wn_tag)\n",
        "            if not lemma:\n",
        "                continue\n",
        "            # 어근을 추출한 단어와 WordNet 기반 품사 태깅을 입력해 Synset 객체를 생성 \n",
        "            synsets = wn.synsets(lemma , pos=wn_tag)\n",
        "            if not synsets:\n",
        "                continue\n",
        "            # sentiwordnet의 감성 단어 분석으로 감성 synset 추출\n",
        "            # 모든 단어에 대해 긍정 감성 지수는 +로 부정 감성 지수는 -로 합산해 감성 지수 계산 \n",
        "            synset = synsets[0]\n",
        "            swn_synset = swn.senti_synset(synset.name())\n",
        "            sentiment += (swn_synset.pos_score() - swn_synset.neg_score())           \n",
        "            tokens_count += 1\n",
        "    \n",
        "    if not tokens_count:\n",
        "        return 0\n",
        "    \n",
        "    # 총 score가 0 이상일 경우 긍정(Positive) 1, 그렇지 않을 경우 부정(Negative) 0 반환\n",
        "    if sentiment >= 0 :\n",
        "        return 1\n",
        "    \n",
        "    return 0"
      ],
      "metadata": {
        "id": "G1s_HK3O7ciN"
      },
      "execution_count": 34,
      "outputs": []
    },
    {
      "cell_type": "code",
      "source": [
        "# swn_polarity(text) 함수를 IMDB 감상평의 개별 문서에 적용해 긍정 및 부정 감성 예측\n",
        "review_df['preds'] = review_df['review'].apply( lambda x : swn_polarity(x) )\n",
        "y_target = review_df['sentiment'].values\n",
        "preds = review_df['preds'].values"
      ],
      "metadata": {
        "id": "9VXqRpeP8O4g"
      },
      "execution_count": 35,
      "outputs": []
    },
    {
      "cell_type": "code",
      "source": [
        "# SentiWordNet의 감성 분석 예측 성능 확인\n",
        "from sklearn.metrics import accuracy_score, confusion_matrix, precision_score \n",
        "from sklearn.metrics import recall_score, f1_score, roc_auc_score\n",
        "import numpy as np\n",
        "\n",
        "print(confusion_matrix( y_target, preds))\n",
        "print(\"정확도:\", np.round(accuracy_score(y_target , preds), 4))\n",
        "print(\"정밀도:\", np.round(precision_score(y_target , preds), 4))\n",
        "print(\"재현율:\", np.round(recall_score(y_target, preds), 4))"
      ],
      "metadata": {
        "colab": {
          "base_uri": "https://localhost:8080/"
        },
        "id": "t2lVAZlZ8Qyr",
        "outputId": "22533565-4bf4-4c57-82b4-842d16baafe8"
      },
      "execution_count": 36,
      "outputs": [
        {
          "output_type": "stream",
          "name": "stdout",
          "text": [
            "[[7668 4832]\n",
            " [3636 8864]]\n",
            "정확도: 0.6613\n",
            "정밀도: 0.6472\n",
            "재현율: 0.7091\n"
          ]
        }
      ]
    },
    {
      "cell_type": "markdown",
      "source": [
        "* 정확도 약 66.13%, 재현율 약 70.91%\n",
        "  \n",
        "  -> 전반적인 성능 평가 지표는 만족스러울 만한 수치는 아님"
      ],
      "metadata": {
        "id": "LgV8WXBc-fuP"
      }
    },
    {
      "cell_type": "markdown",
      "source": [
        "#### VADER를 이용한 감성 분석\n",
        "* VADER : 소셜 미디어의 감성 분석 용도로 만들어진 룰 기반의 Lexicon\n",
        "  - NLTK의 SentimentIntensityAnalyzer 클래스\n",
        "  - 사용법\n",
        "    1. SentimentIntensityAnalyzer 객체 생성\n",
        "    2. 문서별로 polarity_score() 메서드 호출해 감성 점수 계산\n",
        "    3. 해당 문서의 감성 점수가 특정 임계값 이상이면 긍정, 그렇지 않으면 부정으로 판단\n",
        "  - vaderSentiment 패키지에서 SentimentIntensityAnalyzer 클래스 임포트하여 사용할 수도 있음"
      ],
      "metadata": {
        "id": "6RDu8ohD8ZM6"
      }
    },
    {
      "cell_type": "code",
      "source": [
        "from nltk.sentiment.vader import SentimentIntensityAnalyzer\n",
        "\n",
        "senti_analyzer = SentimentIntensityAnalyzer()\n",
        "senti_scores = senti_analyzer.polarity_scores(review_df['review'][0])\n",
        "print(senti_scores)"
      ],
      "metadata": {
        "colab": {
          "base_uri": "https://localhost:8080/"
        },
        "id": "uNAyWYWZ8nUI",
        "outputId": "e8fb4625-c6a4-46f6-f7cc-08c5203c32cb"
      },
      "execution_count": 37,
      "outputs": [
        {
          "output_type": "stream",
          "name": "stdout",
          "text": [
            "{'neg': 0.13, 'neu': 0.743, 'pos': 0.127, 'compound': -0.7943}\n"
          ]
        },
        {
          "output_type": "stream",
          "name": "stderr",
          "text": [
            "/usr/local/lib/python3.7/dist-packages/nltk/twitter/__init__.py:20: UserWarning: The twython library has not been installed. Some functionality from the twitter package will not be available.\n",
            "  warnings.warn(\"The twython library has not been installed. \"\n"
          ]
        }
      ]
    },
    {
      "cell_type": "markdown",
      "source": [
        "* SentimentIntensityAnalyzer.polarity_scores() : 딕셔너리 형태의 감성 점수 반환\n",
        "  - 'neg' : 부정 감성 지수\n",
        "  - 'neu' : 중립적인 감성 지수\n",
        "  - 'pos' : 긍정 감성 지수\n",
        "  - 'compound' : neg, neu, pos score를 적절히 조합해 -1에서 1 사이의 감성 지수를 표현한 값\n",
        "    - compound score 기반으로 부정 또는 긍정 감성 여부 결정\n",
        "    - 0.1 이상이면 긍정 감성, 그 이하이면 부정 감성으로 판단\n",
        "    - 상황에 따라 임계값을 적절히 조정하여 예측 성능 조절"
      ],
      "metadata": {
        "id": "deHnEloPAPxq"
      }
    },
    {
      "cell_type": "code",
      "source": [
        "def vader_polarity(review, threshold=0.1):\n",
        "    analyzer = SentimentIntensityAnalyzer()\n",
        "    scores = analyzer.polarity_scores(review)\n",
        "    \n",
        "    # compound 값에 기반해 threshold 입력값보다 크면 1, 그렇지 않으면 0을 반환 \n",
        "    agg_score = scores['compound']\n",
        "    final_sentiment = 1 if agg_score >= threshold else 0\n",
        "    return final_sentiment\n",
        "\n",
        "# apply lambda 식을 이용해 레코드별로 vader_polarity( )를 수행하고 결과를 'vader_preds'에 저장\n",
        "review_df['vader_preds'] = review_df['review'].apply( lambda x : vader_polarity(x, 0.1) )\n",
        "y_target = review_df['sentiment'].values\n",
        "vader_preds = review_df['vader_preds'].values\n",
        "\n",
        "print(confusion_matrix( y_target, vader_preds))\n",
        "print(\"정확도:\", np.round(accuracy_score(y_target , vader_preds),4))\n",
        "print(\"정밀도:\", np.round(precision_score(y_target , vader_preds),4))\n",
        "print(\"재현율:\", np.round(recall_score(y_target, vader_preds),4))"
      ],
      "metadata": {
        "colab": {
          "base_uri": "https://localhost:8080/"
        },
        "id": "o_fqOH5x8oPt",
        "outputId": "9a20d560-4d4b-4523-87fc-88b5eab8ac6b"
      },
      "execution_count": 38,
      "outputs": [
        {
          "output_type": "stream",
          "name": "stdout",
          "text": [
            "[[ 6736  5764]\n",
            " [ 1867 10633]]\n",
            "정확도: 0.6948\n",
            "정밀도: 0.6485\n",
            "재현율: 0.8506\n"
          ]
        }
      ]
    },
    {
      "cell_type": "markdown",
      "source": [
        "* 정확도가 SentiWordNet보다 향상\n",
        "* 특히 재현율은 약 85.06%로 매우 크게 향상"
      ],
      "metadata": {
        "id": "6rZHXnD6Ba3V"
      }
    }
  ]
}