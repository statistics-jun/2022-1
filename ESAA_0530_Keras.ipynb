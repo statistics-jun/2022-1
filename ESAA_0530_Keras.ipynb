{
  "nbformat": 4,
  "nbformat_minor": 0,
  "metadata": {
    "colab": {
      "name": "ESAA_0530_Keras.ipynb",
      "provenance": [],
      "authorship_tag": "ABX9TyN52H5OerjZfCQ51Yz1hD29",
      "include_colab_link": true
    },
    "kernelspec": {
      "name": "python3",
      "display_name": "Python 3"
    },
    "language_info": {
      "name": "python"
    }
  },
  "cells": [
    {
      "cell_type": "markdown",
      "metadata": {
        "id": "view-in-github",
        "colab_type": "text"
      },
      "source": [
        "<a href=\"https://colab.research.google.com/github/statistics-jun/2022-1-ESAA/blob/main/ESAA_0530_Keras.ipynb\" target=\"_parent\"><img src=\"https://colab.research.google.com/assets/colab-badge.svg\" alt=\"Open In Colab\"/></a>"
      ]
    },
    {
      "cell_type": "markdown",
      "source": [
        "# 2022-1 ESAA 5기 김혜준 실습 필사 - 0530(월) 13주차 과제\n",
        "## <파이썬 딥러닝 텐서플로>\n",
        "## PART 03 케라스(Keras)"
      ],
      "metadata": {
        "id": "lnqCN6sOZx8V"
      }
    },
    {
      "cell_type": "markdown",
      "source": [
        "### 06 모델 저장 및 불러오기"
      ],
      "metadata": {
        "id": "VLbcsFs3akQr"
      }
    },
    {
      "cell_type": "markdown",
      "source": [
        "mnist 데이터셋 불러오기"
      ],
      "metadata": {
        "id": "4SGroPZnTjWJ"
      }
    },
    {
      "cell_type": "code",
      "execution_count": 1,
      "metadata": {
        "id": "n_eNWMqKZwrq",
        "colab": {
          "base_uri": "https://localhost:8080/"
        },
        "outputId": "163b2d12-4d49-41e9-a2b9-e786092e92a0"
      },
      "outputs": [
        {
          "output_type": "stream",
          "name": "stdout",
          "text": [
            "Downloading data from https://storage.googleapis.com/tensorflow/tf-keras-datasets/mnist.npz\n",
            "11493376/11490434 [==============================] - 0s 0us/step\n",
            "11501568/11490434 [==============================] - 0s 0us/step\n"
          ]
        }
      ],
      "source": [
        "import tensorflow as tf\n",
        "\n",
        "# 케라스의 내장 데이터셋에서 mnist 데이터셋 로드\n",
        "mnist = tf.keras.datasets.mnist\n",
        "\n",
        "# load_data()로 데이터셋 로드\n",
        "(x_train, y_train), (x_test, y_test) = mnist.load_data()\n",
        "\n",
        "# 데이터 정규화\n",
        "x_train = x_train / x_train.max()\n",
        "x_test = x_test / x_test.max()"
      ]
    },
    {
      "cell_type": "markdown",
      "source": [
        "신경망 모델 훈련"
      ],
      "metadata": {
        "id": "69A8OHQdTnWx"
      }
    },
    {
      "cell_type": "code",
      "source": [
        "# 모델 정의\n",
        "model = tf.keras.Sequential([\n",
        "                             tf.keras.layers.Flatten(input_shape=(28, 28)), \n",
        "                             tf.keras.layers.Dense(256, activation='relu'), \n",
        "                             tf.keras.layers.Dense(64, activation='relu'), \n",
        "                             tf.keras.layers.Dense(32, activation='relu'), \n",
        "                             # 노드는 10개가 되어야 한다.\n",
        "                             tf.keras.layers.Dense(10, activation='softmax'),\n",
        "])\n",
        "\n",
        "# 모델 컴파일\n",
        "model.compile(optimizer='adam', loss='sparse_categorical_crossentropy', metrics=['accuracy'])\n",
        "\n",
        "# 모델 훈련\n",
        "model.fit(x_train, y_train,\n",
        "            validation_data=(x_test, y_test), \n",
        "            epochs=10 \n",
        "            )"
      ],
      "metadata": {
        "id": "kEo_70uNattc",
        "colab": {
          "base_uri": "https://localhost:8080/"
        },
        "outputId": "36ca43e0-c9e9-467b-b082-3ea3e0265064"
      },
      "execution_count": 2,
      "outputs": [
        {
          "output_type": "stream",
          "name": "stdout",
          "text": [
            "Epoch 1/10\n",
            "1875/1875 [==============================] - 9s 4ms/step - loss: 0.2235 - accuracy: 0.9322 - val_loss: 0.1084 - val_accuracy: 0.9650\n",
            "Epoch 2/10\n",
            "1875/1875 [==============================] - 8s 4ms/step - loss: 0.0927 - accuracy: 0.9714 - val_loss: 0.0859 - val_accuracy: 0.9733\n",
            "Epoch 3/10\n",
            "1875/1875 [==============================] - 8s 4ms/step - loss: 0.0643 - accuracy: 0.9806 - val_loss: 0.0801 - val_accuracy: 0.9757\n",
            "Epoch 4/10\n",
            "1875/1875 [==============================] - 8s 4ms/step - loss: 0.0501 - accuracy: 0.9841 - val_loss: 0.0973 - val_accuracy: 0.9720\n",
            "Epoch 5/10\n",
            "1875/1875 [==============================] - 7s 4ms/step - loss: 0.0408 - accuracy: 0.9868 - val_loss: 0.0849 - val_accuracy: 0.9763\n",
            "Epoch 6/10\n",
            "1875/1875 [==============================] - 7s 4ms/step - loss: 0.0320 - accuracy: 0.9895 - val_loss: 0.0744 - val_accuracy: 0.9795\n",
            "Epoch 7/10\n",
            "1875/1875 [==============================] - 8s 4ms/step - loss: 0.0274 - accuracy: 0.9913 - val_loss: 0.0912 - val_accuracy: 0.9784\n",
            "Epoch 8/10\n",
            "1875/1875 [==============================] - 8s 4ms/step - loss: 0.0254 - accuracy: 0.9919 - val_loss: 0.0956 - val_accuracy: 0.9776\n",
            "Epoch 9/10\n",
            "1875/1875 [==============================] - 7s 4ms/step - loss: 0.0213 - accuracy: 0.9933 - val_loss: 0.0928 - val_accuracy: 0.9787\n",
            "Epoch 10/10\n",
            "1875/1875 [==============================] - 8s 4ms/step - loss: 0.0200 - accuracy: 0.9937 - val_loss: 0.1083 - val_accuracy: 0.9753\n"
          ]
        },
        {
          "output_type": "execute_result",
          "data": {
            "text/plain": [
              "<keras.callbacks.History at 0x7fb115b0d9d0>"
            ]
          },
          "metadata": {},
          "execution_count": 2
        }
      ]
    },
    {
      "cell_type": "markdown",
      "source": [
        "#### 6-1 모델을 파일로 저장\n",
        "* `save()` 메소드 : 저장할 파일의 디렉토리를 포함하는 파일명을 매개변수로 지정하여 호출\n",
        "* 모델 저장 형식\n",
        "  - HDF5 포맷(.h5) : 대용량의 데이터를 저장하기 위한 파일 형식\n",
        "  - SavedModel 포맷 : 텐서플로2에서 기본으로 지원하는 파일 형식"
      ],
      "metadata": {
        "id": "ScpRwTQ8aucn"
      }
    },
    {
      "cell_type": "code",
      "source": [
        "# 모델을 h5 포맷으로 저장\n",
        "model.save('h5-model.h5')"
      ],
      "metadata": {
        "id": "ouje00q0a02j"
      },
      "execution_count": 3,
      "outputs": []
    },
    {
      "cell_type": "markdown",
      "source": [
        "#### 6-2 저장된 모델 복원\n",
        "* `tensorflow.keras.models.load_model()` 메소드"
      ],
      "metadata": {
        "id": "WYsO6HgVa2q6"
      }
    },
    {
      "cell_type": "code",
      "source": [
        "# 모델 복원\n",
        "h5_model = tf.keras.models.load_model('h5-model.h5')\n",
        "h5_model.summary()"
      ],
      "metadata": {
        "id": "kEZRSB13a2Ui",
        "colab": {
          "base_uri": "https://localhost:8080/"
        },
        "outputId": "956c27e5-46d1-4884-9465-0d7eebae5176"
      },
      "execution_count": 4,
      "outputs": [
        {
          "output_type": "stream",
          "name": "stdout",
          "text": [
            "Model: \"sequential\"\n",
            "_________________________________________________________________\n",
            " Layer (type)                Output Shape              Param #   \n",
            "=================================================================\n",
            " flatten (Flatten)           (None, 784)               0         \n",
            "                                                                 \n",
            " dense (Dense)               (None, 256)               200960    \n",
            "                                                                 \n",
            " dense_1 (Dense)             (None, 64)                16448     \n",
            "                                                                 \n",
            " dense_2 (Dense)             (None, 32)                2080      \n",
            "                                                                 \n",
            " dense_3 (Dense)             (None, 10)                330       \n",
            "                                                                 \n",
            "=================================================================\n",
            "Total params: 219,818\n",
            "Trainable params: 219,818\n",
            "Non-trainable params: 0\n",
            "_________________________________________________________________\n"
          ]
        }
      ]
    },
    {
      "cell_type": "markdown",
      "source": [
        "> 모델 구조 그대로 복원"
      ],
      "metadata": {
        "id": "lK1kAr7kWGCN"
      }
    },
    {
      "cell_type": "code",
      "source": [
        "# 모델 검증\n",
        "loss, acc = h5_model.evaluate(x_test, y_test, verbose=0)\n",
        "print(f'h5 model] loss: {loss:.5f}, acc: {acc:.5f}')"
      ],
      "metadata": {
        "id": "MBBbvTaYa7-u",
        "colab": {
          "base_uri": "https://localhost:8080/"
        },
        "outputId": "7eb62c29-a015-4fc6-fb40-33ef3a6e26c2"
      },
      "execution_count": 5,
      "outputs": [
        {
          "output_type": "stream",
          "name": "stdout",
          "text": [
            "h5 model] loss: 0.10830, acc: 0.97530\n"
          ]
        }
      ]
    },
    {
      "cell_type": "code",
      "source": [
        "# 모델을 SavedModel 포맷으로 저장\n",
        "model.save('saved-model')"
      ],
      "metadata": {
        "id": "AKdEkLQFa8nN",
        "colab": {
          "base_uri": "https://localhost:8080/"
        },
        "outputId": "4374796d-7c1b-4210-a5c9-3c0a1a2cf19b"
      },
      "execution_count": 6,
      "outputs": [
        {
          "output_type": "stream",
          "name": "stdout",
          "text": [
            "INFO:tensorflow:Assets written to: saved-model/assets\n"
          ]
        }
      ]
    },
    {
      "cell_type": "code",
      "source": [
        "# 모델 복원\n",
        "saved_model = tf.keras.models.load_model('saved-model')\n",
        "saved_model.summary()"
      ],
      "metadata": {
        "id": "stWk7buQbAFs",
        "colab": {
          "base_uri": "https://localhost:8080/"
        },
        "outputId": "ce65a6c6-0f46-493c-e0f7-7149185f6590"
      },
      "execution_count": 7,
      "outputs": [
        {
          "output_type": "stream",
          "name": "stdout",
          "text": [
            "Model: \"sequential\"\n",
            "_________________________________________________________________\n",
            " Layer (type)                Output Shape              Param #   \n",
            "=================================================================\n",
            " flatten (Flatten)           (None, 784)               0         \n",
            "                                                                 \n",
            " dense (Dense)               (None, 256)               200960    \n",
            "                                                                 \n",
            " dense_1 (Dense)             (None, 64)                16448     \n",
            "                                                                 \n",
            " dense_2 (Dense)             (None, 32)                2080      \n",
            "                                                                 \n",
            " dense_3 (Dense)             (None, 10)                330       \n",
            "                                                                 \n",
            "=================================================================\n",
            "Total params: 219,818\n",
            "Trainable params: 219,818\n",
            "Non-trainable params: 0\n",
            "_________________________________________________________________\n"
          ]
        }
      ]
    },
    {
      "cell_type": "code",
      "source": [
        "# 모델 검증(HDF5 포맷)\n",
        "loss, acc = h5_model.evaluate(x_test, y_test, verbose=0)\n",
        "print(f'h5 model] loss: {loss:.5f}, acc: {acc:.5f}')\n",
        "\n",
        "# 모델 검증(SavedModel 포맷)\n",
        "loss, acc = saved_model.evaluate(x_test, y_test, verbose=0)\n",
        "print(f'saved_model] loss: {loss:.5f}, acc: {acc:.5f}')"
      ],
      "metadata": {
        "id": "7UXcthnfbA_-",
        "colab": {
          "base_uri": "https://localhost:8080/"
        },
        "outputId": "8bc1ebca-167b-4e0e-b570-28eff92b2a73"
      },
      "execution_count": 8,
      "outputs": [
        {
          "output_type": "stream",
          "name": "stdout",
          "text": [
            "h5 model] loss: 0.10830, acc: 0.97530\n",
            "saved_model] loss: 0.10830, acc: 0.97530\n"
          ]
        }
      ]
    },
    {
      "cell_type": "markdown",
      "source": [
        "> SavedModel, HDF5 형식으로 저장 및 복원된 모델의 성능은 서로 동일"
      ],
      "metadata": {
        "id": "6wELYGSOWyat"
      }
    },
    {
      "cell_type": "markdown",
      "source": [
        "### 07 복잡한 모델 생성"
      ],
      "metadata": {
        "id": "e2HrxwQja5ik"
      }
    },
    {
      "cell_type": "markdown",
      "source": [
        "#### 7-1 함수형 API(Functional API)\n",
        "* Sequential API와 Functional API의 비교\n",
        "  - Sequential API : 여러 층을 시퀀스 형태로 연결\n",
        "    - 단방향의 Sequential 모델만 구현 가능\n",
        "    - 데이터 흐름이 특정 레이어를 건너뛰거나 병합 및 분리하는 구조의 모델 구현 불가\n",
        "  - **Functional API** : 함수 형태로 딥러닝 모델 정의\n",
        "    - 복잡한 구조의 모델 정의 가능\n",
        "    - 다중 입력, 다중 출력, 같은 레벨에 여러 개의 층을 배치하여 입력과 출력을 공유하는 구조의 모델 구현 가능"
      ],
      "metadata": {
        "id": "24qhtInqbOwb"
      }
    },
    {
      "cell_type": "markdown",
      "source": [
        "mnist 데이터셋 불러오기"
      ],
      "metadata": {
        "id": "bsy4opJeZeDr"
      }
    },
    {
      "cell_type": "code",
      "execution_count": 9,
      "metadata": {
        "id": "3eZ3MZG-XZNl"
      },
      "outputs": [],
      "source": [
        "import tensorflow as tf\n",
        "\n",
        "# 케라스의 내장 데이터셋에서 mnist 데이터셋 로드\n",
        "mnist = tf.keras.datasets.mnist\n",
        "\n",
        "# load_data()로 데이터셋 로드\n",
        "(x_train, y_train), (x_test, y_test) = mnist.load_data()\n",
        "\n",
        "# 데이터 정규화\n",
        "x_train = x_train / x_train.max()\n",
        "x_test = x_test / x_test.max()"
      ]
    },
    {
      "cell_type": "markdown",
      "source": [
        "Sequential API"
      ],
      "metadata": {
        "id": "CaFr7bswZemu"
      }
    },
    {
      "cell_type": "code",
      "source": [
        "model = tf.keras.Sequential([\n",
        "                             tf.keras.layers.Flatten(input_shape=(28, 28)), \n",
        "                             tf.keras.layers.Dense(256, activation='relu'), \n",
        "                             tf.keras.layers.Dense(64, activation='relu'), \n",
        "                             tf.keras.layers.Dense(32, activation='relu'), \n",
        "                             tf.keras.layers.Dense(10, activation='softmax'), \n",
        "])"
      ],
      "metadata": {
        "id": "maM_sdrubYiO"
      },
      "execution_count": 10,
      "outputs": []
    },
    {
      "cell_type": "markdown",
      "source": [
        "Functional API"
      ],
      "metadata": {
        "id": "8RD0vRpIZmo5"
      }
    },
    {
      "cell_type": "markdown",
      "source": [
        "1. Input 레이어 정의 : 데이터의 입력 shape 정의\n",
        "2. 여러 개의 레이어를 체인 구조로 연결 : 레이어마다 반환되는 출력 값을 변수에 저장한 뒤 다음 레이어의 입력으로 연결\n",
        "3. `tf.keras.Model(inputs, outputs)`에 입력 레이어와 출력 레이어를 정의해 모델 생성"
      ],
      "metadata": {
        "id": "rR-64uxSaczw"
      }
    },
    {
      "cell_type": "code",
      "source": [
        "# 모델의 레이어를 체인 구조로 연결 Input 레이어 정의\n",
        "input_layer = tf.keras.Input(shape=(28, 28), name='InputLayer')\n",
        "\n",
        "# 모델의 레이어를 체인 구조로 연결\n",
        "# name 매개변수로 이름 부여\n",
        "x1 = tf.keras.layers.Flatten(name='Flatten')(input_layer)\n",
        "x2 = tf.keras.layers.Dense(256, activation='relu', name='Dense1')(x1)\n",
        "x3 = tf.keras.layers.Dense(64, activation='relu', name='Dense2')(x2)\n",
        "x4 = tf.keras.layers.Dense(10, activation='softmax', name='OutputLayer')(x3)"
      ],
      "metadata": {
        "id": "tyHMZ3xYba_u"
      },
      "execution_count": 11,
      "outputs": []
    },
    {
      "cell_type": "code",
      "source": [
        "# 모델 생성\n",
        "# name 매개변수로 이름 부여\n",
        "func_model = tf.keras.Model(inputs=input_layer, outputs=x4, name='FunctionalModel')\n",
        "\n",
        "# 모델 요약\n",
        "func_model.summary() # 요약 출력 시 위 코드에서 정의한 이름이 함께 출력"
      ],
      "metadata": {
        "id": "y8rRZF2tbpG2",
        "colab": {
          "base_uri": "https://localhost:8080/"
        },
        "outputId": "762a6221-833a-4677-edc6-637d2a125e2e"
      },
      "execution_count": 12,
      "outputs": [
        {
          "output_type": "stream",
          "name": "stdout",
          "text": [
            "Model: \"FunctionalModel\"\n",
            "_________________________________________________________________\n",
            " Layer (type)                Output Shape              Param #   \n",
            "=================================================================\n",
            " InputLayer (InputLayer)     [(None, 28, 28)]          0         \n",
            "                                                                 \n",
            " Flatten (Flatten)           (None, 784)               0         \n",
            "                                                                 \n",
            " Dense1 (Dense)              (None, 256)               200960    \n",
            "                                                                 \n",
            " Dense2 (Dense)              (None, 64)                16448     \n",
            "                                                                 \n",
            " OutputLayer (Dense)         (None, 10)                650       \n",
            "                                                                 \n",
            "=================================================================\n",
            "Total params: 218,058\n",
            "Trainable params: 218,058\n",
            "Non-trainable params: 0\n",
            "_________________________________________________________________\n"
          ]
        }
      ]
    },
    {
      "cell_type": "markdown",
      "source": [
        "모델 구조도 시각화"
      ],
      "metadata": {
        "id": "7bsoIHYWc5hk"
      }
    },
    {
      "cell_type": "markdown",
      "source": [
        "* `tensorflow.keras.utils` 패키지 내 `plot_model()` : 모델 지정 시 구조도 출력\n",
        "  - `show_shapes=True` : 데이터의 입출력 shape 출력\n",
        "  - `show_layer_names=True` : 레이어의 이름 출력\n",
        "  - `to_file='파일명'` : 시각화한 구조도를 이미지 파일로 저장\n"
      ],
      "metadata": {
        "id": "fHoA23QOdEhi"
      }
    },
    {
      "cell_type": "code",
      "source": [
        "from tensorflow.keras.utils import plot_model\n",
        "\n",
        "# 구조도 시각화\n",
        "plot_model(func_model, show_shapes=True, show_layer_names=True, to_file='model.png')"
      ],
      "metadata": {
        "id": "jgmdA_4ObpcK",
        "colab": {
          "base_uri": "https://localhost:8080/",
          "height": 533
        },
        "outputId": "73e3e8f7-2087-4620-f207-52a6a8eb5794"
      },
      "execution_count": 13,
      "outputs": [
        {
          "output_type": "execute_result",
          "data": {
            "text/plain": [
              "<IPython.core.display.Image object>"
            ],
            "image/png": "[encoded data removed]"
          },
          "metadata": {},
          "execution_count": 13
        }
      ]
    },
    {
      "cell_type": "markdown",
      "source": [
        "모델 훈련"
      ],
      "metadata": {
        "id": "zeIUj02Pefp0"
      }
    },
    {
      "cell_type": "code",
      "source": [
        "# 컴파일\n",
        "func_model.compile(optimizer='adam', loss='sparse_categorical_crossentropy', metrics=['accuracy'])\n",
        "\n",
        "# 훈련\n",
        "func_model.fit(x_train, y_train, epochs=3)\n",
        "\n",
        "# 검증\n",
        "loss, acc = func_model.evaluate(x_test, y_test, verbose=0)\n",
        "print(f'Functional Model] loss: {loss:.5f}, acc: {acc:.5f}')"
      ],
      "metadata": {
        "id": "rypfmUkkbtVA",
        "colab": {
          "base_uri": "https://localhost:8080/"
        },
        "outputId": "ebcc1399-8c05-43c6-9b51-1598b023af15"
      },
      "execution_count": 14,
      "outputs": [
        {
          "output_type": "stream",
          "name": "stdout",
          "text": [
            "Epoch 1/3\n",
            "1875/1875 [==============================] - 7s 4ms/step - loss: 0.2103 - accuracy: 0.9378\n",
            "Epoch 2/3\n",
            "1875/1875 [==============================] - 8s 4ms/step - loss: 0.0904 - accuracy: 0.9719\n",
            "Epoch 3/3\n",
            "1875/1875 [==============================] - 7s 4ms/step - loss: 0.0607 - accuracy: 0.9808\n",
            "Functional Model] loss: 0.07285, acc: 0.97820\n"
          ]
        }
      ]
    },
    {
      "cell_type": "markdown",
      "source": [
        "#### 7-2 모델 서브클래싱(Model Subclassing)\n",
        "* `tf.keras.Model` 클래스를 직접 상속받아 사용자가 직접 서브클래스로 딥러닝 모델 생성 가능\n",
        "![image.png](data:image/png;base64,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)\n",
        "\n",
        "* 함수형 API로 생성한 모델과의 성능 차이는 없음"
      ],
      "metadata": {
        "id": "5TxgqX2tbuQf"
      }
    },
    {
      "cell_type": "markdown",
      "source": [
        "모델 인스턴스 생성"
      ],
      "metadata": {
        "id": "kJS9vG-GfJgm"
      }
    },
    {
      "cell_type": "markdown",
      "source": [
        "* `__init__()` : 레이어와 하이퍼파라미터 정의\n",
        "* `call()` : `fit()`이 호출되어 훈련하는 경우 호출될 함수, 메소드 오버라이딩으로 구현\n",
        "  - 모델의 입력부터 출력까지의 흐름(순전파)을 정의\n",
        "  \n",
        "    -> 모든 레이어를 체인처럼 연결\n",
        "\n",
        "    -> 최종 출력 값 return\n"
      ],
      "metadata": {
        "id": "kOwsVLtZgOIk"
      }
    },
    {
      "cell_type": "code",
      "source": [
        "class MyModel(tf.keras.Model):\n",
        "    \n",
        "    def __init__(self):\n",
        "        super(MyModel, self).__init__()\n",
        "        # 초기값 설정\n",
        "        self.flatten = tf.keras.layers.Flatten()\n",
        "        self.dense1 = tf.keras.layers.Dense(256, activation='relu')\n",
        "        self.dense2 = tf.keras.layers.Dense(64, activation='relu')\n",
        "        self.dense3 = tf.keras.layers.Dense(10, activation='softmax')\n",
        "        \n",
        "    # method overiding\n",
        "    # 학습용 함수 정의\n",
        "    # x는 input\n",
        "    def call(self, x):\n",
        "        x = self.flatten(x)\n",
        "        x = self.dense1(x)\n",
        "        x = self.dense2(x)\n",
        "        x = self.dense3(x)\n",
        "        return x"
      ],
      "metadata": {
        "id": "fgYriV2XbyRn"
      },
      "execution_count": 15,
      "outputs": []
    },
    {
      "cell_type": "code",
      "source": [
        "# 모델 생성\n",
        "mymodel = MyModel()\n",
        "\n",
        "# 모델의 이름 설정\n",
        "mymodel._name = 'subclass_model'\n",
        "\n",
        "# 모델 input 정의\n",
        "mymodel(tf.keras.layers.Input(shape=(28, 28)))\n",
        "\n",
        "# 모델 요약\n",
        "mymodel.summary()"
      ],
      "metadata": {
        "id": "2oHWQy2mcGFZ",
        "colab": {
          "base_uri": "https://localhost:8080/"
        },
        "outputId": "b1bab87d-e92f-42a2-817c-afa5e27a8247"
      },
      "execution_count": 16,
      "outputs": [
        {
          "output_type": "stream",
          "name": "stdout",
          "text": [
            "Model: \"subclass_model\"\n",
            "_________________________________________________________________\n",
            " Layer (type)                Output Shape              Param #   \n",
            "=================================================================\n",
            " flatten_2 (Flatten)         multiple                  0         \n",
            "                                                                 \n",
            " dense_8 (Dense)             multiple                  200960    \n",
            "                                                                 \n",
            " dense_9 (Dense)             multiple                  16448     \n",
            "                                                                 \n",
            " dense_10 (Dense)            multiple                  650       \n",
            "                                                                 \n",
            "=================================================================\n",
            "Total params: 218,058\n",
            "Trainable params: 218,058\n",
            "Non-trainable params: 0\n",
            "_________________________________________________________________\n"
          ]
        }
      ]
    },
    {
      "cell_type": "markdown",
      "source": [
        "> `mymodel` 변수에 바로 `summary()`로 요약 출력하는 것은 불가\n",
        ">\n",
        "> -> input_shape이 정의되지 않아 전체 모델의 구조를 생성해내지 못하기 때문\n",
        ">\n",
        "> => `mymodel`에 Input 레이어와 함께 shape을 정의해주면 `summary()`로 모델 요약 확인 가능"
      ],
      "metadata": {
        "id": "apDPZe3UiBHA"
      }
    },
    {
      "cell_type": "markdown",
      "source": [
        "모델 훈련"
      ],
      "metadata": {
        "id": "abw4iOxIjC8f"
      }
    },
    {
      "cell_type": "code",
      "source": [
        "# 컴파일\n",
        "mymodel.compile(optimizer='adam', loss='sparse_categorical_crossentropy',\n",
        "                metrics=['accuracy'])\n",
        "\n",
        "# 훈련\n",
        "mymodel.fit(x_train, y_train, epochs=3)\n",
        "\n",
        "# 검증\n",
        "loss, acc = mymodel.evaluate(x_test, y_test, verbose=0)\n",
        "print(f'Subclassing Model] loss: {loss:.5f}, acc: {acc:.5f}')"
      ],
      "metadata": {
        "id": "vjlNiINMcIGG",
        "colab": {
          "base_uri": "https://localhost:8080/"
        },
        "outputId": "a692ea7d-0ce0-4b06-8db9-3c4c87cefcc2"
      },
      "execution_count": 17,
      "outputs": [
        {
          "output_type": "stream",
          "name": "stdout",
          "text": [
            "Epoch 1/3\n",
            "1875/1875 [==============================] - 8s 4ms/step - loss: 0.2164 - accuracy: 0.9355\n",
            "Epoch 2/3\n",
            "1875/1875 [==============================] - 7s 3ms/step - loss: 0.0910 - accuracy: 0.9716\n",
            "Epoch 3/3\n",
            "1875/1875 [==============================] - 7s 3ms/step - loss: 0.0607 - accuracy: 0.9811\n",
            "Subclassing Model] loss: 0.07091, acc: 0.97810\n"
          ]
        }
      ]
    },
    {
      "cell_type": "markdown",
      "source": [
        "#### 7-3 서브클래싱 모델 파라미터를 활용한 생성\n",
        "* 장점 : 생성자 파라미터로 모델 내부 레이어의 하이퍼파라미터 지정 가능"
      ],
      "metadata": {
        "id": "lNYINeJRcLA1"
      }
    },
    {
      "cell_type": "markdown",
      "source": [
        "모델 인스턴스 생성 - 생성자 파라미터 추가하여 동적으로 레이어 유닛 개수 초기화"
      ],
      "metadata": {
        "id": "0484sgZdjxKr"
      }
    },
    {
      "cell_type": "code",
      "source": [
        "class MyModel(tf.keras.Model):\n",
        "    \n",
        "    # 생성자 parameter 추가\n",
        "    def __init__(self, units, num_classes):\n",
        "        super(MyModel, self).__init__()\n",
        "        # 초기값 설정\n",
        "        self.flatten = tf.keras.layers.Flatten()\n",
        "        self.dense1 = tf.keras.layers.Dense(units, activation='relu')\n",
        "        self.dense2 = tf.keras.layers.Dense(units/4, activation='relu')\n",
        "        self.dense3 = tf.keras.layers.Dense(num_classes, activation='softmax')\n",
        "        \n",
        "    # class overiding\n",
        "    # 학습용 함수 정의\n",
        "    # x는 input\n",
        "    def call(self, x):\n",
        "        x = self.flatten(x)\n",
        "        x = self.dense1(x)\n",
        "        x = self.dense2(x)\n",
        "        x = self.dense3(x)\n",
        "        return x"
      ],
      "metadata": {
        "id": "HRr41jpVdNRK"
      },
      "execution_count": 18,
      "outputs": []
    },
    {
      "cell_type": "code",
      "source": [
        "# 모델 생성\n",
        "mymodel = MyModel(256, 10)\n",
        "\n",
        "# 모델 input 정의\n",
        "mymodel(tf.keras.layers.Input(shape=(28, 28)))\n",
        "\n",
        "# 모델 요약\n",
        "mymodel.summary()"
      ],
      "metadata": {
        "id": "cTTiW0eTdPxH",
        "colab": {
          "base_uri": "https://localhost:8080/"
        },
        "outputId": "ab408fce-ab5f-4a4e-b8e5-fed528dbc498"
      },
      "execution_count": 19,
      "outputs": [
        {
          "output_type": "stream",
          "name": "stdout",
          "text": [
            "Model: \"my_model_1\"\n",
            "_________________________________________________________________\n",
            " Layer (type)                Output Shape              Param #   \n",
            "=================================================================\n",
            " flatten_3 (Flatten)         multiple                  0         \n",
            "                                                                 \n",
            " dense_11 (Dense)            multiple                  200960    \n",
            "                                                                 \n",
            " dense_12 (Dense)            multiple                  16448     \n",
            "                                                                 \n",
            " dense_13 (Dense)            multiple                  650       \n",
            "                                                                 \n",
            "=================================================================\n",
            "Total params: 218,058\n",
            "Trainable params: 218,058\n",
            "Non-trainable params: 0\n",
            "_________________________________________________________________\n"
          ]
        }
      ]
    },
    {
      "cell_type": "markdown",
      "source": [
        "모델 훈련"
      ],
      "metadata": {
        "id": "d9496mNRktHz"
      }
    },
    {
      "cell_type": "code",
      "source": [
        "# 컴파일\n",
        "mymodel.compile(optimizer='adam', loss='sparse_categorical_crossentropy',\n",
        "                metrics=['accuracy'])\n",
        "\n",
        "# 훈련\n",
        "mymodel.fit(x_train, y_train, epochs=3)\n",
        "\n",
        "# 검증\n",
        "loss, acc = mymodel.evaluate(x_test, y_test, verbose=0)\n",
        "print(f'Subclassing Model w. parameters] loss: {loss:.5f}, acc: {acc:.5f}')"
      ],
      "metadata": {
        "id": "sCzHL3zMdRnb",
        "colab": {
          "base_uri": "https://localhost:8080/"
        },
        "outputId": "38341d50-4533-4701-8332-6ce0926dfe06"
      },
      "execution_count": 20,
      "outputs": [
        {
          "output_type": "stream",
          "name": "stdout",
          "text": [
            "Epoch 1/3\n",
            "1875/1875 [==============================] - 7s 3ms/step - loss: 0.2124 - accuracy: 0.9364\n",
            "Epoch 2/3\n",
            "1875/1875 [==============================] - 7s 4ms/step - loss: 0.0878 - accuracy: 0.9727\n",
            "Epoch 3/3\n",
            "1875/1875 [==============================] - 6s 3ms/step - loss: 0.0595 - accuracy: 0.9814\n",
            "Subclassing Model w. parameters] loss: 0.07563, acc: 0.97650\n"
          ]
        }
      ]
    }
  ]
}