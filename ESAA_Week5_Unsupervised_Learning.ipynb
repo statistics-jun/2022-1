{
  "nbformat": 4,
  "nbformat_minor": 0,
  "metadata": {
    "colab": {
      "name": "ESAA_Week5_Unsupervised_Learning.ipynb",
      "provenance": [],
      "collapsed_sections": [],
      "mount_file_id": "1pTqUuEM1woOG2VwVdxI62BUJh8Rl4L2E",
      "authorship_tag": "ABX9TyPrIPG2ywub74FtTf3pFE0B",
      "include_colab_link": true
    },
    "kernelspec": {
      "name": "python3",
      "display_name": "Python 3"
    },
    "language_info": {
      "name": "python"
    }
  },
  "cells": [
    {
      "cell_type": "markdown",
      "metadata": {
        "id": "view-in-github",
        "colab_type": "text"
      },
      "source": [
        "<a href=\"https://colab.research.google.com/github/statistics-jun/2022-1-ESAA/blob/main/ESAA_Week5_Unsupervised_Learning.ipynb\" target=\"_parent\"><img src=\"https://colab.research.google.com/assets/colab-badge.svg\" alt=\"Open In Colab\"/></a>"
      ]
    },
    {
      "cell_type": "markdown",
      "source": [
        "# 2022-1 ESAA 5기 김혜준 개념 필사 - 0408(금) 5주차 과제\n",
        " \n",
        "## <핸즈온 머신러닝>\n",
        "## Chapter 9 비지도 학습"
      ],
      "metadata": {
        "id": "Nm-SxkECrR0y"
      }
    },
    {
      "cell_type": "markdown",
      "source": [
        "* 사용할 수 있는 데이터는 대부분 입력 특성 X는 있지만 레이블 y가 없음 -> 비지도 학습 필요\n",
        "  - 군집(clustering) : 비슷한 샘플을 클러스터로 모음\n",
        "  - 이상치 탐지(outlier detection) : '정상' 데이터가 어떻게 보이는지 학습 -> 비정상 샘플 감지에 사용\n",
        "  - 밀도 추정(density estimation) : 데이터셋 생성 확률 과정의 확률 밀도 함수 추정 -> 이상치 탐지에 사용"
      ],
      "metadata": {
        "id": "3QFH77zrsEJV"
      }
    },
    {
      "cell_type": "markdown",
      "source": [
        "### 9.1 군집\n",
        "* 군집 : 비슷한 샘플을 구별해 하나의 클러스터 또는 비슷한 샘플의 그룹으로 할당하는 작업\n",
        "  - 각 샘플은 하나의 그룹에 할당\n",
        "  - 다양한 애플리케이션에서 사용\n",
        "    - 고객 분류 예) 추천 시스템\n",
        "    - 데이터 분석\n",
        "    - 차원 축소 기법\n",
        "    - 이상치 탐지\n",
        "    - 준지도 학습\n",
        "    - 검색 엔진\n",
        "    - 이미지 분할\n",
        "\n"
      ],
      "metadata": {
        "id": "S5M49mmLs_At"
      }
    },
    {
      "cell_type": "markdown",
      "source": [
        "#### 9.1.1 k-평균\n",
        "* k-평균 알고리즘 : 각 클러스터의 중심을 찾고 가장 가까운 클러스터에 샘플 할당\n",
        "  - 레이블 : 알고리즘이 샘플에 할당한 클러스터의 인덱스 (labels_)\n",
        "  - 센트로이드(cluster_centers_)\n",
        "* 클러스터의 크기가 많이 다르면 잘 작동하지 않음\n",
        "* 하드 군집 : 샘플을 하나의 클러스터에 할당\n",
        "* 소프트 군집 : 클러스터마다 샘플에 점수 부여\n",
        "  - 샘플과 센트로이드 사이 거리 (transform() 메서드)\n",
        "  - 유사도 또는 친화성 점수"
      ],
      "metadata": {
        "id": "CGUeMFxK3s5G"
      }
    },
    {
      "cell_type": "code",
      "source": [
        "import numpy as np\n",
        "\n",
        "# 예제 데이터 생성\n",
        "from sklearn.datasets import make_blobs\n",
        "blob_centers = np.array([[ 0.2,  2.3],\n",
        "                         [-1.5 ,  2.3],\n",
        "                         [-2.8,  1.8],\n",
        "                         [-2.8,  2.8],\n",
        "                         [-2.8,  1.3]])\n",
        "blob_std = np.array([0.4, 0.3, 0.1, 0.1, 0.1])\n",
        "X, y = make_blobs(n_samples=2000, centers=blob_centers,cluster_std=blob_std, random_state=7)"
      ],
      "metadata": {
        "id": "ic92kMDG4e0e"
      },
      "execution_count": 9,
      "outputs": []
    },
    {
      "cell_type": "code",
      "execution_count": 10,
      "metadata": {
        "id": "gA64zH-xrQ0y"
      },
      "outputs": [],
      "source": [
        "# k-평균 알고리즘 훈련\n",
        "from sklearn.cluster import KMeans\n",
        "k = 5\n",
        "kmeans = KMeans(n_clusters=k, random_state=42)\n",
        "y_pred = kmeans.fit_predict(X)"
      ]
    },
    {
      "cell_type": "code",
      "source": [
        "y_pred"
      ],
      "metadata": {
        "colab": {
          "base_uri": "https://localhost:8080/"
        },
        "id": "3mPkVnma4Tqv",
        "outputId": "8c081f4b-83bb-4f37-90cc-c7537c7dbd51"
      },
      "execution_count": 11,
      "outputs": [
        {
          "output_type": "execute_result",
          "data": {
            "text/plain": [
              "array([4, 0, 1, ..., 2, 1, 0], dtype=int32)"
            ]
          },
          "metadata": {},
          "execution_count": 11
        }
      ]
    },
    {
      "cell_type": "code",
      "source": [
        "y_pred is kmeans.labels_ # 훈련된 샘플의 레이블"
      ],
      "metadata": {
        "colab": {
          "base_uri": "https://localhost:8080/"
        },
        "id": "JK6kvhbM5vTa",
        "outputId": "6478fe30-4641-4576-8180-9fdb3190682d"
      },
      "execution_count": 12,
      "outputs": [
        {
          "output_type": "execute_result",
          "data": {
            "text/plain": [
              "True"
            ]
          },
          "metadata": {},
          "execution_count": 12
        }
      ]
    },
    {
      "cell_type": "code",
      "source": [
        "kmeans.cluster_centers_ # 센트로이드 확인"
      ],
      "metadata": {
        "colab": {
          "base_uri": "https://localhost:8080/"
        },
        "id": "G3ZvjI6W5yuq",
        "outputId": "3a1e141d-2f9b-4526-efac-ab34af846eaa"
      },
      "execution_count": 13,
      "outputs": [
        {
          "output_type": "execute_result",
          "data": {
            "text/plain": [
              "array([[-2.80389616,  1.80117999],\n",
              "       [ 0.20876306,  2.25551336],\n",
              "       [-2.79290307,  2.79641063],\n",
              "       [-1.46679593,  2.28585348],\n",
              "       [-2.80037642,  1.30082566]])"
            ]
          },
          "metadata": {},
          "execution_count": 13
        }
      ]
    },
    {
      "cell_type": "code",
      "source": [
        "# 새로운 샘플에 가장 가까운 센트로이드의 클러스터 할당\n",
        "X_new = np.array([[0, 2], [3, 2], [-3, 3], [-3, 2.5]])\n",
        "kmeans.predict(X_new)"
      ],
      "metadata": {
        "colab": {
          "base_uri": "https://localhost:8080/"
        },
        "id": "qzo68VJX6Eos",
        "outputId": "1463b271-01cb-4a5e-ee69-ee8e4bef6758"
      },
      "execution_count": 14,
      "outputs": [
        {
          "output_type": "execute_result",
          "data": {
            "text/plain": [
              "array([1, 1, 2, 2], dtype=int32)"
            ]
          },
          "metadata": {},
          "execution_count": 14
        }
      ]
    },
    {
      "cell_type": "code",
      "source": [
        "kmeans.transform(X_new) # 샘플과 각 센트로이드 사이의 거리"
      ],
      "metadata": {
        "colab": {
          "base_uri": "https://localhost:8080/"
        },
        "id": "N8BY1s_f6Yax",
        "outputId": "69bd7b75-25e9-4a20-cea2-979b51619269"
      },
      "execution_count": 15,
      "outputs": [
        {
          "output_type": "execute_result",
          "data": {
            "text/plain": [
              "array([[2.81093633, 0.32995317, 2.9042344 , 1.49439034, 2.88633901],\n",
              "       [5.80730058, 2.80290755, 5.84739223, 4.4759332 , 5.84236351],\n",
              "       [1.21475352, 3.29399768, 0.29040966, 1.69136631, 1.71086031],\n",
              "       [0.72581411, 3.21806371, 0.36159148, 1.54808703, 1.21567622]])"
            ]
          },
          "metadata": {},
          "execution_count": 15
        }
      ]
    },
    {
      "cell_type": "markdown",
      "source": [
        "##### k-평균 알고리즘\n",
        "* k개의 센트로이드를 랜덤하게 선정\n",
        "* 샘플에 레이블 할당하고 업데이트하는 작업을 센트로이드가 변화하지 않을 때까지 반복"
      ],
      "metadata": {
        "id": "PGEdaMwD9ZGz"
      }
    },
    {
      "cell_type": "markdown",
      "source": [
        "##### 센트로이드 초기화 방법\n",
        "* init 매개변수에 센트로이드 리스트를 담은 넘파이 배열 지정 & n_init = 1\n",
        "* 랜덤 초기화를 다르게 하여 여러 번 알고리즘을 실행(n_init 조절 (기본값 10))하고 가장 좋은 솔루션 선택 -> 이너셔가 가장 낮은 모델 \n",
        "  - 이너셔 : 각 샘플과 가장 가까운 센트로이드 사이의 평균 제곱 거리 (inertia_)\n",
        "    - score() : 이너셔의 음숫값\n",
        "\n",
        "* 초기화 방식\n",
        "  - init=\"k-means++\" (기본값)\n",
        "  - init=\"random\"\n"
      ],
      "metadata": {
        "id": "A_Twfp6e-us2"
      }
    },
    {
      "cell_type": "code",
      "source": [
        "kmeans.inertia_ # 이너셔"
      ],
      "metadata": {
        "colab": {
          "base_uri": "https://localhost:8080/"
        },
        "id": "0W6Ww50F9Ob-",
        "outputId": "7a589ebc-9ded-4cab-dcd1-2817f5004c03"
      },
      "execution_count": 16,
      "outputs": [
        {
          "output_type": "execute_result",
          "data": {
            "text/plain": [
              "211.5985372581684"
            ]
          },
          "metadata": {},
          "execution_count": 16
        }
      ]
    },
    {
      "cell_type": "code",
      "source": [
        "kmeans.score(X) # 이너셔의 음숫값 반환"
      ],
      "metadata": {
        "colab": {
          "base_uri": "https://localhost:8080/"
        },
        "id": "Eb6k1GttBJLX",
        "outputId": "f72a35b4-c16c-4a23-d3b7-5ac3792a4fa5"
      },
      "execution_count": 17,
      "outputs": [
        {
          "output_type": "execute_result",
          "data": {
            "text/plain": [
              "-211.59853725816836"
            ]
          },
          "metadata": {},
          "execution_count": 17
        }
      ]
    },
    {
      "cell_type": "markdown",
      "source": [
        "##### k-평균 속도 개선과 미니배치 k-평균\n",
        "* k-평균 속도 개선 : 삼각 부등식 사용하여 불필요한 거리 계산 피함\n",
        "  - algorithm=\"elkan\" (기본값) cf) algorithm=\"full\"(원래 알고리즘))\n",
        "\n",
        "* 미니배치 k-평균 : 각 반복마다 미니배치를 사용해 센트로이드 조금씩 이동, 대량의 데이터셋에 적용 가능 (MiniBatchKMeans 클래스)\n",
        "  - k-평균 알고리즘보다 속도는 더 빠르지만 이너셔는 더 나쁨"
      ],
      "metadata": {
        "id": "IqmxWyWpCQM3"
      }
    },
    {
      "cell_type": "code",
      "source": [
        "# 미니배치 k-평균\n",
        "from sklearn.cluster import MiniBatchKMeans\n",
        "\n",
        "minibatch_kmeans = MiniBatchKMeans(n_clusters=5)\n",
        "minibatch_kmeans.fit(X)"
      ],
      "metadata": {
        "colab": {
          "base_uri": "https://localhost:8080/"
        },
        "id": "M1pkfltpBZwi",
        "outputId": "992ff081-b496-4f82-d0db-ea8e99e81876"
      },
      "execution_count": 18,
      "outputs": [
        {
          "output_type": "execute_result",
          "data": {
            "text/plain": [
              "MiniBatchKMeans(n_clusters=5)"
            ]
          },
          "metadata": {},
          "execution_count": 18
        }
      ]
    },
    {
      "cell_type": "markdown",
      "source": [
        "##### 최적의 클러스터 개수 찾기\n",
        "* 실루엣 점수 : 모든 샘플에 대한 실루엣 계수의 평균 (silhouette_score())\n",
        "  - 실루엣 계수 : (b - a) / max(a, b) => -1 ~ 1\n",
        "    - a : 클러스터 내부의 평균 거리 / b : 가장 가까운 클러스터까지 평균 거리\n",
        "    - +1에 가까우면 자신의 클러스터 안에 잘 속해 있고 다른 클러스터와는 멀리 떨어져 있음\n",
        "    - 0에 가까우면 클러스터 경계에 위치\n",
        "    - -1에 가까우면 샘플이 잘못된 클러스터에 할당\n",
        "* 실루엣 다이어그램 : 모든 샘플의 실루엣 계수를 할당된 클러스터와 계숫값으로 정렬하여 그린 그래프\n",
        "  - 높이 : 클러스터가 포함하고 있는 샘플의 개수\n",
        "  - 너비 : 클러스터에 포함된 샘플의 정렬된 실루엣 계수\n",
        "  - 수직 파선 : 각 클러스터 개수에 해당하는 실루엣 점수\n",
        "   - 많은 샘플이 파선의 왼쪽에서 멈추면 나쁜 클러스터"
      ],
      "metadata": {
        "id": "8wNE6sFUFVXt"
      }
    },
    {
      "cell_type": "code",
      "source": [
        "# 실루엣 점수\n",
        "from sklearn.metrics import silhouette_score\n",
        "silhouette_score(X, kmeans.labels_)"
      ],
      "metadata": {
        "colab": {
          "base_uri": "https://localhost:8080/"
        },
        "id": "4Y8ImGARErXq",
        "outputId": "482b28a8-cd42-49fd-903d-fe4139699572"
      },
      "execution_count": 19,
      "outputs": [
        {
          "output_type": "execute_result",
          "data": {
            "text/plain": [
              "0.655517642572828"
            ]
          },
          "metadata": {},
          "execution_count": 19
        }
      ]
    },
    {
      "cell_type": "markdown",
      "source": [
        "#### 9.1.2 k-평균의 한계\n",
        "* 알고리즘을 여러 번 실행 필요\n",
        "* 클러스터 개수 지정 필요\n",
        "* 입력 특성의 스케일 맞추는 것이 필요\n",
        "* 클러스터의 크기나 밀집도가 서로 다르거나 원형이 아닐 경우 잘 작동하지 않음\n",
        "\n",
        "  -> 타원형 클러스터에는 가우시안 혼합 모델이 잘 작동"
      ],
      "metadata": {
        "id": "hYi0UcovIKrl"
      }
    },
    {
      "cell_type": "markdown",
      "source": [
        "#### 9.1.3 군집을 사용한 이미지 분할\n",
        "* 이미지 분할 : 이미지응 세그먼트 여러 개로 분할하는 작업\n",
        "* 시맨틱 분할 : 동일한 종류의 물체에 속한 모든 픽셀은 같은 세그먼트에 할당\n",
        "* 색상 분할 : 동일한 색상을 가진 픽셀을 같은 세그먼트에 할당"
      ],
      "metadata": {
        "id": "7cMcsEK8JB1Z"
      }
    },
    {
      "cell_type": "code",
      "source": [
        "import matplotlib.pyplot as plt\n",
        "%matplotlib inline\n",
        "import os"
      ],
      "metadata": {
        "id": "RA_WmU3qG8hq"
      },
      "execution_count": 24,
      "outputs": []
    },
    {
      "cell_type": "code",
      "source": [
        "# 이미지 읽기\n",
        "from matplotlib.image import imread\n",
        "image = imread (os.path.join(\"/content/drive/MyDrive/ESAA/2022-1/과제/개념 필사/0408(금) 5주차 과제_ 비지도 학습/\", \"ladybug.png\"))\n",
        "image.shape"
      ],
      "metadata": {
        "colab": {
          "base_uri": "https://localhost:8080/"
        },
        "id": "U270bvSeKgAb",
        "outputId": "d8bca611-dd9d-4aa1-839b-163b2e775ede"
      },
      "execution_count": 25,
      "outputs": [
        {
          "output_type": "execute_result",
          "data": {
            "text/plain": [
              "(533, 800, 3)"
            ]
          },
          "metadata": {},
          "execution_count": 25
        }
      ]
    },
    {
      "cell_type": "code",
      "source": [
        "X = image.reshape(-1, 3) # RGB 색상의 긴 리스트로 변환\n",
        "# k-평균 알고리즘 적용\n",
        "kmeans = KMeans(n_clusters=8, random_state=42).fit(X)\n",
        "segmented_img = kmeans.cluster_centers_[kmeans.labels_]\n",
        "segmented_img = segmented_img.reshape(image.shape)"
      ],
      "metadata": {
        "id": "foy60w9_Ma_0"
      },
      "execution_count": 26,
      "outputs": []
    },
    {
      "cell_type": "markdown",
      "source": [
        "#### 9.1.4 군집을 사용한 전처리\n",
        "* 차원 축소에 효과적"
      ],
      "metadata": {
        "id": "uppDoAgaOLTt"
      }
    },
    {
      "cell_type": "code",
      "source": [
        "# 데이터셋 불러오기\n",
        "from sklearn.datasets import load_digits\n",
        "\n",
        "X_digits, y_digits = load_digits(return_X_y = True)"
      ],
      "metadata": {
        "id": "7aWKZJO-NFkA"
      },
      "execution_count": 27,
      "outputs": []
    },
    {
      "cell_type": "code",
      "source": [
        "# 훈련/테스트 세트 분리\n",
        "from sklearn.model_selection import train_test_split\n",
        "\n",
        "X_train, X_test, y_train, y_test = train_test_split(X_digits, y_digits, random_state=42)"
      ],
      "metadata": {
        "id": "xkhzeDvNOjFE"
      },
      "execution_count": 28,
      "outputs": []
    },
    {
      "cell_type": "code",
      "source": [
        "# 로지스틱 회귀 모델 훈련\n",
        "from sklearn.linear_model import LogisticRegression\n",
        "\n",
        "log_reg = LogisticRegression(multi_class=\"ovr\", solver=\"lbfgs\", max_iter=5000, random_state=42)\n",
        "log_reg.fit(X_train, y_train)"
      ],
      "metadata": {
        "colab": {
          "base_uri": "https://localhost:8080/"
        },
        "id": "PsaWTtAaOxD3",
        "outputId": "d18958cd-b2a4-463a-be45-19fa0375312d"
      },
      "execution_count": 31,
      "outputs": [
        {
          "output_type": "execute_result",
          "data": {
            "text/plain": [
              "LogisticRegression(max_iter=5000, multi_class='ovr', random_state=42)"
            ]
          },
          "metadata": {},
          "execution_count": 31
        }
      ]
    },
    {
      "cell_type": "code",
      "source": [
        "# 테스트 세트에서 정확도 평가\n",
        "log_reg.score(X_test, y_test)"
      ],
      "metadata": {
        "colab": {
          "base_uri": "https://localhost:8080/"
        },
        "id": "j0pRN2AQO9O7",
        "outputId": "4f4ab3bb-8f56-4c8f-8510-5a5ac161c907"
      },
      "execution_count": 32,
      "outputs": [
        {
          "output_type": "execute_result",
          "data": {
            "text/plain": [
              "0.9688888888888889"
            ]
          },
          "metadata": {},
          "execution_count": 32
        }
      ]
    },
    {
      "cell_type": "code",
      "source": [
        "# k-평균 전처리 사용\n",
        "from sklearn.pipeline import Pipeline\n",
        "\n",
        "pipeline = Pipeline([\n",
        "                     (\"kmeans\", KMeans(n_clusters=50, random_state=42)),\n",
        "                     (\"log_reg\", LogisticRegression(multi_class=\"ovr\", solver=\"lbfgs\", max_iter=5000, random_state=42))\n",
        "                     ])\n",
        "pipeline.fit(X_train, y_train)"
      ],
      "metadata": {
        "colab": {
          "base_uri": "https://localhost:8080/"
        },
        "id": "JFOaY6dRPENf",
        "outputId": "82b92850-59ee-4dec-88b7-6d55911934be"
      },
      "execution_count": 35,
      "outputs": [
        {
          "output_type": "execute_result",
          "data": {
            "text/plain": [
              "Pipeline(steps=[('kmeans', KMeans(n_clusters=50, random_state=42)),\n",
              "                ('log_reg',\n",
              "                 LogisticRegression(max_iter=5000, multi_class='ovr',\n",
              "                                    random_state=42))])"
            ]
          },
          "metadata": {},
          "execution_count": 35
        }
      ]
    },
    {
      "cell_type": "code",
      "source": [
        "# 분류 파이프라인 평가\n",
        "pipeline.score(X_test, y_test)"
      ],
      "metadata": {
        "colab": {
          "base_uri": "https://localhost:8080/"
        },
        "id": "PNt_mJXSPovF",
        "outputId": "bb2bb102-9df5-4b7e-bd7e-cfa627aa36e7"
      },
      "execution_count": 36,
      "outputs": [
        {
          "output_type": "execute_result",
          "data": {
            "text/plain": [
              "0.9777777777777777"
            ]
          },
          "metadata": {},
          "execution_count": 36
        }
      ]
    },
    {
      "cell_type": "code",
      "source": [
        "# 최적의 클러스터 개수 찾기\n",
        "from sklearn.model_selection import GridSearchCV\n",
        "\n",
        "param_grid = dict(kmeans__n_clusters=range(2, 100))\n",
        "grid_clf = GridSearchCV(pipeline, param_grid, cv=3, verbose=2)\n",
        "grid_clf.fit(X_train, y_train)"
      ],
      "metadata": {
        "colab": {
          "base_uri": "https://localhost:8080/"
        },
        "id": "kuvIzWAGP3p5",
        "outputId": "77887a52-4292-4dc2-af21-44ea3ba996b7"
      },
      "execution_count": 37,
      "outputs": [
        {
          "output_type": "stream",
          "name": "stdout",
          "text": [
            "Fitting 3 folds for each of 98 candidates, totalling 294 fits\n",
            "[CV] END ...............................kmeans__n_clusters=2; total time=   0.8s\n",
            "[CV] END ...............................kmeans__n_clusters=2; total time=   0.7s\n",
            "[CV] END ...............................kmeans__n_clusters=2; total time=   1.5s\n",
            "[CV] END ...............................kmeans__n_clusters=3; total time=   0.8s\n",
            "[CV] END ...............................kmeans__n_clusters=3; total time=   0.6s\n",
            "[CV] END ...............................kmeans__n_clusters=3; total time=   0.8s\n",
            "[CV] END ...............................kmeans__n_clusters=4; total time=   1.2s\n",
            "[CV] END ...............................kmeans__n_clusters=4; total time=   0.9s\n",
            "[CV] END ...............................kmeans__n_clusters=4; total time=   0.8s\n",
            "[CV] END ...............................kmeans__n_clusters=5; total time=   1.0s\n",
            "[CV] END ...............................kmeans__n_clusters=5; total time=   1.3s\n",
            "[CV] END ...............................kmeans__n_clusters=5; total time=   1.2s\n",
            "[CV] END ...............................kmeans__n_clusters=6; total time=   0.9s\n",
            "[CV] END ...............................kmeans__n_clusters=6; total time=   0.9s\n",
            "[CV] END ...............................kmeans__n_clusters=6; total time=   1.0s\n",
            "[CV] END ...............................kmeans__n_clusters=7; total time=   1.2s\n",
            "[CV] END ...............................kmeans__n_clusters=7; total time=   1.1s\n",
            "[CV] END ...............................kmeans__n_clusters=7; total time=   1.0s\n",
            "[CV] END ...............................kmeans__n_clusters=8; total time=   1.5s\n",
            "[CV] END ...............................kmeans__n_clusters=8; total time=   1.4s\n",
            "[CV] END ...............................kmeans__n_clusters=8; total time=   1.4s\n",
            "[CV] END ...............................kmeans__n_clusters=9; total time=   1.7s\n",
            "[CV] END ...............................kmeans__n_clusters=9; total time=   1.8s\n",
            "[CV] END ...............................kmeans__n_clusters=9; total time=   1.5s\n",
            "[CV] END ..............................kmeans__n_clusters=10; total time=   1.8s\n",
            "[CV] END ..............................kmeans__n_clusters=10; total time=   1.3s\n",
            "[CV] END ..............................kmeans__n_clusters=10; total time=   2.0s\n",
            "[CV] END ..............................kmeans__n_clusters=11; total time=   2.1s\n",
            "[CV] END ..............................kmeans__n_clusters=11; total time=   2.2s\n",
            "[CV] END ..............................kmeans__n_clusters=11; total time=   3.4s\n",
            "[CV] END ..............................kmeans__n_clusters=12; total time=   2.8s\n",
            "[CV] END ..............................kmeans__n_clusters=12; total time=   4.2s\n",
            "[CV] END ..............................kmeans__n_clusters=12; total time=   4.0s\n",
            "[CV] END ..............................kmeans__n_clusters=13; total time=   2.8s\n",
            "[CV] END ..............................kmeans__n_clusters=13; total time=   3.9s\n",
            "[CV] END ..............................kmeans__n_clusters=13; total time=   6.1s\n",
            "[CV] END ..............................kmeans__n_clusters=14; total time=   3.5s\n",
            "[CV] END ..............................kmeans__n_clusters=14; total time=   6.3s\n",
            "[CV] END ..............................kmeans__n_clusters=14; total time=   6.1s\n",
            "[CV] END ..............................kmeans__n_clusters=15; total time=   7.1s\n",
            "[CV] END ..............................kmeans__n_clusters=15; total time=   6.0s\n",
            "[CV] END ..............................kmeans__n_clusters=15; total time=   6.2s\n",
            "[CV] END ..............................kmeans__n_clusters=16; total time=   7.8s\n",
            "[CV] END ..............................kmeans__n_clusters=16; total time=   3.1s\n",
            "[CV] END ..............................kmeans__n_clusters=16; total time=   3.1s\n",
            "[CV] END ..............................kmeans__n_clusters=17; total time=   3.6s\n",
            "[CV] END ..............................kmeans__n_clusters=17; total time=   3.2s\n",
            "[CV] END ..............................kmeans__n_clusters=17; total time=   3.2s\n",
            "[CV] END ..............................kmeans__n_clusters=18; total time=   3.7s\n",
            "[CV] END ..............................kmeans__n_clusters=18; total time=   3.2s\n",
            "[CV] END ..............................kmeans__n_clusters=18; total time=   3.3s\n",
            "[CV] END ..............................kmeans__n_clusters=19; total time=   3.5s\n",
            "[CV] END ..............................kmeans__n_clusters=19; total time=   7.3s\n",
            "[CV] END ..............................kmeans__n_clusters=19; total time=   4.8s\n",
            "[CV] END ..............................kmeans__n_clusters=20; total time=   5.0s\n",
            "[CV] END ..............................kmeans__n_clusters=20; total time=   7.7s\n",
            "[CV] END ..............................kmeans__n_clusters=20; total time=   5.4s\n",
            "[CV] END ..............................kmeans__n_clusters=21; total time=   6.2s\n",
            "[CV] END ..............................kmeans__n_clusters=21; total time=  10.2s\n",
            "[CV] END ..............................kmeans__n_clusters=21; total time=   8.4s\n",
            "[CV] END ..............................kmeans__n_clusters=22; total time=  11.6s\n",
            "[CV] END ..............................kmeans__n_clusters=22; total time=  12.3s\n",
            "[CV] END ..............................kmeans__n_clusters=22; total time=  11.7s\n",
            "[CV] END ..............................kmeans__n_clusters=23; total time=  12.9s\n",
            "[CV] END ..............................kmeans__n_clusters=23; total time=  12.8s\n",
            "[CV] END ..............................kmeans__n_clusters=23; total time=  10.2s\n",
            "[CV] END ..............................kmeans__n_clusters=24; total time=  12.9s\n",
            "[CV] END ..............................kmeans__n_clusters=24; total time=  12.8s\n",
            "[CV] END ..............................kmeans__n_clusters=24; total time=  11.7s\n",
            "[CV] END ..............................kmeans__n_clusters=25; total time=  12.7s\n",
            "[CV] END ..............................kmeans__n_clusters=25; total time=   9.5s\n",
            "[CV] END ..............................kmeans__n_clusters=25; total time=  10.7s\n",
            "[CV] END ..............................kmeans__n_clusters=26; total time=   8.4s\n",
            "[CV] END ..............................kmeans__n_clusters=26; total time=   9.1s\n",
            "[CV] END ..............................kmeans__n_clusters=26; total time=   9.9s\n",
            "[CV] END ..............................kmeans__n_clusters=27; total time=  14.8s\n",
            "[CV] END ..............................kmeans__n_clusters=27; total time=  14.0s\n",
            "[CV] END ..............................kmeans__n_clusters=27; total time=  14.2s\n",
            "[CV] END ..............................kmeans__n_clusters=28; total time=  14.5s\n",
            "[CV] END ..............................kmeans__n_clusters=28; total time=  12.2s\n",
            "[CV] END ..............................kmeans__n_clusters=28; total time=  12.1s\n",
            "[CV] END ..............................kmeans__n_clusters=29; total time=  13.1s\n",
            "[CV] END ..............................kmeans__n_clusters=29; total time=   6.9s\n",
            "[CV] END ..............................kmeans__n_clusters=29; total time=   5.5s\n",
            "[CV] END ..............................kmeans__n_clusters=30; total time=  13.0s\n",
            "[CV] END ..............................kmeans__n_clusters=30; total time=   6.8s\n",
            "[CV] END ..............................kmeans__n_clusters=30; total time=   5.0s\n",
            "[CV] END ..............................kmeans__n_clusters=31; total time=   6.2s\n",
            "[CV] END ..............................kmeans__n_clusters=31; total time=   5.6s\n",
            "[CV] END ..............................kmeans__n_clusters=31; total time=   5.4s\n",
            "[CV] END ..............................kmeans__n_clusters=32; total time=  14.5s\n",
            "[CV] END ..............................kmeans__n_clusters=32; total time=   6.0s\n",
            "[CV] END ..............................kmeans__n_clusters=32; total time=   5.4s\n",
            "[CV] END ..............................kmeans__n_clusters=33; total time=   5.5s\n",
            "[CV] END ..............................kmeans__n_clusters=33; total time=   5.8s\n",
            "[CV] END ..............................kmeans__n_clusters=33; total time=   5.3s\n",
            "[CV] END ..............................kmeans__n_clusters=34; total time=   6.2s\n",
            "[CV] END ..............................kmeans__n_clusters=34; total time=   6.5s\n",
            "[CV] END ..............................kmeans__n_clusters=34; total time=   5.4s\n",
            "[CV] END ..............................kmeans__n_clusters=35; total time=   5.9s\n",
            "[CV] END ..............................kmeans__n_clusters=35; total time=   6.2s\n",
            "[CV] END ..............................kmeans__n_clusters=35; total time=   5.7s\n",
            "[CV] END ..............................kmeans__n_clusters=36; total time=   5.8s\n",
            "[CV] END ..............................kmeans__n_clusters=36; total time=   6.2s\n",
            "[CV] END ..............................kmeans__n_clusters=36; total time=   6.5s\n",
            "[CV] END ..............................kmeans__n_clusters=37; total time=   6.4s\n",
            "[CV] END ..............................kmeans__n_clusters=37; total time=   6.6s\n",
            "[CV] END ..............................kmeans__n_clusters=37; total time=   7.0s\n",
            "[CV] END ..............................kmeans__n_clusters=38; total time=  13.2s\n",
            "[CV] END ..............................kmeans__n_clusters=38; total time=   9.7s\n",
            "[CV] END ..............................kmeans__n_clusters=38; total time=  11.8s\n",
            "[CV] END ..............................kmeans__n_clusters=39; total time=  10.9s\n",
            "[CV] END ..............................kmeans__n_clusters=39; total time=  15.4s\n",
            "[CV] END ..............................kmeans__n_clusters=39; total time=  13.9s\n",
            "[CV] END ..............................kmeans__n_clusters=40; total time=   6.2s\n",
            "[CV] END ..............................kmeans__n_clusters=40; total time=   6.0s\n",
            "[CV] END ..............................kmeans__n_clusters=40; total time=   5.4s\n",
            "[CV] END ..............................kmeans__n_clusters=41; total time=   6.5s\n",
            "[CV] END ..............................kmeans__n_clusters=41; total time=   8.2s\n",
            "[CV] END ..............................kmeans__n_clusters=41; total time=   8.9s\n",
            "[CV] END ..............................kmeans__n_clusters=42; total time=  12.8s\n",
            "[CV] END ..............................kmeans__n_clusters=42; total time=  10.6s\n",
            "[CV] END ..............................kmeans__n_clusters=42; total time=  17.4s\n",
            "[CV] END ..............................kmeans__n_clusters=43; total time=  16.5s\n",
            "[CV] END ..............................kmeans__n_clusters=43; total time=  16.2s\n",
            "[CV] END ..............................kmeans__n_clusters=43; total time=  15.4s\n",
            "[CV] END ..............................kmeans__n_clusters=44; total time=  15.6s\n",
            "[CV] END ..............................kmeans__n_clusters=44; total time=  15.0s\n",
            "[CV] END ..............................kmeans__n_clusters=44; total time=  14.0s\n",
            "[CV] END ..............................kmeans__n_clusters=45; total time=  15.3s\n",
            "[CV] END ..............................kmeans__n_clusters=45; total time=  16.3s\n",
            "[CV] END ..............................kmeans__n_clusters=45; total time=  16.4s\n",
            "[CV] END ..............................kmeans__n_clusters=46; total time=  16.5s\n",
            "[CV] END ..............................kmeans__n_clusters=46; total time=  17.2s\n",
            "[CV] END ..............................kmeans__n_clusters=46; total time=  15.8s\n",
            "[CV] END ..............................kmeans__n_clusters=47; total time=  18.9s\n",
            "[CV] END ..............................kmeans__n_clusters=47; total time=  15.4s\n",
            "[CV] END ..............................kmeans__n_clusters=47; total time=  15.9s\n",
            "[CV] END ..............................kmeans__n_clusters=48; total time=  14.8s\n",
            "[CV] END ..............................kmeans__n_clusters=48; total time=  17.3s\n",
            "[CV] END ..............................kmeans__n_clusters=48; total time=  17.4s\n",
            "[CV] END ..............................kmeans__n_clusters=49; total time=  15.4s\n",
            "[CV] END ..............................kmeans__n_clusters=49; total time=  16.1s\n",
            "[CV] END ..............................kmeans__n_clusters=49; total time=  15.5s\n",
            "[CV] END ..............................kmeans__n_clusters=50; total time=   7.9s\n",
            "[CV] END ..............................kmeans__n_clusters=50; total time=   6.6s\n",
            "[CV] END ..............................kmeans__n_clusters=50; total time=   7.7s\n",
            "[CV] END ..............................kmeans__n_clusters=51; total time=   6.5s\n",
            "[CV] END ..............................kmeans__n_clusters=51; total time=   6.4s\n",
            "[CV] END ..............................kmeans__n_clusters=51; total time=   7.2s\n",
            "[CV] END ..............................kmeans__n_clusters=52; total time=   6.8s\n",
            "[CV] END ..............................kmeans__n_clusters=52; total time=   7.8s\n",
            "[CV] END ..............................kmeans__n_clusters=52; total time=   6.6s\n",
            "[CV] END ..............................kmeans__n_clusters=53; total time=   6.7s\n",
            "[CV] END ..............................kmeans__n_clusters=53; total time=   7.4s\n",
            "[CV] END ..............................kmeans__n_clusters=53; total time=   7.1s\n",
            "[CV] END ..............................kmeans__n_clusters=54; total time=   7.2s\n",
            "[CV] END ..............................kmeans__n_clusters=54; total time=   7.0s\n",
            "[CV] END ..............................kmeans__n_clusters=54; total time=   5.9s\n",
            "[CV] END ..............................kmeans__n_clusters=55; total time=   6.9s\n",
            "[CV] END ..............................kmeans__n_clusters=55; total time=   7.0s\n"
          ]
        },
        {
          "output_type": "stream",
          "name": "stderr",
          "text": [
            "/usr/local/lib/python3.7/dist-packages/sklearn/linear_model/_logistic.py:818: ConvergenceWarning: lbfgs failed to converge (status=1):\n",
            "STOP: TOTAL NO. of ITERATIONS REACHED LIMIT.\n",
            "\n",
            "Increase the number of iterations (max_iter) or scale the data as shown in:\n",
            "    https://scikit-learn.org/stable/modules/preprocessing.html\n",
            "Please also refer to the documentation for alternative solver options:\n",
            "    https://scikit-learn.org/stable/modules/linear_model.html#logistic-regression\n",
            "  extra_warning_msg=_LOGISTIC_SOLVER_CONVERGENCE_MSG,\n"
          ]
        },
        {
          "output_type": "stream",
          "name": "stdout",
          "text": [
            "[CV] END ..............................kmeans__n_clusters=55; total time=   8.5s\n",
            "[CV] END ..............................kmeans__n_clusters=56; total time=   6.5s\n",
            "[CV] END ..............................kmeans__n_clusters=56; total time=   6.1s\n",
            "[CV] END ..............................kmeans__n_clusters=56; total time=   6.9s\n",
            "[CV] END ..............................kmeans__n_clusters=57; total time=   6.8s\n",
            "[CV] END ..............................kmeans__n_clusters=57; total time=   8.5s\n",
            "[CV] END ..............................kmeans__n_clusters=57; total time=   6.6s\n",
            "[CV] END ..............................kmeans__n_clusters=58; total time=   7.3s\n",
            "[CV] END ..............................kmeans__n_clusters=58; total time=   8.0s\n",
            "[CV] END ..............................kmeans__n_clusters=58; total time=   6.5s\n",
            "[CV] END ..............................kmeans__n_clusters=59; total time=   7.1s\n",
            "[CV] END ..............................kmeans__n_clusters=59; total time=   7.0s\n",
            "[CV] END ..............................kmeans__n_clusters=59; total time=   6.6s\n",
            "[CV] END ..............................kmeans__n_clusters=60; total time=   7.8s\n",
            "[CV] END ..............................kmeans__n_clusters=60; total time=   7.5s\n",
            "[CV] END ..............................kmeans__n_clusters=60; total time=   6.9s\n",
            "[CV] END ..............................kmeans__n_clusters=61; total time=   6.9s\n",
            "[CV] END ..............................kmeans__n_clusters=61; total time=   6.6s\n",
            "[CV] END ..............................kmeans__n_clusters=61; total time=   7.2s\n",
            "[CV] END ..............................kmeans__n_clusters=62; total time=   7.2s\n",
            "[CV] END ..............................kmeans__n_clusters=62; total time=   7.5s\n",
            "[CV] END ..............................kmeans__n_clusters=62; total time=   6.7s\n",
            "[CV] END ..............................kmeans__n_clusters=63; total time=   6.4s\n",
            "[CV] END ..............................kmeans__n_clusters=63; total time=   8.1s\n",
            "[CV] END ..............................kmeans__n_clusters=63; total time=   6.6s\n",
            "[CV] END ..............................kmeans__n_clusters=64; total time=   6.3s\n",
            "[CV] END ..............................kmeans__n_clusters=64; total time=   6.5s\n",
            "[CV] END ..............................kmeans__n_clusters=64; total time=   6.9s\n",
            "[CV] END ..............................kmeans__n_clusters=65; total time=   6.8s\n",
            "[CV] END ..............................kmeans__n_clusters=65; total time=   6.9s\n",
            "[CV] END ..............................kmeans__n_clusters=65; total time=   6.5s\n",
            "[CV] END ..............................kmeans__n_clusters=66; total time=   7.5s\n",
            "[CV] END ..............................kmeans__n_clusters=66; total time=   7.9s\n",
            "[CV] END ..............................kmeans__n_clusters=66; total time=   7.4s\n",
            "[CV] END ..............................kmeans__n_clusters=67; total time=   7.0s\n",
            "[CV] END ..............................kmeans__n_clusters=67; total time=   6.9s\n",
            "[CV] END ..............................kmeans__n_clusters=67; total time=   7.3s\n",
            "[CV] END ..............................kmeans__n_clusters=68; total time=   7.8s\n",
            "[CV] END ..............................kmeans__n_clusters=68; total time=   7.1s\n",
            "[CV] END ..............................kmeans__n_clusters=68; total time=   7.3s\n",
            "[CV] END ..............................kmeans__n_clusters=69; total time=   7.4s\n",
            "[CV] END ..............................kmeans__n_clusters=69; total time=   7.6s\n",
            "[CV] END ..............................kmeans__n_clusters=69; total time=   6.5s\n",
            "[CV] END ..............................kmeans__n_clusters=70; total time=   7.4s\n",
            "[CV] END ..............................kmeans__n_clusters=70; total time=   8.4s\n",
            "[CV] END ..............................kmeans__n_clusters=70; total time=   7.2s\n",
            "[CV] END ..............................kmeans__n_clusters=71; total time=   7.2s\n",
            "[CV] END ..............................kmeans__n_clusters=71; total time=   8.2s\n",
            "[CV] END ..............................kmeans__n_clusters=71; total time=   7.8s\n",
            "[CV] END ..............................kmeans__n_clusters=72; total time=   7.4s\n",
            "[CV] END ..............................kmeans__n_clusters=72; total time=   7.1s\n",
            "[CV] END ..............................kmeans__n_clusters=72; total time=   7.4s\n",
            "[CV] END ..............................kmeans__n_clusters=73; total time=   7.3s\n",
            "[CV] END ..............................kmeans__n_clusters=73; total time=   6.7s\n",
            "[CV] END ..............................kmeans__n_clusters=73; total time=   6.9s\n",
            "[CV] END ..............................kmeans__n_clusters=74; total time=   6.9s\n",
            "[CV] END ..............................kmeans__n_clusters=74; total time=   7.5s\n",
            "[CV] END ..............................kmeans__n_clusters=74; total time=   7.4s\n",
            "[CV] END ..............................kmeans__n_clusters=75; total time=   7.4s\n",
            "[CV] END ..............................kmeans__n_clusters=75; total time=   8.5s\n",
            "[CV] END ..............................kmeans__n_clusters=75; total time=   6.8s\n",
            "[CV] END ..............................kmeans__n_clusters=76; total time=   8.2s\n",
            "[CV] END ..............................kmeans__n_clusters=76; total time=   6.9s\n",
            "[CV] END ..............................kmeans__n_clusters=76; total time=   6.0s\n",
            "[CV] END ..............................kmeans__n_clusters=77; total time=   7.5s\n",
            "[CV] END ..............................kmeans__n_clusters=77; total time=   8.2s\n",
            "[CV] END ..............................kmeans__n_clusters=77; total time=   7.1s\n",
            "[CV] END ..............................kmeans__n_clusters=78; total time=   7.6s\n",
            "[CV] END ..............................kmeans__n_clusters=78; total time=   7.8s\n",
            "[CV] END ..............................kmeans__n_clusters=78; total time=   7.8s\n",
            "[CV] END ..............................kmeans__n_clusters=79; total time=   7.4s\n",
            "[CV] END ..............................kmeans__n_clusters=79; total time=   8.6s\n",
            "[CV] END ..............................kmeans__n_clusters=79; total time=   6.1s\n",
            "[CV] END ..............................kmeans__n_clusters=80; total time=   7.3s\n",
            "[CV] END ..............................kmeans__n_clusters=80; total time=   7.9s\n",
            "[CV] END ..............................kmeans__n_clusters=80; total time=  15.0s\n",
            "[CV] END ..............................kmeans__n_clusters=81; total time=  24.9s\n",
            "[CV] END ..............................kmeans__n_clusters=81; total time=  13.9s\n",
            "[CV] END ..............................kmeans__n_clusters=81; total time=  14.7s\n",
            "[CV] END ..............................kmeans__n_clusters=82; total time=  26.5s\n",
            "[CV] END ..............................kmeans__n_clusters=82; total time=  20.0s\n",
            "[CV] END ..............................kmeans__n_clusters=82; total time=  19.7s\n",
            "[CV] END ..............................kmeans__n_clusters=83; total time=  20.1s\n",
            "[CV] END ..............................kmeans__n_clusters=83; total time=  20.3s\n",
            "[CV] END ..............................kmeans__n_clusters=83; total time=  16.9s\n",
            "[CV] END ..............................kmeans__n_clusters=84; total time=  18.3s\n",
            "[CV] END ..............................kmeans__n_clusters=84; total time=  19.1s\n",
            "[CV] END ..............................kmeans__n_clusters=84; total time=  16.7s\n",
            "[CV] END ..............................kmeans__n_clusters=85; total time=  20.6s\n",
            "[CV] END ..............................kmeans__n_clusters=85; total time=  20.6s\n",
            "[CV] END ..............................kmeans__n_clusters=85; total time=  19.6s\n",
            "[CV] END ..............................kmeans__n_clusters=86; total time=  19.6s\n",
            "[CV] END ..............................kmeans__n_clusters=86; total time=  20.8s\n",
            "[CV] END ..............................kmeans__n_clusters=86; total time=  15.1s\n",
            "[CV] END ..............................kmeans__n_clusters=87; total time=   7.6s\n",
            "[CV] END ..............................kmeans__n_clusters=87; total time=   9.8s\n",
            "[CV] END ..............................kmeans__n_clusters=87; total time=   8.0s\n",
            "[CV] END ..............................kmeans__n_clusters=88; total time=   7.6s\n",
            "[CV] END ..............................kmeans__n_clusters=88; total time=   8.1s\n",
            "[CV] END ..............................kmeans__n_clusters=88; total time=   7.4s\n",
            "[CV] END ..............................kmeans__n_clusters=89; total time=   8.0s\n",
            "[CV] END ..............................kmeans__n_clusters=89; total time=   7.7s\n",
            "[CV] END ..............................kmeans__n_clusters=89; total time=   7.6s\n",
            "[CV] END ..............................kmeans__n_clusters=90; total time=   8.2s\n",
            "[CV] END ..............................kmeans__n_clusters=90; total time=   9.4s\n",
            "[CV] END ..............................kmeans__n_clusters=90; total time=   6.9s\n",
            "[CV] END ..............................kmeans__n_clusters=91; total time=   7.8s\n",
            "[CV] END ..............................kmeans__n_clusters=91; total time=   8.2s\n",
            "[CV] END ..............................kmeans__n_clusters=91; total time=   7.8s\n",
            "[CV] END ..............................kmeans__n_clusters=92; total time=   8.9s\n",
            "[CV] END ..............................kmeans__n_clusters=92; total time=   7.7s\n",
            "[CV] END ..............................kmeans__n_clusters=92; total time=   7.0s\n",
            "[CV] END ..............................kmeans__n_clusters=93; total time=   7.5s\n",
            "[CV] END ..............................kmeans__n_clusters=93; total time=   8.3s\n",
            "[CV] END ..............................kmeans__n_clusters=93; total time=   8.2s\n",
            "[CV] END ..............................kmeans__n_clusters=94; total time=   7.8s\n",
            "[CV] END ..............................kmeans__n_clusters=94; total time=  20.0s\n",
            "[CV] END ..............................kmeans__n_clusters=94; total time=  10.9s\n",
            "[CV] END ..............................kmeans__n_clusters=95; total time=  23.0s\n",
            "[CV] END ..............................kmeans__n_clusters=95; total time=  15.1s\n",
            "[CV] END ..............................kmeans__n_clusters=95; total time=  14.3s\n",
            "[CV] END ..............................kmeans__n_clusters=96; total time=  15.7s\n",
            "[CV] END ..............................kmeans__n_clusters=96; total time=  22.2s\n",
            "[CV] END ..............................kmeans__n_clusters=96; total time=  17.2s\n",
            "[CV] END ..............................kmeans__n_clusters=97; total time=  19.9s\n",
            "[CV] END ..............................kmeans__n_clusters=97; total time=  22.8s\n",
            "[CV] END ..............................kmeans__n_clusters=97; total time=  19.6s\n",
            "[CV] END ..............................kmeans__n_clusters=98; total time=  21.5s\n",
            "[CV] END ..............................kmeans__n_clusters=98; total time=  20.6s\n",
            "[CV] END ..............................kmeans__n_clusters=98; total time=  21.0s\n",
            "[CV] END ..............................kmeans__n_clusters=99; total time=  10.2s\n",
            "[CV] END ..............................kmeans__n_clusters=99; total time=   9.4s\n",
            "[CV] END ..............................kmeans__n_clusters=99; total time=   7.9s\n"
          ]
        },
        {
          "output_type": "execute_result",
          "data": {
            "text/plain": [
              "GridSearchCV(cv=3,\n",
              "             estimator=Pipeline(steps=[('kmeans',\n",
              "                                        KMeans(n_clusters=50, random_state=42)),\n",
              "                                       ('log_reg',\n",
              "                                        LogisticRegression(max_iter=5000,\n",
              "                                                           multi_class='ovr',\n",
              "                                                           random_state=42))]),\n",
              "             param_grid={'kmeans__n_clusters': range(2, 100)}, verbose=2)"
            ]
          },
          "metadata": {},
          "execution_count": 37
        }
      ]
    },
    {
      "cell_type": "code",
      "source": [
        "# 최선의 k값\n",
        "grid_clf.best_params_"
      ],
      "metadata": {
        "colab": {
          "base_uri": "https://localhost:8080/"
        },
        "id": "jtEv5xRKQaak",
        "outputId": "826d8193-c0fa-4427-a8ff-9454a68cc415"
      },
      "execution_count": 38,
      "outputs": [
        {
          "output_type": "execute_result",
          "data": {
            "text/plain": [
              "{'kmeans__n_clusters': 95}"
            ]
          },
          "metadata": {},
          "execution_count": 38
        }
      ]
    },
    {
      "cell_type": "code",
      "source": [
        "# 파이프라인 성능\n",
        "grid_clf.score(X_test, y_test)"
      ],
      "metadata": {
        "colab": {
          "base_uri": "https://localhost:8080/"
        },
        "id": "BEbBo8z5QmOU",
        "outputId": "0ad678bc-76d1-41ca-b8b0-f3df4b8f5c2c"
      },
      "execution_count": 39,
      "outputs": [
        {
          "output_type": "execute_result",
          "data": {
            "text/plain": [
              "0.9777777777777777"
            ]
          },
          "metadata": {},
          "execution_count": 39
        }
      ]
    },
    {
      "cell_type": "markdown",
      "source": [
        "#### 9.1.5 군집을 사용한 준지도 학습\n",
        "* 레이블이 없는 데이터가 많고 레이블이 있는 데이터는 적을 때 사용\n",
        "  - 대표 이미지 : 각 클러스터에서 센트로이드에 가장 가까운 이미지\n",
        "  - 레이블 전파 : 레이블을 동일한 클러스터에 있는 모든 샘플로 전파"
      ],
      "metadata": {
        "id": "a-oWJjS5Qx-1"
      }
    },
    {
      "cell_type": "code",
      "source": [
        "# 레이블된 50개 샘플에 로지스틱 회귀 모델 훈련\n",
        "n_labeled = 50\n",
        "log_reg = LogisticRegression(multi_class=\"ovr\", solver=\"lbfgs\", random_state=42)\n",
        "log_reg.fit(X_train[:n_labeled], y_train[:n_labeled])"
      ],
      "metadata": {
        "colab": {
          "base_uri": "https://localhost:8080/"
        },
        "id": "GqyULLPBQ7_a",
        "outputId": "9ece85b8-b7d0-425e-fe42-4ad2eba4e978"
      },
      "execution_count": 40,
      "outputs": [
        {
          "output_type": "execute_result",
          "data": {
            "text/plain": [
              "LogisticRegression(multi_class='ovr', random_state=42)"
            ]
          },
          "metadata": {},
          "execution_count": 40
        }
      ]
    },
    {
      "cell_type": "code",
      "source": [
        "# 테스트 세트에서 모델 성능 확인\n",
        "log_reg.score(X_test, y_test)"
      ],
      "metadata": {
        "colab": {
          "base_uri": "https://localhost:8080/"
        },
        "id": "WcWikzo5RQgP",
        "outputId": "5b9c19b4-9515-4827-de70-df5649e0925d"
      },
      "execution_count": 41,
      "outputs": [
        {
          "output_type": "execute_result",
          "data": {
            "text/plain": [
              "0.8333333333333334"
            ]
          },
          "metadata": {},
          "execution_count": 41
        }
      ]
    },
    {
      "cell_type": "code",
      "source": [
        "# 대표 이미지 찾기\n",
        "k = 50\n",
        "kmeans = KMeans(n_clusters=k, random_state=42)\n",
        "X_digits_dist = kmeans.fit_transform(X_train)\n",
        "representative_digit_idx = np.argmin(X_digits_dist, axis=0)\n",
        "X_representative_digits = X_train[representative_digit_idx]"
      ],
      "metadata": {
        "id": "MRHzcPWuRjB_"
      },
      "execution_count": 42,
      "outputs": []
    },
    {
      "cell_type": "markdown",
      "source": [
        "**그림 9-13** 50개의 대표 숫자 이미지(클러스터당 한 개)\n",
        "\n",
        "![image.png](data:image/png;base64,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)\n",
        "\n"
      ],
      "metadata": {
        "id": "5DhKArk6SOkM"
      }
    },
    {
      "cell_type": "code",
      "source": [
        "# 수동으로 레이블 할당\n",
        "y_representative_digits = np.array([4, 8, 0, 6, 8, 3, 7, 7, 9, 2,\n",
        "                                    5, 5, 8, 5, 2, 1, 2, 9, 6, 1,\n",
        "                                    1, 6, 9, 0, 8, 3, 0, 7, 4, 1,\n",
        "                                    6, 5, 2, 4, 1, 8, 6, 3, 9, 2,\n",
        "                                    4, 2, 9, 4, 7, 6, 2, 3, 1, 1])"
      ],
      "metadata": {
        "id": "Q6_HMEjtSMoa"
      },
      "execution_count": 43,
      "outputs": []
    },
    {
      "cell_type": "code",
      "source": [
        "# 성능이 조금이라도 높은지 확인\n",
        "log_reg = LogisticRegression(multi_class=\"ovr\", solver=\"lbfgs\", max_iter=5000, random_state=42)\n",
        "log_reg.fit(X_representative_digits, y_representative_digits)\n",
        "log_reg.score(X_test, y_test)"
      ],
      "metadata": {
        "colab": {
          "base_uri": "https://localhost:8080/"
        },
        "id": "WRHKVDFZTDjI",
        "outputId": "f62b6dff-baf3-42eb-db02-161ee73319b8"
      },
      "execution_count": 44,
      "outputs": [
        {
          "output_type": "execute_result",
          "data": {
            "text/plain": [
              "0.9222222222222223"
            ]
          },
          "metadata": {},
          "execution_count": 44
        }
      ]
    },
    {
      "cell_type": "code",
      "source": [
        "# 레이블 전파\n",
        "y_train_propagated = np.empty(len(X_train), dtype=np.int32)\n",
        "for i in range(k):\n",
        "  y_train_propagated[kmeans.labels_==i] = y_representative_digits[i]"
      ],
      "metadata": {
        "id": "n0IfH2AdTqNT"
      },
      "execution_count": 46,
      "outputs": []
    },
    {
      "cell_type": "code",
      "source": [
        "# 모델 다시 훈련 및 성능 확인\n",
        "log_reg = LogisticRegression(multi_class=\"ovr\", solver=\"lbfgs\", max_iter=5000, random_state=42)\n",
        "log_reg.fit(X_train, y_train_propagated)\n",
        "log_reg.score(X_test, y_test)"
      ],
      "metadata": {
        "colab": {
          "base_uri": "https://localhost:8080/"
        },
        "id": "4qL9MXlyULd-",
        "outputId": "c6d81fb9-2b19-4aac-bb00-d1c2c042ab7a"
      },
      "execution_count": 47,
      "outputs": [
        {
          "output_type": "execute_result",
          "data": {
            "text/plain": [
              "0.9333333333333333"
            ]
          },
          "metadata": {},
          "execution_count": 47
        }
      ]
    },
    {
      "cell_type": "code",
      "source": [
        "# 센트로이드와 가까운 샘플의 20%에만 레이블 전파\n",
        "percentile_closest = 20\n",
        "\n",
        "X_cluster_dist = X_digits_dist[np.arange(len(X_train)), kmeans.labels_]\n",
        "for i in range(k):\n",
        "  in_cluster = (kmeans.labels_ == i)\n",
        "  cluster_dist = X_cluster_dist[in_cluster]\n",
        "  cutoff_distance = np.percentile(cluster_dist, percentile_closest)\n",
        "  above_cutoff = (X_cluster_dist > cutoff_distance)\n",
        "  X_cluster_dist[in_cluster & above_cutoff] = -1\n",
        "\n",
        "partially_propagated = (X_cluster_dist != -1)\n",
        "X_train_partially_propagated = X_train[partially_propagated]\n",
        "y_train_partially_propagated = y_train_propagated[partially_propagated]"
      ],
      "metadata": {
        "id": "s_um1qt0UjqS"
      },
      "execution_count": 48,
      "outputs": []
    },
    {
      "cell_type": "code",
      "source": [
        "# 부분 전파한 데이터셋에 모델 다시 훈련\n",
        "log_reg = LogisticRegression(multi_class=\"ovr\", solver=\"lbfgs\", max_iter=5000, random_state=42)\n",
        "log_reg.fit(X_train_partially_propagated, y_train_partially_propagated)\n",
        "log_reg.score(X_test, y_test)"
      ],
      "metadata": {
        "colab": {
          "base_uri": "https://localhost:8080/"
        },
        "id": "iCq6TInAZWTS",
        "outputId": "35d4dca1-add8-4d9a-d5de-14174eb72b95"
      },
      "execution_count": 49,
      "outputs": [
        {
          "output_type": "execute_result",
          "data": {
            "text/plain": [
              "0.94"
            ]
          },
          "metadata": {},
          "execution_count": 49
        }
      ]
    },
    {
      "cell_type": "code",
      "source": [
        "# 실제 데이터와 비교\n",
        "np.mean(y_train_partially_propagated == y_train[partially_propagated])"
      ],
      "metadata": {
        "colab": {
          "base_uri": "https://localhost:8080/"
        },
        "id": "5zKEMlTkZjAa",
        "outputId": "8c892e70-4a2a-4c9e-e62e-9be551523739"
      },
      "execution_count": 50,
      "outputs": [
        {
          "output_type": "execute_result",
          "data": {
            "text/plain": [
              "0.9896907216494846"
            ]
          },
          "metadata": {},
          "execution_count": 50
        }
      ]
    },
    {
      "cell_type": "markdown",
      "source": [
        "* 능동 학습 : 알고리즘이 요청할 때 특정 샘플의 레이블 제공\n",
        "  - 불확실성 샘플링\n",
        "  - 모델을 가장 크게 바꾸는 샘플에 대해 레이블 요청\n",
        "  - 모델의 검증 점수를 가장 크게 떨어뜨리는 샘플에 대해 레이블 요청\n",
        "  - 여러 개의 모델이 동일한 예측을 내지 않는 샘플에 대해 레이블 요청"
      ],
      "metadata": {
        "id": "MHG8cWvoa_rQ"
      }
    },
    {
      "cell_type": "markdown",
      "source": [
        "#### 9.1.6 DBSCAN\n",
        "* 밀집된 연속적 지역을 클러스터로 정의\n",
        "* 모든 클러스터가 충분히 밀집되어 있고 밀집되지 않은 지역과 잘 구분될 때 좋은 성능\n",
        "* 클러스터 인덱스가 -1이면 이상치\n",
        "* core_sample_indices_ : 핵심 샘플의 인덱스\n",
        "* components_ : 핵심 샘플\n",
        "* fit_predict() 제공\n",
        "  \n",
        "  -> 새로운 샘플에 대해 클러스터 예측 불가\n",
        "\n",
        "  -> 사용자가 필요한 예측기 선택\n",
        "\n",
        "* 클러스터의 모양고 개수에 상관없이 감지\n",
        "* 이상치에 안정적\n",
        "* 하이퍼파라미터 두 개 (eps, min_samples)"
      ],
      "metadata": {
        "id": "GbWUOS4BbzgW"
      }
    },
    {
      "cell_type": "code",
      "source": [
        "# 반달 모양 데이터셋에서 테스트\n",
        "from sklearn.cluster import DBSCAN\n",
        "from sklearn.datasets import make_moons\n",
        "\n",
        "X, y = make_moons(n_samples=1000, noise=0.05, random_state=42)\n",
        "dbscan = DBSCAN(eps=0.05, min_samples=5)\n",
        "dbscan.fit(X)"
      ],
      "metadata": {
        "colab": {
          "base_uri": "https://localhost:8080/"
        },
        "id": "pbjPpclYZxWa",
        "outputId": "30cde4a0-cf72-4043-ee32-9071a7f9e28a"
      },
      "execution_count": 51,
      "outputs": [
        {
          "output_type": "execute_result",
          "data": {
            "text/plain": [
              "DBSCAN(eps=0.05)"
            ]
          },
          "metadata": {},
          "execution_count": 51
        }
      ]
    },
    {
      "cell_type": "code",
      "source": [
        "dbscan.labels_ # 샘플 레이블"
      ],
      "metadata": {
        "colab": {
          "base_uri": "https://localhost:8080/"
        },
        "id": "a7Gj-XjucjOT",
        "outputId": "680dbf6e-3afe-4e1b-9328-12dd07a126be"
      },
      "execution_count": 52,
      "outputs": [
        {
          "output_type": "execute_result",
          "data": {
            "text/plain": [
              "array([ 0,  2, -1, -1,  1,  0,  0,  0,  2,  5,  2,  3,  0,  2,  2,  2,  4,\n",
              "        2,  2,  4,  0,  5,  1,  0,  5,  5,  3,  2,  2,  2,  4,  5,  0,  6,\n",
              "        1, -1,  0,  0,  2,  3, -1,  3,  4, -1,  4,  4,  2,  0,  6,  2,  0,\n",
              "        2,  4,  0,  3,  3,  0,  3,  5,  2, -1,  3,  0,  5,  0,  0,  0,  2,\n",
              "        3,  0,  3,  6,  0,  2,  4,  4,  0,  3,  0,  4,  0,  3, -1,  3,  4,\n",
              "        0, -1,  2,  2,  4,  1,  6,  0,  5,  2,  6,  2,  3,  3, -1,  2, -1,\n",
              "        2,  4,  0,  0,  0,  2,  5,  2,  0,  2, -1,  2,  3,  1,  5,  2,  0,\n",
              "        4,  2,  1,  2,  4,  4,  0,  0,  6,  2,  2,  0,  2, -1,  2,  0,  3,\n",
              "        3,  5, -1,  3,  3,  5,  2,  4,  2,  2,  2,  4,  2,  4,  0, -1,  2,\n",
              "        1,  2,  6,  4,  2,  3,  2, -1,  2,  0,  0,  2,  0,  4,  0,  4,  4,\n",
              "        1,  6,  3,  2,  6,  1,  4,  4,  2,  0,  6,  0,  1,  0,  2,  5,  1,\n",
              "        1,  2,  2,  2,  2,  0,  5,  5,  1,  4,  5,  0,  3,  3,  0,  0,  0,\n",
              "        2,  0,  5,  2, -1,  2,  3,  5,  2,  2,  0,  4,  0,  4,  2,  2,  4,\n",
              "        2,  2,  3,  2,  3,  0,  1,  2,  0,  4, -1,  6,  0,  3,  3,  5, -1,\n",
              "        5,  4,  3,  5,  0,  2, -1,  3,  6,  3,  3,  4,  3,  2,  2,  2,  1,\n",
              "        4,  0,  2,  2, -1,  2,  6,  3,  4,  4,  2,  2,  1,  0,  1,  6,  3,\n",
              "        2,  4,  0,  3,  5,  0,  3,  2,  0,  2,  5,  4,  5,  2, -1,  6,  5,\n",
              "        2,  2,  2,  0,  6,  1,  6,  2,  1,  3,  5,  0,  1, -1,  1,  2,  2,\n",
              "        4, -1,  2,  0,  0,  0,  0,  2,  6,  6, -1,  1,  2,  5,  3,  5,  4,\n",
              "        0,  2,  0, -1,  6,  2,  3,  2,  4,  2,  0, -1,  4, -1,  0, -1,  0,\n",
              "        6,  1,  5,  3,  1,  1,  0,  2,  3,  2, -1,  4,  2,  3,  4,  5,  4,\n",
              "       -1,  4, -1,  1,  0,  5,  6,  5,  3,  2,  5,  1, -1,  5,  2,  5,  5,\n",
              "        3,  2,  6,  3,  2,  2,  5,  5,  2,  5,  5,  2, -1,  3,  2,  2,  5,\n",
              "        3,  0,  3,  0,  3,  1,  6,  2,  2,  3,  6,  0,  0,  0,  0,  2, -1,\n",
              "        3,  0, -1,  2,  2,  4,  2,  2,  0,  2,  0,  6,  3,  2,  6,  0,  6,\n",
              "        1,  3,  3,  0,  4,  4,  1,  4,  6,  4,  3,  5,  1,  2, -1,  5,  0,\n",
              "        2,  0,  0,  0,  0,  5,  0,  0,  0,  2,  1,  5,  5,  0,  2,  0,  1,\n",
              "        1,  3,  3,  0,  2,  1,  3,  3,  1,  0,  6,  1,  3,  2,  3,  4,  2,\n",
              "        2,  2,  0,  0,  0,  3, -1,  1,  0,  3,  3,  4,  5,  6, -1,  0,  2,\n",
              "        3,  6,  5,  6,  1,  2,  2,  0,  5,  1,  2,  2,  2,  0,  1,  2,  2,\n",
              "        4,  0,  4,  3,  4,  2,  5, -1,  2,  3,  1,  0, -1,  4,  1,  0,  2,\n",
              "       -1,  0,  3,  0,  3,  0,  4,  2,  6,  5,  3,  2,  6,  5,  4,  5, -1,\n",
              "        3,  2,  0,  2,  0,  3,  3,  6,  0,  3,  2,  2,  1,  4,  3,  1,  5,\n",
              "       -1,  2,  2,  4,  6,  0,  4,  4,  2,  5,  3,  2,  3,  4,  2,  5,  6,\n",
              "        1,  0,  4,  3, -1,  2,  2,  1,  0, -1,  3,  5,  4,  2,  0,  2,  2,\n",
              "        5,  4,  0,  0,  2,  3,  3,  4,  4,  0,  2,  5,  3,  0, -1,  5,  4,\n",
              "       -1,  2,  2,  0,  2,  0, -1, -1,  2, -1, -1,  5,  3,  0,  3,  2,  2,\n",
              "        0,  2,  6,  4,  2,  2,  5,  3,  2,  6,  2,  1,  5,  3,  2,  1,  6,\n",
              "        2,  2,  2,  2,  5,  2,  2,  0, -1,  2,  0,  2,  5,  2, -1,  2,  2,\n",
              "        2,  3,  4,  0,  3,  1, -1,  2,  0,  2,  0, -1,  3,  5,  1,  2,  5,\n",
              "        0,  2,  2,  3,  2,  3,  6, -1,  4,  4,  2,  0,  0, -1,  2,  4,  0,\n",
              "        4,  1,  5,  2, -1, -1,  0,  2,  6,  5,  3,  2,  2,  2,  0,  1,  6,\n",
              "        4,  5,  3,  2,  0,  5, -1,  5,  0,  4,  4,  1,  3,  5,  5,  6,  4,\n",
              "        1,  2,  2,  2,  2,  2,  3,  0,  1,  2,  2,  2,  2,  5,  0,  2,  2,\n",
              "        2,  2,  0,  2,  2,  1,  2,  0,  4,  2,  6,  6,  3,  0,  4,  2, -1,\n",
              "        0,  1,  2,  2,  5,  2,  0,  4,  0,  1,  2,  0,  1, -1, -1,  0,  0,\n",
              "        4,  1,  1,  5,  2,  2,  6,  4, -1,  0,  2,  2,  2,  0,  2,  2,  0,\n",
              "        2,  0,  2,  0,  2,  3,  4,  0,  5,  0,  3,  0,  5,  0,  2,  2,  2,\n",
              "        2,  2,  3,  0,  4,  2,  0,  0,  6,  0,  2,  5,  1,  2,  1,  2,  2,\n",
              "        5, -1,  2,  0,  2,  0,  2,  0,  2,  0,  3, -1,  2,  0,  1,  0,  3,\n",
              "        3,  2,  2,  5,  5,  3,  2,  5,  6, -1,  1,  4,  1,  0,  1,  0,  6,\n",
              "        3,  3,  6,  0,  3,  2,  0,  2, -1,  3,  2,  3,  5,  3,  6,  1,  5,\n",
              "        2,  5,  2,  3,  2,  4,  2,  2,  2,  4,  0,  4,  2,  6,  6,  2, -1,\n",
              "        2,  4,  5,  5,  0,  2,  1,  0,  6,  2,  2,  3,  0,  1, -1,  2,  2,\n",
              "        0,  3,  5,  3,  2,  0,  1,  6,  1, -1,  4,  2,  0,  4,  2,  4,  3,\n",
              "        4, -1,  1,  4,  5,  2,  2,  0,  2,  6,  2,  0,  2,  4,  0,  2,  0,\n",
              "        0,  5,  2, -1,  6, -1,  0,  3,  6,  0,  2,  2,  4,  3,  4,  6,  5,\n",
              "        4,  2,  5,  1, -1,  1,  6,  4,  2,  4,  0,  5,  0,  2,  3,  1,  3,\n",
              "        6,  4,  5, -1,  3, -1,  3,  2,  3,  3,  4,  2,  6,  3])"
            ]
          },
          "metadata": {},
          "execution_count": 52
        }
      ]
    },
    {
      "cell_type": "code",
      "source": [
        "# 핵심 샘플 개수\n",
        "len(dbscan.core_sample_indices_)"
      ],
      "metadata": {
        "colab": {
          "base_uri": "https://localhost:8080/"
        },
        "id": "bbeYbTlsc6Bg",
        "outputId": "fe813d8b-a195-4436-9043-da9ac1e3a981"
      },
      "execution_count": 53,
      "outputs": [
        {
          "output_type": "execute_result",
          "data": {
            "text/plain": [
              "808"
            ]
          },
          "metadata": {},
          "execution_count": 53
        }
      ]
    },
    {
      "cell_type": "code",
      "source": [
        "# 핵심 샘플 인덱스\n",
        "dbscan.core_sample_indices_"
      ],
      "metadata": {
        "colab": {
          "base_uri": "https://localhost:8080/"
        },
        "id": "rCU-bmURdYrC",
        "outputId": "d6545563-3173-477b-e331-e190b9cab7db"
      },
      "execution_count": 54,
      "outputs": [
        {
          "output_type": "execute_result",
          "data": {
            "text/plain": [
              "array([  0,   4,   5,   6,   7,   8,  10,  11,  12,  13,  14,  16,  17,\n",
              "        18,  19,  20,  21,  22,  23,  24,  25,  26,  28,  29,  30,  31,\n",
              "        32,  33,  34,  36,  38,  39,  41,  42,  44,  45,  47,  49,  50,\n",
              "        51,  52,  53,  54,  55,  56,  58,  59,  61,  63,  64,  65,  66,\n",
              "        67,  68,  69,  70,  71,  72,  73,  74,  75,  76,  77,  78,  79,\n",
              "        80,  81,  83,  84,  85,  87,  88,  89,  90,  91,  93,  94,  96,\n",
              "        97,  98, 102, 103, 104, 105, 106, 107, 108, 109, 110, 113, 114,\n",
              "       115, 116, 117, 119, 120, 122, 123, 124, 125, 126, 127, 128, 129,\n",
              "       130, 135, 136, 139, 140, 141, 143, 144, 145, 146, 147, 148, 149,\n",
              "       150, 152, 153, 154, 155, 156, 157, 158, 159, 161, 162, 163, 164,\n",
              "       165, 166, 167, 168, 169, 170, 172, 173, 174, 175, 176, 177, 178,\n",
              "       179, 181, 182, 183, 185, 186, 187, 188, 189, 191, 193, 194, 195,\n",
              "       196, 198, 199, 200, 201, 202, 203, 204, 205, 206, 207, 209, 210,\n",
              "       211, 212, 213, 214, 215, 216, 217, 218, 219, 221, 222, 223, 224,\n",
              "       226, 228, 229, 230, 232, 233, 234, 235, 236, 238, 239, 240, 241,\n",
              "       242, 243, 245, 246, 247, 248, 249, 250, 251, 252, 253, 255, 256,\n",
              "       257, 260, 261, 262, 263, 264, 265, 266, 267, 268, 269, 270, 271,\n",
              "       272, 273, 274, 276, 277, 278, 279, 280, 281, 282, 283, 284, 285,\n",
              "       287, 288, 289, 290, 291, 293, 294, 295, 296, 297, 300, 301, 303,\n",
              "       304, 305, 308, 309, 310, 311, 313, 315, 317, 318, 319, 320, 321,\n",
              "       322, 323, 324, 327, 328, 329, 330, 332, 333, 335, 339, 340, 341,\n",
              "       342, 343, 346, 347, 348, 349, 351, 352, 353, 354, 355, 356, 358,\n",
              "       360, 361, 362, 363, 364, 365, 366, 367, 368, 370, 371, 372, 373,\n",
              "       374, 375, 377, 378, 379, 380, 381, 382, 384, 385, 387, 388, 389,\n",
              "       390, 391, 392, 393, 394, 395, 397, 398, 399, 400, 401, 402, 403,\n",
              "       404, 405, 406, 409, 411, 412, 413, 414, 415, 416, 417, 418, 419,\n",
              "       420, 421, 422, 423, 424, 425, 426, 427, 428, 429, 430, 431, 432,\n",
              "       433, 435, 436, 437, 438, 440, 441, 442, 443, 444, 445, 446, 447,\n",
              "       448, 449, 450, 451, 452, 453, 454, 456, 457, 458, 459, 461, 462,\n",
              "       463, 464, 467, 468, 469, 471, 472, 473, 474, 475, 476, 477, 478,\n",
              "       479, 480, 483, 484, 485, 486, 487, 488, 489, 491, 492, 493, 495,\n",
              "       496, 497, 498, 499, 501, 502, 503, 504, 505, 506, 507, 508, 509,\n",
              "       510, 511, 512, 513, 514, 515, 516, 518, 519, 520, 521, 523, 524,\n",
              "       525, 526, 528, 529, 530, 531, 532, 533, 535, 536, 537, 538, 539,\n",
              "       540, 541, 542, 544, 545, 546, 547, 548, 549, 550, 551, 552, 553,\n",
              "       554, 555, 556, 557, 559, 560, 562, 563, 564, 565, 566, 568, 569,\n",
              "       570, 572, 573, 574, 575, 576, 578, 579, 580, 583, 584, 585, 586,\n",
              "       588, 589, 590, 591, 592, 593, 594, 595, 596, 597, 599, 600, 601,\n",
              "       602, 603, 604, 605, 607, 610, 611, 614, 615, 616, 617, 620, 624,\n",
              "       625, 627, 628, 629, 631, 633, 634, 635, 636, 637, 638, 639, 640,\n",
              "       641, 642, 643, 644, 645, 646, 647, 648, 649, 650, 652, 655, 656,\n",
              "       657, 661, 662, 663, 664, 666, 667, 670, 671, 672, 673, 675, 676,\n",
              "       677, 678, 679, 680, 681, 682, 684, 685, 686, 688, 689, 690, 691,\n",
              "       692, 694, 695, 696, 697, 698, 703, 704, 705, 706, 708, 709, 710,\n",
              "       711, 712, 713, 714, 716, 717, 718, 719, 721, 722, 723, 724, 726,\n",
              "       729, 730, 731, 733, 735, 736, 737, 738, 739, 740, 741, 742, 743,\n",
              "       744, 745, 746, 748, 749, 750, 751, 752, 753, 754, 756, 757, 758,\n",
              "       759, 760, 761, 762, 763, 765, 766, 768, 770, 772, 773, 774, 775,\n",
              "       776, 777, 780, 781, 782, 783, 784, 785, 786, 787, 788, 789, 791,\n",
              "       792, 793, 794, 795, 796, 797, 798, 799, 800, 802, 803, 804, 805,\n",
              "       806, 807, 808, 809, 810, 811, 812, 813, 814, 815, 816, 817, 818,\n",
              "       819, 820, 821, 822, 824, 825, 826, 827, 828, 829, 830, 831, 832,\n",
              "       835, 836, 837, 838, 839, 840, 841, 842, 843, 845, 846, 848, 849,\n",
              "       850, 851, 852, 853, 854, 855, 857, 858, 860, 861, 862, 863, 864,\n",
              "       865, 867, 868, 870, 871, 873, 877, 878, 879, 880, 882, 883, 884,\n",
              "       885, 886, 887, 888, 889, 890, 891, 892, 893, 894, 895, 896, 897,\n",
              "       898, 899, 902, 903, 904, 905, 906, 907, 908, 910, 912, 913, 916,\n",
              "       918, 919, 920, 921, 922, 923, 925, 926, 928, 929, 930, 931, 932,\n",
              "       933, 934, 935, 937, 938, 939, 940, 941, 942, 943, 944, 945, 947,\n",
              "       948, 949, 951, 952, 953, 954, 956, 958, 959, 960, 961, 962, 963,\n",
              "       964, 965, 966, 967, 968, 969, 970, 972, 974, 975, 976, 978, 979,\n",
              "       980, 982, 983, 984, 985, 986, 987, 988, 990, 992, 993, 995, 997,\n",
              "       998, 999])"
            ]
          },
          "metadata": {},
          "execution_count": 54
        }
      ]
    },
    {
      "cell_type": "code",
      "source": [
        "# 핵심 샘플\n",
        "dbscan.components_"
      ],
      "metadata": {
        "colab": {
          "base_uri": "https://localhost:8080/"
        },
        "id": "Ecz9325sdejP",
        "outputId": "2b3aeebb-1369-4da3-85da-2aefebd1ee44"
      },
      "execution_count": 55,
      "outputs": [
        {
          "output_type": "execute_result",
          "data": {
            "text/plain": [
              "array([[-0.02137124,  0.40618608],\n",
              "       [-0.84192557,  0.53058695],\n",
              "       [ 0.58930337, -0.32137599],\n",
              "       ...,\n",
              "       [ 1.66258462, -0.3079193 ],\n",
              "       [-0.94355873,  0.3278936 ],\n",
              "       [ 0.79419406,  0.60777171]])"
            ]
          },
          "metadata": {},
          "execution_count": 55
        }
      ]
    },
    {
      "cell_type": "code",
      "source": [
        "# KNeighborsClassifier 훈련\n",
        "from sklearn.neighbors import KNeighborsClassifier\n",
        "\n",
        "knn = KNeighborsClassifier(n_neighbors=50)\n",
        "knn.fit(dbscan.components_, dbscan.labels_[dbscan.core_sample_indices_])"
      ],
      "metadata": {
        "colab": {
          "base_uri": "https://localhost:8080/"
        },
        "id": "Q9IUpxwkdiwr",
        "outputId": "50855614-4c0d-43a0-9b4f-a98934d05abe"
      },
      "execution_count": 56,
      "outputs": [
        {
          "output_type": "execute_result",
          "data": {
            "text/plain": [
              "KNeighborsClassifier(n_neighbors=50)"
            ]
          },
          "metadata": {},
          "execution_count": 56
        }
      ]
    },
    {
      "cell_type": "code",
      "source": [
        "# 클러스터 예측\n",
        "X_new = np.array([[-0.5, 0], [0, 0.5], [1, -0.1], [2, 1]])\n",
        "knn.predict(X_new)"
      ],
      "metadata": {
        "colab": {
          "base_uri": "https://localhost:8080/"
        },
        "id": "oR4C7vxYeYq_",
        "outputId": "bfa71a25-897f-4269-bc97-fa9207b7ec4e"
      },
      "execution_count": 57,
      "outputs": [
        {
          "output_type": "execute_result",
          "data": {
            "text/plain": [
              "array([6, 0, 3, 2])"
            ]
          },
          "metadata": {},
          "execution_count": 57
        }
      ]
    },
    {
      "cell_type": "code",
      "source": [
        "# 각 클러스터에 대한 확률 추정\n",
        "knn.predict_proba(X_new)"
      ],
      "metadata": {
        "colab": {
          "base_uri": "https://localhost:8080/"
        },
        "id": "aulPLov7eiVF",
        "outputId": "906e0867-ba2c-43a6-b860-a68ca6256d3a"
      },
      "execution_count": 58,
      "outputs": [
        {
          "output_type": "execute_result",
          "data": {
            "text/plain": [
              "array([[0.24, 0.  , 0.  , 0.  , 0.  , 0.  , 0.76],\n",
              "       [1.  , 0.  , 0.  , 0.  , 0.  , 0.  , 0.  ],\n",
              "       [0.  , 0.  , 0.3 , 0.7 , 0.  , 0.  , 0.  ],\n",
              "       [0.  , 0.  , 1.  , 0.  , 0.  , 0.  , 0.  ]])"
            ]
          },
          "metadata": {},
          "execution_count": 58
        }
      ]
    },
    {
      "cell_type": "code",
      "source": [
        "# 최대 거리 사용하여 두 클러스터에서 멀리 떨어진 샘플을 이상치로 분류\n",
        "y_dist, y_pred_idx = knn.kneighbors(X_new, n_neighbors=1)\n",
        "y_pred = dbscan.labels_[dbscan.core_sample_indices_][y_pred_idx]\n",
        "y_pred[y_dist > 0.2] = -1\n",
        "y_pred.ravel()"
      ],
      "metadata": {
        "colab": {
          "base_uri": "https://localhost:8080/"
        },
        "id": "rIuSsdG3fHb5",
        "outputId": "c9ef6ee2-b226-491d-81df-06fb544c242a"
      },
      "execution_count": 59,
      "outputs": [
        {
          "output_type": "execute_result",
          "data": {
            "text/plain": [
              "array([-1,  0,  3, -1])"
            ]
          },
          "metadata": {},
          "execution_count": 59
        }
      ]
    },
    {
      "cell_type": "markdown",
      "source": [
        "#### 9.1.7 다른 군집 알고리즘\n",
        "* 병합 군집\n",
        "  - 밑바닥부터 위로 쌓아 구성\n",
        "  - 인접한 클러스터 쌍을 연결\n",
        "  - 대규모 샘플과 클러스터에 잘 확장\n",
        "  - 다양한 클러스터 감지 가능\n",
        "  - 특정 클러스터 개수를 선택하는 데 도움이 되는 유용한 클러스터 트리를 만들 수 있음\n",
        "\n",
        "* BIRCH\n",
        "  - 제한된 메모리를 사용해 대용량 데이터셋 다룸\n",
        "  - 훈련 과정에서 새로운 샘플을 클러스터에 빠르게 할당할 수 있는 정보를 담은 트리 구조 생성\n",
        "\n",
        "* 평균 이동\n",
        "  - 각 샘플을 중심으로 하는 원 안에 포함된 모든 샘플의 평균 계산 -> 원의 중심을 평균점으로 이동 -> 모든 원이 움직이지 않을 때까지 반복\n",
        "  - 모양이나 개수에 상관없이 클러스터 찾을 수 있음\n",
        "  - 하이퍼파라미터 적음 (bandwidth)\n",
        "  - 국부적인 밀집도 추정에 의존\n",
        "  - 대규모 데이터셋에는 적합하지 않음\n",
        "\n",
        "* 유사도 전파\n",
        "  - 투표 방식 사용\n",
        "  - 크기가 다른 여러 개의 클러스터 감지 가능\n",
        "  - 대규모 데이터셋에는 적합하지 않음\n",
        "\n",
        "* 스펙트럼 군집\n",
        "  - 샘플 사이의 유사도 행렬을 받아 저차원 임베딩 생성 -> 차원 축소\n",
        "  - 복잡한 클러스터 구조 감지하고 그래프 컷을 찾는 데 사용\n",
        "  - 샘플 개수가 많거나, 클러스터의 크기가 매우 다르면 잘 동작하지 않음\n",
        "\n"
      ],
      "metadata": {
        "id": "So1jCQRqh-7O"
      }
    },
    {
      "cell_type": "markdown",
      "source": [
        "### 9.2 가우시안 혼합\n",
        "* 가우시안 혼합 모델 : 샘플이 파라미터가 알려지지 않은 여러 개의 혼합된 가우시안 분포에서 생성되었다고 가정하는 확률 모델\n",
        "  - 하나의 가우시안 분포에서 생성된 모든 샘플은 하나의 클러스터를 형성\n",
        "  - 일반적으로 클러스터는 타원형\n",
        "* GaussianMixture 클래스\n",
        "  - 사전에 가우시안 분포 개수 k 알아야 함\n",
        "  - 기댓값-최적화(EM) 알고리즘 사용 - 소프트 클러스터 할당 이용\n",
        "    - 기댓값 단계 : 샘플을 클러스터에 할당\n",
        "    - 최대화 단계 : 클러스터 업데이트\n",
        "      - 책임 : 클러스터에 속할 추정 확률\n",
        "  - 새로운 샘플 예측\n",
        "    - predict() : 하드 군집\n",
        "    - predict_proba() : 소프트 군집\n",
        "  - 생성 모델 : 새로운 샘플 생성 가능 (sample)\n",
        "  - 밀도 추정 : score_samples() - 확률 밀도 함수의 로그 예측"
      ],
      "metadata": {
        "id": "8S-Is8mKkys1"
      }
    },
    {
      "cell_type": "code",
      "source": [
        "# 데이터 생성\n",
        "X1, y1 = make_blobs(n_samples=1000, centers=((4, -4), (0, 0)), random_state=42)\n",
        "X1 = X1.dot(np.array([[0.374, 0.95], [0.732, 0.598]]))\n",
        "X2, y2 = make_blobs(n_samples=250, centers=1, random_state=42)\n",
        "X2 = X2 + [6, -8]\n",
        "X = np.r_[X1, X2]\n",
        "y = np.r_[y1, y2]"
      ],
      "metadata": {
        "id": "6wP8HvNcmP2X"
      },
      "execution_count": 60,
      "outputs": []
    },
    {
      "cell_type": "code",
      "source": [
        "# 가우시안 혼합 모델 훈련\n",
        "from sklearn.mixture import GaussianMixture\n",
        "\n",
        "gm = GaussianMixture(n_components=3, n_init=10, random_state=42)\n",
        "gm.fit(X)"
      ],
      "metadata": {
        "colab": {
          "base_uri": "https://localhost:8080/"
        },
        "id": "lF8KpqMDmLIG",
        "outputId": "886c7b3c-80cd-4c7e-cbeb-0b395579abf2"
      },
      "execution_count": 61,
      "outputs": [
        {
          "output_type": "execute_result",
          "data": {
            "text/plain": [
              "GaussianMixture(n_components=3, n_init=10, random_state=42)"
            ]
          },
          "metadata": {},
          "execution_count": 61
        }
      ]
    },
    {
      "cell_type": "code",
      "source": [
        "# 추정한 파라미터 확인\n",
        "gm.weights_"
      ],
      "metadata": {
        "colab": {
          "base_uri": "https://localhost:8080/"
        },
        "id": "cZKFcstfmVS7",
        "outputId": "920452a7-189d-4aeb-9004-761b42e7d671"
      },
      "execution_count": 62,
      "outputs": [
        {
          "output_type": "execute_result",
          "data": {
            "text/plain": [
              "array([0.39025715, 0.40007391, 0.20966893])"
            ]
          },
          "metadata": {},
          "execution_count": 62
        }
      ]
    },
    {
      "cell_type": "code",
      "source": [
        "gm.means_"
      ],
      "metadata": {
        "colab": {
          "base_uri": "https://localhost:8080/"
        },
        "id": "cdeLhv75maCw",
        "outputId": "1ff85242-dc8d-48e2-8bc9-ad4fef1ebbfd"
      },
      "execution_count": 63,
      "outputs": [
        {
          "output_type": "execute_result",
          "data": {
            "text/plain": [
              "array([[ 0.05131611,  0.07521837],\n",
              "       [-1.40763156,  1.42708225],\n",
              "       [ 3.39893794,  1.05928897]])"
            ]
          },
          "metadata": {},
          "execution_count": 63
        }
      ]
    },
    {
      "cell_type": "code",
      "source": [
        "gm.covariances_"
      ],
      "metadata": {
        "colab": {
          "base_uri": "https://localhost:8080/"
        },
        "id": "ZoGTzKc3mbPV",
        "outputId": "c74c2f87-91e9-450f-9166-67727c8c0cd0"
      },
      "execution_count": 64,
      "outputs": [
        {
          "output_type": "execute_result",
          "data": {
            "text/plain": [
              "array([[[ 0.68799922,  0.79606357],\n",
              "        [ 0.79606357,  1.21236106]],\n",
              "\n",
              "       [[ 0.63479409,  0.72970799],\n",
              "        [ 0.72970799,  1.1610351 ]],\n",
              "\n",
              "       [[ 1.14833585, -0.03256179],\n",
              "        [-0.03256179,  0.95490931]]])"
            ]
          },
          "metadata": {},
          "execution_count": 64
        }
      ]
    },
    {
      "cell_type": "code",
      "source": [
        "gm.converged_ # 알고리즘 수렴 여부"
      ],
      "metadata": {
        "colab": {
          "base_uri": "https://localhost:8080/"
        },
        "id": "uZo02DYRnm0A",
        "outputId": "d78443e2-5f59-4f76-d2b6-8d16edfc2b53"
      },
      "execution_count": 65,
      "outputs": [
        {
          "output_type": "execute_result",
          "data": {
            "text/plain": [
              "True"
            ]
          },
          "metadata": {},
          "execution_count": 65
        }
      ]
    },
    {
      "cell_type": "code",
      "source": [
        "gm.n_iter_ # 반복 횟수"
      ],
      "metadata": {
        "colab": {
          "base_uri": "https://localhost:8080/"
        },
        "id": "shkZYzkTnq8X",
        "outputId": "eff0741a-628c-475f-ed92-216cfa0e492e"
      },
      "execution_count": 66,
      "outputs": [
        {
          "output_type": "execute_result",
          "data": {
            "text/plain": [
              "4"
            ]
          },
          "metadata": {},
          "execution_count": 66
        }
      ]
    },
    {
      "cell_type": "code",
      "source": [
        "gm.predict(X) # 하드 군집"
      ],
      "metadata": {
        "colab": {
          "base_uri": "https://localhost:8080/"
        },
        "id": "beGekxDBoB6k",
        "outputId": "4da67cc5-95db-44a4-cb2a-0b79777a87c6"
      },
      "execution_count": 67,
      "outputs": [
        {
          "output_type": "execute_result",
          "data": {
            "text/plain": [
              "array([0, 0, 1, ..., 2, 2, 2])"
            ]
          },
          "metadata": {},
          "execution_count": 67
        }
      ]
    },
    {
      "cell_type": "code",
      "source": [
        "gm.predict_proba(X) # 소프트 군집"
      ],
      "metadata": {
        "colab": {
          "base_uri": "https://localhost:8080/"
        },
        "id": "OqHjNyt_oEOL",
        "outputId": "c18b844d-c1ff-42ab-f289-eb5b32221440"
      },
      "execution_count": 68,
      "outputs": [
        {
          "output_type": "execute_result",
          "data": {
            "text/plain": [
              "array([[9.76741808e-01, 6.78581203e-07, 2.32575136e-02],\n",
              "       [9.82832955e-01, 6.76173663e-04, 1.64908714e-02],\n",
              "       [7.46494398e-05, 9.99923327e-01, 2.02398402e-06],\n",
              "       ...,\n",
              "       [4.26050456e-07, 2.15512941e-26, 9.99999574e-01],\n",
              "       [5.04987704e-16, 1.48083217e-41, 1.00000000e+00],\n",
              "       [2.24602826e-15, 8.11457779e-41, 1.00000000e+00]])"
            ]
          },
          "metadata": {},
          "execution_count": 68
        }
      ]
    },
    {
      "cell_type": "code",
      "source": [
        "# 생성 모델\n",
        "X_new, y_new = gm.sample(6)\n",
        "X_new"
      ],
      "metadata": {
        "colab": {
          "base_uri": "https://localhost:8080/"
        },
        "id": "hO92AR4-oGB_",
        "outputId": "1179a999-501b-4186-e430-7f4c4a44c04c"
      },
      "execution_count": 69,
      "outputs": [
        {
          "output_type": "execute_result",
          "data": {
            "text/plain": [
              "array([[-0.86944074, -0.32767626],\n",
              "       [ 0.29836051,  0.28297011],\n",
              "       [-2.8014927 , -0.09047309],\n",
              "       [ 3.98203732,  1.49951491],\n",
              "       [ 3.81677148,  0.53095244],\n",
              "       [ 2.84104923, -0.73858639]])"
            ]
          },
          "metadata": {},
          "execution_count": 69
        }
      ]
    },
    {
      "cell_type": "code",
      "source": [
        "y_new"
      ],
      "metadata": {
        "colab": {
          "base_uri": "https://localhost:8080/"
        },
        "id": "DWQJoRmfoTzU",
        "outputId": "9d8015b9-7658-4095-d80c-0429155b137c"
      },
      "execution_count": 70,
      "outputs": [
        {
          "output_type": "execute_result",
          "data": {
            "text/plain": [
              "array([0, 0, 1, 2, 2, 2])"
            ]
          },
          "metadata": {},
          "execution_count": 70
        }
      ]
    },
    {
      "cell_type": "code",
      "source": [
        "gm.score_samples(X) # 로그 PDF 추정"
      ],
      "metadata": {
        "colab": {
          "base_uri": "https://localhost:8080/"
        },
        "id": "J-7xKTkVosfe",
        "outputId": "13f80447-418f-4412-d6c3-489b95a12b46"
      },
      "execution_count": 71,
      "outputs": [
        {
          "output_type": "execute_result",
          "data": {
            "text/plain": [
              "array([-2.60768954, -3.57110232, -3.32987086, ..., -3.51347241,\n",
              "       -4.39798588, -3.80746532])"
            ]
          },
          "metadata": {},
          "execution_count": 71
        }
      ]
    },
    {
      "cell_type": "markdown",
      "source": [
        "* 특성이나 클러스터가 많거나 샘플이 적을 때 학습할 파라미터 개수 제한 필요\n",
        "  - 클러스터의 모양과 방향의 범위 제한 : 공분산 행렬에 제약 추가\n",
        "    - covariance_type\n",
        "      - \"full\" : 기본값, 모양, 크기, 방향에 제약 없음 \n",
        "      - \"spherical\" : 모든 클러스터가 원형, 지름은 다를 수 있음(분산이 다름)\n",
        "      - \"diag\" : 크기 상관없이 타원형, 타원 축은 좌표 축과 나란(공분산 행렬이 대각 행렬)\n",
        "      - \"tied\" : 모든 클러스터가 동일한 타원 모양, 크기, 방향(동일한 공분산 행렬 공유)\n",
        "\n"
      ],
      "metadata": {
        "id": "7UOrWtgrpTbH"
      }
    },
    {
      "cell_type": "markdown",
      "source": [
        "#### 9.2.1 가우시안 혼합을 사용한 이상치 탐지\n",
        "* 이상치 탐지 : 보통과 많이 다른 샘플을 감지하는 작업\n",
        "  - 이상치 : 밀도가 낮은 지역에 있는 모든 샘플\n",
        "  \n",
        "    -> 밀도 임곗값\n",
        "    - 거짓 양성 많으면 임곗값 낮츰\n",
        "    - 거짓 음성 많으면 임곗값 높임\n",
        "\n",
        "* 특이치 감지 : 이상치로 오염되지 않은 깨끗한 데이터셋에서 훈련\n"
      ],
      "metadata": {
        "id": "6tYW1L6_qaUj"
      }
    },
    {
      "cell_type": "code",
      "source": [
        "# 밀도 임곗값 4%를 이용하여 이상치 구분\n",
        "densities = gm.score_samples(X)\n",
        "density_threshold = np.percentile(densities, 4)\n",
        "anomalies = X[densities < density_threshold]"
      ],
      "metadata": {
        "id": "6IuUjSpJot9Q"
      },
      "execution_count": 72,
      "outputs": []
    },
    {
      "cell_type": "markdown",
      "source": [
        "#### 9.2.2 클러스터 개수 선택하기\n",
        "* BIC, AIC와 같은 이론적 정보 기준을 최소화하는 모델\n",
        "\n",
        "![image.png](data:image/png;base64,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)"
      ],
      "metadata": {
        "id": "gmJds9hArzSe"
      }
    },
    {
      "cell_type": "markdown",
      "source": [
        "* 학습할 파라미터가 많은 모델에 벌칙, 데이터를 잘 학습하는 모델에 보상\n",
        "* BIC가 선택한 모델이 AIC가 선택한 모델보다 간단한 경향"
      ],
      "metadata": {
        "id": "z1SRDX9psaf4"
      }
    },
    {
      "cell_type": "code",
      "source": [
        "gm.bic(X) # BIC"
      ],
      "metadata": {
        "colab": {
          "base_uri": "https://localhost:8080/"
        },
        "id": "4yocUhvLsZ_J",
        "outputId": "9d6ed1f3-69c8-46d2-ef34-c7febc4e7e0c"
      },
      "execution_count": 73,
      "outputs": [
        {
          "output_type": "execute_result",
          "data": {
            "text/plain": [
              "8189.747000497186"
            ]
          },
          "metadata": {},
          "execution_count": 73
        }
      ]
    },
    {
      "cell_type": "code",
      "source": [
        "gm.aic(X) # AIC"
      ],
      "metadata": {
        "colab": {
          "base_uri": "https://localhost:8080/"
        },
        "id": "MkbBOKZ9sYnK",
        "outputId": "c3dedf74-6df7-40aa-ff79-6db8f93a04ab"
      },
      "execution_count": 74,
      "outputs": [
        {
          "output_type": "execute_result",
          "data": {
            "text/plain": [
              "8102.521720382148"
            ]
          },
          "metadata": {},
          "execution_count": 74
        }
      ]
    },
    {
      "cell_type": "markdown",
      "source": [
        "#### 9.2.3 베이즈 가우시안 혼합 모델\n",
        "* BayesianGaussianMixture 클래스 : 최적의 클러스터 개수를 수동으로 찾지 않고 불필요한 클러스터의 가중치를 0으로 만듦\n",
        "  - n_components : 최적의 클러스터 개수보다 크다고 믿을 만한 값을 지정"
      ],
      "metadata": {
        "id": "UHVLyyC7tF17"
      }
    },
    {
      "cell_type": "code",
      "source": [
        "# 베이즈 가우시안 혼합 모델\n",
        "from sklearn.mixture import BayesianGaussianMixture\n",
        "bgm = BayesianGaussianMixture(n_components=10, n_init=10, random_state=42)\n",
        "bgm.fit(X)"
      ],
      "metadata": {
        "colab": {
          "base_uri": "https://localhost:8080/"
        },
        "id": "DwoheiyFtbd2",
        "outputId": "4ab6c2ef-0c32-43d1-b75a-76788cba4124"
      },
      "execution_count": 75,
      "outputs": [
        {
          "output_type": "execute_result",
          "data": {
            "text/plain": [
              "BayesianGaussianMixture(n_components=10, n_init=10, random_state=42)"
            ]
          },
          "metadata": {},
          "execution_count": 75
        }
      ]
    },
    {
      "cell_type": "code",
      "source": [
        "np.round(bgm.weights_, 2) # 가중치 확인"
      ],
      "metadata": {
        "colab": {
          "base_uri": "https://localhost:8080/"
        },
        "id": "YfrlslJbtoD-",
        "outputId": "0c707233-b593-4359-99c5-063ad22a4b7f"
      },
      "execution_count": 76,
      "outputs": [
        {
          "output_type": "execute_result",
          "data": {
            "text/plain": [
              "array([0.4 , 0.21, 0.4 , 0.  , 0.  , 0.  , 0.  , 0.  , 0.  , 0.  ])"
            ]
          },
          "metadata": {},
          "execution_count": 76
        }
      ]
    },
    {
      "cell_type": "markdown",
      "source": [
        "#### 9.2.4 이상치 탐지와 특이치 탐지를 위한 다른 알고리즘\n",
        "* PCA(그리고 inverse_transform() 메서드를 가진 다른 차원 축소 기법) : 보통 샘플의 재구성 오차와 이상치의 재구성 오차 중 후자가 훨씬 큼, 매우 효과적인 이상치 탐지 기법\n",
        "* Fast-MCD : EllipticEnvelope 클래스에서 구현, 이상치 탐지에 유용, 데이터셋 정제 시 사용, 타원형을 잘 추정\n",
        "* 아이솔레이션 포레스트 : 고차원 데이터셋에서 이상치 감지를 위한 효율적인 알고리즘, 무작위로 성장한 결정 트리로 구성된 랜덤 포레스트 생성\n",
        "* LOF : 이상치 탐지에 좋음, 주어진 샘플 주위의 밀도와 이웃 주위의 밀도 비교\n",
        "* one-class SVM : 특이치 탐지에 적합, 조정할 하이퍼파라미터가 적음, 고타원 데이터셋에 잘 작동, 대구모 데이터셋으로의 확장은 어려움"
      ],
      "metadata": {
        "id": "JtZIi56UvI3d"
      }
    }
  ]
}