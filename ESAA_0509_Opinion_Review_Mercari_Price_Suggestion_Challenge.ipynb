{
  "nbformat": 4,
  "nbformat_minor": 0,
  "metadata": {
    "colab": {
      "name": "ESAA_0509_Opinion_Review_Mercari_Price_Suggestion_Challenge.ipynb",
      "provenance": [],
      "authorship_tag": "ABX9TyMFy1Xop07eni7Dsz8pL797",
      "include_colab_link": true
    },
    "kernelspec": {
      "name": "python3",
      "display_name": "Python 3"
    },
    "language_info": {
      "name": "python"
    }
  },
  "cells": [
    {
      "cell_type": "markdown",
      "metadata": {
        "id": "view-in-github",
        "colab_type": "text"
      },
      "source": [
        "<a href=\"https://colab.research.google.com/github/statistics-jun/2022-1-ESAA/blob/main/ESAA_0509_Opinion_Review_Mercari_Price_Suggestion_Challenge.ipynb\" target=\"_parent\"><img src=\"https://colab.research.google.com/assets/colab-badge.svg\" alt=\"Open In Colab\"/></a>"
      ]
    },
    {
      "cell_type": "markdown",
      "source": [
        "# 2022-1 ESAA 5기 김혜준 실습 필사 - 0509(월) 10주차 과제\n",
        " \n",
        "## <파이썬 머신러닝 완벽 가이드>\n",
        "## Chapter 8 텍스트 분석"
      ],
      "metadata": {
        "id": "rv1U8OimRKo8"
      }
    },
    {
      "cell_type": "markdown",
      "source": [
        "### 07 문서 군집화 소개와 실습(Opinion Review 데이터 세트)\n",
        "#### 문서 군집화 개념\n",
        "* 문서 군집화(Document Clustering) : 비슷한 텍스트 구성의 문서를 군집화(Clustering)하는 것\n",
        "* 텍스트 분류 기반의 문서 분류와의 비교\n",
        "  - 유사한 점 : 동일한 군집에 속하는 문서를 같은 카테고리 소속으로 분류\n",
        "  - 다른 점 : 학습 데이터 세트가 필요 없는 비지도학습 기반으로 동작\n",
        "  \n",
        "   <-> 텍스트 분류 : 사전에 결정 카테고리 값을 가진 학습 데이터 세트 필요"
      ],
      "metadata": {
        "id": "G9HzYAyTRgD1"
      }
    },
    {
      "cell_type": "markdown",
      "source": [
        "#### Opinion Review 데이터 세트를 이용한 문서 군집화 수행하기\n",
        "* Opinion Review 데이터 세트\n",
        "  - 51개의 텍스트 파일로 구성 : 각 파일은 Tripadvisor(호텔), Edmunds.com(자동차), Amazon.com(전자제품) 사이트에서 가져온 리뷰 문서, 100개 정도의 문장으로 이루어짐"
      ],
      "metadata": {
        "id": "WsaEEORXwWNT"
      }
    },
    {
      "cell_type": "code",
      "source": [
        "from google.colab import drive\n",
        "drive.mount('/content/drive')"
      ],
      "metadata": {
        "colab": {
          "base_uri": "https://localhost:8080/"
        },
        "id": "J6wm1sSlwp_x",
        "outputId": "99d10b64-7899-499a-90ca-81814aab6f0b"
      },
      "execution_count": 1,
      "outputs": [
        {
          "output_type": "stream",
          "name": "stdout",
          "text": [
            "Mounted at /content/drive\n"
          ]
        }
      ]
    },
    {
      "cell_type": "markdown",
      "source": [
        "여러 개의 파일을 한 개의 DataFrame으로 로딩"
      ],
      "metadata": {
        "id": "UPGJs1_YDbqG"
      }
    },
    {
      "cell_type": "code",
      "execution_count": 5,
      "metadata": {
        "colab": {
          "base_uri": "https://localhost:8080/",
          "height": 206
        },
        "id": "-3ogspzVRKHY",
        "outputId": "d651f3a1-f447-46ed-e66d-c0805fae70fb"
      },
      "outputs": [
        {
          "output_type": "execute_result",
          "data": {
            "text/plain": [
              "                         filename  \\\n",
              "0        navigation_amazon_kindle   \n",
              "1       mileage_honda_accord_2008   \n",
              "2     location_holiday_inn_london   \n",
              "3  location_bestwestern_hotel_sfo   \n",
              "4         keyboard_netbook_1005ha   \n",
              "\n",
              "                                        opinion_text  \n",
              "0                                                ...  \n",
              "1                                                ...  \n",
              "2                                                ...  \n",
              "3                                                ...  \n",
              "4                                                ...  "
            ],
            "text/html": [
              "\n",
              "  <div id=\"df-3fa62440-5e06-4081-9e5c-6a30e456f3df\">\n",
              "    <div class=\"colab-df-container\">\n",
              "      <div>\n",
              "<style scoped>\n",
              "    .dataframe tbody tr th:only-of-type {\n",
              "        vertical-align: middle;\n",
              "    }\n",
              "\n",
              "    .dataframe tbody tr th {\n",
              "        vertical-align: top;\n",
              "    }\n",
              "\n",
              "    .dataframe thead th {\n",
              "        text-align: right;\n",
              "    }\n",
              "</style>\n",
              "<table border=\"1\" class=\"dataframe\">\n",
              "  <thead>\n",
              "    <tr style=\"text-align: right;\">\n",
              "      <th></th>\n",
              "      <th>filename</th>\n",
              "      <th>opinion_text</th>\n",
              "    </tr>\n",
              "  </thead>\n",
              "  <tbody>\n",
              "    <tr>\n",
              "      <th>0</th>\n",
              "      <td>navigation_amazon_kindle</td>\n",
              "      <td>...</td>\n",
              "    </tr>\n",
              "    <tr>\n",
              "      <th>1</th>\n",
              "      <td>mileage_honda_accord_2008</td>\n",
              "      <td>...</td>\n",
              "    </tr>\n",
              "    <tr>\n",
              "      <th>2</th>\n",
              "      <td>location_holiday_inn_london</td>\n",
              "      <td>...</td>\n",
              "    </tr>\n",
              "    <tr>\n",
              "      <th>3</th>\n",
              "      <td>location_bestwestern_hotel_sfo</td>\n",
              "      <td>...</td>\n",
              "    </tr>\n",
              "    <tr>\n",
              "      <th>4</th>\n",
              "      <td>keyboard_netbook_1005ha</td>\n",
              "      <td>...</td>\n",
              "    </tr>\n",
              "  </tbody>\n",
              "</table>\n",
              "</div>\n",
              "      <button class=\"colab-df-convert\" onclick=\"convertToInteractive('df-3fa62440-5e06-4081-9e5c-6a30e456f3df')\"\n",
              "              title=\"Convert this dataframe to an interactive table.\"\n",
              "              style=\"display:none;\">\n",
              "        \n",
              "  <svg xmlns=\"http://www.w3.org/2000/svg\" height=\"24px\"viewBox=\"0 0 24 24\"\n",
              "       width=\"24px\">\n",
              "    <path d=\"M0 0h24v24H0V0z\" fill=\"none\"/>\n",
              "    <path d=\"M18.56 5.44l.94 2.06.94-2.06 2.06-.94-2.06-.94-.94-2.06-.94 2.06-2.06.94zm-11 1L8.5 8.5l.94-2.06 2.06-.94-2.06-.94L8.5 2.5l-.94 2.06-2.06.94zm10 10l.94 2.06.94-2.06 2.06-.94-2.06-.94-.94-2.06-.94 2.06-2.06.94z\"/><path d=\"M17.41 7.96l-1.37-1.37c-.4-.4-.92-.59-1.43-.59-.52 0-1.04.2-1.43.59L10.3 9.45l-7.72 7.72c-.78.78-.78 2.05 0 2.83L4 21.41c.39.39.9.59 1.41.59.51 0 1.02-.2 1.41-.59l7.78-7.78 2.81-2.81c.8-.78.8-2.07 0-2.86zM5.41 20L4 18.59l7.72-7.72 1.47 1.35L5.41 20z\"/>\n",
              "  </svg>\n",
              "      </button>\n",
              "      \n",
              "  <style>\n",
              "    .colab-df-container {\n",
              "      display:flex;\n",
              "      flex-wrap:wrap;\n",
              "      gap: 12px;\n",
              "    }\n",
              "\n",
              "    .colab-df-convert {\n",
              "      background-color: #E8F0FE;\n",
              "      border: none;\n",
              "      border-radius: 50%;\n",
              "      cursor: pointer;\n",
              "      display: none;\n",
              "      fill: #1967D2;\n",
              "      height: 32px;\n",
              "      padding: 0 0 0 0;\n",
              "      width: 32px;\n",
              "    }\n",
              "\n",
              "    .colab-df-convert:hover {\n",
              "      background-color: #E2EBFA;\n",
              "      box-shadow: 0px 1px 2px rgba(60, 64, 67, 0.3), 0px 1px 3px 1px rgba(60, 64, 67, 0.15);\n",
              "      fill: #174EA6;\n",
              "    }\n",
              "\n",
              "    [theme=dark] .colab-df-convert {\n",
              "      background-color: #3B4455;\n",
              "      fill: #D2E3FC;\n",
              "    }\n",
              "\n",
              "    [theme=dark] .colab-df-convert:hover {\n",
              "      background-color: #434B5C;\n",
              "      box-shadow: 0px 1px 3px 1px rgba(0, 0, 0, 0.15);\n",
              "      filter: drop-shadow(0px 1px 2px rgba(0, 0, 0, 0.3));\n",
              "      fill: #FFFFFF;\n",
              "    }\n",
              "  </style>\n",
              "\n",
              "      <script>\n",
              "        const buttonEl =\n",
              "          document.querySelector('#df-3fa62440-5e06-4081-9e5c-6a30e456f3df button.colab-df-convert');\n",
              "        buttonEl.style.display =\n",
              "          google.colab.kernel.accessAllowed ? 'block' : 'none';\n",
              "\n",
              "        async function convertToInteractive(key) {\n",
              "          const element = document.querySelector('#df-3fa62440-5e06-4081-9e5c-6a30e456f3df');\n",
              "          const dataTable =\n",
              "            await google.colab.kernel.invokeFunction('convertToInteractive',\n",
              "                                                     [key], {});\n",
              "          if (!dataTable) return;\n",
              "\n",
              "          const docLinkHtml = 'Like what you see? Visit the ' +\n",
              "            '<a target=\"_blank\" href=https://colab.research.google.com/notebooks/data_table.ipynb>data table notebook</a>'\n",
              "            + ' to learn more about interactive tables.';\n",
              "          element.innerHTML = '';\n",
              "          dataTable['output_type'] = 'display_data';\n",
              "          await google.colab.output.renderOutput(dataTable, element);\n",
              "          const docLink = document.createElement('div');\n",
              "          docLink.innerHTML = docLinkHtml;\n",
              "          element.appendChild(docLink);\n",
              "        }\n",
              "      </script>\n",
              "    </div>\n",
              "  </div>\n",
              "  "
            ]
          },
          "metadata": {},
          "execution_count": 5
        }
      ],
      "source": [
        "import pandas as pd\n",
        "import glob, os\n",
        "\n",
        "path = r'/content/drive/MyDrive/ESAA/2022-1/과제/실습 필사/0509(월) 10주차 과제/OpinosisDataset1.0/OpinosisDataset1.0/topics'                     \n",
        "# path로 지정한 디렉터리 밑에 있는 모든 .data 파일의 파일명을 리스트로 취합\n",
        "all_files = glob.glob(os.path.join(path, \"*.data\"))    \n",
        "filename_list = []\n",
        "opinion_text = []\n",
        "\n",
        "# 개별 파일의 파일명은 filename_list로 취합, \n",
        "# 개별 파일의 파일 내용은 DataFrame 로딩 후 다시 string으로 변환해 opinion_text list로 취합 \n",
        "for file_ in all_files:\n",
        "    # 개별 파일을 읽어서 DataFrame으로 생성 \n",
        "    df = pd.read_table(file_,index_col=None, header=0, encoding='latin1')\n",
        "    \n",
        "    # 절대 경로로 주어진 파일명을 가공. 리눅스에서 수행할 때는 다음 \\\\를 /로 변경\n",
        "    # 맨 마지막 .data 확장자도 제거\n",
        "    filename_ = file_.split('/')[-1]\n",
        "    filename = filename_.split('.')[0]\n",
        "\n",
        "    # 파일명 list와 파일 내용 list에 파일명과 파일 내용을 추가 \n",
        "    filename_list.append(filename)\n",
        "    opinion_text.append(df.to_string())\n",
        "\n",
        "# 파일명 list와 파일 내용 list 객체를 DataFrame으로 생성\n",
        "document_df = pd.DataFrame({'filename':filename_list, 'opinion_text':opinion_text})\n",
        "document_df.head()"
      ]
    },
    {
      "cell_type": "markdown",
      "source": [
        "개별 문서에 TF-IDF 피처 벡터화 적용"
      ],
      "metadata": {
        "id": "qEFcTH3_EHiC"
      }
    },
    {
      "cell_type": "code",
      "source": [
        "from nltk.stem import WordNetLemmatizer\n",
        "import nltk\n",
        "import string\n",
        "\n",
        "remove_punct_dict = dict((ord(punct), None) for punct in string.punctuation)\n",
        "lemmar = WordNetLemmatizer()\n",
        "\n",
        "def LemTokens(tokens):\n",
        "    return [lemmar.lemmatize(token) for token in tokens]\n",
        "\n",
        "def LemNormalize(text):\n",
        "    return LemTokens(nltk.word_tokenize(text.lower().translate(remove_punct_dict)))"
      ],
      "metadata": {
        "id": "7GdWvMAly3AD"
      },
      "execution_count": 6,
      "outputs": []
    },
    {
      "cell_type": "code",
      "source": [
        "nltk.download('punkt')\n",
        "nltk.download('wordnet')"
      ],
      "metadata": {
        "colab": {
          "base_uri": "https://localhost:8080/"
        },
        "id": "SVUKnTQF26yR",
        "outputId": "8b6bb4bf-1e46-4faa-f1ae-d6fe97a5afcc"
      },
      "execution_count": 8,
      "outputs": [
        {
          "output_type": "stream",
          "name": "stdout",
          "text": [
            "[nltk_data] Downloading package punkt to /root/nltk_data...\n",
            "[nltk_data]   Unzipping tokenizers/punkt.zip.\n",
            "[nltk_data] Downloading package wordnet to /root/nltk_data...\n",
            "[nltk_data]   Unzipping corpora/wordnet.zip.\n"
          ]
        },
        {
          "output_type": "execute_result",
          "data": {
            "text/plain": [
              "True"
            ]
          },
          "metadata": {},
          "execution_count": 8
        }
      ]
    },
    {
      "cell_type": "code",
      "source": [
        "from sklearn.feature_extraction.text import TfidfVectorizer\n",
        "\n",
        "tfidf_vect = TfidfVectorizer(tokenizer=LemNormalize, stop_words='english',\n",
        "                             ngram_range=(1, 2), min_df=0.05, max_df=0.85 )\n",
        "\n",
        "# opinion_text 칼럼 값으로 피처 벡터화 수행\n",
        "feature_vect = tfidf_vect.fit_transform(document_df['opinion_text'])"
      ],
      "metadata": {
        "colab": {
          "base_uri": "https://localhost:8080/"
        },
        "id": "8UeJqgYu2u22",
        "outputId": "f064de63-2362-484b-d47d-0803101c9d4c"
      },
      "execution_count": 9,
      "outputs": [
        {
          "output_type": "stream",
          "name": "stderr",
          "text": [
            "/usr/local/lib/python3.7/dist-packages/sklearn/feature_extraction/text.py:401: UserWarning: Your stop_words may be inconsistent with your preprocessing. Tokenizing the stop words generated tokens ['ha', 'le', 'u', 'wa'] not in stop_words.\n",
            "  % sorted(inconsistent)\n"
          ]
        }
      ]
    },
    {
      "cell_type": "markdown",
      "source": [
        "피처 벡터화 행렬 데이터에 K-평균 군집화 수행"
      ],
      "metadata": {
        "id": "-MI7M8lOExya"
      }
    },
    {
      "cell_type": "markdown",
      "source": [
        "> 5개 중심 기반 군집화"
      ],
      "metadata": {
        "id": "VpWp2FySLB8J"
      }
    },
    {
      "cell_type": "code",
      "source": [
        "from sklearn.cluster import KMeans\n",
        "\n",
        "# 5개 집합으로 군집화 수행\n",
        "km_cluster = KMeans(n_clusters=5, max_iter=10000, random_state=0)\n",
        "km_cluster.fit(feature_vect)\n",
        "cluster_label = km_cluster.labels_\n",
        "cluster_centers = km_cluster.cluster_centers_"
      ],
      "metadata": {
        "id": "-xfc_p3V3FIC"
      },
      "execution_count": 10,
      "outputs": []
    },
    {
      "cell_type": "code",
      "source": [
        "# cluster_label에 각 데이터별로 할당된 군집 레이블 저장\n",
        "document_df['cluster_label'] = cluster_label\n",
        "document_df.head()"
      ],
      "metadata": {
        "colab": {
          "base_uri": "https://localhost:8080/",
          "height": 206
        },
        "id": "rsIiJZb63MGb",
        "outputId": "8ec74191-de09-475d-a66a-ba612cb455a7"
      },
      "execution_count": 11,
      "outputs": [
        {
          "output_type": "execute_result",
          "data": {
            "text/plain": [
              "                         filename  \\\n",
              "0        navigation_amazon_kindle   \n",
              "1       mileage_honda_accord_2008   \n",
              "2     location_holiday_inn_london   \n",
              "3  location_bestwestern_hotel_sfo   \n",
              "4         keyboard_netbook_1005ha   \n",
              "\n",
              "                                        opinion_text  cluster_label  \n",
              "0                                                ...              1  \n",
              "1                                                ...              0  \n",
              "2                                                ...              3  \n",
              "3                                                ...              3  \n",
              "4                                                ...              1  "
            ],
            "text/html": [
              "\n",
              "  <div id=\"df-fea82a4e-f785-4551-b21d-a5247c50a8d2\">\n",
              "    <div class=\"colab-df-container\">\n",
              "      <div>\n",
              "<style scoped>\n",
              "    .dataframe tbody tr th:only-of-type {\n",
              "        vertical-align: middle;\n",
              "    }\n",
              "\n",
              "    .dataframe tbody tr th {\n",
              "        vertical-align: top;\n",
              "    }\n",
              "\n",
              "    .dataframe thead th {\n",
              "        text-align: right;\n",
              "    }\n",
              "</style>\n",
              "<table border=\"1\" class=\"dataframe\">\n",
              "  <thead>\n",
              "    <tr style=\"text-align: right;\">\n",
              "      <th></th>\n",
              "      <th>filename</th>\n",
              "      <th>opinion_text</th>\n",
              "      <th>cluster_label</th>\n",
              "    </tr>\n",
              "  </thead>\n",
              "  <tbody>\n",
              "    <tr>\n",
              "      <th>0</th>\n",
              "      <td>navigation_amazon_kindle</td>\n",
              "      <td>...</td>\n",
              "      <td>1</td>\n",
              "    </tr>\n",
              "    <tr>\n",
              "      <th>1</th>\n",
              "      <td>mileage_honda_accord_2008</td>\n",
              "      <td>...</td>\n",
              "      <td>0</td>\n",
              "    </tr>\n",
              "    <tr>\n",
              "      <th>2</th>\n",
              "      <td>location_holiday_inn_london</td>\n",
              "      <td>...</td>\n",
              "      <td>3</td>\n",
              "    </tr>\n",
              "    <tr>\n",
              "      <th>3</th>\n",
              "      <td>location_bestwestern_hotel_sfo</td>\n",
              "      <td>...</td>\n",
              "      <td>3</td>\n",
              "    </tr>\n",
              "    <tr>\n",
              "      <th>4</th>\n",
              "      <td>keyboard_netbook_1005ha</td>\n",
              "      <td>...</td>\n",
              "      <td>1</td>\n",
              "    </tr>\n",
              "  </tbody>\n",
              "</table>\n",
              "</div>\n",
              "      <button class=\"colab-df-convert\" onclick=\"convertToInteractive('df-fea82a4e-f785-4551-b21d-a5247c50a8d2')\"\n",
              "              title=\"Convert this dataframe to an interactive table.\"\n",
              "              style=\"display:none;\">\n",
              "        \n",
              "  <svg xmlns=\"http://www.w3.org/2000/svg\" height=\"24px\"viewBox=\"0 0 24 24\"\n",
              "       width=\"24px\">\n",
              "    <path d=\"M0 0h24v24H0V0z\" fill=\"none\"/>\n",
              "    <path d=\"M18.56 5.44l.94 2.06.94-2.06 2.06-.94-2.06-.94-.94-2.06-.94 2.06-2.06.94zm-11 1L8.5 8.5l.94-2.06 2.06-.94-2.06-.94L8.5 2.5l-.94 2.06-2.06.94zm10 10l.94 2.06.94-2.06 2.06-.94-2.06-.94-.94-2.06-.94 2.06-2.06.94z\"/><path d=\"M17.41 7.96l-1.37-1.37c-.4-.4-.92-.59-1.43-.59-.52 0-1.04.2-1.43.59L10.3 9.45l-7.72 7.72c-.78.78-.78 2.05 0 2.83L4 21.41c.39.39.9.59 1.41.59.51 0 1.02-.2 1.41-.59l7.78-7.78 2.81-2.81c.8-.78.8-2.07 0-2.86zM5.41 20L4 18.59l7.72-7.72 1.47 1.35L5.41 20z\"/>\n",
              "  </svg>\n",
              "      </button>\n",
              "      \n",
              "  <style>\n",
              "    .colab-df-container {\n",
              "      display:flex;\n",
              "      flex-wrap:wrap;\n",
              "      gap: 12px;\n",
              "    }\n",
              "\n",
              "    .colab-df-convert {\n",
              "      background-color: #E8F0FE;\n",
              "      border: none;\n",
              "      border-radius: 50%;\n",
              "      cursor: pointer;\n",
              "      display: none;\n",
              "      fill: #1967D2;\n",
              "      height: 32px;\n",
              "      padding: 0 0 0 0;\n",
              "      width: 32px;\n",
              "    }\n",
              "\n",
              "    .colab-df-convert:hover {\n",
              "      background-color: #E2EBFA;\n",
              "      box-shadow: 0px 1px 2px rgba(60, 64, 67, 0.3), 0px 1px 3px 1px rgba(60, 64, 67, 0.15);\n",
              "      fill: #174EA6;\n",
              "    }\n",
              "\n",
              "    [theme=dark] .colab-df-convert {\n",
              "      background-color: #3B4455;\n",
              "      fill: #D2E3FC;\n",
              "    }\n",
              "\n",
              "    [theme=dark] .colab-df-convert:hover {\n",
              "      background-color: #434B5C;\n",
              "      box-shadow: 0px 1px 3px 1px rgba(0, 0, 0, 0.15);\n",
              "      filter: drop-shadow(0px 1px 2px rgba(0, 0, 0, 0.3));\n",
              "      fill: #FFFFFF;\n",
              "    }\n",
              "  </style>\n",
              "\n",
              "      <script>\n",
              "        const buttonEl =\n",
              "          document.querySelector('#df-fea82a4e-f785-4551-b21d-a5247c50a8d2 button.colab-df-convert');\n",
              "        buttonEl.style.display =\n",
              "          google.colab.kernel.accessAllowed ? 'block' : 'none';\n",
              "\n",
              "        async function convertToInteractive(key) {\n",
              "          const element = document.querySelector('#df-fea82a4e-f785-4551-b21d-a5247c50a8d2');\n",
              "          const dataTable =\n",
              "            await google.colab.kernel.invokeFunction('convertToInteractive',\n",
              "                                                     [key], {});\n",
              "          if (!dataTable) return;\n",
              "\n",
              "          const docLinkHtml = 'Like what you see? Visit the ' +\n",
              "            '<a target=\"_blank\" href=https://colab.research.google.com/notebooks/data_table.ipynb>data table notebook</a>'\n",
              "            + ' to learn more about interactive tables.';\n",
              "          element.innerHTML = '';\n",
              "          dataTable['output_type'] = 'display_data';\n",
              "          await google.colab.output.renderOutput(dataTable, element);\n",
              "          const docLink = document.createElement('div');\n",
              "          docLink.innerHTML = docLinkHtml;\n",
              "          element.appendChild(docLink);\n",
              "        }\n",
              "      </script>\n",
              "    </div>\n",
              "  </div>\n",
              "  "
            ]
          },
          "metadata": {},
          "execution_count": 11
        }
      ]
    },
    {
      "cell_type": "markdown",
      "source": [
        "군집이 각 주제별로 유사한 형태로 구성됐는지 확인"
      ],
      "metadata": {
        "id": "Hp-H1VepGRqf"
      }
    },
    {
      "cell_type": "code",
      "source": [
        "document_df[document_df['cluster_label']==0].sort_values(by='filename')"
      ],
      "metadata": {
        "colab": {
          "base_uri": "https://localhost:8080/",
          "height": 363
        },
        "id": "dOtJk28u3Pme",
        "outputId": "522ceb9c-ca0c-471d-af14-77e1a8b4cc8d"
      },
      "execution_count": 12,
      "outputs": [
        {
          "output_type": "execute_result",
          "data": {
            "text/plain": [
              "                          filename  \\\n",
              "17       comfort_honda_accord_2008   \n",
              "16       comfort_toyota_camry_2007   \n",
              "48   gas_mileage_toyota_camry_2007   \n",
              "49      interior_honda_accord_2008   \n",
              "6       interior_toyota_camry_2007   \n",
              "1        mileage_honda_accord_2008   \n",
              "43   performance_honda_accord_2008   \n",
              "40       quality_toyota_camry_2007   \n",
              "37         seats_honda_accord_2008   \n",
              "21  transmission_toyota_camry_2007   \n",
              "\n",
              "                                         opinion_text  cluster_label  \n",
              "17                                                ...              0  \n",
              "16                                                ...              0  \n",
              "48                                                ...              0  \n",
              "49                                                ...              0  \n",
              "6                                                 ...              0  \n",
              "1                                                 ...              0  \n",
              "43                                                ...              0  \n",
              "40                                                ...              0  \n",
              "37                                                ...              0  \n",
              "21                                                ...              0  "
            ],
            "text/html": [
              "\n",
              "  <div id=\"df-c9b26651-a2c4-4f43-af04-1fa75d8e7d22\">\n",
              "    <div class=\"colab-df-container\">\n",
              "      <div>\n",
              "<style scoped>\n",
              "    .dataframe tbody tr th:only-of-type {\n",
              "        vertical-align: middle;\n",
              "    }\n",
              "\n",
              "    .dataframe tbody tr th {\n",
              "        vertical-align: top;\n",
              "    }\n",
              "\n",
              "    .dataframe thead th {\n",
              "        text-align: right;\n",
              "    }\n",
              "</style>\n",
              "<table border=\"1\" class=\"dataframe\">\n",
              "  <thead>\n",
              "    <tr style=\"text-align: right;\">\n",
              "      <th></th>\n",
              "      <th>filename</th>\n",
              "      <th>opinion_text</th>\n",
              "      <th>cluster_label</th>\n",
              "    </tr>\n",
              "  </thead>\n",
              "  <tbody>\n",
              "    <tr>\n",
              "      <th>17</th>\n",
              "      <td>comfort_honda_accord_2008</td>\n",
              "      <td>...</td>\n",
              "      <td>0</td>\n",
              "    </tr>\n",
              "    <tr>\n",
              "      <th>16</th>\n",
              "      <td>comfort_toyota_camry_2007</td>\n",
              "      <td>...</td>\n",
              "      <td>0</td>\n",
              "    </tr>\n",
              "    <tr>\n",
              "      <th>48</th>\n",
              "      <td>gas_mileage_toyota_camry_2007</td>\n",
              "      <td>...</td>\n",
              "      <td>0</td>\n",
              "    </tr>\n",
              "    <tr>\n",
              "      <th>49</th>\n",
              "      <td>interior_honda_accord_2008</td>\n",
              "      <td>...</td>\n",
              "      <td>0</td>\n",
              "    </tr>\n",
              "    <tr>\n",
              "      <th>6</th>\n",
              "      <td>interior_toyota_camry_2007</td>\n",
              "      <td>...</td>\n",
              "      <td>0</td>\n",
              "    </tr>\n",
              "    <tr>\n",
              "      <th>1</th>\n",
              "      <td>mileage_honda_accord_2008</td>\n",
              "      <td>...</td>\n",
              "      <td>0</td>\n",
              "    </tr>\n",
              "    <tr>\n",
              "      <th>43</th>\n",
              "      <td>performance_honda_accord_2008</td>\n",
              "      <td>...</td>\n",
              "      <td>0</td>\n",
              "    </tr>\n",
              "    <tr>\n",
              "      <th>40</th>\n",
              "      <td>quality_toyota_camry_2007</td>\n",
              "      <td>...</td>\n",
              "      <td>0</td>\n",
              "    </tr>\n",
              "    <tr>\n",
              "      <th>37</th>\n",
              "      <td>seats_honda_accord_2008</td>\n",
              "      <td>...</td>\n",
              "      <td>0</td>\n",
              "    </tr>\n",
              "    <tr>\n",
              "      <th>21</th>\n",
              "      <td>transmission_toyota_camry_2007</td>\n",
              "      <td>...</td>\n",
              "      <td>0</td>\n",
              "    </tr>\n",
              "  </tbody>\n",
              "</table>\n",
              "</div>\n",
              "      <button class=\"colab-df-convert\" onclick=\"convertToInteractive('df-c9b26651-a2c4-4f43-af04-1fa75d8e7d22')\"\n",
              "              title=\"Convert this dataframe to an interactive table.\"\n",
              "              style=\"display:none;\">\n",
              "        \n",
              "  <svg xmlns=\"http://www.w3.org/2000/svg\" height=\"24px\"viewBox=\"0 0 24 24\"\n",
              "       width=\"24px\">\n",
              "    <path d=\"M0 0h24v24H0V0z\" fill=\"none\"/>\n",
              "    <path d=\"M18.56 5.44l.94 2.06.94-2.06 2.06-.94-2.06-.94-.94-2.06-.94 2.06-2.06.94zm-11 1L8.5 8.5l.94-2.06 2.06-.94-2.06-.94L8.5 2.5l-.94 2.06-2.06.94zm10 10l.94 2.06.94-2.06 2.06-.94-2.06-.94-.94-2.06-.94 2.06-2.06.94z\"/><path d=\"M17.41 7.96l-1.37-1.37c-.4-.4-.92-.59-1.43-.59-.52 0-1.04.2-1.43.59L10.3 9.45l-7.72 7.72c-.78.78-.78 2.05 0 2.83L4 21.41c.39.39.9.59 1.41.59.51 0 1.02-.2 1.41-.59l7.78-7.78 2.81-2.81c.8-.78.8-2.07 0-2.86zM5.41 20L4 18.59l7.72-7.72 1.47 1.35L5.41 20z\"/>\n",
              "  </svg>\n",
              "      </button>\n",
              "      \n",
              "  <style>\n",
              "    .colab-df-container {\n",
              "      display:flex;\n",
              "      flex-wrap:wrap;\n",
              "      gap: 12px;\n",
              "    }\n",
              "\n",
              "    .colab-df-convert {\n",
              "      background-color: #E8F0FE;\n",
              "      border: none;\n",
              "      border-radius: 50%;\n",
              "      cursor: pointer;\n",
              "      display: none;\n",
              "      fill: #1967D2;\n",
              "      height: 32px;\n",
              "      padding: 0 0 0 0;\n",
              "      width: 32px;\n",
              "    }\n",
              "\n",
              "    .colab-df-convert:hover {\n",
              "      background-color: #E2EBFA;\n",
              "      box-shadow: 0px 1px 2px rgba(60, 64, 67, 0.3), 0px 1px 3px 1px rgba(60, 64, 67, 0.15);\n",
              "      fill: #174EA6;\n",
              "    }\n",
              "\n",
              "    [theme=dark] .colab-df-convert {\n",
              "      background-color: #3B4455;\n",
              "      fill: #D2E3FC;\n",
              "    }\n",
              "\n",
              "    [theme=dark] .colab-df-convert:hover {\n",
              "      background-color: #434B5C;\n",
              "      box-shadow: 0px 1px 3px 1px rgba(0, 0, 0, 0.15);\n",
              "      filter: drop-shadow(0px 1px 2px rgba(0, 0, 0, 0.3));\n",
              "      fill: #FFFFFF;\n",
              "    }\n",
              "  </style>\n",
              "\n",
              "      <script>\n",
              "        const buttonEl =\n",
              "          document.querySelector('#df-c9b26651-a2c4-4f43-af04-1fa75d8e7d22 button.colab-df-convert');\n",
              "        buttonEl.style.display =\n",
              "          google.colab.kernel.accessAllowed ? 'block' : 'none';\n",
              "\n",
              "        async function convertToInteractive(key) {\n",
              "          const element = document.querySelector('#df-c9b26651-a2c4-4f43-af04-1fa75d8e7d22');\n",
              "          const dataTable =\n",
              "            await google.colab.kernel.invokeFunction('convertToInteractive',\n",
              "                                                     [key], {});\n",
              "          if (!dataTable) return;\n",
              "\n",
              "          const docLinkHtml = 'Like what you see? Visit the ' +\n",
              "            '<a target=\"_blank\" href=https://colab.research.google.com/notebooks/data_table.ipynb>data table notebook</a>'\n",
              "            + ' to learn more about interactive tables.';\n",
              "          element.innerHTML = '';\n",
              "          dataTable['output_type'] = 'display_data';\n",
              "          await google.colab.output.renderOutput(dataTable, element);\n",
              "          const docLink = document.createElement('div');\n",
              "          docLink.innerHTML = docLinkHtml;\n",
              "          element.appendChild(docLink);\n",
              "        }\n",
              "      </script>\n",
              "    </div>\n",
              "  </div>\n",
              "  "
            ]
          },
          "metadata": {},
          "execution_count": 12
        }
      ]
    },
    {
      "cell_type": "markdown",
      "source": [
        "* Cluster #0 : 토요타와 혼다 등 자동차에 대한 리뷰"
      ],
      "metadata": {
        "id": "YU5UALP1G3zq"
      }
    },
    {
      "cell_type": "code",
      "source": [
        "document_df[document_df['cluster_label']==1].sort_values(by='filename')"
      ],
      "metadata": {
        "colab": {
          "base_uri": "https://localhost:8080/",
          "height": 394
        },
        "id": "8JncxGK03TBp",
        "outputId": "971d46e4-b956-4db7-c1bc-39b91ec26916"
      },
      "execution_count": 13,
      "outputs": [
        {
          "output_type": "execute_result",
          "data": {
            "text/plain": [
              "                         filename  \\\n",
              "11          buttons_amazon_kindle   \n",
              "8   eyesight-issues_amazon_kindle   \n",
              "45            fonts_amazon_kindle   \n",
              "4         keyboard_netbook_1005ha   \n",
              "0        navigation_amazon_kindle   \n",
              "44     performance_netbook_1005ha   \n",
              "38           screen_ipod_nano_8gb   \n",
              "39          screen_netbook_1005ha   \n",
              "30       size_asus_netbook_1005ha   \n",
              "26                 speed_windows7   \n",
              "22            video_ipod_nano_8gb   \n",
              "\n",
              "                                         opinion_text  cluster_label  \n",
              "11                                                ...              1  \n",
              "8                                                 ...              1  \n",
              "45                                                ...              1  \n",
              "4                                                 ...              1  \n",
              "0                                                 ...              1  \n",
              "44                                                ...              1  \n",
              "38                                                ...              1  \n",
              "39                                                ...              1  \n",
              "30                                                ...              1  \n",
              "26                                                ...              1  \n",
              "22                                                ...              1  "
            ],
            "text/html": [
              "\n",
              "  <div id=\"df-d5da90c8-7ffb-4391-b2cd-39ab7baaeb65\">\n",
              "    <div class=\"colab-df-container\">\n",
              "      <div>\n",
              "<style scoped>\n",
              "    .dataframe tbody tr th:only-of-type {\n",
              "        vertical-align: middle;\n",
              "    }\n",
              "\n",
              "    .dataframe tbody tr th {\n",
              "        vertical-align: top;\n",
              "    }\n",
              "\n",
              "    .dataframe thead th {\n",
              "        text-align: right;\n",
              "    }\n",
              "</style>\n",
              "<table border=\"1\" class=\"dataframe\">\n",
              "  <thead>\n",
              "    <tr style=\"text-align: right;\">\n",
              "      <th></th>\n",
              "      <th>filename</th>\n",
              "      <th>opinion_text</th>\n",
              "      <th>cluster_label</th>\n",
              "    </tr>\n",
              "  </thead>\n",
              "  <tbody>\n",
              "    <tr>\n",
              "      <th>11</th>\n",
              "      <td>buttons_amazon_kindle</td>\n",
              "      <td>...</td>\n",
              "      <td>1</td>\n",
              "    </tr>\n",
              "    <tr>\n",
              "      <th>8</th>\n",
              "      <td>eyesight-issues_amazon_kindle</td>\n",
              "      <td>...</td>\n",
              "      <td>1</td>\n",
              "    </tr>\n",
              "    <tr>\n",
              "      <th>45</th>\n",
              "      <td>fonts_amazon_kindle</td>\n",
              "      <td>...</td>\n",
              "      <td>1</td>\n",
              "    </tr>\n",
              "    <tr>\n",
              "      <th>4</th>\n",
              "      <td>keyboard_netbook_1005ha</td>\n",
              "      <td>...</td>\n",
              "      <td>1</td>\n",
              "    </tr>\n",
              "    <tr>\n",
              "      <th>0</th>\n",
              "      <td>navigation_amazon_kindle</td>\n",
              "      <td>...</td>\n",
              "      <td>1</td>\n",
              "    </tr>\n",
              "    <tr>\n",
              "      <th>44</th>\n",
              "      <td>performance_netbook_1005ha</td>\n",
              "      <td>...</td>\n",
              "      <td>1</td>\n",
              "    </tr>\n",
              "    <tr>\n",
              "      <th>38</th>\n",
              "      <td>screen_ipod_nano_8gb</td>\n",
              "      <td>...</td>\n",
              "      <td>1</td>\n",
              "    </tr>\n",
              "    <tr>\n",
              "      <th>39</th>\n",
              "      <td>screen_netbook_1005ha</td>\n",
              "      <td>...</td>\n",
              "      <td>1</td>\n",
              "    </tr>\n",
              "    <tr>\n",
              "      <th>30</th>\n",
              "      <td>size_asus_netbook_1005ha</td>\n",
              "      <td>...</td>\n",
              "      <td>1</td>\n",
              "    </tr>\n",
              "    <tr>\n",
              "      <th>26</th>\n",
              "      <td>speed_windows7</td>\n",
              "      <td>...</td>\n",
              "      <td>1</td>\n",
              "    </tr>\n",
              "    <tr>\n",
              "      <th>22</th>\n",
              "      <td>video_ipod_nano_8gb</td>\n",
              "      <td>...</td>\n",
              "      <td>1</td>\n",
              "    </tr>\n",
              "  </tbody>\n",
              "</table>\n",
              "</div>\n",
              "      <button class=\"colab-df-convert\" onclick=\"convertToInteractive('df-d5da90c8-7ffb-4391-b2cd-39ab7baaeb65')\"\n",
              "              title=\"Convert this dataframe to an interactive table.\"\n",
              "              style=\"display:none;\">\n",
              "        \n",
              "  <svg xmlns=\"http://www.w3.org/2000/svg\" height=\"24px\"viewBox=\"0 0 24 24\"\n",
              "       width=\"24px\">\n",
              "    <path d=\"M0 0h24v24H0V0z\" fill=\"none\"/>\n",
              "    <path d=\"M18.56 5.44l.94 2.06.94-2.06 2.06-.94-2.06-.94-.94-2.06-.94 2.06-2.06.94zm-11 1L8.5 8.5l.94-2.06 2.06-.94-2.06-.94L8.5 2.5l-.94 2.06-2.06.94zm10 10l.94 2.06.94-2.06 2.06-.94-2.06-.94-.94-2.06-.94 2.06-2.06.94z\"/><path d=\"M17.41 7.96l-1.37-1.37c-.4-.4-.92-.59-1.43-.59-.52 0-1.04.2-1.43.59L10.3 9.45l-7.72 7.72c-.78.78-.78 2.05 0 2.83L4 21.41c.39.39.9.59 1.41.59.51 0 1.02-.2 1.41-.59l7.78-7.78 2.81-2.81c.8-.78.8-2.07 0-2.86zM5.41 20L4 18.59l7.72-7.72 1.47 1.35L5.41 20z\"/>\n",
              "  </svg>\n",
              "      </button>\n",
              "      \n",
              "  <style>\n",
              "    .colab-df-container {\n",
              "      display:flex;\n",
              "      flex-wrap:wrap;\n",
              "      gap: 12px;\n",
              "    }\n",
              "\n",
              "    .colab-df-convert {\n",
              "      background-color: #E8F0FE;\n",
              "      border: none;\n",
              "      border-radius: 50%;\n",
              "      cursor: pointer;\n",
              "      display: none;\n",
              "      fill: #1967D2;\n",
              "      height: 32px;\n",
              "      padding: 0 0 0 0;\n",
              "      width: 32px;\n",
              "    }\n",
              "\n",
              "    .colab-df-convert:hover {\n",
              "      background-color: #E2EBFA;\n",
              "      box-shadow: 0px 1px 2px rgba(60, 64, 67, 0.3), 0px 1px 3px 1px rgba(60, 64, 67, 0.15);\n",
              "      fill: #174EA6;\n",
              "    }\n",
              "\n",
              "    [theme=dark] .colab-df-convert {\n",
              "      background-color: #3B4455;\n",
              "      fill: #D2E3FC;\n",
              "    }\n",
              "\n",
              "    [theme=dark] .colab-df-convert:hover {\n",
              "      background-color: #434B5C;\n",
              "      box-shadow: 0px 1px 3px 1px rgba(0, 0, 0, 0.15);\n",
              "      filter: drop-shadow(0px 1px 2px rgba(0, 0, 0, 0.3));\n",
              "      fill: #FFFFFF;\n",
              "    }\n",
              "  </style>\n",
              "\n",
              "      <script>\n",
              "        const buttonEl =\n",
              "          document.querySelector('#df-d5da90c8-7ffb-4391-b2cd-39ab7baaeb65 button.colab-df-convert');\n",
              "        buttonEl.style.display =\n",
              "          google.colab.kernel.accessAllowed ? 'block' : 'none';\n",
              "\n",
              "        async function convertToInteractive(key) {\n",
              "          const element = document.querySelector('#df-d5da90c8-7ffb-4391-b2cd-39ab7baaeb65');\n",
              "          const dataTable =\n",
              "            await google.colab.kernel.invokeFunction('convertToInteractive',\n",
              "                                                     [key], {});\n",
              "          if (!dataTable) return;\n",
              "\n",
              "          const docLinkHtml = 'Like what you see? Visit the ' +\n",
              "            '<a target=\"_blank\" href=https://colab.research.google.com/notebooks/data_table.ipynb>data table notebook</a>'\n",
              "            + ' to learn more about interactive tables.';\n",
              "          element.innerHTML = '';\n",
              "          dataTable['output_type'] = 'display_data';\n",
              "          await google.colab.output.renderOutput(dataTable, element);\n",
              "          const docLink = document.createElement('div');\n",
              "          docLink.innerHTML = docLinkHtml;\n",
              "          element.appendChild(docLink);\n",
              "        }\n",
              "      </script>\n",
              "    </div>\n",
              "  </div>\n",
              "  "
            ]
          },
          "metadata": {},
          "execution_count": 13
        }
      ]
    },
    {
      "cell_type": "markdown",
      "source": [
        "* Cluster #1 : 킨들, 아이팟, 넷북 등 포터블 전자기기에 대한 리뷰"
      ],
      "metadata": {
        "id": "TLNzmX8EHny-"
      }
    },
    {
      "cell_type": "code",
      "source": [
        "document_df[document_df['cluster_label']==2].sort_values(by='filename')"
      ],
      "metadata": {
        "colab": {
          "base_uri": "https://localhost:8080/",
          "height": 175
        },
        "id": "yH2OA2Mh3Vmz",
        "outputId": "3260d98b-cb33-410c-a678-648a3396c33b"
      },
      "execution_count": 14,
      "outputs": [
        {
          "output_type": "execute_result",
          "data": {
            "text/plain": [
              "                       filename  \\\n",
              "13   battery-life_amazon_kindle   \n",
              "12   battery-life_ipod_nano_8gb   \n",
              "15  battery-life_netbook_1005ha   \n",
              "42          price_amazon_kindle   \n",
              "\n",
              "                                         opinion_text  cluster_label  \n",
              "13                                                ...              2  \n",
              "12                                                ...              2  \n",
              "15                                                ...              2  \n",
              "42                                                ...              2  "
            ],
            "text/html": [
              "\n",
              "  <div id=\"df-1821cacf-6261-4a7a-a243-1f9e89d0f7d5\">\n",
              "    <div class=\"colab-df-container\">\n",
              "      <div>\n",
              "<style scoped>\n",
              "    .dataframe tbody tr th:only-of-type {\n",
              "        vertical-align: middle;\n",
              "    }\n",
              "\n",
              "    .dataframe tbody tr th {\n",
              "        vertical-align: top;\n",
              "    }\n",
              "\n",
              "    .dataframe thead th {\n",
              "        text-align: right;\n",
              "    }\n",
              "</style>\n",
              "<table border=\"1\" class=\"dataframe\">\n",
              "  <thead>\n",
              "    <tr style=\"text-align: right;\">\n",
              "      <th></th>\n",
              "      <th>filename</th>\n",
              "      <th>opinion_text</th>\n",
              "      <th>cluster_label</th>\n",
              "    </tr>\n",
              "  </thead>\n",
              "  <tbody>\n",
              "    <tr>\n",
              "      <th>13</th>\n",
              "      <td>battery-life_amazon_kindle</td>\n",
              "      <td>...</td>\n",
              "      <td>2</td>\n",
              "    </tr>\n",
              "    <tr>\n",
              "      <th>12</th>\n",
              "      <td>battery-life_ipod_nano_8gb</td>\n",
              "      <td>...</td>\n",
              "      <td>2</td>\n",
              "    </tr>\n",
              "    <tr>\n",
              "      <th>15</th>\n",
              "      <td>battery-life_netbook_1005ha</td>\n",
              "      <td>...</td>\n",
              "      <td>2</td>\n",
              "    </tr>\n",
              "    <tr>\n",
              "      <th>42</th>\n",
              "      <td>price_amazon_kindle</td>\n",
              "      <td>...</td>\n",
              "      <td>2</td>\n",
              "    </tr>\n",
              "  </tbody>\n",
              "</table>\n",
              "</div>\n",
              "      <button class=\"colab-df-convert\" onclick=\"convertToInteractive('df-1821cacf-6261-4a7a-a243-1f9e89d0f7d5')\"\n",
              "              title=\"Convert this dataframe to an interactive table.\"\n",
              "              style=\"display:none;\">\n",
              "        \n",
              "  <svg xmlns=\"http://www.w3.org/2000/svg\" height=\"24px\"viewBox=\"0 0 24 24\"\n",
              "       width=\"24px\">\n",
              "    <path d=\"M0 0h24v24H0V0z\" fill=\"none\"/>\n",
              "    <path d=\"M18.56 5.44l.94 2.06.94-2.06 2.06-.94-2.06-.94-.94-2.06-.94 2.06-2.06.94zm-11 1L8.5 8.5l.94-2.06 2.06-.94-2.06-.94L8.5 2.5l-.94 2.06-2.06.94zm10 10l.94 2.06.94-2.06 2.06-.94-2.06-.94-.94-2.06-.94 2.06-2.06.94z\"/><path d=\"M17.41 7.96l-1.37-1.37c-.4-.4-.92-.59-1.43-.59-.52 0-1.04.2-1.43.59L10.3 9.45l-7.72 7.72c-.78.78-.78 2.05 0 2.83L4 21.41c.39.39.9.59 1.41.59.51 0 1.02-.2 1.41-.59l7.78-7.78 2.81-2.81c.8-.78.8-2.07 0-2.86zM5.41 20L4 18.59l7.72-7.72 1.47 1.35L5.41 20z\"/>\n",
              "  </svg>\n",
              "      </button>\n",
              "      \n",
              "  <style>\n",
              "    .colab-df-container {\n",
              "      display:flex;\n",
              "      flex-wrap:wrap;\n",
              "      gap: 12px;\n",
              "    }\n",
              "\n",
              "    .colab-df-convert {\n",
              "      background-color: #E8F0FE;\n",
              "      border: none;\n",
              "      border-radius: 50%;\n",
              "      cursor: pointer;\n",
              "      display: none;\n",
              "      fill: #1967D2;\n",
              "      height: 32px;\n",
              "      padding: 0 0 0 0;\n",
              "      width: 32px;\n",
              "    }\n",
              "\n",
              "    .colab-df-convert:hover {\n",
              "      background-color: #E2EBFA;\n",
              "      box-shadow: 0px 1px 2px rgba(60, 64, 67, 0.3), 0px 1px 3px 1px rgba(60, 64, 67, 0.15);\n",
              "      fill: #174EA6;\n",
              "    }\n",
              "\n",
              "    [theme=dark] .colab-df-convert {\n",
              "      background-color: #3B4455;\n",
              "      fill: #D2E3FC;\n",
              "    }\n",
              "\n",
              "    [theme=dark] .colab-df-convert:hover {\n",
              "      background-color: #434B5C;\n",
              "      box-shadow: 0px 1px 3px 1px rgba(0, 0, 0, 0.15);\n",
              "      filter: drop-shadow(0px 1px 2px rgba(0, 0, 0, 0.3));\n",
              "      fill: #FFFFFF;\n",
              "    }\n",
              "  </style>\n",
              "\n",
              "      <script>\n",
              "        const buttonEl =\n",
              "          document.querySelector('#df-1821cacf-6261-4a7a-a243-1f9e89d0f7d5 button.colab-df-convert');\n",
              "        buttonEl.style.display =\n",
              "          google.colab.kernel.accessAllowed ? 'block' : 'none';\n",
              "\n",
              "        async function convertToInteractive(key) {\n",
              "          const element = document.querySelector('#df-1821cacf-6261-4a7a-a243-1f9e89d0f7d5');\n",
              "          const dataTable =\n",
              "            await google.colab.kernel.invokeFunction('convertToInteractive',\n",
              "                                                     [key], {});\n",
              "          if (!dataTable) return;\n",
              "\n",
              "          const docLinkHtml = 'Like what you see? Visit the ' +\n",
              "            '<a target=\"_blank\" href=https://colab.research.google.com/notebooks/data_table.ipynb>data table notebook</a>'\n",
              "            + ' to learn more about interactive tables.';\n",
              "          element.innerHTML = '';\n",
              "          dataTable['output_type'] = 'display_data';\n",
              "          await google.colab.output.renderOutput(dataTable, element);\n",
              "          const docLink = document.createElement('div');\n",
              "          docLink.innerHTML = docLinkHtml;\n",
              "          element.appendChild(docLink);\n",
              "        }\n",
              "      </script>\n",
              "    </div>\n",
              "  </div>\n",
              "  "
            ]
          },
          "metadata": {},
          "execution_count": 14
        }
      ]
    },
    {
      "cell_type": "markdown",
      "source": [
        "* Cluster #2 : 킨들, 아이팟, 넷북 등 포터블 전자기기에 대한 리뷰"
      ],
      "metadata": {
        "id": "_wxhwrUQI_g4"
      }
    },
    {
      "cell_type": "code",
      "source": [
        "document_df[document_df['cluster_label']==3].sort_values(by='filename')"
      ],
      "metadata": {
        "colab": {
          "base_uri": "https://localhost:8080/",
          "height": 551
        },
        "id": "QgFefz6J3YT7",
        "outputId": "5306139a-3f03-4108-e8cd-ededc6054a8d"
      },
      "execution_count": 15,
      "outputs": [
        {
          "output_type": "execute_result",
          "data": {
            "text/plain": [
              "                           filename  \\\n",
              "14   bathroom_bestwestern_hotel_sfo   \n",
              "5           food_holiday_inn_london   \n",
              "47           food_swissotel_chicago   \n",
              "46       free_bestwestern_hotel_sfo   \n",
              "3    location_bestwestern_hotel_sfo   \n",
              "2       location_holiday_inn_london   \n",
              "50    parking_bestwestern_hotel_sfo   \n",
              "41         price_holiday_inn_london   \n",
              "28          room_holiday_inn_london   \n",
              "34      rooms_bestwestern_hotel_sfo   \n",
              "35          rooms_swissotel_chicago   \n",
              "36    service_bestwestern_hotel_sfo   \n",
              "31       service_holiday_inn_london   \n",
              "27  service_swissotel_hotel_chicago   \n",
              "24      staff_bestwestern_hotel_sfo   \n",
              "23          staff_swissotel_chicago   \n",
              "\n",
              "                                         opinion_text  cluster_label  \n",
              "14                                                ...              3  \n",
              "5                                                 ...              3  \n",
              "47                                                ...              3  \n",
              "46                                                ...              3  \n",
              "3                                                 ...              3  \n",
              "2                                                 ...              3  \n",
              "50                                                ...              3  \n",
              "41                                                ...              3  \n",
              "28                                                ...              3  \n",
              "34                                                ...              3  \n",
              "35                                                ...              3  \n",
              "36                                                ...              3  \n",
              "31                                                ...              3  \n",
              "27                                                ...              3  \n",
              "24                                                ...              3  \n",
              "23                                                ...              3  "
            ],
            "text/html": [
              "\n",
              "  <div id=\"df-bec5e62d-bdfb-49d3-9208-7ffc066592be\">\n",
              "    <div class=\"colab-df-container\">\n",
              "      <div>\n",
              "<style scoped>\n",
              "    .dataframe tbody tr th:only-of-type {\n",
              "        vertical-align: middle;\n",
              "    }\n",
              "\n",
              "    .dataframe tbody tr th {\n",
              "        vertical-align: top;\n",
              "    }\n",
              "\n",
              "    .dataframe thead th {\n",
              "        text-align: right;\n",
              "    }\n",
              "</style>\n",
              "<table border=\"1\" class=\"dataframe\">\n",
              "  <thead>\n",
              "    <tr style=\"text-align: right;\">\n",
              "      <th></th>\n",
              "      <th>filename</th>\n",
              "      <th>opinion_text</th>\n",
              "      <th>cluster_label</th>\n",
              "    </tr>\n",
              "  </thead>\n",
              "  <tbody>\n",
              "    <tr>\n",
              "      <th>14</th>\n",
              "      <td>bathroom_bestwestern_hotel_sfo</td>\n",
              "      <td>...</td>\n",
              "      <td>3</td>\n",
              "    </tr>\n",
              "    <tr>\n",
              "      <th>5</th>\n",
              "      <td>food_holiday_inn_london</td>\n",
              "      <td>...</td>\n",
              "      <td>3</td>\n",
              "    </tr>\n",
              "    <tr>\n",
              "      <th>47</th>\n",
              "      <td>food_swissotel_chicago</td>\n",
              "      <td>...</td>\n",
              "      <td>3</td>\n",
              "    </tr>\n",
              "    <tr>\n",
              "      <th>46</th>\n",
              "      <td>free_bestwestern_hotel_sfo</td>\n",
              "      <td>...</td>\n",
              "      <td>3</td>\n",
              "    </tr>\n",
              "    <tr>\n",
              "      <th>3</th>\n",
              "      <td>location_bestwestern_hotel_sfo</td>\n",
              "      <td>...</td>\n",
              "      <td>3</td>\n",
              "    </tr>\n",
              "    <tr>\n",
              "      <th>2</th>\n",
              "      <td>location_holiday_inn_london</td>\n",
              "      <td>...</td>\n",
              "      <td>3</td>\n",
              "    </tr>\n",
              "    <tr>\n",
              "      <th>50</th>\n",
              "      <td>parking_bestwestern_hotel_sfo</td>\n",
              "      <td>...</td>\n",
              "      <td>3</td>\n",
              "    </tr>\n",
              "    <tr>\n",
              "      <th>41</th>\n",
              "      <td>price_holiday_inn_london</td>\n",
              "      <td>...</td>\n",
              "      <td>3</td>\n",
              "    </tr>\n",
              "    <tr>\n",
              "      <th>28</th>\n",
              "      <td>room_holiday_inn_london</td>\n",
              "      <td>...</td>\n",
              "      <td>3</td>\n",
              "    </tr>\n",
              "    <tr>\n",
              "      <th>34</th>\n",
              "      <td>rooms_bestwestern_hotel_sfo</td>\n",
              "      <td>...</td>\n",
              "      <td>3</td>\n",
              "    </tr>\n",
              "    <tr>\n",
              "      <th>35</th>\n",
              "      <td>rooms_swissotel_chicago</td>\n",
              "      <td>...</td>\n",
              "      <td>3</td>\n",
              "    </tr>\n",
              "    <tr>\n",
              "      <th>36</th>\n",
              "      <td>service_bestwestern_hotel_sfo</td>\n",
              "      <td>...</td>\n",
              "      <td>3</td>\n",
              "    </tr>\n",
              "    <tr>\n",
              "      <th>31</th>\n",
              "      <td>service_holiday_inn_london</td>\n",
              "      <td>...</td>\n",
              "      <td>3</td>\n",
              "    </tr>\n",
              "    <tr>\n",
              "      <th>27</th>\n",
              "      <td>service_swissotel_hotel_chicago</td>\n",
              "      <td>...</td>\n",
              "      <td>3</td>\n",
              "    </tr>\n",
              "    <tr>\n",
              "      <th>24</th>\n",
              "      <td>staff_bestwestern_hotel_sfo</td>\n",
              "      <td>...</td>\n",
              "      <td>3</td>\n",
              "    </tr>\n",
              "    <tr>\n",
              "      <th>23</th>\n",
              "      <td>staff_swissotel_chicago</td>\n",
              "      <td>...</td>\n",
              "      <td>3</td>\n",
              "    </tr>\n",
              "  </tbody>\n",
              "</table>\n",
              "</div>\n",
              "      <button class=\"colab-df-convert\" onclick=\"convertToInteractive('df-bec5e62d-bdfb-49d3-9208-7ffc066592be')\"\n",
              "              title=\"Convert this dataframe to an interactive table.\"\n",
              "              style=\"display:none;\">\n",
              "        \n",
              "  <svg xmlns=\"http://www.w3.org/2000/svg\" height=\"24px\"viewBox=\"0 0 24 24\"\n",
              "       width=\"24px\">\n",
              "    <path d=\"M0 0h24v24H0V0z\" fill=\"none\"/>\n",
              "    <path d=\"M18.56 5.44l.94 2.06.94-2.06 2.06-.94-2.06-.94-.94-2.06-.94 2.06-2.06.94zm-11 1L8.5 8.5l.94-2.06 2.06-.94-2.06-.94L8.5 2.5l-.94 2.06-2.06.94zm10 10l.94 2.06.94-2.06 2.06-.94-2.06-.94-.94-2.06-.94 2.06-2.06.94z\"/><path d=\"M17.41 7.96l-1.37-1.37c-.4-.4-.92-.59-1.43-.59-.52 0-1.04.2-1.43.59L10.3 9.45l-7.72 7.72c-.78.78-.78 2.05 0 2.83L4 21.41c.39.39.9.59 1.41.59.51 0 1.02-.2 1.41-.59l7.78-7.78 2.81-2.81c.8-.78.8-2.07 0-2.86zM5.41 20L4 18.59l7.72-7.72 1.47 1.35L5.41 20z\"/>\n",
              "  </svg>\n",
              "      </button>\n",
              "      \n",
              "  <style>\n",
              "    .colab-df-container {\n",
              "      display:flex;\n",
              "      flex-wrap:wrap;\n",
              "      gap: 12px;\n",
              "    }\n",
              "\n",
              "    .colab-df-convert {\n",
              "      background-color: #E8F0FE;\n",
              "      border: none;\n",
              "      border-radius: 50%;\n",
              "      cursor: pointer;\n",
              "      display: none;\n",
              "      fill: #1967D2;\n",
              "      height: 32px;\n",
              "      padding: 0 0 0 0;\n",
              "      width: 32px;\n",
              "    }\n",
              "\n",
              "    .colab-df-convert:hover {\n",
              "      background-color: #E2EBFA;\n",
              "      box-shadow: 0px 1px 2px rgba(60, 64, 67, 0.3), 0px 1px 3px 1px rgba(60, 64, 67, 0.15);\n",
              "      fill: #174EA6;\n",
              "    }\n",
              "\n",
              "    [theme=dark] .colab-df-convert {\n",
              "      background-color: #3B4455;\n",
              "      fill: #D2E3FC;\n",
              "    }\n",
              "\n",
              "    [theme=dark] .colab-df-convert:hover {\n",
              "      background-color: #434B5C;\n",
              "      box-shadow: 0px 1px 3px 1px rgba(0, 0, 0, 0.15);\n",
              "      filter: drop-shadow(0px 1px 2px rgba(0, 0, 0, 0.3));\n",
              "      fill: #FFFFFF;\n",
              "    }\n",
              "  </style>\n",
              "\n",
              "      <script>\n",
              "        const buttonEl =\n",
              "          document.querySelector('#df-bec5e62d-bdfb-49d3-9208-7ffc066592be button.colab-df-convert');\n",
              "        buttonEl.style.display =\n",
              "          google.colab.kernel.accessAllowed ? 'block' : 'none';\n",
              "\n",
              "        async function convertToInteractive(key) {\n",
              "          const element = document.querySelector('#df-bec5e62d-bdfb-49d3-9208-7ffc066592be');\n",
              "          const dataTable =\n",
              "            await google.colab.kernel.invokeFunction('convertToInteractive',\n",
              "                                                     [key], {});\n",
              "          if (!dataTable) return;\n",
              "\n",
              "          const docLinkHtml = 'Like what you see? Visit the ' +\n",
              "            '<a target=\"_blank\" href=https://colab.research.google.com/notebooks/data_table.ipynb>data table notebook</a>'\n",
              "            + ' to learn more about interactive tables.';\n",
              "          element.innerHTML = '';\n",
              "          dataTable['output_type'] = 'display_data';\n",
              "          await google.colab.output.renderOutput(dataTable, element);\n",
              "          const docLink = document.createElement('div');\n",
              "          docLink.innerHTML = docLinkHtml;\n",
              "          element.appendChild(docLink);\n",
              "        }\n",
              "      </script>\n",
              "    </div>\n",
              "  </div>\n",
              "  "
            ]
          },
          "metadata": {},
          "execution_count": 15
        }
      ]
    },
    {
      "cell_type": "markdown",
      "source": [
        "* Cluster #3 : 호텔에 대한 리뷰"
      ],
      "metadata": {
        "id": "ytgbSgpvJDMu"
      }
    },
    {
      "cell_type": "code",
      "source": [
        "document_df[document_df['cluster_label']==4].sort_values(by='filename')"
      ],
      "metadata": {
        "colab": {
          "base_uri": "https://localhost:8080/",
          "height": 363
        },
        "id": "XDlL4cPL3alV",
        "outputId": "553b4ae6-b453-4b7c-da46-39304f62b524"
      },
      "execution_count": 16,
      "outputs": [
        {
          "output_type": "execute_result",
          "data": {
            "text/plain": [
              "                           filename  \\\n",
              "18    accuracy_garmin_nuvi_255W_gps   \n",
              "10  directions_garmin_nuvi_255W_gps   \n",
              "9      display_garmin_nuvi_255W_gps   \n",
              "7                 features_windows7   \n",
              "33   satellite_garmin_nuvi_255W_gps   \n",
              "32      screen_garmin_nuvi_255W_gps   \n",
              "29              sound_ipod_nano_8gb   \n",
              "25       speed_garmin_nuvi_255W_gps   \n",
              "20     updates_garmin_nuvi_255W_gps   \n",
              "19       voice_garmin_nuvi_255W_gps   \n",
              "\n",
              "                                         opinion_text  cluster_label  \n",
              "18                                                ...              4  \n",
              "10                                                ...              4  \n",
              "9                                                 ...              4  \n",
              "7                                                 ...              4  \n",
              "33                                                ...              4  \n",
              "32                                                ...              4  \n",
              "29      headphone jack i got a clear case for it a...              4  \n",
              "25                                                ...              4  \n",
              "20                                                ...              4  \n",
              "19                                                ...              4  "
            ],
            "text/html": [
              "\n",
              "  <div id=\"df-c75d42e4-944a-444f-8d6c-937357320d98\">\n",
              "    <div class=\"colab-df-container\">\n",
              "      <div>\n",
              "<style scoped>\n",
              "    .dataframe tbody tr th:only-of-type {\n",
              "        vertical-align: middle;\n",
              "    }\n",
              "\n",
              "    .dataframe tbody tr th {\n",
              "        vertical-align: top;\n",
              "    }\n",
              "\n",
              "    .dataframe thead th {\n",
              "        text-align: right;\n",
              "    }\n",
              "</style>\n",
              "<table border=\"1\" class=\"dataframe\">\n",
              "  <thead>\n",
              "    <tr style=\"text-align: right;\">\n",
              "      <th></th>\n",
              "      <th>filename</th>\n",
              "      <th>opinion_text</th>\n",
              "      <th>cluster_label</th>\n",
              "    </tr>\n",
              "  </thead>\n",
              "  <tbody>\n",
              "    <tr>\n",
              "      <th>18</th>\n",
              "      <td>accuracy_garmin_nuvi_255W_gps</td>\n",
              "      <td>...</td>\n",
              "      <td>4</td>\n",
              "    </tr>\n",
              "    <tr>\n",
              "      <th>10</th>\n",
              "      <td>directions_garmin_nuvi_255W_gps</td>\n",
              "      <td>...</td>\n",
              "      <td>4</td>\n",
              "    </tr>\n",
              "    <tr>\n",
              "      <th>9</th>\n",
              "      <td>display_garmin_nuvi_255W_gps</td>\n",
              "      <td>...</td>\n",
              "      <td>4</td>\n",
              "    </tr>\n",
              "    <tr>\n",
              "      <th>7</th>\n",
              "      <td>features_windows7</td>\n",
              "      <td>...</td>\n",
              "      <td>4</td>\n",
              "    </tr>\n",
              "    <tr>\n",
              "      <th>33</th>\n",
              "      <td>satellite_garmin_nuvi_255W_gps</td>\n",
              "      <td>...</td>\n",
              "      <td>4</td>\n",
              "    </tr>\n",
              "    <tr>\n",
              "      <th>32</th>\n",
              "      <td>screen_garmin_nuvi_255W_gps</td>\n",
              "      <td>...</td>\n",
              "      <td>4</td>\n",
              "    </tr>\n",
              "    <tr>\n",
              "      <th>29</th>\n",
              "      <td>sound_ipod_nano_8gb</td>\n",
              "      <td>headphone jack i got a clear case for it a...</td>\n",
              "      <td>4</td>\n",
              "    </tr>\n",
              "    <tr>\n",
              "      <th>25</th>\n",
              "      <td>speed_garmin_nuvi_255W_gps</td>\n",
              "      <td>...</td>\n",
              "      <td>4</td>\n",
              "    </tr>\n",
              "    <tr>\n",
              "      <th>20</th>\n",
              "      <td>updates_garmin_nuvi_255W_gps</td>\n",
              "      <td>...</td>\n",
              "      <td>4</td>\n",
              "    </tr>\n",
              "    <tr>\n",
              "      <th>19</th>\n",
              "      <td>voice_garmin_nuvi_255W_gps</td>\n",
              "      <td>...</td>\n",
              "      <td>4</td>\n",
              "    </tr>\n",
              "  </tbody>\n",
              "</table>\n",
              "</div>\n",
              "      <button class=\"colab-df-convert\" onclick=\"convertToInteractive('df-c75d42e4-944a-444f-8d6c-937357320d98')\"\n",
              "              title=\"Convert this dataframe to an interactive table.\"\n",
              "              style=\"display:none;\">\n",
              "        \n",
              "  <svg xmlns=\"http://www.w3.org/2000/svg\" height=\"24px\"viewBox=\"0 0 24 24\"\n",
              "       width=\"24px\">\n",
              "    <path d=\"M0 0h24v24H0V0z\" fill=\"none\"/>\n",
              "    <path d=\"M18.56 5.44l.94 2.06.94-2.06 2.06-.94-2.06-.94-.94-2.06-.94 2.06-2.06.94zm-11 1L8.5 8.5l.94-2.06 2.06-.94-2.06-.94L8.5 2.5l-.94 2.06-2.06.94zm10 10l.94 2.06.94-2.06 2.06-.94-2.06-.94-.94-2.06-.94 2.06-2.06.94z\"/><path d=\"M17.41 7.96l-1.37-1.37c-.4-.4-.92-.59-1.43-.59-.52 0-1.04.2-1.43.59L10.3 9.45l-7.72 7.72c-.78.78-.78 2.05 0 2.83L4 21.41c.39.39.9.59 1.41.59.51 0 1.02-.2 1.41-.59l7.78-7.78 2.81-2.81c.8-.78.8-2.07 0-2.86zM5.41 20L4 18.59l7.72-7.72 1.47 1.35L5.41 20z\"/>\n",
              "  </svg>\n",
              "      </button>\n",
              "      \n",
              "  <style>\n",
              "    .colab-df-container {\n",
              "      display:flex;\n",
              "      flex-wrap:wrap;\n",
              "      gap: 12px;\n",
              "    }\n",
              "\n",
              "    .colab-df-convert {\n",
              "      background-color: #E8F0FE;\n",
              "      border: none;\n",
              "      border-radius: 50%;\n",
              "      cursor: pointer;\n",
              "      display: none;\n",
              "      fill: #1967D2;\n",
              "      height: 32px;\n",
              "      padding: 0 0 0 0;\n",
              "      width: 32px;\n",
              "    }\n",
              "\n",
              "    .colab-df-convert:hover {\n",
              "      background-color: #E2EBFA;\n",
              "      box-shadow: 0px 1px 2px rgba(60, 64, 67, 0.3), 0px 1px 3px 1px rgba(60, 64, 67, 0.15);\n",
              "      fill: #174EA6;\n",
              "    }\n",
              "\n",
              "    [theme=dark] .colab-df-convert {\n",
              "      background-color: #3B4455;\n",
              "      fill: #D2E3FC;\n",
              "    }\n",
              "\n",
              "    [theme=dark] .colab-df-convert:hover {\n",
              "      background-color: #434B5C;\n",
              "      box-shadow: 0px 1px 3px 1px rgba(0, 0, 0, 0.15);\n",
              "      filter: drop-shadow(0px 1px 2px rgba(0, 0, 0, 0.3));\n",
              "      fill: #FFFFFF;\n",
              "    }\n",
              "  </style>\n",
              "\n",
              "      <script>\n",
              "        const buttonEl =\n",
              "          document.querySelector('#df-c75d42e4-944a-444f-8d6c-937357320d98 button.colab-df-convert');\n",
              "        buttonEl.style.display =\n",
              "          google.colab.kernel.accessAllowed ? 'block' : 'none';\n",
              "\n",
              "        async function convertToInteractive(key) {\n",
              "          const element = document.querySelector('#df-c75d42e4-944a-444f-8d6c-937357320d98');\n",
              "          const dataTable =\n",
              "            await google.colab.kernel.invokeFunction('convertToInteractive',\n",
              "                                                     [key], {});\n",
              "          if (!dataTable) return;\n",
              "\n",
              "          const docLinkHtml = 'Like what you see? Visit the ' +\n",
              "            '<a target=\"_blank\" href=https://colab.research.google.com/notebooks/data_table.ipynb>data table notebook</a>'\n",
              "            + ' to learn more about interactive tables.';\n",
              "          element.innerHTML = '';\n",
              "          dataTable['output_type'] = 'display_data';\n",
              "          await google.colab.output.renderOutput(dataTable, element);\n",
              "          const docLink = document.createElement('div');\n",
              "          docLink.innerHTML = docLinkHtml;\n",
              "          element.appendChild(docLink);\n",
              "        }\n",
              "      </script>\n",
              "    </div>\n",
              "  </div>\n",
              "  "
            ]
          },
          "metadata": {},
          "execution_count": 16
        }
      ]
    },
    {
      "cell_type": "markdown",
      "source": [
        "* Cluster #4 : 주로 차량용 네비게이션에 대한 리뷰"
      ],
      "metadata": {
        "id": "TF5q0pHbJSBR"
      }
    },
    {
      "cell_type": "markdown",
      "source": [
        "=> 군집 개수가 약간 많게 설정돼 있어서 세분화되어 군집화된 경향 有"
      ],
      "metadata": {
        "id": "761-047lKHGc"
      }
    },
    {
      "cell_type": "markdown",
      "source": [
        "> 3개 중심 기반 군집화"
      ],
      "metadata": {
        "id": "4jBELhXNLTaC"
      }
    },
    {
      "cell_type": "code",
      "source": [
        "from sklearn.cluster import KMeans\n",
        "\n",
        "# 3개의 집합으로 군집화 \n",
        "km_cluster = KMeans(n_clusters=3, max_iter=10000, random_state=0)\n",
        "km_cluster.fit(feature_vect)\n",
        "cluster_label = km_cluster.labels_\n",
        "cluster_centers = km_cluster.cluster_centers_\n",
        "\n",
        "# 소속 군집을 cluster_label 칼럼으로 할당하고 cluster_label 값으로 정렬\n",
        "document_df['cluster_label'] = cluster_label\n",
        "document_df.sort_values(by='cluster_label')"
      ],
      "metadata": {
        "colab": {
          "base_uri": "https://localhost:8080/",
          "height": 1000
        },
        "id": "n4zFAfC63cbS",
        "outputId": "2f2a8545-2556-4c2a-d174-6a944c767e66"
      },
      "execution_count": 17,
      "outputs": [
        {
          "output_type": "execute_result",
          "data": {
            "text/plain": [
              "                           filename  \\\n",
              "50    parking_bestwestern_hotel_sfo   \n",
              "23          staff_swissotel_chicago   \n",
              "27  service_swissotel_hotel_chicago   \n",
              "28          room_holiday_inn_london   \n",
              "31       service_holiday_inn_london   \n",
              "34      rooms_bestwestern_hotel_sfo   \n",
              "14   bathroom_bestwestern_hotel_sfo   \n",
              "35          rooms_swissotel_chicago   \n",
              "24      staff_bestwestern_hotel_sfo   \n",
              "36    service_bestwestern_hotel_sfo   \n",
              "5           food_holiday_inn_london   \n",
              "46       free_bestwestern_hotel_sfo   \n",
              "3    location_bestwestern_hotel_sfo   \n",
              "2       location_holiday_inn_london   \n",
              "47           food_swissotel_chicago   \n",
              "41         price_holiday_inn_london   \n",
              "39            screen_netbook_1005ha   \n",
              "38             screen_ipod_nano_8gb   \n",
              "42              price_amazon_kindle   \n",
              "44       performance_netbook_1005ha   \n",
              "45              fonts_amazon_kindle   \n",
              "33   satellite_garmin_nuvi_255W_gps   \n",
              "32      screen_garmin_nuvi_255W_gps   \n",
              "30         size_asus_netbook_1005ha   \n",
              "29              sound_ipod_nano_8gb   \n",
              "26                   speed_windows7   \n",
              "0          navigation_amazon_kindle   \n",
              "22              video_ipod_nano_8gb   \n",
              "4           keyboard_netbook_1005ha   \n",
              "7                 features_windows7   \n",
              "8     eyesight-issues_amazon_kindle   \n",
              "9      display_garmin_nuvi_255W_gps   \n",
              "10  directions_garmin_nuvi_255W_gps   \n",
              "12       battery-life_ipod_nano_8gb   \n",
              "13       battery-life_amazon_kindle   \n",
              "11            buttons_amazon_kindle   \n",
              "18    accuracy_garmin_nuvi_255W_gps   \n",
              "19       voice_garmin_nuvi_255W_gps   \n",
              "20     updates_garmin_nuvi_255W_gps   \n",
              "15      battery-life_netbook_1005ha   \n",
              "25       speed_garmin_nuvi_255W_gps   \n",
              "16        comfort_toyota_camry_2007   \n",
              "37          seats_honda_accord_2008   \n",
              "49       interior_honda_accord_2008   \n",
              "17        comfort_honda_accord_2008   \n",
              "40        quality_toyota_camry_2007   \n",
              "43    performance_honda_accord_2008   \n",
              "6        interior_toyota_camry_2007   \n",
              "21   transmission_toyota_camry_2007   \n",
              "1         mileage_honda_accord_2008   \n",
              "48    gas_mileage_toyota_camry_2007   \n",
              "\n",
              "                                         opinion_text  cluster_label  \n",
              "50                                                ...              0  \n",
              "23                                                ...              0  \n",
              "27                                                ...              0  \n",
              "28                                                ...              0  \n",
              "31                                                ...              0  \n",
              "34                                                ...              0  \n",
              "14                                                ...              0  \n",
              "35                                                ...              0  \n",
              "24                                                ...              0  \n",
              "36                                                ...              0  \n",
              "5                                                 ...              0  \n",
              "46                                                ...              0  \n",
              "3                                                 ...              0  \n",
              "2                                                 ...              0  \n",
              "47                                                ...              0  \n",
              "41                                                ...              0  \n",
              "39                                                ...              1  \n",
              "38                                                ...              1  \n",
              "42                                                ...              1  \n",
              "44                                                ...              1  \n",
              "45                                                ...              1  \n",
              "33                                                ...              1  \n",
              "32                                                ...              1  \n",
              "30                                                ...              1  \n",
              "29      headphone jack i got a clear case for it a...              1  \n",
              "26                                                ...              1  \n",
              "0                                                 ...              1  \n",
              "22                                                ...              1  \n",
              "4                                                 ...              1  \n",
              "7                                                 ...              1  \n",
              "8                                                 ...              1  \n",
              "9                                                 ...              1  \n",
              "10                                                ...              1  \n",
              "12                                                ...              1  \n",
              "13                                                ...              1  \n",
              "11                                                ...              1  \n",
              "18                                                ...              1  \n",
              "19                                                ...              1  \n",
              "20                                                ...              1  \n",
              "15                                                ...              1  \n",
              "25                                                ...              1  \n",
              "16                                                ...              2  \n",
              "37                                                ...              2  \n",
              "49                                                ...              2  \n",
              "17                                                ...              2  \n",
              "40                                                ...              2  \n",
              "43                                                ...              2  \n",
              "6                                                 ...              2  \n",
              "21                                                ...              2  \n",
              "1                                                 ...              2  \n",
              "48                                                ...              2  "
            ],
            "text/html": [
              "\n",
              "  <div id=\"df-15454ab9-936c-4bb5-bee7-08408bb25af8\">\n",
              "    <div class=\"colab-df-container\">\n",
              "      <div>\n",
              "<style scoped>\n",
              "    .dataframe tbody tr th:only-of-type {\n",
              "        vertical-align: middle;\n",
              "    }\n",
              "\n",
              "    .dataframe tbody tr th {\n",
              "        vertical-align: top;\n",
              "    }\n",
              "\n",
              "    .dataframe thead th {\n",
              "        text-align: right;\n",
              "    }\n",
              "</style>\n",
              "<table border=\"1\" class=\"dataframe\">\n",
              "  <thead>\n",
              "    <tr style=\"text-align: right;\">\n",
              "      <th></th>\n",
              "      <th>filename</th>\n",
              "      <th>opinion_text</th>\n",
              "      <th>cluster_label</th>\n",
              "    </tr>\n",
              "  </thead>\n",
              "  <tbody>\n",
              "    <tr>\n",
              "      <th>50</th>\n",
              "      <td>parking_bestwestern_hotel_sfo</td>\n",
              "      <td>...</td>\n",
              "      <td>0</td>\n",
              "    </tr>\n",
              "    <tr>\n",
              "      <th>23</th>\n",
              "      <td>staff_swissotel_chicago</td>\n",
              "      <td>...</td>\n",
              "      <td>0</td>\n",
              "    </tr>\n",
              "    <tr>\n",
              "      <th>27</th>\n",
              "      <td>service_swissotel_hotel_chicago</td>\n",
              "      <td>...</td>\n",
              "      <td>0</td>\n",
              "    </tr>\n",
              "    <tr>\n",
              "      <th>28</th>\n",
              "      <td>room_holiday_inn_london</td>\n",
              "      <td>...</td>\n",
              "      <td>0</td>\n",
              "    </tr>\n",
              "    <tr>\n",
              "      <th>31</th>\n",
              "      <td>service_holiday_inn_london</td>\n",
              "      <td>...</td>\n",
              "      <td>0</td>\n",
              "    </tr>\n",
              "    <tr>\n",
              "      <th>34</th>\n",
              "      <td>rooms_bestwestern_hotel_sfo</td>\n",
              "      <td>...</td>\n",
              "      <td>0</td>\n",
              "    </tr>\n",
              "    <tr>\n",
              "      <th>14</th>\n",
              "      <td>bathroom_bestwestern_hotel_sfo</td>\n",
              "      <td>...</td>\n",
              "      <td>0</td>\n",
              "    </tr>\n",
              "    <tr>\n",
              "      <th>35</th>\n",
              "      <td>rooms_swissotel_chicago</td>\n",
              "      <td>...</td>\n",
              "      <td>0</td>\n",
              "    </tr>\n",
              "    <tr>\n",
              "      <th>24</th>\n",
              "      <td>staff_bestwestern_hotel_sfo</td>\n",
              "      <td>...</td>\n",
              "      <td>0</td>\n",
              "    </tr>\n",
              "    <tr>\n",
              "      <th>36</th>\n",
              "      <td>service_bestwestern_hotel_sfo</td>\n",
              "      <td>...</td>\n",
              "      <td>0</td>\n",
              "    </tr>\n",
              "    <tr>\n",
              "      <th>5</th>\n",
              "      <td>food_holiday_inn_london</td>\n",
              "      <td>...</td>\n",
              "      <td>0</td>\n",
              "    </tr>\n",
              "    <tr>\n",
              "      <th>46</th>\n",
              "      <td>free_bestwestern_hotel_sfo</td>\n",
              "      <td>...</td>\n",
              "      <td>0</td>\n",
              "    </tr>\n",
              "    <tr>\n",
              "      <th>3</th>\n",
              "      <td>location_bestwestern_hotel_sfo</td>\n",
              "      <td>...</td>\n",
              "      <td>0</td>\n",
              "    </tr>\n",
              "    <tr>\n",
              "      <th>2</th>\n",
              "      <td>location_holiday_inn_london</td>\n",
              "      <td>...</td>\n",
              "      <td>0</td>\n",
              "    </tr>\n",
              "    <tr>\n",
              "      <th>47</th>\n",
              "      <td>food_swissotel_chicago</td>\n",
              "      <td>...</td>\n",
              "      <td>0</td>\n",
              "    </tr>\n",
              "    <tr>\n",
              "      <th>41</th>\n",
              "      <td>price_holiday_inn_london</td>\n",
              "      <td>...</td>\n",
              "      <td>0</td>\n",
              "    </tr>\n",
              "    <tr>\n",
              "      <th>39</th>\n",
              "      <td>screen_netbook_1005ha</td>\n",
              "      <td>...</td>\n",
              "      <td>1</td>\n",
              "    </tr>\n",
              "    <tr>\n",
              "      <th>38</th>\n",
              "      <td>screen_ipod_nano_8gb</td>\n",
              "      <td>...</td>\n",
              "      <td>1</td>\n",
              "    </tr>\n",
              "    <tr>\n",
              "      <th>42</th>\n",
              "      <td>price_amazon_kindle</td>\n",
              "      <td>...</td>\n",
              "      <td>1</td>\n",
              "    </tr>\n",
              "    <tr>\n",
              "      <th>44</th>\n",
              "      <td>performance_netbook_1005ha</td>\n",
              "      <td>...</td>\n",
              "      <td>1</td>\n",
              "    </tr>\n",
              "    <tr>\n",
              "      <th>45</th>\n",
              "      <td>fonts_amazon_kindle</td>\n",
              "      <td>...</td>\n",
              "      <td>1</td>\n",
              "    </tr>\n",
              "    <tr>\n",
              "      <th>33</th>\n",
              "      <td>satellite_garmin_nuvi_255W_gps</td>\n",
              "      <td>...</td>\n",
              "      <td>1</td>\n",
              "    </tr>\n",
              "    <tr>\n",
              "      <th>32</th>\n",
              "      <td>screen_garmin_nuvi_255W_gps</td>\n",
              "      <td>...</td>\n",
              "      <td>1</td>\n",
              "    </tr>\n",
              "    <tr>\n",
              "      <th>30</th>\n",
              "      <td>size_asus_netbook_1005ha</td>\n",
              "      <td>...</td>\n",
              "      <td>1</td>\n",
              "    </tr>\n",
              "    <tr>\n",
              "      <th>29</th>\n",
              "      <td>sound_ipod_nano_8gb</td>\n",
              "      <td>headphone jack i got a clear case for it a...</td>\n",
              "      <td>1</td>\n",
              "    </tr>\n",
              "    <tr>\n",
              "      <th>26</th>\n",
              "      <td>speed_windows7</td>\n",
              "      <td>...</td>\n",
              "      <td>1</td>\n",
              "    </tr>\n",
              "    <tr>\n",
              "      <th>0</th>\n",
              "      <td>navigation_amazon_kindle</td>\n",
              "      <td>...</td>\n",
              "      <td>1</td>\n",
              "    </tr>\n",
              "    <tr>\n",
              "      <th>22</th>\n",
              "      <td>video_ipod_nano_8gb</td>\n",
              "      <td>...</td>\n",
              "      <td>1</td>\n",
              "    </tr>\n",
              "    <tr>\n",
              "      <th>4</th>\n",
              "      <td>keyboard_netbook_1005ha</td>\n",
              "      <td>...</td>\n",
              "      <td>1</td>\n",
              "    </tr>\n",
              "    <tr>\n",
              "      <th>7</th>\n",
              "      <td>features_windows7</td>\n",
              "      <td>...</td>\n",
              "      <td>1</td>\n",
              "    </tr>\n",
              "    <tr>\n",
              "      <th>8</th>\n",
              "      <td>eyesight-issues_amazon_kindle</td>\n",
              "      <td>...</td>\n",
              "      <td>1</td>\n",
              "    </tr>\n",
              "    <tr>\n",
              "      <th>9</th>\n",
              "      <td>display_garmin_nuvi_255W_gps</td>\n",
              "      <td>...</td>\n",
              "      <td>1</td>\n",
              "    </tr>\n",
              "    <tr>\n",
              "      <th>10</th>\n",
              "      <td>directions_garmin_nuvi_255W_gps</td>\n",
              "      <td>...</td>\n",
              "      <td>1</td>\n",
              "    </tr>\n",
              "    <tr>\n",
              "      <th>12</th>\n",
              "      <td>battery-life_ipod_nano_8gb</td>\n",
              "      <td>...</td>\n",
              "      <td>1</td>\n",
              "    </tr>\n",
              "    <tr>\n",
              "      <th>13</th>\n",
              "      <td>battery-life_amazon_kindle</td>\n",
              "      <td>...</td>\n",
              "      <td>1</td>\n",
              "    </tr>\n",
              "    <tr>\n",
              "      <th>11</th>\n",
              "      <td>buttons_amazon_kindle</td>\n",
              "      <td>...</td>\n",
              "      <td>1</td>\n",
              "    </tr>\n",
              "    <tr>\n",
              "      <th>18</th>\n",
              "      <td>accuracy_garmin_nuvi_255W_gps</td>\n",
              "      <td>...</td>\n",
              "      <td>1</td>\n",
              "    </tr>\n",
              "    <tr>\n",
              "      <th>19</th>\n",
              "      <td>voice_garmin_nuvi_255W_gps</td>\n",
              "      <td>...</td>\n",
              "      <td>1</td>\n",
              "    </tr>\n",
              "    <tr>\n",
              "      <th>20</th>\n",
              "      <td>updates_garmin_nuvi_255W_gps</td>\n",
              "      <td>...</td>\n",
              "      <td>1</td>\n",
              "    </tr>\n",
              "    <tr>\n",
              "      <th>15</th>\n",
              "      <td>battery-life_netbook_1005ha</td>\n",
              "      <td>...</td>\n",
              "      <td>1</td>\n",
              "    </tr>\n",
              "    <tr>\n",
              "      <th>25</th>\n",
              "      <td>speed_garmin_nuvi_255W_gps</td>\n",
              "      <td>...</td>\n",
              "      <td>1</td>\n",
              "    </tr>\n",
              "    <tr>\n",
              "      <th>16</th>\n",
              "      <td>comfort_toyota_camry_2007</td>\n",
              "      <td>...</td>\n",
              "      <td>2</td>\n",
              "    </tr>\n",
              "    <tr>\n",
              "      <th>37</th>\n",
              "      <td>seats_honda_accord_2008</td>\n",
              "      <td>...</td>\n",
              "      <td>2</td>\n",
              "    </tr>\n",
              "    <tr>\n",
              "      <th>49</th>\n",
              "      <td>interior_honda_accord_2008</td>\n",
              "      <td>...</td>\n",
              "      <td>2</td>\n",
              "    </tr>\n",
              "    <tr>\n",
              "      <th>17</th>\n",
              "      <td>comfort_honda_accord_2008</td>\n",
              "      <td>...</td>\n",
              "      <td>2</td>\n",
              "    </tr>\n",
              "    <tr>\n",
              "      <th>40</th>\n",
              "      <td>quality_toyota_camry_2007</td>\n",
              "      <td>...</td>\n",
              "      <td>2</td>\n",
              "    </tr>\n",
              "    <tr>\n",
              "      <th>43</th>\n",
              "      <td>performance_honda_accord_2008</td>\n",
              "      <td>...</td>\n",
              "      <td>2</td>\n",
              "    </tr>\n",
              "    <tr>\n",
              "      <th>6</th>\n",
              "      <td>interior_toyota_camry_2007</td>\n",
              "      <td>...</td>\n",
              "      <td>2</td>\n",
              "    </tr>\n",
              "    <tr>\n",
              "      <th>21</th>\n",
              "      <td>transmission_toyota_camry_2007</td>\n",
              "      <td>...</td>\n",
              "      <td>2</td>\n",
              "    </tr>\n",
              "    <tr>\n",
              "      <th>1</th>\n",
              "      <td>mileage_honda_accord_2008</td>\n",
              "      <td>...</td>\n",
              "      <td>2</td>\n",
              "    </tr>\n",
              "    <tr>\n",
              "      <th>48</th>\n",
              "      <td>gas_mileage_toyota_camry_2007</td>\n",
              "      <td>...</td>\n",
              "      <td>2</td>\n",
              "    </tr>\n",
              "  </tbody>\n",
              "</table>\n",
              "</div>\n",
              "      <button class=\"colab-df-convert\" onclick=\"convertToInteractive('df-15454ab9-936c-4bb5-bee7-08408bb25af8')\"\n",
              "              title=\"Convert this dataframe to an interactive table.\"\n",
              "              style=\"display:none;\">\n",
              "        \n",
              "  <svg xmlns=\"http://www.w3.org/2000/svg\" height=\"24px\"viewBox=\"0 0 24 24\"\n",
              "       width=\"24px\">\n",
              "    <path d=\"M0 0h24v24H0V0z\" fill=\"none\"/>\n",
              "    <path d=\"M18.56 5.44l.94 2.06.94-2.06 2.06-.94-2.06-.94-.94-2.06-.94 2.06-2.06.94zm-11 1L8.5 8.5l.94-2.06 2.06-.94-2.06-.94L8.5 2.5l-.94 2.06-2.06.94zm10 10l.94 2.06.94-2.06 2.06-.94-2.06-.94-.94-2.06-.94 2.06-2.06.94z\"/><path d=\"M17.41 7.96l-1.37-1.37c-.4-.4-.92-.59-1.43-.59-.52 0-1.04.2-1.43.59L10.3 9.45l-7.72 7.72c-.78.78-.78 2.05 0 2.83L4 21.41c.39.39.9.59 1.41.59.51 0 1.02-.2 1.41-.59l7.78-7.78 2.81-2.81c.8-.78.8-2.07 0-2.86zM5.41 20L4 18.59l7.72-7.72 1.47 1.35L5.41 20z\"/>\n",
              "  </svg>\n",
              "      </button>\n",
              "      \n",
              "  <style>\n",
              "    .colab-df-container {\n",
              "      display:flex;\n",
              "      flex-wrap:wrap;\n",
              "      gap: 12px;\n",
              "    }\n",
              "\n",
              "    .colab-df-convert {\n",
              "      background-color: #E8F0FE;\n",
              "      border: none;\n",
              "      border-radius: 50%;\n",
              "      cursor: pointer;\n",
              "      display: none;\n",
              "      fill: #1967D2;\n",
              "      height: 32px;\n",
              "      padding: 0 0 0 0;\n",
              "      width: 32px;\n",
              "    }\n",
              "\n",
              "    .colab-df-convert:hover {\n",
              "      background-color: #E2EBFA;\n",
              "      box-shadow: 0px 1px 2px rgba(60, 64, 67, 0.3), 0px 1px 3px 1px rgba(60, 64, 67, 0.15);\n",
              "      fill: #174EA6;\n",
              "    }\n",
              "\n",
              "    [theme=dark] .colab-df-convert {\n",
              "      background-color: #3B4455;\n",
              "      fill: #D2E3FC;\n",
              "    }\n",
              "\n",
              "    [theme=dark] .colab-df-convert:hover {\n",
              "      background-color: #434B5C;\n",
              "      box-shadow: 0px 1px 3px 1px rgba(0, 0, 0, 0.15);\n",
              "      filter: drop-shadow(0px 1px 2px rgba(0, 0, 0, 0.3));\n",
              "      fill: #FFFFFF;\n",
              "    }\n",
              "  </style>\n",
              "\n",
              "      <script>\n",
              "        const buttonEl =\n",
              "          document.querySelector('#df-15454ab9-936c-4bb5-bee7-08408bb25af8 button.colab-df-convert');\n",
              "        buttonEl.style.display =\n",
              "          google.colab.kernel.accessAllowed ? 'block' : 'none';\n",
              "\n",
              "        async function convertToInteractive(key) {\n",
              "          const element = document.querySelector('#df-15454ab9-936c-4bb5-bee7-08408bb25af8');\n",
              "          const dataTable =\n",
              "            await google.colab.kernel.invokeFunction('convertToInteractive',\n",
              "                                                     [key], {});\n",
              "          if (!dataTable) return;\n",
              "\n",
              "          const docLinkHtml = 'Like what you see? Visit the ' +\n",
              "            '<a target=\"_blank\" href=https://colab.research.google.com/notebooks/data_table.ipynb>data table notebook</a>'\n",
              "            + ' to learn more about interactive tables.';\n",
              "          element.innerHTML = '';\n",
              "          dataTable['output_type'] = 'display_data';\n",
              "          await google.colab.output.renderOutput(dataTable, element);\n",
              "          const docLink = document.createElement('div');\n",
              "          docLink.innerHTML = docLinkHtml;\n",
              "          element.appendChild(docLink);\n",
              "        }\n",
              "      </script>\n",
              "    </div>\n",
              "  </div>\n",
              "  "
            ]
          },
          "metadata": {},
          "execution_count": 17
        }
      ]
    },
    {
      "cell_type": "markdown",
      "source": [
        "* Cluster #0 : 호텔 리뷰\n",
        "* Cluster #1 : 포터블 전자기기 리뷰\n",
        "* Cluster #2 : 자동차 리뷰"
      ],
      "metadata": {
        "id": "9TK3rsK1KlD0"
      }
    },
    {
      "cell_type": "markdown",
      "source": [
        "#### 군집별 핵심 단어 추출하기"
      ],
      "metadata": {
        "id": "HRTzQzoe3yGj"
      }
    },
    {
      "cell_type": "markdown",
      "source": [
        "* `Kmeans.cluster_centers_` : 각 군집을 구성하는 단어 피처가 군집의 중심을 기준으로 얼마나 가깝게 위치해 있는지 배열 값(넘파이 ndarray)으로 제공\n",
        "  - 행 : 개별 군집\n",
        "  - 열 : 개별 피처\n",
        "  - 값 : 개별 군집 내의 상대 위치를 숫자 값으로 표현한 일종의 좌표 값"
      ],
      "metadata": {
        "id": "Sl4bRqBXL8_0"
      }
    },
    {
      "cell_type": "markdown",
      "source": [
        "군집 3개로 생성한 KMeans 객체의 cluster_centers_ 속성값 확인"
      ],
      "metadata": {
        "id": "w2k1OpL1MY5b"
      }
    },
    {
      "cell_type": "code",
      "source": [
        "cluster_centers = km_cluster.cluster_centers_\n",
        "print('cluster_centers shape :', cluster_centers.shape)\n",
        "print(cluster_centers)"
      ],
      "metadata": {
        "colab": {
          "base_uri": "https://localhost:8080/"
        },
        "id": "nv0gglhC31UO",
        "outputId": "508beffb-d844-42f7-9e85-a42e446eb8b2"
      },
      "execution_count": 18,
      "outputs": [
        {
          "output_type": "stream",
          "name": "stdout",
          "text": [
            "cluster_centers shape : (3, 4611)\n",
            "[[0.         0.00099499 0.00174637 ... 0.         0.00183397 0.00144581]\n",
            " [0.01005322 0.         0.         ... 0.00706287 0.         0.        ]\n",
            " [0.         0.00092551 0.         ... 0.         0.         0.        ]]\n"
          ]
        }
      ]
    },
    {
      "cell_type": "markdown",
      "source": [
        "* cluster_centers_ : (3, 4611) 배열\n",
        "  - 군집 3개\n",
        "  - word 피처 4611개\n",
        "  - 각 행 배열 값은 각 군집 내 4611개 피처 위치가 개별 중심과 얼마나 가까운가를 상대 값으로 표현\n",
        "    - 0에서 1까지의 값 -> 1에 가까울수록 중심과 가까운 값"
      ],
      "metadata": {
        "id": "DXafr5_FMmJY"
      }
    },
    {
      "cell_type": "markdown",
      "source": [
        "각 군집별 핵심 단어 확인"
      ],
      "metadata": {
        "id": "ARLLHE6cNZPl"
      }
    },
    {
      "cell_type": "code",
      "source": [
        "# 군집별 top n 핵심 단어, 그 단어의 중심 위치 상댓값, 대상 파일명을 반환함\n",
        "def get_cluster_details(cluster_model, cluster_data, feature_names, clusters_num, top_n_features=10):\n",
        "    cluster_details = {}\n",
        "    \n",
        "    # cluster_centers array의 값이 큰 순으로 정렬된 인덱스 값을 반환\n",
        "    # 군집 중심점(centroid)별 할당된 word 피처들의 거리값이 큰 순으로 값을 구하기 위함  \n",
        "    centroid_feature_ordered_ind = cluster_model.cluster_centers_.argsort()[:, ::-1]\n",
        "    \n",
        "    # 개별 군집별로 반복하면서 핵심 단어, 그 단어의 중심 위치 상댓값, 대상 파일명 입력\n",
        "    for cluster_num in range(clusters_num):\n",
        "        # 개별 군집별 정보를 담을 데이터 초기화 \n",
        "        cluster_details[cluster_num] = {}\n",
        "        cluster_details[cluster_num]['cluster'] = cluster_num\n",
        "        \n",
        "        # cluster_centers_.argsort()[:, ::-1] 로 구한 인덱스를 이용해 top n 피처 단어를 구함\n",
        "        top_feature_indexes = centroid_feature_ordered_ind[cluster_num, :top_n_features]\n",
        "        top_features = [ feature_names[ind] for ind in top_feature_indexes ]\n",
        "        \n",
        "        # top_feature_indexes를 이용해 해당 피처 단어의 중심 위치 상댓값 구함 \n",
        "        top_feature_values = cluster_model.cluster_centers_[cluster_num, top_feature_indexes].tolist()\n",
        "        \n",
        "        # cluster_details 딕셔너리 객체에 개별 군집별 핵심단어와 중심위치 상댓값, 그리고 해당 파일명 입력\n",
        "        cluster_details[cluster_num]['top_features'] = top_features\n",
        "        cluster_details[cluster_num]['top_features_value'] = top_feature_values\n",
        "        filenames = cluster_data[cluster_data['cluster_label'] == cluster_num]['filename']\n",
        "        filenames = filenames.values.tolist()\n",
        "        \n",
        "        cluster_details[cluster_num]['filenames'] = filenames\n",
        "        \n",
        "    return cluster_details"
      ],
      "metadata": {
        "id": "o6cqUuPB35yJ"
      },
      "execution_count": 19,
      "outputs": []
    },
    {
      "cell_type": "markdown",
      "source": [
        "* cluster_details : 딕셔너리를 원소로 가지는 리스트 - 개별 군집번호, 핵심 단어, 핵심단어 중심 위치 상댓값, 파일명 속성 값 정보 포함"
      ],
      "metadata": {
        "id": "w9QLMquqOZvp"
      }
    },
    {
      "cell_type": "code",
      "source": [
        "def print_cluster_details(cluster_details):\n",
        "    for cluster_num, cluster_detail in cluster_details.items():\n",
        "        print('####### Cluster {0}'.format(cluster_num))\n",
        "        print('Top features:', cluster_detail['top_features'])\n",
        "        print('Reviews 파일명 :',cluster_detail['filenames'][:7])\n",
        "        print('==================================================')"
      ],
      "metadata": {
        "id": "-PC8uRWp40nt"
      },
      "execution_count": 20,
      "outputs": []
    },
    {
      "cell_type": "code",
      "source": [
        "feature_names = tfidf_vect.get_feature_names() # 피처명 리스트 추출\n",
        "\n",
        "cluster_details = get_cluster_details(cluster_model=km_cluster, cluster_data=document_df,\n",
        "                                      feature_names=feature_names, clusters_num=3, top_n_features=10 )\n",
        "print_cluster_details(cluster_details)"
      ],
      "metadata": {
        "colab": {
          "base_uri": "https://localhost:8080/"
        },
        "id": "bYw3cYyb46TC",
        "outputId": "a7ba8bd8-f42e-4a6f-8b71-37ca5144b012"
      },
      "execution_count": 21,
      "outputs": [
        {
          "output_type": "stream",
          "name": "stdout",
          "text": [
            "####### Cluster 0\n",
            "Top features: ['room', 'hotel', 'service', 'staff', 'food', 'location', 'bathroom', 'clean', 'price', 'parking']\n",
            "Reviews 파일명 : ['location_holiday_inn_london', 'location_bestwestern_hotel_sfo', 'food_holiday_inn_london', 'bathroom_bestwestern_hotel_sfo', 'staff_swissotel_chicago', 'staff_bestwestern_hotel_sfo', 'service_swissotel_hotel_chicago']\n",
            "==================================================\n",
            "####### Cluster 1\n",
            "Top features: ['screen', 'battery', 'keyboard', 'battery life', 'life', 'kindle', 'direction', 'video', 'size', 'voice']\n",
            "Reviews 파일명 : ['navigation_amazon_kindle', 'keyboard_netbook_1005ha', 'features_windows7', 'eyesight-issues_amazon_kindle', 'display_garmin_nuvi_255W_gps', 'directions_garmin_nuvi_255W_gps', 'buttons_amazon_kindle']\n",
            "==================================================\n",
            "####### Cluster 2\n",
            "Top features: ['interior', 'seat', 'mileage', 'comfortable', 'gas', 'gas mileage', 'transmission', 'car', 'performance', 'quality']\n",
            "Reviews 파일명 : ['mileage_honda_accord_2008', 'interior_toyota_camry_2007', 'comfort_toyota_camry_2007', 'comfort_honda_accord_2008', 'transmission_toyota_camry_2007', 'seats_honda_accord_2008', 'quality_toyota_camry_2007']\n",
            "==================================================\n"
          ]
        },
        {
          "output_type": "stream",
          "name": "stderr",
          "text": [
            "/usr/local/lib/python3.7/dist-packages/sklearn/utils/deprecation.py:87: FutureWarning: Function get_feature_names is deprecated; get_feature_names is deprecated in 1.0 and will be removed in 1.2. Please use get_feature_names_out instead.\n",
            "  warnings.warn(msg, category=FutureWarning)\n"
          ]
        }
      ]
    },
    {
      "cell_type": "markdown",
      "source": [
        "* Cluster #0(호텔 리뷰 군집) : 방과 서비스 등\n",
        "* Cluster #1(포터블 전자제품 리뷰 군집) : 화면과 배터리 수명 등\n",
        "* Cluster #2(자동차 리뷰 군집) : 실내 인테리어, 좌석, 연료 효율 등"
      ],
      "metadata": {
        "id": "IsfPh5SMPlpO"
      }
    },
    {
      "cell_type": "markdown",
      "source": [
        "### 10 텍스트 분석 실습 - 캐글 Mercari Price Suggestion Challenge\n",
        "* 일본의 대형 온라인 쇼핑몰 Mercari사의 제품에 대해 가격 예측하는 과제\n",
        "  - item_description과 같은 텍스트 형태의 비정형 데이터와 다른 정형 속성을 같이 적용해 회귀 수행\n",
        "* 데이터 세트의 속성\n",
        "  - train_id : 데이터 id\n",
        "  - name : 제품명\n",
        "  - item_condition_id : 판매자가 제공하는 제품 상태\n",
        "  - category_name : 카테고리 명\n",
        "  - brand_name : 브랜드 이름\n",
        "  - price : 제품 가격, 예측을 위한 타깃 속성\n",
        "  - shipping : 배송비 무료 여부. 1이면 무료(판매자가 지불), 0이면 유료(구매자 지불)\n",
        "  - item_description : 제품에 대한 설명"
      ],
      "metadata": {
        "id": "mZf9duS85EXB"
      }
    },
    {
      "cell_type": "markdown",
      "source": [
        "#### 데이터 전처리"
      ],
      "metadata": {
        "id": "GKOvtt0H5crp"
      }
    },
    {
      "cell_type": "markdown",
      "source": [
        "필요한 라이브러리와 데이터 로딩"
      ],
      "metadata": {
        "id": "w2m3TJ49SGz7"
      }
    },
    {
      "cell_type": "code",
      "source": [
        "from sklearn.linear_model import Ridge, LogisticRegression\n",
        "from sklearn.model_selection import train_test_split, cross_val_score\n",
        "from sklearn.feature_extraction.text import CountVectorizer, TfidfVectorizer\n",
        "import pandas as pd\n",
        "\n",
        "mercari_df= pd.read_csv('/content/drive/MyDrive/ESAA/2022-1/과제/실습 필사/0509(월) 10주차 과제/mercari_train.tsv', sep='\\t')\n",
        "print(mercari_df.shape)\n",
        "mercari_df.head(3)"
      ],
      "metadata": {
        "colab": {
          "base_uri": "https://localhost:8080/",
          "height": 382
        },
        "id": "w-VH8dR_5aIj",
        "outputId": "730976b9-ced4-43bf-c776-cd72022f2a5a"
      },
      "execution_count": 2,
      "outputs": [
        {
          "output_type": "stream",
          "name": "stdout",
          "text": [
            "(1482535, 8)\n"
          ]
        },
        {
          "output_type": "execute_result",
          "data": {
            "text/plain": [
              "   train_id                                 name  item_condition_id  \\\n",
              "0         0  MLB Cincinnati Reds T Shirt Size XL                  3   \n",
              "1         1     Razer BlackWidow Chroma Keyboard                  3   \n",
              "2         2                       AVA-VIV Blouse                  1   \n",
              "\n",
              "                                       category_name brand_name  price  \\\n",
              "0                                  Men/Tops/T-shirts        NaN   10.0   \n",
              "1  Electronics/Computers & Tablets/Components & P...      Razer   52.0   \n",
              "2                        Women/Tops & Blouses/Blouse     Target   10.0   \n",
              "\n",
              "   shipping                                   item_description  \n",
              "0         1                                 No description yet  \n",
              "1         0  This keyboard is in great condition and works ...  \n",
              "2         1  Adorable top with a hint of lace and a key hol...  "
            ],
            "text/html": [
              "\n",
              "  <div id=\"df-e97a8048-26b8-4eb9-8e1c-1f434da5389f\">\n",
              "    <div class=\"colab-df-container\">\n",
              "      <div>\n",
              "<style scoped>\n",
              "    .dataframe tbody tr th:only-of-type {\n",
              "        vertical-align: middle;\n",
              "    }\n",
              "\n",
              "    .dataframe tbody tr th {\n",
              "        vertical-align: top;\n",
              "    }\n",
              "\n",
              "    .dataframe thead th {\n",
              "        text-align: right;\n",
              "    }\n",
              "</style>\n",
              "<table border=\"1\" class=\"dataframe\">\n",
              "  <thead>\n",
              "    <tr style=\"text-align: right;\">\n",
              "      <th></th>\n",
              "      <th>train_id</th>\n",
              "      <th>name</th>\n",
              "      <th>item_condition_id</th>\n",
              "      <th>category_name</th>\n",
              "      <th>brand_name</th>\n",
              "      <th>price</th>\n",
              "      <th>shipping</th>\n",
              "      <th>item_description</th>\n",
              "    </tr>\n",
              "  </thead>\n",
              "  <tbody>\n",
              "    <tr>\n",
              "      <th>0</th>\n",
              "      <td>0</td>\n",
              "      <td>MLB Cincinnati Reds T Shirt Size XL</td>\n",
              "      <td>3</td>\n",
              "      <td>Men/Tops/T-shirts</td>\n",
              "      <td>NaN</td>\n",
              "      <td>10.0</td>\n",
              "      <td>1</td>\n",
              "      <td>No description yet</td>\n",
              "    </tr>\n",
              "    <tr>\n",
              "      <th>1</th>\n",
              "      <td>1</td>\n",
              "      <td>Razer BlackWidow Chroma Keyboard</td>\n",
              "      <td>3</td>\n",
              "      <td>Electronics/Computers &amp; Tablets/Components &amp; P...</td>\n",
              "      <td>Razer</td>\n",
              "      <td>52.0</td>\n",
              "      <td>0</td>\n",
              "      <td>This keyboard is in great condition and works ...</td>\n",
              "    </tr>\n",
              "    <tr>\n",
              "      <th>2</th>\n",
              "      <td>2</td>\n",
              "      <td>AVA-VIV Blouse</td>\n",
              "      <td>1</td>\n",
              "      <td>Women/Tops &amp; Blouses/Blouse</td>\n",
              "      <td>Target</td>\n",
              "      <td>10.0</td>\n",
              "      <td>1</td>\n",
              "      <td>Adorable top with a hint of lace and a key hol...</td>\n",
              "    </tr>\n",
              "  </tbody>\n",
              "</table>\n",
              "</div>\n",
              "      <button class=\"colab-df-convert\" onclick=\"convertToInteractive('df-e97a8048-26b8-4eb9-8e1c-1f434da5389f')\"\n",
              "              title=\"Convert this dataframe to an interactive table.\"\n",
              "              style=\"display:none;\">\n",
              "        \n",
              "  <svg xmlns=\"http://www.w3.org/2000/svg\" height=\"24px\"viewBox=\"0 0 24 24\"\n",
              "       width=\"24px\">\n",
              "    <path d=\"M0 0h24v24H0V0z\" fill=\"none\"/>\n",
              "    <path d=\"M18.56 5.44l.94 2.06.94-2.06 2.06-.94-2.06-.94-.94-2.06-.94 2.06-2.06.94zm-11 1L8.5 8.5l.94-2.06 2.06-.94-2.06-.94L8.5 2.5l-.94 2.06-2.06.94zm10 10l.94 2.06.94-2.06 2.06-.94-2.06-.94-.94-2.06-.94 2.06-2.06.94z\"/><path d=\"M17.41 7.96l-1.37-1.37c-.4-.4-.92-.59-1.43-.59-.52 0-1.04.2-1.43.59L10.3 9.45l-7.72 7.72c-.78.78-.78 2.05 0 2.83L4 21.41c.39.39.9.59 1.41.59.51 0 1.02-.2 1.41-.59l7.78-7.78 2.81-2.81c.8-.78.8-2.07 0-2.86zM5.41 20L4 18.59l7.72-7.72 1.47 1.35L5.41 20z\"/>\n",
              "  </svg>\n",
              "      </button>\n",
              "      \n",
              "  <style>\n",
              "    .colab-df-container {\n",
              "      display:flex;\n",
              "      flex-wrap:wrap;\n",
              "      gap: 12px;\n",
              "    }\n",
              "\n",
              "    .colab-df-convert {\n",
              "      background-color: #E8F0FE;\n",
              "      border: none;\n",
              "      border-radius: 50%;\n",
              "      cursor: pointer;\n",
              "      display: none;\n",
              "      fill: #1967D2;\n",
              "      height: 32px;\n",
              "      padding: 0 0 0 0;\n",
              "      width: 32px;\n",
              "    }\n",
              "\n",
              "    .colab-df-convert:hover {\n",
              "      background-color: #E2EBFA;\n",
              "      box-shadow: 0px 1px 2px rgba(60, 64, 67, 0.3), 0px 1px 3px 1px rgba(60, 64, 67, 0.15);\n",
              "      fill: #174EA6;\n",
              "    }\n",
              "\n",
              "    [theme=dark] .colab-df-convert {\n",
              "      background-color: #3B4455;\n",
              "      fill: #D2E3FC;\n",
              "    }\n",
              "\n",
              "    [theme=dark] .colab-df-convert:hover {\n",
              "      background-color: #434B5C;\n",
              "      box-shadow: 0px 1px 3px 1px rgba(0, 0, 0, 0.15);\n",
              "      filter: drop-shadow(0px 1px 2px rgba(0, 0, 0, 0.3));\n",
              "      fill: #FFFFFF;\n",
              "    }\n",
              "  </style>\n",
              "\n",
              "      <script>\n",
              "        const buttonEl =\n",
              "          document.querySelector('#df-e97a8048-26b8-4eb9-8e1c-1f434da5389f button.colab-df-convert');\n",
              "        buttonEl.style.display =\n",
              "          google.colab.kernel.accessAllowed ? 'block' : 'none';\n",
              "\n",
              "        async function convertToInteractive(key) {\n",
              "          const element = document.querySelector('#df-e97a8048-26b8-4eb9-8e1c-1f434da5389f');\n",
              "          const dataTable =\n",
              "            await google.colab.kernel.invokeFunction('convertToInteractive',\n",
              "                                                     [key], {});\n",
              "          if (!dataTable) return;\n",
              "\n",
              "          const docLinkHtml = 'Like what you see? Visit the ' +\n",
              "            '<a target=\"_blank\" href=https://colab.research.google.com/notebooks/data_table.ipynb>data table notebook</a>'\n",
              "            + ' to learn more about interactive tables.';\n",
              "          element.innerHTML = '';\n",
              "          dataTable['output_type'] = 'display_data';\n",
              "          await google.colab.output.renderOutput(dataTable, element);\n",
              "          const docLink = document.createElement('div');\n",
              "          docLink.innerHTML = docLinkHtml;\n",
              "          element.appendChild(docLink);\n",
              "        }\n",
              "      </script>\n",
              "    </div>\n",
              "  </div>\n",
              "  "
            ]
          },
          "metadata": {},
          "execution_count": 2
        }
      ]
    },
    {
      "cell_type": "markdown",
      "source": [
        "피처 타입과 Null 여부 확인"
      ],
      "metadata": {
        "id": "rdwrjqIFSN9V"
      }
    },
    {
      "cell_type": "code",
      "source": [
        "print(mercari_df.info())"
      ],
      "metadata": {
        "colab": {
          "base_uri": "https://localhost:8080/"
        },
        "id": "vcHJQOAr6SjV",
        "outputId": "bba13003-1b13-4c10-da96-1f95ac52353e"
      },
      "execution_count": 3,
      "outputs": [
        {
          "output_type": "stream",
          "name": "stdout",
          "text": [
            "<class 'pandas.core.frame.DataFrame'>\n",
            "RangeIndex: 1482535 entries, 0 to 1482534\n",
            "Data columns (total 8 columns):\n",
            " #   Column             Non-Null Count    Dtype  \n",
            "---  ------             --------------    -----  \n",
            " 0   train_id           1482535 non-null  int64  \n",
            " 1   name               1482535 non-null  object \n",
            " 2   item_condition_id  1482535 non-null  int64  \n",
            " 3   category_name      1476208 non-null  object \n",
            " 4   brand_name         849853 non-null   object \n",
            " 5   price              1482535 non-null  float64\n",
            " 6   shipping           1482535 non-null  int64  \n",
            " 7   item_description   1482531 non-null  object \n",
            "dtypes: float64(1), int64(3), object(4)\n",
            "memory usage: 90.5+ MB\n",
            "None\n"
          ]
        }
      ]
    },
    {
      "cell_type": "markdown",
      "source": [
        "* brand_name : 매우 많은 Null 값 가짐\n",
        "* category_name : 약 6300건의 Null 값\n",
        "* item_description : 4건의 Null 값"
      ],
      "metadata": {
        "id": "fiKl4GkISSji"
      }
    },
    {
      "cell_type": "markdown",
      "source": [
        "price 칼럼의 데이터 분포도 확인"
      ],
      "metadata": {
        "id": "qE98EIqvSu9d"
      }
    },
    {
      "cell_type": "code",
      "source": [
        "import matplotlib.pyplot as plt\n",
        "import seaborn as sns\n",
        "%matplotlib inline\n",
        "\n",
        "y_train_df = mercari_df['price']\n",
        "plt.figure(figsize=(6, 4))\n",
        "sns.distplot(y_train_df, kde=False)"
      ],
      "metadata": {
        "colab": {
          "base_uri": "https://localhost:8080/",
          "height": 365
        },
        "id": "qI6J19Di6bQ1",
        "outputId": "ad9834bd-1e6c-4f33-9b15-ddf38b1b31ba"
      },
      "execution_count": 4,
      "outputs": [
        {
          "output_type": "stream",
          "name": "stderr",
          "text": [
            "/usr/local/lib/python3.7/dist-packages/seaborn/distributions.py:2619: FutureWarning: `distplot` is a deprecated function and will be removed in a future version. Please adapt your code to use either `displot` (a figure-level function with similar flexibility) or `histplot` (an axes-level function for histograms).\n",
            "  warnings.warn(msg, FutureWarning)\n"
          ]
        },
        {
          "output_type": "execute_result",
          "data": {
            "text/plain": [
              "<matplotlib.axes._subplots.AxesSubplot at 0x7f217dddc710>"
            ]
          },
          "metadata": {},
          "execution_count": 4
        },
        {
          "output_type": "display_data",
          "data": {
            "text/plain": [
              "<Figure size 432x288 with 1 Axes>"
            ],
            "image/png": "[encoded data removed]"
          },
          "metadata": {
            "needs_background": "light"
          }
        }
      ]
    },
    {
      "cell_type": "markdown",
      "source": [
        "* 비교적 적은 가격을 가진 데이터 값에 왜곡돼 분포\n",
        "\n",
        "  -> 로그 값으로 변환"
      ],
      "metadata": {
        "id": "k20U7x4DS8W4"
      }
    },
    {
      "cell_type": "code",
      "source": [
        "import numpy as np\n",
        "\n",
        "y_train_df = np.log1p(y_train_df)\n",
        "sns.distplot(y_train_df, kde=False)"
      ],
      "metadata": {
        "colab": {
          "base_uri": "https://localhost:8080/",
          "height": 354
        },
        "id": "7e1Gp0DD6gBd",
        "outputId": "0a8a1580-adbe-4265-f8f4-56851bae6bbf"
      },
      "execution_count": 5,
      "outputs": [
        {
          "output_type": "stream",
          "name": "stderr",
          "text": [
            "/usr/local/lib/python3.7/dist-packages/seaborn/distributions.py:2619: FutureWarning: `distplot` is a deprecated function and will be removed in a future version. Please adapt your code to use either `displot` (a figure-level function with similar flexibility) or `histplot` (an axes-level function for histograms).\n",
            "  warnings.warn(msg, FutureWarning)\n"
          ]
        },
        {
          "output_type": "execute_result",
          "data": {
            "text/plain": [
              "<matplotlib.axes._subplots.AxesSubplot at 0x7f217dc07990>"
            ]
          },
          "metadata": {},
          "execution_count": 5
        },
        {
          "output_type": "display_data",
          "data": {
            "text/plain": [
              "<Figure size 432x288 with 1 Axes>"
            ],
            "image/png": "[encoded data removed]"
          },
          "metadata": {
            "needs_background": "light"
          }
        }
      ]
    },
    {
      "cell_type": "markdown",
      "source": [
        "* 비교적 정규 분포에 가까운 데이터"
      ],
      "metadata": {
        "id": "O7ZkV6iPTJOM"
      }
    },
    {
      "cell_type": "markdown",
      "source": [
        "price 칼럼을 로그 변환된 값으로 변경"
      ],
      "metadata": {
        "id": "woMBBvh2TRgk"
      }
    },
    {
      "cell_type": "code",
      "source": [
        "mercari_df['price'] = np.log1p(mercari_df['price'])\n",
        "mercari_df['price'].head(3)"
      ],
      "metadata": {
        "colab": {
          "base_uri": "https://localhost:8080/"
        },
        "id": "JPtzUWcb6kBA",
        "outputId": "2235f905-b339-4c09-a429-717a9c8ef797"
      },
      "execution_count": 6,
      "outputs": [
        {
          "output_type": "execute_result",
          "data": {
            "text/plain": [
              "0    2.397895\n",
              "1    3.970292\n",
              "2    2.397895\n",
              "Name: price, dtype: float64"
            ]
          },
          "metadata": {},
          "execution_count": 6
        }
      ]
    },
    {
      "cell_type": "markdown",
      "source": [
        "shipping, item_condition_id 값 유형 확인"
      ],
      "metadata": {
        "id": "OkCCS8UkTovL"
      }
    },
    {
      "cell_type": "code",
      "source": [
        "print('Shipping 값 유형:\\n', mercari_df['shipping'].value_counts())\n",
        "print('item_condition_id 값 유형:\\n', mercari_df['item_condition_id'].value_counts())"
      ],
      "metadata": {
        "colab": {
          "base_uri": "https://localhost:8080/"
        },
        "id": "eUH9lihZ6lPF",
        "outputId": "a1768c34-7f40-4cdb-b840-28f5e0009a10"
      },
      "execution_count": 7,
      "outputs": [
        {
          "output_type": "stream",
          "name": "stdout",
          "text": [
            "Shipping 값 유형:\n",
            " 0    819435\n",
            "1    663100\n",
            "Name: shipping, dtype: int64\n",
            "item_condition_id 값 유형:\n",
            " 1    640549\n",
            "3    432161\n",
            "2    375479\n",
            "4     31962\n",
            "5      2384\n",
            "Name: item_condition_id, dtype: int64\n"
          ]
        }
      ]
    },
    {
      "cell_type": "markdown",
      "source": [
        "* shipping : 값이 비교적 균일\n",
        "* item_condition_id : 1, 2, 3 값이 주를 이룸"
      ],
      "metadata": {
        "id": "fcAVwI1qT4Ax"
      }
    },
    {
      "cell_type": "markdown",
      "source": [
        "item_description 칼럼 값 확인"
      ],
      "metadata": {
        "id": "7elyawL5UMzL"
      }
    },
    {
      "cell_type": "code",
      "source": [
        "boolean_cond = mercari_df['item_description']=='No description yet' # description에 대한 별도 설명이 없는 경우\n",
        "mercari_df[boolean_cond]['item_description'].count()"
      ],
      "metadata": {
        "colab": {
          "base_uri": "https://localhost:8080/"
        },
        "id": "-1GQVvcd6rkT",
        "outputId": "5cad9603-dd62-48e2-fdf6-18a146dc62cf"
      },
      "execution_count": 8,
      "outputs": [
        {
          "output_type": "execute_result",
          "data": {
            "text/plain": [
              "82489"
            ]
          },
          "metadata": {},
          "execution_count": 8
        }
      ]
    },
    {
      "cell_type": "markdown",
      "source": [
        "* 'No description yet' 역시 의미있는 속성값으로 사용 불가\n",
        "  \n",
        "  -> 적절한 값으로 변경 필요"
      ],
      "metadata": {
        "id": "t4Hm7FCVUfFL"
      }
    },
    {
      "cell_type": "markdown",
      "source": [
        "category_name 칼럼을 대, 중, 소분류로 분리"
      ],
      "metadata": {
        "id": "i4lcAHNaUvT2"
      }
    },
    {
      "cell_type": "markdown",
      "source": [
        "* category_name : '/'로 분리된 카테고리를 하나의 문자열로 표현\n",
        "  \n",
        "  -> '/'를 기준으로 단어 토큰화해 각각 별도의 피처로 저장 후 알고리즘 학습"
      ],
      "metadata": {
        "id": "p5DcbqusVCqc"
      }
    },
    {
      "cell_type": "code",
      "source": [
        "# apply lambda에서 호출되는 대, 중, 소 분할 함수 생성, 대, 중, 소 값을 리스트로 반환\n",
        "def split_cat(category_name):\n",
        "    try: # category_name이 Null이 아닌 경우\n",
        "        return category_name.split('/')\n",
        "    except: # category_name이 Null인 경우\n",
        "        return ['Other_Null', 'Other_Null', 'Other_Null']\n",
        "\n",
        "# 위의 split_cat( )을 apply lambda에서 호출해 대, 중, 소 칼럼을 mercari_df에 생성 \n",
        "mercari_df['cat_dae'], mercari_df['cat_jung'], mercari_df['cat_so'] = \\\n",
        "                        zip(*mercari_df['category_name'].apply(lambda x : split_cat(x)))\n",
        "\n",
        "# 대분류만 값의 유형과 건수를 살펴보고, 중분류, 소분류는 값의 유형이 많으므로 분류 개수만 추출\n",
        "print('대분류 유형 :\\n', mercari_df['cat_dae'].value_counts())\n",
        "print('중분류 갯수 :', mercari_df['cat_jung'].nunique())\n",
        "print('소분류 갯수 :', mercari_df['cat_so'].nunique())"
      ],
      "metadata": {
        "colab": {
          "base_uri": "https://localhost:8080/"
        },
        "id": "JSVgOZD86u1F",
        "outputId": "2eb0d4ae-7103-4647-f24c-2e9d04c74231"
      },
      "execution_count": 9,
      "outputs": [
        {
          "output_type": "stream",
          "name": "stdout",
          "text": [
            "대분류 유형 :\n",
            " Women                     664385\n",
            "Beauty                    207828\n",
            "Kids                      171689\n",
            "Electronics               122690\n",
            "Men                        93680\n",
            "Home                       67871\n",
            "Vintage & Collectibles     46530\n",
            "Other                      45351\n",
            "Handmade                   30842\n",
            "Sports & Outdoors          25342\n",
            "Other_Null                  6327\n",
            "Name: cat_dae, dtype: int64\n",
            "중분류 갯수 : 114\n",
            "소분류 갯수 : 871\n"
          ]
        }
      ]
    },
    {
      "cell_type": "markdown",
      "source": [
        "brand_name, category_name, item_description 칼럼의 Null 값 변경"
      ],
      "metadata": {
        "id": "__fwCymFWhNq"
      }
    },
    {
      "cell_type": "code",
      "source": [
        "mercari_df['brand_name'] = mercari_df['brand_name'].fillna(value='Other_Null')\n",
        "mercari_df['category_name'] = mercari_df['category_name'].fillna(value='Other_Null')\n",
        "mercari_df['item_description'] = mercari_df['item_description'].fillna(value='Other_Null')\n",
        "\n",
        "# 각 컬럼별로 Null 값 건수 확인. 모두 0이 나와야 합니다.\n",
        "mercari_df.isnull().sum()"
      ],
      "metadata": {
        "colab": {
          "base_uri": "https://localhost:8080/"
        },
        "id": "r3e2JbXH7BJ-",
        "outputId": "3848e7a1-4345-42d3-c494-b9ea8e1e3d7f"
      },
      "execution_count": 10,
      "outputs": [
        {
          "output_type": "execute_result",
          "data": {
            "text/plain": [
              "train_id             0\n",
              "name                 0\n",
              "item_condition_id    0\n",
              "category_name        0\n",
              "brand_name           0\n",
              "price                0\n",
              "shipping             0\n",
              "item_description     0\n",
              "cat_dae              0\n",
              "cat_jung             0\n",
              "cat_so               0\n",
              "dtype: int64"
            ]
          },
          "metadata": {},
          "execution_count": 10
        }
      ]
    },
    {
      "cell_type": "markdown",
      "source": [
        "#### 피처 인코딩과 피처 벡터화"
      ],
      "metadata": {
        "id": "mgmFYorX7ODX"
      }
    },
    {
      "cell_type": "markdown",
      "source": [
        "* 피처 인코딩 \n",
        "  - 선형 회귀 모델과 회귀 트리 모델 모두 적용할 예정\n",
        "    - 선형 회귀의 경우 원-핫 인코딩이 훨씬 선호 \n",
        "    \n",
        "      -> 인코딩할 피처는 모두 원-핫 인코딩 적용\n",
        "* 피처 벡터화\n",
        "  - 비교적 짧은 텍스트는 Count 기반 벡터화\n",
        "  - 긴 텍스트는 TF-IDF 기반 벡터화"
      ],
      "metadata": {
        "id": "pafoH4d2XKy4"
      }
    },
    {
      "cell_type": "markdown",
      "source": [
        "> brand_name"
      ],
      "metadata": {
        "id": "Nx2Y0qFUX5_Y"
      }
    },
    {
      "cell_type": "code",
      "source": [
        "print('brand name 의 유형 건수 :', mercari_df['brand_name'].nunique())\n",
        "print('brand name sample 5건 : \\n', mercari_df['brand_name'].value_counts()[:5])"
      ],
      "metadata": {
        "colab": {
          "base_uri": "https://localhost:8080/"
        },
        "id": "GTHAZZ8x7RH8",
        "outputId": "1cfcfd48-2e11-418c-ba9b-f934d5536cb8"
      },
      "execution_count": 11,
      "outputs": [
        {
          "output_type": "stream",
          "name": "stdout",
          "text": [
            "brand name 의 유형 건수 : 4810\n",
            "brand name sample 5건 : \n",
            " Other_Null           632682\n",
            "PINK                  54088\n",
            "Nike                  54043\n",
            "Victoria's Secret     48036\n",
            "LuLaRoe               31024\n",
            "Name: brand_name, dtype: int64\n"
          ]
        }
      ]
    },
    {
      "cell_type": "markdown",
      "source": [
        "* 대부분 명료한 문자열\n",
        "  \n",
        "  -> 별도의 피처 벡터화 없이 원-핫 인코딩 변환 적용"
      ],
      "metadata": {
        "id": "kZys9HawYEul"
      }
    },
    {
      "cell_type": "markdown",
      "source": [
        "> name"
      ],
      "metadata": {
        "id": "n2-VB_-ZYMdZ"
      }
    },
    {
      "cell_type": "code",
      "source": [
        "print('name 의 종류 개수 :', mercari_df['name'].nunique())\n",
        "print('name sample 7건 : \\n', mercari_df['name'][:7])"
      ],
      "metadata": {
        "colab": {
          "base_uri": "https://localhost:8080/"
        },
        "id": "6eOPpPmN7WZ2",
        "outputId": "ec6b0765-93f6-4386-c5e1-d6e70fca6057"
      },
      "execution_count": 12,
      "outputs": [
        {
          "output_type": "stream",
          "name": "stdout",
          "text": [
            "name 의 종류 개수 : 1225273\n",
            "name sample 7건 : \n",
            " 0    MLB Cincinnati Reds T Shirt Size XL\n",
            "1       Razer BlackWidow Chroma Keyboard\n",
            "2                         AVA-VIV Blouse\n",
            "3                  Leather Horse Statues\n",
            "4                   24K GOLD plated rose\n",
            "5       Bundled items requested for Ruie\n",
            "6     Acacia pacific tides santorini top\n",
            "Name: name, dtype: object\n"
          ]
        }
      ]
    },
    {
      "cell_type": "markdown",
      "source": [
        "* 개별적으로 거의 고유한 상품명\n",
        "* 유형이 매우 많고, 적은 단어 위주의 텍스트 형태\n",
        "  \n",
        "  -> Count 기반 피처 벡터화 변환 적용 \n"
      ],
      "metadata": {
        "id": "mcXHsD0VYYBP"
      }
    },
    {
      "cell_type": "markdown",
      "source": [
        "> category_name"
      ],
      "metadata": {
        "id": "3HJSLYQaY0Lc"
      }
    },
    {
      "cell_type": "markdown",
      "source": [
        "* cat_dae, cat_jung, cat_so 모두 원-핫 인코딩 변환 적용"
      ],
      "metadata": {
        "id": "N7RABXAwY5GW"
      }
    },
    {
      "cell_type": "markdown",
      "source": [
        "> shipping"
      ],
      "metadata": {
        "id": "ryIKI1g5ZCNS"
      }
    },
    {
      "cell_type": "markdown",
      "source": [
        "* 0, 1 두 가지 유형\n",
        "  \n",
        "  -> 원-핫 인코딩 적용"
      ],
      "metadata": {
        "id": "fYBUNDrbZHPJ"
      }
    },
    {
      "cell_type": "markdown",
      "source": [
        "> item_condition_id"
      ],
      "metadata": {
        "id": "Z5sGgtsDZR0J"
      }
    },
    {
      "cell_type": "markdown",
      "source": [
        "* 1, 2, 3, 4, 5  다섯 가지 유형\n",
        "\n",
        "  -> 원-핫 인코딩 적용"
      ],
      "metadata": {
        "id": "apSpdnFIZUnm"
      }
    },
    {
      "cell_type": "markdown",
      "source": [
        "> item_description"
      ],
      "metadata": {
        "id": "KthY_spJZbn9"
      }
    },
    {
      "cell_type": "code",
      "source": [
        "pd.set_option('max_colwidth', 200)\n",
        "\n",
        "# item_description의 평균 문자열 크기\n",
        "print('item_description 평균 문자열 크기:',mercari_df['item_description'].str.len().mean())\n",
        "\n",
        "mercari_df['item_description'][:2]"
      ],
      "metadata": {
        "colab": {
          "base_uri": "https://localhost:8080/"
        },
        "id": "jfhtNrXC7cpa",
        "outputId": "aa310da2-ef98-4e01-9520-ddc4b2d69183"
      },
      "execution_count": 13,
      "outputs": [
        {
          "output_type": "stream",
          "name": "stdout",
          "text": [
            "item_description 평균 문자열 크기: 145.7113889385411\n"
          ]
        },
        {
          "output_type": "execute_result",
          "data": {
            "text/plain": [
              "0                                                                                                                                                                              No description yet\n",
              "1    This keyboard is in great condition and works like it came out of the box. All of the ports are tested and work perfectly. The lights are customizable via the Razer Synapse app on your PC.\n",
              "Name: item_description, dtype: object"
            ]
          },
          "metadata": {},
          "execution_count": 13
        }
      ]
    },
    {
      "cell_type": "markdown",
      "source": [
        "* 데이터 세트에서 가장 긴 텍스트\n",
        "  \n",
        "  -> TF-IDF 벡터화 변환 적용"
      ],
      "metadata": {
        "id": "YnKiX1J0ZhDY"
      }
    },
    {
      "cell_type": "markdown",
      "source": [
        "주요 칼럼 인코딩 및 피처 벡터화 변환"
      ],
      "metadata": {
        "id": "awslRM4pZ7eP"
      }
    },
    {
      "cell_type": "code",
      "source": [
        "# name 속성에 대한 피처 벡터화 변환\n",
        "cnt_vec = CountVectorizer()\n",
        "X_name = cnt_vec.fit_transform(mercari_df.name) # 희소 행렬 형태\n",
        "\n",
        "# item_description에 대한 피처 벡터화 변환 \n",
        "tfidf_descp = TfidfVectorizer(max_features = 50000, ngram_range= (1, 3) , stop_words='english')\n",
        "X_descp = tfidf_descp.fit_transform(mercari_df['item_description']) # 희소 행렬 형태\n",
        "\n",
        "print('name vectorization shape:', X_name.shape)\n",
        "print('item_description vectorization shape:', X_descp.shape)"
      ],
      "metadata": {
        "colab": {
          "base_uri": "https://localhost:8080/"
        },
        "id": "9ajVC9rI7nmF",
        "outputId": "4681ad5e-e410-4c78-d995-d8586cbd71f6"
      },
      "execution_count": 14,
      "outputs": [
        {
          "output_type": "stream",
          "name": "stdout",
          "text": [
            "name vectorization shape: (1482535, 105757)\n",
            "item_description vectorization shape: (1482535, 50000)\n"
          ]
        }
      ]
    },
    {
      "cell_type": "markdown",
      "source": [
        "* X_name, X_descp, 나머지 인코딩 될 칼럼 모두 결합해 ML 모델 실행 기반 데이터 세트로 재구성"
      ],
      "metadata": {
        "id": "2gZZ-OkOa7OM"
      }
    },
    {
      "cell_type": "markdown",
      "source": [
        "LabelBinarizer로 원-핫 인코딩 변환"
      ],
      "metadata": {
        "id": "u3UyJrgGaHaS"
      }
    },
    {
      "cell_type": "markdown",
      "source": [
        "* LabelBinarizer : 희소 행렬 형태의 원-핫 인코딩 변환 지원 (`sparse_out=True` 설정)\n",
        "\n",
        "![image.png](data:image/png;base64,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)"
      ],
      "metadata": {
        "id": "B59RE0qvamoz"
      }
    },
    {
      "cell_type": "code",
      "source": [
        "from sklearn.preprocessing import LabelBinarizer\n",
        "\n",
        "# brand_name, item_condition_id, shipping 각 피처들을 희소 행렬 원-핫 인코딩 변환\n",
        "lb_brand_name= LabelBinarizer(sparse_output=True)\n",
        "X_brand = lb_brand_name.fit_transform(mercari_df['brand_name'])\n",
        "lb_item_cond_id = LabelBinarizer(sparse_output=True)\n",
        "X_item_cond_id = lb_item_cond_id.fit_transform(mercari_df['item_condition_id'])\n",
        "lb_shipping= LabelBinarizer(sparse_output=True)\n",
        "X_shipping = lb_shipping.fit_transform(mercari_df['shipping'])\n",
        "\n",
        "# cat_dae, cat_jung, cat_so 각 피처들을 희소 행렬 원-핫 인코딩 변환\n",
        "lb_cat_dae = LabelBinarizer(sparse_output=True)\n",
        "X_cat_dae= lb_cat_dae.fit_transform(mercari_df['cat_dae'])\n",
        "lb_cat_jung = LabelBinarizer(sparse_output=True)\n",
        "X_cat_jung = lb_cat_jung.fit_transform(mercari_df['cat_jung'])\n",
        "lb_cat_so = LabelBinarizer(sparse_output=True)\n",
        "X_cat_so = lb_cat_so.fit_transform(mercari_df['cat_so'])"
      ],
      "metadata": {
        "id": "R_4pFcC87x3h"
      },
      "execution_count": 15,
      "outputs": []
    },
    {
      "cell_type": "code",
      "source": [
        "# 인코딩 데이터 세트 타입과 shape 확인\n",
        "print(type(X_brand), type(X_item_cond_id), type(X_shipping))\n",
        "print('X_brand_shape:{0}, X_item_cond_id shape:{1}'.format(X_brand.shape, X_item_cond_id.shape))\n",
        "print('X_shipping shape:{0}, X_cat_dae shape:{1}'.format(X_shipping.shape, X_cat_dae.shape))\n",
        "print('X_cat_jung shape:{0}, X_cat_so shape:{1}'.format(X_cat_jung.shape, X_cat_so.shape))"
      ],
      "metadata": {
        "colab": {
          "base_uri": "https://localhost:8080/"
        },
        "id": "O7H2I6177_qs",
        "outputId": "f4e5440e-daa2-48a5-b3da-682c58f1980a"
      },
      "execution_count": 16,
      "outputs": [
        {
          "output_type": "stream",
          "name": "stdout",
          "text": [
            "<class 'scipy.sparse.csr.csr_matrix'> <class 'scipy.sparse.csr.csr_matrix'> <class 'scipy.sparse.csr.csr_matrix'>\n",
            "X_brand_shape:(1482535, 4810), X_item_cond_id shape:(1482535, 5)\n",
            "X_shipping shape:(1482535, 1), X_cat_dae shape:(1482535, 11)\n",
            "X_cat_jung shape:(1482535, 114), X_cat_so shape:(1482535, 871)\n"
          ]
        }
      ]
    },
    {
      "cell_type": "markdown",
      "source": [
        "* 인코딩 변환된 데이터 세트 : csr_matrix 타입"
      ],
      "metadata": {
        "id": "3tfB0y1Fb4nF"
      }
    },
    {
      "cell_type": "markdown",
      "source": [
        "피처 벡터화 변환한 데이터 세트와 희소 인코딩 변환된 데이터 세트 결합"
      ],
      "metadata": {
        "id": "jtUcIx9Lbe9k"
      }
    },
    {
      "cell_type": "code",
      "source": [
        "from  scipy.sparse import hstack\n",
        "import gc\n",
        "\n",
        "sparse_matrix_list = (X_name, X_descp, X_brand, X_item_cond_id,\n",
        "                      X_shipping, X_cat_dae, X_cat_jung, X_cat_so)\n",
        "\n",
        "# hstack 함수를 이용해 인코딩과 벡터화를 수행한 데이터 세트를 모두 결합\n",
        "X_features_sparse= hstack(sparse_matrix_list).tocsr()\n",
        "print(type(X_features_sparse), X_features_sparse.shape)\n",
        "\n",
        "# 데이터 세트가 메모리를 많이 차지하므로 사용 목적이 끝났으면 바로 메모리에서 삭제\n",
        "del X_features_sparse\n",
        "gc.collect()"
      ],
      "metadata": {
        "colab": {
          "base_uri": "https://localhost:8080/"
        },
        "id": "_efX8geb8Gzf",
        "outputId": "5d541988-f4e9-49f5-fa67-59ff896db506"
      },
      "execution_count": 17,
      "outputs": [
        {
          "output_type": "stream",
          "name": "stdout",
          "text": [
            "<class 'scipy.sparse.csr.csr_matrix'> (1482535, 161569)\n"
          ]
        },
        {
          "output_type": "execute_result",
          "data": {
            "text/plain": [
              "0"
            ]
          },
          "metadata": {},
          "execution_count": 17
        }
      ]
    },
    {
      "cell_type": "markdown",
      "source": [
        "* csr_matrix 타입\n",
        "* 총 161569개의 피처"
      ],
      "metadata": {
        "id": "BOv-HAoueHTV"
      }
    },
    {
      "cell_type": "markdown",
      "source": [
        "#### 릿지 회귀 모델 구축 및 평가"
      ],
      "metadata": {
        "id": "_f5wikSR8ajq"
      }
    },
    {
      "cell_type": "markdown",
      "source": [
        "모델 평가 로직 함수화"
      ],
      "metadata": {
        "id": "tHAr76RJeUz8"
      }
    },
    {
      "cell_type": "markdown",
      "source": [
        "* 적용 평가 지표 : RMSLE(Root Mean Square Logarithmic Error)\n",
        "  - RMSE와 유사하나 오류 값에 로그 취해 RMSE 구하는 방식\n",
        "  - 낮은 가격보다 높은 가격에서 오류가 발생할 경우 오류 값이 더 커지는 것을 억제하기 위해 도입\n",
        "\n",
        "  ![image.png](data:image/png;base64,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)"
      ],
      "metadata": {
        "id": "c62lymR_eYtl"
      }
    },
    {
      "cell_type": "code",
      "source": [
        "def rmsle(y , y_pred):\n",
        "    # underflow, overflow를 막기 위해 log가 아닌 log1p로 rmsle 계산 \n",
        "    return np.sqrt(np.mean(np.power(np.log1p(y) - np.log1p(y_pred), 2)))\n",
        "\n",
        "def evaluate_org_price(y_test , preds): \n",
        "    \n",
        "    # 원본 데이터는 log1p로 변환되었으므로 exmpm1으로 원복 필요\n",
        "    preds_exmpm = np.expm1(preds)\n",
        "    y_test_exmpm = np.expm1(y_test)\n",
        "    \n",
        "    # rmsle로 RMSLE 값 추출\n",
        "    rmsle_result = rmsle(y_test_exmpm, preds_exmpm)\n",
        "    return rmsle_result"
      ],
      "metadata": {
        "id": "rYYJDI888X6I"
      },
      "execution_count": 18,
      "outputs": []
    },
    {
      "cell_type": "markdown",
      "source": [
        "모델 학습/예측 로직 함수화"
      ],
      "metadata": {
        "id": "m4GOqrDDfEEX"
      }
    },
    {
      "cell_type": "code",
      "source": [
        "import gc \n",
        "from  scipy.sparse import hstack\n",
        "\n",
        "def model_train_predict(model, matrix_list): # model : 회귀 estimator 객체, matrix_list : 최종 데이터 세트로 결합할 희소 행렬 리스트 \n",
        "    # scipy.sparse 모듈의 hstack을 이용해 희소 행렬 결합\n",
        "    X = hstack(matrix_list).tocsr()     \n",
        "    \n",
        "    X_train, X_test, y_train, y_test = train_test_split(X, mercari_df['price'], \n",
        "                                                        test_size=0.2, random_state=156)\n",
        "    \n",
        "    # 모델 학습 및 예측\n",
        "    model.fit(X_train , y_train)\n",
        "    preds = model.predict(X_test)\n",
        "    \n",
        "    del X, X_train, X_test, y_train \n",
        "    gc.collect()\n",
        "    \n",
        "    return preds, y_test"
      ],
      "metadata": {
        "id": "oqf1AJY-8kFo"
      },
      "execution_count": 19,
      "outputs": []
    },
    {
      "cell_type": "markdown",
      "source": [
        "Ridge 이용해 Mercari Price의 회귀 예측 수행"
      ],
      "metadata": {
        "id": "-inwzbS6fguP"
      }
    },
    {
      "cell_type": "code",
      "source": [
        "linear_model = Ridge(solver = \"lsqr\", fit_intercept=False)\n",
        "\n",
        "# Mercari 상품 가격 예측에 텍스트 형태의 속성(item_description)이 미치는 영향 확인\n",
        "sparse_matrix_list = (X_name, X_brand, X_item_cond_id,\n",
        "                      X_shipping, X_cat_dae, X_cat_jung, X_cat_so)\n",
        "linear_preds, y_test = model_train_predict(model=linear_model, matrix_list=sparse_matrix_list)\n",
        "print('Item Description을 제외했을 때 rmsle 값:', evaluate_org_price(y_test, linear_preds))\n",
        "\n",
        "sparse_matrix_list = (X_descp, X_name, X_brand, X_item_cond_id,\n",
        "                      X_shipping, X_cat_dae, X_cat_jung, X_cat_so)\n",
        "linear_preds, y_test = model_train_predict(model=linear_model, matrix_list=sparse_matrix_list)\n",
        "print('Item Description을 포함한 rmsle 값:', evaluate_org_price(y_test, linear_preds))"
      ],
      "metadata": {
        "colab": {
          "base_uri": "https://localhost:8080/"
        },
        "id": "2aAXnt1s8yqG",
        "outputId": "d8936139-c923-490c-c0a7-1ad7bba0386f"
      },
      "execution_count": 20,
      "outputs": [
        {
          "output_type": "stream",
          "name": "stdout",
          "text": [
            "Item Description을 제외했을 때 rmsle 값: 0.5023727038010544\n",
            "Item Description을 포함한 rmsle 값: 0.4712195143433641\n"
          ]
        }
      ]
    },
    {
      "cell_type": "markdown",
      "source": [
        "* Item Description을 포함했을 때 rmsle 값이 많이 감소\n",
        "\n",
        "  -> Item Description 중요"
      ],
      "metadata": {
        "id": "_npzbbsif-DQ"
      }
    },
    {
      "cell_type": "markdown",
      "source": [
        "#### LightGBM 회귀 모델 구축과 앙상블을 이용한 최종 예측 평가"
      ],
      "metadata": {
        "id": "VhTcSJcm9DXZ"
      }
    },
    {
      "cell_type": "markdown",
      "source": [
        "LightGBM 회귀 수행"
      ],
      "metadata": {
        "id": "izE5xQ-xgbQc"
      }
    },
    {
      "cell_type": "code",
      "source": [
        "from lightgbm import LGBMRegressor\n",
        "\n",
        "sparse_matrix_list = (X_descp, X_name, X_brand, X_item_cond_id,\n",
        "                      X_shipping, X_cat_dae, X_cat_jung, X_cat_so)\n",
        "\n",
        "lgbm_model = LGBMRegressor(n_estimators=200, learning_rate=0.5, num_leaves=125, random_state=156)\n",
        "lgbm_preds, y_test = model_train_predict(model=lgbm_model, matrix_list=sparse_matrix_list)\n",
        "print('LightGBM rmsle 값:', evaluate_org_price(y_test, lgbm_preds))"
      ],
      "metadata": {
        "colab": {
          "base_uri": "https://localhost:8080/"
        },
        "id": "R6c9mtq09HnA",
        "outputId": "5b698df8-fa4c-4841-d785-64b985224f0a"
      },
      "execution_count": 21,
      "outputs": [
        {
          "output_type": "stream",
          "name": "stdout",
          "text": [
            "LightGBM rmsle 값: 0.45719580244261243\n"
          ]
        }
      ]
    },
    {
      "cell_type": "markdown",
      "source": [
        "* Ridge보다 예측 성능이 더 나아짐"
      ],
      "metadata": {
        "id": "CKmJEqk7gnUB"
      }
    },
    {
      "cell_type": "markdown",
      "source": [
        "LightGBM 예측 결괏값과 Ridge 예측 결괏값을 앙상블해 최종 예측 결괏값 도출"
      ],
      "metadata": {
        "id": "pBqlmXY5gq2o"
      }
    },
    {
      "cell_type": "code",
      "source": [
        "preds = lgbm_preds * 0.45 + linear_preds * 0.55\n",
        "print('LightGBM과 Ridge를 ensemble한 최종 rmsle 값:', evaluate_org_price(y_test, preds))"
      ],
      "metadata": {
        "colab": {
          "base_uri": "https://localhost:8080/"
        },
        "id": "5NGjGuHO9CXA",
        "outputId": "24c98e29-d5ad-4225-8b54-84789f7faee1"
      },
      "execution_count": 22,
      "outputs": [
        {
          "output_type": "stream",
          "name": "stdout",
          "text": [
            "LightGBM과 Ridge를 ensemble한 최종 rmsle 값: 0.4507259214329315\n"
          ]
        }
      ]
    },
    {
      "cell_type": "markdown",
      "source": [
        "* 앙상블 방식으로 예측 성능 더 개선"
      ],
      "metadata": {
        "id": "X7ub3F-yg6JB"
      }
    }
  ]
}